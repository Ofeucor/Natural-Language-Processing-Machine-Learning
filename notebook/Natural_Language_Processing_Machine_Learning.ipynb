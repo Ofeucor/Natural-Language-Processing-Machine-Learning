{
  "nbformat": 4,
  "nbformat_minor": 0,
  "metadata": {
    "colab": {
      "name": "Natural Language Processing - Machine Learning",
      "provenance": [],
      "collapsed_sections": [
        "N-gyMF3AHFgm",
        "TV7MMn9yEfJC"
      ],
      "toc_visible": true,
      "machine_shape": "hm"
    },
    "kernelspec": {
      "name": "python3",
      "display_name": "Python 3"
    }
  },
  "cells": [
    {
      "cell_type": "markdown",
      "metadata": {
        "id": "PD1XPTODBWio"
      },
      "source": [
        "## Libraries and tools\r\n",
        "\r\n"
      ]
    },
    {
      "cell_type": "markdown",
      "metadata": {
        "id": "s2kADwk28gSH"
      },
      "source": [
        "Import/download libraries and tools needed to carry out our tasks."
      ]
    },
    {
      "cell_type": "code",
      "metadata": {
        "colab": {
          "base_uri": "https://localhost:8080/"
        },
        "id": "zs1WXVqiMMDh",
        "outputId": "de39dfa6-2e1d-4b74-9388-e8b008e2fea6"
      },
      "source": [
        "pip install nltk"
      ],
      "execution_count": 1,
      "outputs": [
        {
          "output_type": "stream",
          "text": [
            "Requirement already satisfied: nltk in /usr/local/lib/python3.6/dist-packages (3.2.5)\n",
            "Requirement already satisfied: six in /usr/local/lib/python3.6/dist-packages (from nltk) (1.15.0)\n"
          ],
          "name": "stdout"
        }
      ]
    },
    {
      "cell_type": "code",
      "metadata": {
        "colab": {
          "base_uri": "https://localhost:8080/"
        },
        "id": "ADcVL-lOQ64L",
        "outputId": "cbed6e86-fb3d-45a6-e0b5-49efa2335841"
      },
      "source": [
        "pip install contractions"
      ],
      "execution_count": 2,
      "outputs": [
        {
          "output_type": "stream",
          "text": [
            "Requirement already satisfied: contractions in /usr/local/lib/python3.6/dist-packages (0.0.45)\n",
            "Requirement already satisfied: textsearch in /usr/local/lib/python3.6/dist-packages (from contractions) (0.0.17)\n",
            "Requirement already satisfied: Unidecode in /usr/local/lib/python3.6/dist-packages (from textsearch->contractions) (1.1.2)\n",
            "Requirement already satisfied: pyahocorasick in /usr/local/lib/python3.6/dist-packages (from textsearch->contractions) (1.4.0)\n"
          ],
          "name": "stdout"
        }
      ]
    },
    {
      "cell_type": "code",
      "metadata": {
        "colab": {
          "base_uri": "https://localhost:8080/"
        },
        "id": "FNlcEZvBO8O5",
        "outputId": "cf4925bb-9983-4f50-ba39-d92fc0cab01b"
      },
      "source": [
        "pip install pyspellchecker"
      ],
      "execution_count": 3,
      "outputs": [
        {
          "output_type": "stream",
          "text": [
            "Requirement already satisfied: pyspellchecker in /usr/local/lib/python3.6/dist-packages (0.5.6)\n"
          ],
          "name": "stdout"
        }
      ]
    },
    {
      "cell_type": "code",
      "metadata": {
        "colab": {
          "base_uri": "https://localhost:8080/"
        },
        "id": "2uQw3L_sJOq3",
        "outputId": "8e5e7c08-9467-4e3d-d09b-f8c8c7b97257"
      },
      "source": [
        "# Data load and manipulation\n",
        "from google.colab import files\n",
        "import io\n",
        " \n",
        "# DataFrame librery\n",
        "import pandas as pd\n",
        " \n",
        "# Visualization \n",
        "import matplotlib.pyplot as plt\n",
        "import seaborn as sns\n",
        "import plotly.express as px\n",
        "import plotly.graph_objects as go\n",
        "\n",
        "# Basic Operations\n",
        "import numpy as np\n",
        "import itertools\n",
        "import pickle\n",
        "import pandas as pd\n",
        "\n",
        "# Prepocessing\n",
        "import re\n",
        "from sklearn import preprocessing \n",
        "from sklearn.decomposition import PCA\n",
        "from sklearn.impute import KNNImputer\n",
        "from collections import Counter\n",
        "from spellchecker import SpellChecker\n",
        "from contractions import contractions_dict\n",
        "import contractions\n",
        "\n",
        "from imblearn.over_sampling import SMOTE\n",
        "\n",
        "# Models\n",
        "from sklearn.model_selection import GroupShuffleSplit, train_test_split, GridSearchCV, KFold\n",
        "from sklearn.naive_bayes import GaussianNB, MultinomialNB, BernoulliNB, ComplementNB\n",
        "from sklearn.metrics import accuracy_score, classification_report, confusion_matrix\n",
        "from sklearn.svm import SVC\n",
        "from sklearn.decomposition import PCA\n",
        "from sklearn.pipeline import make_pipeline\n",
        "from sklearn.datasets import make_blobs\n",
        "\n",
        "# Feature Selection\n",
        "from sklearn.feature_selection import SelectKBest, chi2, f_regression\n",
        "\n",
        "# Natural Language Processing Tools\n",
        "import nltk\n",
        "from nltk.tokenize.treebank import TreebankWordDetokenizer\n",
        "from nltk.tokenize import word_tokenize\n",
        "from nltk.corpus import stopwords\n",
        "from nltk.stem import WordNetLemmatizer\n",
        "from nltk.util import ngrams\n",
        "from nltk.sentiment.vader import SentimentIntensityAnalyzer\n",
        "from sklearn.feature_extraction.text import CountVectorizer, TfidfVectorizer\n",
        "\n",
        "nltk.download('punkt')\n",
        "nltk.download('stopwords')\n",
        "nltk.download('wordnet')\n",
        "nltk.download(\"popular\")\n",
        "nltk.download('vader_lexicon') #sentiment analysis\n",
        "nltk.download('averaged_perceptron_tagger')"
      ],
      "execution_count": 4,
      "outputs": [
        {
          "output_type": "stream",
          "text": [
            "/usr/local/lib/python3.6/dist-packages/sklearn/externals/six.py:31: FutureWarning:\n",
            "\n",
            "The module is deprecated in version 0.21 and will be removed in version 0.23 since we've dropped support for Python 2.7. Please rely on the official version of six (https://pypi.org/project/six/).\n",
            "\n",
            "/usr/local/lib/python3.6/dist-packages/sklearn/utils/deprecation.py:144: FutureWarning:\n",
            "\n",
            "The sklearn.neighbors.base module is  deprecated in version 0.22 and will be removed in version 0.24. The corresponding classes / functions should instead be imported from sklearn.neighbors. Anything that cannot be imported from sklearn.neighbors is now part of the private API.\n",
            "\n",
            "/usr/local/lib/python3.6/dist-packages/nltk/twitter/__init__.py:20: UserWarning:\n",
            "\n",
            "The twython library has not been installed. Some functionality from the twitter package will not be available.\n",
            "\n"
          ],
          "name": "stderr"
        },
        {
          "output_type": "stream",
          "text": [
            "[nltk_data] Downloading package punkt to /root/nltk_data...\n",
            "[nltk_data]   Package punkt is already up-to-date!\n",
            "[nltk_data] Downloading package stopwords to /root/nltk_data...\n",
            "[nltk_data]   Package stopwords is already up-to-date!\n",
            "[nltk_data] Downloading package wordnet to /root/nltk_data...\n",
            "[nltk_data]   Package wordnet is already up-to-date!\n",
            "[nltk_data] Downloading collection 'popular'\n",
            "[nltk_data]    | \n",
            "[nltk_data]    | Downloading package cmudict to /root/nltk_data...\n",
            "[nltk_data]    |   Package cmudict is already up-to-date!\n",
            "[nltk_data]    | Downloading package gazetteers to /root/nltk_data...\n",
            "[nltk_data]    |   Package gazetteers is already up-to-date!\n",
            "[nltk_data]    | Downloading package genesis to /root/nltk_data...\n",
            "[nltk_data]    |   Package genesis is already up-to-date!\n",
            "[nltk_data]    | Downloading package gutenberg to /root/nltk_data...\n",
            "[nltk_data]    |   Package gutenberg is already up-to-date!\n",
            "[nltk_data]    | Downloading package inaugural to /root/nltk_data...\n",
            "[nltk_data]    |   Package inaugural is already up-to-date!\n",
            "[nltk_data]    | Downloading package movie_reviews to\n",
            "[nltk_data]    |     /root/nltk_data...\n",
            "[nltk_data]    |   Package movie_reviews is already up-to-date!\n",
            "[nltk_data]    | Downloading package names to /root/nltk_data...\n",
            "[nltk_data]    |   Package names is already up-to-date!\n",
            "[nltk_data]    | Downloading package shakespeare to /root/nltk_data...\n",
            "[nltk_data]    |   Package shakespeare is already up-to-date!\n",
            "[nltk_data]    | Downloading package stopwords to /root/nltk_data...\n",
            "[nltk_data]    |   Package stopwords is already up-to-date!\n",
            "[nltk_data]    | Downloading package treebank to /root/nltk_data...\n",
            "[nltk_data]    |   Package treebank is already up-to-date!\n",
            "[nltk_data]    | Downloading package twitter_samples to\n",
            "[nltk_data]    |     /root/nltk_data...\n",
            "[nltk_data]    |   Package twitter_samples is already up-to-date!\n",
            "[nltk_data]    | Downloading package omw to /root/nltk_data...\n",
            "[nltk_data]    |   Package omw is already up-to-date!\n",
            "[nltk_data]    | Downloading package wordnet to /root/nltk_data...\n",
            "[nltk_data]    |   Package wordnet is already up-to-date!\n",
            "[nltk_data]    | Downloading package wordnet_ic to /root/nltk_data...\n",
            "[nltk_data]    |   Package wordnet_ic is already up-to-date!\n",
            "[nltk_data]    | Downloading package words to /root/nltk_data...\n",
            "[nltk_data]    |   Package words is already up-to-date!\n",
            "[nltk_data]    | Downloading package maxent_ne_chunker to\n",
            "[nltk_data]    |     /root/nltk_data...\n",
            "[nltk_data]    |   Package maxent_ne_chunker is already up-to-date!\n",
            "[nltk_data]    | Downloading package punkt to /root/nltk_data...\n",
            "[nltk_data]    |   Package punkt is already up-to-date!\n",
            "[nltk_data]    | Downloading package snowball_data to\n",
            "[nltk_data]    |     /root/nltk_data...\n",
            "[nltk_data]    |   Package snowball_data is already up-to-date!\n",
            "[nltk_data]    | Downloading package averaged_perceptron_tagger to\n",
            "[nltk_data]    |     /root/nltk_data...\n",
            "[nltk_data]    |   Package averaged_perceptron_tagger is already up-\n",
            "[nltk_data]    |       to-date!\n",
            "[nltk_data]    | \n",
            "[nltk_data]  Done downloading collection popular\n",
            "[nltk_data] Downloading package vader_lexicon to /root/nltk_data...\n",
            "[nltk_data]   Package vader_lexicon is already up-to-date!\n",
            "[nltk_data] Downloading package averaged_perceptron_tagger to\n",
            "[nltk_data]     /root/nltk_data...\n",
            "[nltk_data]   Package averaged_perceptron_tagger is already up-to-\n",
            "[nltk_data]       date!\n"
          ],
          "name": "stdout"
        },
        {
          "output_type": "execute_result",
          "data": {
            "text/plain": [
              "True"
            ]
          },
          "metadata": {
            "tags": []
          },
          "execution_count": 4
        }
      ]
    },
    {
      "cell_type": "markdown",
      "metadata": {
        "id": "PR6tHSpK9TWS"
      },
      "source": [
        "\r\n",
        "## Data loading"
      ]
    },
    {
      "cell_type": "markdown",
      "metadata": {
        "id": "Tj7VtSz281xL"
      },
      "source": [
        "First, we define a method to perform the data load."
      ]
    },
    {
      "cell_type": "code",
      "metadata": {
        "id": "Dw6FhHn0Jusd"
      },
      "source": [
        "def upload_files (index_fields = None):\n",
        "  uploaded = files.upload()\n",
        "  for fn in uploaded.keys():\n",
        "    print('User uploaded file \"{name}\" with length {length} bytes'.format(\n",
        "        name=fn, length=len(uploaded[fn])))\n",
        "    if index_fields:\n",
        "      df = pd.read_csv(io.StringIO(uploaded[fn].decode('utf-8')), index_col = index_fields)\n",
        "    else:\n",
        "      df = pd.read_csv(io.StringIO(uploaded[fn].decode('utf-8')))\n",
        "    return df"
      ],
      "execution_count": 6,
      "outputs": []
    },
    {
      "cell_type": "markdown",
      "metadata": {
        "id": "WxDLGC-z1TN2"
      },
      "source": [
        "We upload the hatred tweets labeled dataset which we'll use to train our models."
      ]
    },
    {
      "cell_type": "code",
      "metadata": {
        "colab": {
          "resources": {
            "http://localhost:8080/nbextensions/google.colab/files.js": {
              "data": "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",
              "ok": true,
              "headers": [
                [
                  "content-type",
                  "application/javascript"
                ]
              ],
              "status": 200,
              "status_text": ""
            }
          },
          "base_uri": "https://localhost:8080/",
          "height": 293
        },
        "id": "762jodMZ1TOB",
        "outputId": "64d2af77-364d-4d17-c2af-ceddbbd438e9"
      },
      "source": [
        "print(\"Please, upload 'labeled_data.csv' file\")\n",
        "labeled_tweets = upload_files(['Unnamed: 0'])\n",
        "labeled_tweets.head()"
      ],
      "execution_count": 8,
      "outputs": [
        {
          "output_type": "stream",
          "text": [
            "Please, upload 'labeled_data.csv' file\n"
          ],
          "name": "stdout"
        },
        {
          "output_type": "display_data",
          "data": {
            "text/html": [
              "\n",
              "     <input type=\"file\" id=\"files-b87636be-760f-4b62-9605-6c5ca48af8cb\" name=\"files[]\" multiple disabled\n",
              "        style=\"border:none\" />\n",
              "     <output id=\"result-b87636be-760f-4b62-9605-6c5ca48af8cb\">\n",
              "      Upload widget is only available when the cell has been executed in the\n",
              "      current browser session. Please rerun this cell to enable.\n",
              "      </output>\n",
              "      <script src=\"/nbextensions/google.colab/files.js\"></script> "
            ],
            "text/plain": [
              "<IPython.core.display.HTML object>"
            ]
          },
          "metadata": {
            "tags": []
          }
        },
        {
          "output_type": "stream",
          "text": [
            "Saving labeled_data.csv to labeled_data.csv\n",
            "User uploaded file \"labeled_data.csv\" with length 2546446 bytes\n"
          ],
          "name": "stdout"
        },
        {
          "output_type": "execute_result",
          "data": {
            "text/html": [
              "<div>\n",
              "<style scoped>\n",
              "    .dataframe tbody tr th:only-of-type {\n",
              "        vertical-align: middle;\n",
              "    }\n",
              "\n",
              "    .dataframe tbody tr th {\n",
              "        vertical-align: top;\n",
              "    }\n",
              "\n",
              "    .dataframe thead th {\n",
              "        text-align: right;\n",
              "    }\n",
              "</style>\n",
              "<table border=\"1\" class=\"dataframe\">\n",
              "  <thead>\n",
              "    <tr style=\"text-align: right;\">\n",
              "      <th></th>\n",
              "      <th>count</th>\n",
              "      <th>hate_speech</th>\n",
              "      <th>offensive_language</th>\n",
              "      <th>neither</th>\n",
              "      <th>class</th>\n",
              "      <th>tweet</th>\n",
              "    </tr>\n",
              "  </thead>\n",
              "  <tbody>\n",
              "    <tr>\n",
              "      <th>0</th>\n",
              "      <td>3</td>\n",
              "      <td>0</td>\n",
              "      <td>0</td>\n",
              "      <td>3</td>\n",
              "      <td>2</td>\n",
              "      <td>!!! RT @mayasolovely: As a woman you shouldn't...</td>\n",
              "    </tr>\n",
              "    <tr>\n",
              "      <th>1</th>\n",
              "      <td>3</td>\n",
              "      <td>0</td>\n",
              "      <td>3</td>\n",
              "      <td>0</td>\n",
              "      <td>1</td>\n",
              "      <td>!!!!! RT @mleew17: boy dats cold...tyga dwn ba...</td>\n",
              "    </tr>\n",
              "    <tr>\n",
              "      <th>2</th>\n",
              "      <td>3</td>\n",
              "      <td>0</td>\n",
              "      <td>3</td>\n",
              "      <td>0</td>\n",
              "      <td>1</td>\n",
              "      <td>!!!!!!! RT @UrKindOfBrand Dawg!!!! RT @80sbaby...</td>\n",
              "    </tr>\n",
              "    <tr>\n",
              "      <th>3</th>\n",
              "      <td>3</td>\n",
              "      <td>0</td>\n",
              "      <td>2</td>\n",
              "      <td>1</td>\n",
              "      <td>1</td>\n",
              "      <td>!!!!!!!!! RT @C_G_Anderson: @viva_based she lo...</td>\n",
              "    </tr>\n",
              "    <tr>\n",
              "      <th>4</th>\n",
              "      <td>6</td>\n",
              "      <td>0</td>\n",
              "      <td>6</td>\n",
              "      <td>0</td>\n",
              "      <td>1</td>\n",
              "      <td>!!!!!!!!!!!!! RT @ShenikaRoberts: The shit you...</td>\n",
              "    </tr>\n",
              "  </tbody>\n",
              "</table>\n",
              "</div>"
            ],
            "text/plain": [
              "   count  hate_speech  ...  class                                              tweet\n",
              "0      3            0  ...      2  !!! RT @mayasolovely: As a woman you shouldn't...\n",
              "1      3            0  ...      1  !!!!! RT @mleew17: boy dats cold...tyga dwn ba...\n",
              "2      3            0  ...      1  !!!!!!! RT @UrKindOfBrand Dawg!!!! RT @80sbaby...\n",
              "3      3            0  ...      1  !!!!!!!!! RT @C_G_Anderson: @viva_based she lo...\n",
              "4      6            0  ...      1  !!!!!!!!!!!!! RT @ShenikaRoberts: The shit you...\n",
              "\n",
              "[5 rows x 6 columns]"
            ]
          },
          "metadata": {
            "tags": []
          },
          "execution_count": 8
        }
      ]
    },
    {
      "cell_type": "markdown",
      "metadata": {
        "id": "Xq6s5CO41TOF"
      },
      "source": [
        "We upload a big text that will allow us to apply spelling correction."
      ]
    },
    {
      "cell_type": "code",
      "metadata": {
        "colab": {
          "resources": {
            "http://localhost:8080/nbextensions/google.colab/files.js": {
              "data": "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",
              "ok": true,
              "headers": [
                [
                  "content-type",
                  "application/javascript"
                ]
              ],
              "status": 200,
              "status_text": ""
            }
          },
          "base_uri": "https://localhost:8080/",
          "height": 89
        },
        "id": "K3MW4LMY1TOG",
        "outputId": "c8bf6678-b866-4280-e35e-fe69d5670ff8"
      },
      "source": [
        "print(\"Please, upload 'big.txt' file\")\n",
        "uploaded = files.upload()\n",
        "\n",
        "file_name = \"big.txt\"\n",
        "raw = uploaded[file_name].decode(\"utf-8\")"
      ],
      "execution_count": 9,
      "outputs": [
        {
          "output_type": "stream",
          "text": [
            "Please, upload 'big.txt' file\n"
          ],
          "name": "stdout"
        },
        {
          "output_type": "display_data",
          "data": {
            "text/html": [
              "\n",
              "     <input type=\"file\" id=\"files-ccb7d508-fe08-4f3c-b33f-86ba67161aca\" name=\"files[]\" multiple disabled\n",
              "        style=\"border:none\" />\n",
              "     <output id=\"result-ccb7d508-fe08-4f3c-b33f-86ba67161aca\">\n",
              "      Upload widget is only available when the cell has been executed in the\n",
              "      current browser session. Please rerun this cell to enable.\n",
              "      </output>\n",
              "      <script src=\"/nbextensions/google.colab/files.js\"></script> "
            ],
            "text/plain": [
              "<IPython.core.display.HTML object>"
            ]
          },
          "metadata": {
            "tags": []
          }
        },
        {
          "output_type": "stream",
          "text": [
            "Saving big.txt to big.txt\n"
          ],
          "name": "stdout"
        }
      ]
    },
    {
      "cell_type": "markdown",
      "metadata": {
        "id": "qvLUHdXq1TOH"
      },
      "source": [
        "We also uploaded a dictionary that contains equivalents between concrete  N-grams and hatred."
      ]
    },
    {
      "cell_type": "code",
      "metadata": {
        "colab": {
          "resources": {
            "http://localhost:8080/nbextensions/google.colab/files.js": {
              "data": "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",
              "ok": true,
              "headers": [
                [
                  "content-type",
                  "application/javascript"
                ]
              ],
              "status": 200,
              "status_text": ""
            }
          },
          "base_uri": "https://localhost:8080/",
          "height": 276
        },
        "id": "ShXuxe0O1TOI",
        "outputId": "c738f33a-cb6f-4639-9d25-3595406a4d05"
      },
      "source": [
        "print(\"Please, upload 'refined_ngram_dict.csv' file\")\n",
        "ngram_dict = upload_files()\n",
        "ngram_dict.head()"
      ],
      "execution_count": null,
      "outputs": [
        {
          "output_type": "stream",
          "text": [
            "Please, upload 'refined_ngram_dict.csv' file\n"
          ],
          "name": "stdout"
        },
        {
          "output_type": "display_data",
          "data": {
            "text/html": [
              "\n",
              "     <input type=\"file\" id=\"files-26cb8e96-a9a0-405d-8f41-1a600bcfa2fb\" name=\"files[]\" multiple disabled\n",
              "        style=\"border:none\" />\n",
              "     <output id=\"result-26cb8e96-a9a0-405d-8f41-1a600bcfa2fb\">\n",
              "      Upload widget is only available when the cell has been executed in the\n",
              "      current browser session. Please rerun this cell to enable.\n",
              "      </output>\n",
              "      <script src=\"/nbextensions/google.colab/files.js\"></script> "
            ],
            "text/plain": [
              "<IPython.core.display.HTML object>"
            ]
          },
          "metadata": {
            "tags": []
          }
        },
        {
          "output_type": "stream",
          "text": [
            "Saving refined_ngram_dict.csv to refined_ngram_dict.csv\n",
            "User uploaded file \"refined_ngram_dict.csv\" with length 3178 bytes\n"
          ],
          "name": "stdout"
        },
        {
          "output_type": "execute_result",
          "data": {
            "text/html": [
              "<div>\n",
              "<style scoped>\n",
              "    .dataframe tbody tr th:only-of-type {\n",
              "        vertical-align: middle;\n",
              "    }\n",
              "\n",
              "    .dataframe tbody tr th {\n",
              "        vertical-align: top;\n",
              "    }\n",
              "\n",
              "    .dataframe thead th {\n",
              "        text-align: right;\n",
              "    }\n",
              "</style>\n",
              "<table border=\"1\" class=\"dataframe\">\n",
              "  <thead>\n",
              "    <tr style=\"text-align: right;\">\n",
              "      <th></th>\n",
              "      <th>ngram</th>\n",
              "      <th>prophate</th>\n",
              "    </tr>\n",
              "  </thead>\n",
              "  <tbody>\n",
              "    <tr>\n",
              "      <th>0</th>\n",
              "      <td>allah akbar</td>\n",
              "      <td>0.870</td>\n",
              "    </tr>\n",
              "    <tr>\n",
              "      <th>1</th>\n",
              "      <td>blacks</td>\n",
              "      <td>0.583</td>\n",
              "    </tr>\n",
              "    <tr>\n",
              "      <th>2</th>\n",
              "      <td>chink</td>\n",
              "      <td>0.467</td>\n",
              "    </tr>\n",
              "    <tr>\n",
              "      <th>3</th>\n",
              "      <td>chinks</td>\n",
              "      <td>0.542</td>\n",
              "    </tr>\n",
              "    <tr>\n",
              "      <th>4</th>\n",
              "      <td>dykes</td>\n",
              "      <td>0.602</td>\n",
              "    </tr>\n",
              "  </tbody>\n",
              "</table>\n",
              "</div>"
            ],
            "text/plain": [
              "         ngram  prophate\n",
              "0  allah akbar     0.870\n",
              "1       blacks     0.583\n",
              "2        chink     0.467\n",
              "3       chinks     0.542\n",
              "4        dykes     0.602"
            ]
          },
          "metadata": {
            "tags": []
          },
          "execution_count": 7
        }
      ]
    },
    {
      "cell_type": "markdown",
      "metadata": {
        "id": "25GV6hxJIvi_"
      },
      "source": [
        "## Preprocessing & Transformation\r\n"
      ]
    },
    {
      "cell_type": "markdown",
      "metadata": {
        "id": "Jm9TiG1v4AFb"
      },
      "source": [
        "### Spelling Corrector Declarations"
      ]
    },
    {
      "cell_type": "markdown",
      "metadata": {
        "id": "RJ8zmfiWB1qG"
      },
      "source": [
        " We declare some methods that will be useful later to perform the spelling correction over the tokens found."
      ]
    },
    {
      "cell_type": "code",
      "metadata": {
        "id": "hznmnRAn4Rrq"
      },
      "source": [
        "def words(text): \r\n",
        "  return re.findall(r'\\w+', text.lower())"
      ],
      "execution_count": 10,
      "outputs": []
    },
    {
      "cell_type": "code",
      "metadata": {
        "id": "6nFFS-G14UbK"
      },
      "source": [
        "# Probability of a word\r\n",
        "WORDS = Counter(words(raw))\r\n",
        "def P(word, N=sum(WORDS.values())): \r\n",
        "    return WORDS[word] / N"
      ],
      "execution_count": 11,
      "outputs": []
    },
    {
      "cell_type": "code",
      "metadata": {
        "id": "OSMgl6_L4bLT"
      },
      "source": [
        "# Most likely word in correction\r\n",
        "def correction(word): \r\n",
        "    return max(candidates(word), key=P)"
      ],
      "execution_count": null,
      "outputs": []
    },
    {
      "cell_type": "code",
      "metadata": {
        "id": "OO6PJ4o-41Er"
      },
      "source": [
        "def candidates(word): \r\n",
        "    return (known([word]) or known(edits1(word)) or known(edits2(word)) or [word] or spellingPyhtonChecker(word))"
      ],
      "execution_count": null,
      "outputs": []
    },
    {
      "cell_type": "code",
      "metadata": {
        "id": "XCKkI-YB428j"
      },
      "source": [
        "def known(words): \r\n",
        "    return set(w for w in words if w in WORDS)"
      ],
      "execution_count": null,
      "outputs": []
    },
    {
      "cell_type": "code",
      "metadata": {
        "id": "PXE1srcg43cb"
      },
      "source": [
        "def edits1(word):\r\n",
        "    letters    = 'abcdefghijklmnopqrstuvwxyz'\r\n",
        "    splits     = [(word[:i], word[i:])    for i in range(len(word) + 1)]\r\n",
        "    deletes    = [L + R[1:]               for L, R in splits if R]\r\n",
        "    transposes = [L + R[1] + R[0] + R[2:] for L, R in splits if len(R)>1]\r\n",
        "    replaces   = [L + c + R[1:]           for L, R in splits if R for c in letters]\r\n",
        "    inserts    = [L + c + R               for L, R in splits for c in letters]\r\n",
        "    return set(deletes + transposes + replaces + inserts)"
      ],
      "execution_count": null,
      "outputs": []
    },
    {
      "cell_type": "code",
      "metadata": {
        "id": "gkjtA5jJ45IL"
      },
      "source": [
        "def edits2(word): \r\n",
        "    \"All edits that are two edits away from `word`.\"\r\n",
        "    return (e2 for e1 in edits1(word) for e2 in edits1(e1))"
      ],
      "execution_count": null,
      "outputs": []
    },
    {
      "cell_type": "code",
      "metadata": {
        "id": "uheGVzLo1A_6"
      },
      "source": [
        "def spellingPyhtonChecker(word):\r\n",
        "  spell = SpellChecker()\r\n",
        "  return spell.correction(word)"
      ],
      "execution_count": null,
      "outputs": []
    },
    {
      "cell_type": "markdown",
      "metadata": {
        "id": "N-gyMF3AHFgm"
      },
      "source": [
        "### Patterns Declarations"
      ]
    },
    {
      "cell_type": "markdown",
      "metadata": {
        "id": "QeS_S48vEEXb"
      },
      "source": [
        " We declare some patterns that will be useful later to identify and replace some special tokens in data."
      ]
    },
    {
      "cell_type": "code",
      "metadata": {
        "id": "jmOJPUbRHL6l"
      },
      "source": [
        "# Useful regular expresions\r\n",
        "user_re = '@[a-zA-Z0-9_]+:'\r\n",
        "mentions_re = '@[a-zA-Z0-9_]+'\r\n",
        "#enlaces_re = 'http:\\/\\/[\\/a-zA-Z09_\\.]+'\r\n",
        "enlaces_re = 'http\\S+|www\\S+|[A-Za-z0-9\\/.:]*\\.com(\\.[A-Za-z]+)*'\r\n",
        "hashtag_re = '#[a-zA-Z0-9_]+'\r\n",
        "rt_re = '\\!* RT'\r\n",
        "censured_re = '&#\\d+'\r\n",
        "number_re = ' \\d+ '\r\n",
        "\r\n",
        "# Useful dictionaries\r\n",
        "emojis = {':)' : 'smile', ';)' : 'wink', ':D' : 'big smile', '-.-' : 'bored', }\r\n",
        "contractions = { \r\n",
        "\"ain't\": \"am not / are not / is not / has not / have not\", \"aren't\": \"are not / am not\", \"can't\": \"cannot\", \"can't've\": \"cannot have\", \"'cause\": \"because\", \"could've\": \"could have\", \"couldn't\": \"could not\", \"couldn't've\": \"could not have\", \"didn't\": \"did not\",\r\n",
        " \"doesn't\": \"does not\", \"don't\": \"do not\", \"hadn't\": \"had not\", \"hadn't've\": \"had not have\", \"hasn't\": \"has not\", \"haven't\": \"have not\", \"he'd\": \"he had / he would\", \"he'd've\": \"he would have\", \"he'll\": \"he shall / he will\", \"he'll've\": \"he shall have / he will have\",\r\n",
        " \"he's\": \"he has / he is\", \"how'd\": \"how did\", \"how'd'y\": \"how do you\", \"how'll\": \"how will\", \"how's\": \"how has / how is / how does\", \"I'd\": \"I had / I would\", \"I'd've\": \"I would have\", \"I'll\": \"I shall / I will\", \"I'll've\": \"I shall have / I will have\",\r\n",
        " \"I'm\": \"I am\", \"I've\": \"I have\", \"isn't\": \"is not\", \"it'd\": \"it had / it would\", \"it'd've\": \"it would have\", \"it'll\": \"it shall / it will\", \"it'll've\": \"it shall have / it will have\", \"it's\": \"it has / it is\", \"let's\": \"let us\", \"ma'am\": \"madam\", \"mayn't\": \"may not\",\r\n",
        " \"might've\": \"might have\", \"mightn't\": \"might not\", \"mightn't've\": \"might not have\", \"must've\": \"must have\", \"mustn't\": \"must not\", \"mustn't've\": \"must not have\", \"needn't\": \"need not\", \"needn't've\": \"need not have\", \"o'clock\": \"of the clock\", \"oughtn't\": \"ought not\", \"oughtn't've\": \"ought not have\", \"shan't\": \"shall not\", \"sha'n't\": \"shall not\",\r\n",
        " \"shan't've\": \"shall not have\", \"she'd\": \"she had / she would\", \"she'd've\": \"she would have\", \"she'll\": \"she shall / she will\", \"she'll've\": \"she shall have / she will have\", \"she's\": \"she has / she is\", \"should've\": \"should have\", \"shouldn't\": \"should not\",\r\n",
        " \"shouldn't've\": \"should not have\", \"so've\": \"so have\", \"so's\": \"so as / so is\", \"that'd\": \"that would / that had\", \"that'd've\": \"that would have\", \"that's\": \"that has / that is\", \"there'd\": \"there had / there would\", \"there'd've\": \"there would have\", \"there's\": \"there has / there is\",\r\n",
        " \"they'd\": \"they had / they would\", \"they'd've\": \"they would have\", \"they'll\": \"they shall / they will\", \"they'll've\": \"they shall have / they will have\", \"they're\": \"they are\", \"they've\": \"they have\", \"to've\": \"to have\", \"wasn't\": \"was not\", \"we'd\": \"we had / we would\", \"we'd've\": \"we would have\", \"we'll\": \"we will\",\r\n",
        " \"we'll've\": \"we will have\", \"we're\": \"we are\", \"we've\": \"we have\", \"weren't\": \"were not\", \"what'll\": \"what shall / what will\", \"what'll've\": \"what shall have / what will have\", \"what're\": \"what are\", \"what's\": \"what has / what is\", \"what've\": \r\n",
        " \"what have\", \"when's\": \"when has / when is\", \"when've\": \"when have\", \"where'd\": \"where did\", \"where's\": \"where has / where is\", \"where've\": \"where have\", \"who'll\": \"who shall / who will\", \"who'll've\": \"who shall have / who will have\", \"who's\": \"who has / who is\", \"who've\": \"who have\",\r\n",
        " \"why's\": \"why has / why is\", \"why've\": \"why have\", \"will've\": \"will have\", \"won't\": \"will not\", \"won't've\": \"will not have\", \"would've\": \"would have\", \"wouldn't\": \"would not\", \"wouldn't've\": \"would not have\", \"y'all\": \"you all\", \"y'all'd\": \"you all would\",\r\n",
        " \"y'all'd've\": \"you all would have\", \"y'all're\": \"you all are\", \"y'all've\": \"you all have\", \"you'd\": \"you had / you would\", \"you'd've\": \"you would have\", \"you'll\": \"you shall / you will\", \"you'll've\": \"you shall have / you will have\", \"you're\": \"you are\", \"you've\": \"you have\"\r\n",
        "}\r\n",
        "\r\n",
        "#we extend the dictionaries from contractions\r\n",
        "contractions.update(contractions_dict)"
      ],
      "execution_count": null,
      "outputs": []
    },
    {
      "cell_type": "markdown",
      "metadata": {
        "id": "zm7n2YVUvsVD"
      },
      "source": [
        "We declare some structures that wil be useful to clean data. "
      ]
    },
    {
      "cell_type": "code",
      "metadata": {
        "id": "_Tuv9bWzvr2k"
      },
      "source": [
        "# Obtain the stop words we'll remove from data\r\n",
        "english_stops = list(stopwords.words('english'))\r\n",
        "\r\n",
        "# Declare unseful characters we'll remove from data\r\n",
        "unseful_char = [',', ';', '.', '’', '!', '\"', '_', '$', '%', '&amp', '&', '/', '(', ')', '=', '_',\r\n",
        "                'ˆ', '*', '¡']\r\n",
        "\r\n",
        "# Extend the stop words set with the unseful characters to remove it in case they alone constitute a token\r\n",
        "english_stops.extend(list(unseful_char))\r\n",
        "\r\n",
        "english_stops = set(english_stops)\r\n",
        "\r\n",
        "# Declare a regular expresion that will help us removing the unseful characters from the tokens\r\n",
        "unseful_char_re = \"\"\r\n",
        "for r in unseful_char:  \r\n",
        "  unseful_char_re += '\\\\' + r + '|' \r\n",
        "\r\n",
        "unseful_char_re = unseful_char_re[:-1]"
      ],
      "execution_count": null,
      "outputs": []
    },
    {
      "cell_type": "code",
      "metadata": {
        "id": "Z3s09TuAEIuH"
      },
      "source": [
        "unseful_char_re"
      ],
      "execution_count": null,
      "outputs": []
    },
    {
      "cell_type": "code",
      "metadata": {
        "id": "VEYma_aXD-B3"
      },
      "source": [
        "english_stops"
      ],
      "execution_count": null,
      "outputs": []
    },
    {
      "cell_type": "markdown",
      "metadata": {
        "id": "iV8DjjA6R_9L"
      },
      "source": [
        "We declare some methods that will be useful later to detect some especials tokens like hashtag, count retweets or censured words by twitter."
      ]
    },
    {
      "cell_type": "code",
      "metadata": {
        "id": "5bKK5-Khaeev"
      },
      "source": [
        "def subRegularExpressions(tweet):\r\n",
        "    tweet = re.sub(user_re, 'user', tweet)\r\n",
        "    tweet = re.sub(mentions_re, 'mention', tweet)\r\n",
        "    tweet = re.sub(enlaces_re, 'url', tweet)\r\n",
        "    tweet = re.sub(censured_re, 'curse', tweet)\r\n",
        "    tweet = re.sub(hashtag_re, 'hashtag', tweet)\r\n",
        "    tweet = re.sub(number_re, 'number', tweet)\r\n",
        "    \r\n",
        "    return re.sub(rt_re, '', tweet)"
      ],
      "execution_count": null,
      "outputs": []
    },
    {
      "cell_type": "code",
      "metadata": {
        "id": "HLz76yETrxc2"
      },
      "source": [
        "def countRT(tweet):\r\n",
        "    rt_string = re.findall(rt_re, tweet)\r\n",
        "    if len(rt_string) == 0:\r\n",
        "      return 0\r\n",
        "    else:\r\n",
        "      return len(re.findall(r'!', rt_string[0]))"
      ],
      "execution_count": null,
      "outputs": []
    },
    {
      "cell_type": "code",
      "metadata": {
        "id": "ft4Kd6r4Pxg6"
      },
      "source": [
        "def ngram_value(ngram):\r\n",
        "  t = ngram_dict.loc[lambda df: df['ngram'] == ngram]\r\n",
        "  if len(t) != 0:\r\n",
        "    return t['prophate'].iloc[0]\r\n",
        "  else:\r\n",
        "    return 0"
      ],
      "execution_count": null,
      "outputs": []
    },
    {
      "cell_type": "markdown",
      "metadata": {
        "id": "TV7MMn9yEfJC"
      },
      "source": [
        "### Preprocessing Steps"
      ]
    },
    {
      "cell_type": "markdown",
      "metadata": {
        "id": "32Imb-XrpomJ"
      },
      "source": [
        "we take a look at the original dataset so we can see the changes that occur during pre-test"
      ]
    },
    {
      "cell_type": "code",
      "metadata": {
        "id": "OXzNTkZYrFLi"
      },
      "source": [
        "labeled_tweets.head()"
      ],
      "execution_count": null,
      "outputs": []
    },
    {
      "cell_type": "code",
      "metadata": {
        "id": "hlaVfcnCbuYe"
      },
      "source": [
        "other_features = pd.DataFrame(columns = ['rts', 'sentences', 'words', 'curse', 'urls', 'hashtag'])"
      ],
      "execution_count": null,
      "outputs": []
    },
    {
      "cell_type": "markdown",
      "metadata": {
        "id": "LsRSySu1ShSo"
      },
      "source": [
        "First, we have to detect some patterns in tweets, to delete or replace them. We count retweets and sustituve some of that patterns."
      ]
    },
    {
      "cell_type": "code",
      "metadata": {
        "id": "YJ_1aOTybYKG"
      },
      "source": [
        "other_features['rts'] = labeled_tweets['tweet'].apply(lambda L: countRT(str(L)))\r\n",
        "labeled_tweets['tweet'] = labeled_tweets['tweet'].apply(lambda L: subRegularExpressions(str(L)))"
      ],
      "execution_count": null,
      "outputs": []
    },
    {
      "cell_type": "markdown",
      "metadata": {
        "id": "ivV1cEclbfl9"
      },
      "source": [
        "Then, we count sentences, words, censured words, urls and hashtag from tweets."
      ]
    },
    {
      "cell_type": "code",
      "metadata": {
        "id": "tznYwXFjnqp0"
      },
      "source": [
        "other_features['sentences'] = labeled_tweets['tweet'].apply(lambda L: len(list(filter(None, L.split('.')))) +\r\n",
        "                                                            len(list(filter(None, L.split('?')))) + \r\n",
        "                                                            len(list(filter(None, L.split('!')))) - 2) \r\n",
        "other_features['words'] = labeled_tweets['tweet'].apply(lambda L: len(L.split()))\r\n",
        "other_features['curse'] = labeled_tweets['tweet'].apply(lambda L: len(re.findall('curse',L)))\r\n",
        "other_features['urls'] = labeled_tweets['tweet'].apply(lambda L: len(re.findall(' url ',L)))\r\n",
        "other_features['hashtag'] = labeled_tweets['tweet'].apply(lambda L: len(re.findall('hashtag',L)))\r\n",
        "other_features.head()"
      ],
      "execution_count": null,
      "outputs": []
    },
    {
      "cell_type": "markdown",
      "metadata": {
        "id": "zvkkwpx6qKvE"
      },
      "source": [
        "We inizialize fields 'sentiments' and 'n-gram'."
      ]
    },
    {
      "cell_type": "code",
      "metadata": {
        "id": "bI0WZnZKHVz6"
      },
      "source": [
        "other_features['ngram_value'] = 0\r\n",
        "other_features['sentiments'] = 0"
      ],
      "execution_count": null,
      "outputs": []
    },
    {
      "cell_type": "markdown",
      "metadata": {
        "id": "5A6WPNeBqZNZ"
      },
      "source": [
        "We must detect n-grams from tweets at the begining because we are going to replace some unseful information like stop words that n-grams contains."
      ]
    },
    {
      "cell_type": "code",
      "metadata": {
        "id": "l5OHTJifPxg6"
      },
      "source": [
        "for k in ngram_dict['ngram']:\r\n",
        "  for tweet in labeled_tweets['tweet']:\r\n",
        "    if k in tweet:\r\n",
        "      try:\r\n",
        "        other_features.loc[labeled_tweets['tweet'].loc[lambda L: L == tweet].index[0], 'ngram_value'] += other_features.at[labeled_tweets['tweet'].loc[lambda L: L == tweet].index[0], 'ngram_value'] + ngram_value(k)\r\n",
        "      except:\r\n",
        "        pass"
      ],
      "execution_count": null,
      "outputs": []
    },
    {
      "cell_type": "code",
      "metadata": {
        "id": "jgd1vQWyPxg7"
      },
      "source": [
        "#PRUEBAS\r\n",
        "other_features.loc[other_features['ngram_value'] > 0]"
      ],
      "execution_count": null,
      "outputs": []
    },
    {
      "cell_type": "code",
      "metadata": {
        "id": "z8DCQPubISOa"
      },
      "source": [
        "other_features"
      ],
      "execution_count": null,
      "outputs": []
    },
    {
      "cell_type": "markdown",
      "metadata": {
        "id": "Hsf6rSERvGul"
      },
      "source": [
        "We have to tokenize the tweets, splitting word by word each tweet."
      ]
    },
    {
      "cell_type": "code",
      "metadata": {
        "id": "XxuZ8HG8Dbzi"
      },
      "source": [
        "labeled_tweets_tokanized = [word_tokenize(tweet) for tweet in labeled_tweets['tweet']]"
      ],
      "execution_count": null,
      "outputs": []
    },
    {
      "cell_type": "markdown",
      "metadata": {
        "id": "XKp612EHDVeU"
      },
      "source": [
        "We replace contractions and emoticones by the full form of these, using two dictionaries. The contractions dictionary was extracted from: https://stackoverflow.com/questions/19790188/expanding-english-language-contractions-in-python"
      ]
    },
    {
      "cell_type": "code",
      "metadata": {
        "id": "ZPzNR9pXDU7E"
      },
      "source": [
        "labeled_tweets_tokanized_noconst = []\r\n",
        "\r\n",
        "for tweet in labeled_tweets_tokanized:\r\n",
        "\r\n",
        "  new_tweet_tokanized = []\r\n",
        "\r\n",
        "  for token in tweet:\r\n",
        "    # Check if its a contraction\r\n",
        "    if token in contractions.keys():\r\n",
        "      print(\"Contraction '\" + token + \"' transformed in '\" + contractions[token] + \"'\")\r\n",
        "      for new_token in contractions[token].split(\" \"):\r\n",
        "        new_tweet_tokanized.append(new_token)\r\n",
        "    else:\r\n",
        "      # If isnt a constraction, we check if its an emoticon\r\n",
        "      if token in emojis.keys():\r\n",
        "        print(\"Emoji '\" + token + \"' transformed in '\" + emojis[token] + \"'\")\r\n",
        "        new_tweet_tokanized.append(emojis[token])\r\n",
        "      else:\r\n",
        "        new_tweet_tokanized.append(token)\r\n",
        "      \r\n",
        "\r\n",
        "  labeled_tweets_tokanized_noconst.append(new_tweet_tokanized)"
      ],
      "execution_count": null,
      "outputs": []
    },
    {
      "cell_type": "markdown",
      "metadata": {
        "id": "sdlf6QFR1Wn0"
      },
      "source": [
        "We make some preprocessing to data, in order to clean and prepare data for the algorithms."
      ]
    },
    {
      "cell_type": "code",
      "metadata": {
        "id": "-D2koWbtC-NC"
      },
      "source": [
        "clean_labeled_tweets_tokenized = []\r\n",
        "\r\n",
        "for tweet in labeled_tweets_tokanized_noconst:\r\n",
        "  result = []\r\n",
        "\r\n",
        "  # Remove the tokens that belong to the stop words set\r\n",
        "  t_list = [token for token in tweet if token not in english_stops]\r\n",
        "\r\n",
        "  # Iterate over each token remaining\r\n",
        "  for t in t_list:\r\n",
        "\r\n",
        "    # Remove all capital letters\r\n",
        "    t = t.lower()\r\n",
        "    # Remove unseful chars from the token in case exists\r\n",
        "    t = re.sub(unseful_char_re, \"\", t)\r\n",
        "    # Correct wrong words using spelling corrector methods declared previously\r\n",
        "    t = correction(t)\r\n",
        "    \r\n",
        "    result.append(t)\r\n",
        "\r\n",
        "  clean_labeled_tweets_tokenized.append(result)  "
      ],
      "execution_count": null,
      "outputs": []
    },
    {
      "cell_type": "markdown",
      "metadata": {
        "id": "ZufisFMJ0CdN"
      },
      "source": [
        "Then, we lemmatize all terms to obtain original word."
      ]
    },
    {
      "cell_type": "code",
      "metadata": {
        "id": "zqzWAYpaDoSK"
      },
      "source": [
        "lemmatizer = WordNetLemmatizer()\r\n",
        "\r\n",
        "clean_labeled_tweets_lemmatized = [[lemmatizer.lemmatize(word) for word in tweet] for tweet in clean_labeled_tweets_tokenized]"
      ],
      "execution_count": null,
      "outputs": []
    },
    {
      "cell_type": "markdown",
      "metadata": {
        "id": "wlHR4ytzL5br"
      },
      "source": [
        "The last step of preprocessing is to remove repeated following words. "
      ]
    },
    {
      "cell_type": "code",
      "metadata": {
        "id": "773T7EtvMHhO"
      },
      "source": [
        "preprocessed_tweets = []\r\n",
        "\r\n",
        "for tweet in clean_labeled_tweets_lemmatized:\r\n",
        "  token_before = \"\"\r\n",
        "  new_tweet = []\r\n",
        "  for token in tweet:\r\n",
        "\r\n",
        "    if token != token_before:\r\n",
        "      new_tweet.append(token)\r\n",
        "      token_before = token\r\n",
        "    else:\r\n",
        "      print(\"Repeated word '\" + token_before + \"' removed\")\r\n",
        "  preprocessed_tweets.append(new_tweet)\r\n"
      ],
      "execution_count": null,
      "outputs": []
    },
    {
      "cell_type": "code",
      "metadata": {
        "id": "VPC7OVcSeiCA"
      },
      "source": [
        "pd.set_option('display.max_colwidth', -1)\r\n",
        "labeled_tweets['tweet'].head()\r\n"
      ],
      "execution_count": null,
      "outputs": []
    },
    {
      "cell_type": "markdown",
      "metadata": {
        "id": "q4Xe8pC8lpSz"
      },
      "source": [
        "## Vectorization"
      ]
    },
    {
      "cell_type": "markdown",
      "metadata": {
        "id": "zoYc49Nn3tHb"
      },
      "source": [
        "Once we have all the tweets preprocessed, let's vectorize every tweet by following different configurations"
      ]
    },
    {
      "cell_type": "markdown",
      "metadata": {
        "id": "uZ3kEjQNHqDB"
      },
      "source": [
        "###TFIDF"
      ]
    },
    {
      "cell_type": "code",
      "metadata": {
        "colab": {
          "base_uri": "https://localhost:8080/"
        },
        "id": "fTS01BC85IbX",
        "outputId": "82c334bf-fef2-4a8c-d353-430e532ab9bf"
      },
      "source": [
        "# First, we detokenize every tweet\r\n",
        "X_raw = [TreebankWordDetokenizer().detokenize(tweet) for tweet in preprocessed_tweets]\r\n",
        "\r\n",
        "# Then, we define our vectorizer, using the TfidfVectorizer class from sklearn\r\n",
        "vectorizer = TfidfVectorizer(min_df=1)\r\n",
        "\r\n",
        "# Fit and transform over our data\r\n",
        "X_TFIDF = vectorizer.fit_transform(X_raw)\r\n",
        "\r\n",
        "# Show results\r\n",
        "print(vectorizer.vocabulary_)\r\n",
        "print(X_TFIDF.toarray())"
      ],
      "execution_count": 14,
      "outputs": [
        {
          "output_type": "stream",
          "text": [
            "{'user': 12779, 'woman': 13599, 'not': 8322, 'complain': 2696, 'cleaning': 2511, 'house': 5913, 'amp': 636, 'man': 7440, 'always': 602, 'take': 11829, 'trash': 12422, 'boy': 1742, 'day': 3201, 'cold': 2606, 'tea': 11895, 'down': 3687, 'bad': 1140, 'coffin': 2599, 'dat': 3180, 'he': 5603, '1st': 86, 'place': 9122, 'mention': 7651, 'dawn': 3199, 'you': 13781, 'ever': 4162, 'fuck': 4860, 'bitch': 1507, 'start': 11420, 'cry': 3057, 'confused': 2760, 'shit': 10766, 'look': 7242, 'like': 7037, 'tyranny': 12613, 'the': 12018, 'hear': 5625, 'might': 7737, 'true': 12499, 'baker': 1165, 'told': 12267, 'curse': 3096, 'of': 8467, 'blow': 1614, 'reclaim': 9825, 'faithful': 4336, 'somebody': 11178, 'still': 11483, 'fucking': 4873, 'hoe': 5785, 'sit': 10922, 'hate': 5554, 'another': 735, 'got': 5194, 'much': 7975, 'going': 5150, 'cause': 2203, 'am': 604, 'tired': 12236, 'big': 1457, 'birch': 1484, 'coming': 2654, 'skinny': 10953, 'girl': 5082, 'get': 5047, 'back': 1119, 'that': 12009, 'hobby': 5781, 'include': 6114, 'fighting': 4473, 'maria': 7489, 'week': 13363, 'curve': 3101, 'everyone': 4177, 'll': 7158, 'walked': 13043, 'conversation': 2834, 'marya': 7522, 'gang': 4955, 'land': 6807, 'so': 11130, 'smoke': 11067, 'loses': 7269, 'yea': 13735, 'go': 5131, 'in': 6104, 'thing': 12107, 'night': 8249, 'miss': 7800, 'ply': 9191, 'whatever': 13417, 'love': 7291, 'cut': 3108, 'everyday': 4171, 'black': 1556, 'bottle': 1710, 'broke': 1846, 'can': 2092, 'tell': 11932, 'nothing': 8327, 'cancel': 2097, 'nine': 8258, 'see': 10558, 'wont': 13610, 'change': 2282, 'dont': 3658, 'even': 4157, 'suck': 11621, 'dick': 3448, 'permit': 8980, 'video': 12925, 'bout': 1724, 'tip': 12233, 'toying': 12372, 'hardihood': 5512, 'floor': 4616, 'curl': 3089, 'fussy': 4921, 'lip': 7118, 'heaven': 5641, 'door': 3664, 'hitting': 5775, 'met': 7702, 'ocean': 8459, 'dr': 3706, 'gave': 4989, 'pill': 9082, 'need': 8141, 'tipsy': 12234, 'hennessy': 5681, 'spend': 11288, 'money': 7866, 'want': 13237, 'business': 1977, 'txt': 12602, 'old': 8526, 'new': 8187, 'letter': 6976, 'say': 10424, 'would': 13653, 'excited': 4205, 'aunt': 1036, 'murder': 8002, 'game': 4951, 'shut': 10836, 'are': 863, 'toe': 12259, 'ai': 496, 'done': 3651, 'stick': 11476, 'bitter': 1551, 'wrap': 13659, 'angry': 701, 'bird': 1485, 'there': 12073, 'pp': 9316, 'just': 6590, 'meet': 7620, 'son': 11195, 'mane': 7450, 'as': 914, 'hashtag': 5534, 'james': 6453, 'tear': 11910, 'clown': 2554, 'stoop': 11510, 'said': 10323, 'innumberwe': 6224, 'mamma': 7439, 'cat': 2186, 'inside': 6241, 'hothouse': 5906, 'hated': 5556, 'favorite': 4397, 'nice': 8208, 'make': 7420, 'naughty': 8117, 'yellow': 13750, 'real': 9777, 'body': 1639, 'south': 11238, 'thick': 12096, 'pip': 9100, 'future': 4922, 'voice': 12983, 'post': 9287, 'picture': 9060, 'getnumberlikes': 5051, 'powerful': 9314, 'drug': 3782, 'quick': 9626, 'piece': 9065, 'call': 2064, 'drive': 3764, 'running': 10277, 'round': 10237, 'brand': 1770, 'tucked': 12528, 'worst': 13646, 'all': 544, 'send': 10604, 'gun': 5373, 'talk': 11844, 'trust': 12503, 'puffing': 9541, 'never': 8182, 'dodge': 3620, 'bullet': 1933, 'da': 3122, 'pregnant': 9350, 'bound': 1719, 'thank': 11993, 'god': 5138, 'young': 13783, 'chamberlain': 2273, 'music': 8017, 'anna': 708, 'tramp': 12398, 'probably': 9426, 'cleaner': 2510, 'twitter': 12595, 'gay': 4991, 'could': 2909, 'wait': 13030, 'act': 367, 'tonight': 12290, 'and': 661, 'ma': 7363, 'steal': 11441, 'replace': 9969, 'pitbull': 9109, 'is': 6376, 'gone': 5163, 'took': 12309, 'tic': 12192, 'tact': 11818, 'movie': 7961, 'wannaget': 13110, 'model': 7847, 'russell': 10285, 'summons': 11659, 'wouldncurse': 13656, 'mind': 7768, 'school': 10458, 'didncurse': 3463, 'deal': 3227, 'teacher': 11901, 'between': 1441, 'far': 4367, 'female': 4435, 'think': 12110, 'dating': 3186, 'stuff': 11578, 'simplyaddictedtoguys': 10889, 'woof': 13615, 'hot': 5902, 'scaly': 10432, 'lad': 6785, 'have': 5571, 'asked': 932, 'any': 777, 'yes': 13756, 'how': 5923, 'bring': 1826, 'or': 8602, 'side': 10853, 'know': 6736, 'friend': 4812, 'swear': 11746, 'sol': 11161, 'femme': 4440, 'eat': 3886, 'orel': 8621, 'dish': 3561, 'one': 8548, 'maybe': 7568, 'better': 1436, 'red': 9844, 'alone': 580, 'nigh': 8248, 'please': 9176, 'use': 12774, 'complete': 2701, 'sentence': 10614, 'why': 13482, 'eggplant': 3929, 'embolus': 3999, 'doe': 3623, 'looked': 7245, 'scream': 10500, 'may': 7567, 'tennessee': 11953, 'venom': 12882, 'it': 6402, 'sex': 10663, 'him': 5742, 'she': 10722, 'shower': 10822, 'curtain': 3099, 'every': 4166, 'pick': 9049, 'posted': 9288, 'racism': 9663, 'to': 12255, 'skateboarding': 10937, 'wood': 13611, 'pushing': 9577, 'maggot': 7392, 'ball': 1181, 'life': 7017, 'baby': 1112, 'monkey': 7878, 'bathtime': 1278, 'this': 12124, 'soon': 11204, 'adorable': 411, 'damn': 3141, 'sappy': 10384, 'kill': 6675, 'ant': 742, 'sidewalk': 10863, 'way': 13318, 'no': 8274, 'must': 8024, '30': 139, 'chance': 2279, 'urlnumberringsnumbermvpsnumberbitches': 12770, 'ghettohood': 5061, 'kid': 6666, 'growing': 5337, 'funnnnnnn': 4908, 'fact': 4303, 'tattoo': 11879, 'tattooing': 11881, 'nipple': 8262, 'wanting': 13240, 'cuteeeee': 3111, 'worshiping': 13644, 'now': 8340, 'lost': 7272, 'buttcheek': 1994, 'piercing': 9069, 'yeah': 13737, 'ok': 8520, 'his': 5757, 'rather': 9740, 'shrug': 10832, 'work': 13624, 'queer': 9620, 'wayward': 13322, 'read': 9770, 'sweet': 11758, 'funny': 4909, 'ungrateful': 12689, 'fr': 4763, 'lulwhore': 7333, 'kidnapped': 6669, 'alsarabsss': 592, 'beaver': 1314, 'mexican': 7711, 'happy': 5502, 'birthday': 1498, 'fig': 4468, 'thanks': 11997, 'homework': 5838, 'eating': 3891, 'hell': 5664, 'john': 6524, 'paul': 8894, 'what': 13414, 'ugly': 12623, 'bald': 1174, 'headed': 5610, 'stop': 11513, 'making': 7424, 'up': 12744, 'weave': 13346, 'lead': 6889, 'win': 13518, 'riot': 10134, 'looting': 7261, 'attend': 1009, 'on': 8545, 'anumberyear': 771, 'come': 2645, 'food': 4661, 'car': 2129, 'retard': 10045, 'if': 6027, 'richnow': 10103, 'show': 10819, 'tinder': 12227, 'anymore': 781, 'chill': 2385, 'brought': 1865, 'likenumberprople': 7073, 'cowboy': 2943, 'lmaooooooooooo': 7169, 'depressing': 3363, 'shiloh': 10755, 'spitting': 11314, 'let': 6974, 'couple': 2924, 'buzz': 2011, 'page': 8763, 'wo': 13587, 'jail': 6445, 'trick': 12463, 'harlem': 5520, 'shake': 10680, 'excuse': 4212, 'full': 4889, 'fornumberseconds': 4734, 'amen': 618, 'mile': 7748, 'bc': 1287, 'emotional': 4015, 'damaged': 3138, 'foh': 4642, 'loyal': 7310, 'wayyyyy': 13325, 'ida': 6009, 'licking': 7010, 'me': 7586, 'check': 2335, '12th': 45, 'ny': 8426, 'fan': 4354, 'stand': 11401, 'happen': 5492, 'given': 5098, 'went': 13388, 'ran': 9705, 'threw': 12153, 'footfall': 4674, 'okay': 8523, 'node': 8285, 'pat': 8875, 'blacklisted': 1559, 'holding': 5809, 'anyway': 790, 'wrong': 13681, 'nobody': 8279, 'type': 12608, 'do': 3615, 'reader': 9771, 'top': 12323, 'baseball': 1254, 'season': 10537, 'started': 11422, 'little': 7144, 'stupid': 11585, 'yoooooouuuu': 13775, 'really': 9787, 'dead': 3218, 'serious': 10631, 'wheat': 13420, 'early': 3867, 'owl': 8741, 'wise': 13544, 'worm': 13637, 'overcoming': 8703, 'heavy': 5644, 'sound': 11229, 'pit': 9108, 'photographer': 9035, 'lovely': 7298, 'fairy': 4332, 'tale': 11841, 'creature': 2991, 'they': 12093, 'long': 7235, 'layer': 6882, 'careless': 2146, 'havana': 5570, 'anything': 785, 'kiss': 6703, 'play': 9155, 'soccer': 11142, 'cheat': 2331, 'wear': 13339, 'coloured': 2630, 'cargo': 2149, 'haircut': 5428, 'fat': 4383, 'lap': 6818, 'usernumbermissed': 12794, 'po': 9194, 'fixing': 4553, 'gotta': 5225, 'rule': 10266, 'shitanybody': 10767, 'ask': 929, 'cousin': 2931, 'jersey': 6490, 'thinking': 12112, 'moving': 7962, 'lmmfao': 7196, 'usernumber': 12781, 'los': 7267, 'pie': 9064, 'these': 12080, 'meat': 7603, 'slap': 10975, 'brush': 1886, 'wit': 13551, 'edge': 3910, 'talking': 11849, 'treating': 12446, 'year': 13742, 'ah': 491, 'tooth': 12318, 'bandit': 1200, 'bag': 1151, 'wannasex': 13185, 'mon': 7863, 'right': 10120, 'came': 2077, 'hacked': 5391, 'eye': 4275, 'open': 8577, 'watch': 13296, 'lafa': 6791, 'should': 10808, 'precise': 9336, 'roll': 10195, 'used': 12775, 'www': 13688, 'due': 3810, 'elsescurse': 3986, 'hack': 5390, 'sack': 10304, 'throw': 12164, 'pass': 8862, 'glad': 5104, 'getting': 5056, 'gutta': 5379, 'atlanta': 982, 'bunch': 1947, 'dumb': 3817, 'mad': 7377, 'hetty': 5710, 'smart': 11044, 'wife': 13495, 'care': 2140, 'cheating': 2333, 'force': 4679, 'relationship': 9914, 'first': 4533, 'being': 1361, 'single': 10907, 'white': 13456, 'power': 9311, 'drunk': 3788, 'bowed': 1732, 'spit': 11311, 'spark': 11259, 'blunt': 1623, 'brow': 1866, 'duke': 3813, 'around': 887, 'world': 13635, 'where': 13431, 'sucked': 11622, 'party': 8859, 'set': 10645, 'by': 2016, 'but': 1983, 'lot': 7277, 'cartoon': 2173, 'away': 1077, 'saving': 10415, 'captain': 2125, 'saveahoe': 10413, 'who': 13467, 'nose': 8321, 'boris': 1696, 'leg': 6942, 'wish': 13546, 'brother': 1861, 'keep': 6630, 'ooooow': 8574, 'bet': 1426, 'dressed': 3747, 'halloween': 5447, 'basic': 1258, 'pornhub': 9265, 'gazing': 4998, 'stream': 11539, 'feature': 4410, 'katie': 6621, 'scared': 10441, 'choke': 2415, 'secure': 10554, 'guy': 5382, 'hit': 5766, 'bed': 1324, 'ha': 5386, 'well': 13382, 'guess': 5355, 'oh': 8510, 'itsnumberam': 6414, 'folly': 4656, 'ho': 5780, 'seed': 10559, 'refer': 9863, 'beating': 1307, 'finally': 4495, 'my': 8045, 'feel': 4421, 'remind': 9943, 'move': 7958, 'shan': 10691, 'line': 7102, 'record': 9834, 'vine': 12942, 'pe': 8907, 'ahahah': 493, 'anywaaaaaays': 789, 'hata': 5552, 'tape': 11865, 'cover': 2934, 'mistake': 7810, 'waiting': 13032, 'maine': 7408, 'dirty': 3521, 'foot': 4672, 'flag': 4555, 'amazing': 611, 'time': 12219, 'action': 370, 'stay': 11435, 'alive': 543, 'knight': 6726, 'nation': 8107, 'special': 11269, 'such': 11620, 'wonder': 13603, 'decent': 3246, 'study': 11576, 'soft': 11156, 'many': 7473, 'screamed': 10501, 'bye': 2017, 'dry': 3793, 'blame': 1564, 'condomcurse': 2742, 'cocci': 2582, 'dropping': 3776, 'month': 7890, 'ca': 2032, 'text': 11980, 'wa': 13007, 'burn': 1958, 'without': 13575, 'daddy': 3127, 'issue': 6398, 'finding': 4500, 'photographic': 9036, 'mewtwo': 7710, 'sounding': 11233, 'easy': 3885, 'cum': 3074, 'charlie': 2308, 'sheen': 10728, 'major': 7416, 'respect': 10017, 'be': 1288, 'working': 13629, 'cook': 2848, 'utf': 12821, 'fight': 4469, 'pussycurse': 9583, 'good': 5170, 'madam': 7378, 'along': 581, 'snake': 11082, 'booty': 1684, 'everywhere': 4181, 'speech': 11279, 'tuned': 12538, 'update': 12745, 'report': 9978, '810': 246, 'oregon': 8619, 'choked': 2416, 'field': 4463, 'program': 9452, 'rat': 9732, 'def': 3273, 'tarbell': 11872, 'wen': 13385, 'best': 1420, 'eagle': 3862, 'cried': 3005, 'room': 10212, 'lmfaoooo': 7181, 'people': 8947, 'nigger': 8236, 'potent': 9299, 'passed': 8863, 'past': 8870, 'lick': 7007, 'slept': 10996, 'arch': 860, 'depends': 3357, 'kick': 6663, 'confusing': 2761, 'america': 622, 'too': 12307, 'mean': 7591, 'vagina': 12835, 'anti': 744, 'nasty': 8104, 'actually': 377, 'choose': 2421, 'her': 5684, 'vice': 12917, 'tried': 12465, 'dis': 3524, 'saying': 10426, 'tight': 12203, 'shirt': 10765, 'grim': 5315, 'everybody': 4167, 'usernumberbirds': 12782, 'grandkids': 5261, 'climate': 2527, 'beautiful': 1311, 'purple': 9567, 'ceeeleee': 2223, 'plain': 9130, 'track': 12375, 'shifted': 10747, 'sum': 11650, 'taller': 11853, 'flurry': 4628, 'seen': 10571, 'obsessed': 8450, 'niggacurse': 8228, 'mine': 7771, 'robe': 10165, 'forget': 4700, 'meant': 7598, 'at': 976, 'least': 6909, 'asking': 934, 'mixed': 7819, 'asia': 924, 'area': 864, 'coward': 2941, 'cripple': 3012, 'hero': 5695, 'reach': 9761, 'malo': 7434, 'foster': 4747, 'home': 5827, 'imaginary': 6059, 'trashcurse': 12424, 'whoa': 13468, 'everything': 4178, 'quiet': 9633, 'sleep': 10988, 'bringing': 1827, 'weird': 13374, 'mentioncurse': 7653, 'we': 13326, 'homeboy': 5828, 'weak': 13329, 'advice': 424, 'speed': 11281, 'quote': 9645, 'animal': 702, 'stripper': 11555, 'dancer': 3151, 'ballet': 1183, 'pop': 9248, 'beethoven': 1338, 'stripped': 11554, 'andrewbryant': 686, 'off': 8468, 'double': 3674, 'vision': 12965, 'afternumberbeers': 453, 'when': 13426, 'were': 13392, 'computer': 2713, 'prince': 9405, 'art': 905, 'taken': 11830, '61': 215, 'welfaregovernment': 13381, 'aid': 497, 'claimed': 2484, 'slander': 10971, 'role': 10194, 'find': 4498, 'hiding': 5723, 'lime': 7093, 'tree': 12450, 'rake': 9698, 'shoe': 10786, 'released': 9920, 'nikejordan': 8253, 'glitter': 5115, 'di': 3432, 'austincurse': 1043, 'teach': 11900, 'austin': 1042, 'curved': 3102, 'chose': 2430, 'expects': 4236, 'retweetin': 10067, 'cyrus': 3120, 'naked': 8079, 'lmaooo': 7162, 'tony': 12305, 'mass': 7534, 'fur': 4912, 'cowgirl': 2944, 'holy': 5825, 'freddie': 4784, 'wigmore': 13501, 'chocolate': 2412, 'factory': 4306, 'laughing': 6860, 'using': 12816, 'anonymous': 733, 'follower': 4651, 'itching': 6406, 'clearly': 2514, 'annoying': 722, 'catfish': 2193, 'sick': 10850, 'catching': 2189, 'worry': 13640, 'worried': 13639, 'insecure': 6238, 'handle': 5474, 'shooting': 10790, 'tent': 11957, 'share': 10701, 'sharing': 10703, 'daring': 3165, 'hungry': 5960, 'inn': 6196, 'wannaspend': 13198, 'foodcurse': 4662, 'problem': 9430, 'dense': 3344, 'lying': 7353, 'epi': 4086, 'manning': 7462, 'nfl': 8202, 'leading': 6892, '27th': 129, 'intervention': 6306, 'senior': 10608, 're': 9759, 'anthony': 743, 'brown': 1867, 'head': 5605, 'coach': 2569, 'steve': 11471, 'parisian': 8830, 'quits': 9643, 'team': 11904, 'also': 594, 'zero': 13824, 'mansplaining': 7469, 'lady': 6787, 'shilling': 10754, 'impress': 6094, 'simple': 10886, 'anybody': 778, 'control': 2828, 'rigghhht': 10119, 'ink': 6193, 'bah': 1156, 'sure': 11703, 'crazy': 2971, 'na': 8062, 'slice': 10997, 'hart': 5530, 'fine': 4501, 'dam': 3136, 'tonumberboys': 12297, 'drink': 3758, 'magaluf': 7388, 'sends': 10607, 'stevens': 11472, 'later': 6848, 'hesse': 5706, 'parkman': 8835, 'rockies': 10179, 'thigh': 12103, 'longer': 7237, 'front': 4836, 'pad': 8761, 'friday': 4809, '25': 119, 'yesterday': 13760, 'chorus': 2429, 'supahot': 11671, 'walk': 13041, 'test': 11969, 'drop': 3774, 'lolcurse': 7224, 'forever': 4694, 'blush': 1627, 'taste': 11876, 'bobby': 1638, 'live': 7148, 'lookout': 7247, 'stoner': 11504, 'ride': 10109, 'bar': 1221, 'traphoussseeeee': 12419, 'usernumbersad': 12802, 'character': 2300, 'death': 3235, 'stark': 11416, 'harbor': 5506, 'bus': 1971, 'ultraviolence': 12633, 'del': 3303, 'promo': 9465, 'kittycopter': 6711, 'smuggler': 11078, 'explains': 4247, 'helped': 5674, 'fighter': 4471, 'jihadi': 6509, 'highway': 5734, 'axis': 1093, 'together': 12261, 'vi': 12912, 'hoedont': 5787, 'exposed': 4255, 'boasting': 1635, 'size': 10933, 'exactly': 4192, 'healthy': 5624, 'near': 8127, 'protect': 9494, 'talker': 11846, 'lock': 7210, 'march': 7481, 'girlfriend': 5085, 'aye': 1095, 'pulling': 9546, 'taught': 11883, 'brunn': 1885, 'bitchcurse': 1513, 'rally': 9699, 'bottom': 1711, '9th': 267, 'advantage': 419, 'personcurse': 8994, 'everyjuan': 4172, 'pal': 8782, 'sad': 10313, 'knowing': 6738, 'stack': 11384, 'till': 12209, 'into': 6313, 'harder': 5510, 'rich': 10098, 'sicca': 10849, 'last': 6832, 'sunday': 11663, 'punch': 9552, 'face': 4289, 'strong': 11563, 'fresh': 4804, 'something': 11189, 'slapping': 10977, 'greatest': 5295, 'slapped': 10976, 'texan': 11977, 'nd': 8124, 'dark': 3166, 'blonde': 1608, 'several': 10656, 'seat': 10541, 'looking': 7246, 'lane': 6812, 'left': 6934, 'deny': 3348, 'butt': 1993, 'with': 13555, 'straight': 11527, 'bos': 1701, 'corner': 2878, 'rental': 9960, 'for': 4677, 'weekend': 13364, 'oooh': 8572, 'beta': 1427, 'street': 11542, 'hold': 5806, 'locked': 7213, 'college': 2617, 'military': 7751, 'different': 3475, 'story': 11522, 'hatchet': 5553, 'trainer': 12389, 'sniff': 11095, 'served': 10638, 'sofa': 11154, 'watched': 13298, 'aboutnumberornumberseconds': 302, 'did': 3461, 'probe': 9428, 'retarded': 10047, 'name': 8082, 'idea': 6012, 'mr': 7965, 'thus': 12186, 'phone': 9029, 'ringing': 10130, 'married': 7508, 'demand': 3321, 'called': 2065, 'sophomore': 11217, 'usernumbersex': 12803, 'position': 9277, 'soul': 11225, 'bored': 1692, 'supposed': 11697, 'sometimes': 11191, 'treasure': 12442, 'iongotnotype': 6344, 'lessen': 6970, 'doubt': 3676, 'teeth': 11924, 'gold': 5153, 'chain': 2263, 'cocaine': 2580, 'hoecurse': 5786, 'shhhhh': 10742, 'roller': 10198, 'china': 2396, 'shot': 10805, 'across': 366, 'known': 6742, 'driver': 3766, 'lie': 7012, 'try': 12515, 'put': 9595, 'friendzone': 4816, 'trying': 12517, 'score': 10477, 'undone': 12677, 'ash': 919, 'landed': 6808, 'mouth': 7952, 'limped': 7099, 'hut': 5983, 'victoria': 12922, 'mitchell': 7815, 'distance': 3590, 'knew': 6722, 'doing': 3631, 'ban': 1195, 'pay': 8900, 'million': 7760, 'dollar': 3634, 'rose': 10219, 'violet': 12953, 'blue': 1619, 'sitting': 10927, 'window': 13521, 'sill': 10879, 'fly': 4631, 'smacked': 11039, 'entire': 4075, 'medium': 7613, 'likely': 7040, 'mock': 7841, 'crybaby': 3058, 'shy': 10843, 'kikin': 6673, 'hi': 5714, 'angelique': 694, 'smile': 11059, 'cracked': 2949, 'soup': 11235, 'tim': 12214, 'below': 1382, 'nl': 8270, 'already': 588, 'starkville': 11417, 'parma': 8837, 'grm': 5324, 'patron': 8889, 'hajjaj': 5437, 'al': 512, 'ajmi': 509, 'arrested': 896, 'airport': 507, 'foreman': 4688, 'turn': 12547, 'abortion': 290, 'argue': 875, 'weed': 13359, 'public': 9529, 'corp': 2884, 'wannanot': 13156, 'run': 10274, 'twenty': 12580, 'watermelon': 13306, 'thotermelon': 12141, 'trapper': 12420, 'link': 7113, 'loud': 7280, 'annoy': 719, 'eventually': 4161, 'tomorrow': 12279, 'pretending': 9382, 'lied': 7014, 'jacket': 6437, 'drilled': 3756, 'cheese': 2347, 'giving': 5102, 'reason': 9797, 'photo': 9032, 'sole': 11165, 'state': 11426, 'dash': 3177, 'saddest': 10316, 'evaaaa': 4151, 'bareheaded': 1233, 'made': 7381, 'weaken': 13331, 'shmurda': 10782, '7th': 243, 'shook': 10788, 'break': 1788, 'neck': 8137, 'sorry': 11221, 'savage': 10408, 'king': 6695, 'sally': 10343, 'pressed': 9376, 'ore': 8618, 'eaterrrrrrrrr': 3890, 'wiki': 13502, 'screen': 10503, 'sap': 10381, 'shoot': 10789, 'sun': 11661, 'trout': 12494, 'bowing': 1735, 'frfrcurse': 4807, 'two': 12600, 'enjoy': 4056, 'colored': 2628, 'contact': 2804, 'blunder': 1622, 'only': 8555, 'hoescurse': 5791, 'smacking': 11040, 'period': 8974, 'bluff': 1620, 'die': 3464, 'high': 5724, 'neve': 8181, 'sister': 10920, 'perfect': 8962, 'hahahahahahah': 5415, 'feeling': 4423, 'pretty': 9386, 'swears': 11749, 'easily': 3880, 'behind': 1360, 'nip': 8260, 'hahahahah': 5411, 'chaplain': 2294, 'drake': 3719, 'cool': 2854, 'source': 11237, 'news': 8191, 'broadcast': 1839, 'reward': 10085, 'abc': 279, 'fox': 4760, 'etc': 4136, 'keeping': 6633, 'grudge': 5345, 'cigarette': 2457, 'brownish': 1872, 'kind': 6688, 'give': 5097, 'someone': 11188, 'hurt': 5972, 'ummmmmm': 12636, 'than': 11989, 'ymx': 13767, 'slope': 11018, 'fit': 4544, 'gear': 4999, 'helping': 5676, 'mate': 7548, 'next': 8197, 'promise': 9462, 'expose': 4253, 'pucker': 9535, 'celebrity': 2229, 'local': 7207, 'began': 1344, 'saw': 10419, 'gumma': 5372, 'beginning': 1349, 'cwow': 3117, 'listen': 7130, 'rank': 9717, 'speaks': 11267, 'childish': 2383, 'shiiii': 10749, 'case': 2176, 'befriend': 1342, 'remember': 9938, 'won': 13602, 'org': 8622, 'raw': 9753, 'french': 4800, 'free': 4786, 'some': 11177, 'write': 13675, 'burri': 1964, 'catch': 2188, 'potosino': 9303, 'whole': 13471, 'bettercurse': 1437, 'hardware': 5517, 'mac': 7367, 'boil': 1641, 'water': 13302, 'snort': 11099, 'powder': 9309, 'boiling': 1644, 'fade': 4310, 'perpetually': 8984, 'rite': 10148, 'judyann': 6567, 'hughes': 5937, 'chase': 2319, 'newly': 8189, 'job': 6518, 'become': 1320, 'bite': 1547, 'industrial': 6151, 'dem': 3320, 'accessory': 332, 'dear': 3234, 'albany': 517, 'yassssss': 13726, 'ordered': 8612, 'chinese': 2399, 'ate': 977, 'lunch': 7337, 'political': 9221, 'view': 12929, 'shore': 10796, 'devil': 3421, 'child': 2380, 'word': 13620, 'else': 3984, 'matter': 7554, 'wee': 13357, 'count': 2912, 'jew': 6499, 'co': 2568, 'ex': 4190, 'emma': 4009, 'isn': 6386, 'bartering': 1251, 've': 12870, 'failed': 4321, 'moved': 7959, 'herself': 5701, 'bleed': 1582, 'alexa': 529, 'band': 1197, 'other': 8644, 'realise': 9779, 'partynextdoor': 8860, 'caesar': 2046, 'ape': 801, 'shitcurse': 10769, 'maverick': 7562, 'communicating': 2674, 'comrade': 2715, 'imperialism': 6082, 'birdie': 1490, 'dad': 3125, 'snapchat': 11085, 'duct': 3807, 'believe': 1369, 'disagree': 3527, 'loyalist': 7312, 'fall': 4341, 'song': 11196, 'alright': 591, 'dropped': 3775, 'download': 3694, 'foreign': 4687, 'clean': 2507, 'wannasee': 13182, '50': 192, 'dragon': 3713, 'generate': 5016, 'ascii': 917, 'box': 1738, 'ability': 287, 'flappy': 4568, 'via': 12913, 'tube': 12526, 'bear': 1295, 'detroit': 3413, 'bigger': 1460, 'dated': 3184, 'unless': 12711, 'stabbed': 11381, 'heart': 5630, 'password': 8869, 'lucky': 7323, 'uncle': 12651, 'mucous': 7979, 'wannanight': 13154, 'trional': 12477, 'account': 344, 'great': 5292, 'granddad': 5257, 'mob': 7837, 'grandpa': 5263, 'carl': 2151, 'hey': 5711, 'found': 4752, 'ohio': 8514, 'draft': 3707, 'gung': 5374, 'folk': 4646, 'afghanistan': 441, 'war': 13247, 'bone': 1655, 'em': 3988, 'hilarious': 5735, 'negro': 8155, 'dog': 3627, 'thrill': 12155, 'billywith': 1476, 'hillbilly': 5738, 'hahahahaha': 5412, 'jesus': 6493, 'murphy': 8009, 'liquor': 7125, 'needed': 8142, 'chief': 2378, 'edgar': 3909, 'baptist': 1220, 'tsar': 12520, 'beat': 1303, 'hug': 5931, 'clot': 2547, 'wannasmack': 13192, 'tongue': 12287, 'had': 5395, 'picketqueen': 9053, 'latifah': 6851, 'riding': 10115, 'niece': 8218, 'titi': 12244, 'calling': 2068, 'specie': 11271, 'halibut': 5442, 'wannabang': 13069, 'troubadour': 12491, 'heard': 5626, 'candy': 2105, 'hope': 5869, 'stitch': 11491, 'individually': 6147, 'platt': 9154, 'williams': 13512, 'numbernumberi': 8392, 'grin': 5317, 'either': 3939, 'dream': 3736, 'sold': 11163, 'sell': 10589, 'older': 8527, 'men': 7639, 'mature': 7559, 'fool': 4665, 'polly': 9228, 'leave': 6918, 'cup': 3079, 'hand': 5462, 'wolf': 13597, 'hair': 5427, 'dress': 3745, 'cop': 2864, '911': 257, 'flock': 4609, 'strike': 11549, 'dizzy': 3613, 'unique': 12699, 'separate': 10618, 'phrase': 9044, 'overheard': 8707, 'relative': 9915, 'younger': 13784, 'woke': 13596, 'sir': 10916, 'manager': 7443, 'hard': 5508, 'slit': 11014, 'throat': 12158, 'honey': 5848, 'shout': 10811, 'cabinet': 2037, 'comparing': 2683, 'downloading': 3695, 'personality': 8991, 'ordering': 8614, 'goddamn': 5142, 'yelling': 13749, 'root': 10215, 'malcolm': 7426, 'middle': 7728, 'surround': 11716, 'pas': 8861, 'dimple': 3493, 'wasting': 13294, 'prayer': 9327, 'main': 7407, 'dipped': 3509, 'cinnamon': 2462, 'apple': 826, 'fed': 4414, 'teno': 11955, 'yet': 13762, 'dig': 3479, 'irritable': 6370, 'syndrome': 11801, 'hide': 5721, 'short': 10798, 'waving': 13315, 'tie': 12198, 'basement': 1257, 'donkey': 3654, 'hahahahahahahahaha': 5417, 'them': 12032, 'direction': 3515, 'accept': 325, 'larry': 6826, 'allegation': 547, 'bedroom': 1326, 'naive': 8077, 'blind': 1590, 'husband': 5975, 'created': 2984, 'among': 631, 'late': 6846, 'tag': 11821, 'hunter': 5966, 'julia': 6570, 'robert': 10166, 'follow': 4648, 'brick': 1810, 'lmfaoooooooooooooooooo': 7194, 'concourse': 2733, 'course': 2927, 'weady': 13328, 'davis': 3195, 'scientist': 10470, 'create': 2983, 'remote': 9949, 'controlled': 2829, 'penguin': 8939, 'hoy': 5927, 'sank': 10377, 'correct': 2889, 'limping': 7100, 'involve': 6339, 'pound': 9305, 'cake': 2053, 'aide': 499, 'lighter': 7028, 'recourse': 9837, 'vol': 12986, 'net': 8171, 'ze': 13817, 'congested': 2763, 'wat': 13295, 'van': 12852, 'rage': 9678, 'je': 6471, 'dix': 3612, 'kirk': 6701, 'franklin': 4773, 'neighbor': 8157, 'grand': 5254, 'porch': 9262, 'broken': 1849, 'knife': 6725, 'both': 1707, '22': 108, 'freeeeezing': 4793, 'sliding': 11003, 'admit': 402, 'able': 288, 'since': 10894, 'rush': 10281, 'loss': 7271, 'thought': 12144, 'photoshopped': 9041, 'smith': 11065, 'flame': 4562, 'super': 11672, 'meanwhile': 7599, 'bitchescurse': 1518, 'eeeeeen': 3923, 'nan': 8089, 'boat': 1636, 'ovo': 8737, 'hendricks': 5679, 'gotten': 5228, 'base': 1252, 'dying': 3850, 'our': 8656, 'bryan': 1892, 'racenumberstand': 9658, 'before': 1340, 'monger': 7872, '1848': 72, 'pistol': 9107, 'whip': 13444, 'club': 2556, 'freestyle': 4796, 'pierced': 9068, 'timeline': 12221, 'rely': 9930, 'machiavelli': 7369, 'belly': 1377, 'fancurse': 4356, 'comment': 2661, 'timberlake': 12217, 'withnumbermillion': 13567, 'searching': 10535, 'incredible': 6124, 'ofnumberwhite': 8503, 'quest': 9621, 'ingredient': 6181, 'necessary': 8134, 'caribbean': 2150, 'jerked': 6486, 'chicken': 2375, 'redness': 9851, 'selling': 10591, 'material': 7549, 'fast': 4379, 'ak': 510, 'shall': 10683, 'compare': 2681, 'thee': 12023, 'summercurse': 11655, 'shape': 10696, 'organic': 8624, 'wing': 13526, 'drag': 3711, 'florida': 4620, 'swamp': 11743, 'hussy': 5979, 'slow': 11022, 'class': 2499, 'football': 4673, 'player': 9161, 'shove': 10815, 'needle': 8145, 'supple': 11689, 'buck': 1901, 'dirt': 3520, 'finger': 4507, 'bordering': 1689, 'county': 2923, 'grows': 5341, 'selfish': 10588, 'wicked': 13488, 'color': 2626, 'restricted': 10036, 'student': 11573, 'picking': 9054, 'sour': 11236, 'trifle': 12466, 'petty': 9010, 'swept': 11767, 'stuck': 11571, 'division': 3609, 'saint': 10329, 'waited': 13031, 'motherfucker': 7934, 'missy': 7808, 'elliott': 3977, 'recipe': 9823, 'leftover': 6940, 'eaten': 3888, 'those': 12137, 'broad': 1838, 'represent': 9982, 'your': 13788, 'noneeee': 8297, 'road': 10155, 'diverged': 3603, 'tunheimr': 12539, 'frost': 4840, 'giant': 5065, '200': 92, 'harmony': 5524, 'antonio': 747, 'larger': 6823, 'uh': 12624, 'empty': 4023, 'cab': 2033, 'latest': 6850, 'low': 7304, 'virgin': 12955, 'regular': 9898, 'whaaaaaat': 13408, 'ole': 8530, 'city': 2477, 'dooties': 3665, 'spy': 11356, 'kkk': 6713, 'biology': 1482, 'spasm': 11263, 'squad': 11359, 'jiggaboo': 6505, 'marriage': 7507, 'beyond': 1447, 'seeingnumberfags': 10565, 'walking': 13045, 'chris': 2433, 'six': 10929, 'allison': 556, 'wannagreen': 13113, 'ranger': 9716, 'evil': 4184, 'question': 9622, 'will': 13508, 'device': 3420, 'rough': 10235, 'established': 4130, 'colony': 2625, 'burning': 1960, 'mtzra': 7973, 'ym': 13765, 'egyptian': 3935, 'ysrah': 13807, 'inheritance': 6184, 'kushite': 6772, 'ethiopian': 4140, 'yaoooooooo': 13722, 'horn': 5878, 'worn': 13638, 'worthy': 13652, 'subject': 11596, 'smell': 11052, 'flower': 4625, 'ended': 4030, 'unna': 12718, 'spear': 11268, 'chucked': 2447, 'response': 10024, 'pull': 9543, 'collect': 2613, 'stormy': 11521, 'jake': 6448, 'light': 7025, 'bell': 1373, 'atnumberin': 989, 'morning': 7911, 'diana': 3442, 'miracle': 7787, 'today': 12257, 'serve': 10637, 'help': 5673, 'deeeeaaaadd': 3266, 'sacro': 10312, 'card': 2134, 'living': 7157, 'total': 12351, 'ass': 940, 'paper': 8806, 'image': 6058, 'garden': 4966, 'flat': 4573, 'slut': 11033, 'cash': 2177, 'star': 11410, 'playing': 9166, 'slipper': 11010, 'wannaplay': 13163, 'arizona': 879, 'ago': 481, 'handicapped': 5470, 'crippled': 3014, 'bitcheslook': 1521, 'scalp': 10431, 'close': 2540, 'triple': 12480, 'freak': 4779, 'resident': 10004, 'drama': 3720, 'attribute': 1023, 'keyshawn': 6657, 'johnson': 6527, 'merry': 7691, 'save': 10411, 'judgement': 6562, 'jumbotron': 6576, 'watching': 13300, 'majjinn': 7415, 'settle': 10649, 'headbutt': 5608, 'pardon': 8825, 'couture': 2932, 'river': 10152, 'vein': 12877, 'diagram': 3436, 'large': 6822, 'stockton': 11495, 'chorea': 2428, 'luke': 7331, 'father': 4386, 'id': 6008, 'deck': 3253, 'tysonnumbercombo': 12615, 'end': 4028, 'uppercut': 12757, 'dip': 3506, 'keeper': 6631, 'rip': 10135, 'apart': 797, 'briony': 1830, 'bible': 1449, 'leviticus': 6988, '75': 240, 'bright': 1820, 'wag': 13021, 'studio': 11575, 'mufuckin': 7986, 'crib': 3003, 'busy': 1981, 'skin': 10949, 'suit': 11645, 'assuming': 966, 'booming': 1671, 'dispute': 3579, 'ilyin': 6057, 'lord': 7263, 'race': 9654, 'poor': 9246, 'fabulous': 4287, 'nap': 8095, 'seeing': 10564, 'innumberseconds': 6221, 'abraham': 306, 'lincoln': 7101, 'latin': 6852, 'kardashian': 6615, 'shaped': 10697, 'fridge': 4810, 'tortilla': 12344, 'pipe': 9101, 'moment': 7861, 'rain': 9689, 'needy': 8151, 'sidelong': 10861, 'begin': 1348, 'facebook': 4290, 'camp': 2085, 'blowing': 1616, 'spare': 11256, 'tire': 12235, 'leaving': 6919, 'dairy': 3132, 'queen': 9618, 'fun': 4895, 'wilson': 13516, 'tribute': 12461, 'enough': 4063, 'wash': 13270, 'teabagger': 11898, 'retreat': 10059, 'wet': 13403, 'community': 2679, 'organizer': 8627, 'embarrassed': 3990, 'angel': 690, 'remains': 9934, 'caucus': 2199, 'bass': 1267, 'fish': 4538, 'dock': 3617, 'governor': 5234, 'coverage': 2935, 'streaming': 11540, 'online': 8554, 'number': 8353, 'fruit': 4846, 'loop': 7254, 'becomes': 1321, 'designed': 3388, 'pain': 8769, 'existed': 4222, 'creator': 2990, 'sooty': 11214, 'unite': 12701, 'pure': 9563, 'passion': 8867, '10': 10, 'toocurse': 12308, 'amos': 633, '33': 152, 'except': 4197, 'agreed': 487, '510': 195, 'upholds': 12749, 'justice': 6591, 'court': 2928, 'detest': 3411, 'truth': 12508, 'matthew': 7555, '26': 124, 'air': 504, 'heavenly': 5642, 'valuable': 12846, 'belated': 1363, 'sixty': 10932, 'fifth': 4466, 'numberbirthday': 8360, '28': 130, 'mary': 7521, 'agnes': 480, 'hunger': 5959, 'diet': 3470, 'bean': 1291, 'quit': 9641, 'whining': 13443, 'kissing': 6705, 'otherwise': 8649, 'non': 8295, 'europeans': 4147, 'allowed': 565, 'possibly': 9286, 'tucking': 12529, 'penis': 8940, 'boot': 1681, 'easier': 3878, 'out': 8658, 'sacrificing': 10311, 'hood': 5856, 'losing': 7270, 'self': 10585, 'blessed': 1586, 'muslin': 8023, 'expect': 4232, 'bride': 1812, 'yard': 13723, 'witch': 13552, 'pitch': 9110, 'evolved': 4188, 'absurd': 313, 'lingo': 7108, 'angle': 699, 'slang': 10973, 'pang': 8800, 'drum': 3786, 'swing': 11779, 'flick': 4597, 'alarm': 515, 'fire': 4521, 'whiff': 13437, 'involuntary': 6338, 'downtown': 3701, 'hairy': 5434, 'scar': 10437, 'sense': 10609, 'seize': 10582, 'farmer': 4371, 'outside': 8681, 'kansa': 6611, 'panic': 8802, 'metaphor': 7705, 'policy': 9218, 'vital': 12970, 'organ': 8623, 'host': 5897, 'dy': 3845, 'tail': 11823, 'savior': 10416, 'futuristic': 4923, 'earth': 3874, 'attention': 1013, 'worse': 13642, 'convinced': 2842, 'because': 1317, 'royal': 10249, 'october': 8461, 'treading': 12439, 'montana': 7889, 'weekscurse': 13365, 'traphouseeeeeeee': 12418, 'isaiah': 6378, 'wanted': 13238, 'fasting': 4382, 'feat': 4406, 'callous': 2069, 'wannamess': 13151, 'impact': 6076, 'pushkin': 9578, 'spice': 11295, 'opening': 8579, 'serving': 10641, 'sample': 10359, 'cider': 2454, 'spider': 11296, 'joshua': 6548, '13': 46, 'tread': 12438, 'upon': 12755, 'unto': 12737, 'moses': 7921, 'landing': 6810, 'warrior': 13266, 'instead': 6261, 'ruining': 10265, 'others': 8648, 'ring': 10128, 'leader': 6890, 'cruz': 3054, 'lee': 6928, 'bachmann': 1118, 'exist': 4221, 'hashtagnumberstraight': 5543, 'champion': 2276, 'contrary': 2823, 'cooper': 2861, 'international': 6298, 'prostitute': 9492, 'lesion': 6968, 'played': 9160, 'sport': 11330, '6th': 232, 'grade': 5242, 'didn': 3462, 'noma': 8291, 'commits': 2669, 'baden': 1142, 'snorting': 11101, 'pygmie': 9604, 'dust': 3835, 'troop': 12485, 'handed': 5467, 'severe': 10657, 'defeat': 3275, 'saqlawiya': 10385, 'chatter': 2326, 'overnumbersoldiers': 8723, 'jihadis': 6510, 'raving': 9750, 'killed': 6677, 'offer': 8477, 'calm': 2070, 'average': 1065, 'ill': 6044, 'plate': 9149, 'spanish': 11253, 'bynumberand': 2020, 'bynumberbecause': 2022, 'dressing': 3750, 'reminded': 9944, 'panelled': 8798, 'perplexed': 8985, 'century': 2250, 'celebrate': 2225, 'overnumberbillion': 8714, 'comb': 2637, 'yer': 13755, 'beard': 1297, 'torn': 12339, 'sky': 10960, 'radio': 9673, 'edit': 3913, 'once': 8546, 'bitten': 1550, 'twice': 12582, 'texas': 11979, 'whipped': 13445, 'putting': 9600, 'hundred': 5956, 'peter': 9004, 'nina': 8257, 'taking': 11839, 'november': 8339, '10th': 27, 'ticket': 12194, '44': 180, 'continue': 2815, 'finished': 4515, 'calorie': 2073, 'garrett': 4972, 'reflex': 9874, 'though': 12143, 'breast': 1794, 'feed': 4418, 'tut': 12562, 'solve': 11172, 'usually': 12818, '218': 106, 'covington': 2939, 'foi': 4643, 'andy': 689, 'politics': 9224, 'awakening': 1072, 'wretched': 13671, 'livid': 7156, 'smashed': 11049, 'rousing': 10241, 'sucking': 11626, 'focus': 4635, 'about': 293, 'hugging': 5935, 'gasbag': 4974, 'actual': 376, 'genetic': 5021, 'engineering': 4049, 'lab': 6776, 'natural': 8113, 'knocked': 6729, 'hatred': 5563, 'um': 12634, 'teen': 11921, 'dcyoungfly': 3215, 'dirtymoney24': 3522, '21': 103, 'fantastic': 4364, 'ready': 9774, 'sweep': 11756, 'disposed': 3576, 'milwaukee': 7763, 'most': 7925, 'wished': 13547, 'suckhow': 11624, 'lose': 7268, 'yankee': 13715, 'gerard': 5040, 'lapdance': 6820, 'exitnumberniccas': 4227, 'niggahs': 8230, 'telling': 11934, 'wannafuck': 13106, 'pineapple': 9093, 'soda': 11151, 'hawaiian': 5589, 'ay': 1094, 'usernumbercases': 12785, 'west': 13399, 'nile': 8254, 'virus': 12962, 'infection': 6160, 'reported': 9979, 'orange': 8604, 'numbered': 8369, 'carrying': 2167, '1030': 19, 'david': 3193, 'bladder': 1560, 'decides': 3249, 'sub': 11594, 'wall': 13048, 'hurricane': 5970, 'matrena': 7552, 'moan': 7835, '100': 11, 'deep': 3268, 'half': 5439, 'stroke': 11557, 'dump': 3824, 'extremely': 4274, 'referred': 9867, 'zimmerman': 13827, 'creep': 2997, 'pontiac': 9239, 'sprinkled': 11349, 'spin': 11301, 'withnumberbitches': 13561, 'diversity': 3606, 'tolerable': 12268, 'violated': 12949, 'sovereignty': 11245, 'borderjihadiscriminaldiseasedhaitianssamericans': 1690, 'peanut': 8914, 'butter': 1997, 'wasted': 13292, 'four': 4756, 'point': 9203, 'scale': 10430, 'ofnumberto': 8501, 'penny': 8944, 'shave': 10713, 'vyvansecurse': 13006, '201': 98, 'rod': 10184, 'winning': 13531, 'fitting': 4547, 'robertson': 10168, 'pitcher': 9112, 'mccarthy': 7575, 'outduels': 8667, 'keuchel': 6652, 'series': 10630, 'final': 4493, '60': 213, 'price': 9394, 'direct': 3513, 'blackest': 1557, 'breaking': 1791, 'killing': 6682, 'satellite': 10395, 'fouche': 4748, 'joe': 6522, 'complaining': 2698, 'showed': 10821, 'flex': 4593, 'zone': 13832, 'earned': 3869, 'innumberwhen': 6228, 'upper': 12756, 'lower': 7305, 'strength': 11543, 'nownumberhr': 8345, 'sale': 10340, 'gardener': 4967, 'canada': 2093, 'rest': 10028, 'bounce': 1718, 'lined': 7105, '67': 227, 'prime': 9403, 'tank': 11861, 'sept': 10622, 'beaten': 1306, 'three': 12151, 'town': 12369, 'nurse': 8421, 'building': 1923, 'corrupt': 2895, 'possible': 9284, 'proud': 9506, 'idkmixxed': 6023, 'la': 6775, 'palm': 8788, 'weather': 13345, 'horrible': 5884, 'washington': 13274, 'space': 11246, '80': 244, 'draught': 3727, 'horse': 5888, 'hello': 5667, 'ahead': 494, 'pocket': 9198, 'merely': 7685, 'indicator': 6142, 'individual': 6146, 'democrat': 3325, 'claim': 2483, 'fair': 4326, 'balanced': 1172, 'network': 8174, 'liar': 6994, 'wishingcurse': 13549, 'cody': 2596, 'seller': 10590, 'nominating': 8293, 'anyone': 783, 'famous': 4352, 'guide': 5361, 'shitbag': 10768, 'family': 4350, '325': 151, 'sable': 10302, 'paintbrushescurse': 8775, 'hanging': 5486, 'totally': 12353, 'prove': 9508, 'eighty': 3937, 'liberal': 6996, 'emotion': 4013, 'decision': 3252, 'damned': 3143, 'motto': 7945, 'browngal': 1869, 'india': 6133, 'sofawit': 11155, 'plastic': 9147, 'awwsome': 1089, 'remain': 9931, 'featnumberchainz': 4409, 'rocky': 10183, 'anal': 648, 'gaping': 4964, 'part': 8843, 'creampie': 2981, 'british': 1833, 'founding': 4754, 'brazilian': 1784, 'bow': 1731, 'babe': 1106, 'bony': 1664, 'caught': 2200, 'rubbing': 10256, 'rude': 10259, 'beach': 1289, 'preggie': 9348, 'swollen': 11786, 'squatting': 11364, 'fingered': 4509, 'ashore': 922, 'amateur': 607, 'mild': 7746, 'gunshot': 5376, 'beauty': 1313, 'japanese': 6463, 'girlcurse': 5084, 'oriental': 8630, 'brunette': 1884, 'un': 12637, 'exotic': 4228, 'wild': 13503, 'jammed': 6454, 'facialized': 4298, 'fist': 4543, 'wifecurse': 13496, 'more': 7905, 'loose': 7256, 'cream': 2978, 'numberyear': 8416, 'humming': 5951, 'florence': 4619, 'rubber': 10254, 'hiddencam': 5720, 'candid': 2101, 'hidden': 5719, 'submissive': 11601, 'outdoor': 8665, 'cramped': 2958, 'pumped': 9551, 'lingered': 7107, 'wounded': 13658, 'mast': 7539, 'plea': 9173, 'stud': 11572, 'german': 5042, 'cock': 2585, 'small': 11041, 'stepped': 11461, 'cutis': 3112, 'ten': 11943, 'toy': 12371, 'alicia': 540, 'silver': 10881, 'tinsel': 12230, 'homemade': 5834, 'tow': 12363, 'truck': 12497, 'grape': 5273, 'highschool': 5732, 'granulation': 5271, 'rate': 9738, 'uniformed': 12695, '15mins': 58, 'president': 9373, 'standing': 11404, 'clapping': 2491, 'precious': 9335, 'tapping': 11868, 'jimmy': 6513, 'mississippi': 7805, 'opposed': 8592, 'minimum': 7778, 'wage': 13022, 'labor': 6779, 'law': 6870, 'union': 12698, 'pro': 9425, 'scab': 10429, 'sweatshop': 11754, 'drinking': 3760, 'astray': 972, 'ti': 12189, 'worksnumbertimes': 13634, 'ofnumberif': 8493, 'loving': 7302, 'directing': 3514, 'beautifully': 1312, 'teabaggers': 11899, 'everytime': 4180, 'kitchen': 6707, 'refrigerator': 9879, 'sing': 10902, 'rock': 10175, 'bid': 1453, 'date': 3182, 'morris': 7914, 'dreamy': 3743, 'bud': 1908, 'plus': 9190, 'trip': 12478, 'visit': 12967, 'bourbon': 1723, 'st': 11378, 'torch': 12337, 'drain': 3717, 'finesse': 4505, 'fuckkkkk': 4878, 'killer': 6679, 'jose': 6545, 'kenneth': 6642, 'saladcurse': 10337, 'shell': 10733, 'crow': 3032, 'passenger': 8864, 'dun': 3828, 'orleans': 8637, 'rub': 10252, 'grew': 5308, 'book': 1668, 'corn': 2877, 'wasnumberi': 13282, 'smashing': 11050, 'paying': 8904, 'conde': 2736, 'yep': 13754, 'fucboy': 4853, 'youtubevineig': 13800, 'tom': 12273, 'mark': 7499, 'deaf': 3225, 'treated': 12444, 'ache': 355, 'laugh': 6856, 'congress': 2768, 'turned': 12548, 'housewife': 5918, 'thirty': 12122, 'singing': 10904, 'marble': 7480, 'thinccin': 12106, '3rd': 166, 'followed': 4650, 'hop': 5868, 'seminar': 10596, 'trap': 12415, 'hooouseee': 5865, 'ugh': 12618, 'simply': 10888, 'lawless': 6873, 'peace': 8909, 'jamaica': 6450, 'important': 6088, 'temporary': 11940, 'bullshit': 1935, 'honkeycurse': 5851, 'worth': 13647, 'quarter': 9614, 'mimi': 7764, 'covering': 2938, 'banner': 1215, 'setting': 10648, 'lean': 6897, 'tweetcurse': 12573, 'boring': 1693, 'backcurse': 1122, 'stomach': 11500, 'mufucka': 7984, 'rating': 9743, '310': 147, 'pose': 9275, 'maaaaannnn': 7365, 'rid': 10107, 'legend': 6947, 'batch': 1270, 'mike': 7743, 'third': 12119, 'sending': 10606, 'screenshots': 10506, 'testing': 11972, 'whitescurse': 13460, 'dorsum': 3669, 'fortune': 4743, 'dm': 3614, 'scurse': 10524, 'burnt': 1962, 'challenge': 2270, 'foolishness': 4669, 'age': 466, 'ally': 569, 'shady': 10676, 'tu': 12524, 'rook': 10211, 'relax': 9916, 'beam': 1290, 'habit': 5389, 'brittany': 1835, 'assume': 964, 'lithe': 7141, 'pork': 9263, 'crop': 3024, 'chair': 2267, 'brisker': 1831, 'sizzlin': 10935, 'drill': 3755, 'laid': 6794, 'silly': 10880, 'muddy': 7983, 'cheap': 2328, 'tack': 11814, '1stnumbercharlotte': 88, 'bank': 1209, 'stadium': 11386, 'downcurse': 3689, 'southridge': 11241, 'housecurse': 5914, 'explore': 4251, 'buying': 2008, 'barrel': 1243, 'teamcurse': 11905, 'bucket': 1904, 'honestly': 5846, 'leash': 6908, 'snap': 11083, 'chatted': 2325, 'fancy': 4357, 'finn': 4518, 'faded': 4311, 'shaded': 10674, 'drawing': 3731, 'everrrrrr': 4164, 'nerve': 8167, 'worked': 13625, 'dinner': 3499, 'parting': 8855, 'event': 4160, 'tripping': 12482, 'honkie': 5852, 'wave': 13312, 'wearing': 13342, 'shovel': 10817, 'handcurse': 5466, 'bat': 1269, 'delete': 3305, 'worker': 13626, 'rachel': 9659, 'embody': 3998, 'wannagive': 13111, 'wake': 13036, 'munching': 8000, 'unfaithful': 12681, 'fountain': 4755, 'daycurse': 3202, 'prettier': 9384, 'science': 10466, 'step': 11456, 'nextttt': 8198, 'here': 5689, 'person': 8989, 'valley': 12844, 'recruited': 9839, 'warehouse': 13253, 'missing': 7803, 'marion': 7498, 'guidance': 5360, 'miserable': 7794, 'til': 12208, 'mid': 7727, 'boyfriend': 1745, 'sink': 10911, 'min': 7767, 'silence': 10875, 'vodka': 12980, 'bent': 1394, 'overture': 8735, 'strip': 11552, 'mall': 7431, 'built': 1924, 'louisiana': 7287, 'claiborne': 2481, 'threesome': 12152, 'then': 12041, 'speaking': 11266, 'trusted': 12505, 'amazed': 608, 'wannacry': 13094, 'answer': 739, 'genius': 5024, 'se': 10526, 'el': 3942, 'delgado': 3306, 'de': 3217, 'japcurse': 6464, 'yocomo': 13768, 'poky': 9212, 'gin': 5076, 'album': 520, 'form': 4712, 'italy': 6404, 'tss': 12521, 'satan': 10394, 'mirajane': 7788, 'strain': 11529, 'aim': 500, 'gaywrites': 4994, 'project': 9457, 'harvard': 5531, 'highlight': 5730, 'chillincurse': 2388, 'whatcurse': 13416, 'himcurse': 5743, 'rapier': 9722, 'iris': 6361, 'severed': 10658, 'east': 3882, 'friendscurse': 4814, 'fired': 4525, 'soniccurse': 11199, 'etccurse': 4137, 'paid': 8767, 'suggest': 11642, 'smash': 11048, 'tossed': 12349, 'curbcurse': 3084, 'ear': 3863, 'breath': 1795, 'attitudecurse': 1017, 'sunk': 11666, 'nut': 8423, 'hook': 5861, 'homeless': 5832, 'sleeping': 10992, 'surrounded': 11717, 'bubble': 1898, 'systemcurse': 11808, 'minute': 7786, 'trunk': 12502, 'weakcurse': 13330, 'fashion': 4377, 'lmfaooooocurse': 7184, '98': 264, 'slum': 11027, 'frenchman': 4801, 'collegecurse': 2618, 'woaaaahh': 13588, 'coat': 2575, 'warm': 13257, 'frogged': 4824, 'evercurse': 4163, 'floppy': 4618, 'plan': 9132, 'skill': 10947, 'manure': 7472, 'norton': 8319, 'idccurse': 6011, 'trashlex': 12428, 'sat': 10393, 'spot': 11334, 'attempt': 1006, 'adderall': 384, 'stone': 11502, 'shared': 10702, 'awkward': 1086, 'awesome': 1081, 'been': 1332, 'ion': 6343, 'wannahear': 13118, 'teethcurse': 11925, 'whippedcurse': 13446, 'birdcurse': 1487, 'bidding': 1454, 'feelingscurse': 4424, 'owns': 8747, 'fail': 4320, 'animalcurse': 703, 'michael': 7716, 'joke': 6532, 'waste': 13291, 'alcoholcurse': 523, 'raise': 9694, 'mud': 7980, 'sharp': 10707, 'an': 643, 'bit': 1505, 'weedy': 13362, 'pock': 9197, 'dot': 3672, 'bikinicurse': 1471, 'polk': 9225, 'mess': 7696, 'named': 8084, 'shaquita': 10700, 'balaga': 1170, 'anaconda': 645, 'none': 8296, 'goal': 5132, 'dickcurse': 3449, 'victor': 12921, 'dance': 3148, 'thatcurse': 12012, 'suppose': 11696, 'wymcurse': 13691, 'godcurse': 5139, 'technically': 11916, 'breakup': 1793, 'loved': 7294, 'pine': 9092, 'tar': 11870, 'jordan': 6542, 'meancurse': 7592, 'vera': 12887, 'print': 9412, 'sheet': 10730, 'throwing': 12166, 'irrelevant': 6368, 'shade': 10673, 'store': 11518, 'formal': 4713, 'thurcurse': 12184, 'rape': 9719, 'cannibalism': 2107, 'recognize': 9827, 'original': 8633, 'version': 12901, 'tramping': 12399, 'difference': 3474, 'aspirin': 939, 'crazycurse': 2972, 'gaycurse': 4993, 'yuhhhh': 13810, 'church': 2453, 'absolutely': 310, 'police': 9217, 'vienna': 12926, 'sausage': 10405, 'lit': 7136, 'eva': 4150, 'hussar': 5978, 'rainbow': 9690, 'detail': 3405, 'rice': 10097, 'blasphemycurse': 1571, 'hopeless': 5873, 'symptom': 11800, 'ebook': 3898, 'hurting': 5974, 'nervouscurse': 8169, 'starving': 11425, 'africa': 444, 'banana': 1196, 'plug': 9186, 'hole': 5810, 'wannasomething': 13196, 'somebodycurse': 11179, 'desperate': 3394, 'overlay': 8710, 'listening': 7133, 'filled': 4485, 'attitude': 1016, 'knock': 6728, 'fo': 4633, 'sweetscurse': 11764, 'wasncurse': 13277, 'equalizer': 4095, 'daniel': 3159, 'officially': 8483, 'washed': 13271, 'bruhcurse': 1877, 'neither': 8162, 'flight': 4599, 'chillcurse': 2386, 'wealth': 13335, 'obscure': 8447, 'tempted': 11942, 'lmaocurse': 7161, 'wannago': 13112, 'themcurse': 12033, 'anne': 711, 'bonne': 1659, 'tiny': 12232, 'crisis': 3015, 'hawaii': 5588, 'dere': 3369, 'tore': 12338, 'consider': 2786, 'viet': 12927, 'nam': 8080, 'happened': 5494, 'beer': 1335, 'carburetor': 2132, 'rebuilt': 9808, 'neednumberthey': 8148, 'build': 1921, 'seriously': 10633, 'fagcurse': 4313, 'brandon': 1773, 'motherfucking': 7936, 'reasoncurse': 9799, 'tommy': 12278, 'interest': 6289, 'slide': 11000, 'thotcurse': 12140, 'male': 7427, 'cheerleader': 2345, 'carron': 2164, 'sometimescurse': 11192, 'marrying': 7511, 'avoid': 1066, 'support': 11691, 'heat': 5636, 'bandwagon': 1201, 'rider': 10110, 'juice': 6568, 'grinding': 5320, 'uw': 12829, 'madisoncurse': 7384, 'seem': 10568, 'startcurse': 11421, 'helloooo': 5668, 'available': 1061, 'unload': 12714, 'picturescurse': 9063, 'ham': 5453, 'herecurse': 5690, 'souvenir': 11243, 'storecurse': 11519, 'swimmcurse': 11776, 'agree': 485, 'illegal': 6045, 'wetback': 13404, 'returncurse': 10065, 'cookiescurse': 2851, 'turnnumberbuy': 12553, 'hat': 5551, 'forgot': 4710, 'parkcurse': 8832, 'loooool': 7250, 'driving': 3767, 'fuckcurse': 4866, 'brandy': 1774, 'slowly': 11025, 'becoming': 1323, 'weapon': 13338, 'youcurse': 13782, 'bare': 1230, 'dint': 3503, 'spent': 11292, 'childhood': 2381, 'afraid': 443, 'commitmentcurse': 2668, 'webbing': 13349, 'retardedcurse': 10048, 'traded': 12377, 'negative': 8154, 'matas': 7546, 'hoeshell': 5794, 'om': 8536, 'stealing': 11442, 'wasp': 13287, 'scratch': 10497, 'lay': 6881, 'weirdcurse': 13375, 'normal': 8314, 'kobecurse': 6749, 'malt': 7435, 'mugshotcurse': 7988, 'cleveland': 2519, 'niggahcurse': 8229, 'nervous': 8168, 'walkcurse': 13042, 'dusty': 3837, 'asfcurse': 918, 'train': 12387, 'extra': 4269, 'regain': 9885, 'headache': 5606, 'after': 448, 'linked': 7114, 'lmfaoo': 7177, 'bagging': 1152, 'linkiden': 7115, 'albus': 521, 'donna': 3655, 'skinedddd': 10951, 'niggercurse': 8237, 'loaf': 7202, 'businesscurse': 1978, 'islamic': 6381, 'suspect': 11723, 'indonesia': 6148, 'uighur': 12625, 'higher': 5726, 'pre': 9330, 'tool': 12313, 'private': 9420, 'tekkennumbercurse': 11928, 'playscurse': 9172, 'ending': 4031, 'ripscurse': 10139, 'raised': 9695, 'correctlycurse': 2892, 'scrotum': 10515, 'entitled': 4077, 'opinion': 8587, 'thocurse': 12131, 'huge': 5932, 'mental': 7646, 'asylum': 975, 'dallas': 3134, '1890': 75, 'channing': 2288, '3numberlbs': 165, 'warthogcurse': 13268, 'biting': 1549, 'sexycurse': 10669, 'lightskin': 7032, 'lmfaooocurse': 7180, 'smhcurse': 11058, 'denial': 3337, 'aux': 1059, 'cord': 2873, 'coonscurse': 2859, 'glory': 5121, 'lmfaooooooo': 7186, 'neithercurse': 8163, 'dermoid': 3372, 'obviously': 8453, 'fishycurse': 4542, 'taney': 11858, 'block': 1601, 'answered': 740, '58': 207, 'dickpussy': 3456, 'bestcurse': 1421, 'fromcurse': 4827, 'baltimore': 1192, 'cap': 2115, 'korscurse': 6755, 'funcurse': 4898, 'studying': 11577, 'nowcurse': 8342, 'shutcho': 10837, 'asks': 935, 'offended': 8471, 'knewcurse': 6723, 'levy': 6989, 'lmfaooo': 7179, 'homecoming': 5829, 'innumberdays': 6209, 'hating': 5561, 'hatingcurse': 5562, 'reduction': 9857, 'waycurse': 13319, 'seriouscurse': 10632, 'golden': 5155, 'basically': 1259, 'circle': 2463, 'creamcurse': 2980, 'hottest': 5909, 'ego': 3930, 'definitely': 3289, 'freely': 4794, 'hurry': 5971, 'focuscurse': 4636, 'ohhhhh': 8512, 'yessscurse': 13757, 'omgggg': 8540, 'mother': 7931, 'fuckascurse': 4862, 'ooh': 8571, 'learn': 6901, 'spellcurse': 11285, 'cooling': 2858, 'honesty': 5847, 'forcurse': 4683, 'ronneagle': 10208, 'thirsty': 12121, 'ship': 10760, 'manifesto': 7456, 'twitlonger': 12593, 'canadian': 2094, 'hosmer': 5893, 'adopt': 408, 'kit': 6706, 'treat': 12443, 'path': 8880, 'jay': 6468, 'hercules': 5687, 'funniest': 4907, 'global': 5118, 'ambassador': 612, 'playincurse': 9165, 'common': 2672, 'heatcurse': 5637, 'summer': 11654, 'null': 8350, 'han': 5461, 'diedcurse': 3466, 'gotnumberto': 5220, 'sextape': 10665, 'chile': 2384, 'lordcurse': 7264, 'dave': 3192, 'chappelle': 2295, 'signed': 10871, 'userscurse': 12811, 'assure': 969, 'liking': 7087, 'beaniescurse': 1294, 'religion': 9927, 'tonumberzip': 12304, 'tonightcurse': 12291, 'yessssirrrrr': 13758, 'dreamgirl': 3740, 'wooonnnttt': 13617, 'denying': 3349, 'mvpcurse': 8044, 'gal': 4939, 'anywaycurse': 791, 'preaching': 9333, 'thou': 12142, 'lance': 6806, 'stevenson': 11473, 'indianacurse': 6137, 'withnumberhoes': 13565, 'learned': 6902, 'dummy': 3823, 'foreskin': 4692, 'circumcise': 2468, 'foreseen': 4691, 'pillow': 9083, 'majority': 7417, 'arguing': 876, 'aorta': 794, 'timecurse': 12220, 'excessive': 4201, 'convoy': 2845, 'minded': 7769, 'wiz': 13584, 'howard': 5924, 'elbow': 3946, 'verse': 12898, 'blocked': 1602, 'ignoble': 6032, 'felt': 4434, 'linecurse': 7104, 'cling': 2532, 'mmmmmether': 7825, 'porto': 9271, 'ricans': 10096, 'facecurse': 4291, 'awe': 1079, 'rodriguez': 10186, 'eligible': 3967, 'ulcer': 12628, 'brooklyn': 1856, 'jelly': 6480, 'lmaoooo': 7164, 'domo': 3645, 'mouthcurse': 7953, 'mo': 7833, 'ed': 3906, 'darling': 3172, 'backatown': 1120, 'essaycurse': 4126, 'gradecurse': 5243, 'tomorrowcurse': 12280, 'disrespectful': 3584, 'term': 11959, 'nocturne': 8283, 'mi': 7714, 'bundle': 1948, 'nopecurse': 8312, 'costing': 2899, 'dayscurse': 3210, 'figuredcurse': 4477, '62': 218, 'arm': 881, 'muddle': 7981, 'heardcurse': 5627, 'oncecurse': 8547, 'guesscurse': 5356, 'shaving': 10718, 'athletic': 981, 'purpose': 9569, 'resting': 10031, 'debt': 3239, 'marcus': 7484, 'hopping': 5875, 'fax': 4401, 'goose': 5183, 'fold': 4644, 'soulcurse': 11226, 'autocorrect': 1051, 'deserved': 3383, 'foul': 4751, 'digging': 3481, 'anumbernow': 761, 'starburst': 11412, 'getnumberyellows': 5055, 'todaycurse': 12258, 'wardrobe': 13250, 'consist': 2791, 'mostly': 7926, 'legging': 6950, 'guilty': 5364, 'protein': 9500, 'acting': 369, 'yearcurse': 13744, 'pool': 9244, 'edward': 3920, 'sparkledcurse': 11261, 'reality': 9782, 'placecurse': 9123, 'mmm': 7823, 'daily': 3131, 'anymorecurse': 782, 'morecurse': 7906, 'whycurse': 13483, 'preach': 9331, 'sounded': 11232, 'inspiring': 6252, 'slim': 11006, 'waist': 13028, 'innocent': 6202, 'smilescurse': 11061, 'truuuuuu': 12512, 'seminole': 10597, 'redskin': 9853, 'seminude': 10598, 'tribe': 12460, 'agreement': 488, 'theme': 12034, 'pothead': 9302, 'twittercurse': 12597, 'pot': 9295, 'dreaming': 3741, 'gospel': 5191, 'weaaakkkcurse': 13327, 'lmfaooooooooo': 7189, 'mania': 7454, 'gedditcurse': 5001, 'disrespected': 3583, 'switch': 11781, 'bread': 1786, 'playoff': 9171, 'havingnumberbitches': 5585, 'wavecurse': 13313, 'onecurse': 8550, 'splash': 11315, 'wednesday': 13356, 'browniescurse': 1871, 'daughter': 3191, 'activity': 373, 'pet': 9002, 'schoolcurse': 10459, 'dare': 3163, 'lamp': 6804, 'lighten': 7027, 'purse': 9571, 'measure': 7602, 'faggotcurse': 4314, 'fruitcakecurse': 4847, 'supportcurse': 11692, 'naval': 8118, 'chat': 2323, 'thenumberguys': 12056, 'vehicle': 12875, 'utah': 12820, 'traitcurse': 12395, 'spongebob': 11326, 'countcurse': 2913, 'wandering': 13054, 'jizzbag': 6516, 'automatically': 1055, 'toll': 12271, 'darkskin': 3170, 'urban': 12765, 'stolen': 11499, 'holly': 5819, 'nooooo': 8308, 'uglier': 12620, 'survived': 11720, 'swine': 11778, 'bloomberg': 1612, 'administration': 398, 'finecurse': 4502, 'survival': 11718, 'witty': 13583, 'staplescurse': 11409, 'menumberrellos': 7678, 'pony': 9240, 'dusted': 3836, 'typecurse': 12609, 'beanercurse': 1292, 'awaycurse': 1078, 'nahcurse': 8070, 'meeting': 7621, 'jobcurse': 6519, 'benefit': 1389, 'gap': 4962, 'loosecurse': 7257, 'hahacurse': 5407, 'hahahahahahahahahaahah': 5418, 'cuntcurse': 3076, 'shuts': 10839, 'libdog': 6995, 'bark': 1237, 'grandpacurse': 5264, 'smack': 11038, 'playground': 9164, 'expresscurse': 4259, 'paneracurse': 8799, 'beef': 1331, 'shutter': 10840, 'niggascurse': 8233, 'den': 3334, 'snumberdollars': 11119, 'andnumberfor': 669, 'ax': 1090, 'breed': 1801, 'slammed': 10969, 'popping': 9256, 'dilemmacurse': 3488, 'ray': 9754, 'jam': 6449, 'within': 13557, 'verncurse': 12896, 'unfortunately': 12686, 'shanty': 10695, 'accidentally': 334, 'pledge': 9179, 'coolest': 2857, 'asidescurse': 928, 'criedcurse': 3006, 'lure': 7341, 'milk': 7753, 'ladycurse': 6789, 'ringcurse': 10129, 'loafcurse': 7203, 'wifeycurse': 13498, 'constant': 2797, 'fear': 4402, 'sooooo': 11206, 'androidnumberto': 687, 'destroy': 3402, 'andros': 688, '247curse': 116, 'award': 1073, 'sam': 10350, 'handcuff': 5464, 'phonecurse': 9030, 'condemn': 2737, 'seatbelt': 10542, 'kept': 6647, 'almost': 574, 'beennumberyrs': 1334, 'huhcurse': 5939, 'shiny': 10759, 'musty': 8029, 'jealous': 6472, 'subtweet': 11608, 'brain': 1763, 'yelled': 13748, 'having': 5584, 'dashing': 3179, 'menace': 7640, 'discussioncurse': 3551, 'nature': 8116, 'couuuuuchcurse': 2933, 'feb': 4411, 'flaming': 4564, 'likenumberpeople': 7068, 'crash': 2962, 'nigel': 8221, 'bumcurse': 1941, 'slutcurse': 11034, 'shoppingcurse': 10795, 'practicecurse': 9320, 'snow': 11102, 'typical': 12611, 'costume': 2901, 'officer': 8481, 'themselvescurse': 12040, 'shoutcurse': 10812, 'ice': 6000, 'sip': 10913, 'smoking': 11070, 'stating': 11429, 'twerkingcurse': 12581, 'ignat': 6030, 'clothing': 2550, 'violation': 12950, 'likenumberbackwoods': 7043, 'woe': 13595, 'adam': 381, 'jones': 6539, '3curse': 163, 'lover': 7301, 'shavonne': 10719, 'fell': 4427, 'dinnercurse': 3500, 'draw': 3728, 'clothes': 2548, 'perry': 8986, 'knee': 6721, 'successfully': 11617, 'mentionnumberunder': 7666, 'keepercurse': 6632, 'wrestle': 13670, 'diamond': 3440, 'versecurse': 12899, 'limp': 7098, 'degraded': 3296, 'reallypussy': 9790, 'shuuutt': 10842, 'pitt': 9116, 'headband': 5607, 'trenton': 12456, 'gossman': 5193, 'seencurse': 10572, 'colt': 2632, 'muco': 7978, 'winscurse': 13534, 'thanksgiving': 11999, 'turkey': 12545, 'soggycurse': 11160, 'shanni': 10693, 'regroupcurse': 9897, 'togethercurse': 12262, 'bitchbitchbitchbitchbitchbitchcurse': 1510, 'crushcurse': 3048, 'femalecurse': 4436, 'jenny': 6483, 'hudson': 5930, 'weight': 13372, 'carecurse': 2141, 'bedcurse': 1325, 'jerk': 6485, 'orangutan': 8605, 'actress': 375, 'robertscurse': 10167, 'monkeycurse': 7880, 'hoosier': 5867, 'interview': 6307, 'anywayscurse': 792, '2nd': 136, 'inningcurse': 6200, 'bamboo': 1193, 'alfred': 533, 'acre': 365, 'relieve': 9925, '4th': 191, 'gas': 4973, 'trade': 12376, 'hint': 5749, 'speak': 11264, 'rug': 10262, 'buttockscurse': 2001, 'content': 2811, 'cotton': 2905, 'picked': 9051, 'wassupcurse': 13289, 'byecurse': 2018, 'order': 8611, 'alaska': 516, 'ignoring': 6036, 'le': 6887, 'cain': 2050, 'copper': 2868, 'myself': 8055, 'blank': 1568, 'shittttttt': 10777, 'sweetcurse': 11759, 'viii': 12933, 'selfcurse': 10586, 'cyril': 3119, 'ballcurse': 1182, 'throttle': 12161, 'thot': 12139, 'snapchatt': 11087, 'loyalcurse': 7311, 'giggler': 5073, 'map': 7475, 'salad': 10336, 'vegetable': 12872, 'potato': 9297, 'acuteness': 379, 'stung': 11581, 'purge': 9564, 'huntingcurse': 5968, 'classic': 2500, 'forgetcurse': 4702, 'clock': 2537, 'hour': 5911, 'lipping': 7120, 'skincurse': 10950, 'lmaosjdusubejs': 7174, 'insensitive': 6239, 'wreck': 13663, 'following': 4653, 'jazz': 6470, 'boicurse': 1640, 'likecurse': 7038, 'sphere': 11294, 'swearcurse': 11747, 'brim': 1825, 'dreamcurse': 3737, 'wannacharge': 13085, 'shown': 10825, 'sent': 10613, 'thiscurse': 12125, 'peep': 8926, 'squared': 11362, 'against': 463, 'boiled': 1642, 'quicker': 9628, 'womencurse': 13601, 'griiindcurse': 5314, 'luuuuuuv': 7348, 'charging': 2304, 'backwards': 1138, 'nicer': 8210, '65': 224, 'downy': 3703, 'wannaact': 13056, 'messycurse': 7700, 'valentine': 12840, 'altar': 597, 'gras': 5277, 'pope': 9251, 'onnumberboa': 8560, 'tripped': 12481, 'brave': 1778, 'wonderful': 13606, 'mnumbermuch': 7829, 'andnumbermuch': 674, 'surprised': 11713, 'listennumbermy': 7134, 'eazycurse': 3895, 'picscurse': 9058, 'buy': 2006, 'slip': 11008, 'slippingcurse': 11013, 'usernumberyou': 12810, 'basketball': 1266, 'grow': 5336, 'scraped': 10496, 'reunion': 10068, 'sydney': 11794, 'favoritecurse': 4398, 'depressed': 3362, 'samecurse': 10353, 'bless': 1585, 'levelcurse': 6980, 'letting': 6978, 'facescurse': 4296, 'gross': 5329, 'fightcurse': 4470, 'lmaooocurse': 7163, 'movement': 7960, 'rubbed': 10253, 'dumbass': 3818, 'sarcastic': 10388, 'eatcurse': 3887, 'elfcurse': 3965, 'girlscurse': 5092, 'secret': 10549, 'cocoa': 2592, 'puff': 9539, 'paint': 8774, 'bugattis': 1916, 'friendzonedcurse': 4817, 'daaaaaaaam': 3123, 'wyeth': 13690, 'patrol': 8888, 'bravo': 1780, 'sportcurse': 11331, 'trigger': 12468, 'fingercurse': 4508, 'dora': 3666, 'table': 11810, 'manner': 7461, 'demolishing': 3329, 'whoever': 13470, 'outsidecurse': 8682, '17th': 67, 'sign': 10868, 'beside': 1417, 'famouscurse': 4353, 'everywherecurse': 4182, 'datescurse': 3185, 'discourse': 3542, 'wackcurse': 13014, 'appreciate': 836, '18': 68, '25curse': 123, 'jaw': 6467, 'peencurse': 8925, 'apartcurse': 798, 'lapcurse': 6819, 'publixcurse': 9534, 'stair': 11392, 'rocking': 10180, 'coolcurse': 2856, 'rationalcurse': 9745, 'headphone': 5615, 'seventh': 10655, 'mstrophenboum': 7971, 'brian': 1809, 'anythingcurse': 787, 'jigger': 6507, 'heartbroken': 5632, 'inner': 6197, 'havecurse': 5572, 'digit': 3482, 'uniform': 12694, 'seasoncurse': 10539, 'epic': 4087, 'organization': 8625, 'smooth': 11072, 'criminal': 3009, 'gmfucurse': 5128, 'halifax': 5443, 'divorced': 3611, 'twitpic': 12594, 'eyescurse': 4281, 'deeper': 3269, 'wannadate': 13097, 'forest': 4693, 'shocked': 10784, 'offering': 8479, 'receive': 9814, 'stressing': 11546, 'partner': 8857, 'crimecurse': 3008, 'solo': 11168, 'rewardcurse': 10086, 'homocurse': 5841, 'lift': 7022, 'breakfast': 1790, 'anywhere': 793, 'earring': 3872, 'specially': 11270, 'dandy': 3154, 'harsh': 5529, 'bethink': 1431, 'statement': 11428, 'strap': 11533, 'muhfuckas': 7991, 'square': 11361, 'headcurse': 5609, 'wind': 13519, 'knoll': 6732, 'tt': 12523, 'figured': 4476, 'spread': 11342, 'offensecurse': 8474, 'wannawined': 13234, 'dined': 3495, 'earn': 3868, 'sobbing': 11138, 'thangscurse': 11992, 'written': 13680, 'boyzzzzzzcurse': 1750, 'oleeeee': 8531, 'retweeettt': 10066, '1000': 12, 'lmfaocurse': 7176, 'indirect': 6144, 'blastcurse': 1573, 'submit': 11602, 'delicate': 3308, 'rico': 10106, 'shytcurse': 10845, 'biggest': 1461, 'hollywood': 5820, 'dislikecurse': 3564, 'nick': 8213, 'trifling': 12467, 'comfortable': 2652, 'gut': 5378, 'emojiscurse': 4011, 'bangcurse': 1205, 'trusting': 12507, 'noon': 8306, 'stefanie': 11448, 'stefaniecurse': 11449, 'hill': 5737, 'diarycurse': 3446, 'saycurse': 10425, 'optimism': 8598, 'twin': 12585, 'glass': 5109, 'insanecurse': 6235, 'irritated': 6372, 'liescurse': 7016, 'grown': 5340, 'preside': 9372, 'seenumberof': 10577, 'withnumbergirls': 13564, 'hadnumberdudes': 5399, 'slutwhore': 11036, 'meanscurse': 7596, 'responding': 10022, 'master': 7540, 'chancre': 2281, 'value': 12847, 'luck': 7321, 'greet': 5306, 'insultcurse': 6269, '110': 29, 'literally': 7137, 'anumberurl': 770, 'legendfuck': 6949, 'seennumberpregnant': 10575, 'restless': 10032, 'agreecurse': 486, 'misfitscurse': 7796, 'simon': 10885, 'hardly': 5514, 'cared': 2142, 'harry': 5528, 'wtfcurse': 13684, 'illegalcurse': 6046, 'th': 11985, 'mashka': 7531, 'innumbermonthscurse': 6218, 'obamacare': 8436, 'webster': 13352, 'hahahahahah': 5413, 'dwyer': 3844, 'clothescurse': 2549, 'nvmcurse': 8425, 'tat': 11878, 'doeeee': 3624, 'group': 5332, 'undercover': 12660, 'everybodycurse': 4168, 'watchcurse': 13297, 'same': 10352, 'knowncurse': 6743, 'raided': 9685, 'wig': 13499, 'closet': 2545, 'wannafun': 13108, 'hang': 5485, 'kimberley': 6687, 'scarlet': 10443, 'fleet': 4590, 'vocabulary': 12978, 'hugscurse': 5938, 'shine': 10756, 'poly': 9229, 'gotnumberfelony': 5205, 'population': 9261, 'keepscurse': 6635, 'hung': 5957, 'bathroom': 1275, 'dominion': 3643, 'receipt': 9813, 'bitchyest': 1545, 'birdcage': 1486, 'byyyyyyrrrrrrrrrrrrr': 2031, 'herd': 5688, 'schressful': 10463, 'association': 962, 'rushed': 10282, 'tonguecurse': 12288, 'singleyou': 10908, 'sno': 11098, 'bopcurse': 1687, 'ananconda': 652, 'dumpster': 3827, 'modern': 7851, 'farm': 4370, 'system': 11806, 'beercurse': 1336, 'lmfaooooo': 7183, 'practice': 9319, 'worrying': 13641, 'meal': 7590, 'boutcurse': 1727, 'harassed': 5503, 'sensecurse': 10610, 'wealthy': 13337, 'handsome': 5480, 'tend': 11944, 'sadcurse': 10314, 'wannafight': 13104, 'highest': 5727, 'keyscurse': 6656, 'daytime': 3211, 'weightscurse': 13373, 'netflix': 8172, 'livecurse': 7149, 'chuck': 2446, 'chuckle': 2448, 'essence': 4127, 'stagenumberstepping': 11389, '300': 140, 'sew': 10660, 'pizzacurse': 9121, 'curly': 3091, 'karl': 6618, 'lagerfeldcurse': 6792, 'chuassup': 2443, '24': 113, 'badly': 1145, 'omgcurse': 8539, 'powercurse': 9313, 'bignumberis': 1464, 'ayyyyy': 1099, 'forevernumberhuh': 4696, 'mummy': 7999, 'moneycurse': 7867, 'dawgcurse': 3197, 'stage': 11388, 'affection': 437, '247': 115, 'predictablecurse': 9341, 'trouble': 12492, 'honest': 5845, 'salt': 10346, 'kidscurse': 6671, 'bill': 1472, 'frozen': 4845, 'history': 5765, 'punched': 9553, 'accident': 333, 'tax': 11885, 'fraud': 4776, 'voting': 13002, 'lawyer': 6879, 'doctor': 3618, 'coast': 2574, 'sweetest': 11761, 'stuntcurse': 11584, 'shed': 10724, 'rapedhashtag': 9720, 'crushed': 3049, 'bluntcurse': 1624, 'stress': 11544, 'musiccurse': 8019, 'contemplate': 2808, 'rnscurse': 10154, 'guilt': 5363, 'safe': 10320, 'placenumberdecaf': 9125, 'coffee': 2598, 'humor': 5952, 'massage': 7537, 'park': 8831, 'sea': 10527, '718': 236, '622': 219, '0221': 7, 'numberurl': 8415, 'defiantly': 3286, 'few': 4454, 'traffic': 12382, 'understood': 12671, 'explained': 4245, 'spray': 11339, 'breeze': 1804, 'jean': 6475, 'egg': 3927, 'palmar': 8789, 'scripture': 10513, 'religious': 9928, 'social': 11143, 'metal': 7704, 'aside': 927, 'august': 1035, 'angina': 698, 'moaning': 7836, 'nn': 8271, 'ecstasy': 3904, 'moaaaanin': 7834, 'poster': 9289, 'hoof': 5859, 'distressful': 3594, 'tweekin': 12571, 'atnumbercurse': 988, 'stopped': 11515, 'defense': 3283, 'hatter': 5565, 'solonumberdeep': 11170, 'valet': 12842, 'marked': 7500, 'lordddd': 7265, 'erza': 4116, 'whipppppppen': 13448, 'drifting': 3754, 'entertain': 4069, 'flirting': 4606, 'friendly': 4813, 'from': 4826, 'brothersnumberyears': 1864, 'fuccccck': 4857, 'swag': 11736, 'aware': 1075, 'bracket': 1754, 'meeeee': 7616, 'happppppy': 5501, 'birthdayyyy': 1500, 'reallynumberin': 9789, 'mentality': 7647, 'cherry': 2361, 'owe': 8738, 'foo': 4660, 'changed': 2283, 'proof': 9474, 'guest': 5359, 'mouthpiece': 7956, 'lesson': 6972, 'cost': 2897, '499': 189, 'hum': 5943, 'jack': 6435, 'otheeeeeeeer': 8643, 'angelo': 695, 'died': 3465, 'turtle': 12559, 'leo': 6964, 'counting': 2918, 'finest': 4506, 'finalist': 4494, 'hitnumberlikes': 5773, 'babbbbbbyyyy': 1103, 'bust': 1979, 'mission': 7804, 'london': 7231, 'chum': 2450, 'bake': 1163, 'loyalty': 7314, 'flap': 4566, 'muhhfuckin': 7993, 'naybahoods': 8122, 'indiana': 6136, 'grammar': 5253, 'gotnumberhoes': 5206, 'santa': 10379, 'responsibility': 10026, 'textinginboxingkikingdmingsnapchattingemailing': 11982, 'proto': 9504, 'apolonio': 811, 'bike': 1470, 'profile': 9446, 'struggling': 11567, 'mann': 7459, 'instruction': 6264, 'fucccccckn': 4856, 'blood': 1609, 'charge': 2302, 'fetch': 4451, 'shipped': 10761, 'limit': 7095, 'nevvvvva': 8186, 'gangbang': 4956, 'controlling': 2831, 'allegedly': 549, 'deshawn': 3385, 'bitcccccch': 1506, 'steady': 11439, 'ayeeee': 1096, 'gossip': 5192, 'wannatell': 13210, 'attractive': 1022, 'driven': 3765, 'vanillaaaaa': 12857, 'killaaaa': 6676, 'dagger': 3129, 'drip': 3761, 'likenumbermins': 7058, 'central': 2248, 'checked': 2336, 'added': 383, 'grab': 5237, 'owieee': 8740, 'emm': 4008, 'lmaoooooooooooo': 7170, 'pharrell': 9019, 'deserve': 3382, 'thereon': 12078, 'waaaaittt': 13011, 'holllll': 5816, 'thanking': 11996, 'success': 11615, 'hanna': 5488, 'pen': 8934, 'jackson': 6438, 'iii': 6040, 'thirst': 12120, 'theirs': 12031, 'oat': 8432, 'bang': 1204, 'happiness': 5500, 'lamb': 6798, 'indicating': 6140, 'gottttta': 5229, 'madddddd': 7380, 'tall': 11852, 'touchdown': 12356, 'hostel': 5898, 'newest': 8188, 'privilege': 9422, 'jeff': 6478, 'cripplecurse': 3013, 'attack': 1002, 'ad': 380, '3000': 141, 'salute': 10347, 'cairo': 2051, 'ii': 6039, 'sympathize': 11796, 'pockistan': 9199, 'morale': 7903, 'scandal': 10434, 'scene': 10444, 'parent': 8826, 'instagram': 6255, 'title': 12246, 'brace': 1752, 'itself': 6413, 'drowned': 3779, 'swam': 11742, 'eloquent': 3982, 'message': 7697, 'return': 10064, 'scepter': 10447, 'est': 4128, 'lui': 7330, 'lingual': 7109, 'provide': 9511, 'nametags': 8087, 'member': 7632, 'indicate': 6139, 'preferred': 9346, 'profound': 9450, 'anus': 774, 'chinacurse': 2397, 'pin': 9089, 'conservative': 2785, 'bitchmaster': 1531, 'backflip': 1125, 'thissssssss': 12130, 'gigantic': 5072, 'chubb': 2444, 'earl': 3864, 'nicholas': 8212, 'cage': 2048, 'stroll': 11560, 'madison': 7383, 'search': 10534, 'nearest': 8128, 'sings': 10910, 'retired': 10054, 'afterwards': 459, 'breathes': 1798, 'olive': 8533, 'shopping': 10794, 'karrenchi': 6619, 'argument': 877, 'accelerated': 323, 'warholian': 13255, 'notion': 8331, 'era': 4102, 'passing': 8866, 'wrinkled': 13672, 'peoplebitch': 8948, 'strolling': 11561, 'mannumbercuddle': 7465, 'wannatouch': 13215, 'defiance': 3285, 'fanduel': 4358, 'numberrt': 8407, 'sudden': 11631, 'badge': 1143, 'lovingly': 7303, 'ribbon': 10095, 'gust': 5377, 'tying': 12604, 'trill': 12470, 'ankle': 706, 'sock': 11149, 'general': 5014, 'hotel': 5905, 'applebees': 828, 'gift': 5069, 'cardcurse': 2136, 'requires': 9994, 'soundcloud': 11230, 'tumbler': 12535, 'continually': 2814, 'darkness': 3169, 'dealt': 3231, 'favored': 4395, 'tablet': 11811, 'aaaaaaaaand': 268, 'kentucky': 6644, 'amber': 613, 'trayvon': 12437, 'worthless': 13649, 'indeed': 6127, 'camel': 2078, 'ostrich': 8642, 'debris': 3238, '57': 206, 'wobber': 13590, 'boon': 1672, 'delivering': 3314, 'playnumberminutes': 9170, 'adult': 415, 'effect': 3924, 'doesncurse': 3626, 'offensive': 8475, 'concept': 2725, 'inevitably': 6154, 'impeachment': 6079, 'vocal': 12979, 'workshop': 13633, 'glittering': 5117, 'amsterdam': 638, 'informant': 6174, 'visiting': 12968, 'grace': 5239, 'damper': 3145, 'mushrooming': 8016, 'ballot': 1186, 'heading': 5613, 'nov': 8338, 'election': 3951, 'stylish': 11592, 'human': 5944, 'qaeda': 9606, 'market': 7502, 'faster': 4381, 'viacom': 12914, 'stock': 11492, 'unrequited': 12729, 'however': 5925, 'completely': 2703, 'reaping': 9795, 'armed': 882, 'country': 2920, 'worthnumberhoes': 13651, 'finish': 4514, 'brigham': 1819, 'lonely': 7233, 'crossed': 3027, 'eyed': 4278, 'numbericurse': 8376, 'lecture': 6924, 'arrive': 898, '100000': 14, 'semi': 10595, 'desperately': 3395, 'variation': 12865, 'meaning': 7594, 'mange': 7452, '800': 245, 'usernumbertrash': 12806, '15': 54, 'annumberwhen': 729, 'christmas': 2439, 'radius': 9674, 'chilly': 2391, '20': 91, 'femur': 4442, '108': 22, '111': 30, 'depot': 3359, '129': 43, 'pussyfootin': 9585, 'xxxmas': 13699, 'claw': 2505, '12': 39, 'oz': 8750, 'blocking': 1604, 'homosexual': 5844, 'sunny': 11667, 'pussydick': 9584, 'scrap': 10494, 'prison': 9417, 'murdering': 8005, 'north': 8316, 'poll': 9226, '187': 74, '199': 82, 'andnumberworld': 682, 'tower': 12368, 'gilbert': 5074, '1wayhustle': 90, 'skull': 10959, 'numberglocks': 8370, 'numberchoppas': 8363, 'faced': 4292, 'hoesnumberdyke': 5799, 'ornumberhoes': 8638, 'starting': 11423, '2012': 99, '2013': 100, 'suppurative': 11699, 'operating': 8585, 'talented': 11843, '24rozayidgt': 118, '270': 127, 'temptation': 11941, 'email': 3989, 'address': 391, 'guard': 5351, 'thenumbertho': 12063, 'millionaire': 7761, 'dealing': 3230, 'goodhearted': 5174, 'wid': 13490, 'understand': 12668, 'tooknumbershots': 12311, '351': 158, 'michigan': 7720, '37': 160, 'cardiac': 2137, 'dey': 3427, 'luxury': 7350, 'virginityhashtag': 12959, 'pink': 9094, 'butcher': 1984, 'heel': 5652, 'smelling': 11054, 'likenumberkeys': 7055, 'increase': 6121, '40': 168, 'until': 12735, '416': 173, 'snatched': 11091, 'correction': 2890, 'facility': 4300, 'fornumberyears': 4737, 'chip': 2401, 'numberrice': 8406, 'krispies': 6764, 'numberseeds': 8408, 'numbergummies': 8372, 'numberpowerades': 8402, 'yuhhh': 13809, '5000': 194, 'screaming': 10502, 'missed': 7801, '540': 202, 'awake': 1071, 'bull': 1929, 'foreseeable': 4690, 'hopefully': 5872, 'wheel': 13421, 'whizzing': 13466, 'hockey': 5783, 'fully': 4892, '5thharmony': 212, 'pride': 9398, 'numberon': 8398, 'boned': 1657, 'hehehehehe': 5654, '607': 214, 'match': 7547, 'fails': 4323, 'relate': 9909, 'leak': 6896, 'generation': 5017, 'wannabelieve': 13072, '1861': 73, 'planter': 9143, '85': 249, 'chesterfield': 2366, 'backward': 1137, '90': 254, 'percent': 8956, 'menumberpercent': 7677, '93': 261, 'ofnumberyellow': 8506, 'radiated': 9671, '673xx': 228, '616': 217, '95': 263, 'truly': 12501, 'professionally': 9443, 'awful': 1083, 'polite': 9220, '99': 265, 'discus': 3549, 'delicious': 3309, 'filthy': 4492, 'included': 6115, 'baldly': 1177, 'gorgeous': 5187, 'significant': 10872, 'whisper': 13452, 'happens': 5496, 'seems': 10570, 'clear': 2512, 'choice': 2413, 'crusty': 3052, 'hired': 5754, 'pitching': 9113, 'starbucks': 11411, 'touching': 12358, 'shaggy': 10679, 'bowl': 1736, 'graham': 5250, 'cereal': 2252, 'unit': 12700, 'meddle': 7607, 'hashtagand': 5536, 'touched': 12357, 'humanity': 5946, 'stain': 11391, 'impression': 6097, 'leaf': 6894, 'reflection': 9873, 'proverb': 9510, '126': 41, 'calamity': 2056, 'cometh': 2651, 'blessing': 1587, 'genesis': 5019, '219': 107, 'ground': 5330, 'formed': 4715, 'beast': 1302, 'makar': 7418, 'republican': 9988, 'foolish': 4668, 'serf': 10629, 'pretend': 9381, 'luff': 7328, 'arrogant': 901, 'belt': 1383, 'praise': 9323, 'realnigger': 9792, 'quality': 9612, 'pointing': 9205, 'convince': 2841, 'mentionthey': 7667, 'based': 1255, 'doll': 3633, 'somewhere': 11194, 'figure': 4475, 'motorola': 7944, 'kicking': 6665, 'reminds': 9947, 'ici': 6003, 'earlier': 3866, 'rhyme': 10092, 'gag': 4934, 'greaseball': 5290, 'ruthless': 10296, 'push': 9575, 'alphabet': 586, 'amend': 619, '14th': 53, 'amendment': 620, 'freed': 4790, 'slave': 10984, 'lived': 7150, 'anchor': 658, 'loophole': 7255, 'gage': 4935, 'squirrel': 11372, 'suave': 11593, 'llewyn': 7159, 'fury': 4917, 'abound': 292, 'urica': 12768, 'remembers': 9942, 'brutal': 1888, 'sigh': 10865, 'scarf': 10442, 'phil': 9023, 'firing': 4531, 'arousing': 893, 'iv': 6424, 'cleaned': 2509, 'tornado': 12340, 'bitchc': 1511, 'undernumberblankets': 12664, 'tingling': 12228, 'santo': 10380, 'aincurse': 503, 'each': 3857, 'sits': 10926, 'sweat': 11750, 'comedy': 2649, 'writer': 13677, 'greeneggs': 5303, 'shiver': 10778, 'explaining': 4246, 'fro': 4822, 'flogging': 4612, 'alqueda': 587, 'cell': 2231, 'internet': 6299, 'riverside': 10153, 'aah': 270, 'hadnumberbeers': 5398, '12pck': 44, 'income': 6118, 'deserves': 3384, 'notice': 8329, 'hinder': 5746, 'robbing': 10164, 'caution': 2207, 'protesting': 9503, 'ferguson': 4445, 'pig': 9072, 'rhode': 10091, 'island': 6384, 'background': 1126, 'comingcurse': 2655, 'green': 5300, 'doesn': 3625, 'skirt': 10955, 'camouflage': 2084, 'pan': 8792, 'dimension': 3492, 'workout': 13632, 'cameron': 2083, 'overpowered': 8726, 'incessant': 6107, 'nicely': 8209, 'monica': 7875, 'tbedumb': 11891, 'reading': 9772, 'lyric': 7360, 'wannahim': 13120, 'dismissed': 3567, 'mood': 7895, 'fucktards': 4884, 'wannab': 13065, 'tm': 12252, 'disgust': 3558, 'withnumberyears': 13574, 'ali': 537, 'anothernumbermonths': 736, 'naaaaurl': 8065, 'iheinz201': 6038, 'oct': 8460, 'press': 9375, 'squirtin': 11373, 'monopoly': 7885, 'cardsill': 2139, 'wipe': 13538, 'credit': 2994, 'distant': 3591, 'dried': 3752, 'perfectly': 8965, 'guitar': 5366, 'recorded': 9835, 'offending': 8472, 'peckerwood': 8920, 'despise': 3396, 'politically': 9222, 'intellectual': 6274, 'disabled': 3526, 'highly': 5731, 'menumberonnumberur': 7676, 'principle': 9409, 'elementary': 3959, 'crossedcurse': 3028, 'causing': 2205, 'mischief': 7792, 'survive': 11719, 'cancer': 2099, 'property': 9480, '2havenumberkill': 135, 'babiescurse': 1110, 'pom': 9232, 'invited': 6335, 'embarrassment': 3992, 'joined': 6529, 'army': 885, 'rob': 10160, 'sammich': 10355, 'flameeee': 4563, 'seesnumberfaggot': 10579, 'jungle': 6584, 'note': 8324, 'thatbitch': 12010, 'welcome': 13378, 'minor': 7780, 'publicity': 9530, 'according': 342, 'luhnow': 7329, 'mutation': 8030, 'genealogy': 5013, 'convoluted': 2844, 'gene': 5012, 'currieries': 3095, 'slaughteredextinction': 10982, 'schedule': 10449, 'minecurse': 7772, 'johnny': 6525, 'cooking': 2852, 'add': 382, 'suffer': 11635, 'teammate': 11908, 'defnumberin': 3292, 'du': 3796, 'ruined': 10264, 'throbbing': 12159, 'incredibly': 6125, 'scout': 10490, 'prospect': 9488, 'dykecurse': 3852, 'bishhhhhh': 1503, 'waasup': 13013, 'magic': 7393, 'almighty': 571, 'toward': 12364, 'shamecurse': 10687, 'brossmh': 1860, 'bearer': 1299, 'belong': 1380, 'elicit': 3966, 'winner': 13530, 'ulm': 12629, 'italian': 6403, 'voted': 13000, 'supported': 11693, 'pulled': 9544, 'legal': 6944, 'lame': 6801, 'mail': 7406, 'misogynist': 7798, 'pile': 9078, 'twas': 12565, 'salon': 10345, 'butthurt': 2000, 'comeback': 2646, 'accent': 324, 'continues': 2816, 'tokyo': 12266, 'jet': 6494, 'produced': 9438, 'site': 10924, 'mein': 7626, 'ala': 513, 'proficient': 9445, 'limited': 7096, 'painless': 8772, 'memorization': 7636, 'marched': 7482, 'bush': 1973, 'conscienceless': 2779, 'soulless': 11227, 'zzzzzz': 13838, 'victory': 12924, 'awaits': 1070, 'disgrace': 3553, 'volcano': 12987, 'bomb': 1651, 'attacked': 1003, 'pa': 8751, 'over': 8696, 'zealous': 13819, 'cent': 2243, 'muzzle': 8042, 'tache': 11812, 'slaying': 10987, 'ginzo': 5079, 'nasal': 8100, 'copy': 2870, 'partayyyy': 8845, 'eldorato': 3948, 'therefore': 12076, 'collectively': 2615, 'campaign': 2086, 'protest': 9501, 'beg': 1343, 'service': 10639, 'historical': 5763, 'irish': 6362, 'settling': 10652, 'atlantic': 984, 'resists': 10011, 'regret': 9896, 'determined': 3410, 'condescending': 2739, 'trailer': 12386, 'fried': 4811, 'mash': 7528, 'gray': 5288, 'rolling': 10199, 'coal': 2572, 'mentionmention': 7656, 'crew': 3002, 'bump': 1943, 'danger': 3155, 'il': 6043, 'lately': 6847, 'brazil': 1783, 'tour': 12360, 'jacob': 6439, 'similar': 10884, 'rustan': 10291, 'maiden': 7405, 'greedy': 5298, 'broker': 1851, 'status': 11433, 'lololol': 7227, 'promised': 9463, 'inured': 6322, 'lessonnumberdo': 6973, 'beforenumberlike': 1341, 'shop': 10791, 'angela': 691, 'pearl': 8916, 'ledbetter': 6926, 'anderson': 663, 'current': 3092, 'complement': 2700, 'acid': 359, '6pm': 231, 'ignorant': 6034, 'changeyall': 2285, 'looter': 7260, 'degree': 3299, 'couch': 2906, 'sight': 10867, 'describing': 3378, 'fault': 4391, '34': 155, 'citizen': 2475, 'realized': 9784, 'americanized': 624, 'peak': 8913, 'load': 7200, 'tap': 11864, 'ja': 6430, 'lise': 7127, 'gain': 4937, 'denkenjuistja': 3340, 'willed': 13510, 'vertellen': 12902, 'hypebeasts': 5988, 'center': 2244, 'infested': 6163, 'thugnasty': 12173, 'wannacurse': 13095, '70': 233, 'quadraphonic': 9607, 'sterno': 11469, 'bob': 1637, 'relapse': 9908, 'symphony': 11799, 'farewell': 4369, 'parade': 8812, 'paramore': 8817, 'chavarubio': 2327, 'supporter': 11694, 'spoil': 11319, 'sand': 10365, 'entertaining': 4071, 'likenumberknockdowns': 7056, 'cortez': 2896, 'ultimate': 12630, 'proved': 9509, 'hauling': 5568, 'writ': 13674, 'hall': 5444, 'fame': 4346, 'decided': 3248, 'lastnumbergamestampa': 6838, '2balt': 134, '3yanks': 167, '64': 223, 'explain': 4244, 'logic': 7221, 'hooker': 5863, 'complimentary': 2706, 'thursday': 12185, 'tapped': 11867, 'career': 2143, 'roasted': 10158, 'smiling': 11062, 'cheek': 2341, 'sore': 11218, 'cape': 2116, 'engaging': 4046, 'disrespecting': 3585, 'substitute': 11607, 'wannalet': 13139, 'oka': 8521, 'nowhere': 8343, 'spur': 11353, 'terrified': 11965, 'waddup': 13019, 'wannawhite': 13233, 'thrown': 12167, 'don': 3646, 'pocahontas': 9196, 'longed': 7236, 'wussup': 13686, 'eyebrow': 4276, 'papa': 8805, 'colder': 2607, 'immigrant': 6070, 'drissa': 3763, 'leprechaun': 6967, 'farming': 4372, 'beyonccurse': 1446, 'hesitate': 5702, 'takeoff': 11836, 'warrant': 13264, 'bounded': 1721, 'catchmeifyoucan': 2190, 'idunno': 6026, 'style': 11590, 'stubborn': 11569, 'syria': 11803, 'zip': 13829, 'er': 4101, 'vandaan': 12853, 'zeal': 13818, 'uitleggen': 12626, '17': 62, 'tough': 12359, '71': 235, 'african': 445, 'handling': 5476, 'likenumbercurse': 7046, 'subtweets': 11611, 'replying': 9976, 'package': 8756, 'delivered': 3313, 'coincidence': 2603, 'tamed': 11856, 'heal': 5618, 'edgeware': 3911, 'allusion': 568, 'defending': 3281, 'fuckboy': 4863, 'staying': 11438, 'government': 5233, 'desert': 3381, 'tortoise': 12345, 'wasnumberbitch': 13279, 'belongs': 1381, 'faaaaggggottttt': 4285, 'hypocrite': 5992, 'beget': 1345, 'snack': 11080, 'fierce': 4465, 'sage': 10321, 'dunleavy': 3830, 'chink': 2400, 'billy': 1475, 'goat': 5135, 'empire': 4016, 'motherfuckin': 7935, 'slinging': 11007, 'disgraced': 3554, 'dawson': 3200, 'hickman': 5717, 'skyrocketed': 10961, 'crime': 3007, 'fallen': 4342, 'sharply': 10711, 'pathetic': 8881, 'chester': 2365, 'kinfolk': 6694, 'baboon': 1111, 'aboutnumberdudes': 297, 'numberthese': 8413, 'plaquemine': 9145, 'lydia': 7351, 'fwom': 4928, 'cannon': 2108, 'sharkette': 10705, 'thenumberin': 12057, 'lascar': 6828, 'sponsor': 11327, 'rocked': 10176, 'soto': 11224, 'grass': 5278, 'diego': 3467, 'insomnia': 6246, 'midnight': 7732, 'coley': 2610, 'whammmmed': 13413, 'swerved': 11768, 'forcing': 4682, 'realize': 9783, 'bred': 1800, 'byeeeee': 2019, 'stole': 11497, 'league': 6895, 'expecting': 4235, 'dripping': 3762, 'wrote': 13683, 'apparently': 814, 'uffa': 12617, 'topic': 12324, 'fever': 4453, 'aroundnumberin': 889, 'threat': 12147, 'kitten': 6709, 'plot': 9183, 'twist': 12589, 'showing': 10824, 'earthen': 3875, 'chart': 2316, 'der': 3366, 'hawker': 5591, 'level': 6979, 'shoplifter': 10792, 'lake': 6795, 'held': 5659, 'drowning': 3780, 'leasenumberbitches': 6907, 'tennis': 11954, 'tournament': 12362, 'training': 12390, 'laying': 6883, 'outnumbered': 8674, 'ridden': 10108, 'fishing': 4540, 'bulbasuar': 1926, 'idiotic': 6021, 'integrity': 6273, 'shriek': 10828, 'spraying': 11341, 'vogue': 12982, 'anathema': 656, 'goddam': 5140, 'concentrate': 2723, 'definition': 3291, 'yoked': 13770, 'apecurse': 802, 'willing': 13513, 'knocking': 6730, 'toast': 12256, 'remembering': 9939, 'quire': 9639, 'pallid': 8787, 'necessarily': 8133, 'wobble': 13592, 'wibbler': 13486, 'eh': 3936, 'camped': 2089, 'especially': 4124, 'propose': 9483, 'richardson': 10100, 'sensible': 10611, 'pleased': 9177, 'statistic': 11431, 'spell': 11284, 'chicago': 2372, 'idiot': 6019, 'purpcurse': 9566, 'buttonhole': 2003, 'asshole': 949, 'alike': 542, 'placement': 9124, 'interesting': 6291, 'scope': 10476, 'contain': 2807, 'chemical': 2356, 'azodicarbonamide': 1101, 'mat': 7545, 'fagscurse': 4318, 'company': 2680, 'protected': 9495, 'bearing': 1301, 'ironic': 6364, 'trashcan': 12423, '5th': 210, 'naturally': 8115, 'stayed': 11437, 'mislead': 7797, 'yell': 13747, 'evolutionary': 4187, 'despises': 3397, 'departed': 3351, 'trainthere': 12392, 'musicjust': 8021, 'hypothetical': 5994, 'downstairs': 3700, 'cryingbegging': 3060, 'judging': 6563, 'grinder': 5319, 'sellout': 10593, 'doran': 3667, 'wu': 13685, 'tang': 11859, 'clan': 2488, 'sooner': 11205, 'machinery': 7372, 'skibust': 10944, 'legendary': 6948, 'curving': 3103, 'pleasure': 9178, 'platform': 9150, 'language': 6814, 'data': 3181, 'kindergarten': 6690, 'enraged': 4065, 'lethal': 6975, 'hatrednumberthe': 5564, 'fuelnumberhis': 4887, 'arsenal': 904, 'puffed': 9540, 'hahahhaha': 5421, 'apology': 809, 'fee': 4416, 'gullible': 5368, 'hallo': 5446, 'bias': 1448, 'objective': 8444, 'turning': 12552, 'welt': 13384, 'bitchdat': 1514, 'sesame': 10642, 'unknown': 12709, 'depend': 3353, 'pu': 9526, 'rag': 9676, 'partake': 8844, 'sucksbitch': 11629, 'celebration': 2228, 'rio': 10133, 'dickpunch': 3455, 'horizon': 5876, 'noisy': 8289, 'bumped': 1944, 'li': 6993, 'kobenumberelite': 6750, 'personal': 8990, 'ain': 502, 'tnumberfeet': 12253, 'wannawannahit': 13228, 'location': 7209, 'facing': 4301, 'blaze': 1578, 'wizard': 13585, 'chowderthanks': 2432, 'william': 13511, 'affair': 434, 'op': 8576, 'greater': 5294, 'worknumberhours': 13631, 'freedom': 4792, 'sasquatch': 10392, 'imnumberslay': 6075, 'armor': 884, 'helm': 5670, 'border': 1688, 'jumper': 6580, 'benghazzi': 1392, 'brodie': 1843, 'sauce': 10402, 'operated': 8584, 'feather': 4407, 'english': 4052, 'outstanding': 8683, 'tackle': 11815, 'accurate': 348, 'superior': 11679, 'gobble': 5136, 'express': 4258, 'femoris': 4441, 'resin': 10006, 'begun': 1351, 'ontario': 8568, 'cheaper': 2329, 'touch': 12354, 'witnessed': 13578, 'terrorist': 11968, 'committed': 2670, 'unfortunate': 12685, 'crooked': 3023, 'motif': 7937, 'under': 12658, 'niemen': 8219, 'wilt': 13517, 'ben': 1385, 'namelijk': 8085, 'berg': 1406, 'vrijheid': 13003, 'meningsuiting': 7644, 'khan': 6660, 'fascia': 4376, 'destroying': 3404, 'rev': 10069, 'necessitate': 8135, 'adopting': 410, 'pomp': 9234, 'yeahhhh': 13739, 'squishy': 11374, 'pulp': 9548, 'smartphone': 11047, 'marshall': 7513, 'toller': 12272, 'eddy': 3907, 'lmsoooo': 7198, 'key': 6654, 'yauza': 13729, 'knowledge': 6739, 'progressing': 9454, 'nun': 8418, 'sexuality': 10667, 'fornumberdollas': 4726, 'stood': 11507, 'exception': 4198, 'remembernumbercan': 9940, 'stalked': 11398, 'jigsaw': 6508, 'sero': 10634, 'wassuo': 13288, 'exceptional': 4199, 'crush': 3047, 'creed': 2995, 'embarrassing': 3991, 'flooding': 4615, 'newsfeed': 8193, 'target': 11873, 'eliza': 3973, 'thesenumberdudes': 12086, 'cabby': 2035, 'heyyyyyyyyyyy': 5713, 'anothernumberyears': 738, 'breezy': 1805, 'jewish': 6503, 'ruin': 10263, 'neighborhood': 8158, 'keith': 6637, 'ffffffffffffuck': 4458, 'marathon': 7479, 'rebellion': 9802, 'sharkeisha': 10704, 'sessile': 10643, 'innumberweeks': 6226, 'ta': 11809, 'magnum': 7401, 'vitaligro': 12971, 'semen': 10594, 'afternumberass': 452, 'nunchucks': 8420, 'doubleended': 3675, 'bacon': 1139, 'stuffed': 11579, 'crust': 3051, 'expected': 4234, 'brooooo': 1858, 'granted': 5268, 'supporting': 11695, 'pray': 9326, 'chop': 2424, 'elijah': 3968, 'us': 12772, 'walgreen': 13040, 'dye': 3847, 'seeking': 10567, 'writes': 13678, 'wan': 13052, 'sandwich': 10370, 'julie': 6572, 'bulk': 1928, 'screw': 10508, 'manpower': 7467, 'bootlegged': 1683, 'wannaborrow': 13079, 'biiiiitch': 1469, 'moon': 7897, 'standard': 11402, '900': 255, 'anoniemeaso': 732, 'pauzenog': 8898, 'hoofdstuk': 5860, 'foam': 4634, 'multiple': 7997, 'rare': 9726, 'nigcurse': 8220, 'microwave': 7725, 'mufuckas': 7985, 'galicia': 4943, 'boa': 1631, 'cross': 3025, 'delegate': 3304, 'ghetto': 5058, 'reid': 9902, 'terrace': 11962, 'wannaone': 13159, 'retirement': 10055, 'crack': 2948, 'gotnumberbitches': 5202, 'rang': 9711, 'morel': 7907, 'compass': 2685, 'wert': 13398, 'kleurenblind': 6715, 'americathey': 625, 'sal': 10335, 'tryinnumberpull': 12519, 'ferderlinelazy': 4444, 'acted': 368, 'zest': 13825, 'lozewoordenpuntjebijpaaltje': 7317, 'personen': 8995, 'dierngedrag': 3468, 'laborer': 6780, 'flying': 4632, 'vara': 12864, 'caitlyn': 2052, 'carrynumberretards': 2168, 'castle': 2184, 'very': 12905, 'iso': 6393, 'imlay': 6065, 'sq': 11358, 'wore': 13623, 'hilly': 5740, 'sweatsleggings': 11755, 'vote': 12999, 'corporate': 2886, 'clue': 2561, 'crutch': 3053, 'headstand': 5617, 'flow': 4623, 'canonically': 2111, 'equivalent': 4100, 'poleon': 9216, 'tweetnumbermm': 12577, 'rickets': 10104, 'lasting': 6834, 'swore': 11790, 'likenumberdays': 7047, 'wooden': 13612, 'wrist': 13673, 'shaft': 10677, 'logical': 7222, 'toilet': 12263, 'striped': 11553, 'offend': 8470, 'american': 623, 'givenumbershits': 5101, 'ignore': 6035, 'mormon': 7910, 'fanning': 4360, 'relaxing': 9918, 'circular': 2465, 'motion': 7938, 'aching': 358, 'isa': 6377, 'elephant': 3960, 'coochie': 2847, 'wasnumbercurse': 13280, 'mix': 7818, 'nagasaki': 8068, 'hiroshima': 5756, 'bought': 1713, 'wannabuy': 13082, 'coherent': 2600, 'acknowledged': 361, 'jebidiah': 6476, 'thatnumbercharacter': 12014, 'joking': 6535, 'niiiieeegggaaa': 8252, 'ratchetest': 9734, 'bernhard': 1411, 'fix': 4551, 'lemon': 6960, 'feminist': 4439, 'nasi': 8102, 'tushin': 12561, 'inch': 6108, '11': 28, 'channel': 2287, 'although': 600, 'concede': 2719, 'funnel': 4905, 'wight': 13500, 'fatherless': 4387, 'opulence': 8601, 'refrain': 9876, 'conversing': 2837, 'expensive': 4238, 'wedding': 13353, 'wallet': 13049, 'filth': 4490, 'afford': 440, 'louis': 7285, 'joy': 6553, 'sammiches': 10356, 'horrified': 5885, 'ovenjew': 8695, 'quickscoping': 9632, 'hawk': 5590, 'normally': 8315, 'singer': 10903, 'entrusted': 4080, 'touchcurse': 12355, 'quaker': 9610, 'ceased': 2219, 'valued': 12848, 'jar': 6465, 'marmalade': 7504, 'shaved': 10714, 'sarah': 10386, 'incident': 6109, 'san': 10362, 'amount': 634, 'yourself': 13797, 'dictionary': 3460, 'marker': 7501, 'anyhow': 780, 'eliminate': 3970, 'entering': 4067, 'wannabe': 13070, 'consent': 2783, 'denote': 3343, 'somewhat': 11193, 'jewel': 6501, 'carrier': 2163, 'anxious': 776, 'wannaskull': 13188, 'clay': 2506, 'listener': 7132, 'alcoholic': 524, 'noah': 8275, 'journey': 6551, 'tiger': 12202, 'protecting': 9496, 'partial': 8847, 'faggothomo': 4315, 'fairly': 4330, 'describes': 3377, 'twisted': 12590, 'naaaaa': 8063, 'popped': 9253, 'commented': 2663, 'function': 4896, 'bustled': 1980, 'nearly': 8129, 'decade': 3241, 'atysyc': 1024, 'redeem': 9845, 'core': 2875, 'york': 13778, 'agent': 473, 'sometime': 11190, 'kate': 6620, 'command': 2657, 'cocksucker': 2590, 'ofnumberdays': 8491, 'hoping': 5874, 'tyler': 12606, 'article': 909, 'goldigging': 5158, 'uncircumcised': 12650, 'pressure': 9379, 'illiterate': 6052, 'revelation': 10072, 'jewbacca': 6500, 'second': 10545, 'energy': 4040, 'electric': 3952, 'electrifying': 3954, 'maker': 7423, 'prick': 9396, 'nephew': 8166, 'dan': 3147, 'pair': 8779, 'dans': 3161, 'spying': 11357, 'fuming': 4894, 'likenumberonline': 7064, 'nigggaaa': 8242, 'context': 2813, 'per': 8954, 'assumption': 967, 'wannai': 13128, 'rarely': 9727, 'craigslist': 2956, 'height': 5655, 'jessyca': 6492, 'madonna': 7387, 'mummer': 7998, 'intersect': 6304, 'wannatucked': 13223, 'traitor': 12396, 'jim': 6512, 'geoffrey': 5036, 'former': 4716, 'somenumberan': 11184, 'malice': 7429, 'rum': 10269, 'technumberthis': 11918, 'mushroom': 8015, 'mold': 7856, 'wobbly': 13593, 'ragged': 9679, 'carlton': 2153, 'judge': 6560, 'insert': 6240, 'persists': 8988, 'himself': 5745, 'boycurse': 1744, 'pastor': 8874, 'blasphemy': 1570, 'allah': 545, 'benghazi': 1391, 'victim': 12919, 'herb': 5686, 'wax': 13316, 'swallow': 11740, 'yoke': 13769, 'hooped': 5866, 'sensitive': 10612, 'neo': 8165, 'maxim': 7565, 'option': 8599, 'carter': 2172, 'pike': 9076, 'stanford': 11406, 'hire': 5753, 'wannahuman': 13127, 'snuggery': 11108, 'besides': 1418, 'sob': 11136, 'national': 8108, 'including': 6116, 'kipermcshay': 6700, 'slipping': 11012, 'nearlynumberdays': 8130, 'respond': 10021, 'hoesyou': 5804, 'lovenumberthese': 7299, 'prepare': 9362, 'southern': 11239, 'mute': 8031, 'vile': 12934, 'outnumberfeet': 8675, 'memphis': 7638, 'exposing': 4257, 'wine': 13525, 'galaxy': 4940, 'toxin': 12370, 'peeped': 8927, 'forevernumberhoes': 4695, 'nowadays': 8341, 'opinionated': 8588, 'elite': 3972, 'benton': 1395, 'bainbridgians': 1161, 'likenumberteeth': 7077, 'joked': 6533, 'likkadawgg': 7089, 'surgery': 11709, 'quoted': 9646, 'jockey': 6520, 'arab': 854, 'cheer': 2342, 'girlllaaaa': 5089, 'click': 2522, 'solar': 11162, 'leech': 6929, 'islamofascist': 6382, 'cow': 2940, 'retort': 10057, 'idiocy': 6018, 'bigotry': 1466, 'mele': 7628, 'buggy': 1918, 'acknowledge': 360, 'existence': 4223, 'dramatically': 3723, 'esp': 4121, 'mantle': 7470, 'certainly': 2255, 'clubthey': 2560, 'cox': 2945, 'daubed': 3189, 'conjugal': 2771, 'barry': 1245, 'earnest': 3870, 'venue': 12886, 'grapefruit': 5274, 'bronx3rd': 1852, 'diamondback': 3441, 'snuggling': 11110, 'yournumberand': 13791, 'stupidest': 11587, 'erb': 4104, 'shivering': 10779, 'apply': 833, 'thunder': 12179, 'assnumberyear': 959, 'involved': 6340, 'snumberthing': 11128, 'flood': 4613, 'screwed': 10510, 'rotation': 10231, 'essay': 4125, 'niagara': 8206, 'tiens': 12200, 'patchouli': 8877, 'squat': 11363, 'distract': 3592, 'si': 10847, 'tangible': 11860, 'terror': 11967, 'lea': 6888, 'skilled': 10948, '11th': 38, 'ward': 13249, 'washing': 13273, 'whose': 13480, 'girlboy': 5083, 'allen': 551, 'gallop': 4946, 'tajadas': 11828, 'verge': 12894, 'fritz': 4819, 'milka': 7754, 'pulledthat': 9545, 'hectic': 5648, 'kolya': 6752, 'likenumberheads': 7051, 'brings': 1829, 'crossing': 3030, 'transformer': 12407, 'pole': 9215, 'scotland': 10485, 'electricity': 3953, 'puppy': 9560, 'samoan': 10358, 'volunteer': 12992, 'guinea': 5365, 'nail': 8075, 'disperse': 3571, 'oft': 8507, 'scraggy': 10492, 'prairie': 9321, 'scare': 10440, 'underwear': 12672, 'disco': 3537, 'disaster': 3533, 'recovery': 9838, 'extreme': 4272, 'condition': 2741, 'invite': 6334, 'innumberdegree': 6210, 'burgher': 1955, 'wattle': 13311, 'welfare': 13380, 'withnumberkids': 13566, 'andnumberbaby': 664, 'cuzcurse': 3116, 'bend': 1387, 'flattering': 4577, 'siberia': 10848, 'marine': 7496, 'playful': 9163, 'aboutnumberpairthey': 303, 'overpriced': 8727, 'pity': 9119, 'sided': 10856, 'jokenumberbenghazis': 6534, 'hearing': 5628, 'curb': 3083, 'dramatic': 3722, '115': 34, 'traveled': 12433, 'saber': 10301, 'choking': 2418, 'odds': 8463, 'areyou': 873, 'lastnumberminutes': 6840, 'barley': 1239, 'bwahaaaa': 2014, 'breeding': 1803, 'concerned': 2727, 'psychic': 9519, 'crony': 3022, 'fad': 4309, 'mis': 7791, 'assumed': 965, 'moist': 7854, 'delusion': 3319, 'bay': 1286, 'longest': 7238, 'parker': 8833, 'aarynnumberbitch': 274, 'nonumberwould': 8303, 'campan': 2087, 'crayon': 2969, 'above': 305, 'blissfully': 1599, 'thinker': 12111, 'clump': 2562, 'belle': 1374, 'iiiiiiinnnnnn': 6041, 'hostess': 5899, 'whine': 13441, 'drift': 3753, 'lmaooooo': 7165, 'meg': 7622, 'whatsoever': 13419, 'favoritism': 4399, 'security': 10557, 'jetsgreen': 6498, 'ram': 9702, 'battle': 1284, 'brook': 1855, 'yournumberarea': 13792, 'code': 2594, 'scut': 10525, 'frail': 4766, 'coronet': 2883, 'oil': 8517, 'grey': 5310, 'speckled': 11275, 'icy': 6006, 'carried': 2162, 'hadnumberpoints': 5403, 'nom': 8290, 'matt': 7553, 'payback': 8901, 'critical': 3018, 'jr': 6555, 'glove': 5123, 'ft': 4852, 'crystal': 3063, 'eeeeeeeee': 3922, 'cure': 3085, 'witness': 13576, 'malzeno': 7436, 'funnier': 4906, 'smiled': 11060, 'tugged': 12532, 'mug': 7987, 'proving': 9514, 'yanumbergames': 13721, 'stranger': 11532, 'jump': 6577, 'tegenwoordig': 11926, 'hoesnumberho': 5800, 'wannaa': 13055, 'kicked': 6664, 'stupidity': 11588, 'slam': 10968, 'duuuuuuu': 3840, 'copacetic': 2865, 'thousand': 12145, 'rear': 9796, 'luckily': 7322, 'onnumberto': 8565, 'scorecard': 10478, 'rightful': 10123, 'mercy': 7683, 'stoppage': 11514, 'fag': 4312, 'greene': 5302, 'fence': 4443, 'foggy': 4641, 'septic': 10624, 'sincerely': 10900, 'pittsburgh': 9118, 'staff': 11387, 'stab': 11380, 'interested': 6290, 'harassing': 5504, 'twitterfacebook': 12598, 'wouldn': 13655, 'condemning': 2738, 'abuse': 316, 'shabby': 10672, 'bastard': 1268, 'hither': 5769, 'yaaaas': 13703, 'discrimination': 3548, 'barely': 1234, 'walker': 13044, 'smarter': 11045, 'griffin': 5313, 'avoiding': 1067, 'carry': 2166, 'twinkle': 12586, 'firstnumberseconds': 4537, 'flesh': 4591, 'rift': 10117, 'dugout': 3812, 'kazooie': 6626, 'chased': 2320, 'swinging': 11780, 'championship': 2277, 'reserved': 10001, 'transformed': 12406, 'enjoying': 4058, 'sandusky': 10369, 'present': 9367, 'kingdom': 6697, 'yahshua': 13711, 'preparation': 9361, 'putty': 9601, 'sup': 11670, 'weakening': 13332, 'environmental': 4083, 'regulation': 9900, 'infinitely': 6166, 'wondering': 13607, 'spike': 11298, 'regardless': 9888, 'imagine': 6061, 'tonumbercurse': 12299, 'tonumbercan': 12298, 'namenumber': 8086, 'seattle': 10543, 'ohhhhhh': 8513, 'elected': 3950, 'spokesman': 11324, 'scarborough': 10438, 'terrible': 11963, 'nightclub': 8250, 'trannies': 12400, 'crackheads': 2950, 'dealer': 3228, 'builder': 1922, 'samoa': 10357, 'borrow': 1699, 'casting': 2183, 'gee': 5002, 'mentionnumberof': 7662, 'overclean': 8701, 'relevant': 9923, 'equal': 4092, 'opportunity': 8590, 'divorce': 3610, 'trophy': 12486, 'congregated': 2767, 'blockhead': 1603, 'freeze': 4798, 'hm': 5778, 'random': 9710, 'impacted': 6077, 'defect': 3278, 'atnumberam': 987, 'circumstance': 2470, 'notch': 8323, 'join': 6528, 'respectful': 10019, 'mehashtag': 7625, 'yeahcause': 13738, 'onenumberdead': 8551, 'eats': 3893, 'raising': 9696, 'perfection': 8963, 'wire': 13541, 'concentration': 2724, 'ware': 13252, 'utter': 12824, 'district': 3596, 'commit': 2666, 'stance': 11400, 'copying': 2871, 'heated': 5638, 'smartest': 11046, 'patty': 8893, 'signing': 10873, 'sustain': 11730, 'permission': 8979, 'assed': 944, 'backing': 1127, 'wayyyeee': 13323, 'episodenumberplay': 4090, 'gotnumber': 5197, 'changenumbercurse': 2284, 'kindly': 6692, 'weretwice': 13396, 'velvet': 12879, 'yrnumberornumberhe': 13806, 'randolph': 9709, 'upset': 12761, 'comparison': 2684, 'beetle': 1339, 'wishing': 13548, 'apologize': 807, 'sin': 10893, 'forced': 4680, 'peacetime': 8911, 'biceps': 1451, 'duck': 3803, 'numbering': 8378, 'noble': 8277, 'countryass': 2921, 'supposedly': 11698, 'messiermore': 7698, 'dangerousmore': 3158, 'environmentally': 4084, 'unfriendly': 12687, 'benumberyears': 1404, 'animated': 704, 'alexander': 530, 'craycray': 2968, 'sized': 10934, 'canyon': 2114, 'keyboard': 6655, 'overbite': 8698, 'intimidation': 6312, 'mentionbiggest': 7652, 'asserts': 947, 'shadow': 10675, 'realm': 9791, 'ordination': 8617, 'split': 11317, 'communion': 2676, 'chippah': 2404, 'charlotte': 2310, 'cdfuuuu': 2216, 'debatable': 3236, 'weaker': 13333, 'smaller': 11042, 'george': 5038, 'gorilla': 5189, 'owes': 8739, 'sewing': 10661, 'pancake': 8795, 'deported': 3358, 'ragheads': 9680, 'veto': 12911, 'innumbermonths': 6217, 'cher': 2359, 'bleb': 1580, 'favor': 4393, 'nashville': 8101, 'closest': 2544, 'penza': 8946, 'needsnumberjus': 8150, 'goalkeeper': 5133, 'prefer': 9344, 'lesser': 6971, 'bailey': 1159, 'suggestion': 11643, 'arabic': 856, 'caraffe': 2130, 'chopper': 2426, 'updated': 12746, 'regarding': 9887, 'flowed': 4624, 'hadnumberghetto': 5401, 'purntnumberbut': 9565, 'nakalagay': 8078, 'sa': 10298, 'handful': 5468, 'closed': 2541, 'literate': 7140, 'atheist': 978, 'blew': 1588, 'fromnumberlike': 4831, 'ukulele': 12627, 'quickly': 9629, 'realised': 9780, 'quand': 9613, '49': 188, 'oath': 8434, 'pm': 9193, 'moisture': 7855, 'ce': 2217, 'ardor': 862, 'somehow': 11183, 'revive': 10079, 'strawberry': 11537, 'shortage': 10799, 'stacked': 11385, 'spunge': 11352, 'freshly': 4805, 'shitshe': 10773, 'sssshhhhh': 11377, 'hispanic': 5760, 'scanning': 10436, 'anythingthe': 788, 'booniescurse': 1674, 'inspect': 6247, 'element': 3958, 'en': 4024, 'akin': 511, 'cart': 2170, 'forge': 4698, 'biiiiiiiitch': 1468, 'niggggg': 8245, 'scoop': 10473, 'fought': 4749, 'lata': 6845, 'canal': 2096, 'haitian': 5436, 'haiti': 5435, 'hashtaghashtaghashtag': 5538, 'infinity': 6167, 'represents': 9984, 'intimidated': 6311, 'bargain': 1235, 'pirelli': 9104, 'whit': 13455, 'bithashtag': 1548, 'pimpinkendotnet': 9087, 'constantly': 2798, 'wade': 13020, 'lemmingone': 6959, 'niggerthe': 8241, 'potential': 9300, 'reek': 9860, 'havoc': 5587, 'society': 11146, 'martinet': 7518, 'fellow': 4431, 'talked': 11845, 'snumberfoot': 11121, 'flute': 4630, 'spring': 11345, 'cheered': 2343, 'allergic': 552, 'reaction': 9767, 'pecked': 8919, 'torture': 12346, 'meme': 7633, 'myoma': 8053, 'tone': 12284, 'recalling': 9811, 'bin': 1477, 'likewise': 7086, 'mediocre': 7611, '114': 33, 'chemistry': 2357, 'farquaad': 4373, 'ye': 13734, 'bee': 1328, 'iverrishaa': 6426, 'ogg': 8509, 'leaning': 6899, 'hebronville': 5647, 'piled': 9079, 'helena': 5661, 'horny': 5881, 'hoch': 5782, 'spendnumberand': 11290, 'frnumberwas': 4821, 'robbery': 10163, 'anglo': 700, 'principleshashtag': 9410, 'soundtrack': 11234, 'charged': 2303, 'homme': 5840, 'sideline': 10859, 'garage': 4965, 'mohawk': 7853, 'scrub': 10516, 'obvious': 8452, 'onlynumber12': 8556, 'heroic': 5696, 'pubes': 9528, 'fill': 4484, 'whonumberall': 13476, 'raging': 9681, 'knotty': 6735, 'again': 460, 'sang': 10374, 'entrance': 4078, '214': 105, 'enemy': 4037, 'bruise': 1881, 'whooooo': 13477, 'samuel': 10361, 'concert': 2729, 'innumberyrs': 6233, 'dice': 3447, 'nicest': 8211, 'rigged': 10118, 'bumgarner': 1942, 'replied': 9973, 'proofread': 9475, 'vacation': 12833, 'checking': 2337, 'plane': 9133, 'foxy': 4762, 'credential': 2992, 'nonexistent': 8298, 'responsible': 10027, 'winnumbergames': 13533, 'noticed': 8330, 'martin': 7517, 'residence': 10003, 'shift': 10746, 'sleepily': 10991, 'oakleaf': 8430, 'careful': 2144, 'thinkingcurse': 12113, 'improvement': 6101, 'timber': 12216, 'hive': 5776, 'rising': 10143, 'lactate': 6784, 'intolerant': 6315, 'spotted': 11336, 'crisp': 3016, 'felling': 4430, 'wagging': 13023, 'phase': 9020, 'talkinfgalot': 11848, 'wannadrug': 13099, 'photshopped': 9043, 'impressed': 6095, 'joel': 6523, 'mocking': 7844, 'spectacle': 11276, 'mourning': 7949, 'cultural': 3072, 'zeitgeist': 13821, 'parry': 8840, 'clarity': 2496, 'fornumberminutes': 4729, 'whatnot': 13418, 'constitution': 2801, 'mocked': 7843, 'wacko': 13017, 'birds': 1493, 'dialnumberif': 3438, 'downfall': 3691, 'pricking': 9397, 'agenumberis': 474, 'swearing': 11748, 'hilfiger': 5736, 'brussels': 1887, 'sprout': 11350, 'cordon': 2874, 'parasitic': 8823, 'burrow': 1965, 'commitment': 2667, 'arabia': 855, 'reed': 9859, 'gauntlet': 4988, 'olympic': 8534, 'boxing': 1741, 'shield': 10745, 'confront': 2757, 'guarantee': 5349, 'photoshop': 9040, 'disgraceful': 3555, 'brazen': 1781, 'unabashed': 12638, 'christian': 2436, 'brainwash': 1765, 'spoon': 11329, 'unlike': 12712, 'picka': 9050, 'nanny': 8090, 'accustomed': 353, 'muchyour': 7977, 'liver': 7152, 'belief': 1368, 'threaten': 12148, 'extended': 4264, '72': 237, 'wedlock': 13355, 'birth': 1496, 'alien': 541, 'medal': 7606, 'uncalled': 12647, 'impostor': 6092, 'idol': 6024, 'described': 3376, 'saviour': 10417, 'israel': 6395, 'envious': 4081, 'simulate': 10891, 'lebanese': 6921, 'shame': 10686, 'chosen': 2431, 'fathom': 4388, 'hypocrisy': 5990, 'plant': 9140, 'plagiarist': 9128, 'commune': 2673, 'railroad': 9688, 'artist': 911, 'dealermanager': 3229, 'situation': 10928, 'tested': 11970, 'loan': 7204, 'hangout': 5487, 'volleyball': 12989, 'complimented': 2707, 'golf': 5160, 'representative': 9983, 'bullshiti': 1936, 'moneytax': 7869, 'peopleyou': 8951, 'brilliant': 1823, 'packing': 8760, 'savant': 10409, 'origin': 8632, 'constituent': 2799, 'juvenile': 6600, 'obamayoure': 8438, 'unqualified': 12726, 'appeal': 815, 'education': 3919, 'groom': 5327, 'teabag': 11896, 'voter': 13001, 'lolhashtag': 7225, 'lazy': 6885, 'governing': 5232, 'knob': 6727, 'ruler': 10268, 'stockman': 11494, 'prayliar': 9329, 'ted': 11919, 'cruzleaderlol': 3056, 'gompers': 5162, 'gum': 5371, 'scoundrel': 10489, 'tooknumbertimes': 12312, 'haven': 5573, 'meathead': 7604, 'daylight': 3205, 'jerkin': 6487, 'less': 6969, 'squinty': 11370, 'nails': 8076, 'guideline': 5362, 'camera': 2081, 'sword': 11789, 'hemp': 5677, '30pm': 144, 'goooood': 5181, 'savory': 10418, 'rohans': 10191, 'harvey': 5532, 'valverde': 12850, 'swagger': 11738, 'helloween': 5669, 'port': 9268, 'infatuation': 6157, 'hebrew': 5646, 'five': 4550, 'spared': 11257, 'sinner': 10912, 'changing': 2286, 'transcend': 12403, 'grandstanding': 5265, 'explode': 4249, 'parched': 8824, 'mouse': 7950, 'england': 4050, 'patriot': 8887, 'boston': 1706, 'upgrade': 12747, 'looted': 7259, 'morphin': 7913, 'cease': 2218, 'disturbing': 3598, 'taylor': 11890, 'overseas': 8730, 'pushed': 9576, 'gabriel': 4932, 'dimefoh': 3491, 'resist': 10007, 'accomplished': 340, 'decide': 3247, 'damage': 3137, 'gladiola': 5106, 'rust': 10290, 'dudesno': 3809, 'truuuu': 12511, 'paris': 8829, 'effort': 3926, 'hashtagnow': 5541, 'dispose': 3575, 'label': 6777, 'weren': 13393, 'drafted': 3708, 'eachother': 3859, 'pookie': 9243, 'sociopath': 11148, 'arrest': 895, 'humanitarian': 5945, 'cuntface': 3077, 'lastnumberor': 6841, 'navy': 8119, 'poison': 9206, 'gibb': 5066, 'hahahhaa': 5420, 'meridian': 7686, 'mayweather': 7573, 'born': 1697, 'nanticoke': 8094, 'attended': 1012, 'pennsylvania': 8943, 'dutch': 3838, 'error': 4113, 'concern': 2726, 'ado': 406, 'wannaball': 13068, 'liked': 7039, 'classroom': 2504, 'rebel': 9801, 'mattress': 7557, 'slippery': 11011, 'faith': 4335, 'economy': 3902, 'allnumber': 560, 'successful': 11616, 'boooooooo': 1677, 'settler': 10651, 'dome': 3636, 'bearded': 1298, 'recognition': 9826, 'considered': 2789, 'tiresome': 12238, 'memory': 7637, 'hostile': 5900, 'superbowl': 11674, 'fuss': 4920, 'risk': 10144, 'disgusting': 3560, 'sauerkraut': 10403, 'saul': 10404, 'aback': 276, 'popular': 9258, 'firewhere': 4529, 'outrage': 8677, 'reconsider': 9833, 'cthulhu': 3067, 'meany': 7600, 'subtweeting': 11610, 'moderation': 7850, 'consideration': 2788, 'bait': 1162, 'vegetarian': 12873, 'muthafukin': 8037, 'reacting': 9766, 'vain': 12837, 'europe': 4145, 'ashamed': 920, 'danced': 3149, 'yale': 13713, 'pobox': 9195, 'bench': 1386, 'rescue': 9996, 'skidmarks': 10946, 'ultra': 12632, 'annumberon': 727, 'announces': 717, 'sheffield': 10731, 'closer': 2543, 'gland': 5108, 'forgetabout': 4701, 'february': 4413, 'peasant': 8918, 'wide': 13491, 'vestige': 12909, 'verwacht': 12904, 'sterile': 11465, 'beterschap': 1429, 'france': 4768, 'mentionnumberofnumberbcs': 7663, '314': 148, 'revenue': 10074, 'conference': 2746, 'clappmeat': 2492, 'lounge': 7289, 'marijauna': 7494, 'wannnnaaa': 13236, 'jailed': 6446, 'treason': 12441, 'display': 3573, 'april': 849, 'chi': 2371, 'cleft': 2516, 'offset': 8487, 'onlynumbersolid': 8559, 'ayyyyyyeeeeee': 1100, 'rec': 9809, 'banker': 1210, 'pomegranate': 9233, 'tasted': 11877, 'excellent': 4196, 'precept': 9334, 'theycurse': 12094, 'loudmouth': 7284, 'dumbfuck': 3822, 'westside': 13402, 'spilled': 11299, 'ivory': 6427, 'sta': 11379, 'abbey': 278, 'pickled': 9055, 'fuckahs': 4861, 'fortunate': 4742, 'ra': 9648, 'promoted': 9467, 'semitism': 10600, 'creating': 2986, 'film': 4487, 'incentive': 6106, 'promote': 9466, 'olympics': 8535, 'audience': 1030, 'squander': 11360, 'roof': 10209, 'fixed': 4552, 'pace': 8752, 'lightweight': 7035, 'heavyweight': 5645, 'hahamonkey': 5423, 'itbutnumberreal': 6405, 'magical': 7394, 'smoothed': 11073, 'nook': 8305, 'granny': 5266, 'tightness': 12207, 'native': 8110, 'regard': 9886, 'possibility': 9283, 'petya': 9011, 'vanity': 12861, 'destiny': 3401, 'titanfall': 12241, 'godly': 5147, 'yaaaasssss': 13706, 'buhlowin': 1920, 'inferred': 6162, 'lodged': 7216, 'histeacher': 5762, 'dose': 3671, 'spreading': 11343, 'disease': 3552, 'appointed': 834, 'agenda': 471, 'windy': 13524, 'buzzzzz': 2013, 'msnbc': 7970, 'yournumbersecond': 13793, 'pedophile': 8924, 'promoting': 9469, 'wasnumbersteal': 13286, 'spun': 11351, 'straw': 11536, 'junior': 6585, 'dragoon': 3716, 'numbernumbertext': 8397, 'tease': 11912, 'fellascurse': 4428, 'dipshit': 3511, 'blindside': 1595, 'insult': 6268, 'bu': 1896, 'description': 3379, 'converse': 2836, 'recommend': 9828, 'boom': 1670, 'mannncurse': 7463, 'chopping': 2427, 'andrew': 685, 'janemba': 6457, 'waggon': 13024, 'asleep': 936, 'badmon': 1146, 'manna': 7460, 'houston': 5921, 'poland': 9213, 'begging': 1347, 'guaranteed': 5350, 'wayne': 13320, 'pussynumbersongs': 9592, 'row': 10246, 'girrrrl': 5093, 'crazzzzy': 2975, 'assist': 954, 'demon': 3330, 'herseeding': 5700, 'fuse': 4918, 'talmbout': 11854, 'mobo': 7840, 'redmickey': 9848, 'battled': 1285, 'clip': 2535, 'ancient': 660, 'numberdifferent': 8367, 'tops': 12334, 'lifestyle': 7020, 'dickhead': 3450, 'premium': 9358, 'log': 7219, 'posting': 9290, 'wrapped': 13660, 'cave': 2210, 'injury': 6190, 'knoxville': 6746, 'board': 1632, 'leastnumberand': 6910, 'likenumbermonth': 7060, 'interval': 6305, 'attract': 1019, 'indian': 6135, 'messyyy': 7701, 'skatenumbertrash': 10939, 'skatenumberhad': 10938, 'duc': 3800, 'delivery': 3316, '10000': 13, 'alt': 596, 'f4': 4283, 'wad': 13018, 'kindness': 6693, 'hadnumberregular': 5405, 'brest': 1806, 'fare': 4368, 'spelling': 11287, 'trace': 12374, 'morgan': 7909, 'influence': 6170, 'theeepp': 12026, 'derrrrrrr': 3373, 'compared': 2682, 'shopman': 10793, 'righting': 10124, 'harris': 5526, 'exit': 4226, 'globe': 5119, 'punctuation': 9554, 'oak': 8428, 'speechlessthat': 11280, 'heartless': 5635, 'champ': 2274, 'degenerate': 3295, 'immaculate': 6066, 'hath': 5559, 'warfare': 13254, 'tame': 11855, 'jumped': 6579, 'tonumberafter': 12295, 'neednumberof': 8147, 'okaaaaay': 8522, 'elevator': 3962, 'struggle': 11566, 'jason': 6466, 'differ': 3473, 'escape': 4118, 'scent': 10445, 'breach': 1785, 'dank': 3160, 'switzerland': 11785, '330': 153, 'unumberlost': 12741, 'supply': 11690, 'dingy': 3496, 'ashy': 923, 'protection': 9497, 'masturbate': 7542, 'studied': 11574, 'horsey': 5891, 'glow': 5124, 'woohoo': 13616, 'immediately': 6068, 'wannaeat': 13101, 'tied': 12199, 'imnumbern': 6074, 'factor': 4305, 'qualification': 9611, 'cm': 2567, 'attendance': 1010, 'transplanted': 12414, 'pluck': 9185, 'hellhole': 5665, 'mariacurse': 7491, 'socially': 11145, 'acceptable': 326, 'obispo': 8442, 'anarchist': 653, 'authority': 1049, 'compensate': 2689, 'canon': 2110, 'calwood': 2075, 'steer': 11447, 'sheeba': 10725, 'noise': 8288, 'beware': 1444, 'massive': 7538, 'leased': 6906, 'likenumberyears': 7084, 'ob': 8435, 'veteran': 12910, 'mallet': 7432, 'elongated': 3981, 'preur': 9388, 'wasnumbernotnumber': 13284, 'politician': 9223, 'rash': 9730, 'grant': 5267, 'libtards': 7005, 'catalogue': 2187, 'arcade': 859, 'naturalized': 8114, 'citizenship': 2476, 'amnesty': 630, 'capital': 2118, 'mutual': 8041, 'bonecurse': 1656, 'amusing': 641, 'scumbags': 10522, 'sucknumberdicks': 11628, 'bynumberbuses': 2023, 'owner': 8745, 'lastnumberyears': 6843, 'amie': 628, 'christopher': 2440, 'kitty': 6710, 'helen': 5660, 'caustic': 2206, 'ununnnn': 12742, 'spite': 11312, 'damncurse': 3142, 'blaming': 1566, 'prostate': 9491, 'squeal': 11366, 'chipotle': 2403, 'incise': 6110, 'killerscurse': 6680, 'crowned': 3038, 'faggotscurse': 4316, 'replycurse': 9975, 'pirate': 9102, 'morton': 7918, 'impersonation': 6084, 'babel': 1109, 'masturbated': 7543, 'jeopardy': 6484, 'patience': 8882, 'droop': 3772, 'positive': 9278, 'decipher': 3250, 'par': 8810, 'dunning': 3831, 'july': 6574, 'projecting': 9458, 'confirm': 2752, 'director': 3518, 'agency': 470, 'cub': 3068, 'stalk': 11397, 'memorabilia': 7634, 'wredskins': 13667, 'deemed': 3267, 'thereby': 12074, 'baking': 1168, 'hydrogen': 5985, 'peroxide': 8981, 'paste': 8871, 'overrun': 8729, 'mongrel': 7874, 'perish': 8975, 'portugal': 9274, 'whoopass': 13479, 'addicted': 385, 'spain': 11251, 'happendnumbertime': 5493, 'scarce': 10439, 'daynumberu': 3209, 'alabama': 514, 'web': 13348, 'forehead': 4686, 'reside': 10002, 'thatnumberbitch': 12013, 'donald': 3647, 'sterling': 11467, 'atnumbertoo': 992, 'stamp': 11399, 'edition': 3915, 'snowboarding': 11103, 'dyslexia': 3856, 'advertised': 422, 'taxi': 11887, 'lucia': 7319, 'guessing': 5358, 'spelled': 11286, 'helene': 5662, '02': 6, 'charcoal': 2301, 'renowned': 9958, 'cuff': 3071, '105': 20, 'bumblebee': 1940, 'grief': 5312, 'clutch': 2564, 'yesssssssscurse': 13759, 'disbelieve': 3534, 'rode': 10185, 'whitney': 13465, 'forcethey': 4681, 'preventing': 9391, '999': 266, '01': 5, 'illegally': 6047, 'wh': 13407, 'numb': 8351, 'racistmention': 9667, 'fromnumberole': 4832, 'fartnumberanother': 4375, 'homegirl': 5830, 'approve': 845, 'psyqo': 9522, 'aime': 501, 'numberlittle': 8381, 'footstep': 4676, 'raincoat': 9691, 'contrast': 2824, 'icon': 6005, 'thumb': 12175, 'pacing': 8754, 'ofnumberyankee': 8505, 'gig': 5071, 'wannamaggot': 13146, 'gordon': 5185, 'racist': 9665, 'codeword': 2595, 'zionist': 13828, 'antisemite': 746, 'numbacurse': 8352, 'balkamania': 1180, 'wantttt': 13245, 'likenumberornumberfighting': 7066, 'alert': 526, 'ann': 707, 'fester': 4449, 'chainsaw': 2265, 'rot': 10227, 'punishermax': 9555, 'wheeling': 13424, 'which': 13434, 'firm': 4532, 'rickety': 10105, 'sanctioning': 10363, 'chest': 2363, 'wander': 13053, 'wal': 13038, 'mart': 7515, 'insultscurse': 6271, 'unprovoked': 12724, 'donate': 3648, 'induced': 6150, 'vomit': 12993, 'disrespect': 3582, 'pouch': 9304, 'ilya': 6056, 'recyclables': 9842, 'stare': 11413, 'intimidate': 6310, 'capture': 2126, 'shouldn': 10810, 'whilst': 13440, 'dine': 3494, 'hay': 5592, 'emily': 4007, 'outlook': 8672, 'cruel': 3043, 'patted': 8890, 'kenwood': 6645, 'toolbox': 12314, 'hysterical': 5995, 'mortality': 7916, 'thannumberguys': 12005, 'grease': 5289, 'tickle': 12195, 'disparaging': 3570, 'slash': 10978, 'station': 11430, 'renew': 9957, 'reverend': 10075, 'candle': 2104, 'onlynumberhp': 8558, 'shifting': 10748, 'gripped': 5322, 'experimenting': 4240, 'result': 10039, 'bosom': 1702, 'uninvited': 12697, 'cannot': 2109, 'retreating': 10060, 'heather': 5639, 'minstrel': 7782, 'cooked': 2849, 'fewer': 4455, 'cushion': 3104, 'ghettoblack': 5059, 'scrape': 10495, 'bath': 1271, 'floating': 4608, '162': 60, 'rent': 9959, 'plexus': 9182, 'teaching': 11902, 'lace': 6782, 'jigaboo': 6504, 'homewreckers': 5839, 'pinch': 9090, 'panamonos': 8794, 'asch': 916, 'argentina': 874, 'fitted': 4546, 'mint': 7783, 'mothafuggin': 7930, 'shying': 10844, 'sterlet': 11466, 'clever': 2520, 'firstly': 4536, 'secondly': 10548, 'rolled': 10196, 'stewart': 11474, 'bicycle': 1452, 'helmet': 5671, 'felony': 4433, 'discredited': 3545, 'relieved': 9926, 'stressed': 11545, 'nevermind': 8184, 'vertical': 12903, 'horizontal': 5877, 'nedchuck': 8139, 'suffice': 11638, 'arthur': 907, 'virginia': 12956, 'mountain': 7948, '1800s': 70, 'saxon': 10422, 'frank': 4772, 'wentnumberjail': 13389, 'bulb': 1925, 'hoodrats': 5858, 'revise': 10078, 'paget': 8765, 'forgetting': 4704, 'trashebola': 12425, 'hid': 5718, 'translation': 12410, 'moulinyan': 7946, 'whenever': 13429, 'ridiculous': 10113, 'puppet': 9559, 'intentionally': 6283, 'unity': 12703, 'consensus': 2782, 'referring': 9868, 'slot': 11019, 'forbid': 4678, 'unfordable': 12684, 'insurance': 6272, 'surname': 11710, 'bully': 1939, 'firstike': 4535, 'while': 13438, 'supreme': 11702, 'allied': 554, 'commander': 2658, 'cansdumpsters': 2112, 'wannaretard': 13170, 'pudding': 9537, 'lax': 6880, 'defend': 3280, 'lambdamoo': 6799, 'releasing': 9921, 'spiritualized': 11310, 'cutting': 3114, 'turk': 12544, 'certain': 2254, 'hail': 5425, 'racial': 9660, 'tendency': 11945, 'inform': 6173, 'virtue': 12961, 'theory': 12070, 'academic': 321, 'lyingggggg': 7356, 'dreaded': 3733, 'halo': 5450, 'repeat': 9965, 'boooooi': 1676, 'lowest': 7308, 'workforce': 13628, 'panama': 8793, 'gram': 5252, 'barn': 1240, 'anumberugly': 769, 'planted': 9142, 'wick': 13487, 'wannaargue': 13060, 'refuse': 9882, 'tory': 12347, 'fonumberdays': 4659, 'shudder': 10833, 'foe': 4638, 'blasting': 1575, 'aboutnumberafter': 295, 'stroked': 11558, 'betrayed': 1435, 'paxson': 8899, 'muhammed': 7990, 'binladen': 1479, 'numbersoft': 8409, 'planet': 9135, 'active': 371, 'pack': 8755, 'andnumberhours': 671, 'duty': 3839, 'feeding': 4419, 'chilled': 2387, 'cheeseball': 2348, 'ouuuuufffff': 8689, 'haunt': 5569, 'diplomatic': 3508, 'pepper': 8952, 'patch': 8876, 'journalist': 6550, 'pointed': 9204, 'impartial': 6078, 'stoned': 11503, 'chap': 2292, 'catholic': 2197, 'gangster': 4960, 'subtweeted': 11609, 'completion': 2704, 'therecurse': 12075, 'youth': 13799, 'lack': 6783, 'stooooned': 11509, 'overplayed': 8725, 'empowered': 4021, 'partially': 8848, 'frog': 4823, 'sameeee': 10354, 'particular': 8852, 'butler': 1987, 'sequestra': 10626, 'stereotyped': 11463, 'nyquil': 8427, 'twinkled': 12587, 'tacoscurse': 11817, 'profit': 9447, 'university': 12707, 'requirement': 9993, 'burned': 1959, 'jessica': 6491, 'bernstine': 1412, 'tittle': 12250, 'scrollingcurse': 10514, 'allow': 563, 'aug': 1034, 'likenumberpoint': 7070, 'footing': 4675, 'banwagoning': 1217, 'mere': 7684, 'grumbling': 5346, 'recent': 9817, 'shutdown': 10838, 'intrigue': 6318, 'repulsed': 9990, 'versed': 12900, 'iowa': 6350, 'stegosaurus': 11450, 'hissed': 5761, 'pterodactyl': 9523, 'parrot': 8839, 'roe': 10187, 'renting': 9961, 'insight': 6243, 'lotion': 7278, 'havenumberniggers': 5578, 'flavor': 4579, 'priest': 9399, 'hahahaaha': 5408, 'murdered': 8003, 'list': 7129, 'lmfaoooooooo': 7187, 'overnight': 8713, 'rosecrans': 10222, 'attempting': 1008, 'acknowledging': 362, 'wannakeep': 13130, 'introduced': 6320, 'hip': 5751, 'stink': 11487, 'perform': 8966, 'trained': 12388, 'mirror': 7790, 'windsor': 13523, 'knowcurse': 6737, 'gratata': 5280, 'slay': 10986, 'assholeoh': 950, 'hears': 5629, 'basis': 1263, 'winter': 13536, 'daydream': 3203, 'powerball': 9312, '8th': 253, 'crowder': 3035, 'busied': 1976, 'cashier': 2178, 'bonfire': 1658, 'saturday': 10401, 'moderate': 7849, 'bulldog': 1930, 'combining': 2644, 'benumberon': 1401, 'mynumberyear': 8051, 'sunset': 11668, 'wannatalk': 13209, 'describe': 3375, 'flew': 4592, 'lagging': 6793, '542': 203, '550': 205, 'restriction': 10037, 'license': 7006, 'revoked': 10080, 'wannabitch': 13075, 'slid': 10999, 'crowd': 3033, 'implying': 6087, 'hoesc': 5790, 'scholarship': 10456, 'pressing': 9378, 'shoving': 10818, 'macdonald': 7368, 'parking': 8834, 'addressed': 392, 'mentioned': 7654, 'hustling': 5982, 'holder': 5807, 'revenge': 10073, 'usual': 12817, 'ganglion': 4958, 'scandalous': 10435, 'thenumberor': 12060, 'oris': 8635, 'licked': 7008, 'moreover': 7908, 'blight': 1589, 'gotnumbernatty': 5213, 'werenumberand': 13394, 'nutjob': 8424, 'penetration': 8938, 'waitnumbersee': 13034, 'magazine': 7389, 'chromeasome': 2441, 'skipped': 10954, 'cursing': 3098, 'approximately': 847, 'seal': 10531, 'kindergarden': 6689, 'bishop': 1504, 'textile': 11981, 'thisearly': 12126, 'carpus': 2160, 'anumberday': 750, 'weighs': 13371, 'steel': 11446, 'slavery': 10985, 'prohibition': 9456, 'aggregation': 476, 'proper': 9478, 'finer': 4504, 'ducanville': 3801, 'yesthat': 13761, 'initiative': 6187, 'advanced': 418, 'algebra': 535, 'saxophone': 10423, 'believed': 1370, 'arc': 858, 'nebraska': 8132, 'frustrated': 4850, 'thennumberfaggots': 12044, 'diaphragm': 3443, 'wrongbut': 13682, 'pressednumberpussy': 9377, 'ch': 2259, 'gatoraide': 4986, 'grove': 5335, 'ingres': 6182, 'somenumberchainz': 11185, 'sleeve': 10994, 'distracted': 3593, 'subhuman': 11595, 'sort': 11222, 'unleashed': 12710, 'minority': 7781, 'inclined': 6113, 'cough': 2907, 'goodby': 5171, 'autopsy': 1056, 'slantnumberagainst': 10974, 'recently': 9818, 'thiiiiiiis': 12104, 'environment': 4082, 'lunching': 7339, 'suffrage': 11639, 'isolated': 6394, 'congratulation': 2766, 'relentless': 9922, 'shag': 10678, 'malfunction': 7428, 'obese': 8440, 'ginger': 5077, 'cheetah': 2353, 'gnarled': 5129, 'charles': 2307, 'desire': 3391, 'genoa': 5026, 'endless': 4032, 'infected': 6159, 'invisible': 6332, 'robocop': 10171, 'spaceship': 11247, 'profane': 9441, 'bwahahahahahah': 2015, 'nee': 8140, 'langdurig': 6813, 'wordenzoals': 13622, 'kiev': 6672, 'smorenis': 11075, 'optreden': 8600, 'bro': 1837, 'goot': 5184, 'wholenumberseconds': 13472, 'chin': 2395, 'hipotle': 5752, 'celestial': 2230, 'cement': 2235, 'taxing': 11888, 'douchebag': 3678, 'recycle': 9843, 'bitchcunt': 1512, 'blade': 1561, 'hacking': 5393, 'auntnumberbich': 1039, 'scheming': 10451, 'protocol': 9505, 'putnumbershots': 9598, 'unarmed': 12640, 'seek': 10566, 'delude': 3317, 'naso': 8103, 'stenigt': 11455, 'vrouwen': 13004, 'boss': 1703, 'discovered': 3544, 'chew': 2368, 'monster': 7887, 'sue': 11634, 'scorpion': 10483, 'barter': 1250, 'flotation': 4621, 'peaceful': 8910, 'impossible': 6091, 'mill': 7757, 'makingnumberclams': 7425, 'betting': 1440, 'fattest': 4389, '35': 157, 'pond': 9236, 'cameo': 2080, 'magiccurse': 7396, 'oversized': 8731, 'diabetes': 3433, 'chan': 2278, 'cockney': 2587, 'killzone': 6685, 'rotary': 10228, 'parental': 8827, 'unsolicited': 12730, 'affiliated': 438, 'piccolo': 9048, 'sting': 11485, 'burying': 1970, 'packed': 8757, 'pier': 9066, 'senate': 10601, 'senator': 10603, 'proudly': 9507, 'whale': 13412, 'apex': 803, 'amy': 642, 'generalization': 5015, 'whipping': 13447, 'vista': 12969, 'wannaor': 13161, 'whoso': 13481, 'reply': 9974, 'genocide': 5027, 'gaze': 4995, 'combatant': 2639, 'warsaw': 13267, 'unexplainable': 12679, 'joint': 6531, 'plasticassed': 9148, 'crowning': 3039, 'pussy': 9581, 'smirnoff': 11063, 'exciting': 4208, 'spilt': 11300, 'underwood': 12673, 'horror': 5886, 'powdered': 9310, 'sugar': 11641, 'aesthetic': 432, 'offered': 8478, 'custody': 3105, 'juwanna': 6601, 'chirping': 2407, 'poker': 9210, 'curled': 3090, 'bug': 1914, 'method': 7708, 'colonial': 2624, 'employed': 4018, 'playbook': 9156, 'gully': 5369, 'physical': 9046, 'fling': 4600, 'fagsplease': 4319, 'welled': 13383, 'punishment': 9556, 'monday': 7864, 'sweatshirt': 11753, 'hanover': 5490, 'instrumental': 6265, 'promotion': 9470, 'getfree': 5048, 'numbernumberon': 8396, 'useless': 12777, 'parseltounge': 8841, 'basilic': 1261, 'span': 11252, 'ranch': 9706, 'stoke': 11496, 'pronounced': 9473, 'correctly': 2891, 'hammer': 5456, 'visionary': 12966, 'dressescurse': 3749, 'dumbcurse': 3821, 'suicide': 11644, 'amelie': 617, 'ballsack': 1188, 'bamoose': 1194, 'prophet': 9481, 'thy': 12187, 'spending': 11289, 'deformed': 3293, 'conclusion': 2732, 'rhapsody': 10088, 'afternumberdays': 454, 'cactus': 2041, 'heisenberg': 5658, 'agronomist': 490, 'mentionnumbercivic': 7658, '180': 69, 'ac': 319, 'treadmill': 12440, 'vineyard': 12946, 'opposite': 8594, 'storycurse': 11524, 'shaven': 10716, 'ish': 6379, 'illinois': 6051, 'lamashtu': 6797, 'orgy': 8629, 'ski': 10943, 'yoooooooooooooo': 13774, 'schlumped': 10454, 'hunt': 5964, 'dove': 3685, 'yeezus': 13746, 'equality': 4094, 'evolution': 4186, 'ancestor': 657, 'patrick': 8886, 'tighten': 12204, 'slaughter': 10981, 'freestylers': 4797, 'recall': 9810, 'apollo': 805, 'hoped': 5870, 'goldbach': 5154, 'failing': 4322, 'swell': 11765, 'belasco': 1362, 'profiting': 9449, 'bloody': 1611, 'secretly': 10551, 'christ': 2435, '4getaboutit': 190, 'mendusmc': 7643, 'bitches': 1516, 'egotistic': 3932, 'krunkchip': 6767, 'pedicure': 8923, 'leadership': 6891, 'sparkle': 11260, 'hallelujah': 5445, 'route': 10242, 'lone': 7232, 'practically': 9318, 'swimming': 11777, 'descended': 3374, 'example': 4194, 'often': 8508, 'pigment': 9075, 'extracted': 4270, 'occur': 8458, 'costa': 2898, 'cochineal': 2583, 'insect': 6237, 'velcro': 12878, 'cricket': 3004, 'eric': 4106, 'themnumberthe': 12038, 'beanersnumberkill': 1293, 'margin': 7487, 'euro': 4144, 'sherman': 10738, 'uuuuuuuuuucurse': 12828, 'starve': 11424, 'blushing': 1628, 'threatened': 12149, 'adrenalin': 413, 'halftime': 5440, 'lineman': 7106, 'partly': 8856, 'appear': 817, 'afrotino': 446, 'asian': 925, 'artistic': 912, 'branch': 1769, 'davidian': 3194, 'hermaphrodite': 5693, 'avenue': 1064, 'northern': 8317, 'defeated': 3276, 'hessian': 5707, 'rocephin': 10174, 'assnumbereyes': 956, 'genuine': 5032, 'sobbed': 11137, 'gravel': 5285, 'humbled': 5948, 'lucy': 7325, 'cava': 2209, 'showtime': 10827, 'lifetime': 7021, 'combat': 2638, 'lowlife': 7309, 'fucktard': 4882, 'andnumbergtfo': 670, 'thin': 12105, 'emilie': 4006, 'principal': 9408, 'office': 8480, 'intended': 6278, 'raceevent': 9657, 'eden': 3908, 'vitriol': 12973, 'creates': 2985, 'bignumberin': 1463, 'console': 2795, 'ch3burashka': 2260, 'nit': 8266, 'picky': 9057, 'russian': 10288, 'monkeybear': 7879, 'carnival': 2155, 'wolverine': 13598, 'vigor': 12932, 'wannaattempt': 13064, 'flattered': 4576, 'netherlands': 8173, 'viva': 12974, 'performer': 8969, 'carpet': 2159, 'hahahaahahahaha': 5409, 'microsoft': 7724, 'nignumbertimes': 8251, 'rustle': 10292, 'gash': 4975, 'theatre': 12020, 'sparkling': 11262, 'downward': 3702, 'raglyscrag': 9682, 'neville': 8185, 'almostnumbertimes': 577, 'itsnumberand': 6415, 'nothinnumberu': 8328, 'predictable': 9340, 'vandyke': 12855, 'rd': 9758, 'photography': 9037, 'handyman': 5483, 'badness': 1147, 'shantrell': 10694, 'gwenyth': 5383, 'agra': 484, 'formally': 4714, 'surprise': 11712, 'blaxican': 1577, 'disguise': 3557, 'tittielift': 12249, 'balloon': 1185, 'float': 4607, 'wagon': 13025, 'banking': 1212, 'offense': 8473, 'sleeper': 10990, 'profited': 9448, 'exact': 4191, 'leeftijden': 6930, 'welagain': 13376, 'delillo': 3311, 'resisted': 10009, 'shelf': 10732, 'grumpy': 5347, 'anumberdollar': 751, 'activist': 372, 'facial': 4297, 'laughcurse': 6858, 'laughingcurse': 6861, 'ease': 3877, 'brag': 1757, 'kendall': 6641, 'climb': 2528, 'latter': 6853, 'applaud': 824, 'claiming': 2485, 'inspected': 6248, 'hunted': 5965, 'tolerated': 12270, 'rescued': 9997, 'scuffle': 10519, 'approached': 841, 'scolded': 10472, 'tender': 11946, 'iting': 6408, 'traditionally': 12381, 'sketch': 10940, 'fucknumberdifferent': 4880, 'innumberyear': 6230, 'misery': 7795, 'learner': 6903, 'harassment': 5505, 'undesirable': 12674, 'maid': 7404, 'deed': 3265, 'validated': 12843, 'pharaoh': 9017, 'during': 3834, 'banister': 1208, 'mockingly': 7845, 'devoured': 3425, 'carted': 2171, 'slough': 11021, 'oo': 8570, 'crackling': 2952, 'grasssafe': 5279, 'abroad': 307, 'opposing': 8593, 'att': 1000, 'systematically': 11807, 'dispersed': 3572, 'drooping': 3773, 'boutchu': 1726, 'retire': 10053, 'nursing': 8422, '23': 112, 'flaw': 4580, 'imperfection': 6080, 'december': 3245, '169': 61, 'predict': 9339, 'announce': 715, 'caper': 2117, 'ghost': 5063, 'slutyou': 11037, 'scissors': 10471, 'trevaughn3': 12458, 'afternumberweeks': 457, 'session': 10644, 'kuroda': 6771, 'jumping': 6581, 'hearted': 5634, 'desolation': 3393, 'gonumberrows': 5166, 'shortest': 10802, 'compete': 2690, 'cloud': 2552, 'ordinary': 8616, 'arkansas': 880, 'westbrook': 13400, 'tide': 12196, 'xx': 13697, 'alcohol': 522, 'humble': 5947, 'reeled': 9862, 'linguini': 7110, 'prepared': 9363, 'whitman': 13464, 'alice': 539, 'bitchesniggas': 1522, 'deeply': 3271, 'devotedly': 3424, 'staple': 11408, 'anumbermillion': 759, 'wasnumbermillion': 13283, 'wantnumberand': 13241, 'palace': 8783, 'delhi': 3307, 'graduate': 5245, 'chas': 2318, 'dancing': 3152, 'gate': 4980, 'dos': 3670, 'gooooooooooood': 5182, 'cone': 2745, 'leastnumberugly': 6915, 'craving': 2965, 'neat': 8131, 'sake': 10332, '91': 256, 'shameless': 10689, 'bugoutsss': 1919, 'number922numberguess': 8354, 'lastnumbercurse': 6837, 'loveandhiphop': 7292, 'cecil': 2221, 'te': 11894, '420': 176, 'wannaseem': 13183, 'lo': 7199, 'afternoon': 451, 'bursa': 1966, 'sipping': 10915, 'wannalike': 13141, 'desk': 3392, 'wannapuffed': 13166, 'jamammi': 6451, 'slipped': 11009, 'loveeee': 7295, 'ittttt': 6423, 'sober': 11140, 'charming': 2313, 'tweetin': 12576, 'gallery': 4945, 'gathered': 4983, 'cursed': 3097, 'register': 9892, 'absolute': 309, '4000': 170, 'southwest': 11242, 'false': 4344, 'alpha': 585, 'numberminutes': 8384, 'shiiittt': 10753, 'combined': 2643, 'scratched': 10498, 'vacarro': 12832, 'cheesecake': 2350, 'bartender': 1249, 'hiccup': 5716, 'propaganda': 9476, 'portray': 9272, 'sash': 10391, 'suddenly': 11633, '1stnumberwho': 89, 'interrogative': 6300, 'peer': 8929, 'longing': 7240, 'possessed': 9281, 'omen': 8538, 'keepnumberlike': 6634, 'roman': 10200, 'groan': 5325, 'wannacall': 13083, 'onnumbercars': 8561, 'culture': 3073, 'graffiti': 5248, 'lamina': 6802, 'dumps': 3826, 'progress': 9453, 'hoooouusssee': 5864, 'anacortes': 646, 'dwammm': 3841, 'wannasay': 13180, 'soooooo': 11207, 'topnumberat': 12326, 'debate': 3237, 'birdsnumberurl': 1495, 'weighing': 13370, '145lbs': 52, 'nobodyknowshisrace': 8281, 'wannacome': 13088, 'shoulder': 10809, 'aboutnumberfat': 298, 'tilnumber': 12212, 'loaded': 7201, 'butted': 1996, 'blast': 1572, 'arenumberhot': 870, 'paidnumberbucks': 8768, 'bragging': 1760, 'baghdad': 1153, 'abused': 317, 'rascally': 9728, 'thenumberdead': 12050, 'firefighter': 4526, 'japan': 6462, 'cameltoes': 2079, 'versa': 12897, 'knot': 6734, 'untold': 12738, 'item': 6407, 'thrifty': 12154, 'caroline': 2157, 'ditch': 3599, 'adopted': 409, 'illness': 6053, 'annnnd': 714, 'hungarian': 5958, 'development': 3418, 'maqdisi': 7477, 'theorist': 12069, 'specifically': 11273, 'relief': 9924, 'workerscurse': 13627, 'release': 9919, 'considering': 2790, 'centreville': 2249, 'ville': 12939, 'solution': 11171, 'demographic': 3328, 'indentured': 6130, 'servant': 10636, 'apaches': 796, 'numbermm': 8385, 'tomato': 12274, 'apologizing': 808, 'advance': 417, 'apolonia': 810, 'imperial': 6081, 'misspelled': 7807, 'phalarope': 9015, 'resembles': 9999, 'sandpiper': 10368, 'schwa': 10464, 'colossal': 2629, 'appropriately': 844, 'nigguhs': 8247, 'roundnumberbecomes': 10239, 'chaos': 2291, 'glued': 5126, 'arrow': 902, 'con': 2717, 'artery': 906, 'blaine': 1563, 'ouh': 8654, 'champagne': 2275, 'leftbitch': 6935, 'dependent': 3355, 'hayseed': 5596, 'yaselves': 13725, 'percy': 8960, 'soundcurse': 11231, 'muthafuckas': 8035, 'commercial': 2665, 'towel': 12366, 'barge': 1236, 'masha': 7529, 'tendre': 11949, 'innumberif': 6213, 'dorr': 3668, '150': 55, 'reproduce': 9986, 'athlete': 980, 'drunken': 3790, 'donets': 3652, 'translucent': 12411, 'solid': 11167, 'arbat': 857, 'sundry': 11664, 'swab': 11735, 'cardinal': 2138, 'mynumberft': 8048, 'receives': 9816, 'motoroboated': 7943, 'auburnnn': 1027, 'audit': 1031, 'barsclubs': 1246, 'denver': 3347, 'donjuuuancurse': 3653, 'mcdonald': 7577, 'ss': 11375, 'lemonade': 6961, 'wheelnorth': 13425, 'mixture': 7821, 'muafucka': 7974, 'breathe': 1797, 'slurred': 11031, 'reactionary': 9768, 'drudgies': 3781, 'libertaritards': 7002, 'exhales': 4220, 'vietnamese': 12928, 'cong': 2762, 'vacant': 12831, 'babydaddy': 1114, 'needing': 8144, 'bail': 1158, 'stiff': 11480, 'backdoor': 1123, 'contest': 2812, 'aquafina': 852, 'crystalina': 3064, 'righteous': 10122, 'oval': 8691, 'oakland': 8429, 'toss': 12348, 'chalk': 2268, 'errare': 4112, 'petite': 9006, 'baked': 1164, 'montreal': 7892, 'garlic': 4971, 'chekmar': 2355, 'chime': 2392, 'mashedcurse': 7530, 'prosper': 9490, 'strange': 11531, 'rangatang': 9712, 'robber': 10162, 'zebra': 13820, 'brownshirt': 1874, 'bunk': 1949, 'chant': 2289, 'bathing': 1273, 'suspended': 11726, 'orb': 8607, 'tub': 12525, 'bal': 1169, 'fearful': 4403, 'wrath': 13662, 'christianity': 2437, 'embrace': 4000, 'perversion': 8997, 'pcmulticulturalism': 8906, 'applies': 832, 'backbone': 1121, 'spine': 11304, 'reduced': 9856, 'shrink': 10831, 'witnumbercookies': 13580, 'elegant': 3956, 'asserted': 946, 'customer': 3107, 'lgbtq': 6992, 'paradise': 8814, 'hunting': 5967, 'ooze': 8575, 'choosing': 2423, '92': 260, 'toooooo': 12316, 'workingnumberjobs': 13630, 'madness': 7386, 'independent': 6131, 'awhile': 1085, 'bengal': 1390, 'bending': 1388, 'behaved': 1354, 'addition': 388, 'legacy': 6943, 'saved': 10414, 'contracted': 2820, 'ripley': 10138, 'bergbrain': 1407, 'aren': 865, 'tcha': 11892, 'mop': 7901, 'tweegrams': 12570, 'trend': 12455, 'squaw': 11365, 'thickcurse': 12097, 'dissection': 3587, 'greenmile': 5304, 'barrington': 1244, 'booth': 1682, 'lastnight': 6836, 'remount': 9950, 'ordinance': 8615, 'referendum': 9866, 'yacht': 13709, 'israeluhm': 6397, 'gargamel': 4969, 'weeroja': 13368, 'anarchy': 655, 'cosy': 2903, 'romanowski': 10202, 'mt': 7972, 'odd': 8462, 'aflcio': 442, 'mustard': 8026, 'frooooontin': 4839, 'menu': 7668, 'benumberin': 1399, 'tropical': 12488, 'extension': 4265, 'lash': 6829, 'deadly': 3223, 'object': 8443, 'flexion': 4596, 'limbo': 7092, 'anumberfooter': 753, 'percocet': 8959, 'bjergsen': 1555, 'quilt': 9635, '47': 185, 'dynamite': 3854, 'slides': 11001, 'boisterous': 1645, 'belligerent': 1376, 'buffalo': 1912, 'zigeuner': 13826, 'impregnating': 6093, 'buttcurse': 1995, 'russen': 10286, 'sane': 10373, 'topnumberbobby': 12327, 'bond': 1654, 'borne': 1698, 'auditorium': 1033, 'securing': 10556, 'nest': 8170, 'brotherhood': 1863, 'range': 9713, 'rover': 10245, 'charter': 2317, 'mozzarella': 7964, 'kissed': 6704, 'innumbermins': 6216, 'manchester': 7446, 'machined': 7371, 'dub': 3798, 'currently': 3093, 'rasengan': 9729, 'penitentiary': 8941, 'volume': 12991, 'kuz': 6774, 'lawdcurse': 6871, 'failure': 4324, 'grind': 5318, 'boyyyyy': 1747, 'spaghetti': 11249, 'bnumberhappy': 1629, 'bleeding': 1584, 'fuckkkkkkkkkkkkk': 4879, 'getnumberto': 5054, 'jennings': 6482, 'rrrr': 10251, 'shrimp': 10830, 'lobster': 7206, 'quahog': 9609, 'mitka': 7816, 'shied': 10744, 'krishna': 6763, 'brief': 1817, 'script': 10512, 'icecream': 6001, 'monn': 7882, 'neyyy': 8200, 'deign': 3301, 'brooooooo': 1859, 'winston': 13535, 'burr': 1963, 'richer': 10101, 'gebeuren': 5000, 'racistischer': 9666, 'drew': 3751, 'nagenoeg': 8069, 'prozwartepieten': 9516, 'engvolk': 4053, 'wheeler': 13423, 'lmaoooooooooooooooooooooooooooo': 7172, 'outfit': 8669, 'coin': 2602, 'sakuras': 10334, 'ptnumberjaxon1114': 9524, 'bruhhhh': 1878, 'bruised': 1882, 'brutus': 1890, 'bryant': 1893, 'quite': 9642, 'temper': 11936, 'scheme': 10450, 'dull': 3814, 'bold': 1646, 'burnoose': 1961, 'filed': 4481, 'sexual': 10666, 'bumping': 1945, 'ross': 10224, 'thatch': 12011, 'cottage': 2904, 'bursitis': 1967, 'gale': 4941, 'handstand': 5481, 'podcasts': 9200, 'flexing': 4595, 'whencurse': 13428, '13th': 50, 'appreciated': 837, 'ruffled': 10261, 'wannanobody': 13155, 'unchanged': 12649, 'review': 10077, 'potentially': 9301, 'agitprop': 479, 'infant': 6156, 'bitchnumbertalking': 1541, 'published': 9533, 'blooded': 1610, 'princess': 9406, 'atrocity': 999, 'auramea': 1040, 'caleb': 2059, 'california': 2063, 'slater': 10980, 'slump': 11029, 'bonnet': 1660, 'realcurse': 9778, 'newton': 8196, 'hotshot': 5908, 'gazette': 4997, 'scott': 10486, 'gem': 5008, 'preferably': 9345, 'carrel': 2161, 'nahhh': 8071, 'drawer': 3729, 'flawwssss': 4582, 'stove': 11525, 'remove': 9952, 'halfway': 5441, 'selfie': 10587, 'hardest': 5511, 'unsuccessful': 12732, 'stretch': 11547, 'interrupted': 6302, 'ofnumberon': 8497, 'pump': 9550, 'civil': 2478, 'shallow': 10684, 'leaned': 6898, 'numberdays': 8366, 'mexico': 7713, 'impressive': 6098, 'appetite': 823, 'payment': 8905, 'duchess': 3802, 'ninooo': 8259, 'doze': 3704, 'wannaatnumberis': 13063, 'episode': 4089, 'diary': 3445, 'entirely': 4076, 'ceasefire': 2220, 'cerebritis': 2253, 'toothpaste': 12322, 'celtic': 2234, 'chamber': 2272, 'bragadayjahnumberurl': 1759, 'nimrod': 8256, 'bragadayjah': 1758, 'further': 4916, 'stopping': 11516, 'char': 2299, 'broiled': 1844, 'sautcurse': 10407, 'spinal': 11302, 'artichoke': 908, 'grave': 5283, 'tillman': 12211, 'soothe': 11213, 'limb': 7091, 'newspaper': 8195, 'fornumbercurse': 4724, 'rumored': 10272, 'democratic': 3326, 'primary': 9402, 'outlawed': 8670, 'ridiculed': 10112, 'verified': 12895, 'shaking': 10682, 'democracy': 3324, 'tetanic': 11974, 'evilcurse': 4185, 'furnish': 4913, 'dumped': 3825, 'kimball': 6686, 'parr': 8838, 'revolt': 10081, 'disappoints': 3532, 'xix': 13695, 'chasing': 2321, 'theater': 12019, 'alternate': 599, 'picssee': 9059, 'twisting': 12591, 'foreverrrr': 4697, 'younnnnng': 13785, 'flask': 4572, 'chupacabra': 2452, 'cheez': 2354, 'its': 6412, 'monstrous': 7888, 'lipstick': 7122, 'diploma': 3507, 'specific': 11272, 'dogshit': 3629, 'quarterback': 9615, 'henry': 5683, 'bougies': 1715, 'hesitated': 5703, 'beck': 1319, 'choate': 2411, 'heedless': 5650, 'extend': 4263, 'clara': 2493, 'ashanticurse': 921, 'glowing': 5125, 'skyscraper': 10962, 'col': 2605, 'sender': 10605, 'dragged': 3712, 'watered': 13304, 'topsy': 12335, 'bridesmaid': 1813, 'keyshia': 6658, 'commentator': 2662, 'butnumberport': 1989, 'conan': 2718, 'millionmonkey': 7762, 'confident': 2750, 'materialistic': 7550, 'que': 9617, 'pseudo': 9517, 'vivid': 12976, 'elli': 3976, 'ponder': 9237, 'myriad': 8054, 'traveling': 12434, '250': 120, 'repetitively': 9968, 'carstrucks': 2169, 'bitcheswomen': 1524, 'beerdrugs': 1337, 'craig': 2955, 'crangrape': 2960, 'crank': 2961, 'buckcherry': 1902, 'creeping': 3000, 'waisted': 13029, 'undergo': 12661, 'cruise': 3045, 'bruising': 1883, 'cupcake': 3080, 'tighter': 12205, 'laughed': 6859, 'scrumcurse': 10518, 'preparing': 9364, 'wouldcurse': 13654, 'lickercurse': 7009, 'hibachi': 5715, 'suckingcurse': 11627, 'buff': 1911, 'opened': 8578, 'flooded': 4614, 'withcurse': 13556, 'cutler': 3113, 'quadriplegic': 9608, 'itsnumberhow': 6419, 'exchange': 4203, 'clapclapclap': 2490, 'endorsement': 4034, 'candidate': 2102, 'nggercurse': 8203, 'hedge': 5649, 'fund': 4899, 'mustn': 8028, 'smoked': 11068, 'dafuq': 3128, 'waking': 13037, 'ronde': 10205, 'teamfluffnevabluff': 11907, 'kaepernick': 6604, 'june': 6583, 'fuckkkk': 4877, 'internal': 6297, '35am': 159, 'plunge': 9189, 'led': 6925, 'staring': 11415, 'iron': 6363, 'platino': 9151, 'censured': 2240, 'http': 5929, 'valve': 12849, 'hairstyle': 5432, 'skinned': 10952, 'dijonay': 3486, 'honor': 5854, 'smelt': 11055, 'fatal': 4384, 'attraction': 1021, 'nodule': 8286, 'juan': 6557, 'mode': 7846, 'ty': 12603, 'wiping': 13540, 'whisky': 13451, 'grrrrrr': 5343, 'deane': 3233, 'banged': 1206, 'forgive': 4707, 'moral': 7902, 'perpetual': 8983, 'formication': 4718, 'polynesian': 9231, 'von': 12995, 'miller': 7759, 'gibson': 5068, 'considerate': 2787, 'speaker': 11265, 'professor': 9444, 'dedicationnumberhoe': 3263, 'mentally': 7649, 'uplmfao': 12751, 'define': 3287, 'mar': 7478, 'peeping': 8928, 'widow': 13494, 'popcorn': 9249, 'oscar': 8640, 'designer': 3389, 'despite': 3398, 'rocket': 10177, 'lion': 7117, 'lockdown': 7212, 'renamed': 9955, 'bled': 1581, 'dhugga': 3431, 'galere': 4942, 'colorado': 2627, 'health': 5622, 'official': 8482, 'michel': 7719, 'hulkamania': 5941, 'rope': 10216, 'exceptionally': 4200, 'mulatta': 7994, 'janet': 6458, 'salmon': 10344, 'albert': 518, 'hampton': 5460, 'filthiest': 4491, 'veggie': 12874, 'sagittarius': 10322, 'annually': 725, 'counter': 2916, 'flintstone': 4602, 'violent': 12952, 'lottery': 7279, 'gtfohhhhh': 5348, 'fanboys': 4355, 'resort': 10015, 'celebrating': 2227, 'haled': 5438, '500': 193, 'spends': 11291, 'muthaafuckin': 8032, 'bathrobe': 1274, 'hayn': 5594, 'nickname': 8215, 'tutor': 12563, 'tightly': 12206, 'freckled': 4782, 'bother': 1708, 'shoutout': 10813, 'moonlight': 7898, 'underground': 12662, 'whiskey': 13450, 'ridicule': 10111, 'axillary': 1092, 'verbal': 12890, 'aggressive': 477, 'interaction': 6285, 'slop': 11017, 'wannahatchet': 13116, 'clinic': 2533, 'withnumberbaby': 13559, 'exempt': 4216, 'fooled': 4667, 'picket': 9052, 'jacuzzi': 6440, 'initiate': 6186, 'mingling': 7774, 'justify': 6595, 'vindictive': 12941, 'vengeful': 12880, 'product': 9439, 'artificial': 910, 'clash': 2498, 'alsatian': 593, 'nf': 8201, 'tannehill': 11862, 'polish': 9219, 'shipping': 10763, 'arranged': 894, 'intention': 6282, 'leather': 6916, 'mentionnumberstacks': 7664, 'ilovemakonnen': 6055, 'dreamed': 3738, 'salivation': 10342, 'coughing': 2908, 'lifting': 7024, 'corona': 2882, 'thai': 11988, 'snatching': 11092, 'folio': 4645, 'deux': 3415, 'fucktardmobile': 4883, 'dragonballz': 3715, 'drunkkkk': 3791, 'hotboxing': 5903, 'bushy': 1975, 'wetu': 13406, '130': 47, '530': 200, 'midterm': 7734, 'nickelback': 8214, 'deciphering': 3251, 'tooside': 12317, 'widely': 13492, 'lovejoy': 7297, 'overlying': 8712, 'hashtag34': 5535, 'whether': 13432, 'sculpture': 10520, 'extinct': 4267, 'buddha': 1909, 'namaste': 8081, 'cabbage': 2034, '54': 201, 'motor': 7941, 'anumber54': 748, 'briton': 1834, 'transmission': 12412, 'ebhgjhbgjbejfb': 3896, 'websingle': 13351, 'xxxxx8898': 13700, 'marylandunempins': 7525, 'landunem': 6811, 'thenumberqueers': 12061, 'wannamichael': 13152, 'hiring': 5755, 'kidnap': 6668, 'handbook': 5463, 'infiltrate': 6164, 'sophie': 11215, 'frequently': 4803, 'lmfaoooooooooo': 7190, 'motivate': 7939, 'sleepcurse': 10989, 'mustache': 8025, 'attain': 1005, 'chubby': 2445, 'egypt': 3934, 'elizabeth': 3974, 'elizbian': 3975, 'rudolf': 10260, 'campfire': 2090, 'teddy': 11920, 'eccentricity': 3899, 'appearance': 818, 'flagging': 4557, 'errrnigga': 4114, 'outrageous': 8679, 'tending': 11947, 'arenumberfoot': 868, 'european': 4146, 'expire': 4242, 'tune': 12536, 'maintenance': 7412, 'humiliated': 5950, 'rangelcurse': 9715, 'kardashians': 6616, 'conscious': 2780, 'snuff': 11106, 'ceiling': 2224, 'psychology': 9521, 'relates': 9911, 'overdraft': 8704, 'adding': 387, 'collection': 2614, 'chinatown': 2398, 'bulldozed': 1932, 'rapid': 9721, 'ushishi': 12815, 'beatboxing': 1304, 'employee': 4019, 'wannascare': 13181, 'hatecurse': 5555, 'witnessing': 13579, 'filling': 4486, 'compassion': 2686, 'mole': 7857, 'focused': 4637, 'deluge': 3318, 'timid': 12225, 'yellowpale': 13752, 'hazel': 5599, 'experience': 4239, 'pencil': 8935, 'ff': 4457, 'consistently': 2794, 'marvel': 7519, 'universe': 12706, 'educated': 3918, 'client': 2524, 'pattern': 8891, 'costumescurse': 2902, 'fantasy': 4365, 'machine': 7370, 'paula': 8895, 'princesscookieneckbackcrack': 9407, 'faut': 4392, 'molested': 7858, 'homophobic': 5842, 'entree': 4079, 'febnumberwas': 4412, 'feeeeeling': 4420, 'feelliiiing': 4425, 'wannafur': 13109, 'awareness': 1076, 'wendell': 13387, 'usernumbercuz': 12787, 'stubby': 11570, 'anyonecurse': 784, 'pompous': 9235, 'competing': 2692, 'regent': 9889, 'medicine': 7610, 'waldo': 13039, '240': 114, 'milkshake': 7755, 'yankeeography': 13717, '2001': 94, '86': 250, 'fireball': 4522, 'sponsored': 11328, 'hash': 5533, 'browns': 1873, 'wannaask': 13062, 'girbuad': 5080, 'fitzpatrick': 4549, 'flabby': 4554, 'publicly': 9531, 'greatcurse': 5293, 'tress': 12457, 'flashing': 4571, 'liberia': 7000, 'fergusonnumberbirdsnumberstone': 4446, 'forth': 4740, 'trainwreck': 12393, 'formerly': 4717, 'deliver': 3312, 'surfboard': 11706, 'fluffy': 4627, 'rattlesnake': 9746, 'gladden': 5105, 'parachute': 8811, 'hers': 5699, 'abduction': 281, 'kidnapping': 6670, 'imhollywoodjay': 6063, 'imyungjay': 6103, '1inkkofrosess': 85, 'cgbugatti': 2258, 'flagged': 4556, 'allcurse': 546, 'tattooed': 11880, 'melt': 7630, 'instance': 6258, 'confrontation': 2758, 'mason': 7533, 'forgiato': 4706, 'nhl13': 8204, 'bowie': 1734, 'founder': 4753, 'caecum': 2045, 'imapython': 6062, 'mimiblargh': 7765, 'fred': 4783, 'overnumbershots': 8722, 'offnumbercuz': 8485, '5iiive': 209, 'liberation': 6999, 'seemed': 10569, 'consequence': 2784, 'butterfly': 1999, 'ladybug': 6788, 'trim': 12472, 'freezing': 4799, 'translated': 12409, 'submarine': 11599, 'hollow': 5817, 'succulant': 11619, 'clotting': 2551, 'swooped': 11787, 'western': 13401, 'reporter': 9981, 'bane': 1203, 'advertise': 421, 'cracking': 2951, 'prize': 9424, 'cuba': 3069, 'province': 9513, 'radical': 9672, 'answering': 741, 'reap': 9793, 'braved': 1779, 'temperature': 11937, 'archive': 861, 'thunderball': 12180, 'andnumberurl': 680, 'frontier': 4838, 'pea': 8908, 'ibuprofen': 5999, 'fruitnumbero': 4848, 'frustration': 4851, 'unumberfav': 12740, 'poolcurse': 9245, 'xii': 13694, 'favoring': 4396, 'honeybun': 5849, 'lovecurse': 7293, 'ayyyyeeeee': 1098, 'cavscurse': 2212, '456': 183, 'atnumberpm': 991, 'niggerfag': 8238, 'rebuild': 9807, 'dancehall': 3150, 'bolivia': 1649, 'batshit': 1282, '445': 181, 'tula': 12533, 'analysis': 649, 'ivy': 6428, 'scholar': 10455, 'unumberbitch': 12739, 'vast': 12869, 'skit': 10956, 'brake': 1768, 'takenumberseconds': 11834, 'takenumberfucking': 11832, 'niggamention': 8231, 'fronted': 4837, 'prelude': 9353, 'liquidate': 7124, 'bakerscurse': 1167, 'posed': 9276, 'procreate': 9436, 'bleeder': 1583, 'oxycontin': 8748, 'oxymoron': 8749, 'maryland': 7524, 'va': 12830, 'xvi': 13696, 'received': 9815, 'muthafucka': 8034, 'funnynumbersee': 4911, 'privacy': 9419, 'fuuuuuck': 4924, 'fuuuuuuuuck': 4925, 'ga': 4930, 'surely': 11704, 'autozone': 1057, 'wiped': 13539, 'jolies': 6536, 'secretary': 10550, 'maman': 7438, 'lapdances': 6821, 'gahdamn': 4936, 'mistress': 7813, 'gamenumberpreview': 4952, 'gansitos': 4961, 'gasoline': 4976, 'spirit': 11308, 'reeked': 9861, 'overlaid': 8708, 'rockwell': 10182, 'lynchberg': 7359, 'armocurse': 883, '63': 220, 'belgrade': 1366, 'happily': 5499, 'johns': 6526, 'rednecksfor': 9850, 'polar': 9214, 'vortex': 12998, 'sequel': 10625, 'agen': 469, 'dazs': 3213, 'vaseline': 12868, 'bolding': 1648, 'fuckboys': 4864, 'bynumbernigguhs': 2026, 'genet': 5020, 'nickswagis504': 8217, 'settled': 10650, 'aboutnumberfoot': 300, 'sideways': 10864, 'laughable': 6857, 'secondary': 10546, 'sticky': 11478, 'follette': 4647, 'likenumberpics': 7069, '102312': 18, 'wannameet': 13150, 'ambition': 614, 'bitchnumberornumberpumps': 1540, 'othot': 8650, 'menumberwishes': 7679, '2000': 93, 'bossed': 1704, 'playboy': 9157, 'spoiled': 11320, 'cheering': 2344, 'possession': 9282, 'whistle': 13454, 'sexnatural': 10664, 'superhero': 11677, 'nigggga': 8244, 'doincurse': 3630, 'calmed': 2071, 'againcurse': 461, 'relaxed': 9917, 'millard': 7758, 'analyze': 650, 'creek': 2996, 'shutting': 10841, 'sincenumberurl': 10898, 'goldiggers': 5157, 'wannamarry': 13148, 'therapy': 12072, 'goligoski': 5161, 'ambulance': 616, 'migrate': 7739, 'taxation': 11886, 'shampooing': 10690, 'derecho': 3370, 'thunderstorm': 12183, 'bestnumberever': 1424, 'seven': 10653, 'ponytail': 9241, 'evening': 4158, 'meanie': 7593, 'faces': 4295, 'housenumberhours': 5917, 'expiration': 4241, 'fearing': 4404, 'trinidad': 12475, 'goodmorning': 5177, 'goodnight': 5179, 'lisp': 7128, 'niggabitches': 8226, 'gorgeoususer': 5188, 'calico': 2062, 'gotnumberbaby': 5200, 'gotnumberbad': 5201, 'council': 2911, 'sidekick': 10857, '916': 259, 'pussayyy': 9579, 'vanilla': 12856, 'dreadful': 3734, 'pastnumberyrs': 8873, 'anumberyr': 772, 'ketchup': 6651, 'swim': 11774, 'numberjobs': 8379, 'vector': 12871, 'lurking': 7342, 'tonumberon': 12303, 'happiest': 5498, 'fruitsnack': 4849, 'falling': 4343, 'gotchya': 5195, 'undignified': 12675, 'transfer': 12404, 'dawdling': 3196, 'slacken': 10966, 'cristcurse': 3017, 'hazelnut': 5600, 'fashioned': 4378, 'risky': 10146, 'mosquito': 7924, 'soldier': 11164, 'bouldercrest': 1716, 'proposecurse': 9484, 'usercurse': 12780, 'ickblah': 6004, 'congestion': 2764, 'lofty': 7218, 'gymnumber12hr': 5384, 'rusty': 10293, 'tenfold': 11951, 'limousine': 7097, 'pouring': 9307, 'robin': 10169, 'saddle': 10317, 'comedian': 2648, 'apartment': 800, 'columbus': 2634, 'guessed': 5357, 'commenting': 2664, 'wannasuck': 13205, 'attacking': 1004, 'hahahahahaha': 5414, 'warning': 13261, 'graphic': 5276, 'bellicheck': 1375, 'annoyingcurse': 723, 'industry': 6152, 'celebrated': 2226, 'macklemoore': 7374, 'ferry': 4447, 'gather': 4982, 'differently': 3477, 'healed': 5619, 'hahahahaa': 5410, 'hahahhahaa': 5422, 'haney': 5484, 'accused': 351, 'adultery': 416, 'sherren': 10739, 'holiday': 5812, 'handicap': 5469, '18th': 77, 'sistercurse': 10921, 'sail': 10325, 'easter': 3883, 'spiritual': 11309, 'accidentnumbernever': 335, 'craziest': 2970, 'related': 9910, 'isnumbertoday': 6391, 'buckcity': 1903, 'resurrection': 10043, 'cheerleading': 2346, 'purchased': 9562, 'grandfather': 5260, 'seasonal': 10538, 'donovan': 3657, 'hoodrat': 5857, 'anxiety': 775, '116curse': 36, 'rome': 10204, 'bigcurse': 1458, 'joseph': 6546, 'hugged': 5934, 'naming': 8088, 'mercedescurse': 7680, 'lexuscurse': 6991, 'handy': 5482, 'plenty': 9181, 'rattling': 9747, 'hayfever': 5593, 'hazlenut': 5601, 'attached': 1001, 'dontouch': 3659, 'dayton': 3212, 'patient': 8883, 'capri': 2122, 'cakecurse': 2054, 'pg': 9013, 'praying': 9328, 'actor': 374, 'openly': 8580, 'molesterscurse': 7859, 'likenumbersomething': 7075, 'itsnumbermillion': 6420, 'collar': 2612, 'thannumbermil': 12007, 'booyyyyyy': 1686, 'heeellllooo': 5651, 'chewing': 2369, 'sniffed': 11096, 'canton': 2113, 'lawton': 6878, 'resulting': 10040, 'process': 9434, 'bitchfeel': 1527, 'sweeter': 11760, 'fili': 4482, 'pokemons': 9209, 'disc': 3535, 'conduct': 2743, 'pizza': 9120, 'moochie': 7894, 'bitchadam': 1508, 'dial': 3437, 'charliecurse': 2309, 'stir': 11489, 'rockstar': 10181, 'hospitalized': 5896, 'accompanied': 339, 'anchorrope': 659, 'mini': 7775, 'smokingnumberg': 11071, 'cooooool': 2860, 'highhhhh': 5728, 'highland': 5729, 'elastic': 3943, 'morally': 7904, 'kidknappedbeat': 6667, 'insanity': 6236, 'itsnumberother': 6421, 'openshaw': 8581, 'strait': 11530, 'clearlyhashtag': 2515, 'wishywashy': 13550, 'labelled': 6778, 'endorsed': 4033, 'copied': 2867, 'holdercurse': 5808, 'department': 3352, 'isncurse': 6387, 'buckle': 1906, 'sheep': 10729, 'likenumberweeks': 7080, 'penn': 8942, 'handiest': 5471, 'satisfies': 10398, 'soaking': 11133, 'wetcurse': 13405, 'pummeled': 9549, 'hardcurse': 5509, 'tonic': 12289, 'shoved': 10816, 'andcurse': 662, 'racing': 9662, 'thevrefs': 12091, 'labour': 6781, 'gosling': 5190, 'meeeeeee': 7618, 'wannaset': 13184, 'bloke': 1607, 'inst': 6253, 'threatening': 12150, 'lastly': 6835, 'egregious': 3933, 'wredskind': 13666, 'cabin': 2036, 'enter': 4066, 'associate': 961, 'comprehension': 2711, 'fornumberracks': 4732, 'heals': 5621, 'hugh': 5936, 'neffer': 8152, 'horner': 5880, 'isnumberand': 6388, 'hull': 5942, 'striker': 11550, 'funke': 4904, 'resorting': 10016, 'hellnumberplaces': 5666, 'fiberglass': 4462, 'hypocritical': 5993, 'confess': 2747, 'youuuuuuuu': 13804, 'ratcheticity': 9735, 'likenumberstay': 7076, 'numberbut': 8362, 'erie': 4108, 'snumbero': 11125, 'nodding': 8284, 'likenumberand': 7042, 'upnumberhours': 12752, 'cadillac': 2044, 'sein': 10581, 'vent': 12883, 'viewer': 12930, 'dominican': 3642, 'fifty': 4467, 'phoenix': 9028, 'firebird': 4523, 'blowncurse': 1618, 'cinderella': 2460, 'jove': 6552, 'lediard': 6927, 'whitesnake': 13461, 'vincent': 12940, 'invasion': 6325, 'pussyhead': 9587, 'lonelycurse': 7234, 'quickness': 9630, 'girt': 5094, 'enoughyou': 4064, 'agendathem': 472, 'wannaswitch': 13207, 'atlantanumbermins': 983, 'hospital': 5894, 'sincenumberi': 10896, 'russe': 10284, 'pillscurse': 9084, 'consistent': 2793, 'slab': 10964, 'census': 2242, 'gulp': 5370, 'seenumbergame': 10576, 'anumberand': 749, 'sublime': 11597, 'wannacount': 13092, 'humerus': 5949, 'broccoli': 1842, 'leastnumbertimes': 6914, 'appointment': 835, 'thatnumberout': 12015, 'ofnumberof': 8496, 'groupcorporate': 5333, 'hashtags': 5544, 'stanton': 11407, 'announced': 716, 'minimal': 7777, 'patella': 8878, 'ignorance': 6033, 'terrifying': 11966, 'roast': 10157, 'littlephone': 7147, 'seennumberniggaz': 10574, 'design': 3387, 'walnut': 13050, 'flee': 4585, 'butttttttt': 2005, 'sworn': 11791, 'darker': 3167, 'frame': 4767, 'clichcurse': 2521, 'forsake': 4738, 'greasy': 5291, 'reached': 9762, 'boughtnumberfags': 1714, 'havenumberquid': 5580, 'temple': 11938, 'slickcurse': 10998, 'their': 12030, 'glorify': 5120, 'myth': 8060, 'cowardly': 2942, 'proliferation': 9459, 'spoke': 11322, 'runner': 10276, 'havenumberunread': 5583, 'sipped': 10914, 'boutnumberthrees': 1730, 'functional': 4897, 'flamboyant': 4561, 'ton': 12283, 'swung': 11792, 'cabman': 2039, 'budget': 1910, 'fornumberrelationship': 4733, 'rhinestoned': 10090, 'indirectly': 6145, 'revolution': 10082, 'expanding': 4231, 'muchhashtag': 7976, 'utterly': 12825, 'brothercurse': 1862, 'cee': 2222, 'aft': 447, 'texarkana': 11978, 'waaaaay': 13010, 'receptacle': 9819, 'streamyou': 11541, 'timesughhh': 12224, 'lattisaw': 6854, 'klux': 6717, 'presence': 9366, 'connecting': 2774, 'thickkkkkk': 12100, 'anumberpound': 765, '05': 9, 'gauge': 4987, 'gotnumbera': 5199, 'gotnumberproblems': 5218, 'allnumberof': 561, 'refusing': 9884, 'numberdoorsnumberseater': 8368, 'numberhoes': 8374, 'yokohama': 13772, 'measlynumberfollowers': 7601, 'menumberhunnit': 7673, 'manage': 7441, 'thonumber12': 12133, 'ornumberon': 8639, 'fleecy': 4586, 'custom': 3106, 'downed': 3690, 'rhythm': 10093, 'mynumberridin': 8049, 'excitement': 4206, 'gooooo': 5180, 'deadlock': 3222, 'thesenumberdominican': 12084, 'sighed': 10866, 'crown': 3037, 'slur': 11030, 'barecurse': 1231, 'yoouuuuu': 13777, 'requesting': 9992, 'mouthwork': 7957, 'wannathrow': 13213, 'hadnumberfags': 5400, 'aenumberhours': 428, 'irene': 6358, 'parley': 8836, 'executive': 4215, 'boldest': 1647, 'loveeeee': 7296, 'unnecessary': 12721, 'likened': 7041, 'iberian': 5997, 'baldheadass': 1176, 'dean': 3232, 'vesta': 12908, 'elsecurse': 3985, 'yourenumberas': 13790, 'compliment': 2705, 'rightous': 10125, 'alley': 553, 'laocoon': 6817, 'gatorade': 4984, 'blinked': 1597, 'quincy': 9636, 'throne': 12160, 'assigned': 952, 'bitchdouche': 1515, '1122012': 31, 'unswole': 12733, 'organize': 8626, 'reaching': 9764, 'destination': 3400, 'tweed': 12569, 'ctfuu': 3066, 'clearer': 2513, 'havenumberhoes': 5575, 'lamborghini': 6800, 'scrambled': 10493, 'nansemond': 8092, 'perspective': 8996, 'rumor': 10271, 'hideous': 5722, 'traitorous': 12397, 'pelvis': 8933, 'parading': 8813, 'tunechi': 12537, 'moneyylol': 7871, 'syrian': 11804, 'correspondent': 2894, 'wrapping': 13661, 'shock': 10783, 'hamburger': 5455, 'wannalive': 13145, 'wannasmoke': 13193, 'wannawatch': 13231, 'operate': 8583, 'gentle': 5028, 'anumbere350': 752, 'impersonating': 6083, 'amalek': 605, 'annoyed': 721, 'felecia': 4426, 'creepiest': 2999, 'prollynumbertweets': 9460, 'fromnumberdifferent': 4830, 'daaaamn': 3124, 'wannamuddle': 13153, 'blanket': 1569, 'lifted': 7023, 'wannaslap': 13189, 'wannaslit': 13191, 'wannatravel': 13218, 'wannareach': 13168, 'bibliography': 1450, 'froze': 4844, 'hadn': 5397, 'digestive': 3480, 'hoeshoes': 5795, 'upside': 12762, 'cornered': 2879, 'outback': 8659, 'joshmention': 6547, 'outran': 8680, 'rep': 9963, 'catfishin': 2195, 'forming': 4719, 'excessively': 4202, 'hustlelinaa': 5981, 'seeeeen': 10562, 'faceeeee': 4293, 'wayyyy': 13324, 'innumberu': 6222, 'mortal': 7915, 'learnt': 6905, 'buffet': 1913, 'amusement': 640, 'imported': 6090, 'teased': 11913, 'mcsully': 7584, 'pour': 9306, 'silk': 10877, 'slightly': 11005, '107': 21, 'legitimate': 6955, 'bearable': 1296, 'mcgregor': 7581, 'mended': 7642, 'tilt': 12213, 'yearnumberbitches': 13745, 'nansemonds': 8093, 'eyecurse': 4277, 'surplus': 11711, 'redonkulus': 9852, 'expired': 4243, 'obnoxious': 8446, 'warped': 13263, 'yayyyyy': 13732, 'marry': 7509, 'jiggcurse': 6506, 'minnesota': 7779, 'grocer': 5326, 'mixing': 7820, 'spaghetticurse': 11250, 'leastnumberfob': 6911, 'planned': 9137, 'confuse': 2759, 'prenuptial': 9359, 'snumberbitch': 11116, 'tragic': 12384, 'pirie': 9105, 'jihadist': 6511, 'crosshairs': 3029, 'happening': 5495, 'fuckinhashtag': 4876, 'belgian': 1365, 'casket': 2179, 'sleepy': 10993, 'likenumberfuzzy': 7049, 'research': 9998, 'goodmoring': 5176, 'fornumberbeers': 4722, 'likenumberodd': 7062, 'getnumberfags': 5050, 'agony': 482, 'multi': 7996, 'southerner': 11240, 'irritate': 6371, 'nicknamed': 8216, 'whocurse': 13469, 'thyself': 12188, 'ont': 8567, 'orderednumberchocolate': 8613, 'phonenumbercool': 9031, 'welbeck': 13377, 'pictured': 9062, 'cliff': 2525, 'cologne': 2621, 'richest': 10102, 'sidekicklike': 10858, 'wannabrake': 13080, 'classify': 2502, 'achilles': 357, 'owned': 8744, 'launched': 6864, 'remembernumberof': 9941, 'granting': 5269, 'likenumbermonths': 7061, 'itsnumberdays': 6416, 'herpes': 5698, 'annumbermins': 726, 'kmichelle': 6718, 'manly': 7458, 'ladyship': 6790, 'panomera': 8803, 'sooooooooooon': 11210, 'jefferson': 6479, 'wannaopen': 13160, 'snorted': 11100, 'learning': 6904, 'firework': 4530, 'flirt': 4605, 'garfield': 4968, 'yeahhhhhh': 13740, 'widening': 13493, 'immature': 6067, 'launching': 6865, 'snapping': 11089, 'insane': 6234, 'rubberband': 10255, 'creak': 2976, 'utility': 12822, 'lightskinned': 7033, 'kremlin': 6761, 'jaded': 6441, 'yarn': 13724, 'anon': 731, 'romantic': 10203, 'hitnumberlicks': 5772, 'notre': 8336, 'dame': 3140, 'turner': 12551, 'truuuooooth': 12510, 'followback': 4649, 'sorrow': 11220, 'rib': 10094, 'rural': 10278, 'roommate': 10214, 'ofnumberand': 8490, 'chipmunk': 2402, 'gastro': 4979, 'thenumberdope': 12051, 'heh': 5653, 'steam': 11443, 'dinosaur': 3502, 'uuuuhhuuhhhhhp': 12827, 'wrecked': 13664, 'hoenumberwrongs': 5788, 'wannasing': 13186, 'likenumberfreshman': 7048, 'tooknumber': 12310, 'usage': 12773, 'scored': 10479, '475': 186, '525': 198, 'crept': 3001, 'vomited': 12994, 'trembling': 12452, 'revolves': 10083, 'teenage': 11922, 'carpal': 2158, 'waved': 13314, 'cassel': 2180, 'kelly': 6639, 'unloaded': 12715, 'freemasonry': 4795, 'grs': 5344, 'wannaapologize': 13059, 'wannaaround': 13061, 'wannasomeone': 13195, 'wannacut': 13096, 'wannaexperience': 13102, 'cloudcurse': 2553, 'wannatry': 13221, 'depending': 3356, 'uncomfortable': 12653, 'tomboy': 12277, 'decatur': 3242, 'mead': 7587, 'string': 11551, 'agoooo': 483, 'saiyancurse': 10330, 'turnednumberwit': 12550, 'thenumbergrade': 12055, 'informed': 6176, 'paintingsmythological': 8778, 'battery': 1283, 'dessert': 3399, 'wept': 13390, 'weepnumberyears': 13367, 'thenumberyear': 12065, 'smoker': 11069, 'gesture': 5046, 'balance': 1171, 'sketchball': 10941, 'rack': 9668, 'bore': 1691, 'fairchild': 4327, 'button': 2002, 'ace': 354, 'strategy': 11535, 'backpedals': 1133, 'became': 1315, 'avail': 1060, 'bipolar': 1483, 'frowned': 4842, 'sac': 10303, 'cradle': 2953, 'ambitious': 615, 'gladly': 5107, 'felon': 4432, '200lbs': 97, 'attempted': 1007, 'logging': 7220, 'owning': 8746, 'improving': 6102, 'cheatscurse': 2334, 'degrasse': 3298, 'scientific': 10468, 'stripping': 11556, 'instant': 6259, 'girllll': 5090, 'convenience': 2832, 'clerk': 2518, 'redstone': 9854, 'mnumberyou': 7832, 'mnumberand': 7826, 'xxx': 13698, 'vipperloid': 12954, 'andnumberis': 672, 'header': 5611, 'photophobia': 9038, 'saab1mention': 10299, 'bluish': 1621, 'perfume': 8971, 'trigonometric': 12469, 'annumberyear': 730, 'sitcom': 10923, '3d': 164, 'nonumberspot': 8302, 'eyelash': 4279, 'ranula': 9718, 'irritating': 6374, 'bombay': 1652, 'bachelor': 1117, 'stooped': 11511, 'englewood': 4051, 'spanned': 11255, 'julian': 6571, 'madman': 7385, 'admitted': 404, 'charpie': 2315, 'hooked': 5862, 'physic': 9045, 'coolatta': 2855, 'rowdy': 10247, 'tolerant': 12269, 'amazement': 609, 'arrived': 899, 'ke': 6627, 'brass': 1775, 'mattwho': 7558, 'bowlegged': 1737, 'nanosecond': 8091, 'reserve': 10000, 'particularly': 8853, 'brightest': 1822, 'benumberand': 1397, 'sweating': 11751, 'cod': 2593, 'unnatural': 12719, 'razor': 9756, 'crawl': 2967, 'drove': 3777, 'organizing': 8628, 'chapel': 2293, 'roasting': 10159, 'migration': 7740, 'liberty': 7003, 'seventeen': 10654, 'fray': 4778, 'contrarian': 2822, 'etcwake': 4138, 'disappear': 3528, 'medulla': 7614, 'wannablow': 13077, 'majestic': 7413, 'meek': 7619, 'sticking': 11477, 'helpful': 5675, 'parenthetical': 8828, 'explanation': 4248, 'shiteee': 10770, 'superb': 11673, 'haywood': 5597, 'unanswered': 12639, 'thankful': 11995, 'younumbertimes': 13787, 'gotnumbernaked': 5212, 'spurting': 11355, 'saline': 10341, 'worshipped': 13645, 'patting': 8892, 'dentist': 3346, 'receding': 9812, 'wannawarn': 13230, 'eastern': 3884, 'panhandle': 8801, 'overlord': 8711, 'sellingcurse': 10592, 'yezidi': 13764, 'australia': 1044, 'chanting': 2290, 'staycurse': 11436, 'ibukicurse': 5998, 'rosebud': 10221, 'destroyed': 3403, 'illogical': 6054, 'gambling': 4950, 'censorship': 2239, 'empowering': 4022, 'censuring': 2241, 'wholesale': 13473, 'therein': 12077, 'postnumbermore': 9291, 'bradley': 1755, 'friable': 4808, 'outraged': 8678, 'overnumberniggas': 8720, 'cite': 2474, 'maggie': 7391, 'bridge': 1814, 'diese': 3469, 'bringnumberthing': 1828, 'backpack': 1131, 'wasn': 13276, 'kubiak': 6768, 'painkiller': 8771, 'becomesnumbertimes': 1322, 'puffy': 9542, 'straighten': 11528, 'joining': 6530, 'anger': 697, 'materialized': 7551, 'atom': 995, 'wannahangout': 13115, 'automatic': 1054, 'faithjust': 4337, 'mack': 7373, 'trinity': 12476, 'sacramento': 10308, 'whispering': 13453, 'protestant': 9502, 'curtis': 3100, 'capricorn': 2123, 'preservation': 9371, 'growth': 5342, 'approved': 846, 'dempster': 3332, 'opsnumberacts': 8597, 'invented': 6327, 'twitch': 12592, 'begged': 1346, 'bellybutton': 1378, '193': 80, 'hazard': 5598, 'permanent': 8976, 'overgrown': 8706, 'pullout': 9547, 'discriminate': 3547, 'earthhis': 3876, 'introduce': 6319, 'puckered': 9536, 'muhfuckin': 7992, 'nobility': 8276, 'royalty': 10250, 'titled': 12248, 'gutter': 5381, 'clubbing': 2558, 'likesfollows': 7085, 'diversion': 3605, 'malnourished': 7433, 'burglar': 1956, 'wintersmith': 13537, 'barber': 1227, 'innumberyou': 6232, 'tense': 11956, 'jumpcurse': 6578, 'timing': 12226, 'overall': 8697, 'combination': 2641, 'dynasty': 3855, 'puddle': 9538, 'initial': 6185, 'wondered': 13605, 'innumbercurse': 6208, 'muster': 8027, 'graveyard': 5286, '1776': 65, 'hoeshos': 5796, 'default': 3274, 'louisville': 7288, 'directly': 3517, 'seahawks': 10530, 'yassssssssss': 13727, 'disliking': 3565, 'anaemia': 647, 'levelnumberso': 6985, '20minsim': 102, 'suburban': 11613, 'niggaaaaa': 8223, 'elated': 3944, 'creative': 2988, 'thenumberyou': 12066, 'restaurant': 10030, 'niggacaught': 8227, 'swift': 11770, 'hunching': 5955, 'conceited': 2721, 'roethlisberger': 10188, 'expunge': 4262, 'wannaride': 13171, 'justified': 6594, 'withnumbertits': 13572, 'oar': 8431, 'thennumberdays': 12043, 'cutup': 3115, 'aroundnumberproblem': 890, 'dranknumbershots': 3726, 'innumberi': 6212, 'resolved': 10014, 'recruiting': 9840, 'finishing': 4516, 'chickcurse': 2374, '418': 174, 'presentation': 9369, 'tearing': 11911, 'bitchesdey': 1519, 'tetherball': 11976, 'mynumberyears': 8052, 'gratitude': 5282, 'eyelid': 4280, 'bullllllshiiiiitttt': 1934, 'sunshine': 11669, 'poppadom': 9252, 'index': 6132, 'bandage': 1198, 'innovative': 6203, 'relating': 9912, 'tibia': 12191, 'tourist': 12361, 'meadow': 7588, 'gasping': 4978, 'bitchnigga': 1533, 'enforcement': 4042, 'operation': 8586, 'disrupt': 3586, 'sherlock': 10737, 'enforce': 4041, 'computerworld': 2714, 'guardianinternational': 5353, 'insists': 6245, 'priceless': 9395, 'evidence': 4183, 'songcurse': 11197, 'liberalscurse': 6997, 'oblige': 8445, 'delivers': 3315, 'cigar': 2456, 'additional': 389, 'request': 9991, 'prettycurse': 9387, 'yours': 13795, 'isle': 6385, 'offcurse': 8469, 'soaked': 11132, 'melted': 7631, 'benumberbelow': 1398, 'itsnumberdegrees': 6417, 'affect': 435, 'faculty': 4308, 'blowback': 1615, 'buggincurse': 1917, 'declared': 3255, 'indianapolis': 6138, 'mentionnumbermore': 7661, 'application': 831, 'snumberand': 11115, 'snumberdegrees': 11118, 'karaoke': 6613, 'sandpaper': 10367, 'growl': 5338, 'schieffer': 10452, 'smitten': 11066, '195': 81, 'buyer': 2007, 'flip': 4603, 'flop': 4617, 'ratio': 9744, 'ounce': 8655, 'recession': 9822, 'ruled': 10267, 'heartbreak': 5631, 'pitched': 9111, 'stimulation': 11484, 'camerashe': 2082, 'iguana': 6037, 'anumberstar': 766, 'accord': 341, 'ayyyeeee': 1097, 'babbbyyy': 1104, 'titanic': 12242, 'pear': 8915, 'interchangeable': 6287, 'disingenuous': 3562, 'properly': 9479, 'january': 6461, '912': 258, 'maximum': 7566, 'confirmed': 2754, 'scientifically': 10469, 'annabella': 709, 'expressing': 4260, 'barbershop': 1228, 'gotnumberwith': 5223, 'leftist': 6937, 'unbelievable': 12645, 'refused': 9883, 'screwdriver': 10509, 'toquecurse': 12336, 'canadianisms': 2095, 'blur': 1625, 'ken': 6640, 'dinnertime': 3501, 'nag': 8067, 'nor': 8313, 'ecosystem': 3903, 'brahcurse': 1761, 'thannumberhave': 12006, 'horsley': 5892, 'braiding': 1762, 'lolololol': 7228, 'watt': 13310, 'irrational': 6367, 'populated': 9260, 'linguistic': 7111, 'derivative': 3371, 'irony': 6366, 'cramp': 2957, 'omaha': 8537, 'fuckedcurse': 4867, 'trimmed': 12473, 'toned': 12285, 'greencurse': 5301, 'vibratory': 12916, 'everycunt': 4170, 'takeover': 11837, 'gotnumberof': 5215, 'prof': 9440, 'lumbo': 7334, 'corporation': 2887, '1999': 83, 'jealousy': 6473, 'jena': 6481, 'theeeese': 12025, 'lawrence': 6877, 'spiteful': 11313, 'beheaded': 1357, 'sotloff': 11223, 'charity': 2305, 'collector': 2616, 'struck': 11565, 'timenumberhimnumbermeet': 12222, 'au': 1025, 'ajar': 508, 'gulf': 5367, 'publish': 9532, 'pilotsnumberdeflect': 9086, 'unpleasant': 12723, 'behavior': 1356, 'participant': 8849, 'identified': 6013, 'abdurahman': 283, 'britain': 1832, 'cathedral': 2196, 'mosque': 7923, 'hallucinate': 5449, 'isis': 6380, 'coalition': 2573, 'circulating': 2467, 'harm': 5522, 'pilot': 9085, 'captured': 2127, 'helicopter': 5663, 'beri': 1408, 'identify': 6014, 'apache': 795, 'judah': 6558, 'paranoia': 8818, 'appeared': 820, 'enhanced': 4054, 'rewarded': 10087, 'jonathan': 6538, 'gayalcoholism': 4992, 'ibacurse': 5996, 'pitted': 9117, 'slight': 11004, 'remainingnumberlaps': 9933, 'jtfooooo': 6556, 'julius': 6573, 'shaw': 10720, 'admirable': 400, 'wuteva': 13687, 'marvelous': 7520, 'attorney': 1018, 'georgia': 5039, 'fingernail': 4512, 'section': 10552, 'speeding': 11282, 'oldest': 8528, '178': 66, 'undernumbercasually': 12665, 'hitnumberin': 5771, 'ravnumberhad': 9752, 'putnumberinch': 9597, '2002': 95, 'killednumberbirds': 6678, 'withnumberstone': 13570, 'communication': 2675, 'orlando': 8636, 'stepping': 11462, 'elliptical': 3978, 'mystical': 8059, 'aeropostale': 430, 'gazed': 4996, 'holt': 5824, 'unfathomable': 12682, 'ericksen': 4107, 'dissenter': 3589, 'pussymention': 9588, 'patiently': 8884, 'awaiting': 1069, 'levelnumberdark': 6983, 'elder': 3947, 'probation': 9427, 'bitchand': 1509, 'biscuit': 1502, 'kaaspiet': 6603, 'bloempiet': 1606, 'gekkigheid': 5006, 'makenzolang': 7422, 'beslissing': 1419, 'kangaroo': 6610, 'barrack': 1242, 'kanyeeeeeee': 6612, 'theeeee': 12024, 'haste': 5550, 'kawasaki': 6624, 'kari': 6617, 'indeedcurse': 6128, 'reckless': 9824, 'chitlins': 2409, 'cater': 2192, 'khloee': 6661, 'scottish': 10488, 'kirsten': 6702, 'handscurse': 5478, 'teasing': 11914, 'wannacruise': 13093, 'colourful': 2631, 'troubleman': 12493, 'tokuda': 12265, 'niggerize': 8239, 'mitrich': 7817, 'conductor': 2744, '430': 178, 'courtesy': 2929, 'anothernumberseconds': 737, 'yoooou': 13776, 'crusade': 3046, 'kurakin': 6770, 'kratataaaaa': 6759, 'nnumberjaponeses': 8272, 'atrapaba': 998, 'drone': 3770, 'whitehouse': 13457, 'mete': 7707, 'kamehameha': 6606, 'teenager': 11923, 'gasp': 4977, 'lmaooooooo': 7167, 'lmfaoooocurse': 7182, 'medical': 7609, 'sportscurse': 11333, 'lmfaoooooo': 7185, 'songscurse': 11198, 'swahili': 11739, 'dencurse': 3336, 'tattooscurse': 11882, 'poppy': 9257, 'halting': 5452, 'nizhni': 8268, 'trolley': 12483, 'twijfel': 12584, 'zere': 13823, 'enkuchkuch': 4059, 'shavewax': 10717, 'obey': 8441, 'personalitycurse': 8992, 'doom': 3663, 'stiletto': 11482, 'lashontae': 6830, 'ovaaaaaa': 8690, 'lasted': 6833, 'brickkent': 1811, 'ycgnight': 13733, 'stencil': 11454, 'laurel': 6867, 'lever': 6986, 'shatter': 10712, 'leap': 6900, 'dramatized': 3724, 'itnumberhashtagnumberwhine': 6410, 'infrastructure': 6177, 'thesecurse': 12081, 'indication': 6141, 'legion': 6951, 'oho': 8516, 'isnumberheterosexuals': 6389, 'mrolsen': 7966, 'networkscurse': 8176, 'accolade': 338, 'commence': 2659, 'titty': 12251, 'ghettocurse': 5060, 'fanscallers': 4362, 'heavily': 5643, 'cigarillo': 2458, 'coupon': 2925, 'cocktail': 2591, 'meeeeee': 7617, 'libertarian': 7001, 'clair': 2486, 'legislature': 6953, 'unfair': 12680, 'dover': 3686, 'lighting': 7030, 'lightskins': 7034, 'necessity': 8136, 'refund': 9880, 'satisfied': 10397, 'hattiesburg': 5566, 'rivalry': 10151, 'authentic': 1047, 'eater': 3889, 'demanding': 3322, 'bitchthe': 1544, 'plying': 9192, 'rogue': 10190, '32': 150, 'ernest': 4110, 'thesis': 12090, 'secondline': 10547, 'bridgewater': 1816, '03': 8, 'lilnumberyo': 7090, 'rire': 10140, 'seaside': 10536, 'whaaatcurse': 13410, 'listing': 7135, 'seagull': 10529, 'beecurse': 1329, 'elm': 3980, 'readynumberminutes': 9775, 'expression': 4261, 'diabetic': 3434, 'serene': 10627, 'pussynumberchubby': 9589, 'raft': 9675, 'hors': 5887, 'regional': 9891, 'stfuwho': 11475, 'intelligent': 6276, 'downgrade': 3692, '10am': 24, 'lmaoooort': 7173, 'goalscurse': 5134, 'lmaoooooo': 7166, 'lmaoooooooo': 7168, 'wonnumberworld': 13609, 'sidechick': 10855, 'sloth': 11020, 'brokeback': 1847, 'lmfaooooooopoooooo': 7195, 'auntiecurse': 1038, 'locknumberfat': 7214, 'innumberroom': 6220, 'fornumberdays': 4725, 'justnumbermcdoubles': 6598, 'hahhaha': 5424, 'kenzie': 6646, 'wholesome': 13474, 'bonus': 1663, 'benumberof': 1400, 'youuuuu': 13802, 'reformed': 9875, '436': 179, 'staggering': 11390, 'laura': 6866, 'wannalabelled': 13135, 'wisdom': 13543, 'lmmfaooooo': 7197, 'twatscurse': 12566, 'conway': 2846, 'usher': 12814, 'manhood': 7453, 'alllll': 557, 'forward': 4744, 'breadstick': 1787, 'repnin': 9977, 'ewing': 4189, 'federal': 4415, 'proposed': 9485, 'useful': 12776, 'cellar': 2232, 'ducrey': 3806, 'doughy': 3682, 'gravity': 5287, 'bynumberpoints': 2027, 'winnnnnnnnn': 13532, 'seeeexxaaaay': 10563, 'ecuadorcurse': 3905, 'lynch': 7358, 'jury': 6586, 'jurycurse': 6587, 'flowing': 4626, 'shiiiid': 10750, 'sumptin': 11660, 'chestcurse': 2364, 'pere': 8961, 'hilton': 5741, 'cheesecurse': 2351, 'ned': 8138, 'grandeur': 5259, 'magellan': 7390, 'magicnumberball': 7398, 'instafrontin': 6254, 'ducked': 3805, 'lid': 7011, 'thatnumbershades': 12016, 'jabez': 6431, 'heir': 5657, 'intoxication': 6317, 'afternumberopened': 456, 'heartburn': 5633, 'dyckman': 3846, 'robs': 10172, 'troy': 12495, 'applebeecurse': 827, 'bitchesbroke': 1517, 'nativity': 8111, 'courage': 2926, 'outdoing': 8664, 'familiar': 4349, 'unbothered': 12646, 'judy': 6566, 'petenka': 9003, 'charm': 2311, 'sporting': 11332, 'menumbermo': 7675, 'isnumberweeks': 6392, 'badddddd': 1141, 'mannnnnn': 7464, 'manual': 7471, 'paranoid': 8819, 'schleeeeeeeeeeppppppp': 10453, 'marijuana': 7495, 'hydra': 5984, 'monroe': 7886, 'achieve': 356, 'teixeira': 11927, 'jane': 6456, 'spiderman': 11297, 'bedtime': 1327, 'caress': 2148, 'crowded': 3034, 'someday': 11182, 'runaway': 10275, 'reluctantly': 9929, 'carlo': 2152, 'defence': 3279, 'sheboons': 10723, 'philosophy': 9027, 'choir': 2414, 'espacurse': 4122, 'caffenate': 2047, 'pierre': 9071, 'meatloaf': 7605, 'deer': 3272, 'cobbler': 2577, 'indiacurse': 6134, 'defying': 3294, 'negation': 8153, 'hark': 5519, 'traditional': 12380, 'memorial': 7635, 'havenumberparticipating': 5579, 'ahaaaaa': 492, 'cocked': 2586, 'wisely': 13545, 'elba': 3945, 'estuvo': 4134, 'snuggie': 11109, 'riiikkooo': 10126, 'virginitiescurse': 12958, 'heterosexual': 5709, 'indonesian': 6149, 'bollywood': 1650, 'hump': 5953, 'tidy': 12197, 'marie': 7493, 'minus': 7784, 'topnumberopponents': 12331, 'missouri': 7806, 'mist': 7809, 'unhealthy': 12691, 'fitness': 4545, 'fornumberhours': 4727, 'bitchhashtag': 1528, 'narnfraud': 8098, 'swifter': 11771, 'disturbed': 3597, 'wisconsin': 13542, 'hampshire': 5459, 'dakota': 3133, 'wyoming': 13692, 'disability': 3525, 'innumberwere': 6227, 'likenumberpair': 7067, 'columbia': 2633, 'firelight': 4528, 'motherfuckas': 7933, 'interiorlight': 6295, 'holland': 5813, 'virginian': 12957, 'autumn': 1058, 'agrees': 489, 'moody': 7896, 'trans': 12402, 'cyst': 3121, 'overnumberyrs': 8724, 'foodtown': 4664, 'muzzled': 8043, 'mynumbersaying': 8050, 'reign': 9903, 'upppppp': 12758, 'moor': 7900, 'loststop': 7276, 'enterprise': 4068, 'ralph': 9701, 'fabric': 4286, 'wannatyranny': 13224, 'auto': 1050, 'prevented': 9390, 'menumberfree': 7671, 'faction': 4304, 'dreading': 3735, 'hairsthank': 5431, 'bagpipe': 1154, 'cheapest': 2330, 'outer': 8668, 'syrupy': 11805, 'retro': 10062, 'intend': 6277, 'benzol': 1405, 'fetching': 4452, 'prim': 9401, 'thacurse': 11987, 'prescription': 9365, 'canceled': 2098, 'refill': 9870, 'numbernumberbae': 8389, 'wannawork': 13235, 'expectation': 4233, 'fleekate': 4588, 'palmer': 8790, 'snapbackscurse': 11084, 'drugzzz': 3785, '73': 238, 'fornumbershort': 4735, 'northside': 8318, 'chilllol': 2390, 'riri22barbie': 10141, 'turntup': 12558, '404': 171, '394': 161, '1570curse': 57, 'lust': 7343, 'swelling': 11766, 'dum': 3816, 'dawggg': 3198, 'whaaaat': 13409, 'warnumberin': 13262, 'themnumbera': 12035, 'albino': 519, 'astigmatism': 971, 'blindness': 1594, 'dismiss': 3566, 'bratwurst': 1777, 'poetry': 9202, 'kkeldalegend': 6712, 'olin': 8532, 'porkerscurse': 9264, 'mister': 7812, 'meager': 7589, 'stiffen': 11481, 'gotnumberweeks': 5221, 'textnow': 11983, 'loomed': 7248, 'playlist': 9168, 'reggaetonbachata': 9890, 'microphone': 7723, 'noggas': 8287, 'severely': 10659, 'peri': 8973, 'wannafucking': 13107, 'barefoot': 1232, 'turmoil': 12546, 'unofficial': 12722, 'flash': 4569, 'compromise': 2712, 'nj': 8269, 'stingy': 11486, 'suited': 11648, 'atnumberplease': 990, 'defines': 3288, 'campbell': 2088, 'mothafuckin': 7929, 'lawlessness': 6874, 'majesty': 7414, 'crab': 2946, 'hugecurse': 5933, 'lyrical': 7361, 'maniac': 7455, 'accessorize': 331, 'tinted': 12231, 'jolly': 6537, 'charon': 2314, 'glossy': 5122, '29': 131, 'colon': 2623, 'niccacall': 8207, 'bunnyhashtag': 1950, 'walkingnumberflats': 13046, 'peering': 8930, 'err': 4111, 'theft': 12027, 'ponderous': 9238, 'rushlow': 10283, 'theophylline': 12068, 'crystallized': 3065, 'compound': 2709, 'schoolnumbermonths': 10462, 'backkkk': 1128, 'cherokee': 2360, 'gentleman': 5029, 'smallest': 11043, 'wannatreated': 13219, 'triccin': 12462, 'granulating': 5270, 'installment': 6257, 'preacher': 9332, 'gotnumberlives': 5209, 'snatch': 11090, 'shitttt': 10776, '700': 234, 'gott': 5224, 'nahhhhhaahahahaha': 8073, 'dehydrated': 3300, 'wannahit': 13121, 'buynumbercent': 2009, 'tonumberdifferent': 12300, 'vessel': 12907, 'thennumbermins': 12046, 'niggasbitches': 8232, 'nippon': 8264, 'clarke': 2497, 'thannumberbad': 12001, 'speculation': 11277, 'swerving': 11769, 'psychiatric': 9518, 'immoral': 6072, 'understands': 12670, 'gypsy': 5385, 'nigglets': 8246, 'chickencurse': 2376, 'task': 11875, 'cooker': 2850, 'insulated': 6267, 'improve': 6100, 'empirical': 4017, 'outcome': 8663, 'phenomenally': 9021, 'unhappy': 12690, 'turd': 12542, 'protective': 9498, 'prestigious': 9380, 'establishment': 4131, 'sailor': 10327, 'orbit': 8608, 'raider': 9686, 'notnumberbit': 8333, 'bainbridge': 1160, 'occupied': 8456, 'kfromtheg': 6659, 'neanudda': 8126, 'bomber': 1653, 'undermine': 12663, 'mythology': 8061, 'evennumberand': 4159, 'outnumbercountries': 8673, 'contribute': 2825, 'wannalip': 13143, 'butnumbertext': 1990, 'legally': 6946, 'nelson': 8164, 'manila': 7457, 'escort': 4119, 'locally': 7208, '94': 262, '225': 111, 'wink': 13527, 'rocketeer': 10178, 'removed': 9953, 'cardboard': 2135, 'fleeing': 4587, 'khorasan': 6662, 'invention': 6328, 'ballsnumberinnings': 1189, 'daugherty': 3190, 'kite': 6708, 'alleged': 548, 'butttttt': 2004, 'drycurse': 3794, 'niqqas': 8265, 'infuriated': 6178, 'participated': 8850, 'unconscious': 12654, 'confirmedcurse': 2755, 'numberpilot': 8400, 'nuggas': 8349, 'banxxx': 1218, 'hunnids': 5962, 'forgiving': 4709, 'softer': 11158, 'omggggg': 8541, 'obamacurse': 8437, 'git': 5095, 'shellfire': 10734, 'missile': 7802, 'vaporize': 12863, 'wonderbaarlijk': 13604, 'jan': 6455, 'alter': 598, 'marokkaanse': 7506, 'bier': 1456, 'intima': 6308, 'abdelka': 280, 'gevonden': 5057, 'droning': 3771, 'offensively': 8476, 'cockroach': 2588, 'booking': 1669, 'dickhole': 3451, 'yahweh': 13712, 'prone': 9471, 'contended': 2810, 'smelled': 11053, 'tfehcurse': 11984, 'ode': 8464, 'cheatcurse': 2332, 'airline': 505, 'realizing': 9786, 'dared': 3164, 'unrecognizable': 12728, 'youuuuuu': 13803, 'idfwu': 6017, 'thesenumberniggas': 12087, 'saimigi': 10328, 'brokecurse': 1848, 'weep': 13366, 'fromnumberblame': 4829, 'ohmygod': 8515, 'shesaid': 10740, 'manor': 7466, 'ana': 644, 'rightcurse': 10121, 'encountered': 4025, 'oklahoma': 8525, 'hasnumbermore': 5548, 'upnumberpoints': 12754, 'trashhhhhhhh': 12426, 'countertop': 2917, 'murky': 8008, 'omgnumbermore': 8543, 'spindle': 11303, 'tinker': 12229, 'omgggggggggg': 8542, 'anorexic': 734, 'yokocho': 13771, 'shinjuku': 10758, 'michcurse': 7718, 'delight': 3310, 'turnednumberbitches': 12549, 'anniversary': 713, 'laden': 6786, 'authenticity': 1048, 'fate': 4385, 'harding': 5513, 'brainwork': 1767, 'pacemaker': 8753, 'contract': 2819, 'engineer': 4048, 'pregnancy': 9349, 'shoreline': 10797, 'parapet': 8820, 'hollowed': 5818, 'access': 329, 'prominent': 9461, 'droits': 3769, 'understanding': 12669, 'drilling': 3757, 'instantly': 6260, 'barbecue': 1225, 'satisfy': 10399, 'wackkkkk': 13016, 'scurf': 10523, 'tansformers4': 11863, 'superpower': 11684, 'resign': 10005, 'moslem': 7922, 'disappointed': 3531, 'aaronmacgruder': 273, 'freedman': 4791, 'file': 4480, 'reread': 9995, 'resolve': 10013, 'merite': 7688, 'esteem': 4132, 'muslimah': 8022, 'ahhhahahaha': 495, 'chaco': 2261, 'tavern': 11884, 'executed': 4213, 'lark': 6825, 'wascurse': 13269, 'extremecurse': 4273, 'hampered': 5458, 'reconciliation': 9830, 'macklemore': 7375, 'fucc': 4854, 'overrule': 8728, 'existentialism': 4224, 'depth': 3365, 'estaban': 4129, 'pollercurse': 9227, 'mientras': 7735, 'cocinando': 2584, 'undo': 12676, 'waxy': 13317, 'soften': 11157, 'padre': 8762, 'yankeeangel': 13716, 'painting': 8777, 'rooftop': 10210, 'russia': 10287, 'rhetorically': 10089, 'mentionnumberminutes': 7660, 'pappadeaux': 8809, 'scamp': 10433, 'squeeze': 11367, 'television': 11931, 'typically': 12612, 'effective': 3925, 'quinine': 9637, 'parson': 8842, 'interference': 6293, 'deadline': 3220, 'freebie': 4788, 'lusty': 7344, 'enemydont': 4038, 'againlook': 462, 'badongle': 1148, 'civilized': 2480, 'donation': 3650, 'spinellis': 11306, 'statute': 11434, 'playcalling': 9158, 'indefensible': 6129, 'blister': 1600, 'hashtaghashtag': 5537, 'unkempt': 12708, 'perhaps': 8972, 'richard': 10099, 'tumbled': 12534, 'resolution': 10012, 'phaedra': 9014, 'brat': 1776, '210': 104, 'philip': 9025, 'disconnected': 3538, 'shmediums': 10781, 'socialist': 11144, 'faltering': 4345, 'advise': 425, 'anarcho': 654, 'grouping': 5334, 'deafreaperventus': 3226, 'sons': 11201, 'angels': 696, 'murderous': 8006, 'crows': 3040, 'intensified': 6280, 'photoset': 9039, 'mount': 7947, 'pilgrimage': 9081, 'flay': 4583, 'pierce': 9067, 'drained': 3718, 'suvara': 11734, 'plaid': 9129, 'pyhscopathic': 9605, 'wresting': 13669, 'bind': 1478, 'providing': 9512, 'absolved': 311, 'fieldssuburbs': 4464, 'vicious': 12918, 'scoring': 10481, 'raid': 9684, 'militant': 7750, 'lewis': 6990, 'knapsack': 6720, 'vamoose': 12851, 'frisco': 4818, 'discount': 3540, 'monkeynumberlife': 7881, 'pornographic': 9266, 'precisely': 9337, 'prejudice': 9352, 'preconceived': 9338, 'alms': 579, 'steinbrenner': 11452, 'attendant': 1011, 'instructed': 6263, 'enginecurse': 4047, 'procrastinator': 9435, 'professional': 9442, 'enjoyed': 4057, 'daygirl': 3204, 'genuinelyfuck': 5034, 'iyanla': 6429, 'hasnumberkids': 5546, 'withnumberwomen': 13573, 'questionscurse': 9624, 'marlboro': 7503, 'bulldogged': 1931, 'zaaaammnn': 13816, '48': 187, 'dolphin': 3635, 'figurenumberand': 4478, 'quisiera': 9640, 'dio': 3504, 'bitterness': 1552, 'surge': 11707, 'ofnumberpoints': 8498, 'demonstrate': 3331, 'coakley': 2571, 'massachusetts': 7535, 'governorship': 5235, 'bakercurse': 1166, 'seymour': 10670, 'atnumberurl': 993, 'timatheracer': 12215, 'pursecurse': 9572, 'carescurse': 2147, 'wantnumberthing': 13244, 'leastnumberothers': 6913, 'ringnumberyrs': 10132, 'quintessential': 9638, 'embodiment': 3997, 'femininity': 4438, 'rejected': 9906, 'nobodcurse': 8278, '131': 48, 'thanggg': 11990, 'muscular': 8012, 'urshashtag': 12771, 'yungin': 13812, 'copscurse': 2869, 'aaron': 272, 'hernandez': 5694, 'jurynumbertimes': 6588, 'circus': 2471, 'yyyyyeelllloooourl': 13815, 'bandanna': 1199, 'portable': 9269, 'allllll': 558, 'lawmaker': 6875, 'nationcurse': 8109, 'legislation': 6952, 'kestrel': 6650, 'militia': 7752, 'fog': 4640, 'soar': 11135, 'feelcurse': 4422, 'taft': 11820, 'usernumberlava': 12792, 'babebaby': 1107, 'bland': 1567, 'pregnantcurse': 9351, 'munnaaaa': 8001, 'funeral': 4902, 'ltimahora': 7318, 'elegido': 3957, 'gobernador': 5137, 'stocking': 11493, 'somebodysmh': 11180, 'tonnnnniiiiiiggggghhht': 12294, 'suuuucks': 11733, 'glacurse': 5103, 'firefly': 4527, 'shameful': 10688, 'grateful': 5281, 'hospitality': 5895, 'nominated': 8292, 'gown': 5236, 'coachman': 2570, 'thenumberyankees': 12064, 'selective': 10584, 'shunsha': 10835, 'boocurse': 1666, 'repair': 9964, 'promoter': 9468, 'sanctity': 10364, 'womancurse': 13600, 'assault': 943, 'stairscurse': 11394, 'electronic': 3955, 'viacurse': 12915, 'livestream': 7155, 'gaiter': 4938, 'hackey': 5392, 'sacker': 10306, 'natalie': 8105, 'gatorades': 4985, 'pringle': 9411, 'radiance': 9670, 'unloading': 12716, 'carbon': 2131, 'administrator': 399, 'interrupt': 6301, 'detailing': 3407, 'blink': 1596, 'spoken': 11323, 'hoesnumberwords': 5801, 'painted': 8776, 'library': 7004, 'overdue': 8705, 'scruffybut': 10517, 'favourite': 4400, 'intocurse': 6314, 'financially': 4497, 'httcurse': 5928, 'calomel': 2072, 'immigration': 6071, 'warned': 13260, 'discontinued': 3539, 'haemic': 5406, 'hateful': 5557, 'monk': 7877, 'miguelito': 7742, 'urging': 12767, 'own': 8742, 'souza': 11244, 'usernumberchristians': 12786, 'massacred': 7536, 'torrent': 12343, 'bons': 1662, 'morningcurse': 7912, 'mastercurse': 7541, 'comecurse': 2647, 'subway': 11614, 'gangbanged': 4957, 'bynumbermandingos': 2025, 'muthaufckin': 8039, 'snumberyears': 11129, 'andnumberyear': 683, 'microwaveable': 7726, 'thumbcurse': 12176, 'dicknumberfree': 3454, 'athens': 979, 'disappoint': 3530, 'casual': 2185, 'fantasynumberor': 4366, 'jingoicurse': 6514, 'abocurse': 289, 'accountable': 345, 'aboutcurse': 294, 'pale': 8784, 'competition': 2693, 'sttooopp': 11568, 'discipline': 3536, 'likenumberhoes': 7052, 'numberbaes': 8359, 'girlnumbertimes': 5091, 'swiftly': 11772, 'choocurse': 2419, 'niggcurse': 8235, 'hoethea': 5805, 'dashed': 3178, 'dudecurse': 3808, 'mnumberthem': 7830, 'erased': 4103, 'verdedigen': 12891, 'ingezonden': 6179, 'volkskrant': 12988, 'amass': 606, 'yaasss': 13708, 'turntcurse': 12556, 'numbertimes': 8414, 'interfere': 6292, 'promising': 9464, 'ruth': 10294, 'gehrig': 5004, 'bignumberbeen': 1462, 'annals': 710, 'crucify': 3042, 'glimpse': 5114, 'witnesscurse': 13577, 'humpday': 5954, 'letterman': 6977, 'wannaspoil': 13200, 'handshake': 5479, 'gotnumberkids': 5208, 'rocawecurse': 10173, 'waitingnumberdays': 13033, 'grounded': 5331, 'trashiest': 12427, 'toothless': 12321, 'godfather': 5145, 'roy': 10248, 'aqsa': 851, 'compassionate': 2687, 'towards': 12365, 'proposal': 9482, 'etamcru': 4135, 'hasnumbermillion': 5547, 'storage': 11517, 'thenumberapollonumberspacecraft': 12047, 'perceived': 8955, 'injustice': 6192, 'semitic': 10599, 'denied': 3338, 'lobby': 7205, 'verdict': 12892, '30000000curse': 142, 'md': 7585, 'diagnosis': 3435, 'valentinecurse': 12841, 'staircase': 11393, 'nonsense': 8299, 'basket': 1265, 'secluded': 10544, 'betnumbershe': 1433, 'tonumberand': 12296, 'violence': 12951, 'likenumbertimes': 7078, 'discourage': 3541, 'contributes': 2826, '69': 229, 'anumberinch': 755, 'lastnumberhours': 6839, 'existing': 4225, 'mysteriously': 8057, 'vanish': 12858, 'unemployed': 12678, 'shalt': 10685, 'foolscurse': 4671, 'scorpio': 10482, 'proceeds': 9433, 'cf': 2257, 'lb': 6886, 'solomon': 11169, 'elimimian': 3969, 'opponent': 8589, 'miramar': 7789, 'homeowner': 5835, 'caddyshack': 2043, 'pretension': 9383, 'denomination': 3342, 'definitelycurse': 3290, '300curse': 143, 'muhammad': 7989, 'monogamous': 7883, 'arencurse': 867, 'scoopcurse': 10474, 'unclean': 12652, 'mrscurse': 7968, 'sharkiesha': 10706, 'snapped': 11088, 'numberchristians': 8364, 'iodine': 6342, 'ab': 275, 'quasi': 9616, 'batmancurse': 1280, 'deadcurse': 3219, 'yupcurse': 13813, 'supermancurse': 11680, 'hatercurse': 5558, 'justification': 6592, 'madcurse': 7379, 'dive': 3601, 'thermal': 12079, 'vlas': 12977, 'spree': 11344, 'congratulate': 2765, 'lauderdale': 6855, 'confidence': 2749, 'thecurse': 12022, 'closely': 2542, 'painful': 8770, 'forwardcurse': 4745, 'aggravating': 475, 'justnumberdays': 6597, 'impresseddont': 6096, 'abel': 284, 'anumberyrs': 773, 'infect': 6158, 'famenumberme': 4347, 'thangnumberme': 11991, 'loveoohyie': 7300, 'wannaskinny': 13187, 'bitcurse': 1546, 'engagement': 4045, 'sympathy': 11798, 'traphouseeee': 12417, 'daquan': 3162, 'grandbaby': 5256, 'usernumberrts': 12801, 'iphonenumberis': 6354, '00am': 3, 'pussyass': 9582, 'wannahe': 13117, 'damcurse': 3139, 'wannastopped': 13204, 'saynumberand': 10428, 'likenumberbodies': 7044, 'telephone': 11929, 'sweetheart': 11762, 'thenumbercommandments': 12048, 'sorority': 11219, 'suckinfuckin': 11625, 'wyandanch': 13689, 'teamdonny': 11906, 'numbernumberis': 8393, 'numbernumberho': 8391, 'holmium': 5822, 'unlimited': 12713, 'thesenumberdrop': 12085, 'worship': 13643, 'fuccurse': 4859, 'titcurse': 12243, 'itnumberyears': 6411, 'turntttt': 12557, 'wannaknow': 13134, 'hygienic': 5986, 'clinch': 2530, 'blinding': 1592, 'topnumbercartoon': 12328, 'dexter': 3426, 'rabbit': 9650, 'hopeful': 5871, 'menumberdm': 7670, 'scootin': 10475, 'wilkie': 13507, 'shithole': 10771, 'summfestcurse': 11656, 'devoted': 3423, 'wannapost': 13165, 'getnumbertimes': 5053, 'famnumbertimesnumberis': 4351, 'packet': 8759, 'charlemagne': 2306, 'samcurse': 10351, 'emotionaaaal': 4014, 'walsall': 13051, 'swap': 11745, 'relation': 9913, 'allude': 567, 'listened': 7131, 'critique': 3021, 'fromnumbertowns': 4834, 'denis': 3339, 'appreciating': 838, 'steubenville': 11470, 'trial': 12459, 'wannaupper': 13225, 'thosenumbernba': 12138, 'calendar': 2060, 'numbernovember': 8387, 'mystery': 8058, 'usernumberbitches': 12783, 'clicquot': 2523, 'premise': 9357, 'bitchhhhhhh': 1529, 'refurbished': 9881, 'journal': 6549, 'kubrats': 6769, 'poppincurse': 9255, 'cob': 2576, 'shotgunned': 10806, 'mercury': 7682, 'wannabeef': 13071, 'vitamin': 12972, 'flapping': 4567, 'kutztown': 6773, 'yourcurse': 13789, 'fingering': 4511, 'yeaaaaahhhh': 13736, 'seasonnumberpussy': 10540, 'mcdonaldcurse': 7578, 'snapchats': 11086, 'ave': 1062, 'trolling': 12484, 'illiberal': 6049, 'slogan': 11016, 'snumber': 11112, 'approach': 840, 'bracelet': 1753, 'encourage': 4026, 'refreshincurse': 9878, 'barque': 1241, 'atracciones': 997, 'abandoned': 277, 'stereotypicurse': 11464, 'ruble': 10257, 'askecurse': 931, 'twelve': 12578, 'titlecurse': 12247, 'wannawere': 13232, 'thugscurse': 12174, 'ou': 8652, 'reverse': 10076, 'sponge': 11325, 'filter': 4488, 'rise': 10142, 'dampness': 3146, 'sickle': 10852, 'slidescurse': 11002, 'terribly': 11964, 'truce': 12496, 'assign': 951, 'byron': 2030, 'leftwich': 6941, 'senateenjoy': 10602, 'skidmark': 10945, 'resistant': 10008, 'mighty': 7738, 'uncrustables': 12657, 'fundamentalist': 4900, 'oppressor': 8596, 'duport': 3832, 'stompcurse': 11501, 'attitudcurse': 1015, '1stnumberat': 87, 'godiva': 5146, 'cornwall': 2880, 'couldn': 2910, 'hostnumberand': 5901, 'formula': 4720, 'subliminal': 11598, 'convenient': 2833, 'replacing': 9972, 'boundary': 1720, 'variety': 12867, 'migratory': 7741, 'looooool': 7251, 'askcurse': 930, 'storm': 11520, 'brewing': 1808, 'gotnumberpair': 5217, 'moooob': 7899, 'boucurse': 1712, 'ought': 8653, 'uuuu': 12826, 'parted': 8846, 'mariner': 7497, 'momsnumberand': 7862, 'pwh': 9602, 'brainwashed': 1766, 'yawn': 13730, 'aspiration': 938, 'witnumberof': 13582, 'appearcurse': 819, 'dipping': 3510, 'remained': 9932, 'likenumberminutes': 7059, 'snumberam': 11113, 'begrudgingly': 1350, 'software': 11159, 'swiggety': 11773, '53': 199, 'cable': 2038, 'kobeshia': 6751, 'innumbercharlie': 6206, 'ranged': 9714, 'alongside': 582, 'lech': 6923, 'defeating': 3277, 'communism': 2677, 'cringiest': 3011, 'follows': 4655, 'abide': 286, 'fameuse': 4348, 'overboard': 8699, 'underachieved': 12659, 'weeden': 13361, 'colombia': 2622, 'universal': 12704, 'offshore': 8488, 'stunned': 11582, 'drank': 3725, 'dresscurse': 3746, 'bursting': 1968, 'complacent': 2695, 'refers': 9869, 'rolcurse': 10193, 'teabagged': 11897, 'animosity': 705, 'lostcurse': 7273, 'awoke': 1087, 'andre': 684, 'examplecurse': 4195, 'revolving': 10084, 'chuckling': 2449, 'revealing': 10070, 'cycle': 3118, 'closing': 2546, 'austrian': 1046, 'peterson': 9005, 'faint': 4325, 'resume': 10041, 'poem': 9201, 'gracious': 5240, 'chiricahua': 2406, 'potassium': 9296, 'burgess': 1954, 'thenumbero': 12059, 'perched': 8958, 'eager': 3860, 'leotardcurse': 6966, 'wifegirl': 13497, 'jodeci': 6521, 'houscurse': 5912, 'denabitch': 3335, 'wast': 13290, 'jerome': 6489, 'lisa': 7126, 'react': 9765, 'premier': 9356, 'invade': 6323, 'gonumbertonumberhoes': 5168, 'hadnumberhand': 5402, 'fracture': 4764, 'forgettingnumbertake': 4705, 'tnumberurl': 12254, 'windshield': 13522, 'drinker': 3759, 'rcurse': 9757, 'overnumberbody': 8715, 'pussiescurse': 9580, 'havenumberlives': 5577, 'clonic': 2538, 'contagious': 2806, 'separated': 10619, 'phillips': 9026, 'tx': 12601, 'candidatecurse': 2103, 'diverse': 3604, 'performed': 8968, 'innumbercounties': 6207, 'waterproof': 13308, 'drown': 3778, 'lookcurse': 7243, 'thicurse': 12101, 'signature': 10870, 'profusely': 9451, 'newscenternumberprojecting': 8192, 'gov': 5231, 'elect': 3949, 'goldschmied': 5159, 'wannaroll': 13176, 'roth': 10232, 'swooping': 11788, 'platon': 9153, 'hitcurse': 5768, 'noooooooo': 8310, 'thewhite': 12092, 'retrieved': 10061, 'allegiance': 550, 'broom': 1857, 'reject': 9905, 'meaningless': 7595, 'intense': 6279, 'herkenbaar': 5692, 'blurt': 1626, 'plait': 9131, 'bevreesd': 1443, 'omit': 8544, 'wercurse': 13391, 'outnumberfor': 8676, 'magnets': 7400, 'tonumbergallons': 12301, 'doo': 3661, 'wop': 13619, 'performance': 8967, 'fait': 4333, 'lockcurse': 7211, 'wannathus': 13214, 'dangerous': 3156, 'countdocurse': 2914, 'boone': 1673, 'inadequacy': 6105, 'outburst': 8661, 'acquire': 364, 'yangervis': 13714, 'bynumberpolitical': 2028, 'democrcurse': 3327, 'quicknumberbitch': 9631, 'whennumbertimes': 13430, 'outtanumberthey': 8685, 'deadlinecurse': 3221, 'dislike': 3563, 'nobodycurse': 8280, 'resisting': 10010, 'urge': 12766, 'grandbabies': 5255, 'sirin': 10918, 'latercurse': 6849, 'cutecurse': 3110, 'sapiosexual': 10382, 'neuron': 8178, 'chainwax': 2266, 'drumstick': 3787, '52': 197, 'reptile': 9987, 'amphibian': 637, 'vanished': 12859, 'betweennumber': 1442, '10amcurse': 25, 'hardy': 5518, 'connect': 2772, 'epsilon': 4091, 'onlynumberdollars': 8557, 'brood': 1854, 'gonumberseconds': 5167, '400': 169, 'thesenumberyr': 12089, 'horoscope': 5883, 'fornumbermins': 4728, 'keg': 6636, 'talent': 11842, 'maurynumberyears': 7561, 'wannasleep': 13190, 'evecurse': 4156, 'greyhound': 5311, 'bermuda': 1410, 'partnumberof': 8858, 'commend': 2660, 'develop': 3416, 'thickest': 12099, 'ptnumberurl': 9525, 'information': 6175, 'merritt': 7690, 'mansion': 7468, 'dennumberniggas': 3341, 'fused': 4919, 'wannatrynumberplay': 13222, 'housewifecurse': 5919, 'accuse': 350, '66': 226, 'laughter': 6863, 'oppose': 8591, 'communist': 2678, 'agholor': 478, 'cheeseburger': 2349, 'healthcare': 5623, 'brien': 1818, 'repeatedly': 9966, 'congressman': 2770, 'admits': 403, 'benihana': 1393, 'jerking': 6488, 'waternumbermins': 13307, 'shottie': 10807, 'trassshhh': 12431, 'marian': 7492, 'clamcurse': 2487, 'frappuccino': 4775, 'spurred': 11354, 'wannathink': 13212, 'aboucurse': 291, 'lawful': 6872, 'rejecting': 9907, 'fiancee': 4460, 'idiotcurse': 6020, 'discover': 3543, 'crashed': 2963, 'falcants': 4338, 'lmfaooooooooooo': 7191, 'alreadynumberwhen': 590, 'barbarian': 1224, 'momcurse': 7860, 'dadcurse': 3126, 'douccurse': 3677, 'cope': 2866, 'facade': 4288, 'leon': 6965, 'fuglycurse': 4888, 'lyicurse': 7352, 'numberkappas': 8380, 'iota': 6349, 'confession': 2748, 'fromnumbertonumberin': 4833, 'smelter': 11056, 'bethune': 1432, 'cookman': 2853, 'foolcurse': 4666, 'klutzy': 6716, 'restaucurse': 10029, 'redemption': 9846, 'uncanny': 12648, 'norway': 8320, 'sooooooooooooooo': 11212, 'prostituting': 9493, 'escorting': 4120, 'hadcurse': 5396, 'kamehamehaaaaaaa': 6607, 'absent': 308, 'redneckcurse': 9849, 'merit': 7687, 'sausagecurse': 10406, 'egocurse': 3931, 'pigfucking': 9074, 'thesenumberbuttons': 12083, 'numberare': 8358, 'numberandnumberequalsnumberbitch': 8357, 'restrain': 10034, 'myselfcurse': 8056, 'conviction': 2840, 'franchise': 4769, 'usernumberyo': 12809, 'goldfish': 5156, 'stonnaaaaa': 11505, 'carefully': 2145, 'forgets': 4703, 'untilnumberhocurse': 12736, 'attire': 1014, 'twelvecurse': 12579, 'branded': 1771, 'flexed': 4594, 'againthe': 464, 'femalesthat': 4437, '1hopsin': 84, '3canibus': 162, '6papoose': 230, '7hopsin': 242, 'balcony': 1173, 'chancellor': 2280, 'hitmcurse': 5770, 'defensive': 3284, 'dwigcurse': 3843, 'rambling': 9703, 'snicker': 11094, 'bankroll': 1213, 'nudescurse': 8347, 'numbertaliban': 8412, 'detonate': 3412, 'prematurelycurse': 9355, 'theology': 12067, '613': 216, 'herassfat': 5685, 'covered': 2937, 'mentionnumberbrownie': 7657, 'notnumberbitch': 8334, 'remarkscurse': 9936, 'keshawn': 6648, 'soooooooooo': 11209, 'depression': 3364, 'bruuuuuuh': 1891, 'beatnumbertonumberin': 1308, 'pwoosy': 9603, 'niggerous': 8240, 'gonorrhoea': 5164, 'strictly': 11548, 'butnumberlikes': 1988, 'thicker': 12098, 'chrisbrown': 2434, 'bitchnumberhittin': 1536, 'bitchnumberlettin': 1537, 'starleasha': 11418, 'issuesmore': 6400, 'secured': 10555, 'unattended': 12641, 'wannaof': 13158, 'fertile': 4448, 'usernumbertimes': 12805, 'outtanumbera': 8684, 'contortion': 2818, 'thircurse': 12118, 'thennumbermin': 12045, 'cork': 2876, 'xi': 13693, 'inferior': 6161, 'shhhhcurse': 10741, 'wound': 13657, 'genito': 5023, 'cutcurse': 3109, 'nawfside': 8120, 'knowyou': 6745, 'wannasnap': 13194, 'breathing': 1799, 'headpussy': 5616, 'girlfriendside': 5087, 'mcflurrcurse': 7580, 'andnumberpounds': 677, 'yearbook': 13743, 'graduationthis': 5247, 'forgotcurse': 4711, 'twig': 12583, 'supernatural': 11683, 'apologise': 806, 'believer': 1371, 'sickening': 10851, 'wordcurse': 13621, 'scented': 10446, 'romance': 10201, 'sandwiched': 10371, 'irritatedcurse': 6373, 'repudiatedcurse': 9989, 'tiara': 12190, 'fingerscurse': 4513, 'gonumbermissed': 5165, 'combed': 2640, 'dragonball': 3714, 'withnumberbillion': 13560, '2pac': 137, 'jordannumberretro': 6543, 'registered': 9893, '314254': 149, '003': 2, 'usernumbergood': 12790, 'worthnumberbitches': 13650, 'reasoning': 9800, 'drugscurse': 3784, 'weedcurse': 13360, 'drunkcurse': 3789, 'adores': 412, 'litter': 7142, 'whom': 13475, 'carolina': 2156, 'fansnumberthe': 4363, 'aluminium': 601, 'villain': 12937, 'disrecurse': 3581, 'pussynumbermins': 9590, 'fiasco': 4461, 'illegitimate': 6048, 'jumpinnumberconclusions': 6582, 'takenumberselfies': 11835, 'avec': 1063, 'baldwin': 1178, 'forgiven': 4708, 'transgression': 12408, 'escalator': 4117, 'tomb': 12276, 'afternumberhours': 455, 'almostnumberpages': 575, 'fornumbercents': 4723, 'janoskians': 6460, 'janoskianator': 6459, 'aroma': 886, 'grizzly': 5323, 'napoli': 8097, 'coexist': 2597, 'mesial': 7694, 'occupier': 8457, 'pew': 9012, 'palestinian': 8785, 'margaret': 7486, 'barstool': 1247, 'wannaput': 13167, 'ratification': 9741, 'pornstars': 9267, 'burfict': 1952, 'saidnumberfemales': 10324, 'flogged': 4611, 'homoscurse': 5843, 'anumberthousand': 768, 'weakkkkkkkk': 13334, 'honour': 5855, 'abusive': 318, 'holic': 5811, 'privately': 9421, 'museum': 8014, 'admission': 401, 'acadia': 322, 'maturity': 7560, 'amour': 635, 'management': 7442, 'therapist': 12071, 'wackcute': 13015, 'thrucurse': 12169, 'thomas': 12132, 'obtainable': 8451, 'dogcurse': 3628, 'spade': 11248, 'tellcurse': 11933, 'overtaking': 8733, 'solely': 11166, 'birdnumberminutes': 1492, 'conspicuous': 2796, 'dominating': 3639, 'greek': 5299, 'conceived': 2722, 'proboscis': 9432, 'procure': 9437, 'hadnumberredeeming': 5404, 'attracted': 1020, 'becausenumberassholes': 1318, 'convincing': 2843, 'andnumberbitches': 665, 'lordenumberwith': 7266, 'bitchesnumberwith': 1523, 'diving': 3607, 'diver': 3602, 'slaaaayy': 10963, 'witcurse': 13554, 'gently': 5030, 'fanny': 4361, 'influenced': 6171, 'barking': 1238, 'laughlin': 6862, 'karay': 6614, 'onnumberof': 8564, 'twirling': 12588, 'divan': 3600, 'longhorn': 7239, 'networking': 8175, 'sitecurse': 10925, 'thannumberbodies': 12002, 'innumberyears': 6231, 'kingtunchi': 6698, 'numberpoints': 8401, 'directive': 3516, 'leerkrachten': 6931, 'pest': 9000, 'voorstellen': 12997, 'pestproblematiek': 9001, 'leerlingen': 6932, 'geniuscrazy': 5025, 'sackcurse': 10305, 'draftexpress': 3709, 'cauley': 2202, 'stein': 11451, 'poythress': 9315, 'harrison': 5527, 'warn': 13259, 'onepancake': 8552, 'grande': 5258, 'problemcurse': 9431, 'ist': 6401, 'nipcurse': 8261, 'mynumberfavorite': 8047, 'tv': 12564, 'viewing': 12931, 'trading': 12378, 'placurse': 9127, 'encourages': 4027, 'calcurse': 2058, 'glen': 5110, 'prioritized': 9415, 'energetic': 4039, '2x': 138, '134': 49, 'treaty': 12448, 'advertising': 423, 'krems': 6762, 'persian': 8987, 'intercept': 6286, 'equation': 4097, 'pitiful': 9115, 'jets': 6497, 'yankees': 13718, 'knicks': 6724, 'comma': 2656, 'goingcurse': 5151, 'vinegar': 12944, 'talcurse': 11840, 'ovecurse': 8693, 'marginalize': 7488, 'ouuua': 8688, 'spermicidal': 11293, 'donned': 3656, 'mamacurse': 7437, 'fellcurse': 4429, 'dissent': 3588, 'hoesgirls': 5792, 'gifted': 5070, 'bryantcurse': 1894, 'patrcurse': 8885, 'maaaaan': 7364, 'inviting': 6336, 'superstar': 11685, 'solved': 11173, 'lent': 6963, 'tradition': 12379, 'hotnumbertrash': 5907, 'artprize': 913, 'superheroes': 11678, 'gooder': 5172, 'overcast': 8700, 'ruscurse': 10280, 'verdure': 12893, 'writenumberbars': 13676, 'gotnumberin': 5207, 'realizedcurse': 9785, 'basedgod': 1256, 'postnumbertweets': 9292, 'countrythese': 2922, 'blatantly': 1576, 'freshness': 4806, '222012': 110, '00pm': 4, 'preoccupied': 9360, 'furrybah': 4915, 'fez': 4456, 'lakernumberseason': 6796, 'scrimmage': 10511, 'brixton': 1836, 'cumberland': 3075, 'edmondson': 3917, 'papercurse': 8808, 'arresting': 897, 'flashback': 4570, 'alreadynumberto': 589, 'amid': 627, 'behalf': 1352, 'valentincurse': 12839, 'genuinely': 5033, 'conceded': 2720, 'flush': 4629, 'springbreak': 11346, 'swimcurse': 11775, 'clubcurse': 2559, 'lees': 6933, 'slaughtersnumberchildren': 10983, 'restraint': 10035, 'butcherscurse': 1985, 'hurtcurse': 5973, 'rath': 9739, 'bubo': 1900, 'hashtaghe': 5539, 'raven': 9748, 'prosecution': 9487, 'sentimental': 10617, 'easiest': 3879, 'friendship': 4815, 'lastsnumbermonths': 6844, 'investigate': 6330, 'spouse': 11337, 'wannakill': 13132, 'asthma': 970, 'datnumberat': 3187, 'rogers': 10189, 'magically': 7395, 'happier': 5497, 'abstract': 312, 'wrenching': 13668, 'francisco': 4771, 'fuckingcurse': 4874, 'respectable': 10018, 'dickmatized': 3453, 'questioned': 9623, 'goodge': 5173, 'wannaplease': 13164, 'claicurse': 2482, 'gothic': 5196, 'benumbersomething': 1402, 'almostnumbersaturday': 576, 'declare': 3254, 'whisker': 13449, 'assemblywoman': 945, 'sleigh': 10995, 'fromnumberweeks': 4835, 'throughnumberyears': 12163, 'louder': 7281, 'appropriate': 843, 'bidencurse': 1455, 'reference': 9865, 'elevatorcurse': 3963, 'cuppcurse': 3082, 'demcurse': 3323, 'chunkycurse': 2451, 'reminder': 9945, 'arrogance': 900, 'groove': 5328, 'martha': 7516, 'bruins': 1880, 'ford': 4684, 'mobile': 7839, 'impersonator': 6085, 'disappeared': 3529, 'drying': 3795, 'connection': 2775, 'legitimizing': 6956, 'deviancy': 3419, 'usernumberwas': 12807, 'saluting': 10348, 'swagfags': 11737, 'gotnumbernuggets': 5214, 'ratchetttttt': 9737, 'konerko': 6753, '1914': 79, 'jetercurse': 6495, 'snumbermulti': 11124, 'gehrigcurse': 5005, '121': 40, 'ruthcurse': 10295, 'snumberancurse': 11114, 'overcome': 8702, 'staking': 11395, 'simultaneously': 10892, 'tragedy': 12383, 'capitalized': 2120, 'diam': 3439, 'gallagher': 4944, 'lopsided': 7262, 'annette': 712, 'milan': 7745, 'lucid': 7320, 'steakhouse': 11440, 'vantage': 12862, 'igni': 6031, 'bahaduri': 1157, 'alesha': 528, 'marne': 7505, 'rete': 10050, 'emergency': 4005, 'sullivan': 11649, 'cinema': 2461, 'chalked': 2269, 'pussysold': 9593, 'backpagecurse': 1132, 'eve': 4155, 'swampscott': 11744, 'congressional': 2769, 'cranberry': 2959, 'yellowcurse': 13751, 'rosary': 10218, 'lembert': 6958, 'motherfker': 7932, '00000000000000': 1, 'megaldon': 7624, 'lebcurse': 6922, 'warcurse': 13248, 'lens': 6962, 'soak': 11131, 'rounding': 10238, 'panel': 8797, 'thenumberfilm': 12052, 'outbreak': 8660, 'sanguine': 10375, 'participating': 8851, 'apartheid': 799, 'pedestrian': 8922, 'darkiescurse': 3168, 'christine': 2438, 'bridgegate': 1815, 'agate': 465, 'leftcurse': 6936, 'issued': 6399, 'liecurse': 7013, 'busying': 1982, 'balsam': 1191, '102': 17, 'innumberwords': 6229, 'occasion': 8454, 'dough': 3680, 'gotnumbercookies': 5204, 'sincecurse': 10895, 'zrgrizz': 13834, 'fined': 4503, 'magician': 7397, 'growled': 5339, 'assailing': 941, 'wasnumberdays': 13281, 'defendsnumberpeople': 3282, 'offseason': 8486, 'sandoval': 10366, 'corpse': 2888, 'lolzcurse': 7229, 'somcurse': 11176, 'onto': 8569, 'treatment': 12447, 'paydaycurse': 8903, 'showering': 10823, 'sheeeeeit': 10726, 'boulogne': 1717, 'drugcurse': 3783, 'thrust': 12170, 'immune': 6073, 'bucketcurse': 1905, 'heyyycurse': 5712, 'lmacurse': 7160, 'gubernatorial': 5354, 'envy': 4085, 'birdhouse': 1489, 'crazzzyyyyyy': 2974, 'maaannnnn': 7366, 'fuckednumberdudes': 4868, 'permanently': 8977, 'clowneycurse': 2555, 'smfhcurse': 11057, 'topicscurse': 12325, 'loycurse': 7316, 'rahshauna': 9683, 'immediatelycurse': 6069, 'boringnumberyear': 1695, 'equipment': 4099, 'stirring': 11490, 'mcconnell': 7576, 'parasite': 8822, 'soberly': 11141, 'dietcurse': 3471, 'pronounce': 9472, 'batman': 1279, 'wannaleg': 13138, 'cartridge': 2174, 'rancurse': 9708, '14': 51, 'numberacting': 8355, 'theynumbercurse': 12095, 'awwcurse': 1088, 'wannacopy': 13091, 'blackguard': 1558, 'thankscurse': 11998, 'flagrant': 4558, 'ejected': 3941, 'substance': 11606, '177': 64, 'bizarre': 1554, 'duel': 3811, 'buckwheat': 1907, 'fitzgerald': 4548, 'henrique': 5682, '116': 35, 'belichick': 1367, 'thingscurse': 12109, 'halonumberepisodes': 5451, 'chapter': 2298, 'ami': 626, 'playnumbergames': 9169, 'helmsley': 5672, 'hustlas': 5980, 'nipplescurse': 8263, 'manages': 7444, 'inspiration': 6249, 'mifvotd': 7736, 'realistic': 9781, 'autographed': 1053, 'yankeesnumber': 13720, 'playingcurse': 9167, 'emblem': 3996, 'freecurse': 4789, 'wannastate': 13203, 'looming': 7249, 'oily': 8518, 'bulbous': 1927, 'shrieking': 10829, 'hungrycurse': 5961, 'gamble': 4948, 'factscurse': 4307, 'ifnumberniggas': 6028, 'enlarged': 4061, 'piernumberon': 9070, 'franciscan': 4770, 'wearcurse': 13340, 'birthcurse': 1497, 'drafting': 3710, 'summcurse': 11652, 'protector': 9499, 'aroundddd': 888, 'gape': 4963, 'inequality': 6153, 'ofnumberurl': 8502, 'seer': 10578, 'boasted': 1634, 'ovariescurse': 8692, 'grafting': 5249, 'imagination': 6060, 'monument': 7893, 'mcfarlane': 7579, 'stroking': 11559, 'imitate': 6064, 'namecurse': 8083, 'savcurse': 10410, 'breedcurse': 1802, 'confined': 2751, 'taiquaniesha': 11827, 'stolefucked': 11498, 'boxed': 1739, 'rosescurse': 10223, 'rumour': 10273, 'tra': 12373, 'ireland': 6357, 'thesenumberbitches': 12082, 'joan': 6517, 'clinton': 2534, 'brownvincurse': 1875, 'tier': 12201, 'citcurse': 2473, 'themnumberunreads': 12039, 'adrian': 414, 'wannatake': 13208, 'cringe': 3010, 'louisa': 7286, 'stupider': 11586, 'gotnumberbodies': 5203, 'shenumberor': 10735, 'bounding': 1722, 'zookeeper': 13833, 'supra': 11700, 'queencurse': 9619, 'tricksnipers': 12464, '89': 252, 'luxurious': 7349, 'interior': 6294, 'fang': 4359, 'unreal': 12727, 'fornumbermonths': 4731, 'petting': 9009, 'nevercurse': 8183, 'newport': 8190, 'turnsnumbertoday': 12555, 'gimmmmmie': 5075, 'stephen': 11459, 'responds': 10023, 'tomsell': 12282, 'overnumberboosie': 8716, 'planning': 9138, 'flail': 4559, 'deuce': 3414, 'yu': 13808, 'gi': 5064, 'praising': 9324, 'wannasweet': 13206, 'tuesday': 12530, 'rancher': 9707, 'reportedly': 9980, 'daynumberthe': 3208, 'dimaggio': 3490, 'goesnumberfornumberwith': 5149, 'hisnumbergame': 5758, 'streak': 11538, 'eitcurse': 3938, 'givenumberfucks': 5100, 'shitstache': 10774, 'injurynumberwill': 6191, 'shaqualidaemommy': 10699, 'barackeishamommy': 1222, 'biocurse': 1480, 'welcomed': 13379, 'reflect': 9871, 'behicurse': 1359, 'rapistcurse': 9724, 'muscle': 8011, 'silent': 10876, 'philadelphia': 9024, 'passer': 8865, 'numbermillion': 8383, 'performnumberminutes': 8970, 'reachednumberin': 9763, 'progressive': 9455, 'explosion': 4252, 'especial': 4123, 'somenumbershit': 11187, 'killlllllas': 6684, 'greenyellow': 5305, 'fuel': 4886, 'benumberactingnumbercurse': 1396, 'algcurse': 534, 'allnumberwalls': 562, 'prevent': 9389, 'numberstick': 8410, 'gluenumberstick': 5127, 'feathernumbernow': 4408, 'everyocurse': 4175, 'raining': 9693, 'exploding': 4250, 'almerianumberyellow': 570, 'andnumberred': 678, 'embassy': 3993, 'ofnumberits': 8494, 'asset': 948, 'lifecurse': 7019, 'lipscurse': 7121, 'deadness': 3224, 'placing': 9126, 'algebranumbernot': 536, 'ravensnumberbeating': 9749, 'thanksnumberpu': 12000, 'whichever': 13435, 'awardecurse': 1074, 'leastnumberniggas': 6912, 'dominique': 3644, 'anumberlmaooo': 757, 'usernumberlove': 12793, 'oreille': 8620, 'proposing': 9486, 'berlin': 1409, 'negrocurse': 8156, 'suitable': 11646, 'luuuuubeall': 7347, 'luuuube': 7346, 'dental': 3345, 'hindu': 5747, 'shivsainik': 10780, 'jadhav': 6443, 'aboutnumberhours': 301, 'smythe': 11079, 'belcurse': 1364, 'austria': 1045, 'baton': 1281, 'whined': 13442, 'adhering': 396, 'ethic': 4139, 'submission': 11600, 'positively': 9279, 'mainly': 7410, 'bestthe': 1425, 'pious': 9099, 'sobbingcurse': 11139, 'approaching': 842, '100gram': 15, 'exescurse': 4219, 'applewood': 829, 'titlcurse': 12245, 'dominated': 3638, 'innumberon': 6219, 'rougher': 10236, 'unncurse': 12720, 'usernumberpeopleday': 12798, 'cattle': 2198, 'rail': 9687, 'treblinka': 12449, 'freakscurse': 4780, 'thennumberbitches': 12042, 'exposecurse': 4254, 'frankly': 4774, 'stephanie': 11458, 'tranquillity': 12401, 'highwaisted': 5733, 'transferred': 12405, 'gender': 5011, 'neutral': 8179, 'tactful': 11819, 'tsunami': 12522, 'extramarital': 4271, 'sneakecurse': 11093, 'ratchetcurse': 9733, 'telly': 11935, 'whitlow': 13463, 'allowing': 566, 'retardscurse': 10049, 'mertesacker': 7693, 'flake': 4560, 'succession': 11618, 'invent': 6326, 'accurately': 349, 'tremendous': 12453, 'empower': 4020, 'nominee': 8294, 'fisherman': 4539, 'annual': 724, 'luncheon': 7338, 'usernumberpoint': 12800, 'dirk': 3519, 'nowitzki': 8344, 'hailed': 5426, 'seton': 10646, '46': 184, 'survivor': 11721, 'calculate': 2057, 'circumference': 2469, 'usernumbermost': 12795, 'parallel': 8816, 'amongst': 632, 'chaicurse': 2262, 'alertcurse': 527, 'ultimately': 12631, 'douchetard': 3679, 'butterball': 1998, 'juscurse': 6589, 'mega': 7623, 'carrot': 2165, 'numberretweets': 8405, 'gouged': 5230, 'harmless': 5523, 'foetus': 4639, 'sumcurse': 11651, 'napkin': 8096, 'tripcurse': 12479, 'screenname': 10504, 'stared': 11414, 'trench': 12454, 'stronger': 11564, 'birthdcurse': 1501, 'accordingly': 343, 'trucurse': 12498, 'hardnumberkeep': 5516, 'rotate': 10229, 'superficial': 11675, 'insulted': 6270, 'maynecurse': 7569, 'fightincurse': 4472, 'loooooolcurse': 7252, 'vinecurse': 12943, 'degrading': 3297, 'category': 2191, 'foxtrot': 4761, 'developed': 3417, 'benumbertalking': 1403, 'purposely': 9570, 'turtleneck': 12560, 'oooooo': 8573, 'vulgar': 13005, 'kearney': 6628, 'boxer': 1740, 'bliss': 1598, 'duncanville': 3829, 'wrecking': 13665, 'dickscurse': 3457, 'astronaut': 973, 'igggggy': 6029, 'cornycurse': 2881, 'sooooooo': 11208, 'potatocurse': 9298, 'accepted': 328, 'stroma': 11562, 'removcurse': 9951, 'retina': 10052, 'germany': 5043, 'iosnumberlike': 6347, 'hunnnneycurse': 5963, 'fishingcurse': 4541, 'knaidel': 6719, 'excites': 4207, 'amuse': 639, 'feeble': 4417, 'eaves': 3894, 'legalized': 6945, 'shicurse': 10743, 'booby': 1665, 'caughtnumberhoes': 2201, 'embraced': 4001, 'beatson': 1310, 'enticurse': 4074, 'curious': 3088, 'gorge': 5186, 'smearing': 11051, 'itnumberdays': 6409, 'ringingthe': 10131, 'singingmash': 10905, 'flinging': 4601, 'springing': 11348, 'slashed': 10979, 'shortstop': 10804, 'yankeescurse': 13719, 'scorenumberruns': 10480, '87': 251, 'inning': 6199, 'thirtycurse': 12123, 'masahiro': 7526, '155': 56, 'andnumberruns': 679, '42': 175, 'innincurse': 6198, 'eliminated': 3971, 'jadeveon': 6442, 'everynumbertonumberyear': 4174, 'remarkable': 9935, '547': 204, 'numberpass': 8399, 'numbercompletions': 8365, 'storybook': 11523, 'thinning': 12117, '45': 182, 'roi': 10192, 'numberrbi': 8403, 'ellsbury': 3979, 'robinson': 10170, 'cabrcurse': 2040, 'chappellenadal': 2296, 'waaaaaa': 13008, 'wannaroger': 13175, 'berwick': 1414, 'checkpoint': 2339, 'germanycurse': 5044, 'wannause': 13226, 'gingerbread': 5078, 'lava': 6868, 'lolzzz': 7230, 'lolnumbermonths': 7226, 'unattractive': 12642, 'cinammon': 2459, 'popularcurse': 9259, 'hatincurse': 5560, 'wannadrunk': 13100, 'conversationthey': 2835, 'filing': 4483, 'incomplete': 6119, 'comenumberhenderson': 2650, 'kilgore': 6674, 'longview': 7241, 'anumberteam': 767, 'styled': 11591, 'editorial': 3916, 'seeeeee': 10561, 'shocking': 10785, 'ebolian': 3897, 'kamikaze': 6609, 'aubreyjimmy': 1026, 'rappecurse': 9725, 'haired': 5429, 'nudestrash': 8348, '182': 71, 'tug': 12531, 'fir': 4520, 'everyoncurse': 4176, 'everythingcurse': 4179, 'astronomy': 974, 'marsh': 7512, 'twittersphere': 12599, 'clorox': 2539, 'rothstein': 10233, 'desicurse': 3386, 'invitation': 6333, 'vive': 12975, 'balk': 1179, 'wannaspread': 13201, 'tongcurse': 12286, 'wildbills': 13504, 'hitsnumbero': 5774, 'lightest': 7029, 'jaheim': 6444, 'everybodyyyyy': 4169, 'fuckingggggg': 4875, 'september': 10623, 'ut': 12819, 'judgedcurse': 6561, 'truthcurse': 12509, 'constitutcurse': 2800, 'plantthese': 9144, 'neednumberfuckin': 8146, 'judgmencurse': 6564, 'gunrunning': 5375, 'pussyguy': 9586, 'iphonenumberbitch': 6352, 'complained': 2697, 'withnumberniggas': 13568, 'othernumberput': 8647, 'squire': 11371, 'gircurse': 5081, 'announcing': 718, 'travel': 12432, 'toescurse': 12260, '113': 32, 'kevinsmith': 6653, 'musical': 8018, 'syndromecurse': 11802, 'suspicious': 11729, 'motivation': 7940, 'takencurse': 11831, 'detailed': 3406, 'loudest': 7282, 'adventure': 420, 'planenumbertimes': 9134, 'harcurse': 5507, 'makenumberyard': 7421, 'iphcurse': 6351, 'gottanumberkill': 5227, 'backstabbing': 1135, 'deceived': 3244, 'festival': 4450, '83': 248, 'balochistan': 1190, 'punjab': 9557, 'manzielcurse': 7474, 'platinum': 9152, 'terminated': 11961, 'hurling': 5969, 'victoriacurse': 12923, 'fleekcurse': 4589, 'mothafucker': 7928, 'mmmhmmm': 7824, 'dullest': 3815, 'wannasplit': 13199, 'jackelope': 6436, 'unicorn': 12693, 'pegasus': 8931, 'foreplaying': 4689, 'krueger': 6765, 'mask': 7532, 'timcurse': 12218, 'mockcurse': 7842, 'oitnb': 8519, 'aberdeen': 285, 'photobombing': 9033, 'snail': 11081, 'sharpened': 10709, 'appealing': 816, 'enlarge': 4060, 'homegrown': 5831, 'bagscurse': 1155, 'likenumberin': 7053, '252': 122, 'gotnumberornumberhoes': 5216, 'godthat': 5148, 'anumberpictures': 764, 'justifying': 6596, 'obersturmfuhrer': 8439, 'matthias': 7556, 'financial': 4496, 'levelling': 6981, 'barbara': 1223, 'pause': 8896, 'judgment': 6565, 'naawww': 8066, 'roadside': 10156, 'arenumbergallon': 869, 'capscurse': 2124, 'legislcurse': 6954, 'noun': 8337, 'ideology': 6016, 'airplane': 506, 'candcurse': 2100, 'screenshotting': 10507, 'baffled': 1150, 'utmost': 12823, 'starring': 11419, 'personally': 8993, 'printer': 9414, 'snumberman': 11122, 'chivalry': 2410, 'gen': 5009, 'stepan': 11457, 'judgcurse': 6559, 'excite': 4204, 'soap': 11134, 'usernumberpercent': 12799, 'thru': 12168, 'coincky': 2604, 'dink': 3498, 'gelatin': 5007, 'niggabitch': 8225, 'pantcurse': 8804, 'havingnumberiphone': 5586, 'andnumberpair': 676, 'innumberwaylon': 6223, 'honky': 5853, 'tonk': 12293, 'knowledgecurse': 6741, 'retell': 10051, 'waps': 13246, 'sargent': 10390, 'linebacker': 7103, 'snuffing': 11107, 'ourscurse': 8657, 'lank': 6815, 'themnumberniggas': 12037, 'byrom': 2029, 'waived': 13035, 'psychological': 9520, 'dhimmis': 3430, 'endangered': 4029, '16': 59, 'concluded': 2731, 'heterochromia': 5708, 'iridium': 6359, 'originally': 8634, 'treecurse': 12451, 'ludacris': 7326, 'betcurse': 1428, 'observation': 8448, 'solving': 11174, 'wannatext': 13211, 'brute': 1889, 'knockout': 6731, 'macnumberlay': 7376, 'shakespeare': 10681, 'steampunk': 11445, 'comstock': 2716, 'boonnumbermention': 1675, 'grewnumber20000': 5309, 'becamenumberof': 1316, 'largest': 6824, 'wealthiestcurse': 13336, 'firecurse': 4524, 'dotard': 3673, 'numbernumberlike': 8394, 'findcurse': 4499, 'executioner': 4214, 'allowance': 564, 'singlcurse': 10906, 'boutnumberbitches': 1729, 'plank': 9136, 'nonsensical': 8300, 'routine': 10244, 'applauding': 825, 'appearing': 821, 'israelcurse': 6396, 'pinpointcurse': 9097, 'wannaignore': 13129, 'goingnumberbelieve': 5152, 'supremacist': 11701, 'determine': 3409, 'dickson': 3458, 'sympathized': 11797, 'gateway': 4981, 'increased': 6122, '2600': 125, 'menstrual': 7645, 'stooping': 11512, 'neighbour': 8159, 'veil': 12876, 'sarajevo1941': 10387, 'juxtaposition': 6602, 'usenumberrelievers': 12778, 'pallbearer': 8786, 'posse': 9280, 'tossing': 12350, 'wantincurse': 13239, 'chimpoutnumbersummers': 2394, 'aged': 468, 'salvadoran': 10349, 'hisnumberyr': 5759, 'bynumberbeaners': 2021, 'metlife': 7709, 'inhale': 6183, 'marshmallow': 7514, 'disgusted': 3559, 'glided': 5113, 'anybodycurse': 779, 'overnumbergb': 8718, 'switched': 11783, 'lodging': 7217, 'atleastnumberon': 985, 'gotnumberwhile': 5222, 'lympho': 7357, 'oatfield': 8433, 'deepest': 3270, 'betray': 1434, '74': 239, 'analyzing': 651, 'ballgame': 1184, 'innumberinnings': 6214, '43': 177, 'leadoff': 6893, 'paused': 8897, 'billboard': 1473, 'pinstripe': 9098, 'outcast': 8662, '109': 23, 'homestead': 5837, 'underrated': 12667, 'saiyannumberat': 10331, 'smothered': 11076, 'liquid': 7123, 'hesitation': 5705, 'venture': 12885, 'enlist': 4062, 'villa': 12935, 'whicurse': 13436, 'walknumbermiles': 13047, 'casserole': 2181, 'controller': 2830, 'hayne': 5595, 'nahhhhh': 8072, 'giuliani': 5096, 'magnet': 7399, 'chiquito': 2405, 'bearfaced': 1300, 'yuma': 13811, 'niggazn': 8234, 'cucumber': 3070, 'stunning': 11583, 'tuck': 12527, 'merrynumbermonths': 7692, 'bathe': 1272, 'skitdaddle': 10957, 'numerous': 8417, 'fromnumber': 4828, 'numberreal': 8404, 'disqualified': 3580, 'reflected': 9872, 'liencurse': 7015, 'naaaaaaaa': 8064, 'konnnichiwa': 6754, 'crushing': 3050, 'belocurse': 1379, 'idolized': 6025, 'ohhhh': 8511, 'fuckicurse': 4872, 'waynumbermake': 13321, 'br': 1751, 'alligator': 555, 'lowered': 7306, 'childhoodcurse': 2382, 'cemeterycurse': 2237, 'melanin': 7627, 'mildly': 7747, 'overthinking': 8734, 'usernumberbottles': 12784, 'numberbitches': 8361, 'picknumberhoe': 9056, 'lyingcurse': 7354, 'preeeeeeeach': 9343, 'epidemic': 4088, 'verb': 12889, 'silken': 10878, 'birdnumbercurse': 1491, 'exposedcurse': 4256, 'numbermany': 8382, 'sophisticated': 11216, 'deecurse': 3264, 'louse': 7290, 'wannafamous': 13103, 'assnumbermixtapes': 958, 'wannawant': 13229, 'yetcurse': 13763, 'usernumberout': 12797, 'ofnumberrt': 8500, 'mainland': 7409, 'muthafxckacurse': 8038, 'tylecurse': 12605, 'upstairs': 12763, 'likenumberlookingnumbercurse': 7057, '19': 78, 'facingnumberyears': 4302, 'ripcurse': 10136, 'edited': 3914, 'sentencecurse': 10615, 'oral': 8603, 'invest': 6329, 'loyaltycurse': 7315, 'zulema': 13836, 'thisnumberdegrees': 12127, 'birdscurse': 1494, 'backscurse': 1134, 'dumbbbbcurse': 3820, 'anumberjapanese': 756, 'assassinated': 942, 'sweatingcurse': 11752, 'hannah': 5489, 'discussing': 3550, 'bescurse': 1416, 'nathaniel': 8106, 'meanssome': 7597, 'waaaaannnnnt': 13009, 'crabtree': 2947, 'incoherently': 6117, 'unfuckingfollow': 12688, 'wannacontinue': 13090, 'rallying': 9700, 'extinctcurse': 4268, 'devilish': 3422, 'beycurse': 1445, 'privileged': 9423, 'wildest': 13505, 'murray': 8010, 'tonycurse': 12306, 'scumbag': 10521, 'messrs': 7699, 'talknumbermy': 11851, 'gradcurse': 5241, '515': 196, 'yourselfcurse': 13798, 'kamenka': 6608, 'darlington': 3173, 'peach': 8912, 'evaluate': 4153, 'crossbow': 3026, 'cisheteros': 2472, 'darnecurse': 3174, 'innumberis': 6215, 'propecurse': 9477, 'atomic': 996, 'kingcurse': 6696, 'turnnumbertil': 12554, 'madenumbertrips': 7382, 'retirincurse': 10056, 'burgernumberdays': 1953, 'eatnumberyr': 3892, 'roni': 10206, 'classmate': 2503, 'problcurse': 9429, 'cal': 2055, 'wearicurse': 13341, 'squeezing': 11368, 'sinclair': 10901, 'mentionnumberhashtag': 7659, 'gentrification': 5031, 'straggots': 11526, 'priority': 9416, 'recommended': 9829, '412': 172, 'sciencurse': 10467, 'yassssssssssssss': 13728, 'enthusiasm': 4073, 'questionstempest': 9625, 'down75mil': 3688, 'ugliercurse': 12621, 'concerning': 2728, 'gamesnumbertimes': 4954, 'plantation': 9141, 'signal': 10869, 'iosnumberbut': 6346, 'prevention': 9392, 'officials': 8484, 'neill': 8160, 'thrashing': 12146, 'watchednumberepisodes': 13299, 'grapevine': 5275, 'marrycurse': 7510, 'cryinglet': 3062, 'crafty': 2954, 'intentionscurse': 6284, '77': 241, 'shortened': 10800, 'tryedcurse': 12516, 'mandate': 7448, 'nevada': 8180, 'unconstitutional': 12655, 'injuncurse': 6188, 'babbyyy': 1105, 'dread': 3732, 'permeation': 8978, 'takesnumberniggas': 11838, 'possibleshe': 9285, 'wasnumberof': 13285, 'prairiecurse': 9322, 'collegefession': 2619, 'stony': 11506, 'illinocurse': 6050, 'snumberfollower': 11120, 'harpoon': 5525, 'carnicurse': 2154, 'pokeflute': 9208, 'behave': 1353, 'deranged': 3367, 'aerial': 429, 'examine': 4193, 'testicle': 11971, 'painlessly': 8773, 'sacrament': 10307, 'trainingcurse': 12391, 'endorsescurse': 4035, 'lancaster': 6805, 'serenity': 10628, 'bitchesyou': 1525, 'lostobama': 7275, 'presidentcurse': 9374, 'tweecurse': 12568, 'foughtnumberlittle': 4750, 'assnumberyr': 960, 'grime': 5316, 'visible': 12964, 'sewn': 10662, 'gavest': 4990, '273': 128, '8255': 247, 'livescurse': 7153, 'gaddafi': 4933, 'voeckler': 12981, 'contador': 2805, 'enigma': 4055, 'gambler': 4949, 'cruelty': 3044, 'petition': 9007, 'playecurse': 9159, 'berth': 1413, 'ko': 6748, 'dcurse': 3214, 'numbersupreme': 8411, 'confirmation': 2753, 'chopped': 2425, 'bubblcurse': 1897, 'levi': 6987, 'shiiiiiit': 10751, 'statue': 11432, 'rifle': 10116, 'knuckle': 6747, 'fatty': 4390, '5thcurse': 211, 'chick': 2373, 'fil': 4479, 'woodland': 13613, 'gameplan': 4953, 'pigeon': 9073, 'flocking': 4610, 'merriecurse': 7689, 'mayonnaise': 7571, 'urine': 12769, 'fornumbertonumberweeks': 4736, 'wizcurse': 13586, 'unsolved': 12731, 'wannalimp': 13142, 'alzheimer': 603, 'suffers': 11637, 'alcoholism': 525, 'makcurse': 7419, 'oven': 8694, 'sshitty': 11376, 'dozen': 3705, 'scotch': 10484, 'fwo': 4927, 'favorcurse': 4394, 'topnumberthot': 12333, 'bitchnumbertimes': 1542, 'nonwhatsoever': 8304, 'pub': 9527, 'prank': 9325, 'suspecting': 11724, 'girlhood': 5088, 'baskecurse': 1264, 'dreamt': 3742, 'soocurse': 11203, 'sayinnumberhimsecurse': 10427, 'peppermint': 8953, 'instinct': 6262, 'hover': 5922, 'dependence': 3354, 'pedestal': 8921, 'constitutional': 2802, 'contempt': 2809, 'gibrard': 5067, 'accountant': 346, 'domincurse': 3640, 'mcshaycurse': 7583, 'combine': 2642, 'smoothly': 11074, 'misdeed': 7793, 'koskinen': 6756, 'teamster': 11909, 'kindle': 6691, 'skndndnddnd': 10958, 'thenumbermention': 12058, 'ventilator': 12884, 'brokennumberyear': 1850, 'max': 7564, 'tagscurse': 11822, 'downgraded': 3693, 'salamander': 10338, 'tweeticurse': 12575, 'sikorskey': 10874, 'frederick': 4785, 'winked': 13528, 'rotating': 10230, 'socket': 11150, 'paragraph': 8815, 'flank': 4565, 'writing': 13679, 'bitchmention': 1532, 'fond': 4657, 'advised': 426, 'putcurse': 9596, 'spouting': 11338, 'adonai': 407, 'lively': 7151, 'credibility': 2993, 'addressing': 393, 'anumberperson': 763, 'mrrrrrrr': 7967, 'cupnumberdiary': 3081, 'traprinthions': 12421, '101': 16, 'autograph': 1052, 'engaged': 4044, 'deity': 3302, 'frivolous': 4820, 'equaling': 4093, 'handing': 5472, 'tcurse': 11893, 'switcharoo': 11782, 'katiedodds15': 6622, 'cemetery': 2236, 'wheelchair': 13422, 'ghettos': 5062, 'withnumberfollowers': 13563, 'sonya': 11202, 'criticism': 3019, 'kejriwal': 6638, 'tonumbergirls': 12302, 'appreciation': 839, 'posture': 9294, 'watson': 13309, 'laminated': 6803, 'ejaculating': 3940, 'impromptu': 6099, 'otis': 8651, 'itsnumberthings': 6422, 'wearingcurse': 13343, 'phenomenon': 9022, 'adept': 395, 'counted': 2915, 'likenumberhe': 7050, 'miaminumberyrs': 7715, 'nownumberyears': 8346, 'fuckednumbermen': 4869, 'slamming': 10970, 'acurse': 378, 'usernumberhoes': 12791, 'iphonenumberiosnumberps4': 6353, 'getnumberor': 5052, 'getnumberbitches': 5049, 'havenumbersoulmates': 5581, 'respecting': 10020, 'thesenumberurl': 12088, 'ludacurse': 7327, 'bruhhhhh': 1879, 'wannalearn': 13136, 'roused': 10240, 'bitchnumbermonths': 1539, 'babecurse': 1108, 'dyicurse': 3849, 'picturecurse': 9061, 'forearm': 4685, 'mindscurse': 7770, 'dramacurse': 3721, 'jealousycurse': 6474, 'argumentscurse': 878, 'usernumberyears': 12808, 'wannaleave': 13137, 'upsaughtcurse': 12760, 'exclusive': 4210, 'arscurse': 903, 'ne': 8125, 'zenger': 13822, 'mahammad': 7402, 'suspending': 11727, 'goddamit': 5141, 'sidelined': 10860, 'concussion': 2735, 'inky': 6194, 'irs': 6375, 'lmfaoooooooooooooooo': 7193, 'muthafuckin': 8036, 'clifford': 2526, 'competitive': 2694, 'intelligence': 6275, 'neednumbertvs': 8149, 'datecurse': 3183, 'liberating': 6998, 'mandatory': 7449, 'topnumberlies': 12330, 'fourth': 4757, 'julycurse': 6575, 'suspend': 11725, 'contribution': 2827, 'standardscurse': 11403, 'blahblah': 1562, 'accuses': 352, 'dictated': 3459, 'corpcurse': 2885, 'niggaaaaaa': 8224, 'stump': 11580, 'pakistani': 8781, 'kaiser': 6605, 'flipping': 4604, 'column': 2635, 'ridiculousness': 10114, 'heacurse': 5604, 'erection': 4105, 'usernumberday': 12788, 'downnumbermore': 3697, 'birthdaycurse': 1499, 'bradshaw': 1756, 'tends': 11950, 'disown': 3568, 'trophycurse': 12487, 'certificate': 2256, 'alsopussy': 595, 'twitterblock': 12596, 'dicklicker': 3452, 'fudgcurse': 4885, 'hashtagnortheast': 5540, 'frowning': 4843, 'sincenumberworld': 10899, 'wastedems': 13293, 'recurs': 9841, 'surgeon': 11708, 'atmosphere': 986, 'desercurse': 3380, 'forged': 4699, 'bankruptcy': 1214, 'watering': 13305, 'deodorant': 3350, 'fuckscurse': 4881, 'veryone': 12906, 'redistribute': 9847, 'halloweennumbera': 5448, 'buzzed': 2012, 'dallying': 3135, 'dilly': 3489, 'exclusively': 4211, 'keshonna': 6649, 'hahahahahahaha': 5416, 'renumber': 9962, 'usernumberenergy': 12789, 'leisuuuure': 6957, 'chihuahua': 2379, 'fearless': 4405, 'waise': 13027, 'chatham': 2324, 'afar': 433, 'sticurse': 11479, 'hardnumberexplain': 5515, 'highcurse': 5725, 'innocence': 6201, 'muscurse': 8013, 'faire': 4328, 'dylan': 3853, 'photogenic': 9034, 'believing': 1372, 'cootchee': 2863, 'scrcurse': 10499, 'chalupa': 2271, 'neuro': 8177, 'likinnumberornumberbitches': 7088, 'prey': 9393, 'pussynumberother': 9591, 'abdullah': 282, 'loooooool': 7253, 'com': 2636, 'tha': 11986, 'ble': 1579, 'pharmacist': 9018, 'prettttttty': 9385, 'amazicurse': 610, 'confirms': 2756, 'cryingcurse': 3061, 'gonzales': 5169, 'mentionnumbersunnyslope': 7665, 'tenn': 11952, 'entertainment': 4072, 'homelike': 5833, 'lookecurse': 7244, 'falishacurse': 4340, '10mins': 26, 'dining': 3497, 'angelic': 693, 'eugene': 4142, 'boutique': 1728, 'everynumberbitches': 4173, 'photoshopping': 9042, 'catfished': 2194, 'dipssidelines': 3512, 'covercurse': 2936, '11curse': 37, 'moscow': 7920, 'wantnumberbillion': 13242, 'orator': 8606, 'readingconvo': 9773, 'talkingchilling': 11850, 'gerry': 5045, 'importantcurse': 6089, 'banging': 1207, 'talkicurse': 11847, 'schcurse': 10448, 'agecurse': 467, 'shaniqua': 10692, 'asssofathairsoreal': 963, 'duckburgh': 3804, 'jacey': 6433, 'speedwagon': 11283, 'dublin': 3799, 'auditioned': 1032, 'iraqcurse': 6356, 'uncouthuncivilised': 12656, 'sentenced': 10616, 'slursattacks': 11032, 'rajdeep': 9697, 'reveals': 10071, 'physically': 9047, 'chasinghounding': 2322, 'civilised': 2479, 'bansalgadkari': 1216, 'inmate': 6195, 'serum': 10635, 'andnumberdifferent': 667, 'refresh': 9877, 'dhimmi': 3429, 'mayor': 7572, 'uphashtaghashtag': 12748, 'supermarket': 11682, 'lmaoooooooooooooooooooo': 7171, 'cheesenumbertimes': 2352, 'barbeeequeee': 1226, 'userwhat': 12812, 'tunwhat': 12541, 'superhecurse': 11676, 'numbernumberfor': 8390, 'yorkcurse': 13779, 'fuckemx3': 4870, 'lumen': 7335, 'peshmerga': 8998, 'heave': 5640, 'brightened': 1821, 'occasionally': 8455, 'warman': 13258, 'segment': 10580, 'horseman': 5889, 'quitting': 9644, 'suplexin': 11687, 'addincurse': 386, 'camping': 2091, 'racicurse': 9661, 'graduated': 5246, 'willy': 13515, 'nilly': 8255, 'incitement': 6111, 'murdock': 8007, 'goodness': 5178, 'zipperheads': 13830, 'betternumberb': 1438, 'manchuria': 7447, 'racismcurse': 9664, 'basebacurse': 1253, 'worthcurse': 13648, 'behaving': 1355, 'iphonenumberyour': 6355, 'grabbed': 5238, 'nnumbermins': 8273, '24hrs': 117, 'justificcurse': 6593, 'annoyance': 720, 'purchase': 9561, 'gencurse': 5010, 'wannaheartbreak': 13119, '220': 109, 'rumble': 10270, 'bushmeat': 1974, 'caged': 2049, 'belvita': 1384, 'preferring': 9347, 'callednumberseconds': 2066, 'arenumberminutes': 871, 'differential': 3476, 'andnumberofnumberspeaks': 675, 'stability': 11382, 'emergencurse': 4004, 'snumbermonths': 11123, 'echo': 3900, 'funnycurse': 4910, 'ofnumberxanax': 8504, '33ftnumberled': 154, 'outdoorindoor': 8666, 'raspberry': 9731, 'mahanain': 7403, 'passionate': 8868, 'cambridge': 2076, 'likcurse': 7036, 'suckedfucknumberbitch': 11623, 'godddddd': 5143, 'renegade': 9956, 'snowpiercer': 11104, 'joon': 6540, 'hocurse': 5784, 'sci': 10465, 'fi': 4459, 'gotnumber20': 5198, 'save20curse': 10412, 'checkout': 2338, 'shun': 10834, 'racecurse': 9655, 'butcurse': 1986, 'curriculum': 3094, 'genetically': 5022, 'twecurse': 12567, 'presented': 9370, 'cockroachcurse': 2589, 'wannarip': 13173, 'modelcurse': 7848, 'costly': 2900, 'moneygrosscurse': 7868, 'abuscurse': 315, 'surprising': 11714, 'grip': 5321, 'declares': 3256, 'introducing': 6321, 'nigga': 8222, 'facehashtag': 4294, 'boutcha': 1725, 'mexicannigger': 7712, 'prisoner': 9418, 'clarifying': 2495, 'digital': 3483, 'douglas': 3683, 'indie': 6143, 'centered': 2245, 'skewer': 10942, 'mongoloid': 7873, 'enforcing': 4043, 'hasnumbersex': 5549, 'daynumberof': 3207, 'fxxcurse': 4929, 'simpson': 10890, 'bartcurse': 1248, 'springfieldcurse': 11347, 'consecutivenumberhocurse': 2781, 'criticize': 3020, 'usernumbershades': 12804, 'cuntscurse': 3078, 'backnumberminutes': 1130, 'lmfaoocurse': 7178, 'galloway': 4947, 'simplest': 10887, 'responsecurse': 10025, 'trustee': 12506, 'bury': 1969, 'patent': 8879, 'disposal': 3574, 'sanitary': 10376, 'discreet': 3546, 'gradeschool': 5244, 'ceramiccurse': 2251, 'nazicurse': 8123, 'followerscurse': 4652, 'idkmadz': 6022, 'recess': 9821, 'yuuuuuuuuuaaaaaaa': 13814, 'piratesnumberyears': 9103, 'postseasonscurse': 9293, 'referee': 9864, 'supermanu': 11681, 'wannareason': 13169, 'vagfax': 12834, 'addnumbermo': 390, 'stale': 11396, 'husky': 5977, 'dikecurse': 3487, 'fairiescurse': 4329, 'percentage': 8957, 'lohanthony': 7223, 'dedicate': 3260, 'metcurse': 7706, 'icycurse': 6007, 'littlecurse': 7145, 'bronze': 1853, 'ethnicity': 4141, 'dgaffff': 3428, 'hoeprostitute': 5789, 'onion': 8553, 'termed': 11960, 'connectscurse': 2776, 'flavaaaaa': 4578, 'sean': 10533, 'midge': 7729, 'jabroni': 6432, 'burke': 1957, 'yourselcurse': 13796, 'piti': 9114, 'poverty': 9308, 'winking': 13529, 'stable': 11383, 'settcurse': 10647, 'servicecurse': 10640, 'planscurse': 9139, 'blameamotherfucker': 1565, 'fucccccccked': 4855, 'inspired': 6250, 'recorder': 9836, 'beatsnumberglocc': 1309, 'bitchnumbercop': 1534, 'houseeee': 5915, 'checkscurse': 2340, 'hackscurse': 5394, 'toronto': 12341, 'declined': 3258, 'henessey': 5680, 'plunder': 9188, 'sans': 10378, 'classically': 2501, 'thatscurse': 12017, 'wannalisten': 13144, '29thnumbermention': 133, 'killfuckdie': 6681, 'sudan': 11630, 'withnumberpounds': 13569, 'sephora': 10621, 'equally': 4096, 'dreigdwergen': 3744, 'haatsmurfen': 5387, 'slagveld': 10967, 'biiaaaatch': 1467, 'aerosolized': 431, 'cocainecurse': 2581, 'sweeping': 11757, 'lastnumberweeks': 6842, 'bugatti': 1915, 'countless': 2919, 'documentary': 3619, 'furniture': 4914, 'swallowed': 11741, 'collegiate': 2620, 'teletubby': 11930, 'icepick': 6002, 'paperball': 8807, 'whence': 13427, 'jitterbug': 6515, 'hownumbertreat': 5926, 'difficult': 3478, 'honeymoon': 5850, 'surf': 11705, 'berzerker': 1415, 'knooooooow': 6733, 'upnumberhrs': 12753, 'evaded': 4152, 'justnumbershow': 6599, 'heimlich': 5656, 'maneuver': 7451, 'treaticurse': 12445, 'crashing': 2964, 'webcurse': 13350, 'prediction': 9342, 'disgucurse': 3556, 'numbergood': 8371, 'andnumbervery': 681, 'innumberwearing': 6225, 'mistaken': 7811, 'washincurse': 13272, 'shorter': 10801, 'husbandry': 5976, 'hitched': 5767, 'tick': 12193, 'hound': 5910, 'misty': 7814, 'loosely': 7258, 'creativity': 2989, 'tiredness': 12237, 'onset': 8566, 'roomcurse': 10213, 'noooocurse': 8307, 'buynumbertees': 2010, 'boyscurse': 1746, 'exclaimed': 4209, 'kenosha': 6643, 'clinched': 2531, 'numbernow': 8388, 'spinning': 11307, 'raindrop': 9692, 'slowlycurse': 11026, 'sparing': 11258, 'competecurse': 2691, 'wannabad': 13067, 'quickcurse': 9627, 'conveyed': 2839, 'underperformance': 12666, 'lump': 7336, 'playercurse': 9162, 'literallynumberminutes': 7138, 'inconsistent': 6120, 'blocklist': 1605, 'convert': 2838, 'violate': 12948, 'seedy': 10560, 'eeeeeee': 3921, 'hammered': 5457, 'dresser': 3748, 'thinkpieces': 12115, '127': 42, 'keener': 6629, 'gnuhurd': 5130, 'eloquently': 3983, 'stated': 11427, 'geriatric': 5041, 'raaaayciss': 9649, 'decay': 3243, 'sakurako': 10333, 'ravioli': 9751, 'betterthanamobster': 1439, 'skarsgard': 10936, 'reaaallly': 9760, 'backnumbercollegei': 1129, 'hoesstraight': 5802, 'havenumberthings': 5582, 'perpetrated': 8982, 'habichuelas': 5388, 'sunglass': 11665, 'reallynumberhours': 9788, 'reaper': 9794, 'pinpoint': 9096, 'clubbbcurse': 2557, 'rein': 9904, 'yoshii': 13780, 'teasingcurse': 11915, 'uchihacurse': 12616, 'reaffirmed': 9776, 'mnumberhungry': 7828, 'younumberstupid': 13786, 'reminiscin': 9948, 'token': 12264, 'calf': 2061, 'nunaicurse': 8419, 'rehabilitation': 9901, 'inflammable': 6169, 'united': 12702, 'remarriage': 9937, 'grain': 5251, 'poking': 9211, 'whitey': 13462, 'rikanya': 10127, 'bonny': 1661, 'kramm': 6758, 'rostov': 10225, 'roseanne': 10220, 'zzzquil': 13837, 'orchard': 8609, 'rotterdam': 10234, 'sacrificed': 10310, 'correctness': 2893, 'hulbert': 5940, 'wantnumberboyscurse': 13243, 'ruby': 10258, 'fastball': 4380, 'pursue': 9573, 'baldhead': 1175, 'dangerously': 3157, 'quietly': 9634, 'bumpinnumberme': 1946, 'ironwood': 6365, '00': 0, 'wannaactual': 13057, 'tenure': 11958, 'suturing': 11732, 'sadly': 10318, 'worldwide': 13636, 'jetpacks': 6496, 'finite': 4517, 'sawnumberpick': 10421, 'motorcycle': 7942, 'natsukawa': 8112, 'hornycurse': 5882, 'wench': 13386, 'schon': 10457, 'reduce': 9855, 'snumberof': 11126, 'whites': 13459, 'faggotsfag': 4317, 'sabastiani': 10300, 'petrified': 9008, 'trait': 12394, 'cluuuuub': 2565, 'innumberhours': 6211, 'creation': 2987, 'wannabook': 13078, 'dignity': 3484, 'emojii': 4010, 'wannahold': 13123, 'testingdrills': 11973, 'thrilled': 12156, 'presentable': 9368, 'wannawait': 13227, 'b00gie': 1102, 'meecuz': 7615, 'goddess': 5144, 'withinnumbermonths': 13558, 'mobbing': 7838, 'domestic': 3637, 'wannarun': 13178, 'basin': 1262, 'dec': 3240, 'increasing': 6123, 'mrsladybitch': 7969, 'asnumberbitches': 937, 'crowing': 3036, 'pentagon': 8945, 'shortsaid': 10803, 'sheehey': 10727, 'guarded': 5352, 'shiiiit': 10752, 'shirley': 10764, 'arouse': 892, 'tampico': 11857, 'cdfuuu': 2215, 'freakshow': 4781, '347gal': 156, 'shoutouts': 10814, 'mesquite': 7695, 'whilecurse': 13439, 'medellin': 7608, 'numberincidents': 8377, 'shyyyyyt': 10846, 'numberhours': 8375, 'fulltime12hr': 4891, 'antic': 745, 'accuracy': 347, 'watercurse': 13303, 'rival': 10150, 'beheadsnumberaccused': 1358, 'othercurse': 8646, 'wannachildish': 13087, 'watchingsmelling': 13301, 'sixteen': 10930, 'likenumberoreos': 7065, 'clarenceville': 2494, 'slack': 10965, 'awed': 1080, 'axe': 1091, 'slowbros': 11023, 'neededrespect': 8143, 'werewolf': 13397, 'wannahug': 13126, 'trashslow': 12429, 'fuckcant': 4865, 'dreamest': 3739, 'vanishing': 12860, 'smuggled': 11077, 'tunnel': 12540, 'suffering': 11636, 'glittered': 5116, 'coil': 2601, 'jaceyjanette': 6434, 'waaaay': 13012, 'heresy': 5691, 'abundance': 314, 'ney': 8199, 'thanked': 11994, 'pancreas': 8796, 'seennumberbad': 10573, 'chooses': 2422, 'bryce': 1895, 'paycheck': 8902, 'thenumberfilters': 12053, 'derby': 3368, 'wannatrack': 13216, 'villanueva': 12938, 'paraphernalia': 8821, 'wannabirch': 13074, 'wannalie': 13140, 'plasma': 9146, 'whaddup': 13411, 'orientation': 8631, 'peoplethey': 8950, 'fairweather': 4331, 'lull': 7332, 'krayzie': 6760, 'tompkins': 12281, 'approximating': 848, 'ragdoll': 9677, 'soetoroobama': 11153, 'downsize': 3698, 'oppressive': 8595, 'creaked': 2977, 'sociological': 11147, 'sprayed': 11340, 'coquette': 2872, 'topnumberfavorite': 12329, 'facilitate': 4299, 'sugapuss': 11640, 'dumbbbb': 3819, 'pessimistic': 8999, 'raced': 9656, 'awaaaaay': 1068, 'nooooooo': 8309, 'nigggas': 8243, 'dasani': 3176, 'household': 5916, 'himnumbergod': 5744, 'unbecoming': 12644, 'doodoo': 3662, 'temporarily': 11939, 'elevated': 3961, 'perfectionist': 8964, 'varies': 12866, 'backtrack': 1136, 'leavinyou': 6920, 'aidcpr': 498, 'fortification': 4741, 'concession': 2730, 'durham': 3833, 'creepcurse': 2998, 'thinner': 12116, 'killinnumberbirds': 6683, 'eagerly': 3861, 'dedicated': 3261, 'breakkkk': 1792, 'decreased': 3259, 'squidward': 11369, 'oesophagus': 8466, 'withnumberbricks': 13562, 'sutler': 11731, 'stern': 11468, 'calvin': 2074, 'lucricus': 7324, 'cream2fly3xl': 2979, 'registeringcurse': 9894, 'somalian': 11175, 'bathsalt': 1277, 'plow': 9184, 'screenshot': 10505, 'spoiling': 11321, 'strapped': 11534, 'biological': 1481, 'taxpayer': 11889, 'funded': 4901, 'ivanych': 6425, 'trapcurse': 12416, 'outttta': 8686, 'pimpinnn': 9088, 'subtweettweettweettweet': 11612, 'suddenlink': 11632, 'observing': 8449, 'eyyyy': 4282, 'warren': 13265, 'appliance': 830, 'surrender': 11715, 'divinity': 3608, 'conqueror': 2778, 'apocalypse': 804, 'susan': 11722, 'silverware': 10883, 'wannace': 13084, 'clyburn': 2566, 'schoolgirl': 10460, 'minim': 7776, 'asakacurse': 915, 'foodlovers': 4663, 'fingeredcurse': 4510, '2500': 121, 'brainer': 1764, 'switcheroo': 11784, 'hc2k14': 5602, 'moustache': 7951, 'lightness': 7031, 'newsflash': 8194, 'trillion': 12471, 'mortgage': 7917, 'brokanese': 1845, 'tarantula': 11871, 'filterless': 4489, 'sisdari': 10919, 'tartar': 11874, 'handjob': 5473, 'teairri': 11903, 'crazythe': 2973, 'embitter': 3995, 'tendon': 11948, 'technology': 11917, 'penetrated': 8937, 'owncurse': 8743, 'mineeeee': 7773, 'pleading': 9174, 'awesomeness': 1082, '6303625206': 221, 'handled': 5475, 'flatboat': 4574, 'pilchard': 9077, 'krackerwheat': 6757, 'repeating': 9967, 'allllllll': 559, 'crycurse': 3059, 'removing': 9954, 'hypnotized': 5989, 'retorted': 10058, 'buscurse': 1972, 'greece': 5297, 'gotnumbermillion': 5210, '631': 222, 'hollerin': 5814, 'lyinggggg': 7355, 'bynumbercock': 2024, 'broadnumberdays': 1841, 'knowsgood': 6744, 'punk': 9558, 'darkskinned': 3171, 'mulatto': 7995, 'chillllll': 2389, 'ouutttt': 8687, 'composure': 2708, 'crawfish': 2966, 'maplerow': 7476, 'lassie': 6831, 'intimate': 6309, 'involving': 6341, 'oneblack': 8549, 'circulated': 2466, 'frenzy': 4802, 'investment': 6331, 'ofnumbermins': 8495, 'almostnumberyears': 578, 'standslike': 11405, 'breaker': 1789, 'pussytalking': 9594, 'sincenumberrt': 10897, 'stinking': 11488, 'midian': 7730, 'diarrhoea': 3444, 'bathroomcurse': 1276, 'pinchbach': 9091, 'fort': 4739, 'choosable': 2420, 'disparagement': 3569, 'accipiter': 336, 'tachiro': 11813, 'accipitridae': 337, 'hasnumbergreat': 5545, 'conquering': 2777, 'insidious': 6242, 'restructured': 10038, 'narrative': 8099, 'outline': 8671, 'pissed': 9106, 'summed': 11653, 'ideological': 6015, 'snowposh': 11105, 'scottcharlie': 10487, 'midst': 7733, 'chestnut': 2367, 'glenbrittle': 5111, 'hoesnow': 5797, 'scouting': 10491, 'ordeal': 8610, 'homage': 5826, 'butnumberyo': 1992, 'fowl': 4758, 'trashyyy': 12430, 'intensity': 6281, 'bankhead': 1211, 'havenumberhours': 5576, 'leftisthomosexual': 6938, 'infiltration': 6165, 'priesthood': 9400, 'raping': 9723, 'continuously': 2817, 'ritual': 10149, 'stool': 11508, 'tackled': 11816, 'historically': 5764, 'pilgrim': 9080, 'billion': 1474, 'awfully': 1084, 'compel': 2688, 'sacred': 10309, 'suspicion': 11728, 'geometry': 5037, 'wannacomplain': 13089, 'dietoday': 3472, 'brazier': 1782, 'taper': 11866, 'qutadacurse': 9647, 'implacable': 6086, 'lantern': 6816, 'affiliation': 439, 'kinsman': 6699, 'voiced': 12984, 'willow': 13514, 'atnumberyears': 994, 'deprecating': 3360, 'earle': 3865, 'courting': 2930, 'ripe': 10137, 'rabchenko': 9652, 'grandmama': 5262, 'granuloma': 5272, 'andnumberchariots': 666, 'marecurse': 7485, 'wannaspeak': 13197, 'interrupting': 6303, 'arenumbertypes': 872, 'beeeitch': 1330, 'likenumberwks': 7083, 'consistency': 2792, 'likenumberwhite': 7082, 'likenumberinjuries': 7054, 'lawn': 6876, 'headlight': 5614, 'aaliyah': 271, 'boringgggg': 1694, 'wannarock': 13174, 'bestfriends': 1422, 'irriirri': 6369, 'redundant': 9858, 'drawincurse': 3730, 'monthly': 7891, 'smite': 11064, 'asiatic': 926, 'headfuck': 5612, 'robbed': 10161, 'nay': 8121, 'loyally': 7313, 'replaced': 9970, 'cheque': 2358, 'wannabet': 13073, 'vaginal': 12836, '30thcurse': 145, 'overnumbern': 8719, 'thannumberfeet': 12004, 'somenumberrims': 11186, 'designing': 3390, 'shipper': 10762, 'ronkieshietta': 10207, 'selection': 10583, 'premature': 9354, 'babygirl': 1115, 'thannumbercontacts': 12003, 'penetrate': 8936, 'generous': 5018, 'clumsy': 2563, 'hoesthey': 5803, 'invading': 6324, 'chimney': 2393, 'expand': 4229, 'cellular': 2233, 'transmitted': 12413, 'flawlesscurse': 4581, 'retaken': 10044, 'sandy': 10372, 'thisnumberweather': 12128, 'thisnumberyr': 12129, 'amiss': 629, 'cig': 2455, 'fraudulent': 4777, 'putscurse': 9599, 'sped': 11278, 'invoke': 6337, 'upland': 12750, 'backed': 1124, 'butnumbertimes': 1991, 'toothbrush': 12319, 'sharpen': 10708, 'lightbill': 7026, '650': 225, 'thenumberfornumberat': 12054, 'ingram': 6180, 'horseradish': 5890, 'dyed': 3848, '26th': 126, 'irina': 6360, 'insisting': 6244, 'earningnumberfigures': 3871, 'mnumbercurse': 7827, 'wilkes': 13506, 'cocain': 2579, 'jordannumberrings': 6544, 'aboutnumberfeet': 299, 'registration': 9895, 'fornumber': 4721, '2005': 96, 'carcurse': 2133, 'incrediblycurse': 6126, 'tailgating': 11825, 'mouthed': 7954, 'overlapping': 8709, 'admitting': 405, 'nitscurse': 8267, 'hypocrisycurse': 5991, 'hairstylist': 5433, 'gotnumberseconds': 5219, 'alias': 538, 'marco': 7483, 'thornton': 12134, 'coburg': 2578, 'tryingnumberad': 12518, 'amendmentnumbera': 621, 'turfcurse': 12543, 'spinelli': 11305, 'almond': 573, 'flour': 4622, 'emergence': 4003, 'coldly': 2608, 'reacts': 9769, 'rurik': 10279, 'branding': 1772, 'somecurse': 11181, 'village': 12936, 'weib': 13369, 'censor': 2238, 'wannamake': 13147, 'sooooooooooooo': 11211, 'boost': 1680, 'assignment': 953, 'submitted': 11603, 'chit': 2408, 'blotch': 1613, 'idaho': 6010, 'klapp': 6714, 'biggacurse': 1459, 'takenumberhours': 11833, 'muddling': 7982, 'mouthmoral': 7955, 'sweetnumberand': 11763, 'aquarium': 853, 'lining': 7112, 'aureus': 1041, 'michonne': 7721, 'gutted': 5380, 'timenumberkillnumberbirds': 12223, 'hoeshashtag': 5793, 'euphoric': 4143, 'krug': 6766, 'funfetti': 4903, 'likenumberpounds': 7071, 'sunburnt': 11662, 'likenumberwhen': 7081, 'apostle': 812, 'reception': 9820, 'mcribcurse': 7582, 'bullshittin': 1938, 'sharpening': 10710, 'thoroughly': 12136, 'intoxicated': 6316, 'rabble': 9651, 'lavergne': 6869, 'rabies': 9653, 'poppin': 9254, 'voicemostly': 12985, 'topnumberstankiest': 12332, 'totaled': 12352, 'gable': 4931, 'hoesnumberbynumberrt': 5798, 'partiesplay': 8854, 'houseyall': 5920, 'expandcurse': 4230, 'numberadult': 8356, 'connecticut': 2773, 'truuuuuuuuue': 12513, 'truuuuuuuuuuu': 12514, 'tomatopotato': 12275, 'sawdust': 10420, 'sodium': 11152, '299': 132, 'wannasaved': 13179, 'innumberand': 6204, 'rebound': 9806, 'enduring': 4036, 'unwilling': 12743, 'mcbitcherson': 7574, 'fossil': 4746, 'wannakiss': 13133, 'pinkcurse': 9095, 'tymnumberlyt': 12607, 'youuuucurse': 13801, 'fulton': 4893, 'overstepped': 8732, 'plumped': 9187, 'wannapas': 13162, 'dyke': 3851, 'crucial': 3041, 'first1488': 4534, 'ratchetness': 9736, 'inclination': 6112, 'baptism': 1219, 'cruzaba': 3055, 'tropieza': 12489, 'unintended': 12696, 'birdddd': 1488, 'routed': 10243, 'val': 12838, 'moneyvalue': 7870, 'vandalia': 12854, 'pursuit': 9574, 'vinesse': 12945, 'greeted': 5307, 'contracting': 2821, 'trustcurse': 12504, 'vintagebaublesnbits': 12947, 'auntie': 1037, 'primitive': 9404, 'virtually': 12960, 'acceptance': 327, 'mk': 7822, 'm203curse': 7362, 'distribution': 3595, 'wobbers': 13591, 'restored': 10033, 'separation': 10620, 'bubblesnumberurl': 1899, 'replacement': 9971, 'cast': 2182, 'silverdome': 10882, 'ballroom': 1187, 'neillsville': 8161, 'veranda': 12888, 'thunderpunched': 12182, 'wagwuan': 13026, 'beatcurse': 1305, 'clipping': 2536, 'bower': 1733, 'numberhashtag': 8373, 'bitchkeep': 1530, 'sycksyllables': 11793, 'littered': 7143, 'wannafind': 13105, 'boootyyyyy': 1678, 'hence': 5678, 'nahhhhhh': 8074, 'washpost': 13275, 'askedanswering': 933, 'bestmost': 1423, 'livestock': 7154, 'blinded': 1591, 'malicious': 7430, 'leftnumberbabies': 6939, 'wannahoe': 13122, 'ritchie': 10147, 'menace2society': 7641, 'reconnaissance': 9831, 'splashed': 11316, 'figuratively': 4474, 'chess': 2362, 'raymond': 9755, 'jayballout': 6469, 'gangstaz': 4959, 'toombs': 12315, 'alottacurse': 583, 'hmmmmm': 5779, 'cadaver': 2042, 'weary': 13344, 'blindman': 1593, 'frosted': 4841, 'lipgloss': 7119, 'dispossession': 3578, 'reconquista': 9832, 'prowl': 9515, 'woodrow': 13614, 'babycurse': 1113, 'minusnumbermins': 7785, 'hashtagnumberelements': 5542, 'bitchnumberwildcards': 1543, 'blasted': 1574, 'musician': 8020, 'thud': 12171, 'wannaholly': 13124, 'knowledgeable': 6740, 'tweet': 12572, 'sniveling': 11097, 'comprehend': 2710, 'tetanus': 11975, 'masturbating': 7544, 'misplaced': 7799, 'victimized': 12920, 'caller': 2067, 'wannaguard': 13114, 'jamboree': 6452, 'flatter': 4575, 'chapsnat': 2297, 'pearlblueyes': 8917, 'mynumberdollars': 8046, 'caused': 2204, 'wannanut': 13157, 'audible': 1029, 'wasnumber': 13278, 'steppe': 11460, 'easing': 3881, 'accessible': 330, 'russo': 10289, 'ofnumberi': 8492, 'saldana': 10339, 'lodge': 7215, 'whyyyyy': 13485, 'sexually': 10668, 'monogram': 7884, 'thundering': 12181, 'truelike': 12500, 'clancurse': 2489, 'faites': 4334, 'wannacheat': 13086, 'hotdog': 5904, 'tailgate': 11824, 'oldhead': 8529, 'bruce': 1876, 'wannakick': 13131, 'healing': 5620, 'dioxide': 3505, 'curiosity': 3087, 'cautioned': 2208, 'menumberbucks': 7669, 'reasonable': 9798, 'frolic': 4825, 'voltorn': 12990, 'expendable': 4237, 'jailmail': 6447, 'hansom': 5491, 'schoolhigh': 10461, 'midlaner': 7731, 'wannaanother': 13058, 'thorough': 12135, 'heroine': 5697, 'datnumberu': 3188, 'ramlogan': 9704, 'unpunished': 12725, 'porter': 9270, 'whoooooaaa': 13478, 'snugly': 11111, 'whynumberdudes': 13484, 'spotless': 11335, 'thehashtag': 12029, 'apparel': 813, 'doughnut': 3681, 'havenumbercurse': 5574, 'alexis': 532, 'assistance': 955, 'withnumberteeth': 13571, 'bothering': 1709, 'boycott': 1743, 'gotnumbermonths': 5211, 'modification': 7852, 'instagrams': 6256, 'prospector': 9489, 'traytray': 12436, 'coordinate': 2862, 'dodo': 3622, 'demsnumbercandidate': 3333, 'interlagos': 6296, 'willcurse': 13509, 'palsy': 8791, 'likenumberof': 7063, 'thenumberdays': 12049, 'shitnumberyears': 10772, 'rebellious': 9803, 'tit': 12240, 'babymama': 1116, 'influential': 6172, 'yeahhhhhhh': 13741, 'okkkk': 8524, 'mentalking': 7648, 'lifeapparently': 7018, 'monetary': 7865, 'woot': 13618, 'completed': 2702, 'sixth': 10931, 'handcuffscurse': 5465, 'mayo': 7570, 'condiment': 2740, 'barcelona': 1229, 'racked': 9669, 'upwards': 12764, 'ofnumberreleased': 8499, 'pagenaud': 8764, 'slandered': 10972, 'numbernights': 8386, 'acabcurse': 320, 'poorest': 9247, 'wannadifferent': 13098, 'basiccurse': 1260, 'farther': 4374, 'diiiccckkk': 3485, 'entertained': 4070, 'lowering': 7307, 'monistat': 7876, 'weaving': 13347, 'jefecurse': 6477, 'ymcmb': 13766, 'witchuuuu': 13553, 'torpedo': 12342, 'yaaaaaas': 13702, 'yaaaasss': 13704, 'yaaaassss': 13705, 'yaaasss': 13707, 'yahhhhhh': 13710, 'sidechiccs': 10854, 'whataburger': 13415, 'risking': 10145, 'bandy': 1202, 'singly': 10909, 'innumberannouncing': 6205, 'milky': 7756, 'lostnumberstrait': 7274, 'browncurse': 1868, 'yayyyy': 13731, 'crouch': 3031, 'hollering': 5815, 'whitenumberchanged': 13458, 'acne': 363, '31': 146, 'venner': 12881, 'summon': 11658, 'throwbac': 12165, 'limestone': 7094, 'overnumberof': 8721, 'evaluation': 4154, 'thenumberscrapehouse': 12062, 'bullshitin': 1937, 'gargle': 4970, 'portsmouth': 9273, 'likenumbertranny': 7079, 'slutttt': 11035, 'cleancurse': 2508, 'pairnumberdays': 8780, 'bitchesho': 1520, 'thief': 12102, 'hahahahahahahahahahaha': 5419, 'sarcophagus': 10389, 'lmfaaoo': 7175, 'estime': 4133, 'exercise': 4217, 'curing': 3086, 'boyyyyyyyycurse': 1749, 'menumberft': 7672, 'pleasant': 9175, 'slitting': 11015, 'packer': 8758, 'aroundnumberyear': 891, 'landfill': 6809, 'burden': 1951, 'luther': 7345, 'littlejohn': 7146, 'upright': 12759, 'poisoning': 9207, 'sonlook': 11200, 'lung': 7340, 'juicy': 6569, 'cavity': 2211, 'bossing': 1705, 'shining': 10757, 'capuano': 2128, 'overnumberfoot': 8717, 'andnumberlbs': 673, 'shoningyou': 10787, 'appears': 822, 'edgewood': 3912, 'wannahot': 13125, 'wannabugatti': 13081, 'wannamaserati': 13149, 'thingamabob': 12108, 'blown': 1617, 'fuckhead': 4871, 'oder': 8465, 'thumpercurse': 12178, 'charmed': 2312, 'gravedigger': 5284, 'warlike': 13256, 'joystick': 6554, 'carve': 2175, 'mothafucka': 7927, 'adjustment': 397, 'intercourse': 6288, 'inflamed': 6168, 'wannastab': 13202, 'mascato': 7527, 'hinouchi': 5748, 'aaahhhhh': 269, 'printed': 9413, 'pooh': 9242, 'erinblair': 4109, 'ruza': 10297, 'foolnumberdis': 4670, 'mellow': 7629, 'infamous': 6155, 'follownumberpeople': 4654, 'showcurse': 10820, 'almightydavehunna': 572, 'suite': 11647, 'holmes': 5821, 'maintain': 7411, 'thumbelina': 12177, 'sailing': 10326, 'aboutnumberpopping': 304, 'andnumberditch': 668, 'borrownumberdollars': 1700, 'pago': 8766, 'mowed': 7963, 'nocturnal': 8282, 'pleeeease': 9180, 'peoplenumberurl': 8949, 'ddaaawwgggffaaaccee': 3216, 'cccaalldddeerooonn': 2214, 'drizzown': 3768, 'downnnn': 3696, 'hillllll': 5739, 'trail': 12385, 'nothincurse': 8326, 'brillianthaha': 1824, 'bitchnumberdifferent': 1535, 'trotting': 12490, 'overwhelmed': 8736, 'mentioning': 7655, 'thannumberpeople': 12008, 'injured': 6189, 'literallynumberof': 7139, 'wedged': 13354, 'sapphire': 10383, 'earrings': 3873, '18k': 76, 'alexandria': 531, 'emerald': 4002, 'detective': 3408, 'polygamist': 9230, 'wannatrust': 13220, 'yooooo': 13773, 'errrrything': 4115, 'tyrant': 12614, 'mavra': 7563, 'downspouts': 3699, 'usesnumberirish': 12813, 'spankeddd': 11254, 'canned': 2106, 'cheyenne': 2370, 'beth': 1430, 'damning': 3144, 'openwork': 8582, 'wannaback': 13066, 'slumber': 11028, 'satisfying': 10400, 'climbing': 2529, 'fornumberminutesme': 4730, 'lmfaoooooooooooo': 7192, 'dodgerofzion': 3621, 'tray': 12435, 'anythingbirds': 786, 'eggnog': 3928, 'soulmate': 11228, 'annumbersea': 728, 'taquitos': 11869, 'ember': 3994, 'universally': 12705, 'comic': 2653, 'extent': 4266, 'nooooooooo': 8311, 'wannarubber': 13177, 'reblog': 9804, 'circled': 2464, 'metairie': 7703, 'flicking': 4598, 'trinaaa': 12474, 'katrinaaaa': 6623, 'bitchnumbermil': 1538, 'geekylesbianscientists': 5003, 'theblairbetch': 12021, 'douglasrichardsonships': 3684, 'kayla': 6625, 'adduct': 394, 'givenchy': 5099, 'glenladen': 5112, 'wardrop': 13251, 'concrete': 2734, 'likenumbercunts': 7045, 'gottanumberfor': 5226, 'sidetracked': 10862, 'greatwhiteprivilege': 5296, 'zucchini': 13835, 'complains': 2699, 'dirtyyyy': 3523, 'tweethahaha': 12574, 'girlfriendcurse': 5086, 'yr': 13805, 'anumbermile': 758, 'splitting': 11318, 'unhinged': 12692, 'capitalism': 2119, 'shawnda': 10721, 'bo': 1630, 'dandelion': 3153, 'thinkinnumberturns': 12114, 'genus': 5035, 'aftermath': 450, 'meditation': 7612, 'islamophobe': 6383, 'aftercurse': 449, 'exercising': 4218, 'shavedcurse': 10715, 'peggy': 8932, 'purplecurse': 9568, 'cleopatra': 2517, 'fondlescurse': 4658, 'steaming': 11444, 'assurance': 968, 'holocaust': 5823, 'anumberounce': 762, 'jewellery': 6502, 'summit': 11657, 'bootyyyyyy': 1685, 'nonstop': 8301, 'pastnumberhours': 8872, 'dedicationnumberabout': 3262, 'handmade': 5477, 'chickenshrimp': 2377, 'flea': 4584, 'bignumberyaknowcurse': 1465, 'tissue': 12239, 'reblogged': 9805, 'hatty': 5567, 'depreciation': 3361, 'emosquad2k10': 4012, 'eachotha': 3858, 'fa': 4284, 'michaelangelo': 7717, 'yaaaaaaasss': 13701, 'seafood': 10528, 'toothed': 12320, 'iosnumberautocorrect': 6345, 'capitalizing': 2121, 'hinumbermyself': 5750, 'supervisor': 11686, 'aboutnumberbodies': 296, 'everrrrrrr': 4165, 'slower': 11024, 'anumbergame': 754, 'doingnumbergame': 3632, 'resurrected': 10042, 'fowler': 4759, 'itsnumberdont': 6418, 'shittiest': 10775, 'voodoonumberu': 12996, 'freebee': 4787, 'unattractivecurse': 12643, 'unlocking': 12717, 'badgesstickers': 1144, 'wannablack': 13076, 'umbrella': 12635, 'ikenumberdegrees': 6042, 'weeaboo': 13358, 'horncurse': 5879, 'boyyyyyy': 1748, 'subordinate': 11605, 'snumberbitches': 11117, 'anumbermin': 760, 'beennumberyears': 1333, 'decline': 3257, 'throughnumberfags': 12162, 'mercurial': 7681, 'retrograde': 10063, 'affecting': 436, 'hesitating': 5704, 'samson': 10360, 'notenumberfails': 8325, 'jooooooked': 6541, 'usernumberold': 12796, '202': 101, 'tailor': 11826, 'muttered': 8040, 'aloud': 584, 'tiller': 12210, 'falcon': 4339, '1718': 63, 'sg': 10671, 'yellowwhite': 13753, 'lmfaoooooooocurse': 7188, 'dartos': 3175, 'mnumberyears': 7831, 'collaboration': 2611, '590': 208, 'homer': 5836, 'nhl14': 8205, 'saddened': 10315, 'ofnumberafter': 8489, 'maryjanemilitantque': 7523, 'mickeyblowsyourmind': 7722, 'fuller': 4890, 'menthol': 7650, 'supper': 11688, 'wicker': 13489, 'creamy': 2982, 'mariachi': 7490, 'isnumberof': 6390, 'showsbecause': 10826, 'sheriff': 10736, 'fwhercurse': 4926, 'sirhampton': 10917, 'rosy': 10226, 'chronic': 2442, 'repressed': 9985, 'daynumberbitch': 3206, 'themnumberbitches': 12036, 'boiler': 1643, 'domingo': 3641, 'regularly': 9899, 'submitting': 11604, 'insufferable': 6266, 'committee': 2671, 'murderer': 8004, 'centimetre': 2247, 'untamed': 12734, 'reminding': 9946, 'dual': 3797, 'mikepps': 7744, 'werenumbergranola': 13395, 'equino': 4098, 'phantom': 9016, 'likenumberrunning': 7074, 'constitutionalists': 2803, 'ratify': 9742, 'centerpiece': 2246, 'rolledcurse': 10197, 'assnumberjammin': 957, 'moscato': 7919, 'ppppoppin': 9317, 'bitchezzz': 1526, 'wannarighteous': 13172, 'hairless': 5430, 'numbernumbernever': 8395, 'aftertaste': 458, 'disposition': 3577, 'mileage': 7749, 'hjhdyhdhlgjdftilh': 5777, 'speck': 11274, 'dwarf': 3842, 'apt': 850, 'elsewhere': 3987, 'boast': 1633, 'likenumberppl': 7072, 'wobbed': 13589, 'unfolded': 12683, 'audacity': 1028, 'harley': 5521, 'sturgis': 11589, 'retardcurse': 10046, 'arena': 866, 'sykeeee': 11795, 'broadcaster': 1840, 'satirical': 10396, 'bittersweet': 1553, 'loudly': 7283, 'rosa': 10217, 'ossis': 8641, 'onnumberdif': 8563, 'witnumberdif': 13581, 'hamburg': 5454, 'donatella': 3649, 'inspires': 6251, 'wannatrash': 13217, 'menumbermins': 7674, 'seamstress': 10532, 'eurostar': 4148, 'goodly': 5175, 'sadness': 10319, 'fragility': 4765, 'snumberpeople': 11127, 'stem': 11453, 'drunkthey': 3792, 'ugliness': 12622, 'advocatecurse': 427, 'iosnumbertrash': 6348, 'popcorncurse': 9250, 'othercats': 8645, 'thefuckkkk': 12028, 'chained': 2264, 'donumberthem': 3660, 'zodiac': 13831, 'thugga': 12172, 'linsey': 7116, 'doc': 3616, 'lasagna': 6827, 'notorious': 8335, 'thriving': 12157, 'economic': 3901, 'sector': 10553, 'visibility': 12963, 'notnumberanymore': 8332, 'onnumberdates': 8562, 'ughcurse': 12619, 'leathercurse': 6917, 'windoowww': 13520, 'breathcurse': 1796, 'tonightnumberda': 12292, 'angelcurse': 692, 'badonkadonks': 1149, 'coleslaw': 2609, 'whheeet': 13433, 'towelhead': 12367, 'chokerscurse': 2417, 'brownienumberbrunch': 1870, 'mimosa': 7766, 'cavsnumbermonths': 2213, 'finnegan': 4519, 'brewer': 1807, 'booshie': 1679, 'valor': 12845, 'wondertrade': 13608, 'levelnumberjapanese': 6984, 'wobbuffet': 13594, 'levelnumberbeginning': 6982, 'layout': 6884, 'shapely': 10698, 'eurotrash': 4149, 'manbooty': 7445, 'boogawolf': 1667, 'fucccckkkkkk': 4858, 'yournumberstop': 13794, 'typenumberdiabetes': 12610, 'muthafin': 8033, 'hymnscurse': 5987, 'eleven': 3964, 'dahlia': 3130}\n",
            "[[0. 0. 0. ... 0. 0. 0.]\n",
            " [0. 0. 0. ... 0. 0. 0.]\n",
            " [0. 0. 0. ... 0. 0. 0.]\n",
            " ...\n",
            " [0. 0. 0. ... 0. 0. 0.]\n",
            " [0. 0. 0. ... 0. 0. 0.]\n",
            " [0. 0. 0. ... 0. 0. 0.]]\n"
          ],
          "name": "stdout"
        }
      ]
    },
    {
      "cell_type": "code",
      "metadata": {
        "colab": {
          "base_uri": "https://localhost:8080/"
        },
        "id": "fW72WQTJ95dP",
        "outputId": "0d7cc1a7-f56f-4974-b915-b17c15265884"
      },
      "source": [
        "X_TFIDF.shape"
      ],
      "execution_count": 15,
      "outputs": [
        {
          "output_type": "execute_result",
          "data": {
            "text/plain": [
              "(24783, 13839)"
            ]
          },
          "metadata": {
            "tags": []
          },
          "execution_count": 15
        }
      ]
    },
    {
      "cell_type": "markdown",
      "metadata": {
        "id": "uDkuS8-O36N_"
      },
      "source": [
        "### TFIDF + N-grams"
      ]
    },
    {
      "cell_type": "code",
      "metadata": {
        "id": "ltV5WBMb-Pe1",
        "colab": {
          "base_uri": "https://localhost:8080/"
        },
        "outputId": "3b05bc38-f2b3-4900-9ca0-9f33897027e3"
      },
      "source": [
        "# Define our vectorizer, using the TfidfVectorizer class from sklearn\r\n",
        "vectorizer_ngrams = TfidfVectorizer(ngram_range=(1, 3), min_df=3)\r\n",
        "\r\n",
        "# Fit and transform over our data\r\n",
        "X_TFIDF_Ngrams = vectorizer_ngrams.fit_transform(X_raw)\r\n",
        "\r\n",
        "# Show results\r\n",
        "print(vectorizer_ngrams.vocabulary_)\r\n",
        "print(X_TFIDF_Ngrams.toarray())"
      ],
      "execution_count": 16,
      "outputs": [
        {
          "output_type": "stream",
          "text": [
            "{'user': 16539, 'woman': 18077, 'not': 11545, 'complain': 3408, 'cleaning': 3257, 'house': 7518, 'amp': 631, 'man': 9853, 'always': 430, 'take': 15308, 'trash': 16154, 'user woman': 17328, 'woman not': 18092, 'not complain': 11592, 'house amp': 7519, 'take trash': 15335, 'boy': 2555, 'day': 4156, 'cold': 3315, 'tea': 15409, 'down': 4548, 'bad': 1221, 'coffin': 3313, 'dat': 4119, 'he': 6930, '1st': 17, 'place': 12968, 'user boy': 16625, 'dat he': 4128, 'mention': 10068, 'dawn': 4150, 'you': 18332, 'ever': 4881, 'fuck': 5510, 'bitch': 1838, 'start': 14912, 'cry': 3642, 'confused': 3436, 'shit': 14247, 'user you': 17341, 'you ever': 18364, 'ever fuck': 4887, 'fuck bitch': 5529, 'bitch start': 2289, 'start cry': 14915, 'cry you': 3651, 'user you ever': 17345, 'look': 9483, 'like': 9048, 'tyranny': 16428, 'user mention': 16925, 'mention look': 10394, 'look like': 9500, 'like tyranny': 9256, 'user mention look': 16975, 'mention look like': 10395, 'look like tyranny': 9516, 'the': 15586, 'hear': 7086, 'might': 10700, 'true': 16259, 'baker': 1283, 'told': 16041, 'curse': 3702, 'user the': 17207, 'the shit': 15647, 'bitch told': 2328, 'told curse': 16044, 'of': 11976, 'blow': 2456, 'faithful': 5067, 'somebody': 14696, 'still': 14968, 'fucking': 5643, 'hoe': 7249, 'of user': 12310, 'still fucking': 14983, 'fucking hoe': 5668, 'hoe curse': 7286, 'curse of': 3822, 'of user the': 12340, 'hoe curse of': 7288, 'sit': 14479, 'hate': 6866, 'another': 763, 'got': 6392, 'much': 10887, 'going': 6301, 'user sit': 17165, 'another bitch': 764, 'bitch got': 2034, 'got much': 6462, 'much shit': 10902, 'shit going': 14281, 'cause': 3021, 'am': 451, 'tired': 15956, 'big': 1511, 'birch': 1547, 'coming': 3385, 'skinny': 14501, 'girl': 6114, 'curse user': 3868, 'user cause': 16640, 'cause am': 3025, 'am tired': 586, 'big birch': 1513, 'birch coming': 1589, 'skinny girl': 14505, 'girl curse': 6128, 'get': 5944, 'back': 1182, 'that': 15532, 'of amp': 11990, 'might get': 10703, 'get bitch': 5963, 'bitch back': 1888, 'back amp': 1186, 'that of': 15578, 'hobby': 7247, 'include': 7785, 'fighting': 5214, 'maria': 9938, 'of mention': 12186, 'of bitch': 12019, 'week': 17731, 'curve': 3985, 'everyone': 4949, 'll': 9360, 'walked': 17493, 'conversation': 3466, 'of week': 12360, 'week bitch': 17734, 'of ll': 12161, 'marya': 9955, 'gang': 5898, 'land': 8845, 'so': 14620, 'smoke': 14594, 'loses': 9550, 'yea': 18254, 'go': 6229, 'in': 7724, 'of so': 12260, 'of yea': 12379, 'thing': 15728, 'of bad': 12007, 'bad birch': 1227, 'birch thing': 1749, 'thing like': 15736, 'like of': 9192, 'of bad birch': 12008, 'bad birch thing': 1236, 'birch thing like': 1750, 'bitch get': 2022, 'get of': 6035, 'night': 11299, 'miss': 10747, 'bitch night': 2171, 'miss of': 10750, 'of bitch night': 12026, 'ply': 13041, 'whatever': 17806, 'bitch ply': 2222, 'love': 9572, 'bitch love': 2125, 'love of': 9622, 'cut': 3992, 'everyday': 4947, 'of birch': 12016, 'birch get': 1627, 'get cut': 5976, 'black': 2409, 'bottle': 2518, 'of black': 12030, 'amp bad': 637, 'bad bitch': 1237, 'bitch of': 2193, 'bad bitch of': 1247, 'broke': 2640, 'can': 2915, 'tell': 15437, 'nothing': 11900, 'of broke': 12034, 'broke bitch': 2644, 'bitch can': 1928, 'can tell': 2929, 'tell nothing': 15459, 'nothing of': 11910, 'tell nothing of': 15460, 'cancel': 2936, 'nine': 11482, 'cancel bitch': 2937, 'bitch like': 2106, 'see': 14040, 'wont': 18103, 'change': 3082, 'of can': 12042, 'can see': 2926, 'see hoe': 14054, 'change of': 3086, 'dont': 4499, 'even': 4849, 'suck': 15159, 'dick': 4305, 'video': 17422, 'bout': 2524, 'of fuck': 12088, 'bitch dont': 1978, 'dont even': 4502, 'suck dick': 15162, 'dick of': 4321, 'of curse': 12055, 'fuck in': 5571, 'of fuck bitch': 12090, 'bitch dont even': 1979, 'tip': 15952, 'toying': 16124, 'floor': 5335, 'curl': 3666, 'of got': 12104, 'got bitch': 6405, 'bitch tip': 2324, 'tip toying': 15953, 'curse curl': 3740, 'bitch tip toying': 2325, 'of curse curl': 12056, 'fussy': 5738, 'lip': 9304, 'heaven': 7105, 'door': 4533, 'of fussy': 12095, 'fussy lip': 5809, 'lip like': 9308, 'hitting': 7239, 'of he': 12121, 'met': 10677, 'ocean': 11973, 'dr': 4556, 'gave': 5912, 'pill': 12947, 'gave fussy': 5914, 'need': 11073, 'tipsy': 15954, 'of need': 12200, 'bitch fuck': 2011, 'spend': 14838, 'money': 10786, 'want': 17534, 'business': 2747, 'spend money': 14839, 'want bitch': 17546, 'txt': 16414, 'old': 12438, 'new': 11189, 'letter': 8998, 'old bitch': 12441, 'bitch new': 2167, 'new bitch': 11191, 'bitch fussy': 2017, 'fussy letter': 5803, 'say': 13907, 'would': 18165, 'excited': 4977, 'of say': 12248, 'say in': 13925, 'in back': 7726, 'back old': 1206, 'old birch': 12440, 'birch would': 1775, 'would get': 18176, 'get excited': 5986, 'aunt': 1093, 'murder': 10918, 'game': 5885, 'shut': 14380, 'of aunt': 12002, 'aunt bout': 1095, 'murder game': 10919, 'game fussy': 5892, 'fussy night': 5824, 'night shut': 11435, 'shut of': 14388, 'are': 836, 'toe': 16035, 'ai': 217, 'done': 4487, 'stick': 14963, 'of are': 11996, 'ai not': 218, 'not done': 11609, 'fussy stick': 5854, 'ai not done': 230, 'bitter': 2406, 'wrap': 18209, 'angry': 744, 'bird': 1778, 'there': 15672, 'pp': 13115, 'of in': 12144, 'in done': 7734, 'bitter birch': 2408, 'angry bird': 745, 'of bitch of': 12028, 'aunt nothing': 1110, 'nothing cut': 11904, 'cut bitch': 4000, 'aunt nothing cut': 1111, 'nothing cut bitch': 11905, 'cut bitch of': 4002, 'just': 8603, 'meet': 10045, 'son': 14740, 'mane': 9900, 'as': 920, 'hashtag': 6756, 'of just': 12150, 'as birch': 926, 'birch of': 1698, 'of hashtag': 12115, 'as birch of': 928, 'james': 8499, 'tear': 15424, 'clown': 3284, 'hoe that': 7403, 'stoop': 15033, 'said': 13819, 'of like': 12159, 'dont love': 4514, 'love hoe': 9607, 'hoe of': 7374, 'dont love hoe': 4515, 'mamma': 9844, 'cat': 3003, 'inside': 7815, 'of mamma': 12177, 'mamma said': 9850, 'said fussy': 13833, 'fussy cat': 5765, 'cat inside': 3004, 'mamma said fussy': 9851, 'said fussy cat': 13834, 'fussy cat inside': 5766, 'hated': 6906, 'favorite': 5133, 'hoe favorite': 7305, 'hashtag curl': 6770, 'of hashtag curl': 12116, 'nice': 11236, 'make': 9774, 'naughty': 11060, 'yellow': 18295, 'real': 13411, 'body': 2473, 'south': 14807, 'thick': 15718, 'nice girl': 11238, 'girl bad': 6120, 'he real': 7028, 'like real': 9222, 'thick of': 15725, 'of curl': 12052, 'pip': 12955, 'future': 5877, 'voice': 17451, 'pip hoe': 12957, 'post': 13096, 'picture': 12931, 'post picture': 13098, 'picture fussy': 12933, 'drug': 4608, 'curse hashtag': 3771, 'of curse hashtag': 12057, 'curse hashtag curl': 3772, 'quick': 13311, 'piece': 12937, 'call': 2851, 'drive': 4589, 'piece fussy': 12938, 'fussy call': 5764, 'running': 13786, 'round': 13754, 'brand': 2585, 'tucked': 16330, 'round like': 13756, 'brand new': 2586, 'new fussy': 11194, 'fussy that': 5862, 'bout get': 2532, 'get tucked': 6066, 'tucked of': 16337, 'worst': 18160, 'all': 309, 'send': 14111, 'gun': 6629, 'birch even': 1613, 'talk': 15346, 'of hoe': 12136, 'hoe like': 7344, 'like night': 9187, 'night spend': 11437, 'money talk': 10806, 'talk bout': 15350, 'bout of': 2539, 'hoe like night': 7345, 'trust': 16266, 'of dont': 12069, 'dont trust': 4529, 'trust night': 16273, 'night birch': 11320, 'puffing': 13235, 'never': 11140, 'of all': 11983, 'all night': 369, 'hoe cause': 7277, 'cause all': 3024, 'all aunt': 312, 'aunt never': 1108, 'dodge': 4456, 'bullet': 2719, 'da': 4037, 'pregnant': 13129, 'bound': 2523, 'thank': 15519, 'god': 6290, 'user of': 17055, 'all da': 327, 'da birch': 4039, 'birch cut': 1600, 'thank god': 15522, 'god curse': 6296, 'of curse user': 12060, 'curse user of': 3934, 'user of all': 17058, 'curse of curse': 3825, 'young': 18437, 'music': 10923, 'birch love': 1674, 'anna': 750, 'tramp': 16141, 'probably': 13177, 'twitter': 16382, 'twitter hoe': 16389, 'gay': 5917, 'could': 3505, 'wait': 17470, 'act': 126, 'tonight': 16064, 'user gay': 16753, 'gay night': 5923, 'night could': 11336, 'could not': 3516, 'not wait': 11877, 'act like': 128, 'like birch': 9068, 'tonight of': 16071, 'night could not': 11337, 'could not wait': 3520, 'act like birch': 129, 'and': 712, 'ma': 9677, 'steal': 14949, 'replace': 13571, 'pitbull': 12962, 'user and': 16574, 'and ma': 724, 'mention he': 10305, 'he bitch': 6948, 'curse user and': 3874, 'curse user mention': 3924, 'user mention he': 16965, 'is': 7869, 'gone': 6326, 'amp is': 662, 'is gone': 7965, 'gone always': 6327, 'he of': 7020, 'took': 16083, 'tact': 15304, 'movie': 10877, 'of son': 12263, 'son bitch': 14742, 'bitch took': 2332, 'wannaget': 17516, 'model': 10774, 'russell': 13793, 'money fuck': 10795, 'model birch': 10775, 'wouldncurse': 18207, 'mind': 10727, 'school': 13983, 'didncurse': 4336, 'deal': 4195, 'teacher': 15415, 'between': 1503, 'bitch as': 1869, 'far': 5096, 'user am': 16560, 'am fucking': 500, 'fucking far': 5659, 'far said': 5109, 'said of': 13844, 'of user am': 12312, 'user am fucking': 16562, 'female': 5181, 'think': 15745, 'dating': 4145, 'stuff': 15117, 'user female': 16727, 'female think': 5187, 'fussy cut': 5776, 'cut curl': 4004, 'make fussy': 9792, 'user female think': 16728, 'woof': 18109, 'hot': 7504, 'scaly': 13968, 'lad': 8824, 'curl woof': 3697, 'scaly lad': 13969, 'have': 6914, 'asked': 1049, 'any': 793, 'yes': 18315, 'user have': 16799, 'have ever': 6916, 'ever asked': 4884, 'asked bitch': 1050, 'bitch birch': 1902, 'birch any': 1561, 'any voice': 795, 'of yes': 12382, 'how': 7531, 'bring': 2619, 'or': 12598, 'side': 14420, 'know': 8736, 'friend': 5481, 'swear': 15242, 'user how': 16824, 'how gone': 7544, 'side bitch': 14423, 'bitch game': 2018, 'you know': 18382, 'know of': 8790, 'of friend': 12085, 'friend curse': 5483, 'of user how': 12322, 'user how gone': 16828, 'sol': 14670, 'user curl': 16659, 'of user curl': 12315, 'eat': 4707, 'orel': 12628, 'dish': 4393, 'one': 12502, 'of one': 12222, 'maybe': 10000, 'better': 1483, 'mention bitch': 10126, 'fuck curl': 5541, 'maybe all': 10001, 'all get': 339, 'get better': 5961, 'of user mention': 12330, 'user mention bitch': 16939, 'mention bitch fuck': 10133, 'red': 13505, 'alone': 416, 'nigh': 11279, 'please': 13023, 'use': 16530, 'complete': 3411, 'sentence': 14127, 'user fuck': 16744, 'man bitch': 9862, 'as nigh': 993, 'nigh of': 11293, 'of could': 12046, 'of user fuck': 12317, 'why': 17935, 'eggplant': 4744, 'embolus': 4778, 'doe': 4457, 'looked': 9524, 'scream': 14007, 'may': 9980, 'user why': 17319, 'eggplant embolus': 4745, 'looked like': 9525, 'of user why': 12347, 'tennessee': 15480, 'it': 8112, 'sex': 14157, 'it curse': 8121, 'curl is': 3680, 'is one': 8026, 'sex bitch': 14161, 'curse curl is': 3744, 'him': 7201, 'she': 14201, 'shower': 14375, 'user him': 16811, 'hashtag of': 6824, 'of it': 12147, 'it may': 8150, 'every': 4907, 'pick': 12912, 'posted': 13099, 'racism': 13331, 'user hashtag': 16782, 'every hashtag': 4918, 'hashtag need': 6819, 'need see': 11108, 'see pick': 14065, 'bitch said': 2246, 'racism shit': 13335, 'shit of': 14305, 'of user hashtag': 12320, 'to': 15966, 'wood': 18108, 'pushing': 13271, 'maggot': 9733, 'ball': 1291, 'life': 9019, 'user to': 17234, 'to fuck': 15992, 'man ball': 9860, 'life curl': 9027, 'curl mention': 3685, 'of user to': 12343, 'baby': 1162, 'monkey': 10811, 'this': 15802, 'soon': 14761, 'adorable': 167, 'user baby': 16586, 'baby monkey': 1178, 'curl this': 3693, 'damn': 4075, 'sappy': 13882, 'user curse': 16660, 'curse ai': 3706, 'not shit': 11816, 'of damn': 12062, 'of user curse': 12316, 'curse ai not': 3707, 'ai not shit': 269, 'kill': 8670, 'ant': 781, 'way': 17652, 'no': 11487, 'must': 10931, '30': 40, 'chance': 3081, 'user ever': 16709, 'damn night': 4090, 'night way': 11472, 'way get': 17659, 'get fussy': 5995, 'fussy of': 5827, 'of no': 12209, 'no is': 11497, 'way get fussy': 17660, 'get fussy of': 5996, 'kid': 8669, 'growing': 6596, 'user pp': 17104, 'fact': 5046, 'tattoo': 15402, 'nipple': 11484, 'the fact': 15608, 'is fussy': 7955, 'user the fact': 17208, 'wanting': 17599, 'curse mention': 3803, 'mention birch': 10121, 'birch wanting': 1768, 'night bad': 11316, 'bad curse': 1256, 'curse shit': 3844, 'shit aunt': 14255, 'of night': 12207, 'night act': 11300, 'user curse mention': 16665, 'act like night': 135, 'night act like': 11301, 'user get': 16754, 'bitch curl': 1953, 'now': 11919, 'lost': 9555, 'piercing': 12943, 'yeah': 18259, 'user now': 17053, 'now mention': 11933, 'mention am': 10084, 'yeah is': 18267, 'is he': 7976, 'of user now': 12333, 'ok': 12429, 'his': 7210, 'rather': 13384, 'shrug': 14379, 'work': 18116, 'user ok': 17081, 'his of': 7215, 'of she': 12253, 'queer': 13304, 'queer of': 13307, 'read': 13403, 'sweet': 15260, 'funny': 5725, 'mention maggot': 10403, 'dat of': 4132, 'of not': 12212, 'not even': 11615, 'even funny': 4854, 'user mention maggot': 16977, 'ungrateful': 16482, 'fr': 5444, 'user this': 17226, 'this bitch': 15806, 'of user this': 12342, 'user this bitch': 17227, 'to bitch': 15971, 'to bitch of': 15982, 'beaver': 1394, 'mexican': 10682, 'tell he': 15452, 'happy': 6717, 'birthday': 1826, 'fig': 5197, 'thanks': 15524, 'mention happy': 10294, 'happy birthday': 6719, 'birthday fig': 1831, 'fig of': 5204, 'user mention happy': 16961, 'mention happy birthday': 10295, 'happy birthday fig': 6722, 'homework': 7456, 'user or': 17091, 'curl bitch': 3667, 'bitch need': 2165, 'need go': 11086, 'eating': 4725, 'hell': 7112, 'john': 8561, 'paul': 12777, 'mention night': 10438, 'night eating': 11351, 'he ll': 7003, 'll of': 9403, 'of hell': 12126, 'hell yea': 7118, 'night said': 11428, 'of user of': 12334, 'user of user': 17077, 'user mention night': 16983, 'of hell yea': 12127, 'what': 17782, 'ugly': 16435, 'bald': 1287, 'headed': 7079, 'stop': 15034, 'making': 9828, 'up': 16505, 'weave': 17715, 'user what': 17282, 'bald headed': 1289, 'headed birch': 7080, 'birch stop': 1732, 'stop making': 15052, 'make up': 9823, 'weave of': 17716, 'of user what': 12345, 'bald headed birch': 1290, 'lead': 8906, 'win': 17985, 'riot': 13693, 'shit hashtag': 14284, 'of better': 12014, 'attend': 1081, 'user going': 16767, 'going back': 6302, 'back school': 1207, 'dick hoe': 4318, 'on': 12455, 'anumberyear': 790, 'user on': 17083, 'on way': 12499, 'way fuck': 17656, 'fuck to': 5625, 'anumberyear old': 791, 'of user on': 12335, 'user on way': 17085, 'on way fuck': 12500, 'fuck to bitch': 5626, 'to bitch curl': 15974, 'come': 3343, 'food': 5378, 'car': 2953, 'retard': 13606, 'mention come': 10183, 'never bring': 11142, 'bring food': 2625, 'food of': 5380, 'user mention come': 16945, 'if': 7628, 'show': 14365, 'tinder': 15949, 'anymore': 797, 'chill': 3173, 'brought': 2658, 'user if': 16832, 'not show': 11818, 'hoe in': 7329, 'anymore of': 798, 'of user if': 12323, 'cowboy': 3564, 'how bout': 7537, 'of shut': 12258, 'depressing': 4273, 'night mention': 11404, 'mention curl': 10193, 'it bitch': 8119, 'bitch want': 2360, 'want like': 17567, 'spitting': 14854, 'mention girl': 10274, 'girl know': 6143, 'shit amp': 14252, 'love of bitch': 9623, 'let': 8952, 'couple': 3543, 'buzz': 2788, 'page': 12693, 'wo': 18063, 'jail': 8495, 'trick': 16237, 'user let': 16875, 'let make': 8980, 'wo not': 18064, 'not get': 11656, 'get twitter': 6067, 'twitter jail': 16391, 'of may': 12180, 'may bitch': 9982, 'bitch not': 2180, 'user let make': 16876, 'wo not get': 18066, 'harlem': 6749, 'shake': 14180, 'excuse': 4981, 'full': 5704, 'go full': 6250, 'full retard': 5708, 'go full retard': 6251, 'amen': 619, 'mile': 10713, 'bc': 1349, 'emotional': 4784, 'foh': 5361, 'curl not': 3688, 'not need': 11759, 'like he': 9147, 'he bc': 6946, 'bc is': 1354, 'is of': 8020, 'act like he': 133, 'loyal': 9647, 'ida': 7617, 'user one': 17087, 'one loyal': 12531, 'ida curse': 7618, 'of user one': 12336, 'user one loyal': 17088, 'licking': 9013, 'me': 10007, 'user fussy': 16751, 'me hashtag': 10012, 'hashtag curse': 6772, 'curl curse': 3668, 'of user fussy': 12318, 'hashtag curse curl': 6773, 'curse curl curse': 3742, 'check': 3141, 'ny': 11962, 'fan': 5088, 'stand': 14892, 'user check': 16648, 'man hashtag': 9875, 'of even': 12075, 'happen': 6709, 'given': 6215, 'went': 17765, 'ran': 13356, 'threw': 15875, 'okay': 12435, 'node': 11523, 'pat': 12764, 'mention in': 10341, 'in bitch': 7727, 'bitch okay': 2205, 'of now': 12215, 'user mention in': 16969, 'holding': 7432, 'anyway': 807, 'mention are': 10098, 'are fucking': 850, 'fucking gay': 5661, 'user mention are': 16933, 'mention are fucking': 10100, 'wrong': 18220, 'nobody': 11514, 'the fuck': 15610, 'fuck wrong': 5637, 'wrong birch': 18223, 'of nobody': 12211, 'user the fuck': 17209, 'user all': 16547, 'of make': 12175, 'make bitch': 9778, 'of user all': 12311, 'type': 16420, 'user hate': 16792, 'hate of': 6892, 'of am': 11985, 'am pregnant': 552, 'of type': 12304, 'type bitch': 16424, 'of user hate': 12321, 'user hate of': 16796, 'hate of am': 6893, 'of type bitch': 12305, 'do': 4421, 'reader': 13405, 'top': 16089, 'user got': 16770, 'got birch': 6403, 'birch do': 1605, 'do not': 4429, 'not ever': 11624, 'of top': 12294, 'user got birch': 16771, 'birch do not': 1606, 'do not ever': 4432, 'baseball': 1328, 'season': 14027, 'started': 14922, 'win hashtag': 17987, 'of this': 12290, 'little': 9327, 'stupid': 15122, 'user little': 16883, 'little stupid': 9349, 'stupid bitch': 15126, 'not fuck': 11647, 'stupid bitch not': 15128, 'bitch not fuck': 2182, 'really': 13447, 'dead': 4187, 'serious': 14132, 'wheat': 17810, 'user really': 17115, 'could say': 3522, 'say of': 13933, 'say of bitch': 13935, 'early': 4686, 'wise': 18006, 'worm': 18144, 'early bird': 4687, 'bird am': 1779, 'am night': 539, 'heavy': 7107, 'sound': 14791, 'fussy shit': 5845, 'every day': 4914, 'pit': 12961, 'photographer': 12908, 'lovely': 9639, 'fairy': 5064, 'tale': 15343, 'creature': 3605, 'they': 15703, 'fairy tale': 5065, 'they are': 15704, 'mention of': 10455, 'of far': 12078, 'far not': 5107, 'not sweet': 11837, 'sweet of': 15276, 'of of': 12216, 'user mention of': 16987, 'long': 9472, 'layer': 8900, 'careless': 2981, 'havana': 6912, 'user long': 16892, 'layer trash': 8901, 'and is': 721, 'is real': 8043, 'real of': 13431, 'mention havana': 10303, 'is real of': 8044, 'anything': 803, 'kiss': 8701, 'mention not': 10442, 'not say': 11805, 'say anything': 13909, 'the of': 15635, 'user mention not': 16985, 'mention not say': 10450, 'play': 12992, 'soccer': 14648, 'cheat': 3134, 'wear': 17703, 'coloured': 3335, 'cargo': 2982, 'haircut': 6672, 'of play': 12228, 'play soccer': 13005, 'soccer cheat': 14649, 'cheat girl': 3136, 'girl wear': 6178, 'wear shake': 17708, 'shake coloured': 14182, 'coloured cargo': 3336, 'cargo of': 2983, 'of haircut': 12112, 'haircut curl': 6673, 'user of play': 17073, 'of play soccer': 12229, 'play soccer cheat': 13006, 'soccer cheat girl': 14650, 'cheat girl wear': 3137, 'girl wear shake': 6180, 'wear shake coloured': 17709, 'shake coloured cargo': 14183, 'coloured cargo of': 3337, 'cargo of haircut': 2984, 'of haircut curl': 12113, 'fat': 5118, 'lap': 8849, 'user could': 16655, 'could go': 3513, 'fat as': 5119, 'as bitch': 930, 'po': 13043, 'fixing': 5296, 'call curse': 2856, 'bitch twitter': 2343, 'gotta': 6508, 'rule': 13775, 'ask': 1041, 'cousin': 3556, 'jersey': 8527, 'thinking': 15786, 'moving': 10881, 'user side': 17158, 'bitch gotta': 2036, 'gotta know': 6521, 'know is': 8773, 'thinking bout': 15788, 'of user side': 12338, 'user side bitch': 17159, 'los': 9547, 'pie': 12936, 'curl fuck': 3672, 'fuck yeah': 5638, 'curl fuck yeah': 3673, 'these': 15681, 'meat': 10038, 'slap': 14514, 'brush': 2688, 'user these': 17218, 'these hoe': 15689, 'hoe thinking': 7406, 'not slap': 11820, 'as curse': 954, 'of user these': 12341, 'user these hoe': 17221, 'wit': 18020, 'edge': 4736, 'talking': 15367, 'all birch': 317, 'birch wit': 1773, 'talking curse': 15372, 'user all birch': 16548, 'treating': 16231, 'year': 18274, 'ah': 198, 'bag': 1271, 'all still': 386, 'still going': 14989, 'trick treating': 16238, 'ah of': 211, 'hell yeah': 7119, 'of hell yeah': 12128, 'mon': 10778, 'right': 13660, 'came': 2902, 'hacked': 6655, 'fuck right': 5607, 'right fussy': 13669, 'damn got': 4082, 'like fuck': 9130, 'fuck right fussy': 5608, 'eye': 5011, 'open': 12575, 'watch': 17625, 'lafa': 8829, 'watch bitch': 17626, 'of lafa': 12154, 'should': 14356, 'you would': 18431, 'as he': 975, 'he curse': 6961, 'of user you': 12349, 'roll': 13729, 'user happy': 16780, 'happy day': 6727, 'day bitch': 4163, 'as night': 995, 'bitch roll': 2243, 'bitch as night': 1872, 'used': 16535, 'send bitch': 14112, 'www': 18233, 'due': 4627, 'user ugly': 17256, 'ugly birch': 16438, 'birch like': 1661, 'like am': 9053, 'am www': 610, 'due bitch': 4628, 'bitch ai': 1846, 'not nobody': 11767, 'user ugly birch': 17257, 'ugly birch like': 16439, 'birch like am': 1662, 'bitch ai not': 1847, 'ai not nobody': 256, 'hack': 6654, 'sack': 13802, 'throw': 15884, 'pass': 12754, 'night know': 11385, 'of ah': 11979, 'glad': 6221, 'getting': 6077, 'gutta': 6637, 'atlanta': 1074, 'bunch': 2728, 'dumb': 4642, 'mad': 9695, 'glad am': 6222, 'am getting': 505, 'getting gutta': 6086, 'night amp': 11309, 'dumb birch': 4646, 'birch mad': 1677, 'kiss fucking': 8707, 'fucking of': 5684, 'hetty': 7146, 'smart': 14577, 'this not': 15837, 'not hetty': 11693, 'it is': 8129, 'wife': 17960, 'care': 2967, 'cheating': 3138, 'force': 5398, 'relationship': 13542, 'first': 5271, 'user would': 17335, 'wife he': 17968, 'he cut': 6964, 'would not': 18189, 'not care': 11585, 'cheating of': 3140, 'first place': 5283, 'being': 1431, 'single': 14462, 'user being': 16598, 'single not': 14468, 'white': 17886, 'power': 13114, 'user white': 17314, 'white boy': 17890, 'drunk': 4613, 'spit': 14852, 'spark': 14814, 'blunt': 2463, 'brow': 2659, 'duke': 4633, 'let get': 8962, 'get drunk': 5982, 'amp fuck': 651, 'fuck hoe': 5568, 'of brow': 12035, 'fuck hoe of': 5570, 'around': 902, 'world': 18135, 'where': 17862, 'around world': 911, 'mention bitch of': 10148, 'sucked': 15165, 'party': 12741, 'set': 14143, 'by': 2789, 'get dick': 5980, 'bitch am': 1858, 'set curse': 14144, 'mention not get': 10445, 'bad bitch am': 1238, 'but': 2752, 'lot': 9559, 'lot of': 9563, 'cartoon': 2995, 'away': 1139, 'saving': 13898, 'captain': 2949, 'user in': 16849, 'saving hoe': 13899, 'hoe may': 7359, 'may curl': 9983, 'curl may': 3684, 'of user in': 12324, 'who': 17911, 'nose': 11543, 'boris': 2509, 'leg': 8936, 'user who': 17316, 'who want': 17921, 'want get': 17559, 'user who want': 17318, 'wish': 18007, 'brother': 2657, 'keep': 8632, 'bet': 1473, 'user wish': 17322, 'wish bitch': 18008, 'keep curse': 8637, 'of user wish': 12348, 'user wish bitch': 17323, 'dressed': 4576, 'halloween': 6689, 'basic': 1332, 'gazing': 5927, 'stream': 15083, 'feature': 5146, 'user can': 16638, 'birch to': 1756, 'to of': 16013, 'mention get': 10271, 'scared': 13977, 'choke': 3199, 'secure': 14035, 'guy': 6644, 'hit': 7218, 'bed': 1403, 'user stop': 17183, 'secure like': 14038, 'like it': 9156, 'it of': 8156, 'hit woman': 7237, 'ha': 6651, 'well': 17746, 'guess': 6610, 'mention ha': 10292, 'well guess': 17757, 'make hoe': 9798, 'hoe loyal': 7351, 'brow of': 2669, 'of they': 12286, 'oh': 12409, 'folly': 5376, 'ho': 7241, 'seed': 14075, 'mention oh': 10459, 'man of': 9889, 'user mention oh': 16988, 'refer': 13522, 'you are': 18338, 'every girl': 4917, 'girl bitch': 6122, 'user you are': 17342, 'beating': 1389, 'finally': 5228, 'my': 10942, 'user lafa': 16870, 'finally got': 5230, 'got fussy': 6421, 'my night': 10982, 'feel': 5153, 'remind': 13562, 'move': 10870, 'shan': 14188, 'line': 9293, 'user feel': 16722, 'bring back': 2622, 'back am': 1185, 'line of': 9295, 'of said': 12247, 'record': 13498, 'vine': 17432, 'ahahah': 214, 'hata': 6850, 'mention to': 10580, 'tape': 15392, 'cover': 3558, 'mistake': 10757, 'waiting': 17478, 'maine': 9770, 'mention now': 10454, 'now is': 11929, 'of yeah': 12380, 'yeah am': 18260, 'am waiting': 602, 'user mention now': 16986, 'dirty': 4366, 'foot': 5386, 'flag': 5298, 'amazing': 615, 'mention is': 10345, 'is get': 7959, 'get yellow': 6076, 'user mention is': 16970, 'time': 15919, 'action': 142, 'user do': 16687, 'not got': 11670, 'got time': 6488, 'time birch': 15922, 'birch action': 1551, 'if of': 7679, 'user do not': 16688, 'not got time': 11675, 'stay': 14934, 'alive': 308, 'knight': 8727, 'nation': 11053, 'special': 14826, 'mention hashtag': 10296, 'bird special': 1818, 'of mention hashtag': 12188, 'early bird special': 4690, 'such': 15158, 'wonder': 18098, 'decent': 4207, 'hoe ai': 7252, 'not loyal': 11738, 'not curl': 11598, 'these hoe ai': 15690, 'hoe ai not': 7253, 'ai not loyal': 250, 'ai not curl': 227, 'study': 15115, 'soft': 14660, 'many': 9915, 'screamed': 14008, 'bye': 2791, 'user brush': 16631, 'many time': 9929, 'bitch oh': 2203, 'oh okay': 12420, 'soft of': 14668, 'bye he': 2795, 'dry': 4619, 'blame': 2431, 'birch always': 1557, 'user shut': 17155, 'shut to': 14391, 'as curl': 953, 'shut to bitch': 14393, 'to bitch as': 15972, 'cocci': 3302, 'dropping': 4603, 'month': 10829, 'ca': 2797, 'text': 15503, 'user cocci': 16651, 'cocci mane': 3303, 'every month': 4921, 'hoe ca': 7273, 'ca not': 2798, 'text back': 15505, 'back of': 1205, 'hoe ca not': 7274, 'ca not even': 2809, 'wa': 17463, 'hoe money': 7364, 'night of': 11414, 'burn': 2733, 'without': 18053, 'daddy': 4063, 'issue': 8110, 'finding': 5242, 'mewtwo': 10681, 'sounding': 14800, 'user loyal': 16903, 'loyal bitch': 9648, 'sounding like': 14801, 'like ll': 9164, 'easy': 4706, 'cum': 3659, 'of that': 12279, 'that is': 15560, 'is fact': 7941, 'of that is': 12280, 'charlie': 3099, 'sheen': 14222, 'major': 9771, 'respect': 13593, 'user charlie': 16642, 'charlie sheen': 3117, 'user charlie sheen': 16644, 'be': 1356, 'be curse': 1359, 'of you': 12383, 'you got': 18373, 'got hoe': 6435, 'hoe the': 7404, 'of you got': 12386, 'you got hoe': 18374, 'working': 18130, 'cook': 3471, 'fuck working': 5634, 'working bitch': 18131, 'bitch cook': 1946, 'user fuck working': 16747, 'fuck working bitch': 5635, 'working bitch cook': 18132, 'utf': 17372, 'bitch utf': 2350, 'utf of': 17376, 'fight': 5205, 'pussycurse': 13275, 'good': 6340, 'madam': 9713, 'along': 419, 'of fight': 12082, 'am good': 510, 'good man': 6365, 'you good': 18372, 'user curse user': 16667, 'snake': 14608, 'user may': 16918, 'of user may': 12328, 'booty': 2497, 'everywhere': 4959, 'speech': 14832, 'user big': 16604, 'big booty': 1516, 'booty hoe': 2503, 'speech curse': 14833, 'damn curse': 4079, 'user big booty': 16605, 'big booty hoe': 1520, 'update': 16517, 'report': 13575, 'user stay': 17180, 'mention mention': 10417, 'week of': 17735, 'lafa of': 8831, 'oregon': 12627, 'choked': 3202, 'field': 5195, 'program': 13197, 'rat': 13379, 'year get': 18279, 'trash as': 16162, 'def': 4223, 'wen': 17763, 'best': 1459, 'eagle': 4681, 'cried': 3614, 'room': 13737, 'll user': 9417, 'ever of': 4895, 'of due': 12071, 'like bitch': 9070, 'bitch to': 2326, 'lmfaoooo': 9440, 'people': 12813, 'nigger': 11261, 'hate black': 6872, 'black people': 2424, 'people curl': 12823, 'this is': 15829, 'is black': 7906, 'potent': 13108, 'mention how': 10334, 'how could': 7539, 'could bitch': 3506, 'passed': 12755, 'past': 12760, 'lick': 9009, 'slept': 14537, 'curl love': 3683, 'love fat': 9595, 'boy soft': 2572, 'curl sex': 3691, 'depends': 4269, 'mention ah': 10071, 'ah am': 199, 'user mention ah': 16926, 'kick': 8662, 'mention curse': 10196, 'user mention curse': 16948, 'confusing': 3438, 'america': 621, 'this new': 15831, 'of go': 12101, 'go back': 6236, 'too': 16074, 'mean': 10016, 'vagina': 17380, 'anti': 783, 'nasty': 11046, 'user too': 17238, 'of think': 12288, 'think fussy': 15762, 'fussy cause': 5767, 'like nasty': 9178, 'nasty fussy': 11050, 'actually': 150, 'choose': 3204, 'her': 7132, 'ugly bitch': 16440, 'bitch curse': 1955, 'of her': 12129, 'her as': 7133, 'ugly bitch curse': 16441, 'bitch curse of': 1959, 'vice': 17416, 'tried': 16239, 'dis': 4371, 'user bitch': 16613, 'bitch could': 1947, 'not kill': 11704, 'kill vice': 8680, 'bitch could not': 1948, 'not kill vice': 11705, 'saying': 13955, 'tight': 15909, 'shirt': 14245, 'everybody': 4938, 'tired birch': 15957, 'birch saying': 1717, 'mean curse': 10022, 'night big': 11319, 'big of': 1526, 'user am tired': 16570, 'curse of night': 3827, 'climate': 3265, 'never see': 11178, 'climate change': 3266, 'curl hashtag': 3677, 'beautiful': 1390, 'of stay': 12267, 'beautiful bitch': 1391, 'purple': 13263, 'plain': 12971, 'track': 16126, 'sum': 15180, 'of man': 12178, 'of stupid': 12270, 'stupid he': 15133, 'but still': 2771, 'taller': 15386, 'flurry': 5347, 'user money': 17010, 'birch getting': 1629, 'seen': 14084, 'obsessed': 11969, 'niggacurse': 11256, 'mine': 10734, 'user ai': 16545, 'not never': 11762, 'never seen': 11179, 'seen bitch': 14085, 'mine curse': 10735, 'user ai not': 16546, 'ai not never': 254, 'not never seen': 11763, 'never seen bitch': 11180, 'robe': 13709, 'forget': 5415, 'meant': 10036, 'user robe': 17129, 'stay talking': 14944, 'talking trash': 15384, 'trash but': 16167, 'but let': 2766, 'let is': 8972, 'at': 1065, 'least': 8918, 'of at': 12000, 'at least': 1067, 'nigger of': 11276, 'curl lafa': 3681, 'asking': 1052, 'mixed': 10763, 'asia': 1036, 'user people': 17100, 'people always': 12814, 'always asking': 431, 'am mixed': 535, 'she bad': 14202, 'bad asia': 1225, 'asia bitch': 1037, 'bitch ll': 2115, 'bad asia bitch': 1226, 'area': 887, 'coward': 3563, 'cripple': 3617, 'hero': 7141, 'reach': 13398, 'malo': 9838, 'foster': 5431, 'home': 7442, 'imaginary': 7715, 'trashcurse': 16213, 'whoa': 17922, 'everything': 4955, 'chill of': 3178, 'of show': 12257, 'everything of': 4957, 'quiet': 13316, 'sleep': 14527, 'user looked': 16895, 'tired of': 15959, 'go sleep': 6273, 'sleep he': 14530, 'bringing': 2630, 'weird': 17741, 'mentioncurse': 10662, 'nigger mention': 11273, 'mention mentioncurse': 10418, 'mentioncurse curl': 10663, 'curse user stop': 3945, 'we': 17674, 'user we': 17274, 'we not': 17687, 'not love': 11736, 'of user we': 12344, 'user we not': 17276, 'we not love': 17688, 'not love hoe': 11737, 'love hoe curse': 9609, 'weak': 17694, 'if to': 7690, 'to girl': 15995, 'weak bitch': 17696, 'user if to': 16847, 'as night of': 1002, 'advice': 171, 'speed': 14834, 'mention think': 10573, 'gave of': 5916, 'not fussy': 11655, 'of ll of': 12162, 'quote': 13324, 'animal': 746, 'user quote': 17108, 'stripper': 15099, 'ballet': 1296, 'pop': 13071, 'stripped': 15098, 'tell are': 15440, 'not pop': 11784, 'pop fussy': 13072, 'off': 12391, 'double': 4543, 'vision': 17441, 'fussy curse': 5774, 'when': 17812, 'were': 17773, 'computer': 3416, 'user when': 17284, 'when birch': 17816, 'birch were': 1772, 'me of': 10013, 'in curse': 7732, 'curse damn': 3751, 'of user when': 12346, 'user when birch': 17287, 'prince': 13167, 'art': 917, 'taken': 15336, 'curse user curse': 3889, '61': 64, 'aid': 280, 'slander': 14512, 'white people': 17903, 'trash of': 16194, 'role': 13727, 'these birch': 15684, 'birch not': 1695, 'user these birch': 17220, 'find': 5231, 'hiding': 7181, 'tree': 16233, 'user it': 16854, 'mention dis': 10215, 'dis bitch': 4372, 'bitch da': 1962, 'da wrong': 4058, 'of user it': 12325, 'rake': 13352, 'shoe': 14340, 'released': 13548, 'yes is': 18320, 'shoe curl': 14341, 'di': 4299, 'hetty of': 7161, 'teach': 15414, 'austin': 1120, 'curved': 3986, 'mention hoe': 10326, 'is know': 7989, 'user mention hoe': 16968, 'that is know': 15566, 'user birch': 16606, 'birch ca': 1578, 'not cook': 11594, 'of user birch': 12314, 'birch ca not': 1579, 'ca not cook': 2806, 'chose': 3208, 'user fat': 16718, 'fat hoe': 5123, 'hoe get': 7312, 'user fat hoe': 16721, 'of well': 12361, 'well are': 17750, 'hoe one': 7380, 'user hashtag of': 16788, 'as of': 1006, 'mention of bitch': 10458, 'of bitch as': 12022, 'bitch as of': 1874, 'as of curl': 1007, 'cyrus': 4036, 'naked': 11025, 'lmaooo': 9425, 'in tired': 7776, 'mile cyrus': 10714, 'naked bitch': 11027, 'bitch aunt': 1885, 'type bad': 16421, 'bad of': 1264, 'of lmaooo': 12163, 'tony': 16073, 'mass': 9960, 'fur': 5733, 'user just': 16863, 'dont mean': 4517, 'still bitch': 14975, 'bitch may': 2140, 'll bitch': 9365, 'holy': 7438, 'chocolate': 3194, 'factory': 5052, 'laughing': 8887, 'mention holy': 10328, 'holy shit': 7441, 'charlie chocolate': 3105, 'chocolate factory': 3197, 'of me': 12182, 'charlie chocolate factory': 3106, 'using': 17362, 'anonymous': 761, 'not want': 11882, 'sex of': 14165, 'of feel': 12081, 'feel like': 5158, 'am using': 601, 'of what': 12363, 'user of not': 17072, 'of not want': 12214, 'feel like am': 5159, 'follower': 5372, 'follower curse': 5373, 'itching': 8485, 'clearly': 3259, 'annoying': 756, 'if bitch': 7643, 'bitch always': 1856, 'care of': 2976, 'of or': 12224, 'annoying bitch': 758, 'user if bitch': 16835, 'catfish': 3016, 'sick': 14414, 'catching': 3014, 'but night': 2767, 'worry': 18156, 'worried': 18148, 'user ca': 16635, 'not worry': 11895, 'not worried': 11893, 'worried bout': 18150, 'user ca not': 16636, 'ai not worried': 278, 'not worried bout': 11894, 'insecure': 7814, 'handle': 6700, 'side hoe': 14430, 'night ca': 11327, 'not handle': 11678, 'one of': 12540, 'user side hoe': 17161, 'night ca not': 11328, 'ca not handle': 2813, 'shooting': 14347, 'tent': 15482, 'curse it': 3787, 'it user': 8164, 'bitch come': 1943, 'fuck shit': 5611, 'user curse it': 16664, 'curse it user': 3789, 'it user may': 8340, 'this bitch come': 15809, 'share': 14193, 'sharing': 14194, 'daring': 4107, 'user my': 17013, 'my cousin': 10952, 'he said': 7032, 'hungry': 7577, 'inn': 7805, 'wannaspend': 17526, 'problem': 13184, 'am hungry': 519, 'broke he': 2646, 'problem curse': 13186, 'user am hungry': 16564, 'dense': 4263, 'lying': 9670, 'user dense': 16679, 'dense hoe': 4265, 'hoe lying': 7352, 'lying night': 9675, 'user dense hoe': 16680, 'hoe lying night': 7353, 'oh yeah': 12425, 'yeah fuck': 18264, 'oh yeah fuck': 12426, 'epi': 4822, 'manning': 9909, 'leading': 8908, 'intervention': 7839, 'epi manning': 4823, 'may trash': 9996, 'senior': 14119, 're': 13397, 'anthony': 782, 'brown': 2673, 'head': 7066, 'coach': 3296, 'steve': 14960, 'team': 15420, 'head coach': 7069, 'team curse': 15422, 'is bitch': 7897, 'also': 426, 'zero': 18461, 'lady': 8826, 'user guess': 16775, 'shilling': 14235, 'sex scaly': 14166, 'bitch mine': 2149, 'bitch mine curse': 2150, 'impress': 7721, 'simple': 14450, 'money impress': 10800, 'broke birch': 2643, 'anybody': 796, 'control': 3462, 'hashtag never': 6820, 'not let': 11717, 'is bitch not': 7904, 'ink': 7803, 'bah': 1278, 'mention take': 10554, 'take ho': 15318, 'sure': 15215, 'am mad': 530, 'mad cut': 9703, 'user mention am': 16930, 'crazy': 3584, 'hoe crazy': 7283, 'crazy of': 3593, 'these hoe crazy': 15693, 'na': 10998, 'slice': 14538, 'hart': 6754, 'you ai': 18333, 'ever on': 4898, 'on na': 12469, 'slice bitch': 14539, 'even hart': 4859, 'you ai not': 18334, 'ai not ever': 233, 'ever on na': 4899, 'fine': 5243, 'dam': 4073, 'of fucking': 12094, 'the curse': 15601, 'not bitch': 11570, 'drink': 4584, 'sends': 14118, 'user wonder': 17329, 'gave head': 5915, 'twitter of': 16396, 'of probably': 12231, 'later': 8874, 'hesse': 7145, 'hashtag yeah': 6845, 'yeah bitch': 18263, 'bitch yeah': 2389, 'bitch call': 1924, 'rockies': 13721, 'thigh': 15726, 'fussy it': 5798, 'longer': 9481, 'still love': 14997, 'monkey as': 10812, 'front': 5501, 'of bitch ai': 12020, 'maggot bitch': 9737, 'bitch of curl': 2195, 'pad': 12692, 'friday': 5474, '25': 34, 'mention yea': 10646, 'yea am': 18255, 'not work': 11892, 'is ball': 7888, 'maggot mention': 9748, 'user mention yea': 16999, 'lad would': 8825, 'scaly lad would': 13970, 'yesterday': 18322, 'stupid nigger': 15138, 'user hashtag curl': 16784, 'walk': 17485, 'test': 15489, 'drop': 4597, 'of walk': 12354, 'test bitch': 15490, 'bitch head': 2053, 'head curl': 7070, 'lolcurse': 9463, 'forever': 5408, 'user love': 16899, 'eating fussy': 4726, 'fussy ll': 5811, 'll never': 9398, 'never get': 11155, 'eat shit': 4721, 'curse user love': 3922, 'taste': 15397, 'user no': 17037, 'curse hoe': 3780, 'hoe nasty': 7365, 'am of': 540, 'taste like': 15398, 'bed of': 1407, 'curse user no': 3930, 'am of curse': 541, 'bobby': 2471, 'live': 9351, 'lookout': 9540, 'bobby bitch': 2472, 'bitch by': 1919, 'mention getting': 10272, 'fuck of': 5598, 'stoner': 15031, 'bitch cocci': 1941, 'mention my': 10427, 'my bitch': 10948, 'user to bitch': 17235, 'ride': 13648, 'bar': 1317, 'user ride': 17124, 'ride bitch': 13649, 'and ai': 713, 'not he': 11686, 'he get': 6974, 'of user and': 12313, 'and ai not': 714, 'ai not he': 244, 'not he get': 11688, 'character': 3093, 'death': 4201, 'are still': 878, 'harbor': 6734, 'bus': 2742, 'mention fussy': 10266, 'of love': 12170, 'user mention fussy': 16957, 'del': 4235, 'little bitch': 9333, 'bitch hashtag': 2045, 'little bitch hashtag': 9337, 'way fuck bitch': 17657, 'fuck bitch curl': 5531, 'explains': 4997, 'helped': 7127, 'fighter': 5213, 'jihadi': 8537, 'axis': 1152, 'together': 16036, 'vi': 17409, 'user www': 17336, 'look cut': 9492, 'together curse': 16037, 'of gotta': 12106, 'gotta get': 6515, 'get like': 6018, 'curl curse of': 3670, 'exposed': 4999, 'exposed curse': 5000, 'size': 14492, 'exactly': 4974, 'healthy': 7085, 'why bitch': 17941, 'mention bet': 10117, 'bet birch': 1474, 'birch curse': 1596, 'user mention bet': 16937, 'birch curse of': 1599, 'near': 11064, 'protect': 13212, 'talker': 15366, 'lock': 9455, 'user damn': 16669, 'damn near': 4089, 'annoying of': 759, 'got done': 6415, 'march': 9934, 'girlfriend': 6185, 'aye': 1154, 'pulling': 13252, 'taught': 15404, 'am making': 532, 'girlfriend of': 6189, 'mention aye': 10107, 'pulling hoe': 13253, 'brunn': 2687, 'far boy': 5100, 'boy of': 2571, 'bitchcurse': 2395, 'user must': 17012, 'bitchcurse curse': 2397, 'curse like': 3794, 'like now': 9191, 'now of': 11936, 'rally': 13353, 'bottom': 2519, '9th': 91, 'advantage': 170, 'not take': 11839, 'curse user do': 3892, 'pal': 12700, 'birthday bitch': 1829, 'user happy birthday': 16781, 'happy birthday bitch': 6720, 'sad': 13803, 'knowing': 8811, 'stack': 14883, 'till': 15913, 'of wait': 12353, 'wait till': 17476, 'ai not got': 242, 'into': 7841, 'harder': 6744, 'rich': 13634, 'sicca': 14402, 'fuck night': 5591, 'of see': 12250, 'see fuck': 14050, 'fuck wit': 5632, 'rich home': 13637, 'fuck sicca': 5612, 'fuck night of': 5596, 'last': 8855, 'sunday': 15190, 'mention www': 10644, 'punch': 13255, 'face': 5022, 'strong': 15104, 'real night': 13429, 'night face': 11352, 'cause fussy': 3032, 'night on': 11416, 'right back': 13662, 'night on na': 11417, 'fresh': 5473, 'something': 14721, 'my fussy': 10965, 'fussy still': 5855, 'of something': 12261, 'girl say': 6160, 'slapping': 14519, 'greatest': 6570, 'slapped': 14518, 'user as': 16579, 'hata curse': 6853, 'she got': 14206, 'got mad': 6454, 'aunt get': 1101, 'texan': 15498, 'mention yeah': 10647, 'much better': 10888, 'better fucking': 1489, 'fucking retard': 5689, 'retard of': 13609, 'are mad': 863, 'user mention yeah': 17000, 'nd': 11062, 'dark': 4108, 'blonde': 2453, 'several': 14151, 'seat': 14028, 'looking': 9526, 'of looking': 12168, 'looking like': 9536, 'like black': 9084, 'black amp': 2410, 'lane': 8847, 'left': 8930, 'user there': 17216, 'there is': 15674, 'birch need': 1689, 'need stay': 11112, 'get right': 6051, 'fuck gutta': 5563, 'gutta face': 6639, 'face curse': 5030, 'user there is': 17217, 'deny': 4267, 'butt': 2773, 'with': 18048, 'straight': 15068, 'saying not': 13962, 'not eat': 11610, 'butt of': 2774, 'of with': 12372, 'bos': 2512, 'corner': 3490, 'in bos': 7728, 'bos as': 2513, 'need sit': 11109, 'in bos as': 7729, 'bos as bitch': 2514, 'as bitch of': 939, 'user he': 16801, 'he is': 6993, 'he ca': 6953, 'not of': 11773, 'user he is': 16802, 'he ca not': 6954, 'ca not of': 2821, 'for': 5391, 'weekend': 17736, 'oooh': 12573, 'beta': 1477, 'street': 15084, 'user me': 16922, 'weekend curse': 17737, 'shit birch': 14257, 'of user me': 12329, 'hold': 7427, 'locked': 9457, 'college': 3323, 'military': 10715, 'different': 4348, 'story': 15065, 'night get': 11357, 'get locked': 6020, 'night go': 11362, 'go college': 6242, 'is different': 7927, 'story curse': 15066, 'hatchet': 6857, 'user friend': 16743, 'hatchet he': 6864, 'no love': 11502, 'love fuck': 9599, 'trainer': 16138, 'user hot': 16821, 'would love': 18186, 'sniff': 14618, 'served': 14138, 'sofa': 14659, 'love sofa': 9631, 'these birch love': 15686, 'birch love sofa': 1675, 'watched': 17635, 'did': 4328, 'probe': 13183, 'retarded': 13610, 'curse so': 3847, 'name': 11031, 'idea': 7619, 'mr': 10882, 'of mr': 12197, 'thus': 15898, 'phone': 12888, 'married': 9948, 'demand': 4251, 'called': 2874, 'mention see': 10510, 'birch make': 1679, 'you not': 18404, 'sophomore': 14772, 'user even': 16708, 'think is': 15769, 'is funny': 7954, 'funny of': 5730, 'he really': 7029, 'little he': 9344, 'position': 13087, 'soul': 14788, 'gutta bitch': 6638, 'bored': 2506, 'supposed': 15214, 'sometimes': 14735, 'cut maggot': 4018, 'maggot of': 9749, 'treasure': 16219, 'one man': 12532, 'man trash': 9893, 'trash curse': 16170, 'another man': 768, 'man treasure': 9895, 'user one man': 17089, 'one man trash': 12534, 'another man treasure': 770, 'user not': 17043, 'got type': 6494, 'of user not': 12332, 'not got type': 11676, 'got type bad': 6495, 'type bad birch': 16422, 'doubt': 4547, 'want of': 17577, 'you get': 18370, 'teeth': 15433, 'gold': 6320, 'chain': 3074, 'cocaine': 3301, 'user god': 16766, 'white birch': 17888, 'hoecurse': 7422, 'china': 3185, 'shot': 14354, 'across': 124, 'known': 8815, 'in do': 7733, 'do call': 4423, 'driver': 4595, 'lie': 9015, 'am on': 544, 'miss bitch': 10748, 'bus driver': 2743, 'of wo': 12373, 'not do': 11608, 'not lie': 11720, 'user am on': 16566, 'am on na': 545, 'of wo not': 12374, 'do not lie': 4440, 'try': 16279, 'put': 13277, 'friendzone': 5497, 'trying': 16291, 'score': 13998, 'hate birch': 6867, 'birch try': 1757, 'am trying': 590, 'of on': 12221, 'user hate birch': 16793, 'bitch am trying': 1861, 'ash': 1031, 'landed': 8846, 'mouth': 10863, 'it curl': 8120, 'hut': 7599, 'mention all': 10076, 'of ai': 11981, 'not the': 11851, 'the bitch': 15595, 'bitch hut': 2067, 'hut ll': 7601, 'user mention all': 16929, 'of ai not': 11982, 'user take': 17191, 'take ride': 15329, 'victoria': 17420, 'mitchell': 10760, 'user oh': 17080, 'oh god': 12414, 'distance': 4404, 'knew': 8723, 'user that': 17201, 'long distance': 9475, 'shit back': 14256, 'knew bitch': 8724, 'of up': 12307, 'up oh': 16514, 'of user that': 12339, 'doing': 4471, 'right curse': 13666, 'right curse curl': 13667, 'ban': 1299, 'pay': 12779, 'million': 10722, 'dollar': 4473, 'dat fussy': 4126, 'life amp': 9023, 'gotta pay': 6525, 'million dollar': 10723, 'fine of': 5248, 'rose': 13747, 'violet': 17435, 'blue': 2459, 'user rose': 17130, 'rose red': 13750, 'red violet': 13511, 'violet blue': 17436, 'is true': 8079, 'user rose red': 17131, 'red violet blue': 13512, 'sitting': 14488, 'window': 17991, 'fly': 5348, 'smacked': 14573, 'user but': 16633, 'you sound': 18418, 'fucking retarded': 5690, 'entire': 4819, 'medium': 10040, 'likely': 9283, 'mock': 10769, 'crybaby': 3652, 'user video': 17266, 'shy': 14396, 'hi': 7175, 'smile': 14590, 'cracked': 3567, 'soup': 14803, 'am even': 492, 'tim': 15917, 'below': 1444, 'nl': 11485, 'already': 421, 'every team': 4934, 'already got': 423, 'parma': 12729, 'user parma': 17097, 'parma bitch': 12730, 'user parma bitch': 17098, 'bitch hashtag curse': 2047, 'hashtag curse of': 6775, 'grm': 6585, 'user fucking': 16748, 'fucking hot': 5669, 'fussy curl': 5773, 'patron': 12773, 'al': 291, 'arrested': 913, 'user jihadi': 16860, 'turn': 16346, 'you call': 18358, 'turn hoe': 16354, 'abortion': 99, 'could never': 3515, 'll dick': 9376, 'last bitch': 8856, 'of oh': 12218, 'user could never': 16656, 'argue': 889, 'user watch': 17272, 'of hate': 12119, 'weed': 17723, 'public': 13226, 'corp': 3493, 'run': 13778, 'smoke weed': 14598, 'come of': 3369, 'twenty': 16373, 'the curse curl': 15602, 'watermelon': 17646, 'sweet like': 15271, 'trapper': 16151, 'link': 9300, 'when twitter': 17857, 'twitter trapper': 16398, 'trapper do': 16152, 'do trash': 4451, 'trash link': 16184, 'link curl': 9301, 'user when twitter': 17310, 'when twitter trapper': 17858, 'twitter trapper do': 16399, 'trapper do trash': 16153, 'do trash link': 4452, 'trash link curl': 16185, 'loud': 9569, 'annoy': 754, 'eventually': 4880, 'every bitch': 4910, 'bitch turn': 2342, 'turn he': 16351, 'tomorrow': 16058, 'user swear': 17189, 'pretending': 13147, 'lied': 9018, 'you birch': 18351, 'of crazy': 12050, 'user you birch': 17343, 'of you ai': 12384, 'mention bye': 10165, 'jacket': 8492, 'drilled': 4583, 'cheese': 3151, 'user jacket': 16859, 'giving': 6216, 'reason': 13482, 'user ma': 16905, 'ma keep': 9682, 'keep giving': 8641, 'giving fussy': 6217, 'fussy as': 5748, 'fussy as night': 5752, 'photo': 12902, 'sole': 14679, 'photo curl': 12903, 'state': 14927, 'dash': 4116, 'saddest': 13811, 'saddest bitch': 13813, 'sunday curse': 15191, 'made': 9714, 'bitch made': 2131, 'made shit': 9728, 'shit curse': 14267, 'may curse': 9984, 'shit curse curl': 14268, 'weaken': 17698, 'shmurda': 14337, 'wit weaken': 18045, 'weaken he': 17699, 'fuck wit weaken': 5633, 'wit weaken he': 18046, '7th': 78, 'shook': 14343, 'action like': 144, 'like is': 9155, 'day mention': 4174, 'mention curl curse': 10194, 'break': 2597, 'neck': 11068, 'sorry': 14774, 'savage': 13892, 'all break': 324, 'feel sorry': 5165, 'wo not even': 18065, 'king': 8697, 'this fucking': 15822, 'pressed': 13143, 'ore': 12623, 'all dumb': 329, 'dumb as': 4643, 'night pressed': 11421, 'hoe all': 7254, 'user turn': 17250, 'wiki': 17977, 'screen': 14011, 'sap': 13881, 'shoot': 14344, 'sun': 15189, 'not trust': 11862, 'screen shot': 14012, 'user not trust': 17049, 'trout': 16257, 'bowing': 2548, 'two': 16400, 'user aye': 16585, 'of there': 12283, 'enjoy': 4808, 'got want': 6498, 'colored': 3326, 'contact': 3455, 'colored contact': 3327, 'cause ca': 3029, 'not see': 11809, 'see of': 14063, 'cause ca not': 3030, 'ca not see': 2826, 'only': 12560, 'hoescurse': 7424, 'fact of': 5050, 'user only': 17090, 'hoe say': 7385, 'say not': 13932, 'got hoescurse': 6444, 'smacking': 14574, 'period': 12864, 'die': 4337, 'high': 7182, 'neve': 11139, 'sister': 14476, 'perfect': 12855, 'user life': 16877, 'life bitch': 9026, 'bitch die': 1972, 'that get': 15554, 'get high': 6005, 'know are': 8740, 'are on': 870, 'na go': 11009, 'go of': 6263, 'user life bitch': 16878, 'are on na': 871, 'on na go': 12479, 'wrong curse': 18225, 'bitch sometimes': 2281, 'curse mention of': 3808, 'feeling': 5168, 'pretty': 13149, 'am feeling': 494, 'easily': 4702, 'behind': 1428, 'nip': 11483, 'am hashtag': 513, 'hashtag man': 6814, 'this true': 15842, 'ride die': 13651, 'die bitch': 4338, 'ride die bitch': 13652, 'bitch curse curl': 1956, 'chaplain': 3091, 'user well': 17277, 'charlie chaplain': 3104, 'drake': 4563, 'all see': 381, 'as twitter': 1021, 'is see': 8054, 'user all see': 16555, 'is bitch as': 7899, 'cool': 3475, 'am cool': 479, 'cool night': 3477, 'am sure': 579, 'sure bitch': 15218, 'of for': 12084, 'mention am sure': 10088, 'source': 14805, 'news': 11217, 'broadcast': 2639, 'reward': 13629, 'fox': 5442, 'etc': 4843, 'keeping': 8654, 'user twitter': 17253, 'of bc': 12010, 'got couple': 6410, 'couple birch': 3546, 'but curse': 2762, 'curse let': 3792, 'talk curse': 15351, 'of and': 11992, 'and am': 715, 'am like': 522, 'like hashtag': 9146, 'and am like': 716, 'grudge': 6603, 'weird of': 17743, 'cigarette': 3222, 'user told': 17237, 'called trash': 2884, 'trash in': 16180, 'brownish': 2679, 'kind': 8691, 'give': 6191, 'someone': 14704, 'hurt': 7586, 'back not': 1204, 'not give': 11663, 'give fuck': 6204, 'fuck all': 5515, 'text another': 15504, 'not give fuck': 11665, 'than': 15518, 'hoe left': 7340, 'left right': 8934, 'curse ah': 3705, 'slope': 14556, 'user using': 17263, 'fit': 5289, 'gear': 5928, 'user hell': 16804, 'brow curl': 2661, 'helping': 7128, 'mate': 9971, 'play fuck': 12998, 'next': 11219, 'promise': 13201, 'expose': 4998, 'user next': 17026, 'next year': 11234, 'year birch': 18276, 'birch on': 1701, 'na like': 11013, 'birch on na': 1703, 'on na like': 12483, 'pucker': 13230, 'user so': 17169, 'curse user so': 3943, 'celebrity': 3060, 'local': 9453, 'began': 1422, 'all think': 394, 'curse yeah': 3980, 'good of': 6368, 'curse user all': 3870, 'saw': 13900, 'gumma': 6628, 'beginning': 1426, 'listen': 9319, 'of malo': 12176, 'rank': 13367, 'speaks': 14823, 'user need': 17020, 'childish': 3168, 'like that': 9243, 'childish of': 3170, 'user not ever': 17045, 'case': 2996, 'befriend': 1420, 'mention case': 10175, 'case of': 2998, 'user mention case': 16944, 'remember': 13556, 'won': 18097, 'org': 12636, 'user due': 16694, 'did you': 4332, 'raw': 13391, 'user thick': 17224, 'damn man': 4088, 'man fussy': 9873, 'fussy getting': 5787, 'french': 5468, 'of my': 12199, 'my of': 10983, 'of sex': 12251, 'love hashtag': 9604, 'user of my': 17071, 'free': 5454, 'some': 14687, 'write': 18216, 'user nothing': 17052, 'nothing life': 11908, 'some birch': 14689, 'party of': 12749, 'some birch need': 14690, 'burri': 2739, 'catch': 3007, 'mention one': 10469, 'one birch': 12505, 'birch want': 1767, 'of hut': 12142, 'user mention one': 16989, 'mention one birch': 10470, 'whole': 17925, 'bettercurse': 1501, 'user night': 17029, 'hoe cut': 7290, 'cut of': 4021, 'of user night': 12331, 'hardware': 6747, 'mac': 9689, 'boil': 2477, 'water': 17640, 'powder': 13112, 'boiling': 2479, 'water fuck': 17642, 'fuck birch': 5526, 'fade': 5054, 'rite': 13701, 'real as': 13412, 'that is real': 15570, 'user annoying': 16575, 'love curl': 9587, 'hughes': 7566, 'user hi': 16810, 'bitch no': 2178, 'no bitch': 11490, 'bitch bye': 1920, 'bye bitch': 2792, 'user look': 16893, 'user look like': 16894, 'look like bitch': 9503, 'like bitch of': 9080, 'bitch of mention': 2200, 'chase': 3127, 'money curse': 10794, 'curse hoe curse': 3781, 'not stand': 11825, 'stand of': 14898, 'not know': 11708, 'know want': 8804, 'of as': 11997, 'night curse': 11340, 'ca not stand': 2830, 'not stand of': 11827, 'of not know': 12213, 'as night curse': 999, 'curse of bitch': 3823, 'am way': 605, 'way curl': 17654, 'newly': 11216, 'not no': 11766, 'no shit': 11509, 'work of': 18125, 'job': 8552, 'become': 1399, 'when bitch': 17818, 'want real': 17583, 'real job': 13421, 'user when bitch': 17288, 'bitch not want': 2190, 'feeling of': 5172, 'feeling bitch': 5169, 'bite': 2402, 'dem': 4245, 'dear': 4200, 'user want': 17271, 'of dem': 12064, 'albany': 297, 'curse curl mention': 3745, 'user hoe': 16815, 'loyal of': 9655, 'user hoe ai': 16816, 'not loyal of': 11741, 'ordered': 12621, 'chinese': 3187, 'ate': 1071, 'bitch ate': 1883, 'lunch': 9667, 'user made': 16906, 'made bitch': 9715, 'mention of birch': 10457, 'political': 13060, 'view': 17428, 'shore': 14350, 'of but': 12038, 'soon bitch': 14763, 'get rich': 6049, 'devil': 4297, 'fussy day': 5777, 'away of': 1141, 'what mean': 17800, 'ai not bitch': 221, 'not bitch of': 11573, 'child': 3164, 'want baby': 17540, 'child of': 3166, 'all birch want': 322, 'and bitch': 719, 'bitch must': 2158, 'of baby': 12004, 'baby like': 1174, 'like left': 9159, 'bitch ca': 1922, 'not cut': 11600, 'said ai': 13820, 'not real': 11796, 'bitch ca not': 1923, 'said ai not': 13821, 'ai not real': 265, 'word': 18110, 'else': 4769, 'of be': 12011, 'be of': 1366, 'sound like': 14794, 'like hetty': 9149, 'hetty word': 7166, 'something else': 14725, 'of be of': 12012, 'matter': 9975, 'wee': 17721, 'count': 3526, 'jew': 8532, 'co': 3294, 'ex': 4963, 'emma': 4780, 'isn': 8107, 've': 17389, 'failed': 5060, 'moved': 10875, 'herself': 7144, 'wee count': 17722, 'girl ve': 6176, 'stop fussy': 15043, 'bleed': 2439, 'band': 1301, 'wit birch': 18023, 'movie curse': 10879, 'other': 12655, 'realise': 13441, 'need bad': 11074, 'bitch is': 2078, 'is other': 8028, 'of might': 12190, 'ever said': 4903, 'need bad bitch': 11075, 'bad bitch is': 1246, 'caesar': 2844, 'ape': 812, 'shitcurse': 14334, 'home of': 7450, 'much bitch': 10889, 'bitch look': 2119, 'like let': 9160, 'shitcurse curse': 14335, 'curse user curl': 3888, 'bitch look like': 2120, 'dad': 4059, 'snapchat': 14611, 'duct': 4626, 'say hi': 13923, 'dad of': 4062, 'bitch of curse': 2196, 'believe': 1434, 'of do': 12066, 'believe hoe': 1436, 'bunch hoe': 2729, 'broke night': 2649, 'of do not': 12067, 'do not know': 4438, 'fall': 5075, 'song': 14747, 'not make': 11745, 'make fall': 9786, 'night like': 11392, 'of the': 12282, 'the bird': 15594, 'bird amp': 1780, 'favorite song': 5137, 'do not make': 4443, 'night see': 11431, 'night do': 11346, 'is da': 7921, 'night fucking': 11354, 'fucking to': 5696, 'do not worry': 4450, 'night do not': 11347, 'fucking to bitch': 5697, 'alright': 425, 'ever give': 4889, 'give fussy': 6206, 'dropped': 4601, 'download': 4552, 'cause bitch': 3028, 'mention song': 10534, 'song called': 14750, 'called of': 2883, 'done of': 4492, 'mistake curl': 10758, 'bitch am on': 1859, 'of dumb': 12072, 'birch dumb': 1611, 'of eat': 12073, 'eat fussy': 4713, 'fussy like': 5804, 'eat fussy like': 4716, 'is go': 7963, 'cripple of': 3618, 'let is go': 8975, 'of everything': 12076, 'look better': 9487, 'better bitch': 1486, 'bitch next': 2168, 'next of': 11231, 'who care': 17914, 'he as': 6941, 'as look': 981, 'like curl': 9097, 'as look like': 982, 'look like curl': 9504, 'for every': 5394, 'every bad': 4908, 'every bad bitch': 4909, 'foreign': 5404, 'bitch beautiful': 1894, 'man bitch beautiful': 9863, 'clean': 3254, 'wannasee': 17522, 'no need': 11505, 'clean bitch': 3255, 'bitch who': 2375, 'no am': 11488, 'am working': 608, '50': 55, 'dragon': 4561, 'dragon ball': 4562, 'ball bitch': 1292, 'call you': 2873, 'you of': 18407, 'box': 2550, 'ability': 96, 'via': 17412, 'tube': 16329, 'node of': 11524, 'bird of': 1810, 'bear': 1369, 'of get': 12098, 'get shit': 6053, 'shit bitch': 14260, 'bitch fine': 1999, 'bear of': 1370, 'detroit': 4295, 'bigger': 1530, 'get as': 5952, 'as back': 924, 'dated': 4144, 'unless': 16496, 'stabbed': 14881, 'heart': 7093, 'of girl': 12099, 'not mad': 11743, 'mad to': 9712, 'love he': 9605, 'password': 12759, 'of how': 12141, 'know my': 8784, 'my twitter': 10993, 'bitch please': 2220, 'of have': 12120, 'have seen': 6920, 'if not': 7676, 'he of curse': 7021, 'lucky': 9661, 'uncle': 16464, 'white woman': 17907, 'sum bitch': 15182, 'of uncle': 12306, 'wannanight': 17520, 'trional': 16246, 'account': 117, 'account curse': 118, 'curse org': 3833, 'funny as': 5726, 'bitch man': 2137, 'man is': 9878, 'real shit': 13434, 'of curse org': 12059, 'great': 6566, 'granddad': 6551, 'mob': 10768, 'carl': 2985, 'he it': 6997, 'hey': 7167, 'found': 5436, 'ohio': 12427, 'of hey': 12132, 'still of': 15002, 'draft': 4557, 'folk': 5364, 'afghanistan': 174, 'war': 17600, 'bone': 2485, 'em': 4772, 'talking hoe': 15374, 'hoe bout': 7269, 'hilarious': 7198, 'crazy bitch': 3587, 'negro': 11125, 'dog': 4463, 'of know': 12152, 'bitch you': 2391, 'not call': 11583, 'call of': 2868, 'first thing': 5284, 'thing look': 15738, 'bitch you not': 2392, 'thrill': 15878, 'hillbilly': 7200, 'hahahahaha': 6659, 'jesus': 8529, 'murphy': 10921, 'of call': 12041, 'call bitch': 2853, 'call bitch of': 2854, 'liquor': 9316, 'needed': 11121, 'chief': 3162, 'of ca': 12039, 'handle liquor': 6701, 'but birch': 2758, 'of ca not': 12040, 'not chase': 11588, 'forever of': 5410, 'beat': 1374, 'even need': 4864, 'bitch beat': 1893, 'every picture': 4928, 'picture of': 12935, 'hoe of curse': 7376, 'hug': 7559, 'clot': 3279, 'new way': 11209, 'open mouth': 12580, 'tongue': 16063, 'fucking hate': 5665, 'hate bitch': 6870, 'bitch much': 2156, 'kiss of': 8712, 'fucking hate bitch': 5666, 'had': 6657, 'latifah': 8881, 'riding': 13655, 'niece': 11248, 'bitch set': 2258, 'riding round': 13656, 'calling': 2886, 'stop calling': 15039, 'woman birch': 18083, 'specie': 14828, 'of guess': 12108, 'die of': 4340, 'bitch eating': 1986, 'of lady': 12153, 'she is': 14209, 'not sex': 11815, 'what bitch': 17785, 'heard': 7089, 'candy': 2943, 'of heard': 12125, 'hope': 7476, 'stitch': 15023, 'williams': 17982, 'of hope': 12139, 'hope not': 7481, 'get mad': 6022, 'bc not': 1355, 'know name': 8785, 'hope not get': 7482, 'not get mad': 11659, 'am bitch': 464, 'bitch boy': 1911, 'either': 4748, 'dream': 4572, 'sold': 14674, 'sell': 14102, 'know shit': 8797, 'tucked girl': 16334, 'we know': 17683, 'are maggot': 864, 'older': 12449, 'men': 10060, 'mature': 9979, 'fool': 5383, 'cause are': 3026, 'polly': 13064, 'leave': 8922, 'cup': 3662, 'hand': 6693, 'hand of': 6696, 'wolf': 18075, 'said not': 13842, 'not like': 11721, 'wolf fussy': 18076, 'even know': 4861, 'said not like': 13843, 'hair': 6661, 'cut hair': 4012, 'hair of': 6671, 'curse name': 3813, 'dress': 4574, 'cop': 3483, '911': 84, 'of used': 12309, 'dress like': 4575, 'oh really': 12421, 'really of': 13475, 'yeah right': 18271, 'of really': 12239, 'all never': 367, 'never forget': 11153, 'forget of': 5417, 'flock': 5331, 'strike': 15094, 'went jail': 17771, 'came home': 2904, 'bitch came': 1927, 'home like': 7448, 'dizzy': 4418, 'unique': 16490, 'separate': 14128, 'phrase': 12910, 'younger': 18451, 'dizzy bitch': 4419, 'of two': 12303, 'woke': 18072, 'like this': 9248, 'this of': 15838, 'bitch go': 2029, 'sir': 14475, 'manager': 9899, 'of would': 12377, 'would rather': 18196, 'my manager': 10977, 'hard': 6735, 'all beat': 314, 'beat fussy': 1379, 'hard of': 6741, 'all beat fussy': 315, 'slit': 14553, 'throat': 15879, 'slit throat': 14554, 'neck of': 11071, 'honey': 7462, 'shout': 14359, 'cabinet': 2842, 'am funny': 501, 'mention tonight': 10585, 'of fussy of': 12096, 'personality': 12875, 'ordering': 12622, 'goddamn': 6300, 'yelling': 18294, 'root': 13745, 'you bitch': 18352, 'love you': 9636, 'middle': 10695, 'surround': 15228, 'feeling like': 5171, 'not miss': 11754, 'pas': 12750, 'wasting': 17622, 'prayer': 13122, 'stop wasting': 15060, 'of am on': 11987, 'main': 9763, 'dipped': 4362, 'cinnamon': 3223, 'apple': 822, 'main bitch': 9765, 'bitch chocolate': 1936, 'chocolate dipped': 3196, 'cinnamon apple': 3224, 'fed': 5148, 'teno': 15481, 'yet': 18323, 'am sick': 567, 'sick shit': 14419, 'shit man': 14299, 'man user': 9896, 'sit bitch': 14481, 'as am': 921, 'pick of': 12921, 'dig': 4353, 'am sorry': 571, 'tucked to': 16339, 'bitch but': 1917, 'but really': 2770, 'of am sorry': 11989, 'tucked to bitch': 16340, 'syndrome': 15293, 'of is': 12145, 'of is of': 12146, 'hide': 7178, 'short': 14351, 'of if': 12143, 'if love': 7670, 'love hide': 9606, 'bitch all': 1849, 'keep short': 8647, 'if love hide': 7671, 'back ai': 1183, 'not getting': 11661, 'getting fussy': 6084, 'me curl': 10010, 'back ai not': 1184, 'ai not getting': 238, 'not getting fussy': 11662, 'getting fussy of': 6085, 'of me curl': 12183, 'waving': 17650, 'if are': 7635, 'are bad': 838, 'bitch put': 2229, 'put hand': 13283, 'high of': 7189, 'are bad bitch': 839, 'tie': 15906, 'basement': 1331, 'of emma': 12074, 'fuck as': 5521, 'two week': 16412, 'straight of': 15074, 'them': 15662, 'in my': 7755, 'dumb he': 4654, 'is albany': 7871, 'dad is': 4061, 'direction': 4364, 'accept': 111, 'larry': 8852, 'know bitch': 8743, 'like make': 9170, 'you know bitch': 18384, 'bedroom': 1409, 'blind': 2446, 'husband': 7595, 'created': 3599, 'among': 626, 'of word': 12376, 'blind bitch': 2447, 'bitch we': 2366, 'know or': 8793, 'of it is': 12148, 'late': 8870, 'tag': 15306, 'is never': 8012, 'hunter': 7582, 'is duke': 7931, 'julia': 8590, 'robert': 13710, 'ho of': 7246, 'follow': 5365, 'brick': 2613, 'concourse': 3425, 'course': 3551, 'if fussy': 7656, 'fussy good': 5790, 'concourse like': 3427, 'course curse': 3554, 'curse my': 3811, 'my mamma': 10975, 'user if fussy': 16837, 'curse my mamma': 3812, 'weady': 17692, 'davis': 4149, 'scientist': 13994, 'create': 3598, 'penguin': 12805, 'weady davis': 17693, 'user scientist': 17139, 'sank': 13879, 'of let': 12157, 'of let is': 12158, 'kill cracked': 8673, 'cracked baby': 3569, 'baby of': 1179, 'of utf': 12350, 'correct': 3495, 'limping': 9292, 'am wrong': 609, 'doe not': 4460, 'birch money': 1687, 'money of': 10805, 'pound': 13110, 'cake': 2847, 'may user': 9997, 'like fussy': 9134, 'may user curse': 9998, 'look like fussy': 9507, 'fussy curse curl': 5775, 'aide': 281, 'lighter': 9046, 'shit retarded': 14311, 'retarded of': 13617, 'recourse': 13500, 'vol': 17455, 'net': 11136, 'ze': 18460, 'wat': 17624, 'van': 17386, 'rage': 13342, 'je': 8513, 'went he': 17770, 'of maybe': 12181, 'maybe is': 10003, 'is stupid': 8064, 'you never': 18401, 'make cum': 9781, 'is stupid bitch': 8065, 'dix': 4417, 'kirk': 8699, 'franklin': 5448, 'neighbor': 11127, 'they get': 15706, 'grand': 6547, 'porch': 13081, 'broken': 2651, 'knife': 8726, 'my grand': 10968, 'porch monkey': 13082, 'both': 2516, '22': 30, 'mamma told': 9852, 'known bitch': 8816, 'my mamma told': 10976, 'sliding': 14542, 'is okay': 8023, 'admit': 164, 'am fussy': 502, 'like never': 9181, 'never said': 11176, 'act like never': 134, 'able': 97, 'since': 14454, 'rush': 13790, 'loss': 9553, 'girl ai': 6115, 'not on': 11774, 'make is': 9799, 'job of': 8555, 'of back': 12005, 'back like': 1201, 'damn bitch': 4078, 'bitch really': 2236, 'girl ai not': 6116, 'ai not on': 260, 'like of damn': 9196, 'thought': 15858, 'smith': 14593, 'curse to': 3861, 'all of': 372, 'flame': 5301, 'super': 15202, 'of new': 12202, 'of song': 12264, 'or ll': 12613, 'or ll bitch': 12614, 'meanwhile': 10037, 'bitchescurse': 2398, 'night always': 11307, 'get money': 6026, 'still want': 15017, 'of fuck birch': 12089, 'fuck birch get': 5528, 'birch get money': 1628, 'pressed fussy': 13144, 'night pressed fussy': 11422, 'no birch': 11489, 'boat': 2468, 'boat hoe': 2469, 'please thanks': 13030, 'thanks of': 15529, 'of mon': 12195, 'hendricks': 7129, 'user amp': 16572, 'hendricks later': 7130, 'curse user amp': 3872, 'pregnant as': 13130, 'sorry he': 14783, 'he aunt': 6944, 'got money': 6461, 'broke of': 2650, 'gotten': 6534, 'base': 1327, 'dying': 4676, 'of only': 12223, 'red so': 13509, 'our': 12661, 'bryan': 2698, 'before': 1419, 'people of': 12839, 'pistol': 12960, 'whip': 17879, 'club': 3285, 'freestyle': 5463, 'bitch club': 1940, 'pierced': 12941, 'timeline': 15948, 'user did': 16684, 'fussy come': 5771, 'come across': 3344, 'rely': 13553, 'belly': 1440, 'curse bitch': 3720, 'curse bitch curse': 3724, 'of robert': 12246, 'nasty he': 11051, 'comment': 3395, 'of sorry': 12265, 'come back': 3348, 'fucking bitch': 5650, 'searching': 14026, 'incredible': 7789, 'quest': 13309, 'necessary': 11067, 'chicken': 3161, 'redness': 13514, 'selling': 14106, 'material': 9972, 'fast': 5115, 'ak': 289, 'of shake': 12252, 'shall': 14185, 'compare': 3404, 'thee': 15658, 'shape': 14190, 'organic': 12643, 'she gotta': 14207, 'gotta shape': 6528, 'the user': 15651, 'wing': 17994, 'drag': 4559, 'she said': 14217, 'she bitch': 14204, 'anyway of': 808, 'florida': 5342, 'hussy': 7596, 've got': 17395, 'of she is': 12254, 'slow': 14559, 'class': 3241, 'bitch know': 2089, 'know live': 8776, 'young lady': 18445, 'football': 5388, 'player': 13010, 'so is': 14631, 'is good': 7966, 'like fig': 9122, 'shove': 14362, 'needle': 11122, 'of stop': 12269, 'fussy son': 5850, 'buck': 2702, 'stop looking': 15051, 'go eat': 6247, 'dirt': 4365, 'finger': 5252, 'finger fussy': 5253, 'fussy know': 5800, 'put dick': 13281, 'that ai': 15533, 'not brow': 11580, 'he move': 7014, 'move of': 10873, 'that ai not': 15534, 'ai not brow': 224, 'county': 3541, 'that girl': 15555, 'ugly amp': 16436, 'county of': 3542, 'least is': 8920, 'is got': 7967, 'grows': 6602, 'selfish': 14100, 'wicked': 17956, 'color': 3325, 'student': 15112, 'yellow am': 18296, 'of these': 12284, 'of these hoe': 12285, 'picking': 12928, 'hoe keep': 7334, 'keep calling': 8635, 'sour': 14804, 'birch am': 1558, 'fucking wit': 5701, 'trifle': 16241, 'petty': 12883, 'swept': 15284, 'maggot user': 9753, 'fuck got': 5561, 'stuck': 15109, 'hetty as': 7147, 'division': 4414, 'saint': 13855, 'trash user': 16209, 'win of': 17989, 'of south': 12266, 'watch of': 17632, 'old hoe': 12445, 'secure curl': 14036, 'motherfucker': 10856, 'missy': 10756, 'recipe': 13494, 'leftover': 8935, 'eaten': 4724, 'what hell': 17796, 'those': 15849, 'broad': 2636, 'represent': 13578, 'your': 18452, 'hatchet broad': 6861, 'white as': 17887, 'as ca': 944, 'not talk': 11840, 'talk trash': 15364, 'trash racism': 16196, 'as ca not': 945, 'ca not talk': 2833, 'road': 13704, 'giant': 6105, 'one curse': 12511, '200': 23, 'antonio': 786, 'larger': 8851, 'empty': 4787, 'cab': 2838, 'latest': 8880, 'that would': 15584, 'would like': 18184, 'low': 9642, 'girlfriend got': 6186, 'hoe looking': 7349, 'looking good': 9534, 'good girl': 6354, 'girl fucking': 6130, 'low of': 9644, 'virgin': 17437, 'regular': 13537, 'ole': 12451, 'city': 3228, 'dooties': 4537, 'lmaooo user': 9427, 'is love': 8000, 'fat birch': 5120, 'cut got': 4011, 'got big': 6402, 'big ole': 1527, 'love fat birch': 9596, 'spy': 14872, 'of we': 12358, 'we hate': 17682, 'hate nigger': 6888, 'hate maggot': 6887, 'we are': 17678, 'are queer': 872, 'of we are': 12359, 'biology': 1545, 'well bitch': 17751, 'of well bitch': 12362, 'spasm': 14815, 'user gotta': 16773, 'spasm user': 14816, 'user lady': 16869, 'head game': 7073, 'game better': 5887, 'better fussy': 1490, 'squad': 14873, 'of when': 12364, 'jiggaboo': 8535, 'of who': 12369, 'who fuck': 17917, 'marriage': 9947, 'beyond': 1506, 'walking': 17495, 'of why': 12370, 'why people': 17954, 'people think': 12849, 'sorry not': 14785, 'walking street': 17499, 'chris': 3210, 'six': 14491, 'why would': 17955, 'would want': 18204, 'want play': 17580, 'play fussy': 12999, 'of why would': 12371, 'ranger': 13366, 'evil': 4960, 'question': 13310, 'want fussy': 17558, 'will': 17981, 'device': 4296, 'rough': 13753, 'havana hashtag': 6913, 'now bitch': 11923, 'is already': 7873, 'anything else': 805, 'colony': 3324, 'burning': 2735, 'baby girl': 1173, 'user main': 16908, 'horn': 7493, 'worn': 18146, 'of to': 12292, 'trying shoot': 16320, 'mention that': 10564, 'of to bitch': 12293, 'mention that is': 10566, 'subject': 15150, 'fussy of hashtag': 5830, 'smell': 14584, 'flower': 5345, 'smell like': 14587, 'curse what': 3977, 'what of': 17802, 'ended': 4794, 'to mamma': 16008, 'mamma bitch': 9847, 'one sentence': 12543, 'bitch of user': 2201, 'unna': 16501, 'spear': 14824, 'chucked': 3220, 'spear chucked': 14825, 'response': 13596, 'of favorite': 12080, 'you to': 18424, 'to boy': 15983, 'boy fussy': 2564, 'cat of': 3006, 'count of': 3534, 'pull': 13238, 'jake': 8496, 'ca not take': 2832, 'like colored': 9094, 'colored folk': 3329, 'of you not': 12387, 'got hell': 6431, 'hell hoe': 7115, 'got hell hoe': 6432, 'hoe of curl': 7375, 'light': 9042, 'bell': 1439, 'morning': 10844, 'diana': 4302, 'miracle': 10744, 'is back': 7885, 'of charlie': 12044, 'charlie mention': 3113, 'today': 16022, 'serve': 14137, 'you look': 18393, 'today of': 16033, 'help': 7123, 'like little': 9162, 'little bird': 9331, 'help get': 7125, 'you look like': 18394, 'look like little': 9510, 'of you of': 12388, 'card': 2965, 'living': 9357, 'total': 16105, 'ass': 1056, 'talk like': 15355, 'like far': 9120, 'far shit': 5110, 'shit is': 14289, 'is retarded': 8049, 'but is': 2765, 'is cool': 7914, 'life of': 9037, 'paper': 12710, 'image': 7714, 'could make': 3514, 'cool of': 3478, 'garden': 5905, 'weed of': 17729, 'of you are': 12385, 'flat': 5305, 'slut': 14566, 'as count': 950, 'count go': 3529, 'as city': 947, 'of your': 12390, 'cash': 2999, 'looking bad': 9530, 'star': 14904, 'far away': 5098, 'playing': 13012, 'slipper': 14548, 'wannaplay': 17521, 'up fuck': 16509, 'fuck user': 5630, 'playing like': 13017, 'like trash': 9252, 'trash mention': 16190, 'arizona': 894, 'not time': 11855, 'time hoe': 15936, 'is mon': 8008, 'mon say': 10784, 'of birch of': 12017, 'ago': 189, 'handicapped': 6699, 'crippled': 3619, 'scalp': 13967, 'close': 3272, 'triple': 16249, 'of ago': 11977, 'freak': 5450, 'ah bitch': 200, 'of love of': 12171, 'ai not love': 249, 'drama': 4564, 'johnson': 8564, 'merry': 10669, 'cause in': 3036, 'save': 13893, 'captain save': 2950, 'save he': 13894, 'captain save he': 2951, 'judgement': 8584, 'jumbotron': 8593, 'watching': 17636, 'of day': 12063, 'but bitch': 2759, 'settle': 14147, 'couture': 3557, 'fuck fussy': 5557, 'later go': 8877, 'go suck': 6274, 'quick of': 13312, 'good friend': 6349, 'river': 13702, 'vein': 17401, 'diagram': 4300, 'large': 8850, 'of thick': 12287, 'stockton': 15025, 'luke': 9666, 'father': 5128, 'hoe suck': 7394, 'hit wit': 7236, 'id': 7614, 'deck': 4211, 'end': 4789, 'of want': 12355, 'of aye': 12003, 'fucking right': 5691, 'shut fuck': 14384, 'dip': 4361, 'keeper': 8653, 'of suck': 12272, 'woman of': 18093, 'is dad': 7922, 'rip': 13694, 'apart': 811, 'in on': 7759, 'rip bitch': 13695, 'in on na': 7760, 'briony': 2632, 'bible': 1507, '75': 77, 'bright': 2616, 'birch bitch': 1573, 'like as': 9059, 'as hoe': 976, 'black as': 2411, 'birch bitch as': 1574, 'studio': 15114, 'mufuckin': 10911, 'crib': 3613, 'busy': 2751, 'fussy trying': 5870, 'like god': 9140, 'to shit': 16015, 'word of': 18113, 'skin': 14496, 'suit': 15179, 'assuming': 1063, 'hoe think': 7405, 'think cut': 15755, 'ilyin': 7713, 'of org': 12225, 'org bitch': 12637, 'bitch fucking': 2013, 'fucking stupid': 5694, 'or best': 12600, 'best friend': 1465, 'lord': 9546, 'race': 13327, 'of way': 12357, 'bitch name': 2161, 'the lord': 15626, 'poor': 13070, 'of poor': 12230, 'white of': 17902, 'brow still': 2670, 'still not': 15000, 'trust hoe': 16270, 'not trust hoe': 11864, 'fabulous': 5021, 'nap': 11041, 'seeing': 14076, 'if all': 7631, 'all old': 373, 'hate hashtag': 6883, 'good one': 6369, 'quote all': 13325, 'all hoe': 348, 'latin': 8882, 'kardashian': 8629, 'shaped': 14191, 'fridge': 5477, 'gun say': 6634, 'of mean': 12184, 'him kardashian': 7202, 'looking girl': 9533, 'girl birch': 6121, 'shaped like': 14192, 'like mind': 9176, 'say that': 13946, 'that make': 15574, 'make feel': 9787, 'pipe': 12958, 'fucking fussy': 5660, 'fussy could': 5772, 'of angry': 11994, 'could not even': 3517, 'are count': 845, 'right of': 13685, 'moment': 10777, 'rain': 13346, 'that son': 15582, 'bitch moment': 2152, 'car window': 2961, 'that son bitch': 15583, 'son bitch moment': 14743, 'needy': 11123, 'sidelong': 14434, 'begin': 1425, 'facebook': 5040, 'hatchet hoe': 6865, 'hoe dumb': 7299, 'dumb hoe': 4655, 'looking love': 9538, 'facebook hoe': 5041, 'camp': 2911, 'hashtag get': 6788, 'get hit': 6007, 'hit bitch': 7220, 'blowing': 2458, 'spare': 14813, 'tire': 15955, 'leaving': 8925, 'dairy': 4071, 'queen': 13303, 'hashtag mention': 6816, 'up like': 16511, 'fun': 5715, 'wilson': 17984, 'much fun': 10892, 'charlie wilson': 3122, 'hashtag curse user': 6776, 'curse user hashtag': 3904, 'hashtag fussy': 6786, 'fussy feel': 5781, 'feel curse': 5156, 'fussy bitch': 5760, 'enough': 4810, 'wash': 17612, 'teabagger': 15411, 'hashtag lot': 6810, 'bad not': 1263, 'not enough': 11614, 'racism white': 13336, 'white trash': 17906, 'retreat': 13620, 'can even': 2919, 'even get': 4855, 'bitch text': 2310, 'back curl': 1192, 'wet': 17776, 'hashtag birch': 6767, 'community': 3402, 'hashtag still': 6832, 'calling hashtag': 2893, 'embarrassed': 4774, 'angel': 734, 'remains': 13555, 'hashtag are': 6764, 'are not': 869, 'charlie angel': 3100, 'bass': 1341, 'fish': 5286, 'dock': 4454, 'birch mention': 1684, 'birch dick': 1604, 'governor': 6536, 'coverage': 3559, 'online': 12559, 'charlie baker': 3101, 'number': 11943, 'fruit': 5507, 'loop': 9541, 'hashtag bitch': 6768, 'bitch number': 2192, 'becomes': 1401, 'designed': 4285, 'pain': 12696, 'real bitch': 13414, 'real bitch hashtag': 13415, 'creator': 3602, 'bird would': 1821, 'unite': 16492, 'pure': 13260, 'passion': 12758, '10': 2, 'toocurse': 16082, 'door open': 4536, 'game bitch': 5888, 'bitch toocurse': 2331, 'amos': 627, '33': 43, 'except': 4976, 'agreed': 196, 'hashtag amos': 6761, 'amos 33': 628, '33 can': 44, 'can two': 2931, 'two walk': 16410, 'walk together': 17492, 'hashtag amos 33': 6762, 'amos 33 can': 629, '33 can two': 45, 'can two walk': 2932, 'two walk together': 16411, '510': 57, 'justice': 8627, 'court': 3555, 'truth': 16277, 'hate one': 6894, 'tell truth': 15467, 'hashtag the': 6836, 'the hashtag': 15616, 'hashtag his': 6797, 'his head': 7214, '26': 36, 'air': 286, 'valuable': 17384, 'look bird': 9489, '28': 37, 'mary': 9953, 'hunger': 7576, 'diet': 4345, 'bean': 1368, 'hurt like': 7590, 'hurt like bitch': 7591, 'like bitch not': 9079, 'hashtag full': 6784, 'full white': 5709, 'hashtag full white': 6785, 'full white trash': 5710, 'quit': 13319, 'whining': 17877, 'know feel': 8756, 'whining like': 17878, 'kissing': 8715, 'otherwise': 12657, 'fucking dead': 5654, 'it hashtag': 8126, 'birch hashtag': 1642, 'non': 11530, 'allowed': 409, 'hashtag trash': 6838, 'possibly': 13095, 'tucking': 16341, 'penis': 12806, 'boot': 2495, 'hashtag user': 6839, 'is are': 7879, 'got man': 6455, 'user that is': 17206, 'this bitch got': 15810, 'easier': 4697, 'out': 12662, 'hood': 7466, 'losing': 9551, 'self': 14093, 'losing or': 9552, 'blessed': 2442, 'hashtag ai': 6757, 'not fucking': 11652, 'around hashtag': 908, 'hashtag it': 6802, 'it got': 8125, 'face as': 5024, 'hashtag ai not': 6758, 'ai not fucking': 235, 'muslin': 10929, 'expect': 4988, 'yard': 18251, 'not all': 11550, 'it am': 8116, 'it not': 8154, 'not expect': 11628, 'witch': 18047, 'pitch': 12963, 'evolved': 4962, 'absurd': 105, 'hashtag is': 6801, 'is not': 8018, 'bitch walk': 2355, 'back word': 1212, 'it is not': 8140, 'lingo': 9299, 'angle': 740, 'slang': 14513, 'drum': 4612, 'swing': 15287, 'flick': 5320, 'alarm': 295, 'fire': 5263, 'hashtag know': 6805, 'know word': 8808, 'big it': 1525, 'but ca': 2760, 'not hear': 11690, 'but ca not': 2761, 'ca not hear': 2815, 'downtown': 4554, 'hairy': 6675, 'scar': 13973, 'sense': 14121, 'seize': 14092, 'outside': 12671, 'hashtag people': 6826, 'people live': 12833, 'hashtag white': 6841, 'hashtag white trash': 6842, 'kansa': 8628, 'city curl': 3230, 'panic': 12707, 'hashtag great': 6791, 'bird fly': 1795, 'really ai': 13448, 'really ai not': 13449, 'policy': 13055, 'vital': 17445, 'organ': 12642, 'host': 7502, 'dy': 4675, 'tail': 15307, 'earth': 4695, 'mention any': 10097, 'attention': 1082, 'all day': 328, 'day hoe': 4170, 'hoe need': 7366, 'worse': 18159, 'convinced': 3468, 'because': 1396, 'royal': 13763, 'october': 11974, 'treading': 16217, 'montana': 10828, 'french montana': 5469, 'is going': 7964, 'wanted': 17594, 'feat': 5142, 'shy dizzy': 14397, 'hashtag if': 6799, 'not hashtag': 11683, 'hashtag hashtag': 6793, 'hashtag would': 6844, 'would never': 18188, 'never thought': 11183, 'sound hashtag': 14793, 'hashtag one': 6825, 'bitch would': 2386, 'bitch would not': 2387, 'pushkin': 13272, 'spice': 14843, 'pushkin spice': 13273, 'ore curl': 12624, 'hashtag mention hashtag': 6818, 'opening': 12583, 'serving': 14140, 'sample': 13868, 'spider': 14844, 'hashtag we': 6840, 'brownish curl': 2681, 'joshua': 8575, '13': 10, 'tread': 16216, 'upon': 16520, 'warrior': 17611, 'middle school': 10697, 'instead': 7823, 'ruining': 13774, 'others': 12656, 'hashtag hoe': 6798, 'hoe find': 7308, 'ring': 13689, 'leader': 8907, 'cruz': 3641, 'lee': 8928, 'exist': 4985, 'go home': 6256, 'champion': 3080, 'contrary': 3461, 'cooper': 3482, 'international': 7834, 'hashtag make': 6813, 'prostitute': 13211, 'fussy not': 5826, 'not broke': 11579, 'lesion': 8948, 'da fussy': 4048, 'fussy better': 5759, 'played': 13008, 'sport': 14862, '6th': 70, 'grade': 6540, 'didn': 4333, '6th grade': 71, 'hashtag right': 6828, 'because hashtag': 1398, 'commits': 3399, 'baden': 1268, 'dust': 4669, 'you fucking': 18367, 'troop': 16254, 'handed': 6697, 'defeat': 4225, 'jihadis': 8543, 'hashtag go': 6790, 'killed': 8682, 'it that': 8163, 'is hashtag': 7975, 'killed hashtag': 8684, 'offer': 12399, 'hashtag ll': 6809, 'll curse': 9374, 'like curse': 9098, 'mention great': 10288, 'great thing': 6569, 'offer curse': 12400, 'll curse user': 9375, 'like curse user': 9100, 'hashtag niece': 6822, 'niece try': 11253, 'try talk': 16289, 'calm': 2898, 'average': 1129, 'even tell': 4872, 'tell of': 15461, 'ill': 7703, 'plate': 12991, 'hashtag better': 6766, 'bitch ill': 2070, 'ill give': 7706, 'give money': 6210, 'money ai': 10787, 'money ai not': 10788, 'spanish': 14812, 'dressing': 4578, 'birch suck': 1734, 'are already': 837, 'birch suck dick': 1735, 'reminded': 13563, 'is queer': 8042, 'still not get': 15001, 'century': 3067, 'celebrate': 3056, 'hashtag fucking': 6782, 'fucking hashtag': 5664, 'hashtag fucking hashtag': 6783, 'comb': 3339, 'yer': 18314, 'beard': 1371, 'okay am': 12436, 'am going': 509, 'torn': 16101, 'sky': 14508, 'radio': 13339, 'edit': 4737, 'torn amos': 16102, 'once': 12501, 'bitten': 2405, 'twice': 16374, 'hashtag in': 6800, 'texas': 15499, 'beat hashtag': 1381, 'whipped': 17880, 'putting': 13293, 'fussy whipped': 5876, 'ring curse': 13690, 'hundred': 7573, 'peter': 12880, 'nina': 11480, 'taking': 15338, 'amp still': 688, 'still get': 14985, 'november': 11918, '10th': 6, 'ticket': 15904, 'curl mention curl': 3686, 'continue': 3458, 'finished': 5258, 'calorie': 2901, 'bitch slap': 2269, 'though': 15854, 'mention know': 10362, 'is still': 8063, 'still ll': 14994, 'bitch though': 2320, 'breast': 2603, 'feed': 5151, 'how birch': 7534, 'user how birch': 16825, 'tut': 16368, 'usually': 17367, 'leave alone': 8923, 'foi': 5362, 'andy': 733, 'politics': 13062, 'bitch mention': 2144, 'mention got': 10284, 'got one': 6472, 'smashed': 14582, 'sucking': 15167, 'focus': 5358, 'hashtag you': 6846, 'are he': 856, 'sucking dick': 15168, 'you are he': 18342, 'about': 100, 'hugging': 7564, 'hashtag like': 6807, 'like fucking': 9133, 'hashtag it hashtag': 6803, 'it hashtag it': 8127, 'actual': 149, 'genetic': 5936, 'lab': 8819, 'natural': 11057, 'close of': 3274, 'knocked': 8733, 'last year': 8865, 'hashtag damn': 6778, 'bitch bad': 1889, 'bad is': 1259, 'is big': 7892, '21': 27, 'fantastic': 5094, 'ready': 13407, 'sweep': 15259, 'milwaukee': 10724, 'most': 10850, 'wished': 18018, 'lose': 9548, 'yankee': 18239, 'win lose': 17988, 'mention charlie': 10178, 'tucked hashtag': 16335, 'follow sicca': 5370, 'niggahs': 11258, 'telling': 15469, 'hoe am': 7256, 'am talking': 583, 'get curse': 5975, 'ca not get': 2812, 'wannafuck': 17514, 'pineapple': 12952, 'soda': 14658, 'all nigger': 368, 'ay': 1153, 'fussy and': 5746, 'west': 17774, 'nile': 11479, 'virus': 17440, 'infection': 7797, 'reported': 13576, 'orange': 12618, 'numbered': 11951, 'carrying': 2991, 'bird found': 1796, 'long curse': 9474, 'curse mention curl': 3805, 'david': 4148, 'charlie brown': 3102, 'brown hashtag': 2676, 'charlie brown hashtag': 3103, 'bladder': 2428, 'hashtag son': 6830, 'finally get': 5229, 'get bed': 5960, 'hashtag son bitch': 6831, 'sub': 15149, 'wall': 17500, 'hurricane': 7584, 'matrena': 9973, 'ran bitch': 13357, 'moan': 10766, '100': 3, 'people never': 12837, 'happy bitch': 6725, 'deep': 4214, 'deep night': 4221, 'half': 6678, 'stroke': 15101, 'dump': 4663, 'extremely': 5010, 'hashtag give': 6789, 'give da': 6199, 'da dick': 4046, 'dat bitch': 4122, 'bitch on': 2207, 'bitch follow': 2004, 'you fuck': 18366, 'fuck dem': 5546, 'dem hoe': 4248, 'hoe better': 7266, 'zimmerman': 18464, 'creep': 3608, 'of creep': 12051, 'creep as': 3609, 'as cracked': 952, 'cracked of': 3574, 'of racism': 12234, 'creep as cracked': 3610, 'spin': 14846, 'withnumberbitches': 18052, 'of made': 12172, 'curse fuck': 3760, 'sicca hashtag': 14407, 'diversity': 4412, 'tolerable': 16051, 'get job': 6012, 'of long': 12165, 'cracked hashtag': 3571, 'peanut': 12794, 'butter': 2776, 'peanut butter': 12795, 'ore it': 12626, 'wasted': 17621, 'four': 5440, 'point': 13046, 'scale': 13964, 'bitch cheat': 1933, 'penny': 12809, 'shave': 14197, '201': 26, 'rod': 13724, 'hashtag not': 6823, 'winning': 17997, 'fitting': 5292, 'let play': 8986, 'robertson': 13711, 'pitcher': 12965, 'mccarthy': 10006, 'series': 14131, 'final': 5227, '60': 63, 'price': 13159, 'not night': 11764, 'direct': 4363, 'breaking': 2601, 'killing': 8689, 'fouche': 5432, 'yankee game': 18244, 'walk off': 17489, 'joe': 8558, 'damn well': 4096, 'complaining': 3410, 'showed': 14373, 'flex': 5313, 'zone': 18466, 'earned': 4693, 'flex zone': 5316, 'upper': 16521, 'lower': 9645, 'strength': 15087, 'say word': 13952, 'wo not say': 18070, 'sale': 13858, 'gardener': 5906, 'canada': 2934, 'rest': 13598, 'whole team': 17932, 'bounce': 2522, 'mention may': 10409, 'may gotta': 9987, 'gotta keep': 6520, 'lined': 9297, 'prime': 13166, 'tank': 15389, 'just got': 8610, 'got home': 6445, 'get serious': 6052, 'beaten': 1388, 'three': 15874, 'town': 16120, 'am calling': 474, 'nurse': 11956, 'building': 2714, 'hashtag so': 6829, 'of big': 12015, 'bird one': 1811, 'one go': 12519, 'possible': 13094, 'proud': 13215, 'trash hashtag': 16178, 'birch really': 1711, 'really the': 13476, 'curse user there': 3949, 'la': 8818, 'palm': 12701, 'weather': 17714, 'horrible': 7496, 'washington': 17615, 'space': 14809, '80': 79, 'hoe hashtag': 7323, 'horse': 7499, 'hello': 7120, 'ahead': 216, 'pocket': 13044, 'go ahead': 6230, 'is wrong': 8098, 'of hashtag it': 12117, 'democrat': 4253, 'claim': 3234, 'fair': 5063, 'network': 11138, 'liar': 9004, 'hashtag cut': 6777, 'cody': 3311, 'hashtag fan': 6781, 'year hashtag': 18280, 'anyone': 799, 'famous': 5087, 'guide': 6620, 'family': 5084, 'of good': 12103, 'good thing': 6370, 'hanging': 6706, 'tonight hashtag': 16068, 'pierced curse': 12942, 'totally': 16107, 'got hashtag': 6429, 'hashtag am': 6760, 'am totally': 588, 'course curl': 3553, 'prove': 13217, 'liberal': 9005, 'emotion': 4783, 'decision': 4210, 'damned': 4097, 'motto': 10860, 'at me': 1068, 'me curse': 10011, 'india': 7792, 'plastic': 12990, 'remain': 13554, 'rocky': 13723, 'via mention': 17413, 'via mention curl': 17414, 'get am': 5947, 'da bitch': 4040, 'bitch hit': 2058, 'birch the': 1748, 'nigger bitch': 11265, 'anal': 708, 'gaping': 5901, 'part': 12734, 'part curl': 12735, 'tucked curl': 16332, 'british': 2633, 'founding': 5439, 'brazilian': 2594, 'bow': 2545, 'babe': 1159, 'bony': 2489, 'caught': 3019, 'rubbing': 13766, 'rude': 13768, 'beach': 1367, 'close curl': 3273, 'squatting': 14875, 'fingered': 5256, 'ashore': 1034, 'fussy fingered': 5782, 'amateur': 613, 'mild': 10711, 'beauty': 1393, 'fussy fuck': 5783, 'japanese': 8505, 'girlcurse': 6184, 'hashtag young': 6847, 'young japanese': 18443, 'japanese girlcurse': 8506, 'young japanese girlcurse': 18444, 'oriental': 12645, 'un': 16460, 'deep fussy': 4219, 'exotic': 4987, 'wild': 17979, 'fussy fucking': 5784, 'jammed': 8502, 'fist': 5288, 'big fussy': 1524, 'more': 10836, 'loose': 9542, 'cream': 3594, 'whipped cream': 17881, 'humming': 7571, 'hairy fussy': 6676, 'hashtag hairy': 6792, 'hashtag hashtag hairy': 6794, 'rubber': 13765, 'boy fucking': 2563, 'my wife': 10994, 'baby fussy': 1172, 'hashtag latin': 6806, 'thick get': 15723, 'hashtag hashtag latin': 6795, 'tight fussy': 15911, 'lingered': 9298, 'wounded': 18208, 'plea': 13022, 'stud': 15111, 'german': 5943, 'cock': 3304, 'cock fussy': 3306, 'small': 14575, 'stepped': 14956, 'ten': 15474, 'toy': 16123, 'silver': 14447, 'homemade': 7455, 'fussy eating': 5780, 'one would': 12557, 'not tell': 11844, 'he am': 6936, 'am happy': 511, 'do not tell': 4448, 'hashtag he': 6796, 'try get': 16283, 'someone not': 14715, 'tow': 16114, 'truck': 16258, 'grape': 6558, 'highschool': 7197, 'granulation': 6557, 'rate': 13380, 'uniformed': 16485, 'is many': 8005, 'president': 13141, 'standing': 14900, 'clapping': 3237, 'hashtag bad': 6765, 'bad bitch curl': 1241, 'precious': 13127, 'baby curse': 1170, 'tapping': 15394, 'ma bitch': 9679, 'jimmy': 8551, 'like monkey': 9177, 'mississippi': 10755, 'opposed': 12594, 'minimum': 10736, 'wage': 17468, 'labor': 8821, 'law': 8891, 'union': 16487, 'pro': 13176, 'state like': 14929, 'minimum wage': 10737, 'pretty much': 13155, 'much hashtag': 10894, 'drinking': 4586, 'birch amp': 1559, 'ti': 15900, 'hashtag bitch mention': 6769, 'bitch mention curl': 2145, 'na sit': 11016, 'walk bitch': 17487, 'on na sit': 12486, 'loving': 9641, 'teabaggers': 15413, 'make teabaggers': 9820, 'bad birch curse': 1231, 'bitch curse mention': 1958, 'everytime': 4958, 'kitchen': 8717, 'sing': 14459, 'rock': 13717, 'like hussy': 9153, 'hashtag real': 6827, 'bid': 1509, 'date': 4139, 'morris': 10848, 'bud': 2707, 'plus': 13040, 'trip': 16247, 'visit': 17442, 'st': 14878, 'am giving': 507, 'so are': 14622, 'come visit': 3380, 'finesse': 5250, 'lost one': 9558, 'of night of': 12208, 'killer': 8686, 'jose': 8574, 'user jose': 16862, 'trash talk': 16203, 'hoe eat': 7300, 'shell': 14228, 'crow': 3628, 'shell crow': 14229, 'dun': 4667, 'user every': 16710, 'one time': 12550, 'curse user every': 3895, 'user every bitch': 16711, 'user true': 17244, 'bird get': 1798, 'get worm': 6075, 'first curse': 5273, 'early bird get': 4689, 'bird get worm': 1799, 'dirty where': 4370, 'he love': 7007, 'this he': 15828, 'he got': 6984, 'got school': 6480, 'dick curse': 4313, 'curse user this': 3953, 'user this he': 17228, 'user lost': 16897, 'night twitter': 11467, 'talking like': 15375, 'orleans': 12651, 'party fuck': 12746, 'new orleans': 11202, 'curse user these': 3950, 'rub': 13764, 'curse birch': 3719, 'birch giving': 1632, 'grew': 6577, 'book': 2490, 'corn': 3489, 'curse never': 3815, 'soon shit': 14768, 'shit the': 14320, 'smashing': 14583, 'paying': 12788, 'conde': 3428, 'yep': 18313, 'still curse': 14980, 'curse user night': 3929, 'have curse': 6915, 'fuck curse': 5542, 'do not like': 4441, 'give fuck curse': 6205, 'tom': 16053, 'mark': 9943, 'user rather': 17110, 'called nigger': 2882, 'uncle tom': 16467, 'deaf': 4194, 'treated': 16227, 'user bet': 16600, 'is word': 8094, 'treated like': 16228, 'like queen': 9221, 'it user bet': 8189, 'curse high': 3779, 'laugh': 8883, 'on end': 12460, 'think funny': 15761, 'it user one': 8368, 'congress': 3441, 'turned': 16361, 'housewife': 7527, 'thirty': 15801, 'singing': 14461, 'turned he': 16362, 'he housewife': 6990, 'start singing': 14919, 'turned he housewife': 16363, 'curse got': 3767, 'or bitch': 12601, '3rd': 48, 'curse curse': 3746, 'make laugh': 9800, 'talking shit': 15380, 'cut amp': 3995, 'amp bitch': 641, 'curse need': 3814, 'need stop': 11113, 'dick he': 4317, 'followed': 5371, 'org ll': 12639, 'll followed': 9380, 'to as': 15967, 'shut to as': 14392, 'hop': 7475, 'he user': 7058, 'user come': 16652, 'curse may': 3802, 'may night': 9994, 'night let': 11388, 'trap': 16146, 'curse amp': 3710, 'amp ai': 632, 'not ho': 11696, 'ho get': 7243, 'get trap': 6061, 'amp ai not': 633, 'ugh': 16430, 'simply': 14452, 'lawless': 8896, 'peace': 12790, 'ugh bitch': 16431, 'love amp': 9574, 'amp curse': 646, 'jamaica': 8498, 'curse fussy': 3762, 'ride dick': 13650, 'dick like': 4320, 'curse curse curse': 3747, 'loyal fussy': 9652, 'important': 7719, 'temporary': 15472, 'bullshit': 2722, 'thing all': 15729, 'worth': 18162, 'quarter': 13300, 'user ll': 16884, 'll is': 9389, 'is nice': 8015, 'quarter of': 13301, 'user of bitch': 17061, 'mimi': 10725, 'covering': 3561, 'user mimi': 17006, 'secure curse': 14037, 'banner': 1316, 'lafa user': 8832, 'amp to': 697, 'to home': 16001, 'curse user lafa': 3916, 'user lafa user': 16871, 'lafa user if': 8833, 'curse brush': 3730, 'brush hoe': 2693, 'hoe gotta': 7320, 'setting': 14146, 'lean': 8912, 'tweetcurse': 16371, 'user somebody': 17174, 'na die': 11003, 'die curse': 4339, 'curse there': 3856, 'on na die': 12474, 'boring': 2508, 'backcurse': 1213, 'bitch face': 1995, 'am hitting': 517, 'backcurse curse': 1214, 'curse mention curse': 3806, 'mention curse mention': 10203, 'mention curse user': 10204, 'of course': 12049, 'node trash': 11525, 'user of course': 17062, 'stomach': 15028, 'mufucka': 10909, 'rating': 13387, 'my stomach': 10989, 'mention this': 10576, 'this night': 15835, 'night is': 11379, 'pose': 13086, 'rid': 13647, 'legend': 8942, 'batch': 1344, 'hope user': 7486, 'get rid': 6050, 'user mention get': 16958, 'mike': 10709, 'third': 15792, 'sending': 14116, 'screenshots': 14013, 'testing': 15492, 'curse night': 3816, 'stop testing': 15058, 'birch like of': 1666, 'curse white': 3978, 'white bitch': 17889, 'bitch think': 2318, 'user seen': 17143, 'that as': 15536, 'bitch high': 2057, 'dorsum': 4539, 'curse sicca': 3846, 'scurse': 14019, 'he do': 6968, 'saying of': 13963, 'of never': 12201, 'never give': 11156, 'he fuck': 6972, 'curse user he': 3906, 'when duke': 17827, 'duke get': 4636, 'get pregnant': 6044, 'curse user when': 3963, 'user when duke': 17291, 'know got': 8764, 'phone of': 12898, 'of bitch know': 12024, 'bitch know got': 2091, 'bitch let': 2102, 'burnt': 2736, 'burnt fussy': 2737, 'burnt fussy lip': 2738, 'challenge': 3076, 'age': 185, 'curse said': 3842, 'gotta chill': 6511, 'pretty face': 13152, 'ally': 411, 'only birch': 12561, 'birch night': 1692, 'shady': 14176, 'birch shady': 1722, 'night curse user': 11341, 'curse user birch': 3878, 'oh god curse': 12415, 'tu': 16327, 'go away': 6235, 'away curse': 1140, 'user no bitch': 17038, 'curse of user': 3828, 'bitch mad': 2129, 'mad of': 9708, 'curse mention bitch': 3804, 'rook': 13736, 'curse hate': 3775, 'relax': 13545, 'user are': 16578, 'are trying': 882, 'birch curse hashtag': 1598, 'habit': 6653, 'bitch are': 1867, 'let know': 8978, 'know right': 8796, 'bad am': 1222, 'am talk': 582, 'brittany': 2635, 'bitch dog': 1976, 'man curse': 9869, 'bitch selling': 2256, 'assume': 1062, 'that fussy': 15552, 'day of': 4176, 'user that fussy': 17204, 'that fussy curse': 15553, 'pork': 13083, 'crop': 3624, 'user maggot': 16907, 'chair': 3075, 'drill': 4582, 'laid': 8835, 'side he': 14426, 'silly': 14445, 'muddy': 10907, 'you he': 18378, 'grand got': 6548, 'it user you': 8477, 'user you he': 17348, 'cheap': 3131, 'tack': 15300, 'as little': 979, 'little birch': 9330, 'bank': 1308, 'stadium': 14884, 'downcurse': 4551, 'user them': 17213, 'it user them': 8428, 'curse user my': 3925, 'fussy mention': 5819, 'buying': 2787, 'user utf': 17264, 'kind fussy': 8693, 'think got': 15764, 'barrel': 1324, 'hoe love': 7350, 'bucket': 2705, 'user trash': 17242, 'son curse': 14744, 'trash curse user': 16172, 'honestly': 7459, 'hate people': 6895, 'people get': 12826, 'get bad': 5958, 'honestly not': 7460, 'it user hate': 8282, 'user hate people': 16797, 'act like bitch': 130, 'leash': 8917, 'it user just': 8308, 'snap': 14609, 'one night': 12537, 'night ll': 11396, 'are cut': 847, 'fancy': 5091, 'finn': 5262, 'faded': 5055, 'fancy bitch': 5092, 'day curse': 4165, 'curse hashtag curse': 3773, 'drawing': 4570, 'change curse': 3083, 'dumb bitch': 4647, 'user still': 17182, 'still ca': 14976, 'see white': 14074, 'white hoe': 17896, 'curse not': 3818, 'still ca not': 14977, 'nerve': 11133, 'worked': 18128, 'monkey curse': 10817, 'dinner': 4358, 'user many': 16915, 'pretty birch': 13150, 'it user many': 8338, 'user nigger': 17028, 'take nap': 15320, 'it user nigger': 8356, 'parting': 12739, 'event': 4879, 'every week': 4936, 'hoe every': 7302, 'tripping': 16251, 'it user hashtag': 8280, 'user hashtag user': 16789, 'honkie': 7464, 'is fuck': 7950, 'wave': 17649, 'wearing': 17712, 'shovel': 14364, 'birch wearing': 1771, 'curse count': 3738, 'curse monkey': 3810, 'bat': 1343, 'user mention birch': 16938, 'll curl': 9373, 'delete': 4236, 'mention swear': 10551, 'swear god': 15249, 'god bitch': 6293, 'am bout': 470, 'delete twitter': 4238, 'twitter account': 16383, 'mention swear god': 10552, 'worker': 18129, 'co worker': 3295, 'is twitter': 8083, 'twitter name': 16394, 'oh he': 12417, 'he could': 6958, 'user fox': 16739, 'got dem': 6414, 'dem birch': 4246, 'birch hut': 1650, 'hut curse': 7600, 'rachel': 13329, 'curse fucking': 3761, 'embody': 4777, 'pas bitch': 12752, 'bitch pas': 2214, 'pas curse': 12753, 'soon curse': 14764, 'wake': 17482, 'be he': 1362, 'he to': 7051, 'to curl': 15984, 'munching': 10917, 'unfaithful': 16479, 'girl of': 6154, 'curse user but': 3884, 'daycurse': 4179, 'shit ai': 14248, 'bitch every': 1991, 'every single': 4929, 'shit ai not': 14249, 'prettier': 13148, 'science': 13993, 'mention the': 10567, 'curse user well': 3961, 'nigger get': 11269, 'get free': 5991, 'free fussy': 5456, 'alone curse': 417, 'user good': 16768, 'good fussy': 6350, 'not neve': 11761, 'get tired': 6058, 'user good fussy': 16769, 'step': 14954, 'curse user swear': 3946, 'user be': 16592, 'be go': 1361, 'go text': 6279, 'text hoe': 15512, 'hoe me': 7360, 'user be go': 16593, 'go text hoe': 6280, 'hoe me curl': 7361, 'trash since': 16201, 'user at': 16581, 'at work': 1070, 'curse user at': 3875, 'here': 7137, 'person': 12869, 'user hope': 16819, 'am he': 514, 'am people': 548, 'people person': 12840, 'am people person': 549, 'valley': 17383, 'user they': 17223, 'bag curse': 1274, 'curse user they': 3951, 'missing': 10753, 'marion': 9941, 'user think': 17225, 'think dem': 15756, 'hoe laugh': 7338, 'laugh regular': 8885, 'by curse': 2790, 'curse user think': 3952, 'think dem hoe': 15757, 'dem hoe laugh': 4249, 'hoe laugh regular': 7339, 'user curse hoe': 16663, 'guidance': 6619, 'miserable': 10746, 'need life': 11097, 'money fussy': 10796, 'as boy': 942, 'til': 15912, 'girl got': 6136, 'face gay': 5032, 'is time': 8073, 'sum fussy': 15184, 'but am': 2756, 'am curse': 482, 'curse ll': 3796, 'user every girl': 16713, 'mid': 10692, 'curse oh': 3829, 'oh bitch': 12412, 'crazy curl': 3588, 'boyfriend': 2573, 'curse well': 3976, 'well damn': 17753, 'when side': 17849, 'user when side': 17306, 'sink': 14472, 'min': 10726, 'silence': 14442, 'let sink': 8993, 'get birch': 5962, 'birch thinking': 1754, 'right curl': 13665, 'vodka': 17449, 'bent': 1454, 'strip': 15096, 'mall': 9837, 'built': 2715, 'that bitch': 15540, 'bitch gone': 2032, 'fig curse': 5198, 'girl ll': 6147, 'so all': 14621, 'eat fussy of': 4717, 'user real': 17112, 'real men': 13425, 'eat pussycurse': 4720, 'then': 15667, 'speaking': 14822, 'trusted': 16275, 'it mention': 8151, 'want man': 17570, 'hoe can': 7276, 'curse it mention': 3788, 'mention not want': 10452, 'amazed': 614, 'answer': 776, 'mention it': 10352, 'night fuck': 11353, 'fuck every': 5550, 'night try': 11463, 'talk bitch': 15349, 'genius': 5937, 'man need': 9885, 'se': 14020, 'el': 4752, 'de': 4183, 'japcurse': 8507, 'gin': 6112, 'curse come': 3736, 'nurse curse': 11957, 'album': 298, 'form': 5422, 'satan': 13887, 'aim': 282, 'project': 13200, 'harvard': 6755, 'highlight': 7194, 'whatcurse': 17805, 'himcurse': 7203, 'rapier': 13375, 'iris': 7857, 'severed': 14152, 'severed head': 14153, 'when people': 17844, 'curse know': 3791, 'user when people': 17302, 'east': 4703, 'curse user fuck': 3900, 'fired': 5266, 'user had': 16777, 'follow bitch': 5368, 'bitch that': 2313, 'must ve': 10933, 'that bitch got': 15542, 'my brother': 10950, 'fussy maggot': 5815, 'like getting': 9136, 'paid': 12695, 'suggest': 15176, 'smash': 14581, 'if got': 7662, 'shit would': 14332, 'would eat': 18173, 'eat curse': 4710, 'curse user if': 3910, 'user if got': 16840, 'bitch funny': 2015, 'curse user ll': 3919, 'user ll bitch': 16886, 'ear': 4683, 'bitch ear': 1984, 'talk birch': 15347, 'mention curse bitch': 10201, 'breath': 2604, 'sunk': 15193, 'user bad': 16588, 'called bad': 2875, 'curse user bad': 3876, 'ai not cut': 229, 'called bad bitch': 2876, 'trying he': 16306, 'he broke': 6950, 'dizzy curse': 4420, 'nut': 11958, 'hook': 7471, 'curse not even': 3819, 'night trying': 11464, 'curse you': 3982, 'you trash': 18425, 'trash though': 16208, 'though ll': 15857, 'homeless': 7454, 'sleeping': 14534, 'surrounded': 15229, 'bubble': 2701, 'user saw': 17136, 'funny bitch': 5727, 'curse user saw': 3940, 'minute': 10742, 'bitch looking': 2121, 'trunk': 16265, 'even though': 4875, 'shit trash': 14323, 'fashion': 5114, 'user org': 17096, '98': 88, 'slum': 14563, 'frenchman': 5470, 'frenchman year': 5472, 'let hoe': 8969, 'hoe great': 7321, 'let hoe great': 8970, 'coat': 3300, 'warm': 17603, 'love bird': 9583, 'bird curl': 1790, 'evercurse': 4906, 'floppy': 5336, 'you suck': 18421, 'suck floppy': 15163, 'floppy bird': 5337, 'plan': 12974, 'skill': 14494, 'got called': 6408, 'called fussy': 2879, 'curse user may': 3923, 'manure': 9914, 'mention so': 10530, 'user mention so': 16994, 'sat': 13886, 'spot': 14864, 'attempt': 1080, 'try hit': 16285, 'fussy hashtag': 5793, 'stone': 15029, 'two bird': 16403, 'one stone': 12546, 'two bird one': 16404, 'bird one stone': 1812, 'curse user fucking': 3901, 'two day': 16405, 'day he': 4169, 'user some': 17171, 'some all': 14688, 'all find': 334, 'dirty as': 4367, 'as female': 963, 'curse user some': 3944, 'fuck night curse': 5594, 'awkward': 1147, 'awesome': 1144, 'far mention': 5106, 'is awesome': 7883, 'been': 1414, 'user been': 16596, 'every night': 4924, 'every night curse': 4925, 'ion': 7847, 'wannahear': 17518, 'teethcurse': 15434, 'mention ion': 10344, 'see is': 14055, 'curse user ai': 3869, 'curse user want': 3958, 'birdcurse': 1822, 'bidding': 1510, 'floppy birdcurse': 5340, 'curse user utf': 3957, 'user brow': 16630, 'like really': 9223, 'like eating': 9113, 'fussy back': 5755, 'back it': 1200, 'it make': 8149, 'curse user brow': 3882, 'like eating fussy': 9114, 'feelingscurse': 5173, 'user say': 17137, 'say something': 13944, 'curse user say': 3941, 'owns': 12684, 'every female': 4915, 'thing curse': 15734, 'if wear': 7694, 'wear thing': 17710, 'he lolcurse': 7004, 'lolcurse curse': 9464, 'user every female': 16712, 'not stop': 11829, 'stop ll': 15050, 'curse user ca': 3885, 'ca not stop': 2831, 'fail': 5058, 'count curl': 3528, 'dem colored': 4247, 'michael': 10686, 'michael lined': 10687, 'joke': 8568, 'user floppy': 16734, 'bird shit': 1817, 'user floppy bird': 16735, 'cry curse': 3646, 'waste': 17619, 'hate girl': 6881, 'girl get': 6132, 'amp not': 677, 'not turn': 11869, 'hoe fucking': 7310, 'curse user hate': 3905, 'raise': 13347, 'user shout': 17152, 'cut not': 4020, 'not raise': 11792, 'raise he': 13348, 'not raise he': 11793, 'mud': 10905, 'sharp': 14196, 'curse user am': 3871, 'an': 706, 'bit': 1837, 'weedy': 17730, 'dot': 4542, 'user an': 16573, 'curse user an': 3873, 'mess': 10671, 'user yes': 17340, 'yes am': 18316, 'am single': 569, 'not mess': 11752, 'named': 11039, 'balaga': 1285, 'got new': 6465, 'curse user got': 3903, 'anaconda': 707, 'none': 11531, 'goal': 6285, 'dont want': 4532, 'want none': 17575, 'none unless': 11536, 'run curse': 13780, 'want none unless': 17576, 'night still': 11441, 'still think': 15011, 'think in': 15768, 'damn is': 4086, 'is sad': 8051, 'curse user wish': 3967, 'hoe really': 7383, 'bird man': 1807, 'dickcurse': 4323, 'get dem': 5979, 'get new': 6031, 'dickcurse curse': 4324, 'mention bitch get': 10134, 'victor': 17419, 'dance': 4099, 'thatcurse': 15585, 'user such': 17187, 'eagle fan': 4682, 'bitch user': 2348, 'user hey': 16809, 'giant fan': 6106, 'of cause': 12043, 'cause look': 3040, 'fuck mean': 5582, 'mean of': 10033, 'suppose': 15213, 'eat to': 4722, 'booty bitch': 2499, 'godcurse': 6299, 'technically': 15427, 'not remember': 11798, 'curse on': 3831, 'take curse': 15314, 'ca not remember': 2824, 'breakup': 2602, 'loved': 9638, 'bitch first': 2000, 'never loved': 11166, 'tar': 15395, 'neck curl': 11070, 'curse go': 3765, 'so hashtag': 14630, 'jordan': 8572, 'got hoe of': 6443, 'vera': 17402, 'print': 13171, 'sheet': 14226, 'brush am': 2689, 'am telling': 585, 'curse user brush': 3883, 'ah night': 210, 'night ai': 11303, 'curse user hoe': 3908, 'night ai not': 11304, 'throwing': 15891, 'irrelevant': 7865, 'shade': 14174, 'user birch love': 16610, 'll bitch curse': 9368, 'store': 15064, 'formal': 5423, 'formal curse': 5424, 'too many': 16077, 'll night': 9401, 'user too many': 17239, 'fussy is': 5797, 'rape': 13370, 'recognize': 13496, 'original': 12649, 'version': 17406, 'you wo': 18429, 'you wo not': 18430, 'soft he': 14665, 'user girl': 16758, 'double is': 4544, 'curse user girl': 3902, 'difference': 4347, 'is difference': 7926, 'shit ca': 14264, 'of face': 12077, 'mention man': 10407, 'text birch': 15506, 'birch ever': 1614, 'user mention man': 16978, 'gaycurse': 5925, 'if ask': 7637, 'ask every': 1045, 'bitch gaycurse': 2021, 'user if ask': 16834, 'if ask every': 7638, 'ask every bitch': 1046, 'every bitch gaycurse': 4912, 'user first': 16731, 'first time': 5285, 'time ll': 15937, 'hit he': 7228, 'church': 3221, 'absolutely': 103, 'mention need': 10429, 'someone is': 14712, 'user mention need': 16981, 'police': 13053, 'vienna': 17427, 'lit': 9324, 'eva': 4846, 'concourse curse': 3426, 'colored man': 3333, 'user lesion': 16874, 'fussy taste': 5860, 'fussy taste like': 5861, 'detail': 4294, 'rice': 13632, 'hopeless': 7489, 'yellow rice': 18310, 'ebook': 4730, 'hurting': 7594, 'what is': 17797, 'bitch better': 1898, 'curse user what': 3962, 'user what is': 17283, 'starving': 14926, 'africa': 176, 'banana': 1300, 'plug': 13038, 'hole': 7433, 'utf curse': 17375, 'desperate': 4289, 'he bout': 6949, 'bout start': 2542, 'listening': 9323, 'aye he': 1157, 'he we': 7063, 'curse feel': 3759, 'filled': 5221, 'attitude': 1084, 'is early': 7934, 'not come': 11591, 'give attitude': 6192, 'hoe on': 7377, 'on come': 12457, 'come amp': 3345, 'amp go': 655, 'these hoe on': 15698, 'come amp go': 3346, 'knock': 8729, 'fuck say': 5609, 'hit like': 7229, 'like little bitch': 9163, 'little bitch of': 9338, 'fo': 5354, 'user sweet': 17190, 'sweet hashtag': 15268, 'fo da': 5355, 'da colored': 4043, 'dis shit': 4375, 'hashtag curl hashtag': 6771, 'da colored folk': 4044, 'curl dis': 3671, 'mention hata': 10299, 'trying keep': 16309, 'curse www': 3979, 'www bitch': 18234, 'bitch well': 2369, 'stay far': 14938, 'user mention hata': 16963, 'stay far away': 14939, 'wasncurse': 17616, 'daniel': 4104, 'officially': 12406, 'washed': 17613, 'bruhcurse': 2684, 'neither': 11130, 'flight': 5323, 'of trash': 12298, 'mention taking': 10555, 'curse now': 3821, 'now curse': 11924, 'wealth': 17701, 'get paid': 6039, 'll sicca': 9409, 'catch bitch': 3008, 'is game': 7957, 'curse user on': 3935, 'hoe mess': 7363, 'user all hoe': 16552, 'tempted': 15473, 'lmaocurse': 9423, 'curl of': 3689, 'fucking he': 5667, 'lmaocurse curse': 9424, 'wannago': 17517, 'themcurse': 15665, 'll shit': 9406, 'birch face': 1615, 'anne': 751, 'bonne': 2487, 'tiny': 15951, 'crisis': 3620, 'as bitchescurse': 941, 'bitchescurse curse': 2399, 'dere': 4274, 'user two': 17254, 'best yankee': 1472, 'dere peter': 4275, 'curse user two': 3956, 'consider': 3444, 'mention bitchcurse': 10154, 'say bitch': 13911, 'know curse': 8750, 'user mention bitchcurse': 16940, 'really hate': 13465, 'best curse': 1464, 'curse user really': 3939, 'user really hate': 17116, 'like argue': 9057, 'user hate bitch': 16794, 'hate bitch like': 6871, 'bitch like argue': 2107, 'day curl': 4164, 'happened': 6712, 'beer': 1418, 'go get': 6252, 'build': 2712, 'everybody got': 4941, 'seriously': 14135, 'fagcurse': 5056, 'mention or': 10473, 'not hate': 11684, 'user mention or': 16990, 'mention stupid': 10546, 'stupid bitch curse': 15127, 'brandon': 2587, 'motherfucking': 10858, 'he is bitch': 6994, 'is bitch night': 7903, 'tommy': 16057, 'as beat': 925, 'beat of': 1384, 'cut night': 4019, 'night not': 11409, 'back curse': 1193, 'interest': 7830, 'slide': 14540, 'bitch sweet': 2298, 'good look': 6362, 'user trying': 17246, 'run game': 13781, 'curse the': 3855, 'dumb bitch curse': 4649, 'make lot': 9803, 'amp tell': 693, 'tell hoe': 15453, 'male': 9836, 'cheerleader': 3150, 'all cut': 326, 'cut curse': 4005, 'amp got': 656, 'got all': 6393, 'sometimescurse': 14737, 'think am': 15747, 'user am bitch': 16561, 'avoid': 1130, 'support': 15209, 'child support': 3167, 'hoe amp': 7257, 'is ok': 8022, 'one side': 12544, 'birch know': 1659, 'are right': 876, 'all take': 389, 'take girl': 15317, 'heat': 7103, 'bandwagon': 1304, 'rider': 13653, 'like hoe': 9151, 'man created': 9867, 'juice': 8586, 'really got': 13463, 'say hatchet': 13920, 'hatchet fussy': 6862, 'fussy juice': 5799, 'juice ca': 8587, 'not say of': 11806, 'say hatchet fussy': 13921, 'hatchet fussy juice': 6863, 'juice ca not': 8588, 'he hashtag': 6986, 'not listen': 11726, 'listen lady': 9322, 'not listen lady': 11727, 'shit like': 14292, 'like retarded': 9228, 'grinding': 6582, 'hot bitch': 7508, 'seem': 14078, 'that one': 15580, 'not seem': 11810, 'seem get': 14079, 'get it': 6011, 'curse user that': 3947, 'ca not seem': 2827, 'ugly face': 16445, 'night curl': 11339, 'sex curse': 14163, 'mention lmfaoooo': 10392, 'okay bitch': 12437, 'available': 1128, 'bitch one': 2209, 'unload': 16500, 'picture bitch': 12932, 'user where': 17312, 'where hoe': 17866, 'shit got': 14282, 'curse user where': 3964, 'ham': 6691, 'face curl': 5029, 'curse user bitch': 3879, 'herecurse': 7140, 'hetty name': 7160, 'mock draft': 10770, 'agree': 195, 'illegal': 7708, 'wetback': 17779, 'fuck yes': 5639, 'curse user we': 3960, 'mention want': 10614, 'want eat': 17554, 'eat food': 4712, 'go party': 6266, 'user orel': 17093, 'curse user orel': 3936, 'hat': 6849, 'forgot': 5420, 'user black': 16621, 'black birch': 2412, 'fucking night': 5682, 'curse user black': 3880, 'user black birch': 16622, 'driving': 4596, 'fuckcurse': 5642, 'is gay': 7958, 'brandy': 2588, 'slowly': 14562, 'becoming': 1402, 'weapon': 17702, 'tom brandy': 16055, 'youcurse': 18432, 'if aunt': 7639, 'aunt got': 1102, 'got shit': 6482, 'want youcurse': 17593, 'youcurse curse': 18434, 'bare': 1320, 'dint': 4360, 'spent': 14841, 'care bout': 2971, 'bout curse': 2529, 'afraid': 175, 'pp think': 13117, 'traded': 16128, 'mentioncurse mention': 10665, 'negative': 11124, 'matas': 9969, 'curse he': 3776, 'he need': 7016, 'need curse': 11079, 'user like': 16881, 'like mention': 9175, 'curse user like': 3918, 'not got hoe': 11672, 'got hoe like': 6441, 'om': 12454, 'wish curse': 18011, 'curse stop': 3850, 'stop cry': 15040, 'cry bitch': 3644, 'stealing': 14952, 'user watching': 17273, 'watching hashtag': 17637, 'sweet bitch': 15263, 'curse user watching': 3959, 'wasp': 17617, 'twitter curse': 16387, 'thing like curse': 15737, 'scratch': 14006, 'lay': 8899, 'normal': 11540, 'my dog': 10957, 'dog like': 4469, 'down he': 4550, 'loyal curse': 9650, 'not loyal curse': 11740, 'loyal curse curl': 9651, 'this curl': 15818, 'curse user hell': 3907, 'he cry': 6959, 'cry in': 3647, 'curse user why': 3966, 'cleveland': 3261, 'niggahcurse': 11257, 'passed around': 12756, 'nervous': 11134, 'white folk': 17892, 'user mention curl': 16947, 'bitch still': 2292, 'curse user you': 3969, 'wo not listen': 18069, 'dusty': 4671, 'train': 16136, 'extra': 5007, 'extra as': 5008, 'curl he': 3679, 'user curse curl': 16662, 'curse curl he': 3743, 'regain': 13531, 'headache': 7078, 'nigh curse': 11285, 'after': 179, 'user after': 16542, 'get done': 5981, 'running train': 13789, 'curse is': 3786, 'is nasty': 8011, 'linked': 9302, 'lmfaoo': 9438, 'bagging': 1277, 'work curse': 18119, 'hoe ll': 7347, 'how bitch': 7535, 'curse user how': 3909, 'user how bitch': 16826, 'how bitch curse': 7536, 'donna': 4497, 'donna he': 4498, 'he even': 6970, 'mention fuck': 10251, 'user mention fuck': 16955, 'loaf': 9450, 'user de': 16674, 'de loaf': 4186, 'user de loaf': 16675, 'businesscurse': 2749, 'good got': 6355, 'take care': 15313, 'islamic': 8105, 'suspect': 15232, 'higher': 7192, 'pre': 13124, 'tool': 16088, 'mention ma': 10401, 'boy curse': 2560, 'is nothing': 8019, 'head as': 7067, 'hell now': 7116, 'now user': 11938, 'private': 13173, 'saw girl': 13904, 'curse do': 3752, 'curse do not': 3753, 'do not fuck': 4434, 'user killing': 16866, 'curse lie': 3793, 'want someone': 17586, 'user up': 17259, 'slut bitch': 14568, 'bitch girlfriend': 2027, 'ending': 4795, 'raised': 13349, 'to fussy': 15993, 'fussy stand': 5852, 'curl look': 3682, 'opinion': 12591, 'thocurse': 15847, 'user everybody': 16715, 'sit fuck': 14483, 'curse user everybody': 3896, 'huge': 7561, 'mental': 10065, 'dallas': 4072, 'is curl': 7918, 'curl go': 3676, 'go find': 6248, 'find he': 5236, 'user tea': 17193, 'channing': 3090, 'posted pick': 13100, 'life all': 9022, 'hoe would': 7419, 'fall love': 5077, 'love curse': 9588, 'fall love curse': 5078, 'thick bitch': 15720, 'biting': 2404, 'you fat': 18365, 'take picture': 15328, 'all look': 361, 'fat birch need': 5121, 'birch looking': 1673, 'first day': 5274, 'day school': 4178, 'school curl': 13986, 'first day school': 5275, 'lightskin': 9047, 'smhcurse': 14589, 'denial': 4262, 'mention and': 10093, 'fucking white': 5700, 'of curl bitch': 12053, 'hoe on na': 7379, 'bitch ever': 1990, 'team bitch': 15421, 'aux': 1126, 'cord': 3487, 'when night': 17843, 'aux cord': 1127, 'trash shit': 16200, 'shit curl': 14266, 'user when night': 17301, 'birch drive': 1610, 'song come': 14751, 'come curl': 3352, 'all fucking': 338, 'user all fucking': 16551, 'glory': 6227, 'lmfaooooooo': 9444, 'mention ai': 10074, 'll nigh': 9400, 'soft curse': 14663, 'user mention ai': 16928, 'mention ai not': 10075, 'ai not of': 259, 'what birch': 17783, 'want ah': 17535, 'what birch want': 17784, 'dermoid': 4277, 'obviously': 11971, 'or fussy': 12607, 'thocurse curse': 15848, 'fussy tight': 5864, 'when go': 17833, 'fussy smell': 5848, 'user when go': 17295, 'block': 2449, 'one ll': 12530, 'is dog': 7929, 'curse get': 3764, 'curse user it': 3913, 'user it is': 16856, 'bad bitch curse': 1242, 'bitch curse hashtag': 1957, 'mention find': 10245, 'house mention': 7524, 'trashcurse curse': 16214, 'answered': 779, 'phone call': 12891, '58': 59, 'mention like': 10375, 'user mention like': 16973, 'you gotta': 18376, 'gotta fuck': 6514, 'user you gotta': 17347, 'not hit': 11695, 'baltimore': 1298, 'mention shit': 10516, 'curse man': 3801, 'man hoe': 9877, 'user smoke': 17166, 'smoke good': 14596, 'good weed': 6371, 'weed bad': 17724, 'bad bitchcurse': 1250, 'user smoke good': 17167, 'smoke good weed': 14597, 'good weed bad': 6372, 'cap': 2948, 'user name': 17019, 'bitch living': 2114, 'gun like': 6632, 'ca not bitch': 2802, 'birch curl': 1595, 'user bad birch': 16589, 'bad birch curl': 1230, 'studying': 15116, 'nowcurse': 11940, 'shutcho': 14395, 'asks': 1053, 'he right': 7031, 'offended': 12394, 'called bitch': 2877, 'user am sorry': 16569, 'lmfaooo': 9439, 'user eat': 16700, 'fussy nd': 5822, 'user eat fussy': 16701, 'look like curse': 9505, 'like curse curl': 9099, 'user for': 16737, 'for curse': 5393, 'period curse': 12865, 'curse ca': 3733, 'curse ca not': 3734, 'homecoming': 7452, 'innumberdays': 7809, 'bitch went': 2370, 'hating': 6908, 'waycurse': 17669, 'user bout': 16623, 'get breast': 5966, 'curse user bout': 3881, 'can bring': 2917, 'bring another': 2620, 'bitch ah': 1844, 'ah curse': 201, 'curse user can': 3886, 'can bring another': 2918, 'bring another bitch': 2621, 'another bitch ah': 765, 'golden': 6322, 'golden ore': 6323, 'ore curse': 12625, 'curse yes': 3981, 'basically': 1338, 'circle': 3225, 'user ore': 17092, 'ego': 4746, 'always get': 436, 'curse user damn': 3890, 'not mean': 11749, 'mean like': 10030, 'like girl': 9137, 'user mention may': 16979, 'definitely': 4231, 'freely': 5462, 'curse bout': 3728, 'bout say': 2540, 'bitch shit': 2260, 'hurry': 7585, 'in hungry': 7747, 'yes bitch': 18317, 'ready curse': 13409, 'show as': 14366, 'thinking shit': 15790, 'mother': 10853, 'user lot': 16898, 'am yellow': 611, 'curse user lot': 3921, 'come trash': 3378, 'you still': 18419, 'ooh': 12572, 'come fuck': 3354, 'learn': 8914, 'when hoe': 17837, 'hoe going': 7316, 'it user when': 8461, 'user when hoe': 17298, 'cooling': 3481, 'fig mention': 5202, 'mention voice': 10610, 'voice curse': 17452, 'user yeah': 17339, 'yeah got': 18265, 'got wanted': 6499, 'daddy bitch': 4064, 'honesty': 7461, 'forcurse': 5401, 'ugly he': 16448, 'curse bitchcurse': 3726, 'curse bitchcurse curse': 3727, 'thirsty': 15795, 'hoe feel': 7306, 'like photo': 9216, 'photo didn': 12904, 'didn get': 4334, 'get enough': 5983, 'enough favorite': 4811, 'favorite curl': 5134, 'is curse': 7919, 'thirsty as': 15796, 'when hoe feel': 17838, 'hoe feel like': 7307, 'feel like photo': 5163, 'like photo didn': 9217, 'photo didn get': 12905, 'didn get enough': 4335, 'get enough favorite': 5984, 'enough favorite curl': 4812, 'ship': 14242, 'user done': 16690, 'all fuck': 336, 'mention boy': 10158, 'user mention boy': 16941, 'canadian': 2935, 'hosmer': 7500, 'how many': 7548, 'kit': 8716, 'treat': 16220, 'path': 12766, 'brush user': 2697, 'user treat': 17243, 'jay': 8511, 'hercules': 7135, 'mention thought': 10578, 'skin bitch': 14498, 'funniest': 5723, 'funniest thing': 5724, 've ever': 17392, 'ever seen': 4904, 'seen to': 14090, 'to curse': 15985, 'of user good': 12319, 'night like curl': 11393, 've ever seen': 17394, 'fucking trash': 5698, 'curse mentioncurse': 3809, 'man night': 9886, 'global': 6226, 'amp birch': 640, 'get hurt': 6010, 'common': 3401, 'summer': 15186, 'mention ll': 10382, 'night hate': 11371, 'hate sleeping': 6902, 'user mention ll': 16974, 'oh well': 12423, 'fed curse': 5149, 'chile': 3172, 'dave': 4147, 'chappelle': 3092, 'signed': 14439, 'am rich': 559, 'user of am': 17059, 'assure': 1064, 'get gutta': 5999, 'liking': 9287, 'picture get': 12934, 'get follow': 5989, 'as birch curse': 927, 'religion': 13551, 'curse user need': 3926, 'user might': 17004, 'might fuck': 10702, 'fuck around': 5518, 'around fuck': 906, 'eat as': 4708, 'fuck around fuck': 5520, 'to bitch curse': 15975, 'tonightcurse': 16072, 'the day': 15605, 'not happen': 11679, 'curse user the': 3948, 'wo not happen': 18067, 'make curse': 9783, 'gun not': 6633, 'na fuck': 11005, 'are bitch': 841, 'on na fuck': 12476, 'mention you': 10657, 'user mention you': 17002, 'lip curse': 9307, 'fussy lip curse': 5810, 'preaching': 13126, 'the bad': 15590, 'birch bad': 1568, 'start talking': 14920, 'the bad birch': 15591, 'thou': 15850, 'uncle charlie': 16465, 'curse hata': 3774, 'lance': 8844, 'trash anyway': 16161, 'learned': 8915, 'dick hashtag': 4316, 'dummy': 4662, 'really he': 13466, 'really curse': 13456, 'taking pick': 15340, 'when am': 17813, 'am home': 518, 'home curse': 7447, 'user sex': 17146, 'bitch hope': 2061, 'user sex bitch': 17148, 'pillow': 12948, 'somebody put': 14700, 'majority': 9772, 'arguing': 892, 'aorta': 810, 'timecurse': 15947, 'some people': 14695, 'people ca': 12819, 'of count': 12047, 'say fuck': 13915, 'people ca not': 12820, 'convoy': 3469, 'minded': 10733, 'user report': 17120, 'simple minded': 14451, 'if could': 7648, 'not ll': 11731, 'wiz': 18060, 'hair like': 6665, 'like duke': 9111, 'hoe control': 7280, 'control curl': 3463, 'these hoe control': 15692, 'hoe control curl': 7281, 'howard': 7555, 'elbow': 4753, 'mention if': 10339, 'got mob': 6460, 'verse': 17404, 'blocked': 2451, 'talk shit': 15361, 'shit twitter': 14324, 'twitter bitch': 16386, 'bitch blocked': 1906, 'felt': 5179, 'cling': 3268, 'hoe brow': 7271, 'that shit': 15581, 'porto': 13084, 'ricans': 13631, 'porto ricans': 13085, 'user my bitch': 17014, 'my bitch bad': 10949, 'facecurse': 5042, 'awe': 1143, 'mention pretty': 10487, 'rodriguez': 13725, 'ulcer': 16457, 'flex rodriguez': 5314, 'thought hashtag': 15862, 'brooklyn': 2654, 'jelly': 8519, 'lmaoooo': 9428, 'wit money': 18037, 'like young': 9280, 'domo': 4483, 'bitch ma': 2128, 'fuck ugly': 5629, 'll cool': 9372, 'cool son': 3479, 'mo': 10765, 'ed': 4734, 'darling': 4115, 'curse in': 3784, 'mention ca': 10167, 'not fit': 11641, 'last time': 8863, 'st curse': 14879, 'mention ca not': 10168, 'bitch sad': 2245, 'user tucked': 17248, 'dawn as': 4151, 'curse user tucked': 3954, 'tomorrowcurse': 16060, 'all to': 396, 'need sleep': 11110, 'all got': 343, 'go curse': 6245, 'disrespectful': 4399, 'term': 15483, 'user dont': 16691, 'curse user dont': 3893, 'mention gone': 10282, 'hoecurse curse': 7423, 'next time': 11232, 'time see': 15942, 'see bitch': 14046, 'time see bitch': 15943, 'mi': 10685, 'house curse': 7521, 'mention fuck bitch': 10253, 'fuck bitch curse': 5532, 'bundle': 2731, 'mention aunt': 10105, 'bitch happy': 2044, 'user mention aunt': 16934, 'you ca': 18356, 'silly he': 14446, 'you ca not': 18357, 'not get money': 11660, 'nigger birch': 11264, 'not curse': 11599, 'ai not curse': 228, 'mention dont': 10219, 'dont say': 4524, 'say shit': 13940, 'bitch lot': 2124, 'come see': 3371, 'user mention dont': 16951, 'night talk': 11446, 'user night talk': 17035, 'night talk birch': 11447, 'you little': 18389, 'stupid as': 15123, 'fucking curse': 5653, 'you little stupid': 18390, 'little stupid as': 9350, 'stupid as bitch': 15124, 'as bitch ai': 931, 'amp old': 681, 'may mention': 9993, 'mention amp': 10091, 'of talking': 12277, 'talking bout': 15369, 'bout hoe': 2534, 'mention bah': 10113, 'arm': 897, 'muddle': 10906, 'as monkey': 987, 'user sometimes': 17176, 'time year': 15946, 'birch live': 1668, 'shaving': 14200, 'purpose': 13264, 'user duke': 16695, 'gay curse': 5921, 'curse are': 3713, 'are retarded': 875, 'is eating': 7936, 'cut is': 4016, 'is woman': 8093, 'cook curse': 3472, 'curse gotta': 3768, 'resting': 13601, 'birch much': 1688, 'funny shit': 5732, 'user am going': 16563, 'debt': 4204, 'shit on': 14307, 'na get': 11007, 'get old': 6037, 'on na get': 12477, 'marcus': 9936, 'hopping': 7491, 'as mention': 985, 'goose': 6381, 'mentioncurse curse': 10664, 'fold': 5363, 'autocorrect': 1124, 'told never': 16049, 'amp never': 673, 'sell sole': 14105, 'deserved': 4283, 'foul': 5435, 'bitch tried': 2335, 'mouth curse': 10866, 'curse bye': 3732, 'digging': 4354, 'love shit': 9629, 'shit am': 14251, 'mention negro': 10430, 'curse am': 3709, 'looking hoe': 9535, 'mention is good': 10347, 'starburst': 14906, 'todaycurse': 16034, 'to he': 15997, 'shut to he': 14394, 'to he as': 15998, 'pay hoe': 12785, 'night all': 11305, 'user bitch night': 16618, 'wardrobe': 17601, 'consist': 3449, 'mostly': 10852, 'legging': 8944, 'guilty': 6622, 'something curse': 14724, 'curse user in': 3911, 'eat whole': 4723, 'not afraid': 11549, 'fucking queer': 5687, 'acting': 139, 'halloween since': 6690, 'acting like': 140, 'you want': 18428, 'want little': 17568, 'treat like': 16224, 'pool': 13069, 'fucking hard': 5663, 'yeah are': 18261, 'are fussy': 853, 'edward': 4740, 'reality': 13442, 'mention old': 10466, 'old bitch curse': 12442, 'love song': 9632, 'song of': 14758, 'talking of': 15379, 'of shit': 12255, 'bitch wit': 2378, 'wit da': 18028, 'like of bitch': 9194, 'am walking': 603, 'walking around': 17496, 'curse user just': 3914, 'we all': 17677, 'going sleep': 6315, 'sleep curse': 14529, 'curse far': 3758, 'mmm': 10764, 'daily': 4069, 'user mmm': 17008, 'via mentioncurse': 17415, 'amp mention': 672, 'mention love': 10397, 'love being': 9578, 'mention they': 10572, 'even hoe': 4860, 'when fuck': 17829, 'good dick': 6347, 'go crazy': 6243, 'preach': 13125, 'mention many': 10408, 'many hoe': 9921, 'hoe is': 7330, 'not back': 11560, 'sounded': 14798, 'inspiring': 7819, 'user ve': 17265, 'sounded like': 14799, 'last day': 8857, 'slim': 14544, 'waist': 17469, 'innocent': 7808, 'redskin': 13519, 'agreement': 197, 'theme': 15666, 'fussy wet': 5874, 'wet curse': 17777, 'curse user who': 3965, 'fussy wet curse': 5875, 'pot': 13103, 'dreaming': 4573, 'tucked curse': 16333, 'gospel': 6387, 'lmfaooooooooo': 9446, 'mention may bitch': 10410, 'mania': 9904, 'fine as': 5244, 'night look': 11397, 'dat curse': 4125, 'disrespected': 4398, 'amp feel': 649, 'bitch try': 2337, 'switch': 15289, 'curse hell': 3777, 'bread': 2596, 'mention who': 10629, 'playoff': 13021, 'of lolcurse': 12164, 'hating as': 6909, 'onecurse': 12558, 'night want': 11471, 'want good': 17562, 'not gone': 11668, 'curse boy': 3729, 'user night want': 17036, 'want good girl': 17563, 'ai not gone': 240, 'splash': 14855, 'wednesday': 17720, 'mention damn': 10207, 'user mention damn': 16950, 'daughter': 4146, 'user mon': 17009, 'dont call': 4501, 'call girl': 2861, 'somebody is': 14698, 'call girl bitch': 2862, 'bitch that is': 2314, 'activity': 146, 'pet': 12878, 'white kiss': 17899, 'calling people': 2897, 'of nigger': 12205, 'of nigger of': 12206, 'dare': 4106, 'lamp': 8843, 'purse': 13265, 'true dat': 16260, 'fuck or': 5600, 'fuck or bitch': 5601, 'or bitch curl': 12602, 'faggotcurse': 5057, 'see he': 14053, 'as way': 1026, 'way go': 17661, 'go listen': 6260, 'pretty good': 13154, 'bout time': 2543, 'time user': 15945, 'man want': 9897, 'tell bitch': 15442, 'when fussy': 17830, 'user when fussy': 17293, 'when fussy stand': 17831, 'user remember': 17119, 'brow curse': 2662, 'people curse': 12824, 'naval': 11061, 'car curl': 2957, 'got hoe ll': 6442, 'chat': 3130, 'if is': 7667, 'is sending': 8055, 'sending node': 14117, 'snap chat': 14610, 'user if is': 16842, 'vehicle': 17400, 'utah': 17371, 'whole lot': 17930, 'white fussy': 17893, 'curl mention curse': 3687, 'spongebob': 14860, 'user relationship': 17118, 'two birch': 16402, 'birch not know': 1697, 'automatically': 1125, 'toll': 16052, 'everyone think': 4954, 'think are': 15749, 'are funny': 852, 'darkskin': 4112, 'darkskin girl': 4113, 'girl ugly': 6175, 'ugly of': 16453, 'urban': 16524, 'stolen': 15027, 'world of': 18142, 'of hetty': 12130, 'hata curl': 6852, 'of mean of': 12185, 'is like': 7994, 'it is like': 8138, 'holly': 7436, 'nooooo': 11539, 'uglier': 16432, 'white girl': 17894, 'bad built': 1251, 'hoe ever': 7301, 'he amp': 6937, 'survival': 15230, 'can get': 2920, 'type birch': 16423, 'witty': 18057, 'witty birch': 18058, 'user ready': 17111, 'blow bitch': 2457, 'curse user ready': 3938, 'pony': 13067, 'dusted': 4670, 'mention could': 10187, 'not find': 11639, 'let alone': 8953, 'user mention could': 16946, 'mention could not': 10188, 'user wont': 17330, 'wont got': 18104, 'aye am': 1155, 'am living': 527, 'curse user wont': 3968, 'user wont got': 17331, 'user dumb': 16696, 'curse user dumb': 3894, 'awaycurse': 1142, 'keep birch': 8633, 'user trust': 17245, 'trust birch': 16267, 'user is': 16853, 'bitch started': 2290, 'started talking': 14923, 'curse user is': 3912, 'talking shit curse': 15381, 'meeting': 10047, 'jobcurse': 8556, 'benefit': 1450, 'not nothing': 11769, 'nothing better': 11901, 'ai not nothing': 257, 'shit right': 14312, 'curse seen': 3843, 'the he': 15617, 'gap': 5900, 'user heard': 16803, 'what curl': 17786, 'to life': 16004, 'brush curse': 2692, 'nut bitch': 11959, 'mouth he': 10867, 'cuntcurse': 3661, 'user your': 17356, 'your opinion': 18457, 'opinion irrelevant': 12592, 'user your opinion': 17359, 'your opinion irrelevant': 18458, 'bark': 1322, 'is called': 7909, 'the truth': 15650, 'right fussy curl': 13670, 'smack': 14569, 'playground': 13011, 'when see': 17847, 'bitch talking': 2302, 'user when see': 17305, 'when see bitch': 17848, 'want and': 17538, 'booty he': 2501, 'big booty he': 1519, 'booty he curse': 2502, 'brow user': 2672, 'hate nose': 6890, 'nose bitch': 11544, 'hate nose bitch': 6891, 'beef': 1411, 'niggascurse': 11260, 'den': 4258, 'am fixing': 497, 'ax': 1149, 'when girl': 17832, 'girl take': 6168, 'user when girl': 17294, 'breed': 2608, 'slammed': 14511, 'user new': 17024, 'curse user new': 3928, 'popping': 13078, 'not pay': 11780, 'pregnant curse': 13134, 'ion see': 7853, 'fussy ai': 5741, 'fussy ai not': 5742, 'mention ahahah': 10073, 'bitch make': 2136, 'user mention ahahah': 16927, 'ray': 13392, 'ray rice': 13393, 'month ago': 10830, 'user birch like': 16609, 'jam': 8497, 'fussy girl': 5788, 'within': 18051, 'unfortunately': 16481, 'user last': 16872, 'last night': 8860, 'night well': 11473, 'all female': 333, 'female love': 5186, 'user all female': 16550, 'shanty': 14189, 'want curse': 17552, 'nigh trying': 11297, 'accidentally': 115, 'pledge': 13033, 'pot brown': 13104, 'may hashtag': 9988, 'who else': 17916, 'call nigger': 2866, 'how feel': 7540, 'user make': 16909, 'amp hoe': 660, 'coolest': 3480, 'know hoe': 8769, 'curse user female': 3899, 'game fuck': 5891, 'amp all': 634, 'attitude curse': 1085, 'all birch amp': 318, 'it might': 8153, 'some female': 14691, 'female fussy': 5184, 'lure': 9668, 'milk': 10716, 'milk curse': 10717, 'mention maybe': 10413, 'mention shut': 10518, 'fuck fucking': 5556, 'trash night': 16191, 'user mention shut': 16993, 'mention shut fuck': 10520, 'shut fuck fucking': 14385, 'everybody love': 4945, 'love de': 9591, 'cause is': 3037, 'fuck may': 5581, 'constant': 3451, 'fear': 5139, 'sooooo': 14770, 'not keep': 11703, 'ca not keep': 2817, 'destroy': 4291, 'andros': 732, 'night shit': 11432, 'bitch night shit': 2177, 'award': 1133, 'sam': 13863, 'go curl': 6244, 'user dumb bitch': 16698, 'freak bitch': 5451, 'curse user let': 3917, 'condemn': 3429, 'kept': 8658, 'what fussy': 17794, 'put curse': 13280, 'almost': 413, 'is almost': 7872, 'not one': 11776, 'shiny': 14238, 'fuck like': 5574, 'class curse': 3244, 'am dead': 486, 'curse bitch am': 3721, 'birch come': 1587, 'come school': 3370, 'mamma ai': 9845, 'mamma ai not': 9846, 'jealous': 8514, 'subtweet': 15151, 'jealous birch': 8515, 'birch like curse': 1663, 'brain': 2582, 'yelled': 18292, 'having': 6923, 'all big': 316, 'birch look': 1671, 'birch look like': 1672, 'nature': 11059, 'if he': 7664, 'he sitting': 7037, 'curse hope': 3782, 'flaming': 5302, 'dead curse': 4190, 'he curl': 6960, 'felt like': 5180, 'really like': 13469, 'everyone else': 4951, 'user better': 16601, 'as people': 1008, 'bitch as people': 1875, 'got wife': 6502, 'wife curse': 17964, 'fall back': 5076, 'back night': 1203, 'girl he': 6139, 'he shit': 7035, 'behind back': 1429, 'what going': 17795, 'see got': 14051, 'hoe call': 7275, 'crash': 3579, 'would ve': 18203, 'not think': 11853, 'think know': 15772, 'curse shut': 3845, 'shut bitch': 14381, 'shut bitch as': 14382, 'tucked bitch': 16331, 'bitch left': 2101, 'user tucked bitch': 17249, 'case bitch': 2997, 'mention case bitch': 10176, 'user half': 16778, 'half hoe': 6681, 'hoe still': 7392, 'still got': 14990, 'shut curse': 14383, 'user nobody': 17041, 'nobody want': 11522, 'curse user nobody': 3931, 'ex girlfriend': 4967, 'if night': 7675, 'party every': 12744, 'every weekend': 4937, 'weekend he': 17738, 'curse user lady': 3915, 'party every weekend': 12745, 'na take': 11020, 'take of': 15322, 'some hoe': 14693, 'on na take': 12489, 'user some hoe': 17173, 'beef bitch': 1412, 'beef curse': 1413, 'user today': 17236, 'snow': 14619, 'swear see': 15254, 'like basic': 9066, 'typical': 16427, 'costume': 3499, 'officer': 12404, 'police officer': 13054, 'excuse bitch': 4982, 'ice': 7607, 'sip': 14473, 'user red': 17117, 'ice bucket': 7608, 'bucket challenge': 2706, 'ice bucket challenge': 7609, 'smoking': 14602, 'stating': 14931, 'mention smoking': 10529, 'clothing': 3282, 'hate shit': 6900, 'birch think': 1751, 'is cut': 7920, 'hate shit like': 6901, 'birch think is': 1753, 'think is cut': 15770, 'woe': 18071, 'birch da': 1601, 'adam': 155, 'jones': 8571, 'mention already': 10079, 'walk room': 17491, 'boy am': 2556, 'am glad': 508, 'you dumb': 18363, 'user making': 16910, 'weed brownish': 17727, 'the hoe': 15619, 'lover': 9640, 'curl old': 3690, 'fell': 5174, 'draw': 4569, 'clothes': 3281, 'perry': 12868, 'org love': 12640, 'user hoe like': 16817, 'hoe like of': 7346, 'curse of curl': 3824, 'knee': 8722, 'mention slut': 10528, 'curse this': 3858, 'stand curse': 14895, 'curse user feel': 3898, 'user feel like': 16724, 'user any': 16576, 'first night': 5280, 'wrestle': 18213, 'hard find': 6740, 'find hoe': 5237, 'diamond': 4301, 'quote weedy': 13326, 'like baby': 9061, 'curse user quote': 3937, 'user quote weedy': 17109, 'are like': 859, 'you ugly': 18426, 'stick one': 14965, 'new vi': 11208, 'vi trash': 17411, 'it of user': 8157, 'limp': 9291, 'only good': 12563, 'good night': 6367, 'night limp': 11395, 'pitt': 12966, 'user always': 16559, 'always trying': 448, 'girl amp': 6118, 'amp shit': 685, 'am never': 537, 'either curse': 4749, 'bitch the': 2315, 'user am never': 16565, 'like ll bitch': 9165, 'user that ai': 17202, 'single shit': 14469, 'shit boring': 14261, 'curse suck': 3851, 'suck bitch': 15161, 'muco': 10904, 'still trash': 15012, 'thanksgiving': 15531, 'turkey': 16345, 'user cry': 16658, 'bitch pick': 2217, 'togethercurse': 16038, 'pussycurse curse': 13276, 'user ion': 16852, 'ion care': 7848, 'care none': 2975, 'user never': 17022, 'made twitter': 9729, 'curse user never': 3927, 'am bos': 468, 'am bos as': 469, 'fussy much': 5821, 'fuck hashtag': 5565, 'hashtag day': 6779, 'all want': 399, 'want birch': 17543, 'birch big': 1571, 'booty bitchescurse': 2500, 'user all want': 16556, 'birch big booty': 1572, 'big booty bitchescurse': 1518, 'curse user not': 3932, 'user not like': 17047, 'jenny': 8522, 'weight': 17740, 'lose weight': 9549, 'stop giving': 15044, 'giving night': 6220, 'night fussy': 11356, 'jerk': 8525, 'actress': 148, 'ever met': 4894, 'met bitch': 10678, 'bitch tucked': 2340, 'tucked night': 16336, 'bitch tucked night': 2341, 'year curse': 18278, 'interview': 7840, 'hoe curl': 7284, 'user not love': 17048, 'love hoe curl': 9608, 'id rather': 7616, 'girl is': 6141, 'time curse': 15926, 'of bad bitch': 12009, 'user single': 17164, 'care are': 2969, 'are ugly': 883, '2nd': 39, 'alfred': 304, 'acre': 123, '4th': 54, 'gas': 5907, 'trade': 16127, 'gotta make': 6523, 'hint': 7205, 'speak': 14817, 'tried give': 16240, 'orel ice': 12632, 'ice cream': 7610, 'cream cake': 3595, 'user orel ice': 17095, 'orel ice cream': 12633, 'ice cream cake': 7611, 'rug': 13771, 'face of': 5039, 'ion even': 7849, 'bitch shut': 2264, 'bitch shut fuck': 2265, 'want birthday': 17544, 'all want birthday': 400, 'my sister': 10987, 'bout dat': 2531, 'action curl': 143, 'content': 3457, 'user lmaooo': 16887, 'shit funny': 14276, 'funny hoe': 5728, 'cotton': 3500, 'picked': 12925, 'cotton picked': 3501, 'the it': 15622, 'curse user look': 3920, 'order': 12620, 'bitch gutta': 2041, 'bitch lying': 2127, 'lying curse': 9674, 'alaska': 296, 'ignoring': 7701, 'better text': 1497, 'back cause': 1191, 'am serious': 565, 'serious curse': 14134, 'fucking mouth': 5676, 'winning curse': 17998, 'curse curl bitch': 3741, 'le': 8905, 'not send': 11813, 'shoot night': 14346, 'night short': 11433, 'short bitch': 14353, 'night short bitch': 11434, 'cut see': 4026, 'hoe everybody': 7303, 'everybody hashtag': 4942, 'hashtag curse hashtag': 6774, 'copper': 3485, 'thing love': 15739, 'life curse': 9028, 'blank': 2434, 'face bitch': 5027, 'viii': 17429, 'selfcurse': 14098, 'not lose': 11735, 'trying smoke': 16321, 'selfcurse curse': 14099, 'fast bitch': 5116, 'throttle': 15883, 'user mention havana': 16964, 'birthday little': 1832, 'happy birthday little': 6723, 'please curse': 13025, 'loyalcurse': 9657, 'not loyalcurse': 11742, 'ai not loyalcurse': 251, 'where birch': 17863, 'party curse': 12743, 'curse not know': 3820, 'giggler': 6109, 'am far': 493, 'stupid shit': 15141, 'stupid shit like': 15142, 'no one': 11507, 'one like': 12529, 'user no one': 17039, 'trash season': 16199, 'ca not wait': 2837, 'map': 9932, 'user boyfriend': 16626, 'all eat': 330, 'day long': 4173, 'salad': 13857, 'vegetable': 17399, 'potato': 13107, 'bitch give': 2028, 'give break': 6197, 'acuteness': 153, 'daycurse curse': 4180, 'need dick': 11080, 'stung': 15120, 'got amp': 6394, 'got curse': 6411, 'purge': 13262, 'classic': 3252, 'user tell': 17196, 'tell am': 15439, 'trying turn': 16326, 'am trying turn': 597, 'll got': 9384, 'dat sicca': 4135, 'user looking': 16896, 'clock': 3271, 'hour': 7517, 'new year': 11210, 'check to': 3144, 'lipping': 9314, 'gotta work': 6533, 'shit without': 14329, 'my friend': 10964, 'wreck': 18211, 'trying get': 16301, 'on make': 12467, 'try pull': 16287, 'pull curse': 13242, 'user am trying': 16571, 'am trying get': 593, 'following': 5374, 'bitch following': 2005, 'mention cut': 10205, 'cut he': 4014, 'll want': 9419, 'user mention cut': 16949, 'jazz': 8512, 'mention not he': 10446, 'bitch gay': 2020, 'likecurse': 9281, 'throw as': 15885, 'wont got type': 18105, 'night hoe': 11374, 'hoe man': 7357, 'user night hoe': 17033, 'brim': 2618, 'dis he': 4374, 'user shanty': 17149, 'fussy am': 5744, 'nowcurse curse': 11941, 'shown': 14377, 'not hurt': 11700, 'every damn': 4913, 'sent': 14126, 'someone told': 14719, 'told hoe': 16045, 'bitch in': 2071, 'peep': 12801, 'against': 184, 'fuck the': 5621, 'the girl': 15614, 'curl curse bitch': 3669, 'curse bitch as': 3722, 'boiled': 2478, 'nobody care': 11515, 'user nobody care': 17042, 'quicker': 13314, 'user men': 16924, 'user bitch am': 16614, 'am bitch am': 465, 'backwards': 1219, 'my phone': 10984, 'user my phone': 17018, 'nicer': 11241, '65': 69, 'mention right': 10505, 'right user': 13686, 'user ink': 16850, 'selling fussy': 14107, 'fussy 65': 5739, 'downy': 4555, 'know so': 8798, 'yes curse': 18318, 'pas am': 12751, 'face hoe': 5035, 'wannaact': 17504, 'user gave': 16752, 'gave bitch': 5913, 'bitch big': 1901, 'valentine': 17381, 'altar': 428, 'pope': 13074, 'tripped': 16250, 'brave': 2592, 'like want': 9262, 'want fuck': 17557, 'fuck would': 5636, 'curse one': 3832, 'one day': 12512, 'like want fuck': 9263, 'wonderful': 18101, 'night day': 11345, 'is night': 8017, 'user jordan': 16861, 'making fun': 9832, 'surprised': 15227, 'he go': 6980, 'picscurse': 12930, 'you aunt': 18349, 'night user': 11468, 'buy': 2780, 'slip': 14546, 'not catch': 11586, 'basketball': 1340, 'are really': 873, 'are good': 855, 'grow': 6591, 'mention grow': 10289, 'grow bitch': 6592, 'curse cut': 3750, 'scraped': 14005, 'reunion': 13623, 'curse real': 3838, 'night may': 11403, 'user girlfriend': 16763, 'girlfriend not': 6187, 'not really': 11797, 'curse right': 3840, 'right he': 13676, 'he as night': 6943, 'is nigger': 8016, 'nigger love': 11272, 'depressed': 4272, 'na bitch': 10999, 'bless': 2441, 'go take': 6275, 'thank curse': 15521, 'bitch fight': 1997, 'fight night': 5210, 'skinny birch': 14502, 'letting': 8999, 'let find': 8958, 'birch shit': 1723, 'shit to': 14321, 'it user let': 8315, 'gross': 6587, 'half birch': 6679, 'birch smoke': 1726, 'fightcurse': 5212, 'yellow light': 18308, 'light curse': 9043, 'birch day': 1602, 'talk birch day': 15348, 'birch day curse': 1603, 'movement': 10876, 'lmaooo curse': 9426, 'bitch bout': 1910, 'find bitch': 5234, 'dumbass': 4659, 'dont fuck': 4505, 'fuck you': 5640, 'you ll': 18391, 'll stupid': 9410, 'aunt fucking': 1099, 'you ll stupid': 18392, 'll stupid as': 9411, 'as bitch aunt': 932, 'bitch aunt fucking': 1886, 'aunt fucking wit': 1100, 'right now': 13684, 'all smack': 384, 'smack he': 14572, 'sarcastic': 13884, 'would know': 18182, 'damn sure': 4093, 'is really': 8045, 'far is': 5105, 'mention yeah is': 10650, 'girlscurse': 6190, 'can trust': 2930, 'secret': 14033, 'puff': 13232, 'mention well': 10620, 'well know': 17759, 'user mention well': 16998, 'paint': 12698, 'like one': 9208, 'mention nigh': 10436, 'user mention nigh': 16982, 'like damn': 9104, 'bitch lolcurse': 2118, 'like damn bitch': 9105, 'mention bitch in': 10139, 'awesome curse': 1145, 'curse mention hashtag': 3807, 'mention hashtag curl': 10297, 'best time': 1470, 'da day': 4045, 'know bout': 8745, 'night not know': 11411, 'my favorite': 10962, 'hoe home': 7327, 'user my favorite': 17016, 'bad birch come': 1229, 'patrol': 12772, 'ugly as': 16437, 'big bird': 1514, 'looking bitch': 9532, 'is pretty': 8037, 'why ca': 17942, 'why ca not': 17943, 'ca not love': 2818, 'retard curse': 13607, 'stop curse': 15041, 'trigger': 16243, 'dora': 4538, 'table': 15299, 'manner': 9908, 'like floppy': 9125, 'stop bitchcurse': 15038, 'huge bitch': 7562, 'mention just': 10356, 'game curse': 5890, 'curse that': 3853, 'bitch never': 2166, 'of game': 12097, 'whoever': 17924, 'curse dumb': 3755, 'got life': 6450, 'user feel sorry': 16725, 'curse dumb as': 3756, 'all bitch': 323, 'birch set': 1721, 'get life': 6017, 'get beat': 5959, 'bitch get life': 2024, 'outsidecurse': 12675, 'stop telling': 15057, 'mention when': 10624, 'ho curse': 7242, 'sign': 14438, 'user sign': 17162, 'bed curse': 1404, 'am right': 561, 'played curse': 13009, 'user congress': 16653, 'this great': 15826, 'great day': 6567, 'date hoe': 4143, 'work ll': 18124, 'discourse': 4379, 'user emma': 16707, 'pull eat': 13243, 'pull eat fussy': 13244, 'appreciate': 825, 'if ca': 7645, 'user if ca': 16836, 'if ca not': 7646, 'not get fussy': 11658, '18': 16, 'my daughter': 10954, 'jaw': 8510, 'curse user now': 3933, 'woman is': 18088, 'watching love': 17639, 'user you know': 17350, 'why let': 17950, 'hoe tear': 7400, 'why let hoe': 17951, 'let hoe tear': 8971, 'bitch world': 2385, 'saddest bitch world': 13814, 'stair': 14889, 'rocking': 13722, 'the home': 15620, 'shit hoe': 14286, 'is just': 7987, 'headphone': 7082, 'mention class': 10181, 'class right': 3249, 'bitch assure': 1881, 'brian': 2612, 'jigger': 8536, 'user know': 16868, 'chill curse': 3175, 'fuck dat': 5544, 'fuck dat bitch': 5545, 'course bitch': 3552, 'am maggot': 531, 'inner': 7806, 'not tell bitch': 11845, 'digit': 4355, 'uniform': 16484, 'epic': 4824, 'organization': 12644, 'user yankee': 17337, 'smooth': 14605, 'criminal': 3616, 'birch stand': 1728, 'my is': 10970, 'not matter': 11748, 'it not matter': 8155, 'user back': 16587, 'back hoe': 1199, 'hoe not': 7370, 'want am': 17537, 'hoe not want': 7373, 'halifax': 6687, 'divorced': 4416, 'wiz halifax': 18061, 'bitch getting': 2026, 'mention sick': 10524, 'twitpic': 16380, 'user twitpic': 17251, 'twitpic self': 16381, 'curse user twitpic': 3955, 'user twitpic self': 17252, 'deeper': 4222, 'forest': 5406, 'shocked': 14339, 'offering': 12402, 'receive': 13489, 'thing hoe': 15735, 'album trash': 299, 'stressing': 15090, 'one want': 12556, 'ugly night': 16452, 'partner': 12740, 'solo': 14685, 'user mention got': 16960, 'mention got hoe': 10286, 'hashtag sweet': 6833, 'sweet curl': 15264, 'like da': 9102, 'like da colored': 9103, 'nigger is': 11271, 'sorry ca': 14779, 'mad birch': 9697, 'sorry ca not': 14780, 'go outside': 6265, 'piece shit': 12939, 'breakfast': 2600, 'user early': 16699, 'curse but': 3731, 'anywhere': 809, 'mention do': 10216, 'fussy he': 5794, 'he ai': 6931, 'not going': 11667, 'he is fussy': 6995, 'he ai not': 6932, 'ai not going': 239, 'earring': 4694, 'specially': 14827, 'dandy': 4101, 'not play': 11782, 'curse no': 3817, 'user used': 17261, 'fat bitch': 5122, 'bitch everybody': 1992, 'made fun': 9720, 'ugly curse': 16443, 'harsh': 6753, 'statement': 14930, 'nasty as': 11047, 'night hope': 11375, 'hope get': 7478, 'strap': 15080, 'muhfuckas': 10913, 'am saying': 562, 'saying am': 13956, 'fuck train': 5627, 'let bitch': 8956, 'wo not let': 18068, 'not let bitch': 11718, 'square': 14874, 'night square': 11438, 'wind': 17990, 'knoll': 8735, 'night am': 11308, 'juice curse': 8589, 'figured': 5216, 'spread': 14868, 'trash year': 16212, 'earn': 4692, 'that birch': 15539, 'like wife': 9267, 'sobbing': 14646, 'hata bitch': 6851, 'mention hata bitch': 10300, 'think he': 15767, 'hoe he': 7325, 'written': 18219, 'new song': 11207, 'well done': 17754, 'middle finger': 10696, 'curse user big': 3877, 'am like bitch': 523, '1000': 4, 'bitch amp': 1862, 'lmfaocurse': 9437, 'user gun': 16776, 'hoe day': 7293, 'cause put': 3048, 'delicate': 4239, 'need get': 11082, 'get laid': 6014, 'like in': 9154, 'bc hoe': 1353, 'rico': 13646, 'watch hoe': 17630, 'money he': 10797, 'biggest': 1532, 'biggest hoe': 1537, 'hollywood': 7437, 'nick': 11245, 'trifling': 16242, 'one song': 12545, 'nick mind': 11247, 'bitch suck': 2295, 'comfortable': 3384, 'gut': 6636, 'amp get': 653, 'never saw': 11177, 'hate curse': 6874, 'it hoe': 8128, 'got manner': 6456, 'not got manner': 11673, 'trusting': 16276, 'just getting': 8609, 'noon': 11538, 'mention lmaooo': 10387, 'fuck he': 5566, 'hill': 7199, 'curse all': 3708, 'all go': 341, 'mother fucking': 10854, 'saycurse': 13954, 'twin': 16375, 'glass': 6224, 'mention too': 10586, 'too bad': 16075, 'colored glass': 3330, 'am driving': 489, 'irritated': 7867, 'female get': 5185, 'bitch called': 1925, 'you it': 18381, 'mad like': 9706, 'bitch get mad': 2025, 'grown': 6597, 'bitch play': 2219, 'not looking': 11734, 'still look': 14995, 'he twitter': 7057, 'girl is he': 6142, 'find way': 5241, 'mention would': 10639, 'dressed like': 4577, 'everyday curse': 4948, 'this guy': 15827, 'said is': 13838, 'ok let': 12433, 'know girl': 8761, 'bitch tell': 2303, 'whatever fuck': 17807, 'emma get': 4782, 'get one': 6038, 'mention ll bitch': 10383, 'master': 9968, 'is right': 8050, 'right bitch': 13663, 'mention curse am': 10198, 'hoescurse curse': 7426, 'value': 17385, 'clot birch': 3280, 'like someone': 9236, 'someone else': 14708, 'of another': 11995, 'another one': 774, 'luck': 9659, 'drunk bitch': 4615, 'are going': 854, 'going talk': 6316, 'shit say': 14313, 'say face': 13914, 'user if are': 16833, 'if are going': 7636, 'going talk shit': 6317, 'do not play': 4445, 'greet': 6576, 'one friend': 12516, 'mention nigger': 10435, 'user of go': 17066, 'literally': 9326, 'on scale': 12493, 'bitch literally': 2112, 'due fucking': 4631, 'fussy may': 5818, 'restless': 13604, 'is birthday': 7896, 'care bitch': 2970, 'trying find': 16298, 'am trying find': 591, 'simon': 14449, 'hardly': 6746, 'cared': 2978, 'harry': 6751, 'wtfcurse': 18230, 'just saw': 8620, 'user just saw': 16864, 'th': 15516, 'user see': 17141, 'mad hoe': 9705, 'hoe to': 7407, 'name of': 11037, 'the fussy': 15612, 'gotta go': 6516, 'sex is': 14164, 'of look': 12166, 'obamacare': 11966, 'webster': 17718, 'dwyer': 4674, 'go bed': 6237, 'not worth': 11896, 'user bitch said': 16620, 'ai not worth': 279, 'tat': 15401, 'group': 6589, 'undercover': 16471, 'birch call': 1580, 'mention gotta': 10287, 'gotta grow': 6517, 'grow curse': 6593, 'know birch': 8741, 'swear curse': 15248, 'hit of': 7232, 'of miss': 12193, 'discourse curse': 4380, 'that he': 15557, 'he gone': 6982, 'user that he': 17205, 'confused curse': 3437, 'same': 13864, 'user same': 17134, 'same hoe': 13866, 'user same hoe': 17135, 'fuck look': 5576, 'like ho': 9150, 'like yes': 9276, 'fuck look like': 5577, 'wig': 17973, 'closet': 3278, 'not fall': 11632, 'love bitchcurse': 9586, 'hang': 6705, 'night think': 11453, 'think hang': 15765, 'nothing bitch': 11902, 'user all night': 16554, 'scarlet': 13979, 'heard curse': 7091, 'fleet': 5309, 'vocabulary': 17447, 'user face': 16717, 'face birch': 5026, 'shine': 14236, 'shine hoe': 14237, 'baby daddy': 1171, 'poly': 13065, 'mention really': 10499, 'bitch bitch': 1903, 'bitch so': 2277, 'so bitch': 14623, 'wit curse': 18027, 'ca not fuck': 2811, 'not fuck wit': 11651, 'hung': 7574, 'bathroom': 1346, 'dominion': 4482, 'user of this': 17076, 'receipt': 13488, 'not read': 11794, 'user if not': 16845, 'user dat': 16671, 'hoe start': 7390, 'not forget': 11645, 'user mention aye': 16935, 'herd': 7136, 'mention wo': 10634, 'mention wo not': 10635, 'association': 1061, 'of real': 12238, 'rushed': 13791, 'want love': 17569, 'amp new': 674, 'new of': 11200, 'lying as': 9671, 'lying as hoe': 9673, 'right got': 13674, 'cut hoe': 4015, 'all good': 342, 'on the': 12494, 'am back': 458, 'cause not': 3044, 'not wannasee': 11881, 'cause not wannasee': 3046, 'love life': 9613, 'mention thirty': 10575, 'dumpster': 4665, 'dumpster juice': 4666, 'mention or fussy': 10474, 'or fussy smell': 12608, 'fussy smell like': 5849, 'mention mean': 10415, 'let night': 8981, 'smell fussy': 14585, 'not smell': 11822, 'user mention mean': 16980, 'user mitchell': 17007, 'user mention hashtag': 16962, 'modern': 10776, 'farm': 5112, 'system': 15297, 'all ever': 331, 'curse user fat': 3897, 'am outside': 547, 'lmfaooooo': 9441, 'practice': 13119, 'mention utf': 10606, 'utf bitch': 17374, 'worrying': 18158, 'meal': 10015, 'worried next': 18154, 'next bitch': 11220, 'fuck talking': 5619, 'worried next bitch': 18155, 'sweet curse': 15265, 'dont make': 4516, 'handsome': 6703, 'aunt said': 1114, 'said am': 13823, 'tend': 15476, 'wannafight': 17513, 'highest': 7193, 'hoe th': 7402, 'daytime': 4181, 'netflix': 11137, 'chuck': 3219, 'all say': 379, 'say are': 13910, '300': 41, 'user cut': 16668, 'curly': 3699, 'want see': 17584, '24': 32, 'all money': 365, 'badly': 1270, 'all hussy': 354, 'll it': 9390, 'it user if': 8300, 'to bitch not': 15981, 'charlie strong': 3120, 'curse user charlie': 3887, 'user charlie strong': 16645, 'got he': 6430, 'love curse curl': 9589, 'mummy': 10916, 'moneycurse': 10810, 'that curse': 15544, 'stage': 14887, 'hope trip': 7485, '247': 33, 'trouble': 16256, 'user show': 17154, 'the birch': 15593, 'honest': 7458, 'salt': 13861, 'night swear': 11444, 'the curl': 15600, 'ah let': 209, 'chill love': 3177, 'amp know': 665, 'mention curse ah': 10197, 'bill': 1541, 'pay bill': 12783, 'he told': 7053, 'told bitch': 16043, 'frozen': 5505, 'did bitch': 4329, 'frozen ever': 5506, 'ever let': 4891, 'let go': 8963, 'user did bitch': 16685, 'history': 7217, 'punched': 13257, 'accident': 114, 'bitch hurt': 2066, 'hurt curse': 7588, 'tax': 15405, 'fraud': 5449, 'voting': 17462, 'lawyer': 8898, 'doctor': 4455, 'mention them': 10568, 'of ran': 12235, 'say of night': 13937, 'say shit like': 13941, 'mention why': 10631, 'why all': 17938, 'maggot curse': 9739, 'curse want': 3971, 'try fuck': 16282, 'good curse': 6344, 'coast': 3299, 'sweetest': 15280, 'east coast': 4704, 'is colored': 7912, 'colored hair': 3331, 'come thou': 3375, 'thou curse': 15852, 'fuck next': 5586, 'think curse': 15754, 'shed': 14221, 'first one': 5282, 'curse really': 3839, 'crushed': 3637, 'in like': 7751, 'like total': 9251, 'bitch ve': 2351, 'stress': 15088, 'this girl': 15824, 'll love': 9395, 'guilt': 6621, 'not go': 11666, 'get hashtag': 6001, 'safe': 13816, 'traded like': 16129, 'like new': 9183, 'new mid': 11198, 'mid guess': 10693, 'guess is': 6614, 'is safe': 8052, 'safe say': 13817, 'say sold': 13942, 'sold sol': 14676, 'sol new': 14671, 'new life': 11196, 'traded like new': 16130, 'like new mid': 9184, 'new mid guess': 11199, 'mid guess is': 10694, 'guess is safe': 6615, 'is safe say': 8053, 'safe say sold': 13818, 'say sold sol': 13943, 'sold sol new': 14677, 'sol new life': 14672, 'coffee': 3312, 'humor': 7572, 'amp trash': 699, 'of curl hashtag': 12054, 'mention amp mention': 10092, 'massage': 9962, 'park': 12722, 'sea': 14021, '718': 73, '622': 65, '0221': 0, 'numberurl': 11952, 'curse best': 3717, 'best asia': 1460, 'asia massage': 1038, 'massage on': 9965, 'the brooklyn': 15596, 'brooklyn park': 2655, 'park slope': 12723, 'slope of': 14557, 'top rate': 16094, 'rate sea': 13382, 'sea curse': 14022, 'curse 718': 3703, '718 622': 74, '622 0221': 66, '0221 numberurl': 1, 'curse best asia': 3718, 'best asia massage': 1461, 'asia massage on': 1039, 'massage on the': 9966, 'on the brooklyn': 12495, 'the brooklyn park': 15597, 'brooklyn park slope': 2656, 'park slope of': 12724, 'slope of top': 14558, 'of top rate': 12295, 'top rate sea': 16095, 'rate sea curse': 13383, 'sea curse 718': 14023, 'curse 718 622': 3704, '718 622 0221': 75, '622 0221 numberurl': 67, 'the park': 15637, 'on the park': 12496, 'the park slope': 15638, 'curse grand': 3769, 'grand opening': 6549, 'opening curse': 12584, 'curse top': 3863, 'top class': 16091, 'curse oriental': 3834, 'oriental massage': 12646, 'massage curse': 9963, 'curse perfect': 3836, 'perfect curse': 12856, 'curse curse grand': 3748, 'curse grand opening': 3770, 'grand opening curse': 6550, 'opening curse curse': 12585, 'curse curse top': 3749, 'curse top class': 3864, 'top class curse': 16092, 'class curse oriental': 3245, 'curse oriental massage': 3835, 'oriental massage curse': 12647, 'massage curse perfect': 9964, 'curse perfect curse': 3837, 'perfect curse curl': 12857, 'defiantly': 4230, 'few': 5193, 'bitch few': 1996, 'few night': 5194, 'night already': 11306, 'traffic': 16131, 'amp keep': 663, 'keep bitch': 8634, 'is part': 8029, 'so night': 14639, 'lot night': 9562, 'understood': 16476, 'spray': 14866, 'breeze': 2609, 'really going': 13461, 'really bitch': 13451, 'bitch going': 2031, 'jean': 8517, 'bitch ask': 1877, 'trying hold': 16308, 'band curse': 1302, 'egg': 4743, 'time of': 15940, 'amp the': 694, 'birch start': 1729, 'hating curse': 6910, 'bitch lost': 2123, 'lost curse': 9556, 'palmar': 12702, 'amp say': 684, 'on hashtag': 12465, 'religious': 13552, 'social': 14651, 'social medium': 14652, 'metal': 10680, 'monkey ball': 10813, 'it birch': 8118, 'is yellow': 8102, 'it is yellow': 8147, 'aside': 1040, 'all joke': 356, 'joke aside': 8569, 'going thou': 6318, 'all joke aside': 357, 'and know': 722, 'curse and': 3712, 'and not': 727, 'fuck many': 5580, 'fuck nigh': 5590, 'weak curse': 17697, 'tell freak': 15443, 'ca not tell': 2834, 'august': 1091, 'angina': 739, 'august angina': 1092, 'my nigh': 10981, 'moaning': 10767, 'nn': 11486, 'ecstasy': 4732, 'got zone': 6503, 'zone nn': 18467, 'next fussy': 11224, 'like ecstasy': 9115, 'ecstasy curse': 4733, 'got zone nn': 6504, 'want bitch next': 17547, 'bitch next fussy': 2169, 'next fussy like': 11225, 'fussy like ecstasy': 5806, 'like ecstasy curse': 9116, 'poster': 13101, 'fussy till': 5865, 'fuck get': 5558, 'distressful': 4405, 'tweekin': 16370, 'bitch caught': 1930, 'week ago': 17732, 'run nigh': 13784, 'get curl': 5974, 'stopped': 15062, 'defense': 4229, 'of gutta': 12109, 'cause hoe': 3035, 'not either': 11613, 'ai not either': 231, 'these night': 15701, 'marked': 9945, 'ca not trust': 2835, 'trust hoe curl': 16271, 'not ask': 11559, 'cause ai': 3022, 'got of': 6471, 'cause ai not': 3023, 'bitch not got': 2185, 'not sleep': 11821, 'sleep nigh': 14531, 'nigh curl': 11284, 'entertain': 4815, 'flirting': 5326, 'friendly': 5495, 'nigh want': 11298, 'want that': 17589, 'is on': 8024, 'friendly as': 5496, 'from': 5499, 'year senior': 18288, 'is crazy': 7916, 'swag': 15235, 'aware': 1134, 'nigh call': 11283, 'curse rip': 3841, 'make he': 9797, 'not make he': 11746, 'get head': 6003, 'curse ma': 3800, 'baby mamma': 1177, 'kill to': 8678, 'to bitch get': 15977, 'cause to': 3049, 'bitch main': 2134, 'birthday main': 1834, 'main nigh': 9768, 'curse we': 3975, 'mentality': 10066, 'hate female': 6878, 'cherry': 3155, 'ever sex': 4905, 'keep fussy': 8639, 'fussy soon': 5851, 'time hashtag': 15934, 'cause like': 3039, 'nigh got': 11287, 'got girl': 6424, 'owe': 12680, 'foo': 5377, 'curse done': 3754, 'changed': 3087, 'thou shit': 15853, 'proof': 13204, 'believe is': 1437, 'guest': 6618, 'of as bitch': 11999, 'as bitch curse': 934, 'lesson': 8951, 'cost': 3497, '499': 52, 'hum': 7567, 'cold curse': 3317, 'all give': 340, 'every nigh': 4923, 'ever got': 4890, '499 curse': 53, 'know know': 8774, 'on fuck': 12461, 'birch on fuck': 1702, 'jack': 8491, 'really not': 13474, 'start of': 14916, 'hoe fuck': 7309, 'am meeting': 534, 'time bitch': 15923, 'bitch action': 1842, 'if curse': 7649, 'she know': 14211, 'angelo': 737, 'died': 4343, 'turtle': 16366, 'this nigh': 15833, 'ask of': 1047, 'of red': 12240, 'nina turtle': 11481, 'curse utf': 3970, 'took bitch': 16084, 'get around': 5951, 'never date': 11148, 'female another': 5183, 'another nigh': 771, 'nigh name': 11291, 'all really': 378, 'leo': 8946, 'not bring': 11578, 'nigh know': 11288, 'know would': 8809, 'counting': 3538, 'finest': 5251, 'am hard': 512, 'curse take': 3852, 'still look like': 14996, 'bust': 2750, 'mission': 10754, 'chill bitch': 3174, 'london': 9467, 'if ever': 7653, 'ever put': 4900, 'put trust': 13291, 'all always': 310, 'bake': 1282, 'nigh ca': 11281, 'even close': 4852, 'try make': 16286, 'make curl': 9782, 'nigh ca not': 11282, 'loyalty': 9658, 'if get': 7657, 'get to': 6059, 'curse be': 3716, 'mad cause': 9699, 'not owe': 11777, 'flap': 5303, 'ma kill': 9683, 'ma eat': 9680, 'ma pull': 9686, 'fussy dip': 5778, 'ma pull eat': 9687, 'eat fussy dip': 4715, 'young nigh': 18446, 'am to': 587, 'would think': 18201, 'young rich': 18448, 'trying fuck': 16299, 'bitch my': 2159, 'my ex': 10958, 'indiana': 7794, 'grammar': 6546, 'santa': 13880, 'responsibility': 13597, 'birch is': 1653, 'not answer': 11554, 'answer call': 777, 'not answer call': 11555, 'bike': 1540, 'profile': 13196, 'weak as': 17695, 'curse god': 3766, 'god is': 6298, 'as nigh curse': 994, 'ring finger': 13691, 'foot curse': 5387, 'mann': 9906, 'nothing curse': 11903, 'curse if': 3783, 'blood': 2454, 'wake bitch': 17483, 'bitch mass': 2139, 'charge': 3095, 'got tucked': 6492, 'phone bitch': 12890, 'bitch fixing': 2002, 'my baby': 10943, 'bitch shoot': 2261, 'fetch': 5191, 'shipped': 14243, 'limit': 9289, 'nigh said': 11295, 'like aunt': 9060, 'minute curl': 10743, 'want girl': 17560, 'controlling': 3465, 'like stop': 9238, 'fuck thought': 5624, 'she like': 14212, 'like nigh': 9186, 'like bitch fuck': 9074, 'allegedly': 404, 'texas bitch': 15500, 'bitch keep': 2082, 'keep text': 8650, 'text calling': 15508, 'calling cry': 2890, 'cry stressing': 3650, 'bitch allegedly': 1851, 'allegedly curse': 405, 'texas bitch keep': 15501, 'bitch keep text': 2083, 'keep text calling': 8651, 'text calling cry': 15509, 'calling cry stressing': 2891, 'another bitch allegedly': 766, 'bitch allegedly curse': 1852, 'on twitter': 12498, 'really fuck': 13458, 'pull trigger': 13249, 'curse that is': 3854, 'getting shot': 6096, 'good game': 6353, 'steady': 14948, 'ayeeee': 1158, 'gossip': 6388, 'gossip like': 6389, 'hoe birch': 7267, 'gossip like hoe': 6391, 'attractive': 1088, 'driven': 4592, 'know am': 8739, 'dagger': 4068, 'know real': 8795, 'real nigh': 13428, 'crazy curse': 3589, 'nigh dick': 11286, 'catch curl': 3009, 'she mad': 14214, 'got hit': 6434, 'back ll': 1202, 'central': 3066, 'checked': 3145, 'added': 157, 'grab': 6537, 'as music': 990, 'chris brown': 3212, 'come get': 3357, 'not sit': 11819, 'of where': 12365, 'of where hoe': 12366, 'where hoe of': 17867, 'deserve': 4282, 'not deserve': 11606, 'up curse': 16507, 'come town': 3377, 'success': 15156, 'birch say': 1715, 'say am': 13908, 'hanna': 6707, 'pen': 12803, 'jackson': 8493, 'iii': 7702, 'thirst': 15793, 'thirst trap': 15794, 'oat': 11965, 'bang': 1305, 'be like': 1364, 'happiness': 6716, 'lamb': 8837, 'like saying': 9231, 'money not': 10804, 'not buy': 11581, 'side hoe curse': 14431, 'broke nigh': 2648, 'tall': 15385, 'touchdown': 16109, 'catching feeling': 3015, 'talking bout of': 15371, 'of bitch need': 12025, 'come fussy': 3356, 'curl via': 3694, 'curl via mention': 3695, 'not mention': 11751, 'newest': 11215, 'privilege': 13174, 'white you': 17908, 'you all': 18335, 'jeff': 8518, 'attack': 1077, 'ad': 154, 'you see': 18417, 'video curl': 17425, '3000': 42, 'got fat': 6417, 'salute': 13862, 'cairo': 2846, 'scandal': 13971, 'scene': 13980, 'parent': 12719, 'is great': 7969, 'instagram': 7821, 'title': 15964, 'brace': 2578, 'itself': 8488, 'drowned': 4606, 'message': 10676, 'box live': 2552, 'return': 13622, 'est': 4841, 'lui': 9665, 'yellow curse': 18303, 'room curse': 13739, 'long make': 9477, 'provide': 13219, 'member': 10053, 'mention doe': 10218, 'pin': 12951, 'conservative': 3443, 'you night': 18403, 'like maggot': 9169, 'user you night': 17353, 'earl': 4684, 'mention what': 10622, 'nicholas': 11244, 'cage': 2845, 'stroll': 15102, 'madison': 9730, 'it say': 8162, 'shiny little': 14240, 'shiny little bitch': 14241, 'search': 14025, 'in the': 7775, 'sings': 14471, 'call fussy': 2860, 'retired': 13618, 'afterwards': 181, 'mention brush': 10162, 'brush ll': 2694, 'user mention brush': 16943, 'bird call': 1785, 'olive': 12452, 'shopping': 14349, 'user go': 16765, 'bird as': 1781, 'birch man': 1680, 'man curl': 9868, 'is wrong birch': 8099, 'user then': 17215, 'argument': 893, 'notion': 11917, 'era': 4830, 'passing': 12757, 'pip fussy': 12956, 'like bird': 9069, 'strolling': 15103, 'he say': 7033, 'cold of': 3320, 'bitch nobody': 2179, 'hit fig': 7225, 'sudden': 15171, 'fussy the': 5863, 'badge': 1269, 'tying': 16416, 'like retard': 9227, 'trill': 16245, 'animal cracked': 747, 'is shit': 8056, 'shit that': 14319, 'ankle': 748, 'sock': 14657, 'general': 5933, 'of it mention': 12149, 'user 10': 16540, 'hotel': 7515, 'gift': 6107, 'curse sorry': 3848, 'hotel room': 7516, 'soundcloud': 14797, 'tumbler': 16343, 'birch might': 1685, 'darkness': 4111, 'feel bad': 5154, 'catch feeling': 3010, 'damn time': 4095, 'ah hoe': 207, 'favored': 5131, 'colored hashtag': 3332, 'your fucking': 18454, 'fucking problem': 5686, 'problem hashtag': 13187, 'fuck am': 5516, 'going hashtag': 6308, 'kentucky': 8657, 'fucking nigger': 5681, 'show hashtag': 14369, 'hashtag all': 6759, 'll birch': 9363, 'amber': 616, 'amber rose': 617, 'bald head': 1288, 'worthless': 18164, 'are white': 885, 'indeed': 7790, 'camel': 2905, 'ostrich': 12653, 'debris': 4203, '57': 58, 'mention yes': 10654, 'camel ostrich': 2907, 'ostrich debris': 12654, 'camel ostrich debris': 2908, 'boon': 2493, 'boon mention': 2494, 'delivering': 4242, 'running around': 13787, 'if take': 7686, 'adult': 168, 'effect': 4741, 'doesncurse': 4462, 'offensive': 12398, 'like go': 9139, 'trash get': 16177, 'get good': 5998, 'vocal': 17448, 'workshop': 18134, 'dumb count': 4650, 'mention curse curl': 10202, 'mention hey': 10315, 'sunk as': 15194, 'visiting': 17443, 'mention try': 10590, 'grace': 6539, 'mention thank': 10561, 'ballot': 1297, 'election': 4759, 'bad or': 1265, 'stylish': 15146, 'human': 7568, 'trash bag': 16163, 'qaeda': 13296, 'market': 9946, 'faster': 5117, 'stock': 15024, 'al qaeda': 292, 'however': 7557, 'completely': 3413, 'armed': 899, 'country': 3539, 'mention put': 10491, 'you are fucking': 18340, 'bitch wife': 2377, 'loyal girl': 9653, 'day birch': 4161, 'finish': 5257, 'come go': 3359, 'birch come go': 1588, 'lonely': 9468, 'hoe watching': 7415, 'crossed': 3626, 'eyed': 5019, 'not control': 11593, 'ca not control': 2805, 'shiny bitch': 14239, 'lecture': 8926, 'night and': 11311, 'meaning': 10035, 'mange': 9902, '800': 80, 'slap hoe': 14517, 'as night user': 1004, '15': 13, 'mention on': 10467, 'need of': 11102, 'christmas': 3216, 'christmas birch': 3217, 'chilly': 3181, 'better birch': 1485, '20': 21, 'femur': 5190, 'bitch yea': 2388, 'yea look': 18258, 'room bitch': 13738, '111': 8, 'depot': 4271, '12': 9, 'oz': 12685, 'is trash': 8077, 'blocking': 2452, 'not start': 11828, 'do not start': 4446, 'homosexual': 7457, 'sunny': 15197, 'sicca mention': 14411, 'ever get': 4888, 'year old': 18286, 'old fussy': 12443, 'scrap': 14004, 'prison': 13172, 'north': 11542, 'poll': 13063, 'killing hoe': 8690, 'tower': 16119, 'gilbert': 6111, 'kill hoe': 8675, 'hashtag game': 6787, 'good hashtag': 6357, 'skull': 14507, 'trash curl': 16169, 'faced': 5043, 'faced bitch': 5044, 'everything curse': 4956, 'thing bitch': 15731, 'am broke': 471, 'of ha': 12111, 'late of': 8872, 'ca not say': 2825, 'say of am': 13934, 'starting': 14924, 'far hashtag': 5104, 'chill fuck': 3176, 'basic as': 1333, 'basic as birch': 1334, 'he like': 7001, 'bitch hell': 2056, 'talented': 15345, 'glad not': 6223, 'but not': 2768, 'bitchcurse curl': 2396, 'night getting': 11361, 'getting money': 6091, 'money birch': 10790, 'email': 4773, 'address': 163, 'guard': 6607, 'would put': 18195, 'tripping bitch': 16252, 'fight may': 5209, 'dealing': 4197, 'can stand': 2928, 'stand as': 14893, 'fell love': 5176, 'wid': 17957, 'birch fuck': 1624, 'understand': 16472, 'mention pick': 10480, 'pick trash': 12924, 'bitch hot': 2063, 'took flight': 16085, 'michigan': 10690, 'dont like': 4513, 'dey': 4298, 'pink': 12953, 'butcher': 2772, 'hoe pink': 7381, 'girl talk': 6169, 'talk of': 15358, 'girl talk of': 6170, 'heel': 7108, 'smelling': 14588, 'increase': 7788, 'bitch foot': 2006, 'am looking': 529, '40': 50, 'until': 16504, 'bitch drop': 1981, 'snatched': 14616, 'correction': 3496, 'fornumberyears': 5428, 'user beat': 16594, 'user beat fussy': 16595, 'beat fussy like': 1380, 'long birch': 9473, 'chip': 3191, 'good ll': 6361, 'screaming': 14009, 'missed': 10751, 'white men': 17901, 'got nerve': 6464, 'free throw': 5458, 'awake': 1132, 'bull': 2718, 'hopefully': 7488, 'wheel': 17811, 'am still': 576, 'still awake': 14972, 'so trash': 14643, 'hockey': 7248, 'my cat': 10951, 'll hashtag': 9385, 'is ugly': 8084, 'ugly that': 16454, 'fully': 5711, 'so like': 14634, 'pride': 13162, 'pride as': 13163, 'am big': 462, 'match': 9970, 'wit dis': 18031, 'dis sicca': 4376, 'fails': 5062, 'relate': 13540, 'leak': 8911, 'generation': 5935, 'he look': 7005, 'planter': 12989, 'mention let': 10373, 'let curse': 8957, 'new black': 11192, '85': 81, 'backward': 1218, 'specie bird': 14829, 'many area': 9916, '90': 83, 'percent': 12854, 'night good': 11364, '93': 86, 'missed call': 10752, 'call to': 2870, '95': 87, 'truly': 16262, 'awful': 1146, 'polite': 13059, 'people ve': 12851, '99': 89, 'trash dump': 16174, 'this good': 15825, 'problem bitch': 13185, 'ai not one': 261, 'discus': 4387, 'delicious': 4240, 'at point': 1069, 'filthy': 5226, 'it user all': 8169, 'the curse user': 15603, 'gorgeous': 6384, 'significant': 14440, 'he so': 7039, 'whisper': 17885, 'bitch use': 2346, 'happens': 6714, 'seems': 14082, 'clear': 3258, 'choice': 3198, 'is happens': 7973, 'seems like': 14083, 'crusty': 3639, 'hired': 7209, 'starbucks': 14905, 'touching': 16111, 'shaggy': 14179, 'bowl': 2549, 'graham': 6543, 'could fuck': 3508, 'graham cracked': 6544, 'unit': 16491, 'mention nothing': 10453, 'nothing like': 11909, 'last game': 8858, 'mention fully': 10264, 'touched': 16110, 'humanity': 7569, 'stain': 14888, 'impression': 7723, 'leaf': 8909, 'blessing': 2443, 'ground': 6588, 'beast': 1373, 'mention far': 10238, 'nasty curse': 11049, 'makar': 9773, 'republican': 13579, 'might well': 10708, 'foolish': 5385, 'serf': 14130, 'pretend': 13146, 'luff': 9664, 'arrogant': 914, 'dont see': 4525, 'belt': 1445, 'black woman': 2426, 'real nigger': 13427, 'praise': 13120, 'quality': 13298, 'pointing': 13049, 'convince': 3467, 'mention wonder': 10636, 'nigger amp': 11262, 'amp white': 702, 'white devil': 17891, 'is man': 8004, 'get amp': 5948, 'mind amp': 10728, 'mention curse birch': 10200, 'hoe brush': 7272, 'ah he': 206, 'would say': 18198, 'mention good': 10283, 'good enough': 6348, 'based': 1329, 'mention little': 10380, 'get home': 6009, 'mention little bitch': 10381, 'little bitch as': 9334, 'still little': 14993, 'though curse': 15856, 'is count': 7915, 'count he': 3530, 'doll': 4472, 'mention she': 10514, 'mention may curse': 10411, 'somewhere': 14738, 'mention go': 10277, 'somewhere else': 14739, 'mention soft': 10531, 'he fucking': 6973, 'shit gutta': 14283, 'figure': 5215, 'mention glad': 10276, 'still trying': 15013, 'give bitch': 6194, 'kicking': 8668, 'trash am': 16156, 'mention is trash': 10351, 'reminds': 13564, 'we got': 17680, 'get work': 6074, 'earlier': 4685, 'rhyme': 13630, 'mention said': 10507, 'of he of': 12123, 'gone die': 6331, 'not plain': 11781, 'ai not plain': 262, 'push': 13267, 'mention push': 10490, '14th': 12, 'amendment': 620, 'slave': 14521, 'lived': 9356, 'anchor': 709, 'mention time': 10579, 'anchor baby': 710, 'gage': 5880, 'squirrel': 14877, 'birch hoe': 1648, 'not surprised': 11835, 'hey not': 7174, 'not always': 11552, 'crazy birch': 3586, 'birch one': 1704, 'mention hey not': 10320, 'fury': 5736, 'mention laughing': 10367, 'urica': 16528, 'remembers': 13561, 'sigh': 14436, 'scarf': 13978, 'it is called': 8132, 'phil': 12886, 'firing': 5270, 'as want': 1025, 'iv': 8489, 'mention have': 10304, 'have heard': 6919, 'cleaned': 3256, 'tornado': 16103, 'is hetty': 7979, 'is sweet': 8067, 'mention shut bitch': 10519, 'bitch right': 2242, 'mention brush am': 10163, 'hetty hashtag': 7158, 'shit ll': 14296, 'll think': 9415, 'heard bitch': 7090, 'mention two': 10594, 'know damn': 8751, 'know damn well': 8752, 'mention you are': 10658, 'are fucking fussy': 851, 'birch trying': 1758, 'trying take': 16323, 'take money': 15319, 'aincurse': 285, 'mention talking': 10556, 'friend fussy': 5484, 'each': 4678, 'sits': 14487, 'sweat': 15257, 'mention we': 10618, 'time go': 15933, 'cry like': 3648, 'cry like bitch': 3649, 'comedy': 3383, 'writer': 18217, 'mention even': 10232, 'mean not': 10031, 'shiver': 14336, 'had hashtag': 6658, 'explaining': 4996, 'mention user': 10605, 'mention ve': 10607, 've seen': 17398, 'say is': 13926, 'is thing': 8071, 'll ok': 9405, 'curse hetty': 3778, 'mention giggler': 10273, 'giggler curse': 6110, 'mention emma': 10231, 'emma bitch': 4781, 'not hoe': 11697, 'fro': 5498, 'mention hell': 10311, 'mention big': 10119, 'get sleep': 6055, 'cell': 3062, 'internet': 7838, 'not use': 11875, 'aah': 92, 'birch ll': 1669, 'girl one': 6156, 'nigh ll': 11289, 'way home': 17662, 'mention nigh ll': 10437, 'testing bitch': 15494, 'like every': 9118, 'slow shit': 14560, 'mention lmaoooo': 10388, 'not seen': 11811, 'seen he': 14088, 'income': 7787, 'couple week': 3549, 'mention please': 10483, 'stay safe': 14943, 'love much': 9618, 'much he': 10896, 'he one': 7024, 'happy halloween': 6729, 'deserves': 4284, 'bitch deserves': 1970, 'is coming': 7913, 'notice': 11915, 'mention bad': 10109, 'mention bad bitch': 10111, 'mention parma': 10476, 'mention parma bitch': 10477, 'bitch stop': 2293, 'stop fucking': 15042, 'know utf': 8803, 'utf am': 17373, 'mention bitch stop': 10151, 'robbing': 13708, 'caution': 3051, 'pig': 12945, 'mention seen': 10511, 'll not': 9402, 'like pig': 9219, 'island': 8106, 'background': 1215, 'not feel': 11635, 'he getting': 6978, 'mention stop': 10543, 'mean bitch': 10021, 'green': 6573, 'doesn': 4461, 'yellow blue': 18298, 'skirt': 14506, 'pan': 12704, 'mention remember': 10501, 'hoe house': 7328, 'said got': 13836, 'cameron': 2910, 'man that': 9892, 'mention least': 10371, 'real man': 13424, 'always look': 441, 'reading': 13406, 'lyric': 9676, 'text message': 15514, 'not feel like': 11636, 'am trash': 589, 'mention am trash': 10089, 'dismissed': 4395, 'mood': 10831, 'morning hashtag': 10846, 'wannab': 17507, 'tm': 15965, 'bitch slapped': 2270, 'see not': 14062, 'mention hate': 10302, 'disgust': 4391, 'not problem': 11785, 'rather fuck': 13385, 'damn that': 4094, 'll he': 9386, 'mention retarded': 10503, 'think ugly': 15780, 'get fuck': 5993, 'press': 13142, 'fuck he as': 5567, 'he as bitch': 6942, 'mention home': 10329, 'wipe': 18003, 'credit': 3607, 'he let': 6999, 'blue yellow': 2462, 'mention cry': 10192, 'cry baby': 3643, 'baby bitch': 1168, 'dried': 4581, 'perfectly': 12860, 'guitar': 6625, 'recorded': 13499, 'mention didn': 10213, 'said bitch': 13828, 'peckerwood': 12799, 'good white': 6373, 'intellectual': 7827, 'highly': 7195, 'use word': 16533, 'mention fight': 10244, 'see happens': 14052, 'get real': 6047, 'principle': 13170, 'elementary': 4762, 'elementary school': 4763, 'causing': 3050, 'mention wrong': 10641, 'mention lucky': 10400, 'survive': 15231, 'cancer': 2939, 'property': 13208, 'hate yankee': 6905, 'go like': 6259, 'mention not bitch': 10443, 'bitch foh': 2003, 'cracked amp': 3568, 'well got': 17756, 'got see': 6481, 'invited': 7845, 'mention gun': 10291, 'embarrassment': 4776, 'mention everybody': 10234, 'lock drama': 9456, 'yeah birch': 18262, 'birch aunt': 1565, 'aunt shit': 1116, 'birch aunt shit': 1566, 'bitch see': 2254, 'bitch and': 1863, 'good luck': 6364, 'army': 901, 'rob': 13707, 'around bitch': 904, 'bitch like of': 2109, 'like of fuck': 9197, 'like crazy': 9096, 'mention where': 10625, 'mention bitch got': 10137, 'jungle': 8600, 'got pregnant': 6475, 'note': 11899, 'mention brow': 10161, 'brow know': 2667, 'heart attack': 7094, 'welcome': 17744, 'minor': 10739, 'according': 116, 'mention welcome': 10619, 'anyone get': 801, 'get even': 5985, 'brush bitch': 2690, 'bitch stand': 2287, 'mention ah bitch': 10072, 'fuck broke': 5537, 'broke as': 2641, 'as racism': 1010, 'gene': 5932, 'mention it is': 10353, 'mention either': 10230, 'either way': 4751, 'schedule': 13981, 'mention fussy as': 10267, 'talking maggot': 15376, 'mention answer': 10096, 'maggot hashtag': 9743, 'mention go sleep': 10279, 'wait see': 17474, 'fucking count': 5652, 'johnny': 8563, 'trash man': 16188, 'trash ll': 16186, 'cooking': 3474, 'mention miss': 10421, 'speak miss': 14819, 'red bone': 13507, 'add': 156, 'mon bitch': 10780, 'bitch of may': 2198, 'the ll': 15625, 'bitch trying': 2338, 'trying act': 16292, 'like ai': 9049, 'trying act like': 16293, 'like ai not': 9050, 'would go': 18178, 'suffer': 15174, 'mention are bitch': 10099, 'stop bitch': 15037, 'bitch cause': 1931, 'in bout': 7730, 'mention cause': 10177, 'mention literally': 10379, 'maggot you': 9756, 'bitch it': 2079, 'mention can': 10174, 'without talking': 18055, 'or count': 12603, 'or maggot': 12615, 'mention hit': 10324, 'like say': 9230, 'du': 4620, 'want hoe': 17566, 'is fucking': 7951, 'mention is fucking': 10346, 'is far': 7942, 'ruined': 13773, 'mention me': 10414, 'dick fussy': 4314, 'throbbing': 15880, 'mention finger': 10246, 'finger throbbing': 5254, 'throbbing fussy': 15881, 'fussy slowly': 5847, 'cum or': 3660, 'or face': 12605, 'mention finger throbbing': 10247, 'finger throbbing fussy': 5255, 'throbbing fussy slowly': 15882, 'magic': 9757, 'almighty': 412, 'toward': 16115, 'bitch due': 1982, 'mention quit': 10492, 'quit been': 13320, 'two year': 16413, 'put bitch': 13279, 'top bitch': 16090, 'shit dont': 14271, 'thou bitch': 15851, 'already know': 424, 'ha bitch': 6652, 'mention already know': 10080, 'mention right fussy': 10506, 'bearer': 1372, 'belong': 1442, 'mention send': 10512, 'one care': 12509, 'go fuck': 6249, 'winner': 17996, 'right like': 13678, 'like charlie': 9092, 'ulm': 16458, 'italian': 8484, 'voted': 17460, 'supported': 15210, 'pulled': 13251, 'circle of': 3226, 'legal': 8939, 'mention make': 10404, 'change name': 3085, 'mention cracked': 10191, 'cracked jack': 3572, 'shut shit': 14389, 'mention am on': 10087, 'really is': 13467, 'not wannahear': 11880, 'lame': 8838, 'lame bitch': 8841, 'gay shit': 5924, 'bitch get fuck': 2023, 'mention wing': 10632, 'mail': 9762, 'pile': 12946, 'twas': 16369, 'butthurt': 2777, 'woke bed': 18073, 'bed full': 1405, 'full birch': 5705, 'birch ai': 1553, 'not been': 11564, 'been fucking': 1416, 'shit bout': 14262, 'night said of': 11429, 'woke bed full': 18074, 'bed full birch': 1406, 'full birch ai': 5706, 'birch ai not': 1554, 'ai not been': 220, 'comeback': 3382, 'is dead': 7924, 'maggot go': 9741, 'go little': 6261, 'little as': 9328, 'as dick': 956, 'accent': 110, 'continues': 3459, 'mention dumb': 10226, 'bitch soft': 2278, 'tokyo': 16040, 'jet': 8531, 'produced': 13191, 'bitch on na': 2208, 'mention drama': 10222, 'drama is': 4566, 'site': 14486, 'mention dat': 10210, 'dat colored': 4124, 'na end': 11004, 'on na end': 12475, 'ala': 293, 'limited': 9290, 'painless': 12697, 'think sick': 15778, 'want one': 17578, 'new birch': 11190, 'bush': 2745, 'like all': 9051, 'big bitch': 1515, 'na curse': 11002, 'follow back': 5366, 'mention lmfaoo': 10390, 'you stupid': 18420, 'bitch knowing': 2092, 'he ever': 6971, 'mention tell': 10559, 'boy he': 2567, 'he called': 6955, 'trash body': 16165, 'mon not': 10782, 'mention lmfaooo': 10391, 'soulless': 14790, 'is another': 7878, 'like would': 9271, 'not far': 11633, 'bitch brush': 1916, 'he look like': 7006, 'victory': 17421, 'disgrace': 4389, 'bad he': 1258, 'he maggot': 7010, 'see big': 14044, 'bomb': 2482, 'got bomb': 6407, 'bomb fussy': 2483, 'bird curse': 1791, 'tear curse': 15425, 'eat bitch': 4709, 'attacked': 1078, 'ape shit': 814, 'pa': 12686, 'over': 12677, 'cent': 3064, 'holy fucking': 7440, 'like put': 9220, 'muzzle': 10941, 'fucking muzzle': 5677, 'let fussy': 8961, 'fussy take': 5859, 'slaying': 14526, 'fucking soon': 5693, 'copy': 3486, 'song bitch': 14749, 'is birch': 7893, 'the one': 15636, 'is friend': 7949, 'not exist': 11627, 'really love': 13470, 'mention dare': 10209, 'come to': 3376, 'dat mean': 4129, 'mean get': 10023, 'therefore': 15679, 'campaign': 2912, 'mention sure': 10550, 'think woman': 15783, 'of woman': 12375, 'protest': 13214, 'beg': 1421, 'go right': 6271, 'fussy in': 5796, 'he live': 7002, 'll nigger': 9399, 'service': 14139, 'well is': 17758, 'irish': 7862, 'settling': 14149, 'resists': 13591, 'regret': 13536, 'mention chill': 10180, 'cut all': 3993, 'he in': 6992, 'mention ha bitch': 10293, 'trailer': 16132, 'trailer trash': 16135, 'country get': 3540, 'mention lafa': 10365, 'fried': 5478, 'gray': 6564, 'rolling': 13732, 'coal': 3298, 'birch ready': 1710, 'mention thanks': 10562, 'thanks run': 15530, 'crew': 3612, 'got as': 6396, 'bump': 2725, 'danger': 4102, 'mention always': 10083, 'wit nigh': 18039, 'good looking': 6363, 'lately': 8873, 'brazil': 2593, 'tour': 16113, 'jacob': 8494, 'similar': 14448, 'love maggot': 9615, 'mention pas': 10478, 'maiden': 9761, 'greedy': 6572, 'broker': 2652, 'mention yeah bitch': 10648, 'status': 14933, 'lololol': 9465, 'mention seriously': 10513, 'promised': 13202, 'racism bitch': 13332, 'inured': 7842, 'mention eat': 10228, 'hoe tell': 7401, 'not pas': 11779, 'shop': 14348, 'mention never': 10431, 'angela': 736, 'keep talking': 8648, 'pearl': 12796, 'mention there': 10569, 'is reason': 8046, 'yankee not': 18245, 'answer phone': 778, 'mention trash': 10588, 'current': 3700, 'mention pull': 10489, 'acid': 121, 'stupid maggot': 15137, 'maggot am': 9734, 'am leaving': 521, 'till like': 15915, 'ignorant': 7697, 'now night': 11934, 'right mention': 13680, 'hoe trying': 7411, 'mention wake': 10613, 'like rest': 9226, 'ion like': 7851, 'trash brow': 16166, 'degree': 4233, 'first bitch': 5272, 'couch': 3502, 'sight': 14437, 'say you': 13953, 'woman want': 18095, 'fault': 5129, 'is fault': 7943, 'citizen': 3227, 'hoe yet': 7420, 'realized': 13446, 'unless are': 16497, 'yankee year': 18250, 'year what': 18289, 'hoe damn': 7292, 'peak': 12793, 'he this': 7047, 'mention ugh': 10598, 'now are': 11921, 'coming back': 3386, 'beat bitch': 1378, 'mention damn bitch': 10208, 'load': 9448, 'mention young': 10660, 'rape bitch': 13371, 'bitch posted': 2226, 'tap': 15391, 'never hit': 11161, 'gain': 5881, 'fuck maggot': 5578, 'mention fuck maggot': 10256, 'gotta see': 6527, 'mention da': 10206, 'da fuck': 4047, 'mention these': 10570, 'maggot as': 9735, 'like keep': 9157, 'center': 3065, 'woman like': 18089, 'we night': 17686, 'let one': 8984, 'mention kiss': 10360, 'got white': 6500, '70': 72, 'bitch of ll': 2197, 'bob': 2470, 'farewell': 5111, 'mention at': 10103, 'supporter': 15211, 'mention unna': 10603, 'spoil': 14857, 'fig not': 5203, 'sand': 13873, 'sand nigger': 13874, 'entertaining': 4817, 'mention not like': 10448, 'ultimate': 16459, 'proved': 13218, 'hall': 6688, 'fame': 5082, 'mention true': 10589, 'mention wait': 10612, 'the new': 15630, 'new one': 11201, 'bitch lucky': 2126, 'decided': 4209, 'retarded hashtag': 13615, '64': 68, 'explain': 4995, 'logic': 9462, 'mention hut': 10337, 'please explain': 13026, 'mention sound': 10537, 'like holding': 9152, 'mention sound like': 10538, 'hooker': 7473, 'thursday': 15897, 'tapped': 15393, 'career': 2979, 'the guy': 15615, 'mention hussy': 10336, 'roasted': 13706, 'smiling': 14592, 'cheek': 3147, 'sore': 14773, 'mention eating': 10229, 'to trash': 16019, 'mention to trash': 10582, 'disrespecting': 4400, 'mention racism': 10493, 'racism mention': 13333, 'mention racism mention': 10494, 'mention ask': 10102, 'is red': 8047, 'red yellow': 13513, 'oka': 12434, 'nowhere': 11942, 'spur': 14871, 'is team': 8069, 'house nigger': 7525, 'bitch mind': 2148, 'mind business': 10730, 'something nothing': 14729, 'terrified': 15486, 'problem like': 13188, 'basic birch': 1336, 'waddup': 17467, 'sunk as bitch': 15195, 'as bitch hashtag': 935, 'thrown': 15894, 'night chill': 11333, 'don': 4484, 'mention fucking': 10259, 'trip bitch': 16248, 'amp ill': 661, 'greatest bitch': 6571, 'mention he as': 10306, 'skin birch': 14497, 'mention hetty': 10314, 'curse bad': 3714, 'everybody shit': 4946, 'mention curse bad': 10199, 'curse bad bitch': 3715, 'bad bitch in': 1245, 'wussup': 18231, 'mention wussup': 10642, 'wussup bitch': 18232, 'mention wussup bitch': 10643, 'in mad': 7753, 'in fixing': 7736, 'throw bitch': 15886, 'fuck ah': 5511, 'mention bitch is': 10140, 'be bitch': 1357, 'mention bitch know': 10141, 'mention pop': 10486, 'mention ulm': 10601, 'eyebrow': 5017, 'papa': 12708, 'fixing get': 5297, 'you not know': 18405, 'drissa': 4588, 'leprechaun': 8947, 'farming': 5113, 'damn he': 4085, 'hoe said': 7384, 'said shit': 13851, 'better get': 1491, 'get hoe': 6008, 'big brow': 1521, 'brow am': 2660, 'trying tell': 16325, 'beyonccurse': 1504, 'mention whatever': 10623, 'gone get': 6332, 'bitch wet': 2371, 'something he': 14726, 'young night': 18447, 'fig hashtag': 5200, 'mention real': 10498, 'night the': 11452, 'save hoe': 13895, 'weekend make': 17739, 'make music': 9807, 'in trying': 7778, 'style': 15145, 'stubborn': 15107, 'syria': 15294, 'zip': 18465, 'er': 4829, '17': 15, 'tough': 16112, 'buy bitch': 2783, 'african': 177, 'handling': 6702, 'mention lesion': 10372, 'bitch knee': 2087, 'am coming': 477, 'mention bitch am': 10128, 'bitch ion': 2077, 'bye curse': 2793, 'mention bitch not': 10147, 'subtweets': 15153, 'package': 12689, 'delivered': 4241, 'mention oh bitch': 10460, 'mention org': 10475, 'bird could': 1789, 'mention not think': 10451, 'black bitch': 2413, 'got job': 6448, 'mention should': 10517, 'act right': 137, 'right night': 13682, 'in it': 7748, 'mention yellow': 10652, 'would bitch': 18166, 'he mention': 7013, 'mention text': 10560, 'put trash': 13290, 'defending': 4228, 'fuckboy': 5641, 'staying': 14947, 'accept fact': 112, 'sister maggot': 14478, 'mention way': 10617, 'delete sweet': 4237, 'stand bitch': 14894, 'mention gay': 10270, 'oh am': 12411, 'need guidance': 11089, 'mention hi': 10321, 'hi charlie': 7176, 'government': 6535, 'desert': 4281, 'come charlie': 3351, 'just trying': 8624, 'god damn': 6297, 'belongs': 1443, 'ma get': 9681, 'every time': 4935, 'throw trash': 15890, 'hypocrite': 7603, 'beget': 1423, 'snack': 14606, 'he but': 6951, 'cause he': 3034, 'not trash': 11859, 'trash is': 16181, 'is to': 8074, 'chink': 3189, 'billy': 1543, 'goat': 6288, 'mention ok': 10464, 'empire': 4785, 'said good': 13835, 'and said': 728, 'motherfuckin': 10857, 'slinging': 14545, 'dont bitch': 4500, 'mention dont bitch': 10220, 'face account': 5023, 'crime': 3615, 'fallen': 5079, 'pathetic': 12767, 'mention call': 10169, 'call someone': 2869, 'maggot say': 9750, 'mention not know': 10447, 'fully bitch': 5712, 'hatchet as': 6858, 'chester': 3157, 'mention ugly': 10599, 'as white': 1027, 'so guess': 14629, 'mention did': 10212, 'mention bow': 10157, 'hoe wit': 7418, 'wit to': 18044, 'took he': 16086, 'he trying': 7054, 'he know': 6998, 'fwom': 5878, 'cannon': 2945, 'not saying': 11808, 'like look': 9166, 'mention new': 10432, 'man all': 9856, 'lascar': 8854, 'rocked': 13719, 'soto': 14787, 'grass': 6562, 'diego': 4344, 'midnight': 10699, 'mention am bitch': 10085, 'mention wa': 10611, 'wait til': 17475, 'go pick': 6267, 'mention someone': 10533, 'ago bitch': 190, 'coley': 3321, 'bitch dat': 1964, 'bitch day': 1967, 'mention bitch look': 10143, 'bitch kill': 2085, 'to self': 16014, 'bitch kill to': 2086, 'kill to self': 8679, 'hate dumb': 6876, 'bitch watch': 2364, 'mention bitch watch': 10152, 'fuck dumb': 5548, 'bitch he': 2052, 'dumb as bitch': 4644, 'forcing': 5400, 'glass water': 6225, 'water bitch': 17641, 'realize': 13443, 'mention yes bitch': 10655, 'bred': 2607, 'maybe not': 10004, 'he trying get': 7055, 'trying get fussy': 16302, 'byeeeee': 2796, 'stole': 15026, 'know hashtag': 8765, 'yellow hashtag': 18306, 'league': 8910, 'dat one': 4133, 'one ugly': 12555, 'expecting': 4990, 'in going': 7741, 'mention in going': 10342, 'thanks bitch': 15525, 'bitch phone': 2216, 'hot pocket': 7513, 'brow is': 2666, 'dripping': 4587, 'mention found': 10250, 'wrote': 18229, 'mention god': 10280, 'think soon': 15779, 'know ll': 8777, 'are face': 848, 'mention because': 10115, 'because are': 1397, 'are far': 849, 'apparently': 818, 'around of': 910, 'mention do not': 10217, 'topic': 16097, 'fussy get': 5786, 'fever': 5192, 'shit talker': 14318, 'need girl': 11084, 'girl night': 6151, 'hit night': 7231, 'fussy change': 5768, 'get friend': 5992, 'friend zone': 5494, 'body curse': 2475, 'mention yeah right': 10651, 'mention called': 10170, 'like to': 9250, 'girl wit': 6181, 'wit colored': 18026, 'threat': 15870, 'ink is': 7804, 'is probably': 8038, 'go buy': 6240, 'buy birch': 2782, 'kitten': 8718, 'dumb fucking': 4653, 'plot': 13035, 'twist': 16378, 'plot twist': 13036, 'where of': 17869, 'showing': 14376, 'mention people': 10479, 'shit get': 14278, 'get shot': 6054, 'of people': 12226, 'people hate': 12828, 'chart': 3126, 'll hell': 9387, 'level': 9000, 'lake': 8836, 'held': 7110, 'drowning': 4607, 'or vi': 12617, 'today bitch': 16025, 'green bitch': 6574, 'as not': 1005, 'not help': 11692, 'bitch as not': 1873, 'mention poor': 10485, 'see am': 14041, 'am finn': 496, 'hoe funny': 7311, 'mention sicca': 10523, 'mention niece': 10434, 'training': 16139, 'mention fig': 10243, 'mention guess': 10290, 'fuck someone': 5615, 'laying': 8902, 'outnumbered': 12670, 'laying bed': 8903, 'on na bitch': 12470, 'fishing': 5287, 'well go': 17755, 'are trash': 881, 'bout make': 2536, 'girl fussy': 6131, 'fuck ll': 5575, 'bitch polly': 2223, 'bitch check': 1934, 'shriek': 14378, 'spraying': 14867, 'tell stop': 15464, 'na he': 11010, 've never': 17397, 'never called': 11144, 'vogue': 17450, 'not right': 11801, 'know hoe ai': 8770, 'ai not right': 267, 'mention bitch shut': 10150, 'definition': 4232, 'mention rather': 10496, 'mention due': 10224, 'willing': 17983, 'maggot is': 9744, 'mention bitch as': 10129, 'mention awe': 10106, 'bitch vi': 2353, 'as ll': 980, 'knocking': 8734, 'toast': 16021, 'mention no': 10439, 'come he': 3362, 'trying say': 16318, 'ai not even': 232, 'shit brow': 14263, 'in night': 7757, 'necessarily': 11066, 'since is': 14457, 'not necessarily': 11758, 'eh': 4747, 'especially': 4839, 'get fucking': 5994, 'propose': 13209, 'richardson': 13644, 'go hard': 6253, 'hard bitch': 6737, 'bitch way': 2365, 'pleased': 13031, 'spell': 14835, 'chicago': 3160, 'idiot': 7627, 'mention another': 10095, 'black man': 2421, 'mention ink': 10343, 'cause birch': 3027, 'as picture': 1009, 'mention might': 10419, 'care le': 2973, 'always got': 438, 'got sum': 6487, 'shit wit': 14328, 'fussy amp': 5745, 'hey bitch': 7168, 'quit bitch': 13321, 'not hold': 11698, 'mention hey bitch': 10316, 'little maggot': 9346, 'little fucking': 9341, 'mention dirty': 10214, 'asshole': 1059, 'alike': 307, 'are nigger': 867, 'interesting': 7832, 'hashtag maggot': 6812, 'll tell': 9413, 'dat white': 4137, 'mention ll tell': 10386, 'show birch': 14367, 'contain': 3456, 'used make': 16536, 'company': 3403, 'protected': 13213, 'maggot want': 9755, 'want protected': 17581, 'mean something': 10034, 'mention ll night': 10385, 'she bad bitch': 14203, '5th': 60, 'naturally': 11058, '5th grade': 61, 'man fuck': 9871, 'all show': 383, 'hug beer': 7560, 'stayed': 14946, 'bitch what': 2372, 'far of': 5108, 'little far': 9340, 'far curse': 5102, 'them hoe': 15664, 'hoe happy': 7322, 'yell': 18290, 'downstairs': 4553, 'bitch ran': 2231, 'mention malo': 10405, 'judging': 8585, 'life in': 9033, 'he already': 6935, 'merry christmas': 10670, 'drama bitch': 4565, 'sellout': 14108, 'still talking': 15009, 'man get': 9874, 'mention whoa': 10630, 'clan': 3236, 'sooner': 14769, 'mention would not': 10640, 'would not know': 18191, 'fo dat': 5356, 'mention all got': 10078, 've always': 17390, 'always wanted': 450, 've always wanted': 17391, 'legendary': 8943, 'curving': 3987, 'pleasure': 13032, 'you may': 18397, 'believe am': 1435, 'language': 8848, 'data': 4138, 'mention sorry': 10536, 'lethal': 8997, 'arsenal': 916, 'mike brown': 10710, 'puffed': 13233, 'one boy': 12508, 'lonely bitch': 9470, 'mention watch': 10616, 'apology': 817, 'oh wait': 12422, 'fee': 5150, 'is free': 7947, 'who da': 17915, 'da of': 4052, 'of white': 12367, 'gullible': 6626, 'music like': 10926, 'like sweet': 9242, 'or dick': 12604, 'not put': 11789, 'keep real': 8645, 'back bitch': 1190, 'mention know right': 10364, 'mention learned': 10370, 'ass bitch': 1057, 'bitch ass': 1880, 'turning': 16365, 'wit fussy': 18033, 'fussy gotta': 5792, 'look good': 9498, 'like big': 9067, 'mention bitch dont': 10132, 'in real': 7766, 'night dont': 11349, 'unknown': 16495, 'face get': 5033, 'lame as': 8839, 'pu': 13225, 'rag': 13341, 'oh hell': 12418, 'what ever': 17789, 'little bit': 9332, 'cheap as': 3132, 'mention oh hell': 10461, 'thought fussy': 15861, 'fussy boy': 5762, 'fucking that': 5695, 'partake': 12737, 'are welcome': 884, 'mention going': 10281, 'free bird': 5455, 'celebration': 3059, 'rio': 13692, 'would look': 18185, 'something like': 14727, 'da hoe': 4050, 'mention you got': 10659, 'shit one': 14308, 'shit weak': 14327, 'mention bitch hit': 10138, 'horizon': 7492, 'bumped': 2726, 'night done': 11348, 'trash can': 16168, 'real sicca': 13435, 'as fussy': 969, 'mention mine': 10420, 'personal': 12874, 'll yeah': 9422, 'is personal': 8031, 'ain': 284, 'hit girl': 7226, 'fussy as bitch': 5749, 'damn birch': 4076, 'location': 9454, 'facing': 5045, 'you are bitch': 18339, 'are night': 868, 'wizard': 18062, 'son birch': 14741, 'like good': 9143, 'op': 12574, 'freedom': 5461, 'am done': 488, 'mention point': 10484, 'he not': 7019, 'loyal curl': 9649, 'mention he not': 10308, 'not loyal curl': 11739, 'armor': 900, 'in wearing': 7779, 'in rich': 7768, 'border': 2504, 'jumper': 8597, 'border jumper': 2505, 'mention bitch please': 10149, 'bitch please curse': 2221, 'the people': 15639, 'mention hope': 10332, 'buy fussy': 2784, 'sauce': 13891, 'operated': 12587, 'mention read': 10497, 'hot sauce': 7514, 'trash amp': 16157, 'not deal': 11604, 'ca not deal': 2807, 'fried ore': 5480, 'feather': 5143, 'mention bird': 10123, 'bird feather': 1793, 'feather flock': 5144, 'flock together': 5332, 'mention bird feather': 10124, 'bird feather flock': 1794, 'feather flock together': 5145, 'mention long': 10393, 'brownish of': 2683, 'of right': 12245, 'fussy bad': 5756, 'english': 4807, 'mention speak': 10539, 'mention thirsty': 10574, 'basic as bitch': 1335, 'tackle': 15301, 'accurate': 119, 'day ll': 4172, 'you really': 18412, 'one person': 12541, 'superior': 15207, 'probably get': 13178, 'gobble': 6289, 'mention bitch ll': 10142, 'll am': 9361, 'express': 5003, 'amp yellow': 703, 'belly shirt': 1441, 'femoris': 5189, 'basic bitch': 1337, 'bitch today': 2327, 'resin': 13587, 'tell is': 15454, 'begun': 1427, 'mention nice': 10433, 'cheaper': 3133, 'like kind': 9158, 'so curse': 14625, 'touch': 16108, 'terrorist': 15488, 'committed': 3400, 'unfortunate': 16480, 'crooked': 3623, 'quit fussy': 13322, 'under': 16470, 'ben': 1446, 'berg': 1457, 'khan': 8661, 'even think': 4874, 'plain wit': 12973, 'destroying': 4293, 'bitch dawn': 1966, 'mention also': 10082, 'called he': 2880, 'mention go back': 10278, 'is call': 7908, 'pomp': 13066, 'pot pomp': 13106, 'you make': 18396, 'just wanted': 8626, 'not change': 11587, 'much could': 10890, 'could find': 3507, 'stop latin': 15047, 'ai not make': 252, 'thirsty bitch': 15798, 'ugly white': 16455, 'mention ugly white': 10600, 'ugly white bitch': 16456, 'man ll': 9882, 'eddy': 4735, 'always complaining': 435, 'just like': 8614, 'mention hatchet': 10301, 'looking nigger': 9539, 'mention understand': 10602, 'real life': 13422, 'sport bar': 14863, 'look like real': 9514, 'key': 8660, 'low key': 9643, 'not got birch': 11671, 'bitch run': 2244, 'trying see': 16319, 'am trying see': 595, 'yauza': 18252, 'sunk bitch': 15196, 'knowledge': 8814, 'youcurse little': 18435, 'youcurse little bitch': 18436, 'light skin': 9044, 'skin night': 14499, 'nun': 11953, 'not nun': 11772, 'ai not nun': 258, 'mention bitch night': 10146, 'to as curse': 15968, 'mention for': 10249, 'mention bout': 10156, 'smack bitch': 14570, 'stood': 15032, 'like on': 9206, 'na give': 11008, 'like on na': 9207, 'on na give': 12478, 'you are still': 18344, 'crush': 3636, 'embarrassing': 4775, 'wait of': 17473, 'is side': 8057, 'my bad': 10944, 'flooding': 5334, 'target': 15396, 'got two': 6493, 'mention ll is': 10384, 'is on na': 8025, 'niece dint': 11250, 'bout da': 2530, 'would trash': 18202, 'cabby': 2839, 'always bitch': 433, 'da back': 4038, 'mention say': 10509, 'old man': 12447, 'breezy': 2610, 'll fussy': 9381, 'fussy got': 5791, 'rich night': 13640, 'any bitch': 794, 'jewish': 8533, 'ruin': 13772, 'neighborhood': 11129, 'mention colored': 10182, 'mention hear': 10309, 'mention funny': 10265, 'morning he': 10847, 'keith': 8655, 'now he': 11927, 'let see': 8992, 'shit he': 14285, 'marathon': 9933, 'coming thou': 3392, 'sharkeisha': 14195, 'calling he': 2894, 'make go': 9794, 'is thought': 8072, 'of of bitch': 12217, 'sessile': 14141, 'innumberweeks': 7811, 'ta': 15298, 'magnum': 9759, 'bring da': 2624, 'dense birch': 4264, 'shot night': 14355, 'mention wont': 10637, 'each bitch': 4679, 'put to': 13289, 'drink water': 4585, 'night hashtag': 11370, 'mention not love': 10449, 'bacon': 1220, 'stuffed': 15118, 'crust': 3638, 'dont get': 4507, 'mention dont get': 10221, 'expected': 4989, 'cracked not': 3573, 'not bad': 11561, 'say white': 13951, 'white person': 17904, 'supporting': 15212, 'pray': 13121, 'fussy of curse': 5829, 'trash would': 16211, 'would buy': 18168, 'though birch': 15855, 'dumb fuck': 4652, 'chop': 3207, 'us': 16529, 'wanted see': 17598, 'thirsty he': 15799, 'seeking': 14077, 'writes': 18218, 'no matter': 11503, 'never change': 11146, 'the is': 15621, 'get to bitch': 6060, 'wan': 17502, 'saying is': 13959, 'sandwich': 13875, 'julie': 8591, 'bulk': 2717, 'mention jay': 10354, 'screw': 14014, 'mention soon': 10535, 'slut as': 14567, 'amp let': 666, 'mention some': 10532, 'feel like he': 5161, 'ahahah am': 215, 'moon': 10832, 'new show': 11206, 'am straight': 577, 'bitch not kill': 2186, 'friday night': 5476, 'fussy part': 5834, 'fuck brush': 5538, 'make money': 9805, 'standard': 14899, 'is friday': 7948, 'go bitch': 6238, 'break bitch': 2598, 'start shit': 14918, 'night tonight': 11458, 'baby back': 1165, 'baby back bitch': 1166, 'mention straight': 10545, 'straight hoe': 15073, 'in man': 7754, 'going work': 6319, 'foam': 5357, 'time curl': 15925, 'multiple': 10915, 'rare': 13376, 'also not': 427, 'ai not really': 266, 'nigcurse': 11254, 'microwave': 10691, 'mufuckas': 10910, 'dirty bitch': 4368, 'always like': 440, 'told is': 16046, 'think all': 15746, 'boa': 2466, 'cross': 3625, 'ghetto': 6100, 'reid': 13539, 'black men': 2422, 'harry reid': 6752, 'of hoe of': 12138, 'can bitch': 2916, 'fuck redskin': 5606, 'retirement': 13619, 'tell fussy': 15447, 'crack': 3565, 'mention ill': 10340, 'know fussy': 8758, 'mention know fussy': 10363, 'rang': 13364, 'morel': 10841, 'he better': 6947, 'different bitch': 4351, 'acted': 138, 'he back': 6945, 'all ask': 311, 'ask question': 1048, 'flying': 5352, 'am just': 520, 'mention am just': 10086, 'time all': 15920, 'retarded ll': 13616, 'name that': 11038, 'very': 17407, 'iso': 8108, 'not even know': 11617, 'like of look': 9200, 'wore': 18115, 'let guess': 8964, 'vote': 17458, 'corporate': 3494, 'mention low': 10399, 'clue': 3289, 'of pick': 12227, 'not to': 11856, 'to daddy': 15986, 'daddy of': 4066, 'am like of': 524, 'ai not to': 273, 'crutch': 3640, 'mention bitch need': 10145, 'fussy popping': 5838, 'young bitch': 18441, 'school curse': 13987, 'flow': 5344, 'mention word': 10638, 'mention told': 10584, 'told birch': 16042, 'trying bitch': 16294, 'bitch soon': 2283, 'mention am trying': 10090, 'thick birch': 15719, 'fat night': 5124, 'poleon': 13052, 'rickets': 13645, 'lasting': 8867, 'right good': 13673, 'good job': 6359, 'maggot curl': 9738, 'swore': 15292, 'could ve': 3525, 'just saying': 8621, 'am gay': 503, 'is next': 8014, 'night got': 11367, 'got to': 6489, 'got to bitch': 6490, 'am one': 546, 'wrist': 18214, 'mention meet': 10416, 'charlie wrist': 3123, 'shaft': 14178, 'never even': 11150, 'toilet': 16039, 'offend': 12393, 'american': 625, 'little count': 9339, 'mention hurt': 10335, 'mind bitch': 10729, 'bitch beyonccurse': 1900, 'ignore': 7700, 'mormon': 10843, 'he she': 7034, 'fuck people': 5603, 'fanning': 5093, 'mention all birch': 10077, 'bitch used': 2347, 'motion': 10859, 'wet fussy': 17778, 'fussy or': 5833, 'sick as': 14415, 'hatchet bitch': 6860, 'elephant': 4764, 'like god damn': 9141, 'coochie': 3470, 'look am': 9485, 'not fight': 11638, 'know fuck': 8757, 'night please': 11420, 'mix': 10762, 'get deep': 5978, 'god curl': 6295, 'not colored': 11590, 'ai not colored': 226, 'bought': 2521, 'bitch bought': 1909, 'wannabuy': 17510, 'girl not': 6152, 'mention fucking fussy': 10261, 'mention every': 10233, 'of maggot': 12173, 'maybe am': 10002, 'of maggot of': 12174, 'so many': 14635, 'many birch': 9917, 'need change': 11078, 'so many birch': 14636, 'like or': 9211, 'the know': 15623, 'know white': 8807, 'get white': 6073, 'fix': 5294, 'looking as': 9527, 'big fat': 1523, 'looking as bitch': 9529, 'must think': 10932, 'eat hashtag': 4718, 'hashtag like hashtag': 6808, 'yellow bone': 18299, 'is even': 7938, 'hit blunt': 7221, 'making shit': 9835, 'nigger as': 11263, 'look birch': 9488, 'mention fuck right': 10257, 'birch give': 1631, 'lemon': 8945, 'feminist': 5188, 'spell check': 14836, 'like soft': 9235, 'soft night': 14667, 'swear not': 15253, 'tushin': 16367, 'cause know': 3038, 'inch': 7782, 'wit hoe': 18035, '11': 7, 'channel': 3089, 'to got': 15996, 'am pretty': 553, 'pretty sure': 13156, 'am pretty sure': 554, 'although': 429, 'concede': 3419, 'wight': 17974, 'ill fight': 7705, 'expensive': 4991, 'wedding': 17719, 'fuck man': 5579, 'lying as bitch': 9672, 'wallet': 17501, 'filth': 5225, 'afford': 173, 'as video': 1023, 'video game': 17426, 'no way': 11511, 'louis': 9570, 'could get': 3510, 'get another': 5949, 'not anymore': 11556, 'mention on na': 10468, 'is maggot': 8001, 'joy': 8578, 'bitch she': 2259, 'horrified': 7497, 'all talk': 391, 'know mention': 8782, 'night bitch': 11321, 'waste time': 17620, 'mention still': 10542, 'save life': 13896, 'hawk': 6927, 'normally': 11541, 'singer': 14460, 'that is not': 15569, 'quaker': 13297, 'of still': 12268, 'said something': 13852, 'evil bitch': 4961, 'jar': 8508, 'shaved': 14198, 'sarah': 13883, 'mention give': 10275, 'give credit': 6198, 'incident': 7784, 'mad he': 9704, 'san': 13869, 'san diego': 13871, 'fussy man': 5817, 'man not': 9887, 'amount': 630, 'treated of': 16229, 'dictionary': 4327, 'dont ever': 4503, 'sure ai': 15216, 'sure ai not': 15217, 'he da': 6965, 'na make': 11014, 'not on na': 11775, 'on na make': 12484, 'you always': 18337, 'get da': 5977, 'mention drink': 10223, 'know that': 8800, 'eliminate': 4766, 'entering': 4814, 'all try': 398, 'need start': 11111, 'mention is right': 10350, 'wannabe': 17508, 'dick sucking': 4322, 'gay bitch': 5920, 'like got': 9144, 'birch action like': 1552, 'mention up': 10604, 'bitch done': 1977, 'as girl': 971, 'mention better': 10118, 'love not': 9621, 'love ll': 9614, 'shit let': 14291, 'know still': 8799, 'you gun': 18377, 'alcoholic': 301, 'mention but': 10164, 'mention big booty': 10120, 'noah': 11512, 'journey': 8577, 'cut as': 3997, 'talk hoe': 15353, 'tiger': 15908, 'describes': 4280, 'twisted': 16379, 'popped': 13077, 'nice try': 11240, 'mention teabaggers': 10558, 'anti american': 784, 'function': 5718, 'nearly': 11065, 'decade': 4205, 'complete trash': 3412, 'is last': 7990, 'not get birch': 11657, 'core': 3488, 'mention took': 10587, 'yankee fan': 18243, 'york': 18330, 'new york': 11213, 'my family': 10961, 'agent': 188, 'zero birch': 18462, 'is hilarious': 7980, 'whole he': 17926, 'he butcher': 6952, 'whole he butcher': 17927, 'straight bitch': 15070, 'everybody know': 4944, 'need grow': 11088, 'want money': 17571, 'money bitch': 10791, 'give one': 6212, 'one to': 12553, 'sometime': 14734, 'trying hit': 16307, 'kate': 8631, 'better back': 1484, 'is mine': 8007, 'bitch better back': 1899, 'cocksucker': 3308, 'mention and know': 10094, 'white man': 17900, 'even go': 4856, 'hoping': 7490, 'weird as': 17742, 'tyler': 16417, 'mention tyler': 10595, 'not know shit': 11714, 'article': 918, 'mention absolutely': 10069, 'pressure': 13145, 'hoe saying': 7387, 'eyebrow fleet': 5018, 'fleet of': 5310, 'illiterate': 7711, 'give flying': 6202, 'flying fuck': 5353, 'give flying fuck': 6203, 'second': 14030, 'energy': 4798, 'electric': 4760, 'go yankee': 6284, 'yankee stadium': 18247, 'mention is of': 10349, 'mention mamma': 10406, 'mamma not': 9848, 'maker': 9827, 'time dumb': 15928, 'shit like bitch': 14293, 'nephew': 11132, 'dan': 4098, 'pair': 12699, 'dans': 4105, 'grow pair': 6595, 'mention yep': 10653, 'mention suck': 10547, 'mention suck dick': 10548, 'bitch answer': 1865, 'even say': 4869, 'not even say': 11620, 'bitch ahahah': 1845, 'not ready': 11795, 'mean are': 10020, 'are calling': 844, 'll shut': 9408, 'shut he': 14386, 'not mean are': 11750, 'mean is': 10029, 'please tell': 13029, 'are big': 840, 'll mad': 9396, 'are ll': 862, 'get offended': 6036, 'bird as night': 1782, 'time call': 15924, 'call hoe': 2865, 'mention feel': 10240, 'is year': 8101, 'mention feel like': 10241, 'feel like is': 5162, 'did say': 4331, 'per': 12853, 'not ugly': 11873, 'is also': 7874, 'rarely': 13377, 'even no': 4865, 'is better': 7891, 'phone cut': 12893, 'cut shit': 4027, 'birch may': 1682, 'birch better': 1570, 'bitch might': 2147, 'height': 7109, 'bitch inch': 2074, 'short birch': 14352, 'madonna': 9731, 'day like': 4171, 'birthday maggot': 1833, 'happy birthday maggot': 6724, 'traitor': 16140, 'race traitor': 13328, 'jim': 8548, 'all love': 362, 'former': 5425, 'of fat': 12079, 'need love': 11098, 'too of': 16081, 'mention tyranny': 10597, 'bitch hata': 2048, 'he hata': 6987, 'ragged': 13343, 'bitch old': 2206, 'old as': 12439, 'as toe': 1019, 'bitch looking like': 2122, 'carlton': 2986, 'judge': 8583, 'you need': 18400, 'himself': 7204, 'pastor': 12763, 'mention retard': 10502, 'allah': 401, 'mention sit': 10527, 'shut maggot': 14387, 'mention shut maggot': 10521, 'benghazi': 1453, 'victim': 17418, 'wax': 17651, 'swallow': 15240, 'mention sweet': 10553, 'as go': 972, 'red son': 13510, 'yoke': 18329, 'shit fucking': 14275, 'dont talk': 4527, 'he way': 7062, 'who bitch': 17913, 'hooped': 7474, 'like are': 9056, 'sensitive': 14123, 'neo': 11131, 'are sensitive': 877, 'sense humor': 14122, 'sit as': 14480, 'option': 12597, 'carter': 2994, 'stanford': 14901, 'hire': 7208, 'is definitely': 7925, 'mention he is': 10307, 'mention talking bout': 10557, 'am ll': 528, 'see night': 14061, 'night you': 11478, 'ai not fussy': 236, 'besides': 1458, 'who is': 17919, 'sob': 14645, 'national': 11054, 'including': 7786, 'slipping': 14551, 'got hope': 6446, 'not last': 11715, 'would not last': 18192, 'respond': 13595, 'really good': 13462, 'little night': 9347, 'mention shut to': 10522, 'yellow one': 18309, 'bout to': 2544, 'to back': 15970, 'back as': 1187, 'everybody else': 4940, 'prepare': 13136, 'love see': 9628, 'mention are still': 10101, 'bitch take': 2299, 'take back': 15311, 'southern': 14808, 'much not': 10900, 'mute': 10937, 'mention block': 10155, 'vile': 17430, 'would call': 18169, 'call trash': 2871, 'memphis': 10058, 'god am': 6292, 'of old': 12220, 'memphis to': 10059, 'fuck nigger': 5589, 'exposing': 5001, 'exposing hoe': 5002, 'wine': 17993, 'need glass': 11085, 'galaxy': 5882, 'he though': 7048, 'peeped': 12802, 'aunt nobody': 1109, 'witty bitch': 18059, 'may fuck': 9985, 'where fuck': 17864, 'summer bitch': 15187, 'use shit': 16532, 'nowadays': 11939, 'new hoe': 11195, 'elite': 4767, 'not twitter': 11872, 'boy bitch': 2557, 'mention fuck fussy': 10254, 'bitch in trying': 2073, 'benton': 1455, 'hate white': 6903, 'is actually': 7870, 'swear ll': 15252, 'bitch stupid': 2294, 'turn bitch': 16348, 'surgery': 15225, 'blame bitch': 2432, 'mention bitch curse': 10131, 'jockey': 8557, 'arab': 830, 'term of': 15484, 'camel jockey': 2906, 'bc am': 1350, 'phone trash': 12901, 'cheer': 3148, 'mention fuck birch': 10252, 'mention to bitch': 10581, 'click': 3263, 'said aunt': 13825, 'solar': 14673, 'they got': 15707, 'wit ah': 18021, 'll fig': 9379, 'just need': 8615, 'bitch just': 2081, 'let he': 8967, 'leech': 8929, 'cow': 3562, 'gotta love': 6522, 'in he': 7742, 'bigotry': 1539, 'feel way': 5167, 'using word': 17365, 'of redskin': 12243, 'redskin of': 13520, 'of redskin of': 12244, 'bitch inn': 2076, 'buggy': 2711, 'orel is': 12634, 'is mention': 8006, 'acknowledge': 122, 'bitch friend': 2009, 'look bitch': 9490, 'bitch wanted': 2363, 'in talking': 7773, 'esp': 4838, 'mention him': 10322, 'fried chicken': 5479, 'certainly': 3071, 'got together': 6491, 'barry': 1325, 'mention yankee': 10645, 'good day': 6346, 'hoe trick': 7410, 'not shit hoe': 11817, 'shit hoe trick': 14287, 'someone far': 14709, 'far are': 5097, 'high school': 7190, 'fucking maggot': 5672, 'erb': 4831, 'people like': 12832, 'apply': 823, 'thunder': 15896, 'wanted know': 17597, 'know get': 8760, 'involved': 7846, 'flood': 5333, 'screwed': 14015, 'make sure': 9817, 'make sure bitch': 9818, 'got lot': 6453, 'essay': 4840, '20 are': 22, 'niagara': 11235, 'bitch ugly': 2345, 'as like': 978, 'thing ca': 15732, 'all happy': 345, 'thing ca not': 15733, 'malo curse': 9840, 'curse think': 3857, 'think want': 15782, 'head bitch': 7068, 'bitch not even': 2181, 'si': 14400, 'terror': 15487, 'to ll': 16005, 'skilled': 14495, 'gotta find': 6513, 'song trash': 14759, 'washing': 17614, 'whose': 17934, 'allen': 406, 'gallop': 5884, 'milka': 10718, 'boy hashtag': 2566, 'mention exactly': 10235, 'sweet shit': 15278, 'shit fuck': 14274, 'fuck not': 5597, 'monkey see': 10821, 'see monkey': 14058, 'monkey see monkey': 10822, 'brings': 2631, 'food birch': 5379, 'crossing': 3627, 'yellow cake': 18300, 'transformer': 16144, 'pole': 13051, 'mention birthday': 10125, 'happy curse': 6726, 'puppy': 13259, 'samoan': 13867, 'thought let': 15865, 'volunteer': 17456, 'guinea': 6623, 'guinea pig': 6624, 'night talking': 11448, 'like bag': 9065, 'bag birch': 1272, 'mention may night': 10412, 'nail': 11023, 'scraggy': 14003, 'scare': 13976, 'slap bitch': 14515, 'as wo': 1028, 'as wo not': 1029, 'sucked dick': 15166, 'mention of am': 10456, 'mention face': 10236, 'bitch hashtag curl': 2046, 'mention keep': 10357, 'know could': 8747, 'are talking': 880, 'talking fucking': 15373, 'bitch everyone': 1993, 'extreme': 5009, 'condition': 3430, 'brown point': 2678, 'charlie day': 3109, 'invite': 7844, 'sick bitch': 14417, 'mention sick bitch': 10525, 'soft bitch': 14662, 'mention basically': 10114, 'burgher': 2732, 'wattle': 17647, 'is am': 7876, 'bitch coming': 1944, 'coming curl': 3388, 'voice like': 17454, 'half breed': 6680, 'welfare': 17745, 'daddy is': 4065, 'stop playing': 15054, 'playing game': 13016, 'game he': 5894, 'bend': 1448, 'siberia': 14401, 'mention white': 10626, 'mention white bitch': 10627, 'hair cut': 6663, 'or fucking': 12606, 'stop acting': 15035, 'pity': 12967, 'now am': 11920, 'hearing': 7092, 'hey hashtag': 7171, 'mention hey hashtag': 10318, 'curb': 3663, 'dramatic': 4568, 'mention reason': 10500, 'apparently of': 819, 'all trash': 397, 'colored men': 3334, 'well would': 17762, 'mention hoe ai': 10327, 'like not': 9189, 'mention stick': 10541, 'hope bitch': 7477, 'bitch annoying': 1864, 'saber': 13800, 'll that': 9414, 'choking': 3203, 'mouth bitch': 10864, 'barley': 1323, 'here go': 7138, 'orel cook': 12630, 'something curl': 14723, 'concerned': 3422, 'psychic': 13222, 'not follow': 11642, 'looking birch': 9531, 'fad': 5053, 'call dumb': 2857, 'men love': 10064, 'love real': 9626, 'night nigger': 11408, 'amp think': 695, 'delusion': 4244, 'fussy make': 5816, 'is bad': 7886, 'bay': 1348, 'user atlanta': 16582, 'night gotta': 11369, 'chill user': 3179, 'longest': 9482, 'parker': 12726, 'campan': 2913, 'crayon': 3582, 'hetty trash': 7164, 'on say': 12491, 'ask bitch': 1042, 'man am': 9857, 'am high': 516, 'the all': 15589, 'all night ai': 370, 'not even tell': 11622, 'thinker': 15785, 'mention went': 10621, 'hostess': 7503, 'mention name': 10428, 'whine': 17876, 'mention wanted': 10615, 'lmaooooo': 9432, 'shit getting': 14279, 'not wife': 11888, 'wife birch': 17961, 'meg': 10050, 'whatsoever': 17809, 'security': 14039, 'as duke': 960, 'free world': 5460, 'world bitch': 18136, 'ram': 13355, 'battle': 1347, 'brook': 2653, 'not thing': 11852, 'half way': 6684, 'ai not thing': 272, 'code': 3310, 'annoying as': 757, 'tell friend': 15444, 'coronet': 3492, 'oil': 12428, 'grey': 6578, 'icy': 7613, 'carried': 2988, 'not suck': 11830, 'nom': 11528, 'matt': 9974, 'payback': 12786, 'got good': 6426, 'payback bitch': 12787, 'critical': 3622, 'jr': 8581, 'glove': 6228, 'lucky bitch': 9662, 'crystal': 3653, 'calling bitch': 2888, 'kind he': 8694, 'cure': 3664, 'witness': 18056, 'fuck getting': 5559, 'you think': 18422, 'yellow as': 18297, 'soft he curse': 14666, 'funnier': 5721, 'mug': 10912, 'not bitch ll': 11572, 'proving': 13220, 'stranger': 15077, 'jump': 8594, 'mention bring': 10159, 'bring to': 2628, 'bring to bitch': 2629, 'am work': 607, 'got back': 6397, 'cut birch': 3998, 'cut birch love': 3999, 'mention stop bitch': 10544, 'wannaa': 17503, 'night tell': 11450, 'mention follow': 10248, 'last week': 8864, 'kicked': 8667, 'is done': 7930, 'done mention': 4491, 'fox news': 5443, 'shit night': 14301, 'shit night bitch': 14302, 'stupidity': 15144, 'make sick': 9815, 'that hoe': 15559, 'is favorite': 7944, 'little girl': 9343, 'slam': 14510, 'mention trying': 10591, 'you mean': 18398, 'thousand': 15868, 'know maggot': 8779, 'luckily': 9660, 'mention his': 10323, 'am bad': 460, 'am bad bitch': 461, 'mention fussy shit': 10268, 'mention your': 10661, 'good bitch': 6343, 'mention count': 10189, 'greene': 6575, 'foggy': 5360, 'septic': 14129, 'sincerely': 14458, 'staff': 14886, 'reason hashtag': 13484, 'would probably': 18194, 'interested': 7831, 'cut get': 4010, 'harassing': 6733, 'mention killed': 10359, 'killed he': 8685, 'in always': 7725, 'wouldn': 18205, 'making birch': 9829, 'mad bc': 9696, 'joke curse': 8570, 'aunt even': 1098, 'abuse': 106, 'mention tucked': 10592, 'brown is': 2677, 'shabby': 14173, 'bastard': 1342, 'hither': 7238, 'shit as': 14254, 'barely': 1321, 'walker': 17494, 'to talking': 16018, 'want to': 17590, 'to fat': 15990, 'not want to': 11885, 'to fat as': 15991, 'smarter': 14580, 'griffin': 6580, 'bitch dumb': 1983, 'going get': 6305, 'proving point': 13221, 'mention bitch going': 10136, 'speak shit': 14820, 'shit know': 14290, 'know nothing': 8789, 'got fucking': 6420, 'avoiding': 1131, 'carry': 2990, 'stop little': 15048, 'stop little bitch': 15049, 'mention calling': 10172, 'calling fussy': 2892, 'bout shit': 2541, 'twinkle': 16376, 'may in': 9989, 'flesh': 5311, 'rift': 13657, 'mention learn': 10369, 'would cool': 18170, 'bird ll': 1804, 'not few': 11637, 'not putting': 11790, 'ai not putting': 263, 'mention heard': 10310, 'birch got': 1637, 'got something': 6484, 'swinging': 15288, 'wit one': 18041, 'reserved': 13586, 'she get': 14205, 'bad bitch she': 1248, 'suck fussy': 15164, 'enjoying': 4809, 'thanks follow': 15527, 'gun am': 6630, 'present': 13140, 'she say': 14218, 'sup': 15200, 'mention sup': 10549, 'happy headed': 6731, 'headed he': 7081, 'happy headed he': 6732, 'mention start': 10540, 'regulation': 13538, 'wondering': 18102, 'mention looking': 10396, 'spike': 14845, 'look like monkey': 9512, 'regardless': 13534, 'imagine': 7716, 'bitch regardless': 2238, 'lady bitch': 8827, 'of give': 12100, 'called ugly': 2885, 'birch hard': 1641, 'birch crazy': 1593, 'fucking witch': 5702, 'mention layer': 10368, 'work today': 18127, 'yea got': 18257, 'bitch around': 1868, 'around curse': 905, 'got it': 6447, 'even like': 4862, 'not even like': 11618, 'seattle': 14029, 'is little': 7995, 'mention is little': 10348, 'is little bitch': 7996, 'still eat': 14981, 'elected': 4758, 'wonder many': 18100, 'bitch complain': 1945, 'get treated': 6063, 'terrible': 15485, 'know go': 8762, 'bitch ready': 2232, 'trannies': 16142, 'dealer': 4196, 'night come': 11334, 'come hashtag': 3361, 'dog not': 4470, 'eat much': 4719, 'bird not': 1809, 'text bitch': 15507, 'in proud': 7764, 'back bird': 1189, 'mention corn': 10186, 'uncle toe': 16466, 'borrow': 2511, 'fuck stupid': 5618, 'as coward': 951, 'the way': 15652, 'mention rich': 10504, 'woman would': 18096, 'bitch remember': 2239, 'do not bitch': 4430, 'gee': 5929, 'oh yea': 12424, 'want broke': 17549, 'what that': 17804, 'mention oh yea': 10462, 'mention fucking hate': 10262, 'brow ll': 2668, 'dumb of': 4657, 'relevant': 13549, 'think need': 15774, 'equal': 4826, 'opportunity': 12593, 'divorce': 4415, 'equal opportunity': 4827, 'trophy': 16255, 'now put': 11937, 'not know am': 11709, 'sorry mention': 14784, 'in sick': 7770, 'freeze': 5464, 'freeze bitch': 5465, 'hm': 7240, 'do not get': 4436, 'random': 13362, 'if bird': 7642, 'of ho': 12135, 'atnumberam': 1075, 'making brownish': 9830, 'tired bitch': 15958, 'notch': 11897, 'like bad': 9062, 'like bad bitch': 9064, 'join': 8565, 'said would': 13853, 'cold bitch': 3316, 'bitch wont': 2381, 'eats': 4729, 'den colored': 4260, 'take da': 15315, 'man he': 9876, 'raising': 13351, 'hey far': 7170, 'aunt he': 1103, 'mention hey far': 10317, 'perfection': 12859, 'wire': 18004, 'dont know': 4511, 'keep name': 8644, 'name mouth': 11036, 'say hashtag': 13919, 'utter': 17378, 'fuck this': 5623, 'commit': 3397, 'may like': 9991, 'please stop': 13028, 'heated': 7104, 'am get': 504, 'patty': 12776, 'am already': 454, 'get level': 6016, 'hot night': 7510, 'nothing wrong': 11913, 'sole purpose': 14681, 'mention monkey': 10424, 'monkey bar': 10814, 'already bitch': 422, 'bitch havana': 2051, 'signing': 14441, 'hetty fuck': 7156, 'sustain': 15234, 'not cool': 11595, 'mention white people': 10628, 'mention alright': 10081, 'permission': 12867, 'who hell': 17918, 'still pull': 15005, 'backing': 1216, 'bout he': 2533, 'night stop': 11442, 'fuck talking bout': 5620, 'tell night': 15456, 'stop acting like': 15036, 'acting like bitch': 141, 'night aunt': 11313, 'do back': 4422, 'of move': 12196, 'move bitch': 10871, 'hata fussy': 6854, 'amp am': 635, 'trying buy': 16295, 'sicca curse': 14405, 'as fucking': 968, 'like said': 9229, 'sound like little': 14795, 'upset': 16523, 'real quick': 13432, 'comparison': 3406, 'the face': 15607, 'wishing': 18019, 'apologize': 815, 'sin': 14453, 'texas trash': 15502, 'trash talking': 16205, 'forced': 5399, 'birch came': 1581, 'peacetime': 12792, 'love dat': 9590, 'biceps': 1508, 'in still': 7772, 'brownish curse': 2682, 'call corp': 2855, 'woman and': 18082, 'money hoe': 10798, 'hoe gone': 7317, 'gone come': 6329, 'mention duke': 10225, 'come home': 3363, 'nigger curse': 11267, 'bitch telling': 2306, 'duck': 4623, 'duck as': 4624, 'as shit': 1012, 'noble': 11513, 'know man': 8780, 'hey he': 7172, 'mention hey he': 10319, 'retarded as': 13611, 'may got': 9986, 'twitter bird': 16385, 'tell fuck': 15446, 'ball like': 1294, 'like nigger': 9185, 'count it': 3531, 'mention kill': 10358, 'birch watch': 1769, 'mention check': 10179, 'charlie murphy': 3114, 'go around': 6233, 'alexander': 303, 'no it': 11498, 'no it is': 11499, 'mention calm': 10173, 'll go': 9383, 'lip bitch': 9306, 'mention ho': 10325, 'sized': 14493, 'canyon': 2947, 'hoe aunt': 7262, 'aunt loyal': 1106, 'hoe aunt loyal': 7263, 'curse cause': 3735, 'shadow': 14175, 'fuck far': 5552, 'still maggot': 14998, 'mention wish': 10633, 'wish nigh': 18012, 'need know': 11094, 'split': 14856, 'charlotte': 3124, 'trash not': 16193, 'weaker': 17700, 'smaller': 14576, 'fussy as coward': 5750, 'george': 5941, 'deep fried': 4217, 'shoot bitch': 14345, 'gorilla': 6385, 'mention this bitch': 10577, 'pancake': 12706, 'mention twitter': 10593, 'deported': 4270, 'is his': 7982, 'like party': 9212, 'bitch as curse': 1870, 'oh is': 12419, 'it all': 8115, 'all meet': 364, 'bad as': 1223, 'like straight': 9239, 'getting tucked': 6099, 'little baby': 9329, 'favor': 5130, 'nashville': 11044, 'closest': 3277, 'penza': 12812, 'mention oh yeah': 10463, 'the whole': 15654, 'just trash': 8623, 'of county': 12048, 'prefer': 13128, 'lesser': 8950, 'did not': 4330, 'he man': 7011, 'suggestion': 15177, 'arabic': 832, 'caraffe': 2962, 'high caraffe': 7184, 'caraffe fussy': 2963, 'high caraffe fussy': 7185, 'you fussy': 18368, 'updated': 16518, 'regarding': 13533, 'mention back': 10108, 'am retarded': 558, 'handful': 6698, 'closed': 3275, 'take bitch': 15312, 'boy ll': 2569, 'mention idea': 10338, 'dont play': 4522, 'play dumb': 12995, 'mention typical': 10596, 'hold back': 7428, 'face is': 5036, 'am talking bout': 584, 'money trash': 10808, 'trash like': 16183, 'blew': 2444, 'say love': 13928, 'quickly': 13315, 'quand': 13299, 'wanted get': 17596, 'pm': 13042, 'right but': 13664, 'wasting time': 17623, 'day am': 4159, 'retarded curse': 13613, 'yeah not': 18270, 'think hashtag': 15766, 'hashtag think': 6837, 'ardor': 835, 'favorite line': 5135, 'somehow': 14703, 'so get': 14627, 'you retarded': 18413, 'strawberry': 15081, 'biggest maggot': 1538, 'maggot ever': 9740, 'get blocked': 5964, 'hispanic': 7216, 'hoe hitting': 7326, 'the ai': 15587, 'the ai not': 15588, 'mad curse': 9702, 'gone long': 6336, 'element': 4761, 'he lying': 7008, 'en': 4788, 'akin': 290, 'cart': 2992, 'as voice': 1024, 'voice head': 17453, 'forge': 5411, 'am drunk': 490, 'drunk he': 4617, 'scoop': 13997, 'if want': 7693, 'want all': 17536, 'people know': 12831, 'is hoe': 7983, 'fought': 5434, 'dick bitch': 4309, 'see sweet': 14069, 'make talking': 9819, 'ca not he': 2814, 'not he curse': 11687, 'come get bitch': 3358, 'hata yeah': 6856, 'get much': 6028, 'much fussy': 10893, 'hi ho': 7177, 'down da': 4549, 'thanks mention': 15528, 'constantly': 3452, 'potential': 13109, 'reek': 13521, 'society': 14656, 'mention course': 10190, 'trash the': 16206, 'fellow': 5178, 'mention agree': 10070, 'talked': 15365, 'spring': 14870, 'mention one time': 10471, 'live bag': 9352, 'bitch crib': 1952, 'allergic': 407, 'reaction': 13402, 'not bird': 11569, 'bird brain': 1784, 'game hashtag': 5893, 'pecked': 12798, 'like dat': 9107, 'mention jesus': 10355, 'man shit': 9890, 'meme': 10056, 'say got': 13918, 'got ll': 6452, 'll bitch ai': 9366, 'myoma': 10995, 'young boy': 18442, 'day not': 4175, 'know wat': 8806, 'de hoe': 4185, 'not hard': 11682, 'is kind': 7988, 'tone': 16062, 'recalling': 13487, 'bin': 1544, 'end like': 4793, 'got high': 6433, 'people is': 12830, 'is face': 7940, 'mention knew': 10361, 'ye': 18253, 'bee': 1410, 'as name': 991, 'hetty as name': 7148, 'ogg': 12408, 'bitch soul': 2284, 'nasty ll': 11052, 'horny': 7494, 'll like': 9393, 'do know': 4427, 'know good': 8763, 'user of do': 17063, 'birch run': 1713, 'like phone': 9215, 'dis bitch curse': 4373, 'is song': 8061, 'song he': 14753, 'anglo': 741, 'yeah know': 18268, 'anglo american': 742, 'soundtrack': 14802, 'mention gave': 10269, 'aye bitch': 1156, 'sideline': 14433, 'soft as': 14661, 'bitch sit': 2268, 'garage': 5902, 'scrub': 14017, 'fuck back': 5522, 'back fuck': 1196, 'making music': 9834, 'obvious': 11970, 'heroic': 7142, 'birch bout': 1575, 'you boy': 18354, 'come wit': 3381, 'never talked': 11182, 'fill': 5220, 'raging': 13344, 'say one': 13939, 'again': 182, 'sang': 13878, 'ma make': 9685, '214': 29, 'enemy': 4797, 'wish not': 18013, 'would make': 18187, 'mention bitch boy': 10130, 'bruise': 2685, 'night told': 11457, 'just bitch': 8604, 'like redness': 9225, 'drug dealer': 4610, 'is redness': 8048, 'concert': 3423, 'kill bitch': 8672, 'suck as': 15160, 'shit fussy': 14277, 'dice': 4304, 'rigged': 13659, 'trash game': 16176, 'replied': 13572, 'vacation': 17379, 'mention thanks bitch': 10563, 'checking': 3146, 'plane': 12978, 'they not': 15709, 'ugly hoe': 16449, 'like time': 9249, 'get fine': 5988, 'is bout': 7907, 'bout come': 2528, 'hot dog': 7509, 'credential': 3606, 'noticed': 11916, 'martin': 9952, 'never die': 11149, 'shift': 14234, 'better to': 1498, 'of redness': 12241, 'redness of': 13516, 'of redness of': 12242, 'sweet are': 15262, 'careful': 2980, 'sweet mention': 15273, 'timber': 15918, 'world not': 18141, 'hoe different': 7295, 'different area': 4349, 'area code': 888, 'got hoe different': 6439, 'hoe different area': 7296, 'different area code': 4350, 'get follower': 5990, 'curse okay': 3830, 'am shit': 566, 'da white': 4056, 'one two': 12554, 'is queen': 8041, 'mention that bitch': 10565, 'bitch find': 1998, 'rising': 13699, 'why gotta': 17948, 'spotted': 14865, 'crisp': 3621, 'night better': 11318, 'fight bitch': 5206, 'felling': 5177, 'fuck boy': 5536, 'phase': 12884, 'night catch': 11330, 'as night talking': 1003, 'game curl': 5889, 'joel': 8560, 'yeah he': 18266, 'mention yeah he': 10649, 'mocking': 10772, 'spectacle': 14831, 'clarity': 3239, 'fornumberminutes': 5427, 'thought would': 15867, 'cut know': 4017, 'know like': 8775, 'am redness': 557, 'redness crazy': 13515, 'constitution': 3454, 'mocked': 10771, 'man mention': 9884, 'pricking': 13161, 'bitch open': 2210, 'swearing': 15256, 'one far': 12515, 'mention okay': 10465, 'bitch lame': 2095, 'll know': 9391, 'commitment': 3398, 'arabia': 831, 'due said': 4632, 'said arabia': 13824, 'da girl': 4049, 'boxing': 2554, 'got many': 6457, 'like of got': 9198, 'got many hoe': 6458, 'many hoe of': 9922, 'bitch am sure': 1860, 'lesion bitch': 8949, 'not believe': 11565, 'ca not believe': 2801, 'confront': 3435, 'as front': 966, 'to as front': 15969, 'guarantee': 6605, 'photoshop': 12909, 'bitch do': 1973, 'disgraceful': 4390, 'christian': 3215, 'spoon': 14861, 'unlike': 16499, 'mention best': 10116, 'best believe': 1462, 'end day': 4790, 'love white': 9634, 'belief': 1433, 'like think': 9247, 'threaten': 15871, 'extended': 5004, 'teabagger sum': 15412, 'bitch crazy': 1951, 'crazy ll': 3592, '72': 76, 'birth': 1824, 'alien': 306, 'illegal alien': 7709, 'kill of': 8677, 'uncalled': 16463, 'sorry called': 14781, 'turn he housewife': 16353, 'israel': 8109, 'like the': 9244, 'shame': 14187, 'chosen': 3209, 'hypocrisy': 7602, 'like ca': 9088, 'bitch not like': 2188, 'like ca not': 9089, 'plant': 12987, 'artist': 919, 'situation': 14490, 'mention honestly': 10330, 'that is am': 15561, 'tested': 15491, 'is ll': 7997, 'mention made': 10402, 'name like': 11035, 'loan': 9451, 'mention mmm': 10422, 'playing bitch': 13013, 'golf': 6325, 'never happen': 11160, 'maggot got': 9742, 'like call': 9090, 'are black': 843, 'black is': 2420, 'packing': 12691, 'origin': 12648, 'job hashtag': 8554, 'childish shit': 3171, 'education': 4739, 'voter': 17461, 'lazy': 8904, 'get back': 5957, 'knob': 8728, 'how much': 7549, 'ruler': 13776, 'republican teabaggers': 13580, 'ted': 15428, 'gum': 6627, 'fucking man': 5674, 'haven': 6921, 'people bitch': 12818, 'jerkin': 8526, 'this ai': 15803, 'this ai not': 15804, 'camera': 2909, 'he you': 7065, 'sword': 15291, 'de birch': 4184, 'cheese cracked': 3152, 'swagger': 15239, 'of mention curl': 12187, 'five': 5293, 'say he': 13922, 'care curse': 2972, 'changing': 3088, 'name it': 11034, 'one le': 12528, 'mouse': 10862, 'picked mouse': 12926, 'england': 4806, 'patriot': 12771, 'boston': 2515, 'upgrade': 16519, 'york yankee': 18331, 'new york yankee': 11214, 'get pas': 6040, 'looted': 9545, 'is fight': 7945, 'mention let is': 10374, 'let is fight': 8973, 'cease': 3054, 'disturbing': 4409, 'charlie wen': 3121, 'taylor': 15407, 'mention lmaooooo': 10389, 'pushed': 13270, 'fuck even': 5549, 'bad ca': 1253, 'not cheat': 11589, 'bitch bad ca': 1890, 'bad ca not': 1254, 'resist': 13588, 'hetty white': 7165, 'decide': 4208, 'damage': 4074, 'wrong is': 18226, 'stupid hoe': 15134, 'stop talking': 15056, 'of talk': 12276, 'mention like of': 10376, 'mention lip': 10378, 'lip pierced': 9311, 'lip pierced curse': 9312, 'dumb nigger': 4656, 'paris': 12721, 'effort': 4742, 'label': 8820, 'drafted': 4558, 'seem like': 14080, 'eachother': 4680, 'arrest': 912, 'of did': 12065, 'not vote': 11876, 'please not': 13027, 'this week': 15843, 'mention probably': 10488, 'if you': 7695, 'malo bitch': 9839, 'straight fussy': 15072, 'watch trash': 17634, 'little bitch curse': 9336, 'just ordered': 8618, 'the white': 15653, 'right am': 13661, 'am literally': 525, 'mayweather': 10005, 'born': 2510, 'pennsylvania': 12808, 'dutch': 4672, 'error': 4835, 'concern': 3421, 'amp life': 667, 'trigger bitch': 16244, 'pull trigger bitch': 13250, 'are little': 860, 'are little bitch': 861, 'liked': 9282, 'day bird': 4162, 'rebel': 13486, 'mattress': 9978, 'slippery': 14549, 'slippery slope': 14550, 'birch it': 1655, 'faith': 5066, 'fussy best': 5757, 'economy': 4731, 'successful': 15157, 'ai not bad': 219, 'not bad bitch': 11562, 'll sweet': 9412, 'settler': 14148, 'dome': 4481, 'calm hashtag': 2899, 'mention early': 10227, 'mention bitch go': 10135, 'bitch voice': 2354, 'considered': 3447, 'tiresome': 15961, 'love right': 9627, 'bitch two': 2344, 'two account': 16401, 'know he': 8766, 'is ashore': 7881, 'amp like': 668, 'amp ca': 642, 'way curse': 17655, 'amp ca not': 643, 'curse ll bitch': 3797, 'birch go': 1633, 'memory': 10057, 'is mother': 8009, 'fuss': 5737, 'risk': 13700, 'thirsty hoe': 15800, 'am type': 599, 'disgusting': 4392, 'like give': 9138, 'bad name': 1261, 'aback': 94, 'aback bitch': 95, 'valentine day': 17382, 'one fucking': 12517, 'what on': 17803, 'club like': 3288, 'popular': 13080, 'is the': 8070, 'last name': 8859, 'subtweeting': 15152, 'using hashtag': 17363, 'all bad': 313, 'hoe clean': 7278, 'bait': 1280, 'later bait': 8876, 'bait curse': 1281, 'straight trash': 15075, 'my problem': 10985, 'love bad': 9576, 'love bad birch': 9577, 'sweet amp': 15261, 'amp dont': 648, 'as dont': 958, 'of brush': 12036, 'face like': 5037, 'europe': 4844, 'ashamed': 1032, 'he and': 6938, 'ca not call': 2804, 'fucking annoying': 5644, 'relationship goal': 13544, 'goal of': 6286, 'stand fussy': 14896, 'shake as': 14181, 'show he': 14370, 'yale': 18238, 'personality curse': 12876, 'ugly fuck': 16446, 'bench': 1447, 'rescue': 13583, 'home amp': 7443, 'amp kiss': 664, 'closer': 3276, 'february': 5147, 'peasant': 12797, 'way see': 17666, 'see birch': 14045, 'wide': 17958, 'twitter he': 16388, 'he going': 6981, 'france': 5446, 'conference': 3432, 'display': 4396, 'april': 829, 'chi': 3159, 'like cause': 9091, 'cleft': 3260, 'never put': 11175, 'user mention far': 16953, 'shit make': 14298, 'ca not shit': 2828, 'night back': 11315, 'hoe making': 7356, 'tasted': 15399, 'tasted like': 15400, 'theycurse': 15714, 'night get birch': 11358, 'all stop': 387, 'you can': 18359, 'westside': 17775, 'bitch named': 2162, 'gotta say': 6526, 'say fussy': 13916, 'made mistake': 9724, 'is house': 7985, 'pickled': 12929, 'is put': 8040, 'mention much': 10425, 'better bring': 1487, 'call woman': 2872, 'well ai': 17747, 'well ai not': 17748, 'need make': 11099, 'not count': 11596, 'man birch': 9861, 'creating': 3601, 'film': 5223, 'olympics': 12453, 'based god': 1330, 'fucking birch': 5648, 'bitch whatever': 2373, 'audience': 1090, 'wrong wit': 18227, 'roof': 13735, 'fixed': 5295, 'not live': 11730, 'we still': 17690, 'pace': 12687, 'not fuck hoe': 11649, 'magical': 9758, 'granny': 6555, 'native': 11055, 'regard': 13532, 'mention since': 10526, 'count need': 3533, 'possibility': 13093, 'said might': 13840, 'great fussy': 6568, 'fussy since': 5846, 'destiny': 4290, 'better play': 1495, 'everyone know': 4953, 'fucking redness': 5688, 'lodged': 9458, 'fact bitch': 5047, 'll bitch night': 9369, 'jim crow': 8549, 'crow law': 3629, 'jim crow law': 8550, 'spreading': 14869, 'disease': 4388, 'agenda': 187, 'msnbc': 10884, 'mention money': 10423, 'car clothes': 2956, 'he want': 7061, 'bitch show': 2263, 'look shit': 9522, 'bitch formal': 2008, 'hoe acting': 7250, 'like not know': 9190, 'pick one': 12923, 'am side': 568, 'around fussy': 907, 'feel warm': 5166, 'junior': 8601, 'beat all': 1375, 'people love': 12835, 'gotta new': 6524, 'tease': 15426, 'your bitch': 18453, 'would not even': 18190, 'bitch got tucked': 2035, 'of cut': 12061, 'pay fussy': 12784, 'beat shit': 1385, 'bitch meet': 2143, 'insult': 7825, 'bu': 2700, 'think bitch': 15753, 'always want': 449, 'always look like': 442, 'look like of': 9513, 'recommend': 13497, 'boom': 2492, 'meeting like': 10048, 'aunt talking': 1118, 'talking to': 15383, 'to hoe': 16000, 'is always': 7875, 'bitch something': 2280, 'andrew': 731, 'ma beat': 9678, 'bitch mean': 2142, 'bitch lafa': 2094, 'song lyric': 14756, 'mention only': 10472, 'asleep': 1055, 'fell asleep': 5175, 'world series': 18143, 'put twitter': 13292, 'manna': 9907, 'houston': 7528, 'poland': 13050, 'take order': 15325, 'better watch': 1499, 'tonight curse': 16067, 'need put': 11105, 'put hoe': 13284, 'begging': 1424, 'guaranteed': 6606, 'make fussy wet': 9793, 'wayne': 17670, 'row': 13759, 'am crazy': 480, 'not dead': 11603, 'call hashtag': 2863, 'almost got': 415, 'fuck da': 5543, 'like tree': 9253, 'tree bitch': 16234, 'like tree bitch': 9254, 'demon': 4256, 'bitch already': 1854, 'talmbout': 15387, 'as to': 1018, 'clip': 3270, 'ancient': 711, 'lifestyle': 9038, 'dickhead': 4325, 'get away': 5954, 'log': 9461, 'posting': 13102, 'later am': 8875, 'social network': 14654, 'ah fussy': 203, 'wrapped': 18210, 'cave': 3053, 'injury': 7802, 'as sicca': 1013, 'board': 2467, 'the not': 15634, 'night love': 11398, 'dem niece': 4250, 'see the': 14070, 'the cut': 15604, 'bitch trying get': 2339, 'is hand': 7972, 'attract': 1087, 'mention bag': 10112, 'outside bitch': 12672, 'indian': 7793, 'mention cool': 10185, 'mention bitch we': 10153, 'lafa bitch': 8830, 'so ca': 14624, 'kiss am': 8702, 'duc': 4622, 'am much': 536, 'bitch live': 2113, 'make look': 9801, 'make look like': 9802, 'right way': 13687, 'no he': 11495, 'he may': 7012, 'delivery': 4243, 'of look like': 12167, '10000': 5, 'wad': 17466, 'kill birch': 8671, 'nobody got': 11518, 'hetty black': 7150, 'nobody got time': 11519, 'loss hashtag': 9554, 'mention fuck hoe': 10255, 'swag bitch': 15237, 'brest': 2611, 'give damn': 6200, 'damn ll': 4087, 'like shit': 9234, 'not give damn': 11664, 'all make': 363, 'night trash': 11459, 'brow in': 2665, 'tonight ll': 16069, 'ion no': 7852, 'wife bitch': 17962, 'mention birch love': 10122, 'spelling': 14837, 'trace': 16125, 'morgan': 10842, 'wight howard': 17975, 'll brow': 9371, 'brow fuck': 2663, 'influence': 7798, 'am colored': 476, 'not supposed': 11833, 'me bitch': 10009, 'compared': 3405, 'actually good': 152, 'talking soft': 15382, 'is something': 8060, 'something bitch': 14722, 'tell to': 15465, 'bitch bring': 1913, 'nut like': 11960, 'even fucking': 4853, 'll bit': 9364, 'bitch cut': 1961, 'exit': 4986, 'mention last': 10366, 'birch as': 1564, 'turn ll': 16355, 'got da': 6412, 'bitch ball': 1891, 'birch feeling': 1619, 'made night': 9725, 'bitch made night': 2133, 'start using': 14921, 'oak': 11963, 'cut really': 4025, 'boy clean': 2558, 'mention must': 10426, 'now fuck': 11926, 'mention hell now': 10312, 'in looking': 7752, 'heartless': 7101, 'oh ah': 12410, 'heartless bitch': 7102, 'bitch met': 2146, 'said of oh': 13848, 'champ': 3078, 'know mean': 8781, 'stop hating': 15045, 'warfare': 17602, 'jumped': 8596, 'not good': 11669, 'ai not good': 241, 'in fussy': 7738, 'not cry': 11597, 'elevator': 4765, 'want go': 17561, 'even the': 4873, 'struggle': 15106, 'pp get': 13116, 'like bitch is': 9077, 'jason': 8509, 'differ': 4346, 'still trying get': 15014, 'music trash': 10928, 'escape': 4836, 'am stuck': 578, 'breach': 2595, 'it we': 8482, 'we went': 17691, 'high bitch': 7183, 'eye red': 5016, 'got bird': 6404, 'taking he': 15339, 'mention ate': 10104, 'ate fussy': 1072, 'mention saw': 10508, 'saw bad': 13901, 'saw bad bitch': 13902, 'bitch dick': 1971, 'get two': 6068, 'ion give': 7850, 'of attitude': 12001, 'sit to': 14485, 'of boy': 12032, 'fucking monkey': 5675, 'supply': 15208, 'dingy': 4357, 'ashy': 1035, 'fussy always': 5743, 'yes love': 18321, 'love make': 9616, 'mention yes love': 10656, 'studied': 15113, 'life aunt': 9024, 'weed like': 17728, 'life aunt shit': 9025, 'aunt shit birch': 1117, 'shit birch money': 14258, 'wanted fuck': 17595, 'is fussy curl': 7956, 'let fuck': 8960, 'black of': 2423, 'get punched': 6045, 'immediately': 7718, 'dat shit': 4134, 'like always': 9052, 'wannaeat': 17511, 'wannaeat fussy': 17512, 'dat suck': 4136, 'tied': 15907, 'ok bitch': 12430, 'bitch damn': 1963, 'right not': 13683, 'have fun': 6917, 'cm': 3293, 'unless bitch': 16498, 'bitch word': 2382, 'as mon': 986, 'mon amp': 10779, 'man fuck bitch': 9872, 'cut am': 3994, 'pluck': 13037, 'acceptable': 113, 'beat birch': 1377, 'bitch law': 2099, 'too much': 16080, 'hope is': 7480, 'mention hope is': 10333, 'bitch probably': 2228, 'authority': 1122, 'are white trash': 886, 'as looking': 983, 'damn right': 4092, 'noise': 11527, 'your fussy': 18455, 'massive': 9967, 'went school': 17772, 'school like': 13990, 'bitch gave': 2019, 'birch sending': 1720, 'open leg': 12579, 'sweet not': 15274, 'not text': 11848, 'sweet not text': 15275, 'not text back': 11849, 'veteran': 17408, 'trash they': 16207, 'wear yellow': 17711, 'duke not': 4638, 'bitch wo': 2379, 'bitch wo not': 2380, 'like cut': 9101, 'chink eyed': 3190, 'like no': 9188, 'cash he': 3000, 'politician': 13061, 'rash': 13378, 'self serving': 14097, 'grant': 6556, 'still on': 15003, 'they trying': 15712, 'act hard': 127, 'still on na': 15004, 'aunt on': 1112, 'on get': 12463, 'need sum': 11116, 'fuck think': 5622, 'mutual': 10940, 'bitch say': 2249, 'fuck hoe curse': 5569, 'amusing': 704, 'on na he': 12480, 'in trash': 7777, 'like literally': 9161, 'gay as': 5919, 'as come': 948, 'owner': 12683, 'lastnumberyears': 8869, 'that fig': 15549, 'year ago': 18275, 'check bitch': 3142, 'black folk': 2415, 'and night': 726, 'sleep bitch': 14528, 'kitty': 8719, 'do not hate': 4437, 'let say': 8991, 'make better': 9775, 'austin bitter': 1121, 'spite': 14853, 'smart as': 14578, 'need fussy': 11081, 'blaming': 2433, 'know love': 8778, 'cut or': 4022, 'like daniel': 9106, 'chipotle': 3192, 'sole reason': 14682, 'crowned': 3632, 'ah is': 208, 'am buying': 473, 'been bitch': 1415, 'guy bitch': 6645, 'today ll': 16031, 'pirate': 12959, 'mention today': 10583, 'jeopardy': 8523, 'jeopardy print': 8524, 'patience': 12768, 'or he': 12609, 'is white': 8091, 'positive': 13088, 'hoe look': 7348, 'july': 8592, 'agency': 186, 'cub': 3655, 'stalk': 14890, 'bitch why': 2376, 'deemed': 4213, 'paste': 12762, 'coming bitch': 3387, 'boy curl': 2559, 'room of': 13743, 'run bitch': 13779, 'addicted': 158, 'spain': 14811, 'alabama': 294, 'no in': 11496, 'bout bitch': 2527, 'in talking bout': 7774, 'web': 17717, 'forehead': 5403, 'donald': 4485, 'sterling': 14959, 'bitch fur': 2016, 'really need': 13472, 'nobody ever': 11517, 'take as': 15309, 'stamp': 14891, 'not say shit': 11807, 'birch in': 1651, 'mention got birch': 10285, 'better curse': 1488, 'taxi': 15406, 'or little': 12612, 'bitch hang': 2043, 'not blame': 11574, 'll shook': 9407, 'bitch stay': 2291, 'gotta bitch': 6510, 'the fig': 15609, 'big time': 1528, 'doe bitch': 4458, 'make sense': 9814, 'guessing': 6617, 'you are welcome': 18347, 'say night': 13931, 'talking bitch': 15368, 'soft talking': 14669, 'charcoal': 3094, 'cuff': 3657, 'bumblebee': 2724, 'grief': 6579, 'what monkey': 17801, 'clutch': 3292, 'like oh': 9205, 'black girl': 2417, 'is pathetic': 8030, 'it is pathetic': 8144, 'whitney': 17910, 'like bout': 9085, '999': 90, 'mention fuck to': 10258, 'nigger music': 11274, 'class bitch': 3243, 'bitch life': 2105, 'wh': 17781, 'old lady': 12446, 'say ugly': 13949, 'homegirl': 7453, 'approve': 828, 'all hug': 353, 'would kept': 18181, 'snack bitch': 14607, 'trailer park': 16133, 'aime': 283, 'love bitch': 9584, 'love bitch curse': 9585, 'birch girl': 1630, 'yellow card': 18301, 'of hetty of': 12131, 'hair look': 6666, 'slap he': 14516, 'thumb': 15895, 'of white of': 12368, 'bitch everything': 1994, 'bitch when': 2374, 'is as': 7880, 'go ape': 6231, 'gig': 6108, 'maggot like': 9746, 'gordon': 6383, 'right is': 13677, 'pay back': 12782, 'he still': 7040, 'back shit': 1208, 'night beat': 11317, 'beat as': 1376, 'school bitch': 13985, 'mention bitch ai': 10127, 'bird bee': 1783, 'alert': 302, 'girl want': 6177, 'act like ca': 131, 'ann': 749, 'rot': 13752, 'team next': 15423, 'fussy let': 5802, 'aunt one': 1113, 'of guy': 12110, 'is of fuck': 8021, 'of fuck right': 12092, 'right fussy of': 13671, 'which': 17871, 'dont let': 4512, 'let nobody': 8983, 'say like': 13927, 'like penza': 9213, 'sanctioning': 13872, 'chest': 3156, 'say thing': 13947, 'much make': 10898, 'ignorant bitch': 7699, 'retarded fuck': 13614, 'general curse': 5934, 'donate': 4486, 'vomit': 17457, 'mention fat': 10239, 'disrespect': 4397, 'not disrespect': 11607, 'see fig': 14049, 'stare': 14909, 'whole of': 17931, 'phone is': 12897, 'fussy right': 5843, 'right ll': 13679, 'guy left': 6646, 'shouldn': 14358, 'whilst': 17875, 'dine': 4356, 'hay': 6928, 'fight curse': 5207, 'fussy money': 5820, 'mention ran': 10495, 'outlook': 12669, 'cruel': 3633, 'bitch listen': 2111, 'patted': 12774, 'text far': 15510, 'realize are': 13444, 'am seeing': 564, 'hetty fool': 7155, 'bitch de': 1968, 'block bitch': 2450, 'hysterical': 7605, 'bitch not give': 2184, 'grease': 6565, 'if say': 7681, 'station': 14932, 'renew': 13567, 'wit dat': 18029, 'what else': 17788, 'fussy ill': 5795, 'ill show': 7707, 'candle': 2942, 'mention bitch meet': 10144, 'gripped': 6584, 'make night': 9808, 'charge phone': 3096, 'result': 13605, 'only one': 12566, 'thought bitch': 15859, 'uninvited': 16486, 'cannot': 2946, 'da club': 4042, 'retreating': 13621, 'tired seeing': 15960, 'may birch': 9981, 'cooked': 3473, 'best fussy': 1466, 'cushion': 3988, 'they would': 15713, 'would feel': 18174, 'feel good': 5157, 'as sleep': 1014, 'jordan is': 8573, 'in saying': 7769, 'of trash of': 12299, 'bath': 1345, 'floating': 5330, 'friend of': 5491, 'rent': 13568, 'or hoe': 12610, 'teaching': 15419, 'lace': 8822, 'jigaboo': 8534, 'not is': 11701, 'fitted': 5291, 'mint': 10741, 'mention day': 10211, 'clever': 3262, 'rolled': 13731, 'fight not': 5211, 'know hetty': 8768, 'highly doubt': 7196, 'am really': 556, 'hey mention': 7173, 'broke as bitch': 2642, 'hussy hashtag': 7597, 'helmet': 7122, 'living birch': 9358, 'living birch hashtag': 9359, 'birch hashtag curl': 1643, 'stressed': 15089, 'whatever want': 17808, 'childish as': 3169, 'as mother': 989, 'mother pucker': 10855, 'nevermind': 11188, 'bag hashtag': 1275, 'up of': 16513, 'move curse': 10872, 'goose is': 6382, 'is bitch of': 7905, 'this due': 15819, 'little bitch curl': 9335, 'still ugly': 15015, 'still ugly he': 15016, 'virginia': 17439, 'mountain': 10861, 'saxon': 13906, 'anglo saxon': 743, 'frank': 5447, 'birch talk': 1738, 'got right': 6479, 'god admit': 6291, 'birch talk shit': 1739, 'his bitch': 7211, 'make think': 9821, 'fucking name': 5678, 'name he': 11033, 'everyone birch': 4950, 'birch anyway': 1562, 'not win': 11890, 'bitch party': 2213, 'make great': 9795, 'baby bird': 1167, 'forgot he': 5421, 'he made': 7009, 'it you': 8483, 'he put': 7027, 'paget': 12694, 'night call': 11329, 'fussy go': 5789, 'talking much': 15377, 'birch talking': 1740, 'birch talking shit': 1741, 'all he': 347, 'forgetting': 5418, 'bag of': 1276, 'face make': 5038, 'money amp': 10789, 'come bitch': 3350, 'like dont': 9110, 'dont really': 4523, 'really think': 13477, 'think of': 15776, 'dont think': 4528, 'mention curl via': 10195, 'fussy time': 5866, 'whenever': 17861, 'ridiculous': 13654, 'someone say': 14717, 'puppet': 13258, 'referring': 13524, 'play hashtag': 13001, 'insurance': 7826, 'bully': 2723, 'while': 17874, 'not understand': 11874, 'understand is': 16474, 'pudding': 13231, 'right fucking': 13668, 'defend': 4227, 'but one': 2769, 'still around': 14971, 'around make': 909, 'girl like': 6145, 'impress bitch': 7722, 'girl like of': 6146, 'cutting': 4033, 'think get': 15763, 'get hard': 6000, 'certain': 3069, 'come around': 3347, 'time he': 15935, 'racial': 13330, 'tendency': 15477, 'never talk': 11181, 'want talk': 17588, 'theory': 15670, 'of queer': 12233, 'am starting': 574, 'got nothing': 6469, 'not got nothing': 11674, 'get fat': 5987, 'hoe not even': 7371, 'dreaded': 4571, 'another night': 772, 'follow night': 5369, 'repeat': 13570, 'utf talking': 17377, 'fat ugly': 5127, 'as could': 949, 'bitch school': 2253, 'not belong': 11566, 'drop bitch': 4598, 'black curl': 2414, 'party is': 12747, 'like bitch curl': 9072, 'gram': 6545, 'beat he': 1382, 'young thus': 18450, 'ran game': 13358, 'say nigger': 13930, 'planted': 12988, 'mention female': 10242, 'you are maggot': 18343, 'you maggot': 18395, 'wannaargue': 17506, 'bitch houston': 2065, 'refuse': 13528, 'bitch saw': 2248, 'he suck': 7041, 'take note': 15321, 'one he': 12523, 'foe': 5359, 'mention fucking birch': 10260, 'is dinner': 7928, 'making money': 9833, 'of video': 12352, 'bad as bitch': 1224, 'mention honey': 10331, 'honey took': 7463, 'blasting': 2437, 'gutta line': 6641, 'bitch idea': 2068, 'top notch': 16093, 'shit need': 14300, 'betrayed': 1482, 'ok he': 12432, 'wa bitch': 17464, 'not much': 11757, 'bitch do not': 1974, 'bitch line': 2110, 'day all': 4158, 'as and': 923, 'lie bitch': 9016, 'planet': 12981, 'the last': 15624, 'planet ape': 12982, 'kiss it': 8709, 'someone call': 14706, 'hashtag just': 6804, 'just want': 8625, 'active': 145, 'pack': 12688, 'duty': 4673, 'feeding': 5152, 'bitch move': 2154, 'catch to': 3012, 'they bitch': 15705, 'like utf': 9259, 'mention play': 10481, 'may is': 9990, 'one see': 12542, 'see curse': 14048, 'is fun': 7953, 'haunt': 6911, 'trash talker': 16204, 'slipping bird': 14552, 'pepper': 12852, 'patch': 12765, 'journalist': 8576, 'of saying': 12249, 'someone bitch': 14705, 'mention not care': 10444, 'kind bitch': 8692, 'stoned': 15030, 'fussy later': 5801, 'like yesterday': 9277, 'catholic': 3018, 'night is bitch': 11380, 'mention bad birch': 10110, 'gangster': 5899, 'therecurse': 15678, 'youth': 18459, 'lack': 8823, 'today curse': 16027, 'hoe go': 7315, 'birch smell': 1724, 'birch smell like': 1725, 'some night': 14694, 'night straight': 11443, 'straight birch': 15069, 'work bitch': 18117, 'like man': 9171, 'man like': 9881, 'of hi': 12133, 'say of hi': 13936, 'bitch asks': 1879, 'particular': 12738, 'hate see': 6898, 'get trouble': 6065, 'constantly bitch': 3453, 'let or': 8985, 'am always': 456, 'always call': 434, 'yeah ll': 18269, 'stereotyped': 14958, 'people fucking': 12825, 'not racism': 11791, 'fussy put': 5841, 'twinkled': 16377, 'fat of': 5125, 'friend not': 5490, 'find new': 5239, 'university': 16494, 'requirement': 13582, 'going see': 6313, 'burned': 2734, 'jessica': 8528, 'am afraid': 453, 'the fucking': 15611, 'make fun': 9791, 'mention like said': 10377, 'having as': 6924, 'if not like': 7678, 'allow': 408, 'footing': 5390, 'mere': 10668, 'racism of': 13334, 'oh forgot': 12413, 'recent': 13490, 'versed': 17405, 'am starving': 575, 'bitch yes': 2390, 'iowa': 7856, 'you could': 18360, 'you could not': 18361, 'could not handle': 3519, 'every one': 4927, 've ever met': 17393, 'getting as': 6078, 'for real': 5396, 'real ll': 13423, 'love fussy': 9602, 'night never': 11407, 'amp people': 683, 'people not': 12838, 'as fuck': 967, 'to ugly': 16020, 'night bitch am': 11322, 'mamma raised': 9849, 'raised bitch': 13350, 'talk lot': 15356, 'lot shit': 9566, 'stupid little': 15135, 'thought could': 15860, 'could not get': 3518, 'll let': 9392, 'god bless': 6294, 'lotion': 9567, 'flavor': 5307, 'murdered': 10920, 'list': 9317, 'lmfaoooooooo': 9445, 'ready bitch': 13408, 'am curl': 481, 'tell to bitch': 15466, 'overnight': 12679, 'ca not help': 2816, 'hip': 7206, 'hip hop': 7207, 'not judge': 11702, 'mention shine': 10515, 'on hoe': 12466, 'hoe could': 7282, 'hoe on hoe': 7378, 'stink': 15021, 'trained': 16137, 'mirror': 10745, 'look mirror': 9518, 'when come': 17822, 'holy fuck': 7439, 'fuck ex': 5551, 'ex boyfriend': 4966, 'in far': 7735, 'slay': 14525, 'as you': 1030, 'it funny': 8123, 'basis': 1339, 'well not': 17760, 'not little': 11728, 'daily basis': 4070, 'not little bitch': 11729, 'as but': 943, 'but as': 2757, 'winter': 18000, 'amp want': 701, 'ugly bitch is': 16442, '8th': 82, 'bring bitch': 2623, 'mention bring bitch': 10160, 'girl gun': 6138, 'gun want': 6635, 'cashier': 3001, 'actually am': 151, 'am eating': 491, 'saturday': 13889, 'first name': 5279, 'what far': 17790, 'hope got': 7479, 'know in': 8772, 'bitch time': 2323, 'you already': 18336, 'no fuck': 11493, 'mention no fuck': 10440, 'come in': 3365, 'scar as': 13974, 'town east': 16121, 'shit not': 14303, 'fuck still': 5617, 'shit you': 14333, 'still talking shit': 15010, 'shit another': 14253, 'state is': 14928, 'talk shit another': 15362, 'said name': 13841, 'name bitch': 11032, 'money to': 10807, 'night would': 11477, 'would give': 18177, 'run mouth': 13782, 'fuck is': 5572, 'real fucking': 13417, 'is bitch is': 7902, 'sunset': 15198, 'hurt bitch': 7587, 'night man': 11402, 'wannatalk': 17527, 'talking not': 15378, 'like get': 9135, 'trying make': 16313, 'bitch go get': 2030, 'going bitch': 6303, 'bitch let is': 2103, 'making excuse': 9831, 'night box': 11324, 'box he': 2551, 'bout nothing': 2538, 'describe': 4279, 'soft get': 14664, 'bout life': 2535, 'bitch or': 2211, 'fucking weak': 5699, 'flew': 5312, 'plan senior': 12975, 'senior high': 14120, 'plan to': 12977, 'plan senior high': 12976, 'as friend': 965, 'know night': 8786, 'mention bye bitch': 10166, 'catch hoe': 3011, 'know not': 8787, 'know not fuck': 8788, 'lagging': 8834, 'going make': 6310, 'aunt bitch': 1094, 'night utf': 11470, 'night in': 11378, 'night really': 11425, 'really dont': 13457, 'dont give': 4508, 'wannatalk shit': 17528, 'bitch last': 2096, 'in fucking': 7737, 'fight like': 5208, 'license': 9008, 'like dumb': 9112, 'fucking dick': 5655, 'wannabitch': 17509, 'bitch blood': 1907, 'hoe talk': 7399, 'far curl': 5101, 'crowd': 3630, 'in pretty': 7763, 'sure is': 15220, 'in word': 7780, 'is bad bitch': 7887, 'amp two': 700, 'need take': 11117, 'baby as': 1164, 'not watch': 11886, 'watch to': 17633, 'boy is': 2568, 'bitch emma': 1988, 'll mention': 9397, 'bitch music': 2157, 'one is': 12526, 'macdonald': 9690, 'parking': 12727, 'parking lot': 12728, 'not arguing': 11558, 'you said': 18414, 'real woman': 13439, 'as man': 984, 'mentioned': 10666, 'first of': 5281, 'psychic as': 13223, 'hustling': 7598, 'holder': 7431, 'revenge': 13624, 'usual': 17366, 'tyranny hooker': 16429, 'scandalous': 13972, 'mouth closed': 10865, 'look retarded': 9519, 'gay maggot': 5922, 'fig ll': 5201, 'oris': 12650, 'bout birch': 2525, 'talking bout birch': 15370, 'hoe super': 7395, 'licked': 9012, 'dick breath': 4310, 'as trash': 1020, 'matter fact': 9976, 'get night': 6032, 'night he': 11372, 'going shit': 6314, 'girl cry': 6127, 'watching like': 17638, 'tom as': 16054, 'uncle tom as': 16468, 'hetty girl': 7157, 'bitch mr': 2155, 'fuck girl': 5560, 'bitch gotta go': 2038, 'mess like': 10675, 'get as beat': 5953, 'in retarded': 7767, 'bishop': 1836, 'got fuck': 6419, 'none business': 11533, 'bird catch': 1786, 'catch worm': 3013, 'bird catch worm': 1787, 'mention video': 10608, 'made of': 9726, 'video charlie': 17423, 'sheen curl': 14223, 'charlie sheen curl': 3118, 'steel': 14953, 'slavery': 14524, 'of that of': 12281, 'proper': 13206, 'finer': 5249, 'advanced': 169, 'algebra': 305, 'one know': 12527, 'never call': 11143, 'as bitch ll': 936, 'best bitch': 1463, 'arc': 834, 'frustrated': 5508, 'little fussy': 9342, 'play music': 13003, 'saying nigger': 13960, 'every song': 4931, 'mention called nigger': 10171, 'ch': 3073, 'fucking not': 5683, 'ai not raise': 264, 'someone need': 14714, 'give birch': 6193, 'my dick': 10955, 'what kind': 17799, 'sleeve': 14536, 'sort': 14786, 'people need': 12836, 'minority': 10740, 'cough': 3503, 'goodby': 6375, 'trash another': 16159, 'make brownish': 9780, 'recently': 13491, 'of use': 12308, 'going real': 6312, 'people use': 12850, 'want bring': 17548, 'look bad': 9486, 'not eating': 11612, 'life hoe': 9032, 'na hoe': 11011, 'on na hoe': 12481, 'role model': 13728, 'congratulation': 3440, 'mention congratulation': 10184, 'bitch swear': 2297, 'swear ai': 15243, 'swear ai not': 15244, 'yellow starburst': 18311, 'window curse': 17992, 'still count': 14979, 'the person': 15640, 'ginger': 6113, 'fuck tyranny': 5628, 'charles': 3098, 'desire': 4287, 'endless': 4796, 'infected': 7796, 'is dumb': 7932, 'invisible': 7843, 'wish could': 18010, 'see picture': 14066, 'boy get': 2565, 'mention hell yea': 10313, 'like wait': 9261, 'am little': 526, 'chin': 3183, 'chin fig': 3184, 'tact bell': 15305, 'celestial': 3061, 'is he is': 7977, 'is name': 8010, 'sound good': 14792, 'hoe night': 7368, 'recycle': 13504, 'fussy pop': 5835, 'love birch': 9581, 'love birch love': 9582, 'blade': 2429, 'bitch even': 1989, 'hacking': 6656, 'met you': 10679, 'need keep': 11093, 'are retard': 874, 'one thing': 12549, 'bout night': 2537, 'naso': 11045, 'discovered': 4384, 'shoe fit': 14342, 'bunch hussy': 2730, 'hard as': 6736, 'got ugly': 6496, 'got pretty': 6476, 'monster': 10827, 'sue': 15173, 'getting bitch': 6080, 'fussy pope': 5836, 'girl of bitch': 6155, 'fuck amp': 5517, 'scorpion': 14001, 'sorry bitch': 14778, 'peaceful': 12791, 'impossible': 7720, 'ai not seen': 268, 'mill': 10720, 'betting': 1502, '35': 46, 'what fuck': 17791, 'man call': 9866, 'what fuck wrong': 17792, 'am also': 455, 'trying catch': 16296, 'like see': 9232, 'sting': 15019, 'funny monkey': 5729, 'day feel': 4166, 'bitch speaking': 2286, 'got whole': 6501, 'life fussy': 9029, 'packed': 12690, 'need stop acting': 11114, 'right next': 13681, 'senate': 14109, 'senator': 14110, 'll hoe': 9388, 'proudly': 13216, 'would happy': 18179, 'amy': 705, 'am surprised': 580, 'friend mention': 5489, 'whipping': 17883, 'gas station': 5908, 'swear is': 15251, 'night put': 11423, 'vista': 17444, 'ugly duke': 16444, 'long time': 9479, 'guess all': 6611, 'let find bitch': 8959, 'trying look': 16311, 'reply': 13573, 'many thing': 9928, 'gaze': 5926, 'bitch broke': 1914, 'hoe dick': 7294, 'joint': 8567, 'straight curse': 15071, 'go hetty': 6255, 'let is get': 8974, 'pussy': 13274, 'get cold': 5972, 'na trash': 11021, 'on na trash': 12490, 'horror': 7498, 'like red': 9224, 'powdered': 13113, 'sugar': 15175, 'we gotta': 17681, 'hoe know': 7337, 'offered': 12401, 'custody': 3989, 'maggot as night': 9736, 'as night get': 1000, 'man as': 9858, 'chirping': 3193, 'bird chirping': 1788, 'curled': 3698, 'bug': 2710, 'physical': 12911, 'still go': 14988, 'trash bin': 16164, 'find one': 5240, 'gotta he': 6518, 'not fair': 11629, 'fling': 5324, 'is enough': 7937, 'take away': 15310, 'monday': 10785, 'not between': 11567, 'love the': 9633, 'hanover': 6708, 'bitch driving': 1980, 'useless': 16538, 'rock you': 13718, 'never gave': 11154, 'of bird': 12018, 'bitch alive': 1848, 'fussy one': 5832, 'like yellow': 9274, 'night phone': 11419, 'of he is': 12122, 'ranch': 13361, 'is simple': 8058, 'hammer': 6692, 'is hillbilly': 7981, 'dumbcurse': 4660, 'bitch bet': 1896, 'dumbcurse curse': 4661, 'bitch already know': 1855, 'suicide': 15178, 'amelie': 618, 'pride bitch': 13164, 'amp look': 669, 'make birch': 9776, 'bitch tested': 2308, 'even make': 4863, 'pull hoe': 13248, 'hoe dream': 7298, 'bitch talk': 2300, 'fussy look': 5812, 'fussy look like': 5813, 'spending': 14840, 'love all': 9573, 'conclusion': 3424, 'america of': 624, 'showed bitch': 14374, 'everybody is': 4943, 'bitch they': 2316, 'ac': 109, 'door am': 4534, 'get way': 6072, 'treadmill': 16218, 'opposite': 12596, 'brow swear': 2671, 'business he': 2748, 'ish': 8104, 'illinois': 7710, 'fussy gay': 5785, 'total bitch': 16106, 'town hashtag': 16122, 'is bird': 7894, 'do not night': 4444, 'curse love': 3799, 'hunt': 7580, 'bird is': 1801, 'is lot': 7999, 'not hungry': 11699, 'ai not hungry': 246, 'equality': 4828, 'make rain': 9813, 'cause got': 3033, 'even bitch': 4850, 'something not': 14728, 'right hashtag': 13675, 'just let': 8613, 'night to': 11455, 'patrick': 12770, 'hood night': 7469, 'ever meet': 4893, 'bitch all ever': 1850, 'all ever meet': 332, 'and get': 720, 'go cut': 6246, 'as flex': 964, 'fuck need': 5585, 'as night ai': 996, 'ai not get': 237, 'you let': 18387, 'hoped': 7487, 'fun curse': 5716, 'pick not': 12920, 'stupid count': 15129, 'not know live': 11712, 'failing': 5061, 'he shot': 7036, 'ill bitch': 7704, 'am am': 457, 'better go': 1492, 'bloody': 2455, 'christ': 3214, 'jesus christ': 8530, 'walking dead': 17497, 'of come': 12045, 'of dog': 12068, 'someone get': 14711, 'call he': 2864, 'is every': 7939, 'warm fully': 17605, 'fully inside': 5713, 'warm fully inside': 17606, 'mention hashtag of': 10298, 'bitch tripping': 2336, 'want he': 17564, 'hoe and': 7258, 'sweet ll': 15272, 'is best': 7890, 'fan hashtag': 5090, 'up bitch': 16506, 'up he': 16510, 'to name': 16011, 'go play': 6268, 'night funny': 11355, 'practically': 13118, 'swimming': 15286, 'descended': 4278, 'said fuck': 13832, 'example': 4975, 'girlfriend not like': 6188, 'often': 12407, 'costa': 3498, 'source curl': 14806, 'aunt like': 1105, 'bed time': 1408, 'time fuck': 15931, 'eric': 4832, 'margin': 9937, 'sherman': 14233, 'not tag': 11838, 'starve': 14925, 'shirt of': 14246, 'threatened': 15872, 'not try': 11866, 'worn star': 18147, 'hair fussy': 6664, 'halftime': 6685, 'appear': 820, 'branch': 2584, 'it go': 8124, 'still getting': 14986, 'birch see': 1718, 'lip bird': 9305, 'like anything': 9055, 'anything bitch': 804, 'ai not like': 248, 'not like anything': 11722, 'll as': 9362, 'genuine': 5939, 'kiss not': 8711, 'he gotta': 6985, 'lucy': 9663, 'fuck basic': 5525, 'queer folk': 13306, 'not sucking': 11832, 'ai not sucking': 270, 'lifetime': 9039, 'is yankee': 8100, 'combat': 3340, 'no curse': 11492, 'lowlife': 9646, 'not look': 11732, 'like white': 9266, 'not look like': 11733, 'thin': 15727, 'love fucking': 9600, 'principal': 13169, 'office': 12403, 'bitch tomorrow': 2329, 'matter much': 9977, 'mention no matter': 10441, 'have great': 6918, 'birch fat': 1618, 'something real': 14730, 'tonight bitch': 16065, 'san antonio': 13870, 'russian': 13796, 'am saying is': 563, 'nobody like': 11520, 'bitch again': 1843, 'like pick': 9218, 'mention fucking maggot': 10263, 'stop saying': 15055, 'even smoke': 4870, 'carpet': 2987, 'bird outside': 1813, 'rustle': 13797, 'knew not': 8725, 'all probably': 377, 'shit either': 14272, 'bitch place': 2218, 'word count': 18111, 'person manning': 12872, 'amp love': 670, 'love deep': 9592, 'yankee curse': 18241, 'ape curl': 813, 'it user why': 8465, 'rd': 13396, 'see real': 14067, 'it is ok': 8142, 'keep hoe': 8642, 'not tell nothing': 11846, 'who of': 17920, 'talk to': 15363, 'class teacher': 3250, 'dumb as he': 4645, 'shit crazy': 14265, 'live life': 9355, 'curse look': 3798, 'like bitch night': 9078, 'back he': 1198, 'bitch asked': 1878, 'me amp': 10008, 'surprise': 15226, 'taking picture': 15341, 'just not': 8616, 'self defense': 14095, 'blaxican': 2438, 'way make': 17663, 'which mean': 17872, 'banking': 1310, 'really bad': 13450, 'want help': 17565, 'happy as': 6718, 'offense': 12397, 'really want': 13480, 'sleeper': 14533, 'night damn': 11343, 'sure not': 15222, 'of such': 12271, 'exact': 4973, 'shelf': 14227, 'grumpy': 6604, 'young sicca': 18449, 'get left': 6015, 'there go': 15673, 'crack bitch': 3566, 'yankee win': 18249, 'make day': 9785, 'single time': 14470, 'every single time': 4930, 'guy never': 6647, 'big as': 1512, 'idea is': 7622, 'is talking': 8068, 'like need': 9180, 'user which': 17313, 'which one': 17873, 'birch made': 1678, 'made curl': 9717, 'ease': 4696, 'as due': 959, 'sad life': 13807, 'life his': 9030, 'his hair': 7212, 'hair mess': 6668, 'mess family': 10672, 'family nut': 5085, 'nut neighbor': 11961, 'neighbor is': 11128, 'sad life his': 13808, 'life his hair': 9031, 'his hair mess': 7213, 'hair mess family': 6669, 'mess family nut': 10673, 'family nut neighbor': 5086, 'bitch real': 2233, 'bitch real night': 2234, 'brag': 2579, 'user strong': 17185, 'it user strong': 8416, 'it user him': 8291, 'fuck ai': 5513, 'fuck ai not': 5514, 'climb': 3267, 'girl getting': 6133, 'real birch': 13413, 'birch all': 1555, 'point life': 13048, 'claiming': 3235, 'drama of': 4567, 'told look': 16047, 'hunted': 7581, 'he on': 7022, 'gone he': 6333, 'he gone he': 6983, 'he regardless': 7030, 'he on na': 7023, 'he night': 7018, 'knock door': 8730, 'the end': 15606, 'tender': 15478, 'call back': 2852, 'lot birch': 9560, 'birch eat': 1612, 'and man': 725, 'lost niece': 9557, 'niece talk': 11252, 'learner': 8916, 'trash curse curl': 16171, 'sicca ai': 14403, 'sicca ai not': 14404, 'sicca got': 14406, 'last night curse': 8861, 'sicca hungry': 14408, 'maid': 9760, 'sicca need': 14412, 'could tell': 3524, 'is gotta': 7968, 'night say': 11430, 'still feel': 14982, 'would fuck': 18175, 'during': 4668, 'carted': 2993, 'bitch thank': 2311, 'bitch thank god': 2312, 'damn hate': 4083, 'damn hate bitch': 4084, 'yellow jacket': 18307, 'say curse': 13912, 'abroad': 101, 'opposing': 12595, 'arm bitch': 898, 'one curl': 12510, 'take shit': 15331, 'due ca': 4629, 'not spell': 11824, 'may user mention': 9999, 'user mention due': 16952, 'due ca not': 4630, 'ca not spell': 2829, '23': 31, 'go watch': 6281, 'flaw': 5308, 'is make': 8002, 'am fuck': 499, 'parent not': 12720, 'december': 4206, 'announce': 752, 'yellow curl': 18302, 'ghost': 6104, 'of many': 12179, 'user may trash': 16920, 'session': 14142, 'girl good': 6134, 'shit like of': 14295, 'jumping': 8598, 'walking stair': 17498, 'hearted': 7099, 'many night': 9926, 'come show': 3372, 'cold hearted': 3318, 'hearted bitch': 7100, 'cold hearted bitch': 3319, 'like found': 9127, 'amp complain': 645, 'complain curse': 3409, 'ah fuck': 202, 'he day': 6967, 'hata hashtag': 6855, 'shady birch': 14177, 'hoe got': 7319, 'not fucking wit': 11653, 'like gun': 9145, 'my birch': 10947, 'compete': 3407, 'bitch doe': 1975, 'ai not broke': 223, 'hetty curse': 7154, 'cloud': 3283, 'not none': 11768, 'none hoe': 11534, 'but ai': 2753, 'but ai not': 2754, 'funnier watching': 5722, 'inner he': 7807, 'hit back': 7219, 'nothing good': 11907, 'good head': 6358, 'fucking another': 5647, 'another night bitch': 773, 'pretty bitch': 13151, 'saw bitch': 13903, 'kiss bitch': 8704, 'park trash': 12725, 'trailer park trash': 16134, 'the power': 15641, 'tide': 15905, 'roll tide': 13730, 'xx': 18236, 'alcohol': 300, 'miss curse': 10749, 'humble': 7570, 'flex smith': 5315, 'got damn': 6413, 'get he': 6002, 'is phone': 8032, 'prepared': 13137, 'whitman': 17909, 'bitchesniggas': 2400, 'nothing else': 11906, 'someone love': 14713, 'staple': 14903, 'got hoe dick': 6438, 'anumbermillion': 788, 'all need': 366, 'anumbermillion dollar': 789, 'bc got': 1352, 'got bad': 6398, 'got bad bitch': 6399, 'need one': 11103, 'one not': 12539, 'birthday big': 1827, 'want birthday big': 17545, 'birthday big booty': 1828, 'dollar bad': 4474, 'dollar bad bitch': 4475, 'booty birch': 2498, 'big booty birch': 1517, 'amp one': 682, 'birch could': 1592, 'all these': 392, 'all these hoe': 393, 'dancing': 4100, 'brown bitch': 2674, 'all birch need': 321, 'chris brown bitch': 3213, 'mess hoe': 10674, 'gate': 5909, 'da ll': 4051, 'da white folk': 4057, 'dos': 4540, 'dos birch': 4541, 'thing must': 15740, 'end is': 4792, 'right get': 13672, 'cone': 3431, 'take one': 15323, 'one bitch': 12507, 'night start': 11440, 'all take one': 390, 'take one bitch': 15324, 'bitch buy': 1918, 'hoe want': 7414, 'round saying': 13757, 'get money fuck': 6027, 'craving': 3580, 'all birch know': 320, 'it aunt': 8117, 'head hashtag': 7075, 'sake': 13856, 'birch grm': 1639, 'think bad': 15750, 'birch happy': 1640, 'all fine': 335, 'fine birch': 5245, 'wife type': 17972, 'from curse': 5500, 'do is': 4426, 'all hatchet': 346, 'te': 15408, 'all time': 395, 'fig dog': 5199, 'wannaseem': 17523, 'wannaseem like': 17524, 'gotta hit': 6519, 'all hoe fucking': 349, 'afternoon': 180, 'bursa': 2740, 'amp night': 676, 'night tripping': 11462, 'got like': 6451, 'sipping': 14474, 'desk': 4288, 'work like': 18123, 'birch wannafuck': 1766, 'crazy he': 3590, 'boyfriend is': 2576, 'thing need': 15741, 'all hoe want': 352, 'hatchet birch': 6859, 'amp aunt': 636, 'slipped': 14547, 'phone he': 12896, 'birch corn': 1591, 'birch dress': 1609, 'get all': 5945, 'all birch face': 319, 'birch keep': 1657, 'keep getting': 8640, 'sober': 14647, 'birch thirsty': 1755, 'all gotta': 344, 'even gotta': 4858, 'tweetin': 16372, 'nice curse': 11237, 'shit wo': 14330, 'shit wo not': 14331, 'gallery': 5883, 'gathered': 5910, 'look like am': 9501, 'cursed': 3984, 'register': 13535, 'done bitch': 4489, 'absolute': 102, 'trash and': 16158, 'fucking die': 5656, 'almost forgot': 414, 'still birch': 14974, 'false': 5081, 'is he shit': 7978, 'alpha': 420, 'people say': 12845, 'loyal night': 9654, 'maggot let': 9745, 'let stop': 8994, 'people probably': 12842, 'cheesecake': 3154, 'bartender': 1326, 'anyone want': 802, 'propaganda': 13205, 'jihadi propaganda': 8541, 'sash': 13885, 'always good': 437, 'suddenly': 15172, 'am person': 550, 'bird poor': 1814, 'am hetty': 515, 'hetty curl': 7153, 'possessed': 13089, 'roman': 13733, 'groan': 6586, 'bitch org': 2212, 'get along': 5946, 'bad birch of': 1234, 'if girlfriend': 7659, 'user if girlfriend': 16839, 'if girlfriend not': 7660, 'not like bitch': 11723, 'bitch not talk': 2189, 'not talk bitch': 11841, 'culture': 3658, 'progress': 13198, 'not day': 11602, 'aunt he get': 1104, 'he get trap': 6976, 'duke fuck': 4635, 'soooooo': 14771, 'and like': 723, 'like yeah': 9273, 'am definitely': 487, 'to face': 15989, 'debate': 4202, 'not bout': 11577, 'ai not bout': 222, 'running back': 13788, 'hoe user': 7413, 'of house': 12140, 'car amp': 2954, 'idea get': 7621, 'get car': 5968, 'self bad': 14094, 'loyal one': 9656, 'bad bitch that': 1249, 'bitch break': 1912, 'he all': 6933, 'and aunt': 717, 'get up': 6069, 'up out': 16515, 'out my': 12663, 'trap house': 16147, 'get up out': 6070, 'up out my': 16516, 'shoulder': 14357, 'fuck bitch shit': 5535, 'lady free': 8828, 'loaded': 9449, 'butted': 2775, 'blast': 2436, 'getting car': 6081, 'he dat': 6966, 'bragging': 2581, 'abused': 107, 'every fucking': 4916, 'looking as birch': 9528, 'remember of': 13558, 'of always': 11984, 'japan': 8504, 'dad bitch': 4060, 'favorite sweet': 5138, 'good am': 6341, 'versa': 17403, 'vice versa': 17417, 'and say': 729, 'nobody even': 11516, 'of bitch not': 12027, 'item': 8487, 'game trash': 5897, 'ditch': 4410, 'say love bitch': 13929, 'adopted': 166, 'illness': 7712, 'fuck kind': 5573, 'kind of': 8695, 'youcurse bitch': 18433, 'bitch user mention': 2349, 'hood birch': 7467, 'birch long': 1670, 'worst thing': 18161, 'next door': 11223, 'hungarian': 7575, 'calling of': 2896, 'specifically': 14830, 'relief': 13550, 'release': 13547, 'one mention': 12535, 'woman ai': 18078, 'girl hoe': 6140, 'woman ai not': 18079, 'attention all': 1083, 'grow of': 6594, 'of got hoe': 12105, 'considering': 3448, 'lip of': 9309, 'getting da': 6083, 'am confused': 478, 'far curse user': 5103, 'else is': 4770, 'reason bitch': 13483, 'pregnant birch': 13131, 'curse ink': 3785, 'solution': 14686, 'monkey bread': 10815, 'mouth you': 10869, 'somebody say': 14701, 'on trash': 12497, 'apologizing': 816, 'biggest bitch': 1533, 'bad thing': 1267, 'rich james': 13638, 'nigguhs': 11278, 'that nigh': 15576, 'nigh not': 11292, 'of mock': 12194, 'like ugly': 9257, 'arrow': 915, 'con': 3417, 'blaine': 2430, 'ouh': 12659, 'champagne': 3079, 'tell mon': 15455, 'probably would': 13182, 'fact hoe': 5048, 'better let': 1493, 'know wasp': 8805, 'buy to': 2786, 'feel like bitch': 5160, 'look face': 9494, 'on na curse': 12473, 'show love': 14372, 'commercial': 3396, 'think shit': 15777, 'can wait': 2933, 'come curse': 3353, 'got one bitch': 6473, 'towel': 16117, 'towel head': 16118, 'think fucking': 15760, 'masha': 9957, 'doe curse': 4459, 'athlete': 1073, 'drunken': 4618, 'donets': 4496, 'got kicked': 6449, 'solid': 14684, 'arbat': 833, 'vi is': 17410, 'faithful bitch': 5068, 'find man': 5238, 'sundry': 15192, 'cardinal': 2966, 'st louis': 14880, 'probably not': 13179, 'make of': 9809, 'is life': 7993, 'hoe life': 7343, 'like of oh': 9203, 'make mad': 9804, 'mad that': 9711, 'denver': 4266, 'saturday night': 13890, 'fuck bad': 5523, 'drunk hashtag': 4616, 'gone let': 6335, 'birch good': 1635, 'fire cracked': 5264, 'school hashtag': 13989, 'breathe': 2605, 'to mention': 16010, 'right wing': 13688, 'may of': 9995, 'of because': 12013, 'fuck happened': 5564, 'malo curse user': 9841, 'user them hoe': 17214, 'baby make': 1175, 'baby make fussy': 1176, 'cong': 3439, 'long of': 9478, 'lot pp': 9565, 'bail': 1279, 'shit swear': 14316, 'swear bitch': 15247, 'stiff': 14967, 'back hashtag': 1197, 'trying steal': 16322, 'hoe let': 7341, 'give good': 6207, 'bad bitch give': 1243, 'bitch good': 2033, 'trying give': 16303, 'as fat': 962, 'bad birch good': 1232, 'birch good weed': 1636, 'oval': 12676, 'birch hate': 1644, 'hate broke': 6873, 'not respect': 11799, 'toss': 16104, 'wattle house': 17648, 'not even get': 11616, 'errare': 4834, 'foreign bitch': 5405, 'bitch walking': 2357, 'bad ll': 1260, 'fine bitch': 5246, 'deep fried ore': 4218, 'org curse': 12638, 'chime': 3182, 'prosper': 13210, 'strange': 15076, 'bitch it is': 2080, 'bitch chill': 1935, 'lame night': 8842, 'night it': 11381, 'one good': 12520, 'suspended': 15233, 'tub': 16328, 'shy people': 14399, 'bitch attitude': 1884, 'embrace': 4779, 'rude little': 13770, 'little sister': 9348, 'kick as': 8663, 'spine': 14849, 'of mention voice': 12189, 'well shit': 17761, 'shit still': 14315, 'never go': 11157, 'fussy bomb': 5761, 'customer': 3990, 'lgbtq': 9003, 'paradise': 12714, 'queer people': 13308, 'hunting': 7583, 'seen hashtag': 14087, 'choosing': 3205, '92': 85, 'lot people': 9564, 'people am': 12815, 'someone would': 14720, 'single birch': 14463, 'birch curse curl': 1597, 'independent': 7791, 'behind every': 1430, 'girl suck': 6165, 'being he': 1432, 'cut hashtag': 4013, 'testing birch': 15493, 'late night': 8871, 'bengal': 1451, 'bending': 1449, 'addition': 162, 'orel flurry': 12631, 'legacy': 8938, 'saved': 13897, 'that go': 15556, 'mop': 10834, 'want cook': 17551, 'na of': 11015, 'trend': 16235, 'like woman': 9269, 'sister bitch': 14477, 'so mention': 14637, 'sicca ll': 14410, 'tom of': 16056, 'yea bitch': 18256, 'face he': 5034, 'booth': 2496, 'lastnight': 8868, 'remount': 13565, 'yacht': 18237, 'mt': 10885, 'odd': 11975, 'birch gotta': 1638, 'mustard': 10935, 'back to': 1211, 'trust me': 16272, 'am man': 533, 'forget curse': 5416, 'kill dat': 8674, 'someone of': 14716, 'paper bitch': 12713, 'far bitch': 5099, 'to night': 16012, 'bitch fuck to': 2012, 'talmbout of': 15388, 'of great': 12107, 'damn of': 4091, 'help to': 7126, 'menu': 10667, 'baby amp': 1163, 'good amp': 6342, 'like of not': 9202, 'am trying make': 594, 'always think': 447, 'of no bitch': 12210, 'much like': 10897, 'live bitch': 9353, 'of keep': 12151, 'keep calm': 8636, 'of first': 12083, 'of am like': 11986, 'want something': 17587, 'get want': 6071, 'birch like in': 1665, 'shit now': 14304, 'bitch maybe': 2141, 'screaming fuck': 14010, 'night get mad': 11360, 'hoe dont': 7297, 'dont give fuck': 4509, 'extension': 5005, 'birch no': 1693, 'created player': 3600, 'deadly': 4193, 'not fuck birch': 11648, 'birch cheat': 1585, 'cheat bitch': 3135, 'bitch knew': 2088, 'not have': 11685, 'hate hoe': 6886, 'take pick': 15326, 'birch not even': 1696, 'birch dont': 1608, 'always birch': 432, 'object': 11968, 'make happy': 9796, 'happy hashtag': 6730, 'flexion': 5319, 'curse bitch please': 3725, 'birch stupid': 1733, 'start popping': 14917, 'birch swear': 1736, 'birch think are': 1752, 'birch kiss': 1658, 'china is': 3186, 'birch still': 1731, 'still coming': 14978, 'kill white': 8681, 'black guy': 2418, 'paper ball': 12711, 'ball trash': 1295, 'paper ball trash': 12712, 'idea bout': 7620, 'crazy as': 3585, 'eye like': 5015, 'russen': 13794, 'sane': 13877, 'type girl': 16425, 'bond': 2484, 'bored he': 2507, 'nest': 11135, 'america curl': 622, 'is new': 8013, 'range': 13365, 'rover': 13758, 'need hit': 11090, 'hit grm': 7227, 'guess got': 6613, 'kissed': 8714, 'innumbermins': 7810, 'the time': 15649, 'hoe getting': 7313, 'wide open': 17959, 'dub': 4621, 'hand curse': 6694, 'currently': 3701, 'follow birch': 5367, 'birch follow': 1623, 'change life': 3084, 'stupid birch': 15125, 'bow birch': 2546, 'still ai': 14969, 'still ai not': 14970, 'am sleep': 570, 'pick birch': 12915, 'like female': 9121, 'grind': 6581, 'want bad': 17541, 'spaghetti': 14810, 'bleeding': 2440, 'wit sum': 18042, 'sum birch': 15181, 'bad pitt': 1266, 'brag bout': 2580, 'sorry as': 14777, 'jennings': 8521, 'punch bitch': 13256, 'to bitch like': 15979, 'cut dat': 4006, 'cut dat bitch': 4007, 'brief': 2615, 'script': 14016, 'need though': 11119, 'not need though': 11760, 'am bored': 467, 'is girlfriend': 7962, 'oh got': 12416, 'broke hoe': 2647, 'hoe always': 7255, 'day get': 4167, 'deign': 4234, 'winston': 17999, 'drew': 4580, 'am ready': 555, 'ready get': 13410, 'outfit': 12668, 'nigh always': 11280, 'hoe as': 7260, 'bruised': 2686, 'one no': 12538, 'bryant': 2699, 'quite': 13323, 'temper': 15470, 'build bitch': 2713, 'scheme': 13982, 'bold': 2480, 'filed': 5219, 'sexual': 14172, 'bumping': 2727, 'ross': 13751, 'night rich': 11427, 'rich ross': 13641, 'club curse': 3286, 'it user mention': 8344, 'son of': 14746, 'ca not buy': 2803, 'but hoe': 2764, 'hoe curse curl': 7287, 'is user': 8085, 'user her': 16805, 'her fussy': 7134, 'user her fussy': 16806, 'but he': 2763, 'on bitch': 12456, 'flexing': 5318, 'done curse': 4490, 'look curse': 9491, 'appreciated': 826, 'but all': 2755, 'woman hoe': 18085, 'leave night': 8924, 'review': 13627, 'hit list': 7230, 'hashtag may': 6815, 'princess': 13168, 'mad bitch': 9698, 'caleb': 2849, 'need stop little': 11115, 'bitch hate': 2050, 'california': 2850, 'love people': 9625, 'call duty': 2858, 'got user': 6497, 'realcurse': 13440, 'newton': 11218, 'love nigh': 9619, 'can hashtag': 2922, 'scott': 14002, 'gem': 5931, 'rich scott': 13642, 'one hashtag': 12522, 'get caught': 5969, 'double stuff': 4546, 'sit face': 14482, 'halfway': 6686, 'can someone': 2927, 'get cheese': 5970, 'mention playing': 10482, 'hardest': 6745, 'bitch from': 2010, 'stretch': 15091, 'can let': 2923, 'stretch fussy': 15092, 'take dick': 15316, 'not major': 11744, 'not beat': 11563, 'bird hashtag': 1800, 'ca not beat': 2800, 'pump': 13254, 'civil': 3232, 'child is': 3165, 'ca not find': 2810, 'wit bitch': 18024, 'soon as': 14762, 'girl brush': 6123, 'birch just': 1656, 'shallow': 14186, 'not save': 11803, 'not save hoe': 11804, 'feel need': 5164, 'as home': 977, 'not gotta': 11677, 'he time': 7050, 'not stand bitch': 11826, 'ai not gotta': 243, 'as mood': 988, 'leaned': 8913, 'home run': 7451, 'mexico': 10684, 'tell shit': 15462, 'shit cut': 14270, 'not tell shit': 11847, 'gotta watch': 6532, 'birch and': 1560, 'say hoe': 13924, 'he house': 6988, 'house wife': 7526, 'wife hashtag': 17967, 'ca not turn': 2836, 'not turn he': 11870, 'turn he house': 16352, 'he house wife': 6989, 'till get': 15914, 'not wait till': 11879, 'payment': 12789, 'not wait see': 11878, 'worry bout': 18157, 'it ai': 8113, 'user it ai': 16855, 'it ai not': 8114, 'not nothing cut': 11771, 'wait mention': 17471, 'young birch': 18440, 'fucking shit': 5692, 'tonight mention': 16070, 'episode': 4825, 'diary': 4303, 'play around': 12993, 'entirely': 4820, 'know all': 8738, 'school amp': 13984, 'house arrest': 7520, 'see long': 14056, 'let is see': 8977, 'cerebritis': 3068, 'celtic': 3063, 'if someone': 7684, 'chamber': 3077, 'stopping': 15063, 'grave': 6563, 'eating trash': 4728, 'limb': 9288, 'dog curl': 4464, 'dog curl via': 4465, 'charlie clip': 3107, 'is young': 8103, 'bite curl': 2403, 'democratic': 4254, 'primary': 13165, 'florida governor': 5343, 'shaking': 14184, 'democracy': 4252, 'charlie daniel': 3108, 'dumped': 4664, 'parr': 12733, 'charlie parr': 3116, 'two half': 16407, 'half men': 6682, 'two half men': 16408, 'sheen is': 14224, 'is video': 8086, 'charlie sheen is': 3119, 'as hashtag': 974, 'charlie of': 3115, 'getting kicked': 6089, 'really got hoe': 13464, 'chasing': 3128, 'chasing hoe': 3129, 'theater': 15656, 'find good': 5235, 'good woman': 6374, 'night cheat': 11332, 'user night cheat': 17030, 'he check': 6956, 'check curse': 3143, 'girl friend': 6129, 'lipstick': 9315, 'tell birch': 15441, 'anti gay': 785, 'thick got': 15724, 'cause look like': 3041, 'henry': 7131, 'become president': 1400, 'notch bitch': 11898, 'real he': 13418, 'user sick': 17157, 'chill wit': 3180, 'main he': 9767, 'chris both': 3211, 'bitch last night': 2097, 'skinny bitch': 14504, 'amp took': 698, 'clara': 3238, 'made real': 9727, 'broke bitch curse': 2645, 'hetty shit': 7163, 'got phone': 6474, 'girl worth': 6182, 'worth thousand': 18163, 'thousand birch': 15869, 'one good girl': 12521, 'of take': 12275, 'of friend of': 12086, 'slapping birch': 14520, 'free night': 5457, 'dragged': 4560, 'topsy': 16100, 'come ll': 3367, 'want floppy': 17555, 'floppy topsy': 5341, 'come ll bitch': 3368, 'll bitch want': 9370, 'bitch want floppy': 2361, 'want floppy topsy': 17556, 'hoe back': 7264, 'go as': 6234, 'he the': 7046, 'conan': 3418, 'need get life': 11083, 'way fussy': 17658, 'ho more': 7245, 'que': 13302, 'control to': 3464, 'boyfriend could': 2574, 'traveling': 16215, 'user hoe love': 16818, 'bring one': 2627, 'bitch home': 2060, '250': 35, 'not buying': 11582, 'many follower': 9920, 'ai not buying': 225, 'not pull': 11786, 'ran music': 13360, 'best of': 1468, 'shit together': 14322, 'craig': 3576, 'crank': 3578, 'as user': 1022, 'creeping': 3611, 'bitch hope not': 2062, 'cruise': 3634, 'maggot shit': 9751, 'like amp': 9054, 'laughed': 8886, 'coffin hoe': 3314, 'you polly': 18410, 'birch need get': 1690, 'preparing': 13138, 'yet curl': 18325, 'customer service': 3991, 'need bitch': 11077, 'saying bitch': 13957, 'act like not': 136, 'really know': 13468, 'been get': 1417, 'fussy tucked': 5871, 'cock curl': 3305, 'buff': 2709, 'opened': 12581, 'opened mouth': 12582, 'withcurse': 18050, 'cutler': 4032, 'need go back': 11087, 'cut fussy': 4009, 'get need': 6030, 'hoe bad': 7265, 'what curse': 17787, 'candidate': 2940, 'all pas': 374, 'fund': 5719, 'drug it': 4611, 'it is hashtag': 8137, 'way mention': 17664, 'not like is': 11725, 'yelled of': 18293, 'smoked': 14601, 'dafuq': 4067, 'nigh tripping': 11296, 'kind trash': 8696, 'user how many': 16829, 'waking': 17484, 'amp nigger': 675, 'morning curse': 10845, 'argue shit': 890, 'like argue shit': 9058, 'june': 8599, 'done seen': 4493, 'damn bird': 4077, 'not touch': 11858, 'damn girl': 4081, 'girl all': 6117, 'hello kitty': 7121, 'plunge': 13039, 'led': 8927, 'staring': 14910, 'staring like': 14911, 'as bitchcurse': 940, 'iron': 7863, 'whole time': 17933, 'fucking bird': 5649, 'skinned': 14500, 'dark skinned': 4110, 'see curl': 14047, 'honor': 7465, 'not argue': 11557, 'argue wit': 891, 'would tell': 18200, 'james bitch': 8500, 'who as': 17912, 'rich james bitch': 13639, 'made hashtag': 9721, 'nodule': 11526, 'user man': 16913, 'happened of': 6713, 'worried bout birch': 18151, 'juan': 8582, 'mode': 10773, 'ty': 16415, 'is wife': 8092, 'biggest count': 1534, 'banged': 1306, 'forgive': 5419, 'moral': 10835, 'miller': 10721, 'considerate': 3445, 'speaker': 14821, 'hoe stop': 7393, 'professor': 13195, 'fuck bitch of': 5533, 'mentally': 10067, 'deep hoe': 4220, 'hoe action': 7251, 'see new': 14059, 'new planet': 11203, 'see new planet': 14060, 'new planet ape': 11204, 'not mind': 11753, 'hoe curse user': 7289, 'user this night': 17230, 'this night fucking': 15836, 'popcorn': 13073, 'hoe da': 7291, 'da way': 4055, 'way time': 17667, 'oscar': 12652, 'designer': 4286, 'rocket': 13720, 'lion': 9303, 'renamed': 13566, 'he playing': 7026, 'like de': 9108, 'car curse': 2958, 'health': 7084, 'official': 12405, 'michel': 10689, 'rope': 13746, 'bitch top': 2333, 'hoe around': 7259, 'friend hoe': 5486, 'birch take': 1737, 'hit slope': 7235, 'user thank': 17199, 'bitch curse user': 1960, 'of hashtag of': 12118, 'king curse': 8698, 'dirty he': 4369, 'counter': 3537, 'bitch blowing': 1908, 'bitch side': 2266, 'violent': 17434, 'lottery': 9568, 'keep trying': 8652, 'trying of': 16314, 'celebrating': 3058, 'haled': 6677, '500': 56, 'do haled': 4425, 'ever look': 4892, 'freckled': 5453, 'bother': 2517, 'anyone else': 800, 'shoutout': 14361, 'hot air': 7505, 'air curl': 287, 'hot air curl': 7506, 'axillary': 1150, 'not act': 11547, 'clinic': 3269, 'do not fussy': 4435, 'fooled': 5384, 'picket': 12927, 'not fooled': 11644, 'bitch choosing': 1937, 'do not mad': 4442, 'to bitch choosing': 15973, 'put as': 13278, 'want night': 17574, 'ever ashamed': 4882, 'ashamed unless': 1033, 'not ever ashamed': 11625, 'ever ashamed unless': 4883, 'wear penny': 17706, 'girl wear penny': 6179, 'hoe you': 7421, 'you might': 18399, 'might catch': 10701, 'main bitch side': 9766, 'bitch side bitch': 2267, 'come birch': 3349, 'hoe lie': 7342, 'do not let': 4439, 'birch bc': 1569, 'take to': 15333, 'take to bitch': 15334, 'bitch night curse': 2173, 'product': 13192, 'not night want': 11765, 'clash': 3240, 'back that': 1210, 'really care': 13455, 'black white': 2425, 'do not talk': 4447, 'like user': 9258, 'not throw': 11854, 'throw fussy': 15889, 'polish': 13056, 'shipping': 14244, 'trust bitch': 16268, 'do not trust': 4449, 'not trust bitch': 11863, 'face friend': 5031, 'birch use': 1763, 'intention': 7829, 'turn around': 16347, 'dont fuck wit': 4506, 'leather': 8921, 'he curse curl': 6962, 'young berg': 18439, 'dressing like': 4579, 'coughing': 3504, 'going like': 6309, 'lifting': 9041, 'snatching': 14617, 'drop dead': 4599, 'dropped hoe': 4602, 'birch back': 1567, 'night speaking': 11436, 'ever curse': 4886, 'beyonccurse curse': 1505, 'bushy': 2746, 'got mind': 6459, 'work fussy': 18120, 'ice fish': 7612, 'calling birch': 2887, 'birch left': 1660, 'today hashtag': 16029, 'whole kardashian': 17928, 'not money': 11755, 'of ve': 12351, 'duke probably': 4639, 'probably think': 13180, 'think eating': 15758, 'fussy sucking': 5857, 'sucking fussy': 15169, 'duke probably think': 4640, 'probably think eating': 13181, 'think eating fussy': 15759, 'eating fussy sucking': 4727, 'fussy sucking fussy': 5858, 'sucking fussy lip': 15170, 'whether': 17870, 'night hell': 11373, 'as face': 961, 'shit talk': 14317, 'mad shit': 9710, 'bitch not know': 2187, 'dumb bitch curl': 4648, 'bitch leave': 2100, 'extinct': 5006, 'never become': 11141, 'thing all never': 15730, 'trash no': 16192, 'duke birch': 4634, 'fussy brush': 5763, 'around amp': 903, 'all kill': 358, 'fuck around amp': 5519, 'worm curse': 18145, 'early bird catch': 4688, 'today curl': 16026, 'early morning': 4691, 'taking trash': 15342, 'lmfaoooooooooo': 9447, 'eat dick': 4711, 'mustache': 10934, 'fussy like curl': 5805, 'attain': 1079, 'chubby': 3218, 'know curl': 8749, 'elizabeth': 4768, 'really trash': 13478, 'campfire': 2914, 'teddy': 15429, 'teddy bear': 15430, 'appearance': 821, 'next night': 11229, 'trying fuck next': 16300, 'fuck next night': 5587, 'next night bitch': 11230, 'bitch next night': 2170, 'night made': 11400, 'another ugly': 775, 'european': 4845, 'america is': 623, 'mind curl': 10731, 'user buy': 16634, 'tune': 16344, 'bitch house': 2064, 'hetty people': 7162, 'even pretty': 4867, 'ceiling': 3055, 'll wayne': 9420, 'psychology': 13224, 'lodged bullet': 9459, 'bullet crazy': 2720, 'lodged bullet crazy': 9460, 'bullet crazy bitch': 2721, 'night make': 11401, 'like bitch hashtag': 9076, 'knowing bitch': 8812, 'every night trying': 4926, 'night trying fuck': 11465, 'night bitch knowing': 11323, 'bitch knowing bitch': 2093, 'knowing bitch next': 8813, 'adding': 161, 'need real': 11106, 'need real bitch': 11107, 'rapid': 13374, 'every spin': 4932, 'spin cop': 14847, 'cop hashtag': 3484, 'is half': 7971, 'every spin cop': 4933, 'fuck gotta': 5562, 'time play': 15941, 'hear of': 7088, 'monkey of': 10820, 'to get': 15994, 'employee': 4786, 'time am': 15921, 'fuck fat': 5553, 'fucking everybody': 5657, 'everybody bitch': 4939, 'curse everybody': 3757, 'fucking everybody bitch': 5658, 'ask curse': 1043, 'every bitch gay': 4911, 'pot brownish': 13105, 'wasp curse': 17618, 'filling': 5222, 'id like': 7615, 'getting pregnant': 6093, 'so not': 14640, 'sad as': 13804, 'user lmfaooooo': 16891, 'lmfaooooo user': 9442, 'birch going': 1634, 'hazel': 6929, 'better see': 1496, 'next bitch curse': 11221, 'experience': 4992, 'experience charlie': 4993, 'charlie married': 3111, 'married woman': 9949, 'woman love': 18090, 'love hot': 9610, 'hot phone': 7511, 'phone sex': 12899, 'sex stranger': 14169, 'stranger can': 15078, 'get numberurl': 6033, 'experience charlie married': 4994, 'charlie married woman': 3112, 'married woman love': 9950, 'woman love hot': 18091, 'love hot phone': 9611, 'hot phone sex': 7512, 'phone sex stranger': 12900, 'sex stranger can': 14170, 'stranger can get': 15079, 'can get numberurl': 2921, 'pencil': 12804, 'universe': 16493, 'is worst': 8097, 'piece trash': 12940, 'am dat': 485, 'educated': 4738, 'client': 3264, 'pattern': 12775, 'people that': 12848, 'face as people': 5025, 'guess curse': 6612, 'it curse user': 8122, 'he curse user': 6963, 'birch are': 1563, 'hit raw': 7234, 'am curse user': 483, 'fantasy': 5095, 'machine': 9692, 'paula': 12778, 'would hate': 18180, 'birch twitter': 1760, 'hoe twitter': 7412, 'hoe no': 7369, 'fear bitch': 5140, 'bitch calling': 1926, 'calling corp': 2889, 'go jail': 6258, 'got going': 6425, 'hoe bitch': 7268, 'like never seen': 9182, 'female always': 5182, 'never understand': 11186, 'real talk': 13438, 'social site': 14655, 'den he': 4261, 'stubby': 15108, 'big butt': 1522, 'get nut': 6034, 'kick bitch': 8664, 'need new': 11101, 'milkshake': 10719, 'orel milkshake': 12635, 'last sweet': 8862, 'duke hear': 4637, 'fussy ate': 5753, 'frenchman hashtag': 5471, 'first fuck': 5276, 'next minute': 11228, 'them birch': 15663, 'that damn': 15545, 'publicly': 13229, 'fuck due': 5547, 'bitch nail': 2160, 'nail done': 11024, 'forth': 5429, 'back forth': 1195, 'surfboard': 15224, 'wish bitch would': 18009, 'fly bitch': 5349, 'hers': 7143, 'british jihadi': 2634, 'sicca in': 14409, 'flagged': 5299, 'allcurse': 402, 'allcurse curl': 403, 'hoe come': 7279, 'time start': 15944, 'night cry': 11338, 'people talk': 12847, 'tattooed': 15403, 'for last': 5395, 'like going': 9142, 'melt': 10051, 'dumb curse': 4651, 'every he': 4919, 'trying save': 16317, 'turn good': 16349, 'turn good woman': 16350, 'brow hoe': 2664, 'bet wo': 1475, 'bet wo not': 1476, 'mason': 9959, 'resting bitch': 13602, 'of next': 12204, 'resting bitch face': 13603, 'founder': 5438, 'would let': 18183, 'house is': 7523, 'freak hoe': 5452, 'bitch eat': 1985, 'am playing': 551, 'inside dog': 7816, 'dog house': 4468, 'cat inside dog': 3005, 'inside dog house': 7817, 'seemed': 14081, 'free won': 5459, 'freezing': 5467, 'translated': 16145, 'hollow': 7435, 'long yellow': 9480, 'sum curl': 15183, 'yet am': 18324, 'cracking': 3575, 'prize': 13175, 'jihadi stream': 8542, 'radical': 13338, 'answering': 780, 'number ai': 11944, 'number ai not': 11945, 'reap': 13481, 'frontier': 5503, 'my new': 10980, 'look good curse': 9499, 'fuck niece': 5588, 'favoring': 5132, 'night lame': 11386, 'fuck night bitch': 5593, 'that all': 15535, 'all shoot': 382, 'got name': 6463, 'amp take': 692, 'lovecurse': 9637, 'all fuck bitch': 337, 'wit night': 18040, 'fuck bad birch': 5524, 'music night': 10927, 'fuck mouth': 5584, 'cause nasty': 3042, 'nigger not': 11275, 'ex bitch': 4965, 'trying talk': 16324, 'he that': 7045, 'bolivia': 2481, 'fuck night is': 5595, 'dollar bitch': 4476, 'birch user': 1764, 'gone curse': 6330, 'ivy': 8490, 'mexican bitch': 10683, 'talk much': 15357, 'think birch': 15751, 'set hashtag': 14145, 'brake': 2583, 'playing video': 13019, 'game of': 5896, 'playing video game': 13020, 'cheating bitch': 3139, 'am cold': 475, 'take shower': 15332, 'hashtag that': 6835, 'slit wrist': 14555, 'tucked shit': 16338, 'said could': 13829, 'said could not': 13830, 'he tell': 7044, 'pillow talking': 12949, 'fucking hussy': 5670, 'birch never': 1691, 'fucking cent': 5651, 'fucking maggot mention': 5673, 'fucking good': 5662, 'hate hetty': 6885, 'thirsty birch': 15797, 'my fig': 10963, 'na come': 11001, 'on na come': 12472, 'bitch ll mention': 2117, 'fur bitch': 5734, 'fur wit': 5735, 'fun wit': 5717, 'muthafucka': 10938, 'stupid fucking': 15131, 'stupid fucking count': 15132, 'ga': 5879, 'surely': 15223, 'trying put': 16316, 'as red': 1011, 'maman': 9843, 'that mean': 15575, 'not true': 11861, 'back birch': 1188, 'cabby is': 2840, 'cabby is bitch': 2841, 'hashtag new': 6821, 'is girl': 7961, 'later is': 8878, 'using jimmy': 17364, 'later is birch': 8879, 'say thank': 13945, 'spirit': 14850, 'love fucking wit': 9601, 'bitch thought': 2321, 'fussy user': 5872, 'happily': 6715, 'mt user': 10886, 'user hashtag mention': 16787, 'vaseline': 17388, 'get nasty': 6029, 'getting birch': 6079, 'getting hit': 6087, 'secondary': 14032, 'sticky': 14966, 'think ma': 15773, 'not hide': 11694, 'thought of': 15866, 'love babe': 9575, 'not today': 11857, 'something say': 14732, 'wish wish': 18015, 'wish would': 18017, 'wish wish wish': 18016, 'give head': 6208, 'night ill': 11377, '2000': 25, 'give hoe': 6209, 'went amp': 17766, 'trash hashtag curl': 16179, 'spoiled': 14858, 'cheering': 3149, 'possession': 13092, 'could see': 3523, 'superhero': 15206, 'againcurse': 183, 'go ape shit': 6232, 'relaxed': 13546, 'he today': 7052, 'today gotta': 16028, 'cause night': 3043, 'going hard': 6307, 'swear am': 15245, 'found of': 5437, 'therapy': 15671, 'somebody tell': 14702, 'good morning': 6366, 'seven': 14150, 'ponytail': 13068, 'evening': 4878, 'never met': 11167, 'make today': 9822, 'charlie hashtag': 3110, 'good fussy change': 6351, 'fussy change life': 5769, 'night drive': 11350, 'weed bad bitch': 17725, 'bad bitch got': 1244, 'thus curse': 15899, 'fearing': 5141, 'goodmorning': 6376, 'goodnight': 6378, 'not afford': 11548, 'ca not afford': 2799, 'ex like': 4970, 'vanilla': 17387, 'bitch bed': 1895, 'of like bitch': 12160, 'got good fussy': 6427, 'ketchup': 8659, 'swim': 15285, 'job bitch': 8553, 'lurking': 9669, 'got get': 6423, 'went ape': 17767, 'went ape shit': 17768, 'falling': 5080, 'gotta bad': 6509, 'not birch': 11568, 'slacken': 14509, 'not heard': 11691, 'ai not heard': 245, 'go rich': 6269, 'go rich scott': 6270, 'mosquito': 10849, 'old white': 12448, 'soldier': 14678, 'bitch quit': 2230, 'never gone': 11159, 'rusty': 13798, 'pouring': 13111, 'mane bitch': 9901, 'robin': 13712, 'robin williams': 13714, 'columbus': 3338, 'guessed': 6616, 'bitch guessed': 2040, 'people look': 12834, 'girl sweet': 6167, 'kiss as': 8703, 'if any': 7633, 'user of if': 17068, 'hahahahahaha': 6660, 'warning': 17608, 'graphic': 6559, 'medium photo': 10041, 'photo laughing': 12906, 'laughing jihadis': 8888, 'jihadis get': 8544, 'get baby': 5955, 'baby to': 1180, 'to kick': 16002, 'kick severed': 8665, 'head curse': 7071, 'curse warning': 3972, 'warning graphic': 17609, 'graphic curl': 6560, 'social medium photo': 14653, 'medium photo laughing': 10042, 'photo laughing jihadis': 12907, 'laughing jihadis get': 8889, 'jihadis get baby': 8545, 'get baby to': 5956, 'baby to kick': 1181, 'to kick severed': 16003, 'kick severed head': 8666, 'severed head curse': 14154, 'head curse warning': 7072, 'curse warning graphic': 3973, 'warning graphic curl': 17610, 'graphic curl hashtag': 6561, 'user deep': 16677, 'user deep fried': 16678, 'monkey hashtag': 10819, 'wouldn give': 18206, 'lonely he': 9471, 'annoyingcurse': 760, 'to main': 16006, 'to main bitch': 16007, 'bitch guess': 2039, 'industry': 7795, 'celebrated': 3057, 'birch that': 1745, 'nigh mention': 11290, 'healed': 7083, 'stop trying': 15059, 'holiday': 7434, 'not happy': 11681, 'main birch': 9764, 'bc are': 1351, 'birthday far': 1830, 'happy birthday far': 6721, 'happy friday': 6728, 'friday birch': 5475, 'bird mention': 1808, 'boy mention': 2570, 'spiritual': 14851, 'negro spiritual': 11126, 'craziest': 3583, 'related': 13541, 'as car': 946, 'car love': 2960, 'ah sum': 213, 'think am bitch': 15748, 'hate he': 6884, 'get boyfriend': 5965, 'like ve': 9260, 'got problem': 6477, 'am girl': 506, 'hate birch get': 6868, 'long hair': 9476, 'then bitch': 15668, 'hoodrat': 7470, 'anxiety': 792, 'rome': 13734, 'bigcurse': 1529, 'hugged': 7563, 'bird today': 1820, 'naming': 11040, 'having bitch': 6925, 'dat ai': 4120, 'bitch dat ai': 1965, 'dat ai not': 4121, 'handy': 6704, 'having hoe': 6926, 'plenty': 13034, 'just gotta': 8611, 'rattling': 13389, 'spent whole': 14842, 'put phone': 13286, 'look like bird': 9502, 'every morning': 4922, 'attached': 1076, 'ai not no': 255, 'twitter night': 16395, 'not follow back': 11643, 'dayton': 4182, 'like stupid': 9241, 'patient': 12769, 'like even': 9117, 'even trying': 4876, 'make feel good': 9789, 'of tell': 12278, 'know cook': 8746, 'amp clean': 644, 'he never': 7017, 'without getting': 18054, 'mouth like': 10868, 'run mouth like': 13783, 'praying': 13123, 'hell go': 7114, 'he talking': 7043, 'cruise ship': 3635, 'actor': 147, 'openly': 12586, 'is bitch curse': 7900, 'is making': 8003, 'song curse': 14752, 'he is trash': 6996, 'curl via mentioncurse': 3696, 'collar': 3322, 'anything le': 806, 'hear bird': 7087, 'drive fast': 4591, 'tripping curse': 16253, 'fuck birch curse': 5527, 'birch fucking': 1626, 'something right': 14731, 'it is still': 8146, 'now not': 11935, 'bitch young': 2393, 'hell now not': 7117, 'on go': 12464, 'chewing': 3158, 'irrelevant bitch': 7866, 'coming curse': 3389, 'new follower': 11193, 'birch of user': 1700, 'process': 13189, 'excuse of': 4983, 'yellow gold': 18305, 'fussy clean': 5770, 'good like': 6360, 'sweeter': 15279, 'disc': 4377, 'mention fan': 10237, 'if anyone': 7634, 'nigger hashtag': 11270, 'all in': 355, 'listen in': 9320, 'in papa': 7762, 'listen in papa': 9321, 'stir': 15022, 'saddest birch': 13812, 'this nigger': 15832, 'like fuck bitch': 9132, 'stupid white': 15143, 'high he': 7188, 'den bitch': 4259, 'dawn planet': 4154, 'dawn planet ape': 4155, 'speak kissing': 14818, 'michael sam': 10688, 'like of you': 9204, 'shit like fuck': 14294, 'bitch car': 1929, 'hit pas': 7233, 'hit car': 7223, 'not finish': 11640, 'sex slave': 14167, 'slave on': 14522, 'sex slave on': 14168, 'wit he': 18034, 'birch act': 1549, 'saying night': 13961, 'you like': 18388, 'end fucking': 4791, 'friend bitch': 5482, 'always hoe': 439, 'cut dey': 4008, 'respect night': 13594, 'night that': 11451, 'hoe put': 7382, 'put of': 13285, 'day hashtag': 4168, 'shit see': 14314, 'seen night': 14089, 'post instagram': 13097, 'department': 4268, 'sheep': 14225, 'likenumberweeks': 9285, 'likenumberweeks ago': 9286, 'penn': 12807, 'think would': 15784, 'as dog': 957, 'is cause': 7910, 'wetcurse': 17780, 'mild sex': 10712, 'dick curl': 4312, 'shoved': 14363, 'andcurse': 730, 'houston many': 7529, 'many trash': 9930, 'trash driver': 16173, 'houston many trash': 7530, 'many trash driver': 9931, 'gosling': 6386, 'ran gosling': 13359, 'how on': 7551, 'how on na': 7552, 'night take': 11445, 'so much': 14638, 'not want night': 11884, 'how come': 7538, 'not selling': 11812, 'how get': 7543, 'am trying fuck': 592, 'just eat': 8608, 'inst': 7820, 'sleep night': 14532, 'you curse': 18362, 'curse to bitch': 3862, 'that is like': 15568, 'threatening': 15873, 'count mention': 3532, 'room full': 13740, 'how stay': 7553, 'stay faithful': 14936, 'faithful room': 5073, 'full hoe': 5707, 'how stay faithful': 7554, 'stay faithful room': 14937, 'faithful room full': 5074, 'room full hoe': 13741, 'how long': 7547, 'you put': 18411, 'yankee ever': 18242, 'like ma': 9168, 'how of': 7550, 'night get fussy': 11359, 'enter': 4813, 'user she': 17150, 'it user she': 8397, 'associate': 1060, 'how fuck': 7541, 'fuck cash': 5539, 'how fuck cash': 7542, 'fuck cash he': 5540, 'gone wife': 6338, 'night lick': 11390, 'lick head': 9010, 'head public': 7077, 'how gone wife': 7545, 'gone wife bitch': 6339, 'wife bitch let': 17963, 'bitch let night': 2104, 'let night lick': 8982, 'night lick head': 11391, 'lick head public': 9011, 'bitch now': 2191, 'how is': 7546, 'bitch wearing': 2368, 'is work': 8095, 'hugh': 7565, 'still getting fussy': 14987, 'the man': 15627, 'fussy want': 5873, 'kiss curse': 8706, 'muddy count': 10908, 'night last': 11387, 'hypocritical': 7604, 'am watching': 604, 'now in': 11928, 'number amp': 11946, 'birth control': 1825, 'absolutely love': 104, 'go is': 6257, 'really nice': 13473, 'two faced': 16406, 'not killer': 11706, 'killer not': 8687, 'not push': 11787, 'push revenge': 13268, 'sweetest joy': 15281, 'joy next': 8579, 'next getting': 11226, 'ai not killer': 247, 'not killer not': 11707, 'killer not push': 8688, 'not push revenge': 11788, 'sweetest joy next': 15282, 'joy next getting': 8580, 'next getting fussy': 11227, 'many nigger': 9924, 'night ran': 11424, 'not turning': 11871, 'ai not turning': 276, 'girl good fussy': 6135, 'going move': 6311, 'bitch suck dick': 2296, 'not bitch got': 11571, 'come like': 3366, 'know dat': 8753, 'not talking': 11842, 'ai not talking': 271, 'not trying': 11867, 'ai not trying': 275, 'not trying fuck': 11868, 'aunt mad': 1107, 'find another': 5232, 'revenge sweetest': 13625, 'push revenge sweetest': 13269, 'revenge sweetest joy': 13626, 'red bitch': 13506, 'life is': 9034, 'gotta take': 6530, 'know trash': 8802, 'list thing': 9318, 'thing want': 15744, 'get ready': 6046, 'dog hoe': 4467, 'bitch thing': 2317, 'dealing hoe': 4198, 'hoe kiss': 7336, 'fifty': 5196, 'of bos': 12031, 'of short': 12256, 'love friend': 9598, 'phoenix': 12887, 'sad curse': 13806, 'niece ll': 11251, 'new shit': 11205, 'whole life': 17929, 'getting money ai': 6092, 'worried bout he': 18153, 'hospital': 7501, 'russe': 13792, 'hoe since': 7388, 'consistent': 3450, 'mad night': 9707, 'night broke': 11325, 'am addicted': 452, 'bitch tell am': 2304, 'went back': 17769, 'shit user': 14326, 'hard curse': 6739, 'appointment': 824, 'am fine': 495, 'playing floppy': 13014, 'playing floppy bird': 13015, 'fire curse': 5265, 'stanton': 14902, 'life ai': 9020, 'life ai not': 9021, 'announced': 753, 'birch of curse': 1699, 'not blow': 11575, 'entertain hoe': 4816, 'hoe broke': 7270, 'ignorance': 7696, 'roast': 13705, 'dark skin': 4109, 'much hate': 10895, 'least favorite': 8919, 'scar he': 13975, 'talk fussy': 15352, 'nasty bitch': 11048, 'like nasty bitch': 9179, 'ca not never': 2820, 'get treated like': 6064, 'play floppy': 12996, 'bird it': 1802, 'play floppy bird': 12997, 'stuck bitch': 15110, 'kiss iii': 8708, 'see to': 14071, 'night need': 11406, 'tell want': 15468, 'fuck want': 5631, 'birch miss': 1686, 'worried about': 18149, 'dollar in': 4479, 'son is': 14745, 'bitch your': 2394, 'frame': 5445, 'dont few': 4504, 'bitch hoe': 2059, 'go school': 6272, 'hoe mention': 7362, 'today is': 16030, 'selfish bitch': 14101, 'reached': 13399, 'that know': 15573, 'temple': 15471, 'know one': 8791, 'know one thing': 8792, 'one hoe': 12524, 'curse keep': 3790, 'like food': 9126, 'of thinking': 12289, 'birch listen': 1667, 'birch having': 1645, 'cut think': 4030, 'night cause': 11331, 'not fuck night': 11650, 'all not': 371, 'truth of': 16278, 'their': 15659, 'bitch count': 1949, 'do won': 4453, 'night if': 11376, 'not wife bitch': 11889, 'not another': 11553, 'hoe it': 7332, 'fuck night birch': 5592, 'not know he': 11710, 'told love': 16048, 'not know is': 11711, 'like bitch curse': 9073, 'couple curse': 3547, 'love money': 9617, 'night not get': 11410, 'owe shit': 12682, 'not owe shit': 11778, 'real niece': 13426, 'spoke': 14859, 'runner': 13785, 'is easy': 7935, 'not want bitch': 11883, 'want neck': 17572, 'neck bitch': 11069, 'sex bitch want': 14162, 'bitch want neck': 2362, 'want neck bitch': 17573, 'user light': 16880, 'light skin birch': 9045, 'is basic': 7889, 'that bitch ai': 15541, 'dont got': 4510, 'like you': 9278, 'hide bitch': 7179, 'in high': 7743, 'none hoe curse': 11535, 'dont mind': 4521, 'play wit': 13007, 'ton': 16061, 'give ever': 6201, 'bitch hair': 2042, 'girl ca': 6124, 'girl ca not': 6125, 'budget': 2708, 'world curse': 18137, 'sicca the': 14413, 'keep mind': 8643, 'bitch wear': 2367, 'like bitch got': 9075, 'swag far': 15238, 'hate white trash': 6904, 'night dat': 11344, 'nice people': 11239, 'love wit': 9635, 'song like': 14755, 'funny people': 5731, 'try tell': 16290, 'life like': 9036, 'bow now': 2547, 'angel birch': 735, 'birch stay': 1730, 'klux': 8720, 'presence': 13139, 'hate fucking': 6879, 'brush curl': 2691, 'give night': 6211, 'na start': 11017, 'on na start': 12487, 'gotnumberproblems': 6505, 'gotnumberproblems bitch': 6506, 'gun hashtag': 6631, 'gotnumberproblems bitch ai': 6507, 'birch seeking': 1719, 'larry bird': 8853, 'got every': 6416, 'got hoe got': 6440, 'bitch ride': 2241, 'stay grind': 14940, 'one time bitch': 12551, 'excitement': 4980, 'gooooo': 6380, 'user control': 16654, 'got street': 6485, 'leg lock': 8937, 'street in': 15085, 'in leg': 7749, 'got street in': 6486, 'to bitch in': 15978, 'bitch in leg': 2072, 'in leg lock': 7750, 'trash make': 16187, 'got hair': 6428, 'wit friend': 18032, 'bitch always got': 1857, 'crown': 3631, 'bitch think is': 2319, 'bitch people': 2215, 'am weak': 606, 'owe money': 12681, 'home mention': 7449, 'done as': 4488, 'thinking of': 15789, 'no lie': 11501, 'know head': 8767, 'just know': 8612, 'love night': 9620, 'bitch say love': 2251, 'unnecessary': 16502, 'are much': 865, 'wish wash': 18014, 'iberian': 7606, 'dean': 4199, 'soon get': 14765, 'birch ugly': 1762, 'compliment': 3414, 'birch wear': 1770, 'everyone is': 4952, 'hate fat': 6877, 'ignorant as': 7698, 'drive car': 4590, 'are nasty': 866, 'people really': 12843, 'really get': 13460, 'fucking nerve': 5680, 'birch cry': 1594, 'gatorade': 5911, 'of trying': 12300, 'quincy': 13317, 'quincy eye': 13318, 'across street': 125, 'asks of': 1054, 'am ugly': 600, 'of am single': 11988, 'hate birch like': 6869, 'keep saying': 8646, 'bitch sound': 2285, 'of break': 12033, 'break of': 2599, 'no night': 11506, 'birch post': 1708, 'birch say of': 1716, 'my life': 10971, 'let live': 8979, 'hate cut': 6875, 'girl back': 6119, 'heart taken': 7098, 'hate girl say': 6882, 'girl say of': 6161, 'bitch night not': 2176, 'night not love': 11412, 'alone of': 418, 'hoe sweet': 7397, 'of okay': 12219, 'trying kick': 16310, 'hate night': 6889, 'tell got': 15451, 'wit ll': 18036, 'people ask': 12816, 'hate people ask': 6896, 'people call': 12821, 'reaching': 13400, 'ugly like': 16450, 'ugly like bitch': 16451, 'ctfuu': 3654, 'hate pp': 6897, 'let birch': 8955, 'come house': 3364, 'try act': 16280, 'like bitch you': 9082, 'make much': 9806, 'havenumberhoes': 6922, 'wannaact like': 17505, 'yellow duck': 18304, 'hoe man not': 7358, 'man not need': 9888, 'need though curse': 11120, 'birch running': 1714, 'rumor': 13777, 'hideous': 7180, 'soon good': 14766, 'syrian': 15296, 'bitch pregnant': 2227, 'date curse': 4140, 'shock': 14338, 'wannasmoke': 17525, 'wannawatch': 17533, 'gentle': 5938, 'not date': 11601, 'amalek': 612, 'gay amalek': 5918, 'annoyed': 755, 'he taking': 7042, 'song is': 14754, 'part curse': 12736, 'go broke': 6239, 'time fine': 15930, 'need know fussy': 11095, 'know fussy like': 8759, 'fussy like one': 5808, 'like one time': 9210, 'one time fine': 12552, 'pan brownish': 12705, 'get played': 6041, 'to he get': 15999, 'he get played': 6975, 'saw man': 13905, 'uglier bitch': 16434, 'blanket': 2435, 'lifted': 9040, 'want ore': 17579, 'way back': 17653, 'birch club': 1586, 'froze': 5504, 'saddest hoe': 13815, 'hoe stay': 7391, 'cornered': 3491, 'not move': 11756, 'know birch mad': 8742, 'sell fussy': 14103, 'in nigh': 7756, 'rep': 13569, 'know parma': 8794, 'real hope': 13419, 'still stupid': 15007, 'still stupid as': 15008, 'parma is': 12731, 'fouche bag': 5433, 'birch tell': 1742, 'tell all': 15438, 'bad bitch come': 1240, 'two hoe': 16409, 'hoe make': 7355, 'birch cause': 1584, 'like bad birch': 9063, 'that fucking': 15550, 'bad birch that': 1235, 'birch that fucking': 1746, 'that fucking problem': 15551, 'like shilling': 9233, 'birch matter': 1681, 'dont shit': 4526, 'silk': 14444, 'like word': 9270, 'slightly': 14543, 'wit bad': 18022, 'like yankee': 9272, 'hold bitch': 7429, 'like weed': 9265, 'curl the': 3692, 'mention video curl': 10609, 'tilt': 15916, 'get hetty': 6004, 'bad birch is': 1233, 'birch is fucking': 1654, 'is fucking problem': 7952, 'birch that is': 1747, 'that is fucking': 15565, 'get time': 6057, 'night old': 11415, 'love everybody': 9593, 'single life': 14465, 'girl see': 6162, 'marry': 9951, 'love fig': 9597, 'minnesota': 10738, 'fully sock': 5714, 'love girl': 9603, 'grown as': 6598, 'grown as man': 6599, 'birch fly': 1621, 'fly like': 5350, 'like peter': 9214, 'peter pan': 12882, 'make birch fly': 9777, 'birch fly like': 1622, 'fly like peter': 5351, 'get look': 6021, 'planned': 12986, 'night baby': 11314, 'lip phone': 9310, 'line curse': 9294, 'couple bad': 3544, 'couple bad birch': 3545, 'casket': 3002, 'that on': 15579, 'sleepy': 14535, 'the get': 15613, 'not wit': 11891, 'ai not wit': 277, 'research': 13584, 'sum hoe': 15185, 'goodnight text': 6379, 'multi': 10914, 'need pick': 11104, 'need hoe': 11091, 'whocurse': 17923, 'birch respect': 1712, 'ont': 12570, 'as bird': 929, 'even take': 4871, 'not even take': 11621, 'count yes': 3536, 'james winston': 8501, 'to damn': 15987, 'put fussy': 13282, 'curse gave': 3763, 'left curse': 8933, 'really ca': 13452, 'really ca not': 13453, 'like bitch ai': 9071, 'classify': 3253, 'smoking blunt': 14603, 'girl make': 6150, 'pet monkey': 12879, 'launched': 8890, 'always talking': 445, 'user damn birch': 16670, 'always talking shit': 446, 'on say of': 12492, 'remember birch': 13557, 'drunk as': 4614, 'of watch': 12356, 'stay away': 14935, 'in car': 7731, 'bird curse curl': 1792, 'place birch': 12969, 'kmichelle': 8721, 'manly': 9905, 'buy new': 2785, 'is crime': 7917, 'bitch testing': 2309, 'testing right': 15497, 'show like': 14371, 'that he shit': 15558, 'sound retarded': 14796, 'money weed': 10809, 'firework': 5269, 'flirt': 5325, 'immature': 7717, 'birch phone': 1705, 'snapping': 14614, 'birch done': 1607, 'done shit': 4494, 'insane': 7813, 'nothing worse': 11912, 'swear birch': 15246, 'kremlin': 8817, 'is day': 7923, 'swear he': 15250, 'got nothing curse': 6470, 'something wrong': 14733, 'as got': 973, 'fuck something': 5616, 'turner': 16364, 'it like': 8148, 'like turner': 9255, 'bitch know curse': 2090, 'roommate': 13744, 'bitch tonight': 2330, 'walk around': 17486, 'night cut': 11342, 'dick in': 4319, 'think night': 15775, 'night retarded': 11426, 'think ve': 15781, 've made': 17396, 'thought legal': 15864, 'beat to': 1386, 'beat to he': 1387, 'yankee of': 18246, 'treat birch': 16221, 'time day': 15927, 'teenage': 15431, 'teenage girl': 15432, 'is looking': 7998, 'class he': 3247, 'random birch': 13363, 'wannafuck bitch': 17515, 'much curl': 10891, 'bad but': 1252, 'plain game': 12972, 'hair am': 6662, 'am busy': 472, 'wannatry': 17532, 'cream curse': 3597, 'make feel like': 9790, 'uncomfortable': 16469, 'bird make': 1806, 'want to bitch': 17591, 'red light': 13508, 'naked pick': 11029, 'string': 15095, 'calm of': 2900, 'she like of': 14213, 'like of am': 9193, 'gold teeth': 6321, 'informed': 7799, 'looking like curse': 9537, 'why give': 17946, 'bitch heart': 2054, 'heart rather': 7096, 'rather purse': 13386, 'purse of': 13266, 'why give bitch': 17947, 'give bitch heart': 6195, 'bitch heart rather': 2055, 'heart rather purse': 7097, 'not born': 11576, 'car bitch': 2955, 'second time': 14031, 'garage as': 5903, 'balance': 1286, 'we need': 17685, 'try hard': 16284, 'rack': 13337, 'would stop': 18199, 'birch house': 1649, 'button': 2778, 'kiss like': 8710, 'like stress': 9240, 'lame birch': 8840, 'ace': 120, 'dat bitch curse': 4123, 'not nothing bitch': 11770, 'birch tucked': 1759, 'bitch dead': 1969, 'would really': 18197, 'became': 1395, 'wonder birch': 18099, 'let beat': 8954, 'bitch night he': 2175, 'bipolar': 1546, 'sac': 13801, 'is bitch hashtag': 7901, 'bitch act': 1839, 'fucking life': 5671, 'not fur': 11654, 'type shit': 16426, 'fucking of hashtag': 5685, 'if make': 7672, 'user ah': 16543, 'sold fussy': 14675, 'of put': 12232, 'thing say': 15743, 'chocolate chip': 3195, 'never let': 11165, 'like could': 9095, 'stripping': 15100, 'instant': 7822, 'is hot': 7984, 'all call': 325, 'bitch short': 2262, 'fuck bitch real': 5534, 'bitch real quick': 2235, 'go class': 6241, 'all let': 360, 'still let': 14992, 'hungry wo': 7578, 'hungry wo not': 7579, 'am trying take': 596, 'is is': 7986, 'rate bitch': 13381, 'am big bitch': 463, 'hurt feeling': 7589, 'bitch ok': 2204, 'dick ai': 4306, 'even got': 4857, 'dick ai not': 4307, 'as night birch': 997, 'colored eye': 3328, 'eye curse': 5013, 'bitch cell': 1932, 'am start': 573, 'start calling': 14914, 'people retarded': 12844, 'am back birch': 459, '3d': 47, 'not even need': 11619, 'give shit': 6213, 'eyelash': 5020, 'am cut': 484, 'dat night': 4131, 'done wit': 4495, 'irritating': 7868, 'garage of': 5904, 'made hoe': 9723, 'game amp': 5886, 'like everyday': 9119, 'bitch night hashtag': 2174, 'charpie': 3125, 'mark bitch': 9944, 'hooked': 7472, 'am fly': 498, 'lie bitch am': 9017, 'am bitch curse': 466, 'curse like of': 3795, 'like of curse': 9195, 'not speak': 11823, 'is baby': 7884, 'that is baby': 15562, 'twitter pick': 16397, 'bitch fit': 2001, 'brass': 2591, 'never on': 11171, 'never on na': 11172, 'am nice': 538, 'body count': 2474, 'reserve': 13585, 'double standard': 4545, 'bitch cold': 1942, 'phone amp': 12889, 'brightest': 2617, 'know much': 8783, 'benumberand': 1456, 'sweating': 15258, 'cod': 3309, 'naked hoe': 11028, 'razor': 13395, 'am old': 543, 'crawl': 3581, 'drove': 4604, 'pick bitch': 12916, 'rich bitch': 13636, 'am rich bitch': 560, 'user party': 17099, 'give two': 6214, 'shit bird': 14259, 'sick night': 14418, 'sick birch': 14416, 'got somebody': 6483, 'sorry am': 14775, 'sorry curse': 14782, 'am sorry curse': 572, 'meek': 10043, 'black fussy': 2416, 'birch testing': 1744, 'open door': 12576, 'still school': 15006, 'wa he': 17465, 'thankful': 15523, 'still night': 14999, 'bitch baby': 1887, 'pull bitch': 13240, 'trying eat': 16297, 'am turning': 598, 'go hashtag': 6254, 'past week': 12761, 'saline': 13859, 'saline cracked': 13860, 'never problem': 11174, 'eastern': 4705, 'got first': 6418, 'yezidi': 18326, 'iris jihadis': 7858, 'door curl': 4535, 'destroyed': 4292, 'shaved fussy': 14199, 'fussy are': 5747, 'eat fussy curse': 4714, 'none birch': 11532, 'money hungry': 10799, 'men bitch': 10061, 'bitch money': 2153, 'user bunch': 16632, 'faithful girl': 5069, 'birch soon': 1727, 'is worse': 8096, 'night just': 11384, 'therein': 15680, 'if mention': 7674, 'as cut': 955, 'many people': 9927, 'lip trash': 9313, 'mind is': 10732, 'even want': 4877, 'ca not make': 2819, 'not even want': 11623, 'today am': 16023, 'today am going': 16024, 'bitch anything': 1866, 'if fuck': 7655, 'keep fucking': 8638, 'maggie': 9732, 'if dollar': 7650, 'dollar every': 4477, 'someone called': 14707, 'if dollar every': 7651, 'dollar every time': 4478, 'if hit': 7665, 'body lip': 2476, 'hold door': 7430, 'bitch beta': 1897, 'bridge': 2614, 'woman all': 18080, 'if think': 7689, 'if see': 7682, 'see another': 14042, 'if guy': 7663, 'backpack': 1217, 'would bring': 18167, 'mitchell drama': 10761, 'if am': 7632, 'play game': 13000, 'if ve': 7691, 'choosing let': 3206, 'bitch choosing let': 1938, 'if bitch not': 7644, 'wrong wit da': 18228, 'not taste': 11843, 'if thick': 7688, 'puffy': 13237, 'kill itself': 8676, 'night corn': 11335, 'number curse': 11948, 'school got': 13988, 'tea party': 15410, 'cracked barrel': 3570, 'know every': 8755, 'joining': 8566, 'anger': 738, 'if friend': 7654, 'if sweet': 7685, 'if go': 7661, 'meeting of': 10049, 'mack': 9693, 'if birch': 7641, 'if ai': 7629, 'wife material': 17971, 'if ai not': 7630, 'birch can': 1582, 'if dont': 7652, 'if know': 7668, 'know to': 8801, 'if one': 7680, 'fussy aunt': 5754, 'is to he': 8076, 'where he': 17865, 'he slut': 7038, 'if hoe': 7666, 'if bad': 7640, 'bad night': 1262, 'for you': 5397, 'weed bitch': 17726, 'permanent': 12866, 'party not': 12748, 'that curl': 15543, 'if like': 7669, 'bitch course': 1950, 'get trap house': 6062, 'my eye': 10959, 'gutter': 6642, 'gutter trash': 6643, 'fuck mention': 5583, 'if not know': 7677, 'get argument': 5950, 'barber': 1319, 'strip club': 15097, 'club every': 3287, 'never experience': 11152, 'innumberyou': 7812, 'got body': 6406, 'turn of': 16358, 'got night': 6466, 'real night let': 13430, 'overall': 12678, 'certain shit': 3070, 'if single': 7683, 'if tell': 7687, 'find birch': 5233, 'want come': 17550, 'girl you': 6183, 'somebody else': 14697, 'default': 4224, 'is problem': 8039, 'louisville': 9571, 'not making': 11747, 'ai not making': 253, 'if ve ever': 7692, 'main reason': 9769, 'fussy stink': 5856, 'let to': 8996, 'twitter is': 16390, 'bitch slept': 2271, 'suburban': 15154, 'in ready': 7765, 'he name': 7015, 'in getting': 7739, 'in glad': 7740, 'he anymore': 6939, 'restaurant': 13600, 'white pp': 17905, 'gone ask': 6328, 'in young': 7781, 'll girl': 9382, 'getting mad': 6090, 'conceited': 3420, 'in sorry': 7771, 'shit in': 14288, 'biggest fussy': 1535, 'nigh really': 11294, 'bitch ll curl': 2116, 'shit ever': 14273, 'oar': 11964, 'macdonald is': 9691, 'all say of': 380, 'love is': 9612, 'ma knock': 9684, 'knock fussy': 8731, 'like fight': 9123, 'knock fussy like': 8732, 'fussy like fight': 5807, 'like fight night': 9124, 'ma start': 9688, 'cutup': 4034, 'is soon': 8062, 'recruiting': 13501, 'finishing': 5259, 'in hope': 7745, 'hope recruiting': 7483, 'recruiting more': 13502, 'more woman': 10839, 'woman iris': 18086, 'iris open': 7860, 'open jihadi': 12577, 'jihadi finishing': 8538, 'finishing school': 5260, 'in hope recruiting': 7746, 'hope recruiting more': 7484, 'recruiting more woman': 13503, 'more woman iris': 10840, 'woman iris open': 18087, 'iris open jihadi': 7861, 'open jihadi finishing': 12578, 'jihadi finishing school': 8539, 'finishing school curl': 5261, 'live hashtag': 9354, 'got real': 6478, 'soon many': 14767, 'do like': 4428, 'sunshine': 15199, 'song bird': 14748, 'bandage': 1303, 'tibia': 15901, 'more tibia': 10837, 'tibia curl': 15902, 'more tibia curl': 10838, 'calling hoe': 2895, 'enforcement': 4801, 'operation': 12588, 'disrupt': 4401, 'sherlock': 14230, 'enforce': 4799, 'international law': 7835, 'law enforcement': 8894, 'enforcement operation': 4802, 'operation disrupt': 12589, 'disrupt sherlock': 4402, 'sherlock banking': 14231, 'banking aware': 1311, 'aware world': 1137, 'world international': 18138, 'law enforce': 8892, 'enforce curl': 4800, 'international law enforcement': 7837, 'law enforcement operation': 8895, 'enforcement operation disrupt': 4803, 'operation disrupt sherlock': 12590, 'disrupt sherlock banking': 4403, 'sherlock banking aware': 14232, 'banking aware world': 1312, 'aware world international': 1138, 'world international law': 18139, 'international law enforce': 7836, 'law enforce curl': 8893, 'first fussy': 5277, 'of much': 12198, 'priceless': 13160, 'fussy priceless': 5840, 'ion trust': 7854, 'bitch at': 1882, 'axillary curse': 1151, 'candidate curl': 2941, 'retard ll': 13608, 'is wayne': 8088, 'wayne brandy': 17671, 'brandy on': 2589, 'choke bitch': 3200, 'is wayne brandy': 8089, 'wayne brandy on': 17672, 'brandy on na': 2590, 'is weird': 8090, 'he anyway': 6940, 'these hoe aunt': 15691, 'request': 13581, 'offcurse': 12392, 'nun cut': 11954, 'bitch offcurse': 2202, 'nun cut bitch': 11955, 'cut bitch offcurse': 4003, 'putting cut': 13294, 'putting cut bitch': 13295, 'melted': 10052, 'caught curse': 3020, 'zero hoe': 18463, 'ugly girl': 16447, 'bad bitch attitude': 1239, 'affect': 172, 'playing mention': 13018, 'you bitch as': 18353, 'it really': 8159, 'declared': 4212, 'night talking shit': 11449, 'it wa': 8481, 'it is friday': 8134, 'is some': 8059, 'guy of': 6648, 'is plane': 8033, 'it is bird': 8131, 'is bird it': 7895, 'bird it is': 1803, 'it is plane': 8145, 'bus stop': 2744, 'it is lot': 8139, 'way much': 17665, 'ratio': 13388, 'ounce': 12660, 'fussy never': 5823, 'working woman': 18133, 'pitched': 12964, 'bitch not get': 2183, 'it is funny': 8135, 'start acting': 14913, 'hetty bitch': 7149, 'is hard': 7974, 'bitch tendency': 2307, 'it is hard': 8136, 'tell not': 15457, 'home bitch': 7444, 'level bitch': 9001, 'to side': 16017, 'city bitch': 3229, 'winter weather': 18001, 'it is of': 8141, 'hetty hell': 7159, 'properly': 13207, 'another girl': 767, 'got hoe curl': 6436, 'is summer': 8066, 'pick am': 12913, 'how about': 7532, 'unbelievable': 16462, 'refused': 13530, 'is way': 8087, 'birch world': 1774, 'wrong bitch': 18224, 'ken': 8656, 'nag': 11022, 'boyfriend curse': 2575, 'this bitch think': 15817, 'sidelong he': 14435, 'are stupid': 879, 'car hashtag': 2959, 'if girl': 7658, 'girl think': 6172, 'user if girl': 16838, 'meek mill': 10044, 'got best': 6400, 'lolololol': 9466, 'grown man': 6600, 'now let': 11930, 'love far': 9594, 'called maggot': 2881, 'irony': 7864, 'cramp': 3577, 'hard curl': 6738, 'stadium curl': 14885, 'yankee stadium curl': 18248, 'prof': 13193, 'see shit': 14068, 'usually send': 17368, 'send hate': 14113, 'threw birch': 15876, 'usually send hate': 17369, 'jena': 8520, 'lawrence': 8897, 'charity': 3097, 'jihadi john': 8540, 'struck': 15105, 'au': 1089, 'hit curse': 7224, 'fact is': 5049, 'identified': 7623, 'day ago': 4157, 'harm': 6750, 'pilot': 12950, 'captured': 2952, 'helicopter': 7111, 'out of': 12665, 'night wit': 11474, 'wit the': 18043, 'john merry': 8562, 'bitch song': 2282, 'nigger curl': 11266, 'look like he': 9509, 'user now user': 17054, 'mean nothing': 10032, 'bitch smell': 2273, 'dont mean nothing': 4520, 'bitch smell like': 2274, 'attorney': 1086, 'time not': 15939, 'georgia': 5942, 'just cause': 8605, 'boyfriend not': 2577, 'just cut': 8607, 'section': 14034, 'rally is': 13354, 'oldest': 12450, 'better wife': 1500, 'wife is': 17970, 'stepping': 14957, 'mystical': 10997, 'is tucked': 8081, 'chinese food': 3188, 'the cat': 15598, 'ex is': 4969, 'na call': 11000, 'on na call': 12471, 'just said': 8619, 'saying he': 13958, 'just seen': 8622, 'is getting': 7960, 'fussy tonight': 5868, 'warm curse': 17604, 'elder': 4754, 'stop he': 15046, 'like do': 9109, 'bitch solid': 2279, 'bitch as hashtag': 1871, 'biscuit': 1835, 'parma is bitch': 12732, 'real soon': 13436, 'kari': 8630, 'hey count': 7169, 'count of like': 3535, 'say tucked': 13948, 'reckless': 13495, 'niece da': 11249, 'kirsten': 8700, 'ex hoe': 4968, 'bitch walking around': 2358, 'not wear': 11887, 'it user some': 8406, 'eye bitch': 5012, 'always on': 443, 'll of user': 9404, 'side head': 14429, 'user mention say': 16992, 'malo user': 9842, 'wife hoe': 17969, 'stupid curl': 15130, 'lmaooooooo': 9435, 'birch he': 1646, 'white he': 17895, 'medical': 10039, 'bye curse user': 2794, 'lmfaoooooo': 9443, 'lmaoooo curse': 9429, 'lmaoooo curse mention': 9430, 'asked of': 1051, 'poppy': 13079, 'football team': 5389, 'he tucked': 7056, 'trash right': 16198, 'play hoe': 13002, '1st person': 20, 'bitch hatchet': 2049, 'puffed bitch': 13234, 'lasted': 8866, 'wit niece': 18038, 'reason make': 13485, 'trash all': 16155, 'thesecurse': 15702, 'called bitch curse': 2878, 'show fussy': 14368, 'let tell': 8995, 'bitch brought': 1915, 'this bitch brought': 15808, 'birch loving': 1676, 'commence': 3394, 'heavily': 7106, 'is play': 8035, 'let is play': 8976, 'giving hoe': 6219, 'side he curse': 14428, 'dog day': 4466, 'unfair': 16478, 'life is bitch': 9035, 'is bitch amp': 7898, 'll user mention': 9418, 'refund': 13527, 'satisfied': 13888, 'hashtag amp': 6763, 'fan base': 5089, 'amp loyal': 671, 'love one': 9624, 'play bitch': 12994, 'slide bitch': 14541, '3rd grade': 49, 'on na of': 12485, 'considerate bitch': 3446, 'bitch standing': 2288, 'stay wit': 14945, 'ball game': 1293, 'll bitch as': 9367, 'as amp': 922, 'help bitch': 7124, 'll dumb': 9377, 'll dumb as': 9378, 'mean girl': 10024, 'of user she': 12337, 'place bitch': 12970, 'tomorrow curse': 16059, 'every man': 4920, 'seagull': 14024, 'na fucking': 11006, 'thinking are': 15787, 'hashtag mention curl': 6817, 'my sicca': 10986, 'it user curse': 8215, 'user getting': 16755, 'eye is': 5014, 'the settler': 15646, 'bitch almost': 1853, 'ago of': 191, 'ago of curl': 192, 'may look': 9992, 'fussy see': 5844, 'see user': 14073, 'it user that': 8426, 'raft': 13340, 'rift raft': 13658, 'jump bitch': 8595, 'stay mad': 14942, 'hoe just': 7333, 'user bad bitch': 16590, 'user mention fat': 16954, 'make song': 9816, 'year mention': 18282, 'lmaoooo user': 9431, 'user his': 16812, 'got fussy night': 6422, 'night tried': 11461, 'said of fuck': 13847, 'user bird': 16612, 'goalscurse': 6287, 'as night curl': 998, 'lmaoooooo': 9433, 'user that bitch': 17203, 'lmaoooooooo': 9436, 'tight clothes': 15910, 'user were': 17279, 'of somewhere': 12262, 'going ham': 6306, 'giving head': 6218, 'much money': 10899, 'fornumberdays': 5426, 'the saddest': 15645, 'user idea': 16831, 'need learn': 11096, 'hoe made': 7354, 'never understood': 11187, 'user mention hell': 16966, 'bonus': 2488, 'birch hell': 1647, 'not friend': 11646, 'is aunt': 7882, 'made he': 9722, 'll look': 9394, 'fussy as nigh': 5751, 'mean act': 10017, 'mean act like': 10018, 'look all': 9484, 'usher': 17361, 'manhood': 9903, 'look fucking': 9495, 'look fussy': 9497, 'now look': 11931, 'real street': 13437, 'look rich': 9520, 'rich act': 13635, 'look rich act': 9521, 'forward': 5430, 'repnin': 13574, 'useful': 16537, 'fuck she': 5610, 'song mention': 14757, 'take series': 15330, 'jury': 8602, 'flowing': 5346, 'bottom bitch': 2520, 'he give': 6979, 'yankee cap': 18240, 'so fan': 14626, 'ned': 11072, 'first impression': 5278, 'ducked': 4625, 'lid': 9014, 'man ca': 9864, 'man ca not': 9865, 'man swear': 9891, 'chief keep': 3163, 'love beyond': 9579, 'fuck bitch as': 5530, 'man bad': 9859, 'yell of': 18291, 'nativity': 11056, 'courage': 3550, 'wild birch': 17980, 'familiar': 5083, 'hoe familiar': 7304, 'one minute': 12536, 'uglier birch': 16433, 'manual': 9913, 'paranoid': 12715, 'trash it': 16182, 'marijuana': 9940, 'monroe': 10826, 'marion monroe': 9942, 'teixeira': 15435, 'jane': 8503, 'mary jane': 9954, 'all polish': 375, 'polish ho': 13057, 'ho if': 7244, 'all polish ho': 376, 'polish ho if': 13058, 'text first': 15511, 'read message': 13404, 'not respond': 11800, 'not text first': 11850, 'hot birch': 7507, 'bitter as': 2407, 'bitch mary': 2138, 'this one': 15839, 'bird sang': 1816, 'cool curl': 3476, 'mon of': 10783, 'you ve': 18427, 'gotta stop': 6529, 'pierre': 12944, 'school of': 13992, 'birch put': 1709, 'of front': 12087, 'curl hashtag curl': 3678, 'even on': 4866, 'care the': 2977, 'sex tape': 14171, 'user caution': 16641, 'na keep': 11012, 'on na keep': 12482, 'to show': 16016, 'marie': 9939, 'can make': 2924, 'it is easy': 8133, 'swag bag': 15236, 'skinny birch of': 14503, 'fitness': 5290, 'rude as': 13769, 'really came': 13454, 'bitch lately': 2098, 'crazy hoe': 3591, 'hoe say am': 7386, 'money ca': 10792, 'money ca not': 10793, 'one bit': 12506, 'money make': 10802, 'birch fuck night': 1625, 'wisconsin': 18005, 'wyoming': 18235, 'firelight': 5267, 'most night': 10851, 'hell ah': 7113, 'one direction': 12514, 'trans': 16143, 'marya took': 9956, 'all know': 359, 'try amp': 16281, 'beat night': 1383, 'upppppp': 16522, 'my ll': 10972, 'moor': 10833, 'true life': 16261, 'as get': 970, 'auto': 1123, 'that is to': 15571, 'why birch': 17940, 'word not': 18112, 'birch act like': 1550, 'said birch': 13827, 'watch mouth': 17631, 'going club': 6304, 'my best': 10945, 'friend love': 5488, 'my best friend': 10946, 'house fuck': 7522, 'bitch say am': 2250, 'bitch work': 2383, 'said hoe': 13837, 'my dad': 10953, 'you are fussy': 18341, 'fussy ahahah': 5740, 'night mad': 11399, 'it real': 8158, 'thacurse': 15517, 'canceled': 2938, 'girl text': 6171, 'make feel bad': 9788, 'palmer': 12703, 'not sure': 11834, 'is dumb bitch': 7933, 'wiki mind': 17978, 'my hoe': 10969, 'my main': 10973, 'amp side': 686, 'mad could': 9700, 'could give': 3511, 'my main bitch': 10974, 'amp side bitch': 687, 'side bitch mad': 14424, 'bitch mad could': 2130, 'mad could give': 9701, 'could give two': 3512, 'yes hashtag': 18319, 'made brownish': 9716, 'amp of': 680, 'it mention of': 8152, 'of amp of': 11991, 'dum': 4641, 'my mon': 10978, 'use word count': 16534, 'like bitch utf': 9081, 'my nephew': 10979, 'da shit': 4053, 'my face': 10960, 'call fat': 2859, 'bitch said of': 2247, 'mister': 10759, 'meager': 10014, 'week ago of': 17733, 'mr curse': 10883, 'severely': 14155, 'pope severely': 13075, 'severely curl': 14156, 'my fussy pope': 10966, 'fussy pope severely': 5837, 'pope severely curl': 13076, 'peri': 12862, 'peri cold': 12863, 'my fussy taste': 10967, 'white kid': 17898, 'to ex': 15988, 'my sister bitch': 10988, 'my teacher': 10990, 'teacher always': 15416, 'always say': 444, 'man ever': 9870, 'wing mention': 17995, 'user these night': 17222, 'relationship curse': 13543, 'he would': 7064, 'flash': 5304, 'sole sauce': 14683, 'not know of': 11713, 'coming like': 3390, 'stingy': 15020, 'night user you': 11469, 'user funny': 16750, 'ai not friend': 234, 'ah sicca': 212, 'user mention and': 16932, 'flat booty': 5306, 'naked birch': 11026, 'or are': 12599, 'sweet fussy': 15267, 'never go full': 11158, 'never keep': 11163, 'dat nigh': 4130, 'user thought': 17231, 'never trust': 11184, 'never trust bitch': 11185, 'bitch gotta get': 2037, 'never play': 11173, 'might stupid': 10706, 'like charlie brown': 9093, 'papa charles': 12709, '29': 38, 'meet hashtag': 10046, 'err': 4833, 'nick cannon': 11246, 'fuck skinny': 5613, 'of fuck skinny': 12093, 'fuck skinny birch': 5614, 'is first': 7946, 'dead bitch': 4189, 'user user': 17262, 'user malo': 16911, 'shit go': 14280, 'ion want': 7855, 'fat thick': 5126, 'feeling curse': 5170, 'bitch treat': 2334, 'night gone': 11363, 'room like': 13742, 'gutta he': 6640, 'made curse': 9718, 'user best': 16599, 'bitch made curse': 2132, 'snatch': 14615, 'way trying': 17668, 'night action': 11302, 'aunt worried': 1119, 'wit dey': 18030, 'night worried': 11476, 'get real bitch': 6048, 'act like fussy': 132, 'birch ion': 1652, 'woman amp': 18081, 'no job': 11500, 'birch no job': 1694, 'night gossip': 11365, 'man ai': 9854, 'night gossip like': 11366, 'man ai not': 9855, 'is grew': 7970, 'night stand': 11439, 'niggasbitches': 11259, 'cause of': 3047, 'night tucked': 11466, 'buck given': 2703, 'no girl': 11494, 'pure trash': 13261, 'understands': 16475, 'look like got': 9508, 'tell not eat': 15458, 'hood bitch': 7468, 'try take': 16288, 'no time': 11510, 'bitch really think': 2237, 'call night': 2867, 'need birch': 11076, 'sit of': 14484, 'text of': 15515, 'unhappy': 16483, 'bitch either': 1987, 'orbit': 12619, 'raider': 13345, 'work hashtag': 18121, 'user beyonccurse': 16603, 'not play game': 11783, 'not allowed': 11551, 'not every': 11626, 'some girl': 14692, 'not fault': 11634, 'mean hashtag': 10026, 'escort': 4837, 'not call bitch': 11584, 'not trust night': 11865, 'user my fussy': 17017, 'now day': 11925, 'bitch wannafuck': 2359, 'day one': 4177, 'side bitch main': 14425, 'bitch main bitch': 2135, 'lit bitch': 9325, 'come gutta': 3360, 'user hit': 16813, 'bitch acting': 1841, 'no mention': 11504, 'org user': 12641, 'nigger dick': 11268, 'obamacurse': 11967, 'syria curl': 15295, 'user met': 17003, 'time mention': 15938, 'we ai': 17675, 'we ai not': 17676, 'cockroach': 3307, 'booking': 2491, 'fuck one': 5599, 'user mention know': 16971, 'bag curl': 1273, 'bitch mob': 2151, 'bitch walked': 2356, 'airline': 288, 'as bitch not': 938, 'smoking weed': 14604, 'phone go': 12894, 'of head': 12124, 'old he': 12444, 'girl really': 6159, 'of bitch curse': 12023, 'spindle': 14848, 'tinker': 15950, 'she is like': 14210, 'money like': 10801, 'grown of': 6601, 'contract': 3460, 'one big': 12504, 'gone learn': 6334, 'one man is': 12533, 'man is trash': 9879, 'is trash another': 8078, 'man trash another': 9894, 'trash another man': 16160, 'one best': 12503, 'world is': 18140, 'only maggot': 12565, 'maggot use': 9752, 'of swag': 12273, 'hoe today': 7408, 'scurf': 14018, 'only hoe': 12564, 'only white': 12568, 'hashtag team': 6834, 'only white trash': 12569, 'trash watch': 16210, 'know you': 8810, 'we bitch': 17679, 'file': 5217, 'file minor': 5218, 'user vote': 17267, 'esteem': 4842, 'self esteem': 14096, 'not decide': 11605, 'ca not decide': 2808, 'got caught': 6409, 'bitch class': 1939, 'or music': 12616, 'executed': 4984, 'macklemore': 9694, 'care am': 2968, 'am taking': 581, 'black hashtag': 2419, 'russia': 13795, 'ok curl': 12431, 'interference': 7833, 'hoe give': 7314, 'he how': 6991, 'fussy to': 5867, 'get many': 6025, 'civilized': 3233, 'shit people': 14310, 'people calling': 12822, 'people go': 12827, 'go way': 6282, 'hashtaghashtag': 6848, 'people play': 12841, 'people slam': 12846, 'perhaps': 12861, 'richard': 13643, 'of yankee': 12378, 'is point': 8036, 'resolution': 13592, 'year resolution': 18287, 'new year resolution': 11212, '210': 28, 'mustard beat': 10936, 'queer curse': 13305, 'mention these birch': 10571, 'look like duke': 9506, 'see bad': 14043, 'wresting': 18212, 'not run': 11802, 'da trap': 4054, 'lewis': 9002, 'fussy real': 5842, 'got arrested': 6395, 'user soon': 17178, 'pull bitch like': 13241, 'sure got': 15219, 'professional': 13194, 'pull ex': 13245, 'ex make': 4971, 'pull ex make': 13246, 'ex make bitch': 4972, 'make bitch mad': 9779, 'gotta trash': 6531, '48': 51, 'put place': 13287, 'dolphin': 4480, 'like bitchcurse': 9083, 'massachusetts': 9961, 'user if night': 16844, 'never ever': 11151, 'it user never': 8353, 'this shit': 15840, 'it user of': 8362, 'user of fuck': 17064, 'come fucking': 3355, 'amp dick': 647, 'user ahahah': 16544, 'it user ahahah': 8167, 'it user jihadi': 8307, 'it user twitter': 8445, 'it user hoe': 8294, 'it user today': 8437, 'go wrong': 6283, 'user you ca': 17344, 'not tripping': 11860, 'it user might': 8345, 'ai not tripping': 274, 'user mention brow': 16942, 'when he': 17835, 'user when he': 17296, 'user mention no': 16984, 'it user birch': 8192, 'night got birch': 11368, 'it user got': 8273, 'it user this': 8433, 'you know birch': 18383, 'that night': 15577, 'the night': 15633, 'it user the': 8427, 'not sweat': 11836, 'it user do': 8226, 'men is': 10063, 'do not forget': 4433, 'it user happy': 8279, 'it user check': 8209, 'aunt curse': 1096, 'muslin jihadi': 10930, 'it user so': 8405, 'it user am': 8172, 'it user be': 8184, 'it user brush': 8201, 'user rich': 17122, 'it user rich': 8386, 'user mamma': 16912, 'it user mamma': 8336, 'user since': 17163, 'it user since': 8403, 'it user get': 8264, 'aaron': 93, 'little le': 9345, 'it user life': 8316, 'user aunt': 16583, 'getting hoe': 6088, 'it user aunt': 8179, 'seen curse': 14086, 'it user in': 8301, 'best thing': 1469, 'it user it': 8306, 'it user your': 8479, 'birch play': 1706, 'it user ll': 8320, 'it user mon': 8348, 'it user rather': 8379, 'it user at': 8178, 'it user who': 8464, 'amp hashtag': 658, 'it user night': 8357, 'it user real': 8381, 'day amp': 4160, 'it user black': 8195, 'it user now': 8361, 'else of': 4771, 'yeah scale': 18272, 'scale one': 13965, 'one ten': 12547, 'ten bitch': 15475, 'of yeah scale': 12381, 'yeah scale one': 18273, 'scale one ten': 13966, 'one ten bitch': 12548, 'forever bitch': 5409, 'is trying': 8080, 'it user could': 8212, 'ever offended': 4896, 'offended in': 12395, 'sorry are': 14776, 'sensitive ll': 14124, 'user if ve': 16848, 'ever offended in': 4897, 'offended in sorry': 12396, 'sensitive ll bitch': 14125, 'it user parma': 8373, 'pregnantcurse': 13135, 'birch yet': 1776, 'getting pregnantcurse': 6094, 'it user no': 8358, 'girl suck dick': 6166, 'head like': 7076, 'funeral': 5720, 'when die': 17823, 'it user female': 8245, 'night ask': 11312, 'user hate night': 16795, 'user of why': 17078, 'it user bitch': 8194, 'user bitch get': 16616, 'it user on': 8366, 'bitch slut': 2272, 'user life is': 16879, 'fussy power': 5839, 'it user lady': 8311, 'it user people': 8374, 'it user my': 8351, 'bird tender': 1819, 'it user how': 8297, 'serious curl': 14133, 'it user fuck': 8258, 'compliment curl': 3415, 'look like trash': 9515, 'it user brow': 8200, 'coachman': 3297, 'user great': 16774, 'it user great': 8275, 'it user think': 8432, 'user working': 17333, 'it user working': 8471, 'it user smoke': 8404, 'it user ugly': 8446, 'it user first': 8248, 'user hatchet': 16791, 'it user hatchet': 8281, 'it user bird': 8193, 'it user remember': 8385, 'side birch': 14421, 'floppy bird curl': 5338, 'promoter': 13203, 'amp female': 650, 'assault': 1058, 'it user fox': 8254, 'refuse to': 13529, 'user rich scott': 17123, 'user with': 17324, 'with bitch': 18049, 'it user with': 8467, 'user with bitch': 17325, 'so tired': 14642, 'people hetty': 12829, 'puffing season': 13236, 'it user we': 8456, 'user we know': 17275, 'user kissing': 16867, 'it user good': 8272, 'told to': 16050, 'it user told': 8438, 'it user tell': 8423, 'carbon': 2964, 'user mean': 16923, 'user mention bad': 16936, 'high school curl': 7191, 'it user bad': 8182, 'blink': 2448, 'user taking': 17192, 'it user taking': 8421, 'user broke': 16629, 'work shit': 18126, 'library': 9007, 'it user like': 8317, 'httcurse': 7558, 'it user charlie': 8207, 'user charlie wrist': 16646, 'the thing': 15648, 'user the thing': 17212, 'warned': 17607, 'candy corn': 2944, 'it user ma': 8331, 'it user would': 8473, 'it user these': 8430, 'hateful': 6907, 'it user well': 8457, 'user dick': 16683, 'friend is': 5487, 'it user dick': 8223, 'it user to': 8436, 'user brandon': 16627, 'wen see': 17764, 'it user brandon': 8198, 'kiss curl': 8705, 'it user oh': 8363, 'subway': 15155, 'it user org': 8372, 'user started': 17179, 'it user started': 8411, 'user mention that': 16996, 'it user always': 8171, 'it user hope': 8295, 'it user woman': 8468, 'that is bitch': 15563, 'abocurse': 98, 'it user there': 8429, 'it user want': 8454, 'monkey curse curl': 10818, 'it user big': 8191, 'discipline': 4378, 'perfect example': 12858, 'these he': 15688, 'it user due': 8229, 'it user watch': 8455, 'you know in': 18386, 'user point': 17103, 'it user point': 8377, 'it user know': 8310, 'it user dense': 8221, 'it user damn': 8217, 'it user love': 8329, 'it user really': 8382, 'amp stop': 689, 'really make': 13471, 'fussy of curl': 5828, 'trash ran': 16197, 'real relationship': 13433, 'game lie': 5895, 'fine not': 5247, 'girl cause': 6126, 'user hashtag bitch': 16783, 'user african': 16541, 'trash someone': 16202, 'it user look': 8325, 'stop watching': 15061, 'dashed': 4117, 'dashed potato': 4118, 'user free': 16740, 'it user free': 8255, 'user behind': 16597, 'it user behind': 8186, 'soul boy': 14789, 'never catch': 11145, 'when realize': 17845, 'user when realize': 17303, 'side he curl': 14427, 'user basic': 16591, 'it user basic': 8183, 'said would not': 13854, 'ruth': 13799, 'gehrig': 5930, 'babe ruth': 1161, 'you gehrig': 18369, 'she need': 14215, 'user run': 17133, 'what is bitch': 17798, 'when ll': 17839, 'said curse': 13831, 'user when ll': 17299, 'it user fat': 8243, 'user fat bitch': 16720, 'bitch act like': 1840, 'user drake': 16692, 'it user making': 8334, 'this birch': 15805, 'still wear': 15018, 'waitingnumberdays': 17479, 'it user ever': 8238, 'made curse curl': 9719, 'it user not': 8359, 'why ai': 17936, 'why ai not': 17937, 'it user feel': 8244, 'user feel bad': 16723, 'treat like shit': 16225, 'roy': 13762, 'hate seeing': 6899, 'user hate seeing': 16798, 'these 5th': 15682, 'grade hoe': 6541, 'user these 5th': 17219, 'these 5th grade': 15683, '5th grade hoe': 62, 'grade hoe ai': 6542, 'towards': 16116, 'it user ca': 8203, 'lobby': 9452, 'are curse': 846, 'nonsense': 11537, 'user shit': 17151, 'it user shit': 8398, 'see two': 14072, 'it user sweet': 8419, 'user all never': 16553, 'user suck': 17188, 'it user suck': 8417, 'curl girl': 3674, 'user if he': 16841, 'it user any': 8175, 'betnumbershe': 1478, 'smoke wit': 14599, 'bitch nap': 2163, 'nap let': 11042, 'music betnumbershe': 10924, 'betnumbershe turn': 1479, 'turn loose': 16356, 'loose slow': 9543, 'user hashtag curse': 16785, 'smoke wit bitch': 14600, 'wit bitch nap': 18025, 'bitch nap let': 2164, 'nap let play': 11043, 'let play music': 8987, 'play music betnumbershe': 13004, 'music betnumbershe turn': 10925, 'betnumbershe turn loose': 1480, 'turn loose slow': 16357, 'loose slow shit': 9544, 'slow shit curse': 14561, 'shit curse of': 14269, 'user smoking': 17168, 'it user are': 8176, 'violence': 17433, 'user real night': 17114, 'go talk': 6276, 'of go talk': 12102, 'go talk hoe': 6277, 'talk hoe of': 15354, 'it user girl': 8267, 'let real': 8990, 'night let real': 11389, 'street night': 15086, 'tonight curl': 16066, 'when someone': 17851, 'user when someone': 17307, 'anumberinch': 787, 'user birch can': 16608, 'sweet potato': 15277, 'it user hell': 8287, 'it user what': 8460, 'it user every': 8239, 'unemployed': 16477, 'it user white': 8463, 'user white girl': 17315, 'curse course': 3739, 'get mad cut': 6023, 'curse concourse': 3737, 'it user video': 8451, 'cf': 3072, 'user ugh': 17255, 'walk past': 17490, 'user call': 16637, 'it user call': 8204, 'it user back': 8181, 'user asked': 16580, 'it user asked': 8177, 'monogamous': 10823, 'monogamous night': 10824, 'fucking anonymous': 5645, 'anonymous night': 762, 'monogamous night to': 10825, 'night to bitch': 11456, 'to bitch fucking': 15976, 'bitch fucking anonymous': 2014, 'fucking anonymous night': 5646, 'user some birch': 17172, 'it user come': 8211, 'best way': 1471, 'user of you': 17079, 'user hetty': 16808, 'cream curl': 3596, 'snapped': 14613, 'user of she': 17074, 'of user ll': 12327, 'it user but': 8202, 'gossip like birch': 6390, 'it user he': 8285, 'user night gossip': 17032, 'now birch': 11922, 'want attention': 17539, 'deadcurse': 4192, 'it user used': 8448, 'it user me': 8342, 'dive': 4411, 'user fellow': 16726, 'user wiz': 17326, 'user mention yes': 17001, 'user follow': 16736, 'it user follow': 8251, 'want dick': 17553, 'confidence': 3433, 'thecurse': 15657, 'trust none': 16274, 'it user getting': 8265, 'feel better': 5155, 'maggot ll': 9747, 'want big': 17542, 'it user dont': 8227, 'user kill': 16865, 'it user kill': 8309, 'user wake': 17270, 'get high bitch': 6006, 'it user been': 8185, 'this bitch need': 15813, 'bitcurse': 2401, 'user your fussy': 17357, 'engagement': 4805, 'user ross': 17132, 'traphouseeee': 16148, 'my traphouseeee': 10991, 'traphouseeee of': 16149, 'user of and': 17060, 'of and aunt': 11993, 'and aunt he': 718, 'he get up': 6977, 'out my traphouseeee': 12664, 'my traphouseeee of': 10992, 'traphouseeee of curl': 16150, 'usernumberrts': 17360, 'it usernumberrts': 8480, 'point curl': 13047, 'it user gotta': 8274, 'it user deep': 8220, 'bitch night curl': 2172, 'it user man': 8337, 'nothing of curl': 11911, 'you hoe': 18379, 'user you hoe': 17349, 'you hoe ai': 18380, 'night not want': 11413, 'user need bitch': 17021, 'it user and': 8174, 'user stupid': 17186, 'user mention hey': 16967, 'bitch throw': 2322, 'telephone': 15436, 'sweetheart': 15283, 'shit unless': 14325, 'user tell bitch': 17197, 'tell girl': 15448, 'thought he': 15863, 'get created': 5973, 'stupid ll': 15136, 'front all': 5502, 'it user dumb': 8231, 'user flirting': 16732, 'flirting birch': 5327, 'twitter like': 16392, 'it user flirting': 8249, 'user flirting birch': 16733, 'flirting birch twitter': 5328, 'birch twitter like': 1761, 'twitter like curl': 16393, 'user freeze': 16741, 'na steal': 11018, 'steal heart': 14950, 'heart curl': 7095, 'it user freeze': 8256, 'user freeze bitch': 16742, 'freeze bitch am': 5466, 'on na steal': 12488, 'na steal heart': 11019, 'steal heart curl': 14951, 'fuccurse': 5509, 'biggest he': 1536, 'as thick': 1016, 'thick flick': 15721, 'flick ever': 5321, 'ever sad': 4901, 'sad movie': 13809, 'movie curl': 10878, 'no bitch as': 11491, 'bitch as thick': 1876, 'as thick flick': 1017, 'thick flick ever': 15722, 'flick ever sad': 5322, 'ever sad movie': 4902, 'sad movie curl': 13810, 'sex 1st': 14158, '1st date': 18, 'date dont': 4141, 'mean he': 10027, 'he waitingnumberdays': 7059, 'waitingnumberdays wont': 17480, 'wont make': 18106, 'make wife': 9825, 'wife cut': 17965, 'cut pick': 4023, 'pick dont': 12917, 'mean happy': 10025, 'it user sex': 8396, 'user sex 1st': 17147, 'sex 1st date': 14159, '1st date dont': 19, 'date dont mean': 4142, 'dont mean he': 4519, 'mean he waitingnumberdays': 10028, 'he waitingnumberdays wont': 7060, 'waitingnumberdays wont make': 17481, 'wont make wife': 18107, 'make wife cut': 9826, 'wife cut pick': 17966, 'cut pick dont': 4024, 'pick dont mean': 12918, 'dont mean happy': 4518, 'birch 111': 1548, 'come true': 3379, 'be he curl': 1363, 'wannaknow': 17519, 'user pink': 17101, 'it user pink': 8375, 'is turn': 8082, 'it user after': 8165, 'these birch really': 15687, 'it user make': 8333, 'aunt cut': 1097, 'it user duke': 8230, 'user night like': 17034, 'night like of': 11394, 'do not curse': 4431, 'fussy of user': 5831, 'all hoe not': 350, 'night treat': 11460, 'treat hoe': 16222, 'user chris': 16649, 'it user chris': 8210, 'user chris brown': 16650, 'it user need': 8352, 'it user dat': 8218, 'user finn': 16730, 'it user finn': 8247, 'mean am': 10019, 'you nigger': 18402, 'user you nigger': 17352, 'user nice': 17027, 'it user nice': 8355, 'if man': 7673, 'user if man': 16843, 'user wait': 17269, 'it user malo': 8335, 'trial': 16236, 'when say': 17846, 'someone fucking': 14710, 'user when say': 17304, 'it user lmaooo': 8321, 'it user sometimes': 8409, 'it user can': 8205, 'user once': 17086, 'laugh hoe': 8884, 'hoe together': 7409, 'never hoe': 11162, 'mad sad': 9709, 'it user eat': 8232, 'all star': 385, 'is legal': 7991, 'legal tackle': 8940, 'tackle maggot': 15302, 'user seriously': 17144, 'seriously curl': 14136, 'that is legal': 15567, 'is legal tackle': 7992, 'legal tackle maggot': 8941, 'tackle maggot user': 15303, 'maggot user seriously': 9754, 'user seriously curl': 17145, 'mystery': 10996, 'user love fussy': 16902, 'half naked': 6683, 'like something': 9237, 'bitch of am': 2194, 'user horrible': 16820, 'she want': 14220, 'it user horrible': 8296, 'vitamin': 17446, 'this bitch mention': 15812, 'user time': 17233, 'it user time': 8435, 'know difference': 8754, 'it remember': 8160, 'remember steve': 13559, 'steve blue': 14961, 'blue clue': 2460, 'clue left': 3290, 'left bitch': 8931, 'night joe': 11382, 'joe curl': 8559, 'user it remember': 16858, 'it remember steve': 8161, 'remember steve blue': 13560, 'steve blue clue': 14962, 'blue clue left': 2461, 'clue left bitch': 3291, 'left bitch as': 8932, 'as night joe': 1001, 'night joe curl': 11383, 'night world': 11475, 'user it of': 16857, 'user finally': 16729, 'it user finally': 8246, 'user went': 17278, 'class get': 3246, 'get class': 5971, 'it user went': 8458, '200 date': 24, 'when make': 17841, 'user when make': 17300, 'be curl': 1358, 'it user looked': 8326, 'user hanna': 16779, 'sweet hoe': 15269, 'bill maker': 1542, 'baby cooked': 1169, 'it user stop': 8415, 'user stop fucking': 17184, 'not eat fussy': 11611, 'public curl': 13227, 'when side bitch': 17850, 'user found': 16738, 'it user found': 8253, 'bitch possessed': 2224, 'possessed that': 13090, 'that demon': 15546, 'demon curl': 4257, 'this bitch possessed': 15814, 'bitch possessed that': 2225, 'possessed that demon': 13091, 'that demon curl': 15547, 'side night': 14432, 'he come': 6957, 'this game': 15823, 'ruble': 13767, 'user bow': 16624, 'it user bow': 8196, 'when eat': 17828, 'user when eat': 17292, 'like boyfriend': 9086, 'user girl know': 16759, 'girl know bitch': 6144, 'know bitch like': 8744, 'bitch like boyfriend': 2108, 'like boyfriend curse': 9087, 'dick amp': 4308, 'killed bitch': 8683, 'user having': 16800, 'it user having': 8284, 'it user take': 8420, 'user right': 17125, 'it user right': 8387, 'ou': 12658, 'it user is': 8305, 'of hit': 12134, 'when bitch say': 17819, 'bitch say of': 2252, 'birch brag': 1576, 'filter': 5224, 'rise': 13696, 'user fat birch': 16719, 'it user ink': 8302, 'let hit': 8968, 'it user fussy': 8262, 'it user being': 8187, 'it user fucking': 8259, 'ever curl': 4885, 'user teacher': 17194, 'it user teacher': 8422, 'user mention love': 16976, 'mention love fig': 10398, 'it user hey': 8290, 'how all': 7533, 'it user cry': 8213, 'head good': 7074, 'young age': 18438, 'it user even': 8237, 'as bitch curl': 933, 'tell something': 15463, 'user never trust': 17023, 'user of fussy': 17065, 'user shy': 17156, 'it user shy': 8401, 'said mention': 13839, 'it user best': 8188, 'it user wake': 8453, 'pretty girl': 13153, 'user night fuck': 17031, 'mon curse': 10781, 'side birch curse': 14422, 'it user ion': 8304, 'it user floppy': 8250, 'buck mention': 2704, 'it user orel': 8371, 'like of man': 9201, 'too bitch': 16076, 'user wa': 17268, 'it user wa': 8452, 'cable': 2843, 'birch broke': 1577, 'user dumb birch': 16697, 'score floppy': 13999, 'score floppy bird': 14000, 'to man': 16009, 'user pregnant': 17105, 'it user pregnant': 8378, 'defeating': 4226, 'follows': 5375, 'the hetty': 15618, 'real curse': 13416, 'hoe swear': 7396, 'it user girlfriend': 8268, 'like of let': 9199, 'dying attention': 4677, 'that awkward': 15537, 'awkward moment': 1148, 'that awkward moment': 15538, 'user team': 17195, 'bursting': 2741, 'it user they': 8431, 'brown curl': 2675, 'user fuck bitch': 16746, 'user young': 17355, 'it user young': 8478, 'tell go': 15449, 'revolving': 13628, 'it user ve': 8450, 'cycle': 4035, 'user all ever': 16549, 'entertaining hoe': 4818, 'poem': 13045, 'it user wish': 8466, 'even read': 4868, 'at bitch': 1066, 'bitch blew': 1904, 'blew high': 2445, 'high drug': 7186, 'this bitch blew': 15807, 'bitch blew high': 1905, 'fuck floppy': 5554, 'fuck floppy bird': 5555, 'user houston': 16822, 'user houston many': 16823, 'it user his': 8292, 'never knew': 11164, 'react': 13401, 'see people': 14064, 'bitch serious': 2257, 'it user new': 8354, 'it user for': 8252, 'truly come': 16263, 'come smart': 3373, 'smart mouth': 14579, 'let please': 8988, 'please cause': 13024, 'it user loyal': 8330, 'user loyal girl': 16904, 'truly come smart': 16264, 'come smart mouth': 3374, 'he let please': 7000, 'let please cause': 8989, 'time eating': 15929, 'it user hit': 8293, 'user hit blunt': 16814, 'still fussy': 14984, 'darkskin night': 4114, 'user put': 17107, 'make want': 9824, 'can mention': 2925, 'sole possession': 14680, 'either gay': 4750, 'user not fuck': 17046, 'it user lesion': 8314, 'drown': 4605, 'user bitch got': 16617, 'elect': 4755, 'it user lot': 8328, 'it user go': 8270, 'it user idea': 8299, 'user ll birch': 16885, 'user this nigh': 17229, 'it user tucked': 8444, 'user woke': 17327, 'it user had': 8278, 'intense': 7828, 'not 10': 11546, 'hair make': 6667, 'stick around': 14964, 'it user face': 8242, 'user you not': 17354, 'dangerous': 4103, 'outburst': 12667, 'it user yankee': 8474, 'like one of': 9209, 'are bitch of': 842, 'bitch of me': 2199, 'dislike': 4394, 'of fuck of': 12091, 'urge': 16525, 'urge smack': 16526, 'urge smack bitch': 16527, 'smack bitch curl': 14571, 'she used': 14219, 'cutecurse': 4031, 'it user yeah': 8475, 'robin thick': 13713, 'year not': 18285, 'rest curse': 13599, 'user man hoe': 16914, 'orel cheesecake': 12629, 'user orel cheesecake': 17094, 'user ultimate': 17258, 'bar curl': 1318, 'it user ultimate': 8447, 'cake curl': 2848, 'the nerve': 15629, 'know count': 8748, 'it user relationship': 8384, 'hardy': 6748, 'connect': 3442, 'user instagram': 16851, 'it user instagram': 8303, 'user eating': 16702, 'it user eating': 8233, 'user eating fussy': 16703, 'user mention let': 16972, 'is cold': 7911, 'user fuck birch': 16745, 'much of': 10901, 'is annoying': 7877, 'it is annoying': 8130, 'horoscope': 7495, 'still he': 14991, 'party curl': 12742, 'it user ok': 8364, 'hoe attention': 7261, 'talent': 15344, 'll trying': 9416, 'even care': 4851, 'trying hard': 16304, 'user please': 17102, 'it user please': 8376, 'taken curse': 15337, 'need taken': 11118, 'hoe taken': 7398, 'of side': 12259, 'it user lafa': 8312, 'when start': 17852, 'virgin of': 17438, 'curse youcurse': 3983, 'when be': 17815, 'user when be': 17286, 'mansion': 9910, 'it user her': 8288, 'money night': 10803, 'user steve': 17181, 'it user steve': 8413, 'like fuck birch': 9131, 'it user yes': 8476, 'cheeseburger': 3153, 'thanks charlie': 15526, 'admits': 165, 'of sweet': 12274, 'user somewhere': 17177, 'it user somewhere': 8410, 'it user have': 8283, 'came club': 2903, 'only real': 12567, 'said of bitch': 13846, 'of bitch am': 12021, 'wayne said': 17673, 'when ll wayne': 17840, 'll wayne said': 9421, 'user also': 16558, 'it user also': 8170, 'it user only': 8369, 'user mention stop': 16995, 'lot hoe': 9561, 'hoe wish': 7416, 'you know hoe': 18385, 'know hoe wish': 8771, 'hoe wish wash': 7417, 'discover': 4381, 'when boy': 17820, 'boy discover': 2561, 'discover he': 4382, 'user when boy': 17289, 'when boy discover': 17821, 'boy discover he': 2562, 'discover he curl': 4383, 'user doe': 16689, 'said best': 13826, 'user curse bitch': 16661, 'the world': 15655, 'of happened': 12114, 'they make': 15708, 'scientist recently': 13995, 'recently discovered': 13492, 'discovered birch': 4385, 'birch fact': 1616, 'fact tripping': 5051, 'it user scientist': 8394, 'user scientist recently': 17140, 'scientist recently discovered': 13996, 'recently discovered birch': 13493, 'discovered birch fact': 4386, 'birch fact tripping': 1617, 'it user once': 8367, 'in hoe': 7744, 'it user guess': 8276, 'it user cause': 8206, 'on mamma': 12468, 'user on mamma': 17084, 'year is': 18281, 'it is okay': 8143, 'user mention fucking': 16956, 'user of it': 17069, 'it user wonder': 8469, 'pick like': 12919, 'addicted naked': 159, 'naked picture': 11030, 'birch almost': 1556, 'addicted naked picture': 160, 'bout birch almost': 2526, 'user word': 17332, 'word user': 18114, 'user someone': 17175, 'it user someone': 8408, 'user mention go': 16959, 'numberare': 11949, 'happen number': 6710, 'amp numberare': 678, 'numberare lie': 11950, 'not happen number': 11680, 'happen number amp': 6711, 'number amp numberare': 11947, 'amp numberare lie': 679, 'why not': 17953, 'the nicer': 15631, 'nicer easier': 11242, 'easier are': 4698, 'are hurt': 857, 'hurt so': 7592, 'user the nicer': 17210, 'the nicer easier': 15632, 'nicer easier are': 11243, 'easier are hurt': 4699, 'are hurt so': 858, 'hurt so bitch': 7593, 'it user too': 8439, 'many hoe taken': 9923, 'user love bitch': 16901, 'man just': 9880, 'goldfish': 6324, 'men cheat': 10062, 'flexed': 5317, 'want put': 17582, 'user top': 17241, 'it user top': 8441, 'blunt of': 2464, 'brush tell': 2695, 'keep testing': 8649, 'testing of': 15496, 'hit blunt of': 7222, 'blunt of brush': 2465, 'of brush tell': 12037, 'brush tell go': 2696, 'tell go text': 15450, 'text hoe is': 15513, 'hoe is one': 7331, 'is one hoe': 8027, 'one hoe keep': 12525, 'hoe keep testing': 7335, 'school look': 13991, 'count bitch': 3527, 'user law': 16873, 'year new': 18283, 'of new year': 12203, 'new year new': 11211, 'year new of': 18284, 'got night amp': 6467, 'covered': 3560, 'it user last': 8313, 'why night': 17952, 'night passing': 11418, 'user why night': 17321, 'girl treated': 6173, 'might hetty': 10704, 'hetty bring': 7151, 'food outside': 5381, 'outside move': 12673, 'stupid pay': 15139, 'pay 499': 12780, 'user girl treated': 16761, 'girl treated of': 6174, 'treated of might': 16230, 'of might hetty': 12191, 'might hetty bring': 10705, 'hetty bring food': 7152, 'bring food outside': 2626, 'food outside move': 5382, 'outside move of': 12674, 'move of might': 10874, 'of might stupid': 12192, 'might stupid pay': 10707, 'stupid pay 499': 15140, 'pay 499 curse': 12781, 'user drama': 16693, 'it user drama': 8228, 'user love bad': 16900, 'howard of': 7556, 'wight howard of': 17976, 'user you maggot': 17351, 'see mention': 14057, 'user between': 16602, 'it user between': 8190, 'user am saying': 16568, 'user yea': 17338, 'hand ll': 6695, 'phone curse': 12892, 'too many birch': 16078, 'user mention real': 16991, 'when birch say': 17817, 'up night': 16512, 'put shit': 13288, 'shit pas': 14309, 'city trash': 3231, 'it user mimi': 8347, 'now look like': 11932, 'you not talk': 18406, 'breathing': 2606, 'user any bitch': 16577, 'bitch for': 2007, 'when to': 17854, 'class amp': 3242, 'teacher say': 15417, 'of turn': 12301, 'turn trash': 16359, 'user when to': 17308, 'phone go class': 12895, 'teacher say of': 15418, 'say of turn': 13938, 'of turn trash': 12302, 'turn trash of': 16360, 'user text': 17198, 'aunt seen': 1115, 'bitch seen': 2255, 'it user still': 8414, 'it user looking': 8327, 'these hoe not': 15697, 'wait minute': 17472, 'believer': 1438, 'whipped curl': 17882, 'sandwiched': 13876, 'penny look': 12810, 'amp stylish': 690, 'stylish wear': 15147, 'wear look': 17704, 'like member': 9173, 'member drug': 10054, 'drug carted': 4609, 'user girl wear': 16762, 'wear penny look': 17707, 'penny look cut': 12811, 'look cut amp': 9493, 'cut amp stylish': 3996, 'amp stylish wear': 691, 'stylish wear look': 15148, 'wear look like': 17705, 'look like member': 9511, 'like member drug': 9174, 'member drug carted': 10055, 'the reason': 15643, 'hair not': 6670, 'still be': 14973, 'combed': 3341, 'win curse': 17986, 'it user where': 8462, 'one day all': 12513, 'user thanks': 17200, 'it user thanks': 8425, 'user you got': 17346, 'you got night': 18375, 'got night got': 6468, 'of time': 12291, 'hoescurse curl': 7425, 'user here': 16807, 'it user here': 8289, 'aware that': 1135, 'aware that is': 1136, 'that is curse': 15564, 'bitch ve ever': 2352, 'like way': 9264, 'caution curl': 3052, 'it user nothing': 8360, 'user curse of': 16666, 'he phase': 7025, 'like youcurse': 9279, 'ca not put': 2823, 'choke bitch curse': 3201, 'it user ah': 8166, 'user not care': 17044, 'user pretty': 17106, 'abusive': 108, 'person count': 12870, 'it user cut': 8216, 'then got': 15669, 'it user or': 8370, 'it user money': 8349, 'it user saw': 8392, 'monkey curl': 10816, 'next week': 11233, 'procure': 13190, 'user listen': 16882, 'it user listen': 8318, 'user worn': 17334, 'it user worn': 8472, 'user crazy': 16657, 'got best fussy': 6401, 'fussy best fussy': 5758, 'trash of user': 16195, 'diving': 4413, 'amp give': 654, 'friend he': 5485, 'need man': 11100, 'good fussy curse': 6352, 'user die': 16686, 'it user die': 8225, 'floppy bird curse': 5339, 'it user run': 8390, 'user not understand': 17050, 'these ll': 15700, 'it user same': 8391, 'same birch': 13865, 'round curse': 13755, 'grande': 6552, 'there nothing': 15676, 'wrong arizona': 18221, 'arizona grande': 895, 'grande just': 6553, 'there nothing wrong': 15677, 'nothing wrong arizona': 11914, 'wrong arizona grande': 18222, 'arizona grande just': 896, 'grande just cause': 6554, 'just cause not': 8606, 'cause not look': 3045, 'like he all': 9148, 'he all gotta': 6934, 'it user side': 8402, 'user full': 16749, 'it user full': 8260, 'user how fuck': 16827, 'one girl': 12518, 'user mild': 17005, 'sex as': 14160, 'it user mild': 8346, 'mansion curse': 9911, 'curse an': 3711, 'mansion curse an': 9912, 'nigger store': 11277, 'many nigger store': 9925, 'say dont': 13913, 'of curse is': 12058, 'single hoe': 14464, 'trash may': 16189, 'comma': 3393, 'built like': 2716, 'sweet just': 15270, 'like me': 9172, 'as bitch look': 937, 'nobody tell': 11521, 'user give': 16764, 'pull hair': 13247, 'user of that': 17075, 'it user long': 8324, 'user rip': 17126, 'it user rip': 8388, 'amp fussy': 652, 'curse still': 3849, 'it user shout': 8399, 'user exactly': 16716, 'it user exactly': 8241, 'cause curse': 3031, 'it user swear': 8418, 'user side he': 17160, 'care night': 2974, 'user hashtag is': 16786, 'genuinely': 5940, 'user old': 17082, 'it user old': 8365, 'when are': 17814, 'user when are': 17285, 'do fuck': 4424, 'it user trash': 8442, 'user bitch not': 16619, 'user can get': 16639, 'user got hoe': 16772, 'raven': 13390, 'it user gay': 8263, 'user dawn': 16672, 'dawn look': 4152, 'user bitch bye': 16615, 'bitch bye curse': 1921, 'curse user dawn': 3891, 'user dawn look': 16673, 'dawn look shit': 4153, 'look shit curl': 9523, 'easiest': 4700, 'easiest way': 4701, 'know abocurse': 8737, 'user breaking': 16628, 'wrist curl': 18215, 'it user breaking': 8199, 'cut bitch curse': 4001, 'as that': 1015, 'it user ai': 8168, 'user eddy': 16704, 'it user eddy': 8234, 'rogers': 13726, 'smoke blunt': 14595, 'fuckingcurse': 5703, 'user mention trash': 16997, 'curse user she': 3942, 'make paper': 9810, 'when make paper': 17842, 'make paper ball': 9811, 'whisker': 17884, 'user lmaoooo': 16888, 'it user lmaoooo': 8322, 'user lmaoooo user': 16889, 'birch walk': 1765, 'fucking neck': 5679, 'fussy night curse': 5825, 'reference': 13523, 'amp he': 659, 'really fucking': 13459, 'make dat': 9784, 'it user amp': 8173, 'treat hoe like': 16223, 'it user heard': 8286, 'ford': 5402, 'user rise': 17127, 'rise planet': 13697, 'it user rise': 8389, 'user rise planet': 17128, 'rise planet ape': 13698, 'user dere': 16681, 'it user dere': 8222, 'user dere peter': 16682, 'redness white': 13517, 'white house': 17897, 'resist urge': 13589, 'resist urge smack': 13590, 'babe of': 1160, 'hard resist': 6742, 'it user trying': 8443, 'user trying hard': 17247, 'trying hard resist': 16305, 'hard resist urge': 6743, 'the club': 15599, 'eve': 4848, 'swampscott': 15241, 'baker is': 1284, 'of last': 12155, 'of last night': 12156, 'bitch kick': 2084, 'user charlie angel': 16643, 'it user ready': 8380, 'outbreak': 12666, 'it user thank': 8424, 'issued': 8111, 'user cheating': 16647, 'it user cheating': 8208, 'another man is': 769, 'coming soon': 3391, 'occasion': 11972, 'shy girl': 14398, 'threw fussy': 15877, 'user school': 17138, 'it user school': 8393, 'river hashtag': 13703, 'hashtag lying': 6811, 'onto': 12571, 'treatment': 16232, 'user noah': 17040, 'ago take': 193, 'fuck pick': 5604, 'user of ago': 17056, 'of ago take': 11978, 'ago take pick': 194, 'take pick am': 15327, 'pick am of': 12914, 'am of you': 542, 'of you think': 12389, 'you think birch': 18423, 'think birch on': 15752, 'on fuck pick': 12462, 'fuck pick of': 5605, 'pick of curl': 12922, 'it user word': 8470, 'that is tucked': 15572, 'envy': 4821, 'birdhouse': 1823, 'home button': 7445, 'button birdhouse': 2779, 'home button birdhouse': 7446, 'it user everybody': 8240, 'user most': 17011, 'it user most': 8350, 'of bitch soft': 12029, 'girl look': 6148, 'girl look like': 6149, 'user throw': 17232, 'it user throw': 8434, 'parasite': 12716, 'shit look': 14297, 'dick called': 4311, 'user my dick': 17015, 'my dick called': 10956, 'hoe need stop': 7367, '14': 11, 'theynumbercurse': 15715, 'curse throwing': 3859, 'throwing fussy': 15892, 'curse turning': 3867, 'like theynumbercurse': 9245, 'theynumbercurse curse': 15716, 'curse throwing fussy': 3860, 'throwing fussy like': 15893, 'like theynumbercurse curse': 9246, 'theynumbercurse curse but': 15717, 'ca not pas': 2822, 'only bitch': 12562, 'shout birch': 14360, 'user shout birch': 17153, 'user who is': 17317, 'flagrant': 5300, 'here is': 7139, 'stop passing': 15053, 'user almost': 16557, 'birch polly': 1707, 'in of': 7758, 'the mention': 15628, 'best fussy curse': 1467, 'so just': 14632, 'not faithful': 11630, 'faithful never': 5071, 'never no': 11169, 'so just not': 14633, 'just not faithful': 8617, 'not faithful never': 11631, 'faithful never no': 5072, 'never no bitch': 11170, 'it user give': 8269, 'fussy love': 5814, 'inspiration': 7818, 'she he': 14208, 'user wet': 17280, 'it user wet': 8459, 'user wet fussy': 17281, 'get bunch': 5967, 'it user gun': 8277, 'look ll': 9517, 'it user men': 8343, 'never mind': 11168, 'bitch talk shit': 2301, 'class teacher say': 3251, 'it user somebody': 8407, 'never curse': 11147, 'user mary': 16917, 'it user mary': 8339, 'when drop': 17825, 'drop hoe': 4600, 'person not': 12873, 'user when drop': 17290, 'when drop hoe': 17826, 'these hoe getting': 15694, 'fussy dont': 5779, 'swear want': 15255, 'your girl': 18456, 'user your girl': 17358, 'not like curse': 11724, 'it user god': 8271, 'damn fussy': 4080, 'hate fussy': 6880, 'go one': 6264, 'user took': 17240, 'it user took': 8440, 'top the': 16096, 'it user utf': 8449, 'lonely as': 9469, 'say girl': 13917, 'like love': 9167, 'user dear': 16676, 'it user dear': 8219, 'unreal': 16503, 'bird log': 1805, 'it user little': 8319, 'stephen': 14955, 'user every time': 16714, 'user may night': 16919, 'want war': 17592, 'stand mention': 14897, 'fussy stand mention': 5853, 'better never': 1494, 'tuesday': 16342, 'reportedly': 13577, 'user new year': 17025, 'birch like hashtag': 1664, 'streak': 15082, 'you say': 18415, 'you say hatchet': 18416, 'retarded curl': 13612, 'muscle': 10922, 'silent': 14443, 'this white': 15844, 'progressive': 13199, 'twitter birch': 16384, 'prevent': 13157, 'user marry': 16916, 'it user see': 8395, 'all hoe still': 351, 'forest jump': 5407, 'public place': 13228, 'pull birch': 13239, 'quick say': 13313, 'many faithful': 9918, 'girl single': 6163, 'single many': 14466, 'too many faithful': 16079, 'many faithful girl': 9919, 'faithful girl single': 5070, 'girl single many': 6164, 'single many hoe': 14467, 'they song': 15711, 'it user friend': 8257, 'birch meeting': 1683, 'user birch meeting': 16611, 'fussy trash': 5869, 'of traded': 12296, 'said of traded': 13850, 'of traded like': 12297, 'new life of': 11197, 'when topic': 17855, 'topic said': 16098, 'user when topic': 17309, 'when topic said': 17856, 'topic said of': 16099, 'said of ai': 13845, 'when tyler': 17859, 'tyler creator': 16418, 'creator said': 3603, 'of rape': 12236, 'rape pregnant': 13372, 'pregnant bitch': 13132, 'friend tiresome': 5492, 'tiresome of': 15962, 'user when tyler': 17311, 'when tyler creator': 17860, 'tyler creator said': 16419, 'creator said of': 3604, 'said of rape': 13849, 'of rape pregnant': 12237, 'rape pregnant bitch': 13373, 'pregnant bitch tell': 13133, 'bitch tell friend': 2305, 'tell friend tiresome': 15445, 'friend tiresome of': 5493, 'tiresome of curl': 15963, 'man love': 9883, 'be like curse': 1365, 'approaching': 827, 'user if of': 16846, 'good gun': 6356, 'sure know': 15221, 'rose colored': 13748, 'it user curl': 8214, 'rose colored glass': 13749, 'vote charlie': 17459, 'would curse': 18172, 'it user show': 8400, 'allowing': 410, 'user lmaooooooo': 16890, 'it user lmaooooooo': 8323, 'hashtag win': 6843, 'bone hashtag': 2486, 'user hashtag win': 16790, 'instead of': 7824, 'nominee': 11529, 'story of': 15067, 'cry curl': 3645, 'it user red': 8383, 'getting ready': 6095, 'itching birch': 8486, 'the beautiful': 15592, 'beautiful woman': 1392, 'user of let': 17070, 'time fussy': 15932, 'today mention': 16032, 'carrot': 2989, 'well curse': 17752, 'love big': 9580, 'woman hashtag': 18084, 'man yellow': 9898, 'this whole': 15846, 'be even': 1360, 'woman say': 18094, 'you better': 18350, 'shut the': 14390, 'they say': 15710, 'da bus': 4041, 'user not want': 17051, 'you girl': 18371, 'thinking trying': 15791, 'bigger problem': 1531, 'birch confused': 1590, 'would curl': 18171, 'let guy': 8965, 'guy treat': 6649, 'starburst you': 14907, 'you pink': 18408, 'pink starburst': 12954, 'user girl not': 16760, 'girl not let': 6153, 'not let guy': 11719, 'let guy treat': 8966, 'guy treat like': 6650, 'treat like yellow': 16226, 'like yellow starburst': 9275, 'yellow starburst you': 18312, 'starburst you pink': 14908, 'you pink starburst': 18409, 'boxer': 2553, 'want skinny': 17585, 'user the person': 17211, 'when hear': 17836, 'user when hear': 17297, 'it user boy': 8197, 'worried bout bitch': 18152, 'curious': 3665, 'stay home': 14941, 'robinson': 13715, 'robinson can': 13716, 'bad curl': 1255, 'curse trying': 3865, 'people ask curse': 12817, 'ask curse trying': 1044, 'curse trying look': 3866, 'trying look good': 16312, 'good curse bitch': 6345, 'curse bitch bye': 3723, 'somebody please': 14699, 'unattractive': 16461, 'favorite line of': 5136, 'group hoe': 6590, 'she on': 14216, 'it user did': 8224, 'back day': 1194, 'haired': 6674, 'class of': 3248, 'getting created': 6082, 'couple day': 3548, 'bengal harlem': 1452, 'get man': 6024, 'ut': 17370, 'next day': 11222, 'send node': 14114, 'tank top': 15390, 'make playoff': 9812, 'send pick': 14115, 'sweet ever': 15266, 'stretch mark': 15093, 'trying pas': 16315, 'black yellow': 2427, 'why hoe': 17949, 'user why hoe': 17320, 'get know': 6013, 'it user stay': 8412, 'super bowl': 15205, 'someone tell': 14718, 'the price': 15642, 'dead bird': 4188, 'user ida': 16830, 'it user ida': 8298, 'mask': 9958, 'it user funny': 8261, 'jealous bitch': 8516, 'birch find': 1620, 'why always': 17939, 'dick go': 4315, 'it user maggot': 8332, 'likenumberin': 9284, 'dinner date': 4359, 'user mention amp': 16931, 'sad cause': 13805, 'user republican': 17121, 'ideology': 7624, 'personally': 12877, 'soap': 14644, 'these hoe really': 15699, 'use curse': 16531, 'bitch respect': 2240, 'niggabitch': 11255, 'linebacker': 9296, 'testing curl': 15495, 'plane it': 12979, 'is plane it': 8034, 'plane it is': 12980, 'you buy': 18355, '16': 14, 'there is one': 15675, 'wannatext': 17529, 'ah go': 204, 'talk or': 15359, 'since dont': 14455, 'dont wannatext': 4530, 'wannatext back': 17530, 'user of ah': 17057, 'of ah go': 11980, 'ah go talk': 205, 'go talk or': 6278, 'talk or hoe': 15360, 'or hoe since': 12611, 'hoe since dont': 7389, 'since dont wannatext': 14456, 'dont wannatext back': 4531, 'wannatext back shit': 17531, 'back shit of': 1209, 'shit of curl': 14306, 'user see bitch': 17142, 'night time': 11454, 'work curl': 18118, 'user austin': 16584, 'it user austin': 8180, 'plank': 12983, 'row hoe': 13760, 'girl plank': 6157, 'plank rank': 12984, 'rank deep': 13368, 'deep cut': 4215, 'cut slum': 4028, 'slum guard': 14564, 'guard broad': 6608, 'broad no': 2637, 'no pen': 11508, 'row hoe curl': 13761, 'hoe curl girl': 7285, 'curl girl plank': 3675, 'girl plank rank': 6158, 'plank rank deep': 12985, 'rank deep cut': 13369, 'deep cut slum': 4216, 'cut slum guard': 4029, 'slum guard broad': 14565, 'guard broad no': 6609, 'broad no pen': 2638, 'dickson': 4326, 'curse watch': 3974, 'person curse': 12871, 'user use': 17260, 'inhale': 7801, 'gone tell': 6337, 'lmaoooooo user': 9434, 'betray': 1481, 'peter hashtag': 12881, 'dere peter hashtag': 4276, 'user of hoe': 17067, 'of hoe ai': 12137, 'so girl': 14628, 'villa': 17431, 'when teacher': 17853, 'where is': 17868, 'user am pretty': 16567, 'cucumber': 3656, 'dead curse user': 4191, 'for birch': 5392, 'gotta eat': 6512, 'face bout': 5028, 'reflected': 13525, 'reflected hashtag': 13526, 'get played curse': 6042, 'of as birch': 11998, 'these hoe got': 15695, 'understand birch': 16473, 'why everybody': 17944, 'not send node': 11814, 'user real birch': 17113, 'when gun': 17834, 'he thought': 7049, 'get the': 6056, 'different curse': 4352, 'it user emma': 8236, 'of back of': 12006, 'night amp got': 11310, 'amp got birch': 657, 'like wish': 9268, 'user soft': 17170, 'amp throw': 696, 'he done': 6969, 'evaluate': 4847, 'walk like': 17488, 'squeezing': 14876, 'user elect': 16705, 'elect democratic': 4756, 'democratic nominee': 4255, 'hashtag defeat': 6780, 'it user elect': 8235, 'user elect democratic': 16706, 'elect democratic nominee': 4757, 'well am': 17749, 'user birch ai': 16607, 'bitch curl curse': 1954, 'brownish amp': 2680, 'bitch smile': 2275, 'smile face': 14591, 'bitch smile face': 2276, 'bitch working': 2384, 'not suck dick': 11831, 'bad fussy': 1257, 'get point': 6043, 'we not want': 17689, 'of drama': 12070, 'summer hoe': 15188, 'winter wife': 18002, 'confirmation': 3434, 'said all': 13822, 'night money': 11405, 'pedestal': 12800, 'combine': 3342, 'hoe hate': 7324, 'you ask': 18348, 'got hoe curse': 6437, 'engaged': 4804, 'like free': 9128, 'switcharoo': 15290, 'ghettos': 6101, 'user ghettos': 16756, 'ghettos driven': 6102, 'driven liberal': 4593, 'liberal ideology': 9006, 'user ghettos driven': 16757, 'ghettos driven liberal': 6103, 'driven liberal ideology': 4594, 'year bitch': 18277, 'sonya': 14760, 'shit all': 14250, 'ex birch': 4964, 'phenomenon': 12885, 'not leave': 11716, 'of user know': 12326, 'real is': 13420, 'could of': 3521, 'get girl': 5997, 'smell good': 14586, 'this bitch really': 15815, 'get live': 6019, 'not he of': 11689, 'ne': 11063, 'if call': 7647, 'muthafuckin': 10939, 'kiss to': 8713, 'user maybe': 16921, 'it user maybe': 8341, 'in one': 7761, 'fourth': 5441, 'stump': 15119, 'tends': 15479, 'think is okay': 15771, 'forged': 5412, 'bankruptcy': 1313, 'watering': 17643, 'ideology forged': 7625, 'forged union': 5413, 'union amp': 16488, 'amp bankruptcy': 638, 'bankruptcy self': 1314, 'watering parasite': 17644, 'parasite hashtag': 12717, 'it user ghettos': 8266, 'ideology forged union': 7626, 'forged union amp': 5414, 'union amp bankruptcy': 16489, 'amp bankruptcy self': 639, 'bankruptcy self serving': 1315, 'watering parasite hashtag': 17645, 'parasite hashtag curl': 12718, 'sitting next': 14489, 'that due': 15548, 'prey': 13158, 'bird prey': 1815, 'dumb shit': 4658, 'so real': 14641, 'these birch ai': 15685, 'catfished': 3017, 'banging': 1307, 'high fuck': 7187, 'much trash': 10903, 'look fucking retarded': 9496, 'segment': 14091, 'inch rather': 7783, 'give bitch inch': 6196, 'bitch inch rather': 2075, 'goodness': 6377, 'african american': 178, 'grabbed': 6538, 'really tried': 13479, 'go mention': 6262, 'fail realize': 5059, 'thing not': 15742, 'this nigh mention': 15834, 'grip': 6583, 'bitch basic': 1892, 'midge': 10698, 'stable': 14882, 'this kid': 15830, 'what fucking': 17793, 'we live': 17684, 'dat fussy night': 4127, 'curse of mention': 3826, 'tick': 15903, 'realize got': 13445, 'fuck pas': 5602, 'redness white trash': 13518, 'took to': 16087, 'movie hashtag': 10880, 'rice bitch': 13633, 'ray rice bitch': 13394, 'hoe good': 7318, 'why fuck': 17945, 'say want': 13950, 'bird game': 1797, 'all sweet': 388, 'trust he': 16269, 'of looking as': 12169, 'girl gotta': 6137, 'snapchat birch': 14612, 'buy another': 2781, 'birch you': 1777, 'sometimes gotta': 14736, 'hoe not like': 7372, 'as niece': 992, 'watch hashtag': 17629, 'stung hoe': 15121, 'sup birch': 15201, 'this sick': 15841, 'thank charlie': 15520, 'bitch if': 2069, 'bank roll': 1309, 'is to bitch': 8075, 'the redskin': 15644, 'trash fuck': 16175, 'birch telling': 1743, 'like free throw': 9129, 'love soda': 9630, 'need jesus': 11092, 'these hoe need': 15696, 'would not make': 18193, 'ingram': 7800, 'this bitch said': 15816, 'this bitch look': 15811, 'this fat': 15820, 'this fat bitch': 15821, 'marco': 9935, 'this white bitch': 15845, 'could fuck bitch': 3509, 'super bad': 15203, 'super bad bitch': 15204, 'up early': 16508, 'video charlie baker': 17424, 'firelight curl': 5268, 'distribution': 4406, 'watch excited': 17627, 'excited iris': 4978, 'jihadis getting': 8546, 'getting their': 6097, 'their yezidi': 15660, 'yezidi sex': 18327, 'on distribution': 12458, 'distribution day': 4407, 'watch excited iris': 17628, 'excited iris jihadis': 4979, 'iris jihadis getting': 7859, 'jihadis getting their': 8547, 'getting their yezidi': 6098, 'their yezidi sex': 15661, 'yezidi sex slave': 18328, 'slave on distribution': 14523, 'on distribution day': 12459, 'distribution day curl': 4408, 'wait what': 17477, 'die throw': 4341, 'throw couple': 15887, 'birch casket': 1583, 'when die throw': 17824, 'die throw couple': 4342, 'throw couple bad': 15888, 'bad birch casket': 1228, 'wearing legging': 17713, 'to bitch may': 15980, 'you are stupid': 18345, 'you are ugly': 18346, 'night brush': 11326, 'fuck ah bitch': 5512, 'flirting nowadays': 5329, 'sell he': 14104, 'work is': 18122}\n",
            "[[0. 0. 0. ... 0. 0. 0.]\n",
            " [0. 0. 0. ... 0. 0. 0.]\n",
            " [0. 0. 0. ... 0. 0. 0.]\n",
            " ...\n",
            " [0. 0. 0. ... 0. 0. 0.]\n",
            " [0. 0. 0. ... 0. 0. 0.]\n",
            " [0. 0. 0. ... 0. 0. 0.]]\n"
          ],
          "name": "stdout"
        }
      ]
    },
    {
      "cell_type": "code",
      "metadata": {
        "colab": {
          "base_uri": "https://localhost:8080/",
          "height": 473
        },
        "id": "U0gEskaXeQu2",
        "outputId": "8b1bf91e-759c-4814-8283-3ff8c8657f07"
      },
      "source": [
        "# Build a DataFrame using the output of the vectorizer as data. We'll use this DataFrame to add other features like POS tagging.\r\n",
        "features_df = pd.DataFrame(data=X_TFIDF_Ngrams.toarray(), columns=vectorizer_ngrams.get_feature_names())\r\n",
        "features_df"
      ],
      "execution_count": 17,
      "outputs": [
        {
          "output_type": "execute_result",
          "data": {
            "text/html": [
              "<div>\n",
              "<style scoped>\n",
              "    .dataframe tbody tr th:only-of-type {\n",
              "        vertical-align: middle;\n",
              "    }\n",
              "\n",
              "    .dataframe tbody tr th {\n",
              "        vertical-align: top;\n",
              "    }\n",
              "\n",
              "    .dataframe thead th {\n",
              "        text-align: right;\n",
              "    }\n",
              "</style>\n",
              "<table border=\"1\" class=\"dataframe\">\n",
              "  <thead>\n",
              "    <tr style=\"text-align: right;\">\n",
              "      <th></th>\n",
              "      <th>0221</th>\n",
              "      <th>0221 numberurl</th>\n",
              "      <th>10</th>\n",
              "      <th>100</th>\n",
              "      <th>1000</th>\n",
              "      <th>10000</th>\n",
              "      <th>10th</th>\n",
              "      <th>11</th>\n",
              "      <th>111</th>\n",
              "      <th>12</th>\n",
              "      <th>13</th>\n",
              "      <th>14</th>\n",
              "      <th>14th</th>\n",
              "      <th>15</th>\n",
              "      <th>16</th>\n",
              "      <th>17</th>\n",
              "      <th>18</th>\n",
              "      <th>1st</th>\n",
              "      <th>1st date</th>\n",
              "      <th>1st date dont</th>\n",
              "      <th>1st person</th>\n",
              "      <th>20</th>\n",
              "      <th>20 are</th>\n",
              "      <th>200</th>\n",
              "      <th>200 date</th>\n",
              "      <th>2000</th>\n",
              "      <th>201</th>\n",
              "      <th>21</th>\n",
              "      <th>210</th>\n",
              "      <th>214</th>\n",
              "      <th>22</th>\n",
              "      <th>23</th>\n",
              "      <th>24</th>\n",
              "      <th>247</th>\n",
              "      <th>25</th>\n",
              "      <th>250</th>\n",
              "      <th>26</th>\n",
              "      <th>28</th>\n",
              "      <th>29</th>\n",
              "      <th>2nd</th>\n",
              "      <th>...</th>\n",
              "      <th>you want</th>\n",
              "      <th>you wo</th>\n",
              "      <th>you wo not</th>\n",
              "      <th>you would</th>\n",
              "      <th>youcurse</th>\n",
              "      <th>youcurse bitch</th>\n",
              "      <th>youcurse curse</th>\n",
              "      <th>youcurse little</th>\n",
              "      <th>youcurse little bitch</th>\n",
              "      <th>young</th>\n",
              "      <th>young age</th>\n",
              "      <th>young berg</th>\n",
              "      <th>young birch</th>\n",
              "      <th>young bitch</th>\n",
              "      <th>young boy</th>\n",
              "      <th>young japanese</th>\n",
              "      <th>young japanese girlcurse</th>\n",
              "      <th>young lady</th>\n",
              "      <th>young nigh</th>\n",
              "      <th>young night</th>\n",
              "      <th>young rich</th>\n",
              "      <th>young sicca</th>\n",
              "      <th>young thus</th>\n",
              "      <th>younger</th>\n",
              "      <th>your</th>\n",
              "      <th>your bitch</th>\n",
              "      <th>your fucking</th>\n",
              "      <th>your fussy</th>\n",
              "      <th>your girl</th>\n",
              "      <th>your opinion</th>\n",
              "      <th>your opinion irrelevant</th>\n",
              "      <th>youth</th>\n",
              "      <th>ze</th>\n",
              "      <th>zero</th>\n",
              "      <th>zero birch</th>\n",
              "      <th>zero hoe</th>\n",
              "      <th>zimmerman</th>\n",
              "      <th>zip</th>\n",
              "      <th>zone</th>\n",
              "      <th>zone nn</th>\n",
              "    </tr>\n",
              "  </thead>\n",
              "  <tbody>\n",
              "    <tr>\n",
              "      <th>0</th>\n",
              "      <td>0.0</td>\n",
              "      <td>0.0</td>\n",
              "      <td>0.0</td>\n",
              "      <td>0.0</td>\n",
              "      <td>0.0</td>\n",
              "      <td>0.0</td>\n",
              "      <td>0.0</td>\n",
              "      <td>0.0</td>\n",
              "      <td>0.0</td>\n",
              "      <td>0.0</td>\n",
              "      <td>0.0</td>\n",
              "      <td>0.0</td>\n",
              "      <td>0.0</td>\n",
              "      <td>0.0</td>\n",
              "      <td>0.0</td>\n",
              "      <td>0.0</td>\n",
              "      <td>0.0</td>\n",
              "      <td>0.000000</td>\n",
              "      <td>0.0</td>\n",
              "      <td>0.0</td>\n",
              "      <td>0.0</td>\n",
              "      <td>0.0</td>\n",
              "      <td>0.0</td>\n",
              "      <td>0.0</td>\n",
              "      <td>0.0</td>\n",
              "      <td>0.0</td>\n",
              "      <td>0.0</td>\n",
              "      <td>0.0</td>\n",
              "      <td>0.0</td>\n",
              "      <td>0.0</td>\n",
              "      <td>0.0</td>\n",
              "      <td>0.0</td>\n",
              "      <td>0.0</td>\n",
              "      <td>0.0</td>\n",
              "      <td>0.0</td>\n",
              "      <td>0.0</td>\n",
              "      <td>0.0</td>\n",
              "      <td>0.0</td>\n",
              "      <td>0.0</td>\n",
              "      <td>0.0</td>\n",
              "      <td>...</td>\n",
              "      <td>0.0</td>\n",
              "      <td>0.0</td>\n",
              "      <td>0.0</td>\n",
              "      <td>0.0</td>\n",
              "      <td>0.0</td>\n",
              "      <td>0.0</td>\n",
              "      <td>0.0</td>\n",
              "      <td>0.0</td>\n",
              "      <td>0.0</td>\n",
              "      <td>0.000000</td>\n",
              "      <td>0.0</td>\n",
              "      <td>0.0</td>\n",
              "      <td>0.0</td>\n",
              "      <td>0.0</td>\n",
              "      <td>0.0</td>\n",
              "      <td>0.0</td>\n",
              "      <td>0.0</td>\n",
              "      <td>0.0</td>\n",
              "      <td>0.0</td>\n",
              "      <td>0.0</td>\n",
              "      <td>0.0</td>\n",
              "      <td>0.0</td>\n",
              "      <td>0.0</td>\n",
              "      <td>0.0</td>\n",
              "      <td>0.0</td>\n",
              "      <td>0.0</td>\n",
              "      <td>0.0</td>\n",
              "      <td>0.0</td>\n",
              "      <td>0.0</td>\n",
              "      <td>0.0</td>\n",
              "      <td>0.0</td>\n",
              "      <td>0.0</td>\n",
              "      <td>0.0</td>\n",
              "      <td>0.0</td>\n",
              "      <td>0.0</td>\n",
              "      <td>0.0</td>\n",
              "      <td>0.0</td>\n",
              "      <td>0.0</td>\n",
              "      <td>0.0</td>\n",
              "      <td>0.0</td>\n",
              "    </tr>\n",
              "    <tr>\n",
              "      <th>1</th>\n",
              "      <td>0.0</td>\n",
              "      <td>0.0</td>\n",
              "      <td>0.0</td>\n",
              "      <td>0.0</td>\n",
              "      <td>0.0</td>\n",
              "      <td>0.0</td>\n",
              "      <td>0.0</td>\n",
              "      <td>0.0</td>\n",
              "      <td>0.0</td>\n",
              "      <td>0.0</td>\n",
              "      <td>0.0</td>\n",
              "      <td>0.0</td>\n",
              "      <td>0.0</td>\n",
              "      <td>0.0</td>\n",
              "      <td>0.0</td>\n",
              "      <td>0.0</td>\n",
              "      <td>0.0</td>\n",
              "      <td>0.304751</td>\n",
              "      <td>0.0</td>\n",
              "      <td>0.0</td>\n",
              "      <td>0.0</td>\n",
              "      <td>0.0</td>\n",
              "      <td>0.0</td>\n",
              "      <td>0.0</td>\n",
              "      <td>0.0</td>\n",
              "      <td>0.0</td>\n",
              "      <td>0.0</td>\n",
              "      <td>0.0</td>\n",
              "      <td>0.0</td>\n",
              "      <td>0.0</td>\n",
              "      <td>0.0</td>\n",
              "      <td>0.0</td>\n",
              "      <td>0.0</td>\n",
              "      <td>0.0</td>\n",
              "      <td>0.0</td>\n",
              "      <td>0.0</td>\n",
              "      <td>0.0</td>\n",
              "      <td>0.0</td>\n",
              "      <td>0.0</td>\n",
              "      <td>0.0</td>\n",
              "      <td>...</td>\n",
              "      <td>0.0</td>\n",
              "      <td>0.0</td>\n",
              "      <td>0.0</td>\n",
              "      <td>0.0</td>\n",
              "      <td>0.0</td>\n",
              "      <td>0.0</td>\n",
              "      <td>0.0</td>\n",
              "      <td>0.0</td>\n",
              "      <td>0.0</td>\n",
              "      <td>0.000000</td>\n",
              "      <td>0.0</td>\n",
              "      <td>0.0</td>\n",
              "      <td>0.0</td>\n",
              "      <td>0.0</td>\n",
              "      <td>0.0</td>\n",
              "      <td>0.0</td>\n",
              "      <td>0.0</td>\n",
              "      <td>0.0</td>\n",
              "      <td>0.0</td>\n",
              "      <td>0.0</td>\n",
              "      <td>0.0</td>\n",
              "      <td>0.0</td>\n",
              "      <td>0.0</td>\n",
              "      <td>0.0</td>\n",
              "      <td>0.0</td>\n",
              "      <td>0.0</td>\n",
              "      <td>0.0</td>\n",
              "      <td>0.0</td>\n",
              "      <td>0.0</td>\n",
              "      <td>0.0</td>\n",
              "      <td>0.0</td>\n",
              "      <td>0.0</td>\n",
              "      <td>0.0</td>\n",
              "      <td>0.0</td>\n",
              "      <td>0.0</td>\n",
              "      <td>0.0</td>\n",
              "      <td>0.0</td>\n",
              "      <td>0.0</td>\n",
              "      <td>0.0</td>\n",
              "      <td>0.0</td>\n",
              "    </tr>\n",
              "    <tr>\n",
              "      <th>2</th>\n",
              "      <td>0.0</td>\n",
              "      <td>0.0</td>\n",
              "      <td>0.0</td>\n",
              "      <td>0.0</td>\n",
              "      <td>0.0</td>\n",
              "      <td>0.0</td>\n",
              "      <td>0.0</td>\n",
              "      <td>0.0</td>\n",
              "      <td>0.0</td>\n",
              "      <td>0.0</td>\n",
              "      <td>0.0</td>\n",
              "      <td>0.0</td>\n",
              "      <td>0.0</td>\n",
              "      <td>0.0</td>\n",
              "      <td>0.0</td>\n",
              "      <td>0.0</td>\n",
              "      <td>0.0</td>\n",
              "      <td>0.000000</td>\n",
              "      <td>0.0</td>\n",
              "      <td>0.0</td>\n",
              "      <td>0.0</td>\n",
              "      <td>0.0</td>\n",
              "      <td>0.0</td>\n",
              "      <td>0.0</td>\n",
              "      <td>0.0</td>\n",
              "      <td>0.0</td>\n",
              "      <td>0.0</td>\n",
              "      <td>0.0</td>\n",
              "      <td>0.0</td>\n",
              "      <td>0.0</td>\n",
              "      <td>0.0</td>\n",
              "      <td>0.0</td>\n",
              "      <td>0.0</td>\n",
              "      <td>0.0</td>\n",
              "      <td>0.0</td>\n",
              "      <td>0.0</td>\n",
              "      <td>0.0</td>\n",
              "      <td>0.0</td>\n",
              "      <td>0.0</td>\n",
              "      <td>0.0</td>\n",
              "      <td>...</td>\n",
              "      <td>0.0</td>\n",
              "      <td>0.0</td>\n",
              "      <td>0.0</td>\n",
              "      <td>0.0</td>\n",
              "      <td>0.0</td>\n",
              "      <td>0.0</td>\n",
              "      <td>0.0</td>\n",
              "      <td>0.0</td>\n",
              "      <td>0.0</td>\n",
              "      <td>0.000000</td>\n",
              "      <td>0.0</td>\n",
              "      <td>0.0</td>\n",
              "      <td>0.0</td>\n",
              "      <td>0.0</td>\n",
              "      <td>0.0</td>\n",
              "      <td>0.0</td>\n",
              "      <td>0.0</td>\n",
              "      <td>0.0</td>\n",
              "      <td>0.0</td>\n",
              "      <td>0.0</td>\n",
              "      <td>0.0</td>\n",
              "      <td>0.0</td>\n",
              "      <td>0.0</td>\n",
              "      <td>0.0</td>\n",
              "      <td>0.0</td>\n",
              "      <td>0.0</td>\n",
              "      <td>0.0</td>\n",
              "      <td>0.0</td>\n",
              "      <td>0.0</td>\n",
              "      <td>0.0</td>\n",
              "      <td>0.0</td>\n",
              "      <td>0.0</td>\n",
              "      <td>0.0</td>\n",
              "      <td>0.0</td>\n",
              "      <td>0.0</td>\n",
              "      <td>0.0</td>\n",
              "      <td>0.0</td>\n",
              "      <td>0.0</td>\n",
              "      <td>0.0</td>\n",
              "      <td>0.0</td>\n",
              "    </tr>\n",
              "    <tr>\n",
              "      <th>3</th>\n",
              "      <td>0.0</td>\n",
              "      <td>0.0</td>\n",
              "      <td>0.0</td>\n",
              "      <td>0.0</td>\n",
              "      <td>0.0</td>\n",
              "      <td>0.0</td>\n",
              "      <td>0.0</td>\n",
              "      <td>0.0</td>\n",
              "      <td>0.0</td>\n",
              "      <td>0.0</td>\n",
              "      <td>0.0</td>\n",
              "      <td>0.0</td>\n",
              "      <td>0.0</td>\n",
              "      <td>0.0</td>\n",
              "      <td>0.0</td>\n",
              "      <td>0.0</td>\n",
              "      <td>0.0</td>\n",
              "      <td>0.000000</td>\n",
              "      <td>0.0</td>\n",
              "      <td>0.0</td>\n",
              "      <td>0.0</td>\n",
              "      <td>0.0</td>\n",
              "      <td>0.0</td>\n",
              "      <td>0.0</td>\n",
              "      <td>0.0</td>\n",
              "      <td>0.0</td>\n",
              "      <td>0.0</td>\n",
              "      <td>0.0</td>\n",
              "      <td>0.0</td>\n",
              "      <td>0.0</td>\n",
              "      <td>0.0</td>\n",
              "      <td>0.0</td>\n",
              "      <td>0.0</td>\n",
              "      <td>0.0</td>\n",
              "      <td>0.0</td>\n",
              "      <td>0.0</td>\n",
              "      <td>0.0</td>\n",
              "      <td>0.0</td>\n",
              "      <td>0.0</td>\n",
              "      <td>0.0</td>\n",
              "      <td>...</td>\n",
              "      <td>0.0</td>\n",
              "      <td>0.0</td>\n",
              "      <td>0.0</td>\n",
              "      <td>0.0</td>\n",
              "      <td>0.0</td>\n",
              "      <td>0.0</td>\n",
              "      <td>0.0</td>\n",
              "      <td>0.0</td>\n",
              "      <td>0.0</td>\n",
              "      <td>0.000000</td>\n",
              "      <td>0.0</td>\n",
              "      <td>0.0</td>\n",
              "      <td>0.0</td>\n",
              "      <td>0.0</td>\n",
              "      <td>0.0</td>\n",
              "      <td>0.0</td>\n",
              "      <td>0.0</td>\n",
              "      <td>0.0</td>\n",
              "      <td>0.0</td>\n",
              "      <td>0.0</td>\n",
              "      <td>0.0</td>\n",
              "      <td>0.0</td>\n",
              "      <td>0.0</td>\n",
              "      <td>0.0</td>\n",
              "      <td>0.0</td>\n",
              "      <td>0.0</td>\n",
              "      <td>0.0</td>\n",
              "      <td>0.0</td>\n",
              "      <td>0.0</td>\n",
              "      <td>0.0</td>\n",
              "      <td>0.0</td>\n",
              "      <td>0.0</td>\n",
              "      <td>0.0</td>\n",
              "      <td>0.0</td>\n",
              "      <td>0.0</td>\n",
              "      <td>0.0</td>\n",
              "      <td>0.0</td>\n",
              "      <td>0.0</td>\n",
              "      <td>0.0</td>\n",
              "      <td>0.0</td>\n",
              "    </tr>\n",
              "    <tr>\n",
              "      <th>4</th>\n",
              "      <td>0.0</td>\n",
              "      <td>0.0</td>\n",
              "      <td>0.0</td>\n",
              "      <td>0.0</td>\n",
              "      <td>0.0</td>\n",
              "      <td>0.0</td>\n",
              "      <td>0.0</td>\n",
              "      <td>0.0</td>\n",
              "      <td>0.0</td>\n",
              "      <td>0.0</td>\n",
              "      <td>0.0</td>\n",
              "      <td>0.0</td>\n",
              "      <td>0.0</td>\n",
              "      <td>0.0</td>\n",
              "      <td>0.0</td>\n",
              "      <td>0.0</td>\n",
              "      <td>0.0</td>\n",
              "      <td>0.000000</td>\n",
              "      <td>0.0</td>\n",
              "      <td>0.0</td>\n",
              "      <td>0.0</td>\n",
              "      <td>0.0</td>\n",
              "      <td>0.0</td>\n",
              "      <td>0.0</td>\n",
              "      <td>0.0</td>\n",
              "      <td>0.0</td>\n",
              "      <td>0.0</td>\n",
              "      <td>0.0</td>\n",
              "      <td>0.0</td>\n",
              "      <td>0.0</td>\n",
              "      <td>0.0</td>\n",
              "      <td>0.0</td>\n",
              "      <td>0.0</td>\n",
              "      <td>0.0</td>\n",
              "      <td>0.0</td>\n",
              "      <td>0.0</td>\n",
              "      <td>0.0</td>\n",
              "      <td>0.0</td>\n",
              "      <td>0.0</td>\n",
              "      <td>0.0</td>\n",
              "      <td>...</td>\n",
              "      <td>0.0</td>\n",
              "      <td>0.0</td>\n",
              "      <td>0.0</td>\n",
              "      <td>0.0</td>\n",
              "      <td>0.0</td>\n",
              "      <td>0.0</td>\n",
              "      <td>0.0</td>\n",
              "      <td>0.0</td>\n",
              "      <td>0.0</td>\n",
              "      <td>0.000000</td>\n",
              "      <td>0.0</td>\n",
              "      <td>0.0</td>\n",
              "      <td>0.0</td>\n",
              "      <td>0.0</td>\n",
              "      <td>0.0</td>\n",
              "      <td>0.0</td>\n",
              "      <td>0.0</td>\n",
              "      <td>0.0</td>\n",
              "      <td>0.0</td>\n",
              "      <td>0.0</td>\n",
              "      <td>0.0</td>\n",
              "      <td>0.0</td>\n",
              "      <td>0.0</td>\n",
              "      <td>0.0</td>\n",
              "      <td>0.0</td>\n",
              "      <td>0.0</td>\n",
              "      <td>0.0</td>\n",
              "      <td>0.0</td>\n",
              "      <td>0.0</td>\n",
              "      <td>0.0</td>\n",
              "      <td>0.0</td>\n",
              "      <td>0.0</td>\n",
              "      <td>0.0</td>\n",
              "      <td>0.0</td>\n",
              "      <td>0.0</td>\n",
              "      <td>0.0</td>\n",
              "      <td>0.0</td>\n",
              "      <td>0.0</td>\n",
              "      <td>0.0</td>\n",
              "      <td>0.0</td>\n",
              "    </tr>\n",
              "    <tr>\n",
              "      <th>...</th>\n",
              "      <td>...</td>\n",
              "      <td>...</td>\n",
              "      <td>...</td>\n",
              "      <td>...</td>\n",
              "      <td>...</td>\n",
              "      <td>...</td>\n",
              "      <td>...</td>\n",
              "      <td>...</td>\n",
              "      <td>...</td>\n",
              "      <td>...</td>\n",
              "      <td>...</td>\n",
              "      <td>...</td>\n",
              "      <td>...</td>\n",
              "      <td>...</td>\n",
              "      <td>...</td>\n",
              "      <td>...</td>\n",
              "      <td>...</td>\n",
              "      <td>...</td>\n",
              "      <td>...</td>\n",
              "      <td>...</td>\n",
              "      <td>...</td>\n",
              "      <td>...</td>\n",
              "      <td>...</td>\n",
              "      <td>...</td>\n",
              "      <td>...</td>\n",
              "      <td>...</td>\n",
              "      <td>...</td>\n",
              "      <td>...</td>\n",
              "      <td>...</td>\n",
              "      <td>...</td>\n",
              "      <td>...</td>\n",
              "      <td>...</td>\n",
              "      <td>...</td>\n",
              "      <td>...</td>\n",
              "      <td>...</td>\n",
              "      <td>...</td>\n",
              "      <td>...</td>\n",
              "      <td>...</td>\n",
              "      <td>...</td>\n",
              "      <td>...</td>\n",
              "      <td>...</td>\n",
              "      <td>...</td>\n",
              "      <td>...</td>\n",
              "      <td>...</td>\n",
              "      <td>...</td>\n",
              "      <td>...</td>\n",
              "      <td>...</td>\n",
              "      <td>...</td>\n",
              "      <td>...</td>\n",
              "      <td>...</td>\n",
              "      <td>...</td>\n",
              "      <td>...</td>\n",
              "      <td>...</td>\n",
              "      <td>...</td>\n",
              "      <td>...</td>\n",
              "      <td>...</td>\n",
              "      <td>...</td>\n",
              "      <td>...</td>\n",
              "      <td>...</td>\n",
              "      <td>...</td>\n",
              "      <td>...</td>\n",
              "      <td>...</td>\n",
              "      <td>...</td>\n",
              "      <td>...</td>\n",
              "      <td>...</td>\n",
              "      <td>...</td>\n",
              "      <td>...</td>\n",
              "      <td>...</td>\n",
              "      <td>...</td>\n",
              "      <td>...</td>\n",
              "      <td>...</td>\n",
              "      <td>...</td>\n",
              "      <td>...</td>\n",
              "      <td>...</td>\n",
              "      <td>...</td>\n",
              "      <td>...</td>\n",
              "      <td>...</td>\n",
              "      <td>...</td>\n",
              "      <td>...</td>\n",
              "      <td>...</td>\n",
              "      <td>...</td>\n",
              "    </tr>\n",
              "    <tr>\n",
              "      <th>24778</th>\n",
              "      <td>0.0</td>\n",
              "      <td>0.0</td>\n",
              "      <td>0.0</td>\n",
              "      <td>0.0</td>\n",
              "      <td>0.0</td>\n",
              "      <td>0.0</td>\n",
              "      <td>0.0</td>\n",
              "      <td>0.0</td>\n",
              "      <td>0.0</td>\n",
              "      <td>0.0</td>\n",
              "      <td>0.0</td>\n",
              "      <td>0.0</td>\n",
              "      <td>0.0</td>\n",
              "      <td>0.0</td>\n",
              "      <td>0.0</td>\n",
              "      <td>0.0</td>\n",
              "      <td>0.0</td>\n",
              "      <td>0.000000</td>\n",
              "      <td>0.0</td>\n",
              "      <td>0.0</td>\n",
              "      <td>0.0</td>\n",
              "      <td>0.0</td>\n",
              "      <td>0.0</td>\n",
              "      <td>0.0</td>\n",
              "      <td>0.0</td>\n",
              "      <td>0.0</td>\n",
              "      <td>0.0</td>\n",
              "      <td>0.0</td>\n",
              "      <td>0.0</td>\n",
              "      <td>0.0</td>\n",
              "      <td>0.0</td>\n",
              "      <td>0.0</td>\n",
              "      <td>0.0</td>\n",
              "      <td>0.0</td>\n",
              "      <td>0.0</td>\n",
              "      <td>0.0</td>\n",
              "      <td>0.0</td>\n",
              "      <td>0.0</td>\n",
              "      <td>0.0</td>\n",
              "      <td>0.0</td>\n",
              "      <td>...</td>\n",
              "      <td>0.0</td>\n",
              "      <td>0.0</td>\n",
              "      <td>0.0</td>\n",
              "      <td>0.0</td>\n",
              "      <td>0.0</td>\n",
              "      <td>0.0</td>\n",
              "      <td>0.0</td>\n",
              "      <td>0.0</td>\n",
              "      <td>0.0</td>\n",
              "      <td>0.000000</td>\n",
              "      <td>0.0</td>\n",
              "      <td>0.0</td>\n",
              "      <td>0.0</td>\n",
              "      <td>0.0</td>\n",
              "      <td>0.0</td>\n",
              "      <td>0.0</td>\n",
              "      <td>0.0</td>\n",
              "      <td>0.0</td>\n",
              "      <td>0.0</td>\n",
              "      <td>0.0</td>\n",
              "      <td>0.0</td>\n",
              "      <td>0.0</td>\n",
              "      <td>0.0</td>\n",
              "      <td>0.0</td>\n",
              "      <td>0.0</td>\n",
              "      <td>0.0</td>\n",
              "      <td>0.0</td>\n",
              "      <td>0.0</td>\n",
              "      <td>0.0</td>\n",
              "      <td>0.0</td>\n",
              "      <td>0.0</td>\n",
              "      <td>0.0</td>\n",
              "      <td>0.0</td>\n",
              "      <td>0.0</td>\n",
              "      <td>0.0</td>\n",
              "      <td>0.0</td>\n",
              "      <td>0.0</td>\n",
              "      <td>0.0</td>\n",
              "      <td>0.0</td>\n",
              "      <td>0.0</td>\n",
              "    </tr>\n",
              "    <tr>\n",
              "      <th>24779</th>\n",
              "      <td>0.0</td>\n",
              "      <td>0.0</td>\n",
              "      <td>0.0</td>\n",
              "      <td>0.0</td>\n",
              "      <td>0.0</td>\n",
              "      <td>0.0</td>\n",
              "      <td>0.0</td>\n",
              "      <td>0.0</td>\n",
              "      <td>0.0</td>\n",
              "      <td>0.0</td>\n",
              "      <td>0.0</td>\n",
              "      <td>0.0</td>\n",
              "      <td>0.0</td>\n",
              "      <td>0.0</td>\n",
              "      <td>0.0</td>\n",
              "      <td>0.0</td>\n",
              "      <td>0.0</td>\n",
              "      <td>0.000000</td>\n",
              "      <td>0.0</td>\n",
              "      <td>0.0</td>\n",
              "      <td>0.0</td>\n",
              "      <td>0.0</td>\n",
              "      <td>0.0</td>\n",
              "      <td>0.0</td>\n",
              "      <td>0.0</td>\n",
              "      <td>0.0</td>\n",
              "      <td>0.0</td>\n",
              "      <td>0.0</td>\n",
              "      <td>0.0</td>\n",
              "      <td>0.0</td>\n",
              "      <td>0.0</td>\n",
              "      <td>0.0</td>\n",
              "      <td>0.0</td>\n",
              "      <td>0.0</td>\n",
              "      <td>0.0</td>\n",
              "      <td>0.0</td>\n",
              "      <td>0.0</td>\n",
              "      <td>0.0</td>\n",
              "      <td>0.0</td>\n",
              "      <td>0.0</td>\n",
              "      <td>...</td>\n",
              "      <td>0.0</td>\n",
              "      <td>0.0</td>\n",
              "      <td>0.0</td>\n",
              "      <td>0.0</td>\n",
              "      <td>0.0</td>\n",
              "      <td>0.0</td>\n",
              "      <td>0.0</td>\n",
              "      <td>0.0</td>\n",
              "      <td>0.0</td>\n",
              "      <td>0.000000</td>\n",
              "      <td>0.0</td>\n",
              "      <td>0.0</td>\n",
              "      <td>0.0</td>\n",
              "      <td>0.0</td>\n",
              "      <td>0.0</td>\n",
              "      <td>0.0</td>\n",
              "      <td>0.0</td>\n",
              "      <td>0.0</td>\n",
              "      <td>0.0</td>\n",
              "      <td>0.0</td>\n",
              "      <td>0.0</td>\n",
              "      <td>0.0</td>\n",
              "      <td>0.0</td>\n",
              "      <td>0.0</td>\n",
              "      <td>0.0</td>\n",
              "      <td>0.0</td>\n",
              "      <td>0.0</td>\n",
              "      <td>0.0</td>\n",
              "      <td>0.0</td>\n",
              "      <td>0.0</td>\n",
              "      <td>0.0</td>\n",
              "      <td>0.0</td>\n",
              "      <td>0.0</td>\n",
              "      <td>0.0</td>\n",
              "      <td>0.0</td>\n",
              "      <td>0.0</td>\n",
              "      <td>0.0</td>\n",
              "      <td>0.0</td>\n",
              "      <td>0.0</td>\n",
              "      <td>0.0</td>\n",
              "    </tr>\n",
              "    <tr>\n",
              "      <th>24780</th>\n",
              "      <td>0.0</td>\n",
              "      <td>0.0</td>\n",
              "      <td>0.0</td>\n",
              "      <td>0.0</td>\n",
              "      <td>0.0</td>\n",
              "      <td>0.0</td>\n",
              "      <td>0.0</td>\n",
              "      <td>0.0</td>\n",
              "      <td>0.0</td>\n",
              "      <td>0.0</td>\n",
              "      <td>0.0</td>\n",
              "      <td>0.0</td>\n",
              "      <td>0.0</td>\n",
              "      <td>0.0</td>\n",
              "      <td>0.0</td>\n",
              "      <td>0.0</td>\n",
              "      <td>0.0</td>\n",
              "      <td>0.000000</td>\n",
              "      <td>0.0</td>\n",
              "      <td>0.0</td>\n",
              "      <td>0.0</td>\n",
              "      <td>0.0</td>\n",
              "      <td>0.0</td>\n",
              "      <td>0.0</td>\n",
              "      <td>0.0</td>\n",
              "      <td>0.0</td>\n",
              "      <td>0.0</td>\n",
              "      <td>0.0</td>\n",
              "      <td>0.0</td>\n",
              "      <td>0.0</td>\n",
              "      <td>0.0</td>\n",
              "      <td>0.0</td>\n",
              "      <td>0.0</td>\n",
              "      <td>0.0</td>\n",
              "      <td>0.0</td>\n",
              "      <td>0.0</td>\n",
              "      <td>0.0</td>\n",
              "      <td>0.0</td>\n",
              "      <td>0.0</td>\n",
              "      <td>0.0</td>\n",
              "      <td>...</td>\n",
              "      <td>0.0</td>\n",
              "      <td>0.0</td>\n",
              "      <td>0.0</td>\n",
              "      <td>0.0</td>\n",
              "      <td>0.0</td>\n",
              "      <td>0.0</td>\n",
              "      <td>0.0</td>\n",
              "      <td>0.0</td>\n",
              "      <td>0.0</td>\n",
              "      <td>0.260361</td>\n",
              "      <td>0.0</td>\n",
              "      <td>0.0</td>\n",
              "      <td>0.0</td>\n",
              "      <td>0.0</td>\n",
              "      <td>0.0</td>\n",
              "      <td>0.0</td>\n",
              "      <td>0.0</td>\n",
              "      <td>0.0</td>\n",
              "      <td>0.0</td>\n",
              "      <td>0.0</td>\n",
              "      <td>0.0</td>\n",
              "      <td>0.0</td>\n",
              "      <td>0.0</td>\n",
              "      <td>0.0</td>\n",
              "      <td>0.0</td>\n",
              "      <td>0.0</td>\n",
              "      <td>0.0</td>\n",
              "      <td>0.0</td>\n",
              "      <td>0.0</td>\n",
              "      <td>0.0</td>\n",
              "      <td>0.0</td>\n",
              "      <td>0.0</td>\n",
              "      <td>0.0</td>\n",
              "      <td>0.0</td>\n",
              "      <td>0.0</td>\n",
              "      <td>0.0</td>\n",
              "      <td>0.0</td>\n",
              "      <td>0.0</td>\n",
              "      <td>0.0</td>\n",
              "      <td>0.0</td>\n",
              "    </tr>\n",
              "    <tr>\n",
              "      <th>24781</th>\n",
              "      <td>0.0</td>\n",
              "      <td>0.0</td>\n",
              "      <td>0.0</td>\n",
              "      <td>0.0</td>\n",
              "      <td>0.0</td>\n",
              "      <td>0.0</td>\n",
              "      <td>0.0</td>\n",
              "      <td>0.0</td>\n",
              "      <td>0.0</td>\n",
              "      <td>0.0</td>\n",
              "      <td>0.0</td>\n",
              "      <td>0.0</td>\n",
              "      <td>0.0</td>\n",
              "      <td>0.0</td>\n",
              "      <td>0.0</td>\n",
              "      <td>0.0</td>\n",
              "      <td>0.0</td>\n",
              "      <td>0.000000</td>\n",
              "      <td>0.0</td>\n",
              "      <td>0.0</td>\n",
              "      <td>0.0</td>\n",
              "      <td>0.0</td>\n",
              "      <td>0.0</td>\n",
              "      <td>0.0</td>\n",
              "      <td>0.0</td>\n",
              "      <td>0.0</td>\n",
              "      <td>0.0</td>\n",
              "      <td>0.0</td>\n",
              "      <td>0.0</td>\n",
              "      <td>0.0</td>\n",
              "      <td>0.0</td>\n",
              "      <td>0.0</td>\n",
              "      <td>0.0</td>\n",
              "      <td>0.0</td>\n",
              "      <td>0.0</td>\n",
              "      <td>0.0</td>\n",
              "      <td>0.0</td>\n",
              "      <td>0.0</td>\n",
              "      <td>0.0</td>\n",
              "      <td>0.0</td>\n",
              "      <td>...</td>\n",
              "      <td>0.0</td>\n",
              "      <td>0.0</td>\n",
              "      <td>0.0</td>\n",
              "      <td>0.0</td>\n",
              "      <td>0.0</td>\n",
              "      <td>0.0</td>\n",
              "      <td>0.0</td>\n",
              "      <td>0.0</td>\n",
              "      <td>0.0</td>\n",
              "      <td>0.000000</td>\n",
              "      <td>0.0</td>\n",
              "      <td>0.0</td>\n",
              "      <td>0.0</td>\n",
              "      <td>0.0</td>\n",
              "      <td>0.0</td>\n",
              "      <td>0.0</td>\n",
              "      <td>0.0</td>\n",
              "      <td>0.0</td>\n",
              "      <td>0.0</td>\n",
              "      <td>0.0</td>\n",
              "      <td>0.0</td>\n",
              "      <td>0.0</td>\n",
              "      <td>0.0</td>\n",
              "      <td>0.0</td>\n",
              "      <td>0.0</td>\n",
              "      <td>0.0</td>\n",
              "      <td>0.0</td>\n",
              "      <td>0.0</td>\n",
              "      <td>0.0</td>\n",
              "      <td>0.0</td>\n",
              "      <td>0.0</td>\n",
              "      <td>0.0</td>\n",
              "      <td>0.0</td>\n",
              "      <td>0.0</td>\n",
              "      <td>0.0</td>\n",
              "      <td>0.0</td>\n",
              "      <td>0.0</td>\n",
              "      <td>0.0</td>\n",
              "      <td>0.0</td>\n",
              "      <td>0.0</td>\n",
              "    </tr>\n",
              "    <tr>\n",
              "      <th>24782</th>\n",
              "      <td>0.0</td>\n",
              "      <td>0.0</td>\n",
              "      <td>0.0</td>\n",
              "      <td>0.0</td>\n",
              "      <td>0.0</td>\n",
              "      <td>0.0</td>\n",
              "      <td>0.0</td>\n",
              "      <td>0.0</td>\n",
              "      <td>0.0</td>\n",
              "      <td>0.0</td>\n",
              "      <td>0.0</td>\n",
              "      <td>0.0</td>\n",
              "      <td>0.0</td>\n",
              "      <td>0.0</td>\n",
              "      <td>0.0</td>\n",
              "      <td>0.0</td>\n",
              "      <td>0.0</td>\n",
              "      <td>0.000000</td>\n",
              "      <td>0.0</td>\n",
              "      <td>0.0</td>\n",
              "      <td>0.0</td>\n",
              "      <td>0.0</td>\n",
              "      <td>0.0</td>\n",
              "      <td>0.0</td>\n",
              "      <td>0.0</td>\n",
              "      <td>0.0</td>\n",
              "      <td>0.0</td>\n",
              "      <td>0.0</td>\n",
              "      <td>0.0</td>\n",
              "      <td>0.0</td>\n",
              "      <td>0.0</td>\n",
              "      <td>0.0</td>\n",
              "      <td>0.0</td>\n",
              "      <td>0.0</td>\n",
              "      <td>0.0</td>\n",
              "      <td>0.0</td>\n",
              "      <td>0.0</td>\n",
              "      <td>0.0</td>\n",
              "      <td>0.0</td>\n",
              "      <td>0.0</td>\n",
              "      <td>...</td>\n",
              "      <td>0.0</td>\n",
              "      <td>0.0</td>\n",
              "      <td>0.0</td>\n",
              "      <td>0.0</td>\n",
              "      <td>0.0</td>\n",
              "      <td>0.0</td>\n",
              "      <td>0.0</td>\n",
              "      <td>0.0</td>\n",
              "      <td>0.0</td>\n",
              "      <td>0.000000</td>\n",
              "      <td>0.0</td>\n",
              "      <td>0.0</td>\n",
              "      <td>0.0</td>\n",
              "      <td>0.0</td>\n",
              "      <td>0.0</td>\n",
              "      <td>0.0</td>\n",
              "      <td>0.0</td>\n",
              "      <td>0.0</td>\n",
              "      <td>0.0</td>\n",
              "      <td>0.0</td>\n",
              "      <td>0.0</td>\n",
              "      <td>0.0</td>\n",
              "      <td>0.0</td>\n",
              "      <td>0.0</td>\n",
              "      <td>0.0</td>\n",
              "      <td>0.0</td>\n",
              "      <td>0.0</td>\n",
              "      <td>0.0</td>\n",
              "      <td>0.0</td>\n",
              "      <td>0.0</td>\n",
              "      <td>0.0</td>\n",
              "      <td>0.0</td>\n",
              "      <td>0.0</td>\n",
              "      <td>0.0</td>\n",
              "      <td>0.0</td>\n",
              "      <td>0.0</td>\n",
              "      <td>0.0</td>\n",
              "      <td>0.0</td>\n",
              "      <td>0.0</td>\n",
              "      <td>0.0</td>\n",
              "    </tr>\n",
              "  </tbody>\n",
              "</table>\n",
              "<p>24783 rows × 18468 columns</p>\n",
              "</div>"
            ],
            "text/plain": [
              "       0221  0221 numberurl   10  100  ...  zimmerman  zip  zone  zone nn\n",
              "0       0.0             0.0  0.0  0.0  ...        0.0  0.0   0.0      0.0\n",
              "1       0.0             0.0  0.0  0.0  ...        0.0  0.0   0.0      0.0\n",
              "2       0.0             0.0  0.0  0.0  ...        0.0  0.0   0.0      0.0\n",
              "3       0.0             0.0  0.0  0.0  ...        0.0  0.0   0.0      0.0\n",
              "4       0.0             0.0  0.0  0.0  ...        0.0  0.0   0.0      0.0\n",
              "...     ...             ...  ...  ...  ...        ...  ...   ...      ...\n",
              "24778   0.0             0.0  0.0  0.0  ...        0.0  0.0   0.0      0.0\n",
              "24779   0.0             0.0  0.0  0.0  ...        0.0  0.0   0.0      0.0\n",
              "24780   0.0             0.0  0.0  0.0  ...        0.0  0.0   0.0      0.0\n",
              "24781   0.0             0.0  0.0  0.0  ...        0.0  0.0   0.0      0.0\n",
              "24782   0.0             0.0  0.0  0.0  ...        0.0  0.0   0.0      0.0\n",
              "\n",
              "[24783 rows x 18468 columns]"
            ]
          },
          "metadata": {
            "tags": []
          },
          "execution_count": 17
        }
      ]
    },
    {
      "cell_type": "markdown",
      "metadata": {
        "id": "YRggm7u9I5Kz"
      },
      "source": [
        "### TFIDF + N-grams + POS Tagging"
      ]
    },
    {
      "cell_type": "code",
      "metadata": {
        "id": "RQG0EOOtSFw6"
      },
      "source": [
        "# Obtain every element from the vocabulary of the vectorizer\r\n",
        "pos_vocab = [v for i, v in enumerate(vectorizer.get_feature_names())]\r\n",
        "\r\n",
        "# Calculate the pos tags for each of this elements of the vocabulary\r\n",
        "tags = nltk.pos_tag(pos_vocab)\r\n",
        "\r\n",
        "# Builds a dictionary which contains the pos tag dor each element of the vocabulary\r\n",
        "pos_dictionary = {}\r\n",
        "for tag in tags:\r\n",
        "  word, pos_tag = tag\r\n",
        "  pos_dictionary[word]= pos_tag"
      ],
      "execution_count": 18,
      "outputs": []
    },
    {
      "cell_type": "markdown",
      "metadata": {
        "id": "72kNpjqijQWH"
      },
      "source": [
        "Then, we add the columns we need to store the number of occurrences of each POS tag"
      ]
    },
    {
      "cell_type": "code",
      "metadata": {
        "id": "o62yEnwKcWHO"
      },
      "source": [
        "possible_POS_tags = list(pos_dictionary.values())\r\n",
        "possible_POS_tags.sort()\r\n",
        "possible_POS_tags = set(possible_POS_tags)\r\n",
        "\r\n",
        "for tag in possible_POS_tags:\r\n",
        "  features_df[tag] = 0"
      ],
      "execution_count": 19,
      "outputs": []
    },
    {
      "cell_type": "code",
      "metadata": {
        "id": "SYmExT60jUXE"
      },
      "source": [
        "for i, tweet in enumerate(preprocessed_tweets):\r\n",
        "  pos_ocur = {}\r\n",
        "  for p in possible_POS_tags:\r\n",
        "    pos_ocur[p] = 0\r\n",
        "\r\n",
        "  for token in tweet:\r\n",
        "    if token in pos_dictionary:\r\n",
        "      pos_ocur[pos_dictionary[token]] += 1\r\n",
        "\r\n",
        "  for k in list(pos_ocur.keys()):\r\n",
        "    features_df.loc[i, k] = pos_ocur[k]"
      ],
      "execution_count": 20,
      "outputs": []
    },
    {
      "cell_type": "markdown",
      "metadata": {
        "id": "vWMA8cXf36eC"
      },
      "source": [
        "### TFIDF + N-grams + POS Tagging + Other Features\r\n"
      ]
    },
    {
      "cell_type": "markdown",
      "metadata": {
        "id": "C0HJ03Srg4Uv"
      },
      "source": [
        "####Sentiment Intensity Analyzer"
      ]
    },
    {
      "cell_type": "code",
      "metadata": {
        "id": "sfpBOz0Ka3vI"
      },
      "source": [
        "#Define figure where load Sentiment Intensity Analyzer of dataset\r\n",
        "sns.set(rc={'figure.figsize':(30,1)})\r\n",
        "def visualise_sentiments(data):\r\n",
        "  sns.heatmap(pd.DataFrame(data).set_index(\"Sentence\").T,center=0, annot=True, cmap = \"PiYG\")"
      ],
      "execution_count": 21,
      "outputs": []
    },
    {
      "cell_type": "code",
      "metadata": {
        "id": "LBi1nJ3SZ6do"
      },
      "source": [
        "# Obtain sentiments intensity from tweet\r\n",
        "def sentiment_analize(tweet):\r\n",
        "  sentiment_analyzer  = SentimentIntensityAnalyzer() \r\n",
        "  sentiment = sentiment_analyzer.polarity_scores(tweet)\r\n",
        "  sentiment['neg'], sentiment['pos'], sentiment['neu'], sentiment['compound']\r\n",
        "\r\n",
        "  #visualise_sentiments({\r\n",
        "  #    \"Sentence\":[\"SENTENCE\"] + tweet.split(),\r\n",
        "  #    \"Sentiment\":[sentiment_analyzer.polarity_scores(tweet)[\"compound\"]] + [sentiment_analyzer.polarity_scores(word)[\"compound\"] for word in tweet.split()]\r\n",
        "  #})\r\n",
        "  return sentiment[\"compound\"]\r\n"
      ],
      "execution_count": 22,
      "outputs": []
    },
    {
      "cell_type": "markdown",
      "metadata": {
        "id": "holdAtXQsSx4"
      },
      "source": [
        "We calculate the sentiments intensity for each of this elements of the preprocessed tweets"
      ]
    },
    {
      "cell_type": "code",
      "metadata": {
        "id": "iot0DbNFd3KT"
      },
      "source": [
        "from sklearn.preprocessing import MinMaxScaler\r\n",
        "scaler = MinMaxScaler()"
      ],
      "execution_count": 23,
      "outputs": []
    },
    {
      "cell_type": "code",
      "metadata": {
        "id": "BbnRnFS-TLjL"
      },
      "source": [
        "other_features['sentiments'] = [sentiment_analize(L) for L in X_raw]"
      ],
      "execution_count": 24,
      "outputs": []
    },
    {
      "cell_type": "code",
      "metadata": {
        "id": "iw_rSbu4jCeQ"
      },
      "source": [
        "x = other_features['sentiments'].values.reshape(-1, 1) #returns a numpy array\r\n",
        "min_max_scaler = preprocessing.MinMaxScaler()\r\n",
        "x_scaled = min_max_scaler.fit_transform(x)\r\n",
        "other_features['sentiments'] = x_scaled"
      ],
      "execution_count": 25,
      "outputs": []
    },
    {
      "cell_type": "code",
      "metadata": {
        "colab": {
          "base_uri": "https://localhost:8080/",
          "height": 204
        },
        "id": "fdrQl5zTjUaf",
        "outputId": "2c3f1c5e-898c-434d-8e6e-a624976b811e"
      },
      "source": [
        "other_features.head()"
      ],
      "execution_count": 26,
      "outputs": [
        {
          "output_type": "execute_result",
          "data": {
            "text/html": [
              "<div>\n",
              "<style scoped>\n",
              "    .dataframe tbody tr th:only-of-type {\n",
              "        vertical-align: middle;\n",
              "    }\n",
              "\n",
              "    .dataframe tbody tr th {\n",
              "        vertical-align: top;\n",
              "    }\n",
              "\n",
              "    .dataframe thead th {\n",
              "        text-align: right;\n",
              "    }\n",
              "</style>\n",
              "<table border=\"1\" class=\"dataframe\">\n",
              "  <thead>\n",
              "    <tr style=\"text-align: right;\">\n",
              "      <th></th>\n",
              "      <th>rts</th>\n",
              "      <th>sentences</th>\n",
              "      <th>words</th>\n",
              "      <th>curse</th>\n",
              "      <th>urls</th>\n",
              "      <th>hashtag</th>\n",
              "      <th>ngram_value</th>\n",
              "      <th>sentiments</th>\n",
              "    </tr>\n",
              "  </thead>\n",
              "  <tbody>\n",
              "    <tr>\n",
              "      <th>0</th>\n",
              "      <td>3</td>\n",
              "      <td>2</td>\n",
              "      <td>23</td>\n",
              "      <td>0</td>\n",
              "      <td>0</td>\n",
              "      <td>0</td>\n",
              "      <td>0.0</td>\n",
              "      <td>0.645192</td>\n",
              "    </tr>\n",
              "    <tr>\n",
              "      <th>1</th>\n",
              "      <td>5</td>\n",
              "      <td>2</td>\n",
              "      <td>14</td>\n",
              "      <td>0</td>\n",
              "      <td>0</td>\n",
              "      <td>0</td>\n",
              "      <td>0.0</td>\n",
              "      <td>0.229369</td>\n",
              "    </tr>\n",
              "    <tr>\n",
              "      <th>2</th>\n",
              "      <td>7</td>\n",
              "      <td>2</td>\n",
              "      <td>18</td>\n",
              "      <td>0</td>\n",
              "      <td>0</td>\n",
              "      <td>0</td>\n",
              "      <td>0.0</td>\n",
              "      <td>0.024101</td>\n",
              "    </tr>\n",
              "    <tr>\n",
              "      <th>3</th>\n",
              "      <td>9</td>\n",
              "      <td>1</td>\n",
              "      <td>7</td>\n",
              "      <td>0</td>\n",
              "      <td>0</td>\n",
              "      <td>0</td>\n",
              "      <td>0.0</td>\n",
              "      <td>0.688768</td>\n",
              "    </tr>\n",
              "    <tr>\n",
              "      <th>4</th>\n",
              "      <td>13</td>\n",
              "      <td>1</td>\n",
              "      <td>24</td>\n",
              "      <td>1</td>\n",
              "      <td>0</td>\n",
              "      <td>0</td>\n",
              "      <td>0.0</td>\n",
              "      <td>0.075863</td>\n",
              "    </tr>\n",
              "  </tbody>\n",
              "</table>\n",
              "</div>"
            ],
            "text/plain": [
              "   rts  sentences  words  curse  urls  hashtag  ngram_value  sentiments\n",
              "0    3          2     23      0     0        0          0.0    0.645192\n",
              "1    5          2     14      0     0        0          0.0    0.229369\n",
              "2    7          2     18      0     0        0          0.0    0.024101\n",
              "3    9          1      7      0     0        0          0.0    0.688768\n",
              "4   13          1     24      1     0        0          0.0    0.075863"
            ]
          },
          "metadata": {
            "tags": []
          },
          "execution_count": 26
        }
      ]
    },
    {
      "cell_type": "code",
      "metadata": {
        "id": "e7IsnR1sRfAB"
      },
      "source": [
        "other_features.reset_index(drop=True, inplace=True)\r\n",
        "features_df.reset_index(drop=True, inplace=True)"
      ],
      "execution_count": 27,
      "outputs": []
    },
    {
      "cell_type": "markdown",
      "metadata": {
        "id": "BZDwtRL8g4HP"
      },
      "source": [
        "We concat other features, that we calculated previously during preprocessing, and features\r\n"
      ]
    },
    {
      "cell_type": "code",
      "metadata": {
        "id": "xyJYz3ppg4Ou",
        "colab": {
          "base_uri": "https://localhost:8080/",
          "height": 287
        },
        "outputId": "75478396-1ccb-4c13-ec08-4c98ed654f54"
      },
      "source": [
        "features_df = pd.concat([features_df, other_features], axis=1)\r\n",
        "features_df.head()"
      ],
      "execution_count": 28,
      "outputs": [
        {
          "output_type": "execute_result",
          "data": {
            "text/html": [
              "<div>\n",
              "<style scoped>\n",
              "    .dataframe tbody tr th:only-of-type {\n",
              "        vertical-align: middle;\n",
              "    }\n",
              "\n",
              "    .dataframe tbody tr th {\n",
              "        vertical-align: top;\n",
              "    }\n",
              "\n",
              "    .dataframe thead th {\n",
              "        text-align: right;\n",
              "    }\n",
              "</style>\n",
              "<table border=\"1\" class=\"dataframe\">\n",
              "  <thead>\n",
              "    <tr style=\"text-align: right;\">\n",
              "      <th></th>\n",
              "      <th>0221</th>\n",
              "      <th>0221 numberurl</th>\n",
              "      <th>10</th>\n",
              "      <th>100</th>\n",
              "      <th>1000</th>\n",
              "      <th>10000</th>\n",
              "      <th>10th</th>\n",
              "      <th>11</th>\n",
              "      <th>111</th>\n",
              "      <th>12</th>\n",
              "      <th>13</th>\n",
              "      <th>14</th>\n",
              "      <th>14th</th>\n",
              "      <th>15</th>\n",
              "      <th>16</th>\n",
              "      <th>17</th>\n",
              "      <th>18</th>\n",
              "      <th>1st</th>\n",
              "      <th>1st date</th>\n",
              "      <th>1st date dont</th>\n",
              "      <th>1st person</th>\n",
              "      <th>20</th>\n",
              "      <th>20 are</th>\n",
              "      <th>200</th>\n",
              "      <th>200 date</th>\n",
              "      <th>2000</th>\n",
              "      <th>201</th>\n",
              "      <th>21</th>\n",
              "      <th>210</th>\n",
              "      <th>214</th>\n",
              "      <th>22</th>\n",
              "      <th>23</th>\n",
              "      <th>24</th>\n",
              "      <th>247</th>\n",
              "      <th>25</th>\n",
              "      <th>250</th>\n",
              "      <th>26</th>\n",
              "      <th>28</th>\n",
              "      <th>29</th>\n",
              "      <th>2nd</th>\n",
              "      <th>...</th>\n",
              "      <th>zone</th>\n",
              "      <th>zone nn</th>\n",
              "      <th>JJR</th>\n",
              "      <th>NN</th>\n",
              "      <th>VB</th>\n",
              "      <th>WP</th>\n",
              "      <th>NNS</th>\n",
              "      <th>JJ</th>\n",
              "      <th>PRP</th>\n",
              "      <th>UH</th>\n",
              "      <th>VBZ</th>\n",
              "      <th>RBR</th>\n",
              "      <th>VBD</th>\n",
              "      <th>TO</th>\n",
              "      <th>PRP$</th>\n",
              "      <th>IN</th>\n",
              "      <th>DT</th>\n",
              "      <th>CC</th>\n",
              "      <th>RBS</th>\n",
              "      <th>VBP</th>\n",
              "      <th>WRB</th>\n",
              "      <th>WDT</th>\n",
              "      <th>VBN</th>\n",
              "      <th>RP</th>\n",
              "      <th>RB</th>\n",
              "      <th>MD</th>\n",
              "      <th>FW</th>\n",
              "      <th>NNP</th>\n",
              "      <th>WP$</th>\n",
              "      <th>CD</th>\n",
              "      <th>JJS</th>\n",
              "      <th>VBG</th>\n",
              "      <th>rts</th>\n",
              "      <th>sentences</th>\n",
              "      <th>words</th>\n",
              "      <th>curse</th>\n",
              "      <th>urls</th>\n",
              "      <th>hashtag</th>\n",
              "      <th>ngram_value</th>\n",
              "      <th>sentiments</th>\n",
              "    </tr>\n",
              "  </thead>\n",
              "  <tbody>\n",
              "    <tr>\n",
              "      <th>0</th>\n",
              "      <td>0.0</td>\n",
              "      <td>0.0</td>\n",
              "      <td>0.0</td>\n",
              "      <td>0.0</td>\n",
              "      <td>0.0</td>\n",
              "      <td>0.0</td>\n",
              "      <td>0.0</td>\n",
              "      <td>0.0</td>\n",
              "      <td>0.0</td>\n",
              "      <td>0.0</td>\n",
              "      <td>0.0</td>\n",
              "      <td>0.0</td>\n",
              "      <td>0.0</td>\n",
              "      <td>0.0</td>\n",
              "      <td>0.0</td>\n",
              "      <td>0.0</td>\n",
              "      <td>0.0</td>\n",
              "      <td>0.000000</td>\n",
              "      <td>0.0</td>\n",
              "      <td>0.0</td>\n",
              "      <td>0.0</td>\n",
              "      <td>0.0</td>\n",
              "      <td>0.0</td>\n",
              "      <td>0.0</td>\n",
              "      <td>0.0</td>\n",
              "      <td>0.0</td>\n",
              "      <td>0.0</td>\n",
              "      <td>0.0</td>\n",
              "      <td>0.0</td>\n",
              "      <td>0.0</td>\n",
              "      <td>0.0</td>\n",
              "      <td>0.0</td>\n",
              "      <td>0.0</td>\n",
              "      <td>0.0</td>\n",
              "      <td>0.0</td>\n",
              "      <td>0.0</td>\n",
              "      <td>0.0</td>\n",
              "      <td>0.0</td>\n",
              "      <td>0.0</td>\n",
              "      <td>0.0</td>\n",
              "      <td>...</td>\n",
              "      <td>0.0</td>\n",
              "      <td>0.0</td>\n",
              "      <td>0</td>\n",
              "      <td>5</td>\n",
              "      <td>0</td>\n",
              "      <td>0</td>\n",
              "      <td>0</td>\n",
              "      <td>0</td>\n",
              "      <td>0</td>\n",
              "      <td>0</td>\n",
              "      <td>0</td>\n",
              "      <td>0</td>\n",
              "      <td>0</td>\n",
              "      <td>0</td>\n",
              "      <td>0</td>\n",
              "      <td>0</td>\n",
              "      <td>0</td>\n",
              "      <td>0</td>\n",
              "      <td>0</td>\n",
              "      <td>3</td>\n",
              "      <td>0</td>\n",
              "      <td>0</td>\n",
              "      <td>0</td>\n",
              "      <td>0</td>\n",
              "      <td>2</td>\n",
              "      <td>0</td>\n",
              "      <td>0</td>\n",
              "      <td>0</td>\n",
              "      <td>0</td>\n",
              "      <td>0</td>\n",
              "      <td>0</td>\n",
              "      <td>1</td>\n",
              "      <td>3</td>\n",
              "      <td>2</td>\n",
              "      <td>23</td>\n",
              "      <td>0</td>\n",
              "      <td>0</td>\n",
              "      <td>0</td>\n",
              "      <td>0.0</td>\n",
              "      <td>0.645192</td>\n",
              "    </tr>\n",
              "    <tr>\n",
              "      <th>1</th>\n",
              "      <td>0.0</td>\n",
              "      <td>0.0</td>\n",
              "      <td>0.0</td>\n",
              "      <td>0.0</td>\n",
              "      <td>0.0</td>\n",
              "      <td>0.0</td>\n",
              "      <td>0.0</td>\n",
              "      <td>0.0</td>\n",
              "      <td>0.0</td>\n",
              "      <td>0.0</td>\n",
              "      <td>0.0</td>\n",
              "      <td>0.0</td>\n",
              "      <td>0.0</td>\n",
              "      <td>0.0</td>\n",
              "      <td>0.0</td>\n",
              "      <td>0.0</td>\n",
              "      <td>0.0</td>\n",
              "      <td>0.304751</td>\n",
              "      <td>0.0</td>\n",
              "      <td>0.0</td>\n",
              "      <td>0.0</td>\n",
              "      <td>0.0</td>\n",
              "      <td>0.0</td>\n",
              "      <td>0.0</td>\n",
              "      <td>0.0</td>\n",
              "      <td>0.0</td>\n",
              "      <td>0.0</td>\n",
              "      <td>0.0</td>\n",
              "      <td>0.0</td>\n",
              "      <td>0.0</td>\n",
              "      <td>0.0</td>\n",
              "      <td>0.0</td>\n",
              "      <td>0.0</td>\n",
              "      <td>0.0</td>\n",
              "      <td>0.0</td>\n",
              "      <td>0.0</td>\n",
              "      <td>0.0</td>\n",
              "      <td>0.0</td>\n",
              "      <td>0.0</td>\n",
              "      <td>0.0</td>\n",
              "      <td>...</td>\n",
              "      <td>0.0</td>\n",
              "      <td>0.0</td>\n",
              "      <td>0</td>\n",
              "      <td>5</td>\n",
              "      <td>0</td>\n",
              "      <td>0</td>\n",
              "      <td>0</td>\n",
              "      <td>3</td>\n",
              "      <td>1</td>\n",
              "      <td>0</td>\n",
              "      <td>0</td>\n",
              "      <td>0</td>\n",
              "      <td>0</td>\n",
              "      <td>0</td>\n",
              "      <td>0</td>\n",
              "      <td>0</td>\n",
              "      <td>0</td>\n",
              "      <td>0</td>\n",
              "      <td>0</td>\n",
              "      <td>1</td>\n",
              "      <td>0</td>\n",
              "      <td>0</td>\n",
              "      <td>0</td>\n",
              "      <td>0</td>\n",
              "      <td>1</td>\n",
              "      <td>0</td>\n",
              "      <td>0</td>\n",
              "      <td>0</td>\n",
              "      <td>0</td>\n",
              "      <td>1</td>\n",
              "      <td>0</td>\n",
              "      <td>0</td>\n",
              "      <td>5</td>\n",
              "      <td>2</td>\n",
              "      <td>14</td>\n",
              "      <td>0</td>\n",
              "      <td>0</td>\n",
              "      <td>0</td>\n",
              "      <td>0.0</td>\n",
              "      <td>0.229369</td>\n",
              "    </tr>\n",
              "    <tr>\n",
              "      <th>2</th>\n",
              "      <td>0.0</td>\n",
              "      <td>0.0</td>\n",
              "      <td>0.0</td>\n",
              "      <td>0.0</td>\n",
              "      <td>0.0</td>\n",
              "      <td>0.0</td>\n",
              "      <td>0.0</td>\n",
              "      <td>0.0</td>\n",
              "      <td>0.0</td>\n",
              "      <td>0.0</td>\n",
              "      <td>0.0</td>\n",
              "      <td>0.0</td>\n",
              "      <td>0.0</td>\n",
              "      <td>0.0</td>\n",
              "      <td>0.0</td>\n",
              "      <td>0.0</td>\n",
              "      <td>0.0</td>\n",
              "      <td>0.000000</td>\n",
              "      <td>0.0</td>\n",
              "      <td>0.0</td>\n",
              "      <td>0.0</td>\n",
              "      <td>0.0</td>\n",
              "      <td>0.0</td>\n",
              "      <td>0.0</td>\n",
              "      <td>0.0</td>\n",
              "      <td>0.0</td>\n",
              "      <td>0.0</td>\n",
              "      <td>0.0</td>\n",
              "      <td>0.0</td>\n",
              "      <td>0.0</td>\n",
              "      <td>0.0</td>\n",
              "      <td>0.0</td>\n",
              "      <td>0.0</td>\n",
              "      <td>0.0</td>\n",
              "      <td>0.0</td>\n",
              "      <td>0.0</td>\n",
              "      <td>0.0</td>\n",
              "      <td>0.0</td>\n",
              "      <td>0.0</td>\n",
              "      <td>0.0</td>\n",
              "      <td>...</td>\n",
              "      <td>0.0</td>\n",
              "      <td>0.0</td>\n",
              "      <td>0</td>\n",
              "      <td>5</td>\n",
              "      <td>0</td>\n",
              "      <td>0</td>\n",
              "      <td>0</td>\n",
              "      <td>1</td>\n",
              "      <td>2</td>\n",
              "      <td>0</td>\n",
              "      <td>0</td>\n",
              "      <td>0</td>\n",
              "      <td>2</td>\n",
              "      <td>0</td>\n",
              "      <td>0</td>\n",
              "      <td>0</td>\n",
              "      <td>0</td>\n",
              "      <td>0</td>\n",
              "      <td>0</td>\n",
              "      <td>1</td>\n",
              "      <td>0</td>\n",
              "      <td>0</td>\n",
              "      <td>0</td>\n",
              "      <td>0</td>\n",
              "      <td>1</td>\n",
              "      <td>0</td>\n",
              "      <td>0</td>\n",
              "      <td>0</td>\n",
              "      <td>0</td>\n",
              "      <td>0</td>\n",
              "      <td>0</td>\n",
              "      <td>0</td>\n",
              "      <td>7</td>\n",
              "      <td>2</td>\n",
              "      <td>18</td>\n",
              "      <td>0</td>\n",
              "      <td>0</td>\n",
              "      <td>0</td>\n",
              "      <td>0.0</td>\n",
              "      <td>0.024101</td>\n",
              "    </tr>\n",
              "    <tr>\n",
              "      <th>3</th>\n",
              "      <td>0.0</td>\n",
              "      <td>0.0</td>\n",
              "      <td>0.0</td>\n",
              "      <td>0.0</td>\n",
              "      <td>0.0</td>\n",
              "      <td>0.0</td>\n",
              "      <td>0.0</td>\n",
              "      <td>0.0</td>\n",
              "      <td>0.0</td>\n",
              "      <td>0.0</td>\n",
              "      <td>0.0</td>\n",
              "      <td>0.0</td>\n",
              "      <td>0.0</td>\n",
              "      <td>0.0</td>\n",
              "      <td>0.0</td>\n",
              "      <td>0.0</td>\n",
              "      <td>0.0</td>\n",
              "      <td>0.000000</td>\n",
              "      <td>0.0</td>\n",
              "      <td>0.0</td>\n",
              "      <td>0.0</td>\n",
              "      <td>0.0</td>\n",
              "      <td>0.0</td>\n",
              "      <td>0.0</td>\n",
              "      <td>0.0</td>\n",
              "      <td>0.0</td>\n",
              "      <td>0.0</td>\n",
              "      <td>0.0</td>\n",
              "      <td>0.0</td>\n",
              "      <td>0.0</td>\n",
              "      <td>0.0</td>\n",
              "      <td>0.0</td>\n",
              "      <td>0.0</td>\n",
              "      <td>0.0</td>\n",
              "      <td>0.0</td>\n",
              "      <td>0.0</td>\n",
              "      <td>0.0</td>\n",
              "      <td>0.0</td>\n",
              "      <td>0.0</td>\n",
              "      <td>0.0</td>\n",
              "      <td>...</td>\n",
              "      <td>0.0</td>\n",
              "      <td>0.0</td>\n",
              "      <td>0</td>\n",
              "      <td>1</td>\n",
              "      <td>0</td>\n",
              "      <td>0</td>\n",
              "      <td>0</td>\n",
              "      <td>1</td>\n",
              "      <td>0</td>\n",
              "      <td>0</td>\n",
              "      <td>0</td>\n",
              "      <td>0</td>\n",
              "      <td>0</td>\n",
              "      <td>0</td>\n",
              "      <td>0</td>\n",
              "      <td>1</td>\n",
              "      <td>0</td>\n",
              "      <td>0</td>\n",
              "      <td>0</td>\n",
              "      <td>2</td>\n",
              "      <td>0</td>\n",
              "      <td>0</td>\n",
              "      <td>0</td>\n",
              "      <td>0</td>\n",
              "      <td>0</td>\n",
              "      <td>0</td>\n",
              "      <td>0</td>\n",
              "      <td>0</td>\n",
              "      <td>0</td>\n",
              "      <td>0</td>\n",
              "      <td>0</td>\n",
              "      <td>0</td>\n",
              "      <td>9</td>\n",
              "      <td>1</td>\n",
              "      <td>7</td>\n",
              "      <td>0</td>\n",
              "      <td>0</td>\n",
              "      <td>0</td>\n",
              "      <td>0.0</td>\n",
              "      <td>0.688768</td>\n",
              "    </tr>\n",
              "    <tr>\n",
              "      <th>4</th>\n",
              "      <td>0.0</td>\n",
              "      <td>0.0</td>\n",
              "      <td>0.0</td>\n",
              "      <td>0.0</td>\n",
              "      <td>0.0</td>\n",
              "      <td>0.0</td>\n",
              "      <td>0.0</td>\n",
              "      <td>0.0</td>\n",
              "      <td>0.0</td>\n",
              "      <td>0.0</td>\n",
              "      <td>0.0</td>\n",
              "      <td>0.0</td>\n",
              "      <td>0.0</td>\n",
              "      <td>0.0</td>\n",
              "      <td>0.0</td>\n",
              "      <td>0.0</td>\n",
              "      <td>0.0</td>\n",
              "      <td>0.000000</td>\n",
              "      <td>0.0</td>\n",
              "      <td>0.0</td>\n",
              "      <td>0.0</td>\n",
              "      <td>0.0</td>\n",
              "      <td>0.0</td>\n",
              "      <td>0.0</td>\n",
              "      <td>0.0</td>\n",
              "      <td>0.0</td>\n",
              "      <td>0.0</td>\n",
              "      <td>0.0</td>\n",
              "      <td>0.0</td>\n",
              "      <td>0.0</td>\n",
              "      <td>0.0</td>\n",
              "      <td>0.0</td>\n",
              "      <td>0.0</td>\n",
              "      <td>0.0</td>\n",
              "      <td>0.0</td>\n",
              "      <td>0.0</td>\n",
              "      <td>0.0</td>\n",
              "      <td>0.0</td>\n",
              "      <td>0.0</td>\n",
              "      <td>0.0</td>\n",
              "      <td>...</td>\n",
              "      <td>0.0</td>\n",
              "      <td>0.0</td>\n",
              "      <td>0</td>\n",
              "      <td>2</td>\n",
              "      <td>0</td>\n",
              "      <td>0</td>\n",
              "      <td>0</td>\n",
              "      <td>2</td>\n",
              "      <td>0</td>\n",
              "      <td>0</td>\n",
              "      <td>0</td>\n",
              "      <td>0</td>\n",
              "      <td>2</td>\n",
              "      <td>0</td>\n",
              "      <td>0</td>\n",
              "      <td>0</td>\n",
              "      <td>1</td>\n",
              "      <td>0</td>\n",
              "      <td>0</td>\n",
              "      <td>2</td>\n",
              "      <td>0</td>\n",
              "      <td>0</td>\n",
              "      <td>0</td>\n",
              "      <td>0</td>\n",
              "      <td>0</td>\n",
              "      <td>2</td>\n",
              "      <td>0</td>\n",
              "      <td>0</td>\n",
              "      <td>0</td>\n",
              "      <td>0</td>\n",
              "      <td>0</td>\n",
              "      <td>0</td>\n",
              "      <td>13</td>\n",
              "      <td>1</td>\n",
              "      <td>24</td>\n",
              "      <td>1</td>\n",
              "      <td>0</td>\n",
              "      <td>0</td>\n",
              "      <td>0.0</td>\n",
              "      <td>0.075863</td>\n",
              "    </tr>\n",
              "  </tbody>\n",
              "</table>\n",
              "<p>5 rows × 18506 columns</p>\n",
              "</div>"
            ],
            "text/plain": [
              "   0221  0221 numberurl   10  100  ...  urls  hashtag  ngram_value  sentiments\n",
              "0   0.0             0.0  0.0  0.0  ...     0        0          0.0    0.645192\n",
              "1   0.0             0.0  0.0  0.0  ...     0        0          0.0    0.229369\n",
              "2   0.0             0.0  0.0  0.0  ...     0        0          0.0    0.024101\n",
              "3   0.0             0.0  0.0  0.0  ...     0        0          0.0    0.688768\n",
              "4   0.0             0.0  0.0  0.0  ...     0        0          0.0    0.075863\n",
              "\n",
              "[5 rows x 18506 columns]"
            ]
          },
          "metadata": {
            "tags": []
          },
          "execution_count": 28
        }
      ]
    },
    {
      "cell_type": "markdown",
      "metadata": {
        "id": "LgIwS711l1es"
      },
      "source": [
        "# Feature selection"
      ]
    },
    {
      "cell_type": "code",
      "metadata": {
        "id": "RcaqOeqnrfy6"
      },
      "source": [
        "y = np.array(labeled_tweets['class'])\r\n",
        "X = features_df.to_numpy()"
      ],
      "execution_count": 29,
      "outputs": []
    },
    {
      "cell_type": "code",
      "metadata": {
        "id": "PzYIiN7Dmb8C",
        "colab": {
          "base_uri": "https://localhost:8080/"
        },
        "outputId": "61eb3e4b-ed2e-4e73-e920-7e3cb9a775ec"
      },
      "source": [
        "new_X = SelectKBest(score_func = chi2, k = int(len(X[0])*0.3)).fit_transform(X,y)\r\n",
        "new_X.shape"
      ],
      "execution_count": 30,
      "outputs": [
        {
          "output_type": "execute_result",
          "data": {
            "text/plain": [
              "(24783, 5551)"
            ]
          },
          "metadata": {
            "tags": []
          },
          "execution_count": 30
        }
      ]
    },
    {
      "cell_type": "markdown",
      "metadata": {
        "id": "Mk8TWvFdmfQD"
      },
      "source": [
        "# Classification Algorithms"
      ]
    },
    {
      "cell_type": "markdown",
      "metadata": {
        "id": "6KjDaooSKU_-"
      },
      "source": [
        "Using the selected best features, let's use 2 classification algorithms to classify the tweets according to the 'class' field, which values means:\r\n",
        "\r\n",
        "- 0: Hate speech\r\n",
        "- 1: Offensive lenguage\r\n",
        "- 2: Neither\r\n",
        "\r\n",
        "For this purpose, we'll split our data, using 70% of the dataset for training and the remaining 30% for testing, tuning the different parameters by a cross validation. "
      ]
    },
    {
      "cell_type": "code",
      "metadata": {
        "id": "lAwwpIALWeRB"
      },
      "source": [
        "X_train, X_test, y_train, y_test = train_test_split(new_X, y, test_size=0.3, random_state=42)"
      ],
      "execution_count": 31,
      "outputs": []
    },
    {
      "cell_type": "markdown",
      "metadata": {
        "id": "m58x-du5mqBK"
      },
      "source": [
        "## SVM"
      ]
    },
    {
      "cell_type": "markdown",
      "metadata": {
        "id": "WbqoiUVVKPpH"
      },
      "source": [
        "We will use Support Vector Machines as the first algorithm to classiffy tweets. In order to find the best parameters for this algorithm, we are going to use a Grid Search with cross-validation, which will allow us to explore combinations of this parameters. First, we define the model we'll use."
      ]
    },
    {
      "cell_type": "code",
      "metadata": {
        "id": "vg4g55i8CuqH"
      },
      "source": [
        "pca = PCA(n_components=150, whiten=True, random_state=42)\r\n",
        "svc = SVC()\r\n",
        "model = make_pipeline(pca, svc)"
      ],
      "execution_count": null,
      "outputs": []
    },
    {
      "cell_type": "markdown",
      "metadata": {
        "id": "ZEBpNVmFPxHO"
      },
      "source": [
        "Once we got our model declared, we need to define the set of parameters to be used in the Grid Search."
      ]
    },
    {
      "cell_type": "code",
      "metadata": {
        "id": "UtpDqnc0CusL"
      },
      "source": [
        "param_grid = {'svc__C': [0.1, 1, 10, 50, 100, 1000],  \r\n",
        "              'svc__gamma': [0.01, 0.001, 0.0001, 0.00001],\r\n",
        "              'svc__kernel': ['rbf']} "
      ],
      "execution_count": null,
      "outputs": []
    },
    {
      "cell_type": "markdown",
      "metadata": {
        "id": "llHzjmddVCr6"
      },
      "source": [
        "Then, we run the search."
      ]
    },
    {
      "cell_type": "code",
      "metadata": {
        "id": "m7WfMTuP46SD",
        "colab": {
          "base_uri": "https://localhost:8080/"
        },
        "outputId": "86021faf-9a1b-495b-f04b-928eab6aa8cc"
      },
      "source": [
        "grid_search = GridSearchCV(estimator = model, param_grid = param_grid, cv = 5, verbose = 3)\r\n",
        "\r\n",
        "# Fit the Grid Search over training data\r\n",
        "grid_search.fit(X = X_train, y = y_train)"
      ],
      "execution_count": null,
      "outputs": [
        {
          "output_type": "stream",
          "text": [
            "Fitting 5 folds for each of 24 candidates, totalling 120 fits\n",
            "[CV] svc__C=0.1, svc__gamma=0.01, svc__kernel=rbf ....................\n"
          ],
          "name": "stdout"
        },
        {
          "output_type": "stream",
          "text": [
            "[Parallel(n_jobs=1)]: Using backend SequentialBackend with 1 concurrent workers.\n"
          ],
          "name": "stderr"
        },
        {
          "output_type": "stream",
          "text": [
            "[CV]  svc__C=0.1, svc__gamma=0.01, svc__kernel=rbf, score=0.826, total= 1.1min\n",
            "[CV] svc__C=0.1, svc__gamma=0.01, svc__kernel=rbf ....................\n"
          ],
          "name": "stdout"
        },
        {
          "output_type": "stream",
          "text": [
            "[Parallel(n_jobs=1)]: Done   1 out of   1 | elapsed:  1.1min remaining:    0.0s\n"
          ],
          "name": "stderr"
        },
        {
          "output_type": "stream",
          "text": [
            "[CV]  svc__C=0.1, svc__gamma=0.01, svc__kernel=rbf, score=0.816, total= 1.0min\n",
            "[CV] svc__C=0.1, svc__gamma=0.01, svc__kernel=rbf ....................\n"
          ],
          "name": "stdout"
        },
        {
          "output_type": "stream",
          "text": [
            "[Parallel(n_jobs=1)]: Done   2 out of   2 | elapsed:  2.1min remaining:    0.0s\n"
          ],
          "name": "stderr"
        },
        {
          "output_type": "stream",
          "text": [
            "[CV]  svc__C=0.1, svc__gamma=0.01, svc__kernel=rbf, score=0.820, total= 1.0min\n",
            "[CV] svc__C=0.1, svc__gamma=0.01, svc__kernel=rbf ....................\n",
            "[CV]  svc__C=0.1, svc__gamma=0.01, svc__kernel=rbf, score=0.814, total= 1.1min\n",
            "[CV] svc__C=0.1, svc__gamma=0.01, svc__kernel=rbf ....................\n",
            "[CV]  svc__C=0.1, svc__gamma=0.01, svc__kernel=rbf, score=0.819, total= 1.1min\n",
            "[CV] svc__C=0.1, svc__gamma=0.001, svc__kernel=rbf ...................\n",
            "[CV]  svc__C=0.1, svc__gamma=0.001, svc__kernel=rbf, score=0.806, total=  52.0s\n",
            "[CV] svc__C=0.1, svc__gamma=0.001, svc__kernel=rbf ...................\n",
            "[CV]  svc__C=0.1, svc__gamma=0.001, svc__kernel=rbf, score=0.799, total=  52.3s\n",
            "[CV] svc__C=0.1, svc__gamma=0.001, svc__kernel=rbf ...................\n",
            "[CV]  svc__C=0.1, svc__gamma=0.001, svc__kernel=rbf, score=0.801, total=  51.2s\n",
            "[CV] svc__C=0.1, svc__gamma=0.001, svc__kernel=rbf ...................\n",
            "[CV]  svc__C=0.1, svc__gamma=0.001, svc__kernel=rbf, score=0.798, total=  52.0s\n",
            "[CV] svc__C=0.1, svc__gamma=0.001, svc__kernel=rbf ...................\n",
            "[CV]  svc__C=0.1, svc__gamma=0.001, svc__kernel=rbf, score=0.805, total=  50.5s\n",
            "[CV] svc__C=0.1, svc__gamma=0.0001, svc__kernel=rbf ..................\n",
            "[CV]  svc__C=0.1, svc__gamma=0.0001, svc__kernel=rbf, score=0.775, total=  48.8s\n",
            "[CV] svc__C=0.1, svc__gamma=0.0001, svc__kernel=rbf ..................\n",
            "[CV]  svc__C=0.1, svc__gamma=0.0001, svc__kernel=rbf, score=0.775, total=  48.2s\n",
            "[CV] svc__C=0.1, svc__gamma=0.0001, svc__kernel=rbf ..................\n",
            "[CV]  svc__C=0.1, svc__gamma=0.0001, svc__kernel=rbf, score=0.775, total=  48.0s\n",
            "[CV] svc__C=0.1, svc__gamma=0.0001, svc__kernel=rbf ..................\n",
            "[CV]  svc__C=0.1, svc__gamma=0.0001, svc__kernel=rbf, score=0.775, total=  48.0s\n",
            "[CV] svc__C=0.1, svc__gamma=0.0001, svc__kernel=rbf ..................\n",
            "[CV]  svc__C=0.1, svc__gamma=0.0001, svc__kernel=rbf, score=0.775, total=  48.2s\n",
            "[CV] svc__C=0.1, svc__gamma=1e-05, svc__kernel=rbf ...................\n",
            "[CV]  svc__C=0.1, svc__gamma=1e-05, svc__kernel=rbf, score=0.775, total=  47.2s\n",
            "[CV] svc__C=0.1, svc__gamma=1e-05, svc__kernel=rbf ...................\n",
            "[CV]  svc__C=0.1, svc__gamma=1e-05, svc__kernel=rbf, score=0.775, total=  47.6s\n",
            "[CV] svc__C=0.1, svc__gamma=1e-05, svc__kernel=rbf ...................\n",
            "[CV]  svc__C=0.1, svc__gamma=1e-05, svc__kernel=rbf, score=0.775, total=  47.2s\n",
            "[CV] svc__C=0.1, svc__gamma=1e-05, svc__kernel=rbf ...................\n",
            "[CV]  svc__C=0.1, svc__gamma=1e-05, svc__kernel=rbf, score=0.775, total=  47.4s\n",
            "[CV] svc__C=0.1, svc__gamma=1e-05, svc__kernel=rbf ...................\n",
            "[CV]  svc__C=0.1, svc__gamma=1e-05, svc__kernel=rbf, score=0.775, total=  47.0s\n",
            "[CV] svc__C=1, svc__gamma=0.01, svc__kernel=rbf ......................\n",
            "[CV]  svc__C=1, svc__gamma=0.01, svc__kernel=rbf, score=0.876, total= 1.1min\n",
            "[CV] svc__C=1, svc__gamma=0.01, svc__kernel=rbf ......................\n",
            "[CV]  svc__C=1, svc__gamma=0.01, svc__kernel=rbf, score=0.867, total= 1.0min\n",
            "[CV] svc__C=1, svc__gamma=0.01, svc__kernel=rbf ......................\n",
            "[CV]  svc__C=1, svc__gamma=0.01, svc__kernel=rbf, score=0.870, total= 1.0min\n",
            "[CV] svc__C=1, svc__gamma=0.01, svc__kernel=rbf ......................\n",
            "[CV]  svc__C=1, svc__gamma=0.01, svc__kernel=rbf, score=0.880, total= 1.0min\n",
            "[CV] svc__C=1, svc__gamma=0.01, svc__kernel=rbf ......................\n",
            "[CV]  svc__C=1, svc__gamma=0.01, svc__kernel=rbf, score=0.878, total= 1.0min\n",
            "[CV] svc__C=1, svc__gamma=0.001, svc__kernel=rbf .....................\n",
            "[CV]  svc__C=1, svc__gamma=0.001, svc__kernel=rbf, score=0.879, total=  45.2s\n",
            "[CV] svc__C=1, svc__gamma=0.001, svc__kernel=rbf .....................\n",
            "[CV]  svc__C=1, svc__gamma=0.001, svc__kernel=rbf, score=0.867, total=  46.4s\n",
            "[CV] svc__C=1, svc__gamma=0.001, svc__kernel=rbf .....................\n",
            "[CV]  svc__C=1, svc__gamma=0.001, svc__kernel=rbf, score=0.871, total=  43.8s\n",
            "[CV] svc__C=1, svc__gamma=0.001, svc__kernel=rbf .....................\n",
            "[CV]  svc__C=1, svc__gamma=0.001, svc__kernel=rbf, score=0.872, total=  44.8s\n",
            "[CV] svc__C=1, svc__gamma=0.001, svc__kernel=rbf .....................\n",
            "[CV]  svc__C=1, svc__gamma=0.001, svc__kernel=rbf, score=0.878, total=  44.0s\n",
            "[CV] svc__C=1, svc__gamma=0.0001, svc__kernel=rbf ....................\n",
            "[CV]  svc__C=1, svc__gamma=0.0001, svc__kernel=rbf, score=0.817, total=  50.7s\n",
            "[CV] svc__C=1, svc__gamma=0.0001, svc__kernel=rbf ....................\n",
            "[CV]  svc__C=1, svc__gamma=0.0001, svc__kernel=rbf, score=0.806, total=  50.6s\n",
            "[CV] svc__C=1, svc__gamma=0.0001, svc__kernel=rbf ....................\n",
            "[CV]  svc__C=1, svc__gamma=0.0001, svc__kernel=rbf, score=0.807, total=  50.1s\n",
            "[CV] svc__C=1, svc__gamma=0.0001, svc__kernel=rbf ....................\n",
            "[CV]  svc__C=1, svc__gamma=0.0001, svc__kernel=rbf, score=0.805, total=  50.1s\n",
            "[CV] svc__C=1, svc__gamma=0.0001, svc__kernel=rbf ....................\n",
            "[CV]  svc__C=1, svc__gamma=0.0001, svc__kernel=rbf, score=0.814, total=  52.1s\n",
            "[CV] svc__C=1, svc__gamma=1e-05, svc__kernel=rbf .....................\n",
            "[CV]  svc__C=1, svc__gamma=1e-05, svc__kernel=rbf, score=0.775, total=  49.4s\n",
            "[CV] svc__C=1, svc__gamma=1e-05, svc__kernel=rbf .....................\n",
            "[CV]  svc__C=1, svc__gamma=1e-05, svc__kernel=rbf, score=0.775, total=  49.1s\n",
            "[CV] svc__C=1, svc__gamma=1e-05, svc__kernel=rbf .....................\n",
            "[CV]  svc__C=1, svc__gamma=1e-05, svc__kernel=rbf, score=0.775, total=  49.8s\n",
            "[CV] svc__C=1, svc__gamma=1e-05, svc__kernel=rbf .....................\n",
            "[CV]  svc__C=1, svc__gamma=1e-05, svc__kernel=rbf, score=0.775, total=  50.6s\n",
            "[CV] svc__C=1, svc__gamma=1e-05, svc__kernel=rbf .....................\n",
            "[CV]  svc__C=1, svc__gamma=1e-05, svc__kernel=rbf, score=0.775, total=  52.5s\n",
            "[CV] svc__C=10, svc__gamma=0.01, svc__kernel=rbf .....................\n",
            "[CV]  svc__C=10, svc__gamma=0.01, svc__kernel=rbf, score=0.875, total= 1.7min\n",
            "[CV] svc__C=10, svc__gamma=0.01, svc__kernel=rbf .....................\n",
            "[CV]  svc__C=10, svc__gamma=0.01, svc__kernel=rbf, score=0.866, total= 1.6min\n",
            "[CV] svc__C=10, svc__gamma=0.01, svc__kernel=rbf .....................\n",
            "[CV]  svc__C=10, svc__gamma=0.01, svc__kernel=rbf, score=0.861, total= 1.5min\n",
            "[CV] svc__C=10, svc__gamma=0.01, svc__kernel=rbf .....................\n",
            "[CV]  svc__C=10, svc__gamma=0.01, svc__kernel=rbf, score=0.873, total= 1.6min\n",
            "[CV] svc__C=10, svc__gamma=0.01, svc__kernel=rbf .....................\n",
            "[CV]  svc__C=10, svc__gamma=0.01, svc__kernel=rbf, score=0.874, total= 1.5min\n",
            "[CV] svc__C=10, svc__gamma=0.001, svc__kernel=rbf ....................\n",
            "[CV]  svc__C=10, svc__gamma=0.001, svc__kernel=rbf, score=0.884, total=  42.0s\n",
            "[CV] svc__C=10, svc__gamma=0.001, svc__kernel=rbf ....................\n",
            "[CV]  svc__C=10, svc__gamma=0.001, svc__kernel=rbf, score=0.881, total=  42.7s\n",
            "[CV] svc__C=10, svc__gamma=0.001, svc__kernel=rbf ....................\n",
            "[CV]  svc__C=10, svc__gamma=0.001, svc__kernel=rbf, score=0.882, total=  42.0s\n",
            "[CV] svc__C=10, svc__gamma=0.001, svc__kernel=rbf ....................\n",
            "[CV]  svc__C=10, svc__gamma=0.001, svc__kernel=rbf, score=0.894, total=  42.0s\n",
            "[CV] svc__C=10, svc__gamma=0.001, svc__kernel=rbf ....................\n",
            "[CV]  svc__C=10, svc__gamma=0.001, svc__kernel=rbf, score=0.891, total=  42.1s\n",
            "[CV] svc__C=10, svc__gamma=0.0001, svc__kernel=rbf ...................\n",
            "[CV]  svc__C=10, svc__gamma=0.0001, svc__kernel=rbf, score=0.877, total=  44.4s\n",
            "[CV] svc__C=10, svc__gamma=0.0001, svc__kernel=rbf ...................\n",
            "[CV]  svc__C=10, svc__gamma=0.0001, svc__kernel=rbf, score=0.867, total=  44.8s\n",
            "[CV] svc__C=10, svc__gamma=0.0001, svc__kernel=rbf ...................\n",
            "[CV]  svc__C=10, svc__gamma=0.0001, svc__kernel=rbf, score=0.871, total=  43.1s\n",
            "[CV] svc__C=10, svc__gamma=0.0001, svc__kernel=rbf ...................\n",
            "[CV]  svc__C=10, svc__gamma=0.0001, svc__kernel=rbf, score=0.871, total=  45.8s\n",
            "[CV] svc__C=10, svc__gamma=0.0001, svc__kernel=rbf ...................\n",
            "[CV]  svc__C=10, svc__gamma=0.0001, svc__kernel=rbf, score=0.879, total=  43.0s\n",
            "[CV] svc__C=10, svc__gamma=1e-05, svc__kernel=rbf ....................\n",
            "[CV]  svc__C=10, svc__gamma=1e-05, svc__kernel=rbf, score=0.817, total=  50.5s\n",
            "[CV] svc__C=10, svc__gamma=1e-05, svc__kernel=rbf ....................\n",
            "[CV]  svc__C=10, svc__gamma=1e-05, svc__kernel=rbf, score=0.806, total=  50.1s\n",
            "[CV] svc__C=10, svc__gamma=1e-05, svc__kernel=rbf ....................\n",
            "[CV]  svc__C=10, svc__gamma=1e-05, svc__kernel=rbf, score=0.808, total=  50.1s\n",
            "[CV] svc__C=10, svc__gamma=1e-05, svc__kernel=rbf ....................\n",
            "[CV]  svc__C=10, svc__gamma=1e-05, svc__kernel=rbf, score=0.806, total=  49.4s\n",
            "[CV] svc__C=10, svc__gamma=1e-05, svc__kernel=rbf ....................\n",
            "[CV]  svc__C=10, svc__gamma=1e-05, svc__kernel=rbf, score=0.815, total=  51.1s\n",
            "[CV] svc__C=50, svc__gamma=0.01, svc__kernel=rbf .....................\n",
            "[CV]  svc__C=50, svc__gamma=0.01, svc__kernel=rbf, score=0.865, total= 1.6min\n",
            "[CV] svc__C=50, svc__gamma=0.01, svc__kernel=rbf .....................\n",
            "[CV]  svc__C=50, svc__gamma=0.01, svc__kernel=rbf, score=0.859, total= 1.5min\n",
            "[CV] svc__C=50, svc__gamma=0.01, svc__kernel=rbf .....................\n",
            "[CV]  svc__C=50, svc__gamma=0.01, svc__kernel=rbf, score=0.853, total= 1.5min\n",
            "[CV] svc__C=50, svc__gamma=0.01, svc__kernel=rbf .....................\n",
            "[CV]  svc__C=50, svc__gamma=0.01, svc__kernel=rbf, score=0.867, total= 1.5min\n",
            "[CV] svc__C=50, svc__gamma=0.01, svc__kernel=rbf .....................\n",
            "[CV]  svc__C=50, svc__gamma=0.01, svc__kernel=rbf, score=0.864, total= 1.5min\n",
            "[CV] svc__C=50, svc__gamma=0.001, svc__kernel=rbf ....................\n",
            "[CV]  svc__C=50, svc__gamma=0.001, svc__kernel=rbf, score=0.879, total=  46.6s\n",
            "[CV] svc__C=50, svc__gamma=0.001, svc__kernel=rbf ....................\n",
            "[CV]  svc__C=50, svc__gamma=0.001, svc__kernel=rbf, score=0.881, total=  46.3s\n",
            "[CV] svc__C=50, svc__gamma=0.001, svc__kernel=rbf ....................\n",
            "[CV]  svc__C=50, svc__gamma=0.001, svc__kernel=rbf, score=0.878, total=  46.8s\n",
            "[CV] svc__C=50, svc__gamma=0.001, svc__kernel=rbf ....................\n",
            "[CV]  svc__C=50, svc__gamma=0.001, svc__kernel=rbf, score=0.891, total=  45.6s\n",
            "[CV] svc__C=50, svc__gamma=0.001, svc__kernel=rbf ....................\n",
            "[CV]  svc__C=50, svc__gamma=0.001, svc__kernel=rbf, score=0.884, total=  45.7s\n",
            "[CV] svc__C=50, svc__gamma=0.0001, svc__kernel=rbf ...................\n",
            "[CV]  svc__C=50, svc__gamma=0.0001, svc__kernel=rbf, score=0.883, total=  42.4s\n",
            "[CV] svc__C=50, svc__gamma=0.0001, svc__kernel=rbf ...................\n",
            "[CV]  svc__C=50, svc__gamma=0.0001, svc__kernel=rbf, score=0.877, total=  42.8s\n",
            "[CV] svc__C=50, svc__gamma=0.0001, svc__kernel=rbf ...................\n",
            "[CV]  svc__C=50, svc__gamma=0.0001, svc__kernel=rbf, score=0.876, total=  40.4s\n",
            "[CV] svc__C=50, svc__gamma=0.0001, svc__kernel=rbf ...................\n",
            "[CV]  svc__C=50, svc__gamma=0.0001, svc__kernel=rbf, score=0.884, total=  42.5s\n",
            "[CV] svc__C=50, svc__gamma=0.0001, svc__kernel=rbf ...................\n",
            "[CV]  svc__C=50, svc__gamma=0.0001, svc__kernel=rbf, score=0.890, total=  40.6s\n",
            "[CV] svc__C=50, svc__gamma=1e-05, svc__kernel=rbf ....................\n",
            "[CV]  svc__C=50, svc__gamma=1e-05, svc__kernel=rbf, score=0.864, total=  47.7s\n",
            "[CV] svc__C=50, svc__gamma=1e-05, svc__kernel=rbf ....................\n",
            "[CV]  svc__C=50, svc__gamma=1e-05, svc__kernel=rbf, score=0.856, total=  47.7s\n",
            "[CV] svc__C=50, svc__gamma=1e-05, svc__kernel=rbf ....................\n",
            "[CV]  svc__C=50, svc__gamma=1e-05, svc__kernel=rbf, score=0.860, total=  47.2s\n",
            "[CV] svc__C=50, svc__gamma=1e-05, svc__kernel=rbf ....................\n",
            "[CV]  svc__C=50, svc__gamma=1e-05, svc__kernel=rbf, score=0.854, total=  46.8s\n",
            "[CV] svc__C=50, svc__gamma=1e-05, svc__kernel=rbf ....................\n",
            "[CV]  svc__C=50, svc__gamma=1e-05, svc__kernel=rbf, score=0.865, total=  44.8s\n",
            "[CV] svc__C=100, svc__gamma=0.01, svc__kernel=rbf ....................\n",
            "[CV]  svc__C=100, svc__gamma=0.01, svc__kernel=rbf, score=0.859, total= 1.5min\n",
            "[CV] svc__C=100, svc__gamma=0.01, svc__kernel=rbf ....................\n",
            "[CV]  svc__C=100, svc__gamma=0.01, svc__kernel=rbf, score=0.857, total= 1.4min\n",
            "[CV] svc__C=100, svc__gamma=0.01, svc__kernel=rbf ....................\n",
            "[CV]  svc__C=100, svc__gamma=0.01, svc__kernel=rbf, score=0.848, total= 1.5min\n",
            "[CV] svc__C=100, svc__gamma=0.01, svc__kernel=rbf ....................\n",
            "[CV]  svc__C=100, svc__gamma=0.01, svc__kernel=rbf, score=0.861, total= 1.5min\n",
            "[CV] svc__C=100, svc__gamma=0.01, svc__kernel=rbf ....................\n",
            "[CV]  svc__C=100, svc__gamma=0.01, svc__kernel=rbf, score=0.863, total= 1.4min\n",
            "[CV] svc__C=100, svc__gamma=0.001, svc__kernel=rbf ...................\n",
            "[CV]  svc__C=100, svc__gamma=0.001, svc__kernel=rbf, score=0.874, total=  49.4s\n",
            "[CV] svc__C=100, svc__gamma=0.001, svc__kernel=rbf ...................\n",
            "[CV]  svc__C=100, svc__gamma=0.001, svc__kernel=rbf, score=0.872, total=  50.1s\n",
            "[CV] svc__C=100, svc__gamma=0.001, svc__kernel=rbf ...................\n",
            "[CV]  svc__C=100, svc__gamma=0.001, svc__kernel=rbf, score=0.871, total=  48.2s\n",
            "[CV] svc__C=100, svc__gamma=0.001, svc__kernel=rbf ...................\n",
            "[CV]  svc__C=100, svc__gamma=0.001, svc__kernel=rbf, score=0.888, total=  48.5s\n",
            "[CV] svc__C=100, svc__gamma=0.001, svc__kernel=rbf ...................\n",
            "[CV]  svc__C=100, svc__gamma=0.001, svc__kernel=rbf, score=0.879, total=  48.4s\n",
            "[CV] svc__C=100, svc__gamma=0.0001, svc__kernel=rbf ..................\n",
            "[CV]  svc__C=100, svc__gamma=0.0001, svc__kernel=rbf, score=0.884, total=  42.4s\n",
            "[CV] svc__C=100, svc__gamma=0.0001, svc__kernel=rbf ..................\n",
            "[CV]  svc__C=100, svc__gamma=0.0001, svc__kernel=rbf, score=0.879, total=  43.9s\n",
            "[CV] svc__C=100, svc__gamma=0.0001, svc__kernel=rbf ..................\n",
            "[CV]  svc__C=100, svc__gamma=0.0001, svc__kernel=rbf, score=0.878, total=  41.0s\n",
            "[CV] svc__C=100, svc__gamma=0.0001, svc__kernel=rbf ..................\n",
            "[CV]  svc__C=100, svc__gamma=0.0001, svc__kernel=rbf, score=0.887, total=  43.0s\n",
            "[CV] svc__C=100, svc__gamma=0.0001, svc__kernel=rbf ..................\n",
            "[CV]  svc__C=100, svc__gamma=0.0001, svc__kernel=rbf, score=0.889, total=  41.8s\n",
            "[CV] svc__C=100, svc__gamma=1e-05, svc__kernel=rbf ...................\n",
            "[CV]  svc__C=100, svc__gamma=1e-05, svc__kernel=rbf, score=0.874, total=  46.4s\n",
            "[CV] svc__C=100, svc__gamma=1e-05, svc__kernel=rbf ...................\n",
            "[CV]  svc__C=100, svc__gamma=1e-05, svc__kernel=rbf, score=0.866, total=  46.6s\n",
            "[CV] svc__C=100, svc__gamma=1e-05, svc__kernel=rbf ...................\n",
            "[CV]  svc__C=100, svc__gamma=1e-05, svc__kernel=rbf, score=0.870, total=  44.0s\n",
            "[CV] svc__C=100, svc__gamma=1e-05, svc__kernel=rbf ...................\n",
            "[CV]  svc__C=100, svc__gamma=1e-05, svc__kernel=rbf, score=0.870, total=  46.7s\n",
            "[CV] svc__C=100, svc__gamma=1e-05, svc__kernel=rbf ...................\n",
            "[CV]  svc__C=100, svc__gamma=1e-05, svc__kernel=rbf, score=0.878, total=  43.9s\n",
            "[CV] svc__C=1000, svc__gamma=0.01, svc__kernel=rbf ...................\n",
            "[CV]  svc__C=1000, svc__gamma=0.01, svc__kernel=rbf, score=0.854, total= 1.3min\n",
            "[CV] svc__C=1000, svc__gamma=0.01, svc__kernel=rbf ...................\n",
            "[CV]  svc__C=1000, svc__gamma=0.01, svc__kernel=rbf, score=0.859, total= 1.1min\n",
            "[CV] svc__C=1000, svc__gamma=0.01, svc__kernel=rbf ...................\n",
            "[CV]  svc__C=1000, svc__gamma=0.01, svc__kernel=rbf, score=0.845, total= 1.2min\n",
            "[CV] svc__C=1000, svc__gamma=0.01, svc__kernel=rbf ...................\n",
            "[CV]  svc__C=1000, svc__gamma=0.01, svc__kernel=rbf, score=0.852, total= 1.3min\n",
            "[CV] svc__C=1000, svc__gamma=0.01, svc__kernel=rbf ...................\n",
            "[CV]  svc__C=1000, svc__gamma=0.01, svc__kernel=rbf, score=0.861, total= 1.2min\n",
            "[CV] svc__C=1000, svc__gamma=0.001, svc__kernel=rbf ..................\n",
            "[CV]  svc__C=1000, svc__gamma=0.001, svc__kernel=rbf, score=0.856, total=  54.9s\n",
            "[CV] svc__C=1000, svc__gamma=0.001, svc__kernel=rbf ..................\n",
            "[CV]  svc__C=1000, svc__gamma=0.001, svc__kernel=rbf, score=0.853, total=  53.4s\n",
            "[CV] svc__C=1000, svc__gamma=0.001, svc__kernel=rbf ..................\n",
            "[CV]  svc__C=1000, svc__gamma=0.001, svc__kernel=rbf, score=0.842, total=  53.5s\n",
            "[CV] svc__C=1000, svc__gamma=0.001, svc__kernel=rbf ..................\n",
            "[CV]  svc__C=1000, svc__gamma=0.001, svc__kernel=rbf, score=0.851, total=  55.3s\n",
            "[CV] svc__C=1000, svc__gamma=0.001, svc__kernel=rbf ..................\n",
            "[CV]  svc__C=1000, svc__gamma=0.001, svc__kernel=rbf, score=0.852, total=  53.1s\n",
            "[CV] svc__C=1000, svc__gamma=0.0001, svc__kernel=rbf .................\n",
            "[CV]  svc__C=1000, svc__gamma=0.0001, svc__kernel=rbf, score=0.886, total=  53.8s\n",
            "[CV] svc__C=1000, svc__gamma=0.0001, svc__kernel=rbf .................\n",
            "[CV]  svc__C=1000, svc__gamma=0.0001, svc__kernel=rbf, score=0.883, total=  54.4s\n",
            "[CV] svc__C=1000, svc__gamma=0.0001, svc__kernel=rbf .................\n",
            "[CV]  svc__C=1000, svc__gamma=0.0001, svc__kernel=rbf, score=0.880, total=  52.1s\n",
            "[CV] svc__C=1000, svc__gamma=0.0001, svc__kernel=rbf .................\n",
            "[CV]  svc__C=1000, svc__gamma=0.0001, svc__kernel=rbf, score=0.895, total=  52.2s\n",
            "[CV] svc__C=1000, svc__gamma=0.0001, svc__kernel=rbf .................\n",
            "[CV]  svc__C=1000, svc__gamma=0.0001, svc__kernel=rbf, score=0.892, total=  52.2s\n",
            "[CV] svc__C=1000, svc__gamma=1e-05, svc__kernel=rbf ..................\n",
            "[CV]  svc__C=1000, svc__gamma=1e-05, svc__kernel=rbf, score=0.885, total=  44.2s\n",
            "[CV] svc__C=1000, svc__gamma=1e-05, svc__kernel=rbf ..................\n",
            "[CV]  svc__C=1000, svc__gamma=1e-05, svc__kernel=rbf, score=0.877, total=  46.0s\n",
            "[CV] svc__C=1000, svc__gamma=1e-05, svc__kernel=rbf ..................\n",
            "[CV]  svc__C=1000, svc__gamma=1e-05, svc__kernel=rbf, score=0.877, total=  42.3s\n",
            "[CV] svc__C=1000, svc__gamma=1e-05, svc__kernel=rbf ..................\n",
            "[CV]  svc__C=1000, svc__gamma=1e-05, svc__kernel=rbf, score=0.882, total=  49.5s\n",
            "[CV] svc__C=1000, svc__gamma=1e-05, svc__kernel=rbf ..................\n",
            "[CV]  svc__C=1000, svc__gamma=1e-05, svc__kernel=rbf, score=0.889, total=  41.3s\n"
          ],
          "name": "stdout"
        },
        {
          "output_type": "stream",
          "text": [
            "[Parallel(n_jobs=1)]: Done 120 out of 120 | elapsed: 110.4min finished\n"
          ],
          "name": "stderr"
        },
        {
          "output_type": "execute_result",
          "data": {
            "text/plain": [
              "GridSearchCV(cv=5, error_score=nan,\n",
              "             estimator=Pipeline(memory=None,\n",
              "                                steps=[('pca',\n",
              "                                        PCA(copy=True, iterated_power='auto',\n",
              "                                            n_components=150, random_state=42,\n",
              "                                            svd_solver='auto', tol=0.0,\n",
              "                                            whiten=True)),\n",
              "                                       ('svc',\n",
              "                                        SVC(C=1.0, break_ties=False,\n",
              "                                            cache_size=200, class_weight=None,\n",
              "                                            coef0=0.0,\n",
              "                                            decision_function_shape='ovr',\n",
              "                                            degree=3, gamma='scale',\n",
              "                                            kernel='rbf', max_iter=-1,\n",
              "                                            probability=False,\n",
              "                                            random_state=None, shrinking=True,\n",
              "                                            tol=0.001, verbose=False))],\n",
              "                                verbose=False),\n",
              "             iid='deprecated', n_jobs=None,\n",
              "             param_grid={'svc__C': [0.1, 1, 10, 50, 100, 1000],\n",
              "                         'svc__gamma': [0.01, 0.001, 0.0001, 1e-05],\n",
              "                         'svc__kernel': ['rbf']},\n",
              "             pre_dispatch='2*n_jobs', refit=True, return_train_score=False,\n",
              "             scoring=None, verbose=3)"
            ]
          },
          "metadata": {
            "tags": []
          },
          "execution_count": 83
        }
      ]
    },
    {
      "cell_type": "markdown",
      "metadata": {
        "id": "Vip78fP1Ij4J"
      },
      "source": [
        "We define a method that will show us the results of the search."
      ]
    },
    {
      "cell_type": "code",
      "metadata": {
        "id": "4Vwl1qnlyqua"
      },
      "source": [
        "# Show the N best models(Specified in 'n_top' parameter) given results of Gridsearch Hyperparameter Optimization\r\n",
        "def report(results, n_top=3): \r\n",
        "    # Iterate over range between 1 and n_top + 1\r\n",
        "    for i in range(1, n_top + 1):\r\n",
        "        # Get N-best models in results\r\n",
        "        candidates = np.flatnonzero(results['rank_test_score'] == i)\r\n",
        "        # For each candidate, show rank, scores and parameters\r\n",
        "        for candidate in candidates:\r\n",
        "            print(\"Model with rank: {0}\".format(i))\r\n",
        "            print(\"Mean validation score: {0:.3f} (std: {1:.3f})\".format(\r\n",
        "                  results['mean_test_score'][candidate],\r\n",
        "                  results['std_test_score'][candidate]))\r\n",
        "            print(\"Parameters: {0}\".format(results['params'][candidate]))\r\n",
        "            print(\"\")\r\n"
      ],
      "execution_count": null,
      "outputs": []
    },
    {
      "cell_type": "markdown",
      "metadata": {
        "id": "UD1DE0oxI2Bw"
      },
      "source": [
        "Using the method declared prevoiusly, we are going to print the N best models discovered by our Grid Search"
      ]
    },
    {
      "cell_type": "code",
      "metadata": {
        "id": "dpolTFlGyqw9",
        "colab": {
          "base_uri": "https://localhost:8080/"
        },
        "outputId": "2a85d8f2-0368-4405-f75e-5250c79b2ec2"
      },
      "source": [
        "#@title Number of models to get from Grid Search results\r\n",
        "N_best_models = 5 #@param {type:\"slider\", min:1, max:15, step:1}\r\n",
        "\r\n",
        "report(grid_search.cv_results_, n_top = N_best_models)"
      ],
      "execution_count": null,
      "outputs": [
        {
          "output_type": "stream",
          "text": [
            "Model with rank: 1\n",
            "Mean validation score: 0.887 (std: 0.006)\n",
            "Parameters: {'svc__C': 1000, 'svc__gamma': 0.0001, 'svc__kernel': 'rbf'}\n",
            "\n",
            "Model with rank: 2\n",
            "Mean validation score: 0.886 (std: 0.005)\n",
            "Parameters: {'svc__C': 10, 'svc__gamma': 0.001, 'svc__kernel': 'rbf'}\n",
            "\n",
            "Model with rank: 3\n",
            "Mean validation score: 0.883 (std: 0.004)\n",
            "Parameters: {'svc__C': 100, 'svc__gamma': 0.0001, 'svc__kernel': 'rbf'}\n",
            "\n",
            "Model with rank: 4\n",
            "Mean validation score: 0.883 (std: 0.005)\n",
            "Parameters: {'svc__C': 50, 'svc__gamma': 0.001, 'svc__kernel': 'rbf'}\n",
            "\n",
            "Model with rank: 5\n",
            "Mean validation score: 0.882 (std: 0.005)\n",
            "Parameters: {'svc__C': 1000, 'svc__gamma': 1e-05, 'svc__kernel': 'rbf'}\n",
            "\n"
          ],
          "name": "stdout"
        }
      ]
    },
    {
      "cell_type": "markdown",
      "metadata": {
        "id": "G0xRg_fiJNMZ"
      },
      "source": [
        "Then, we get the best model directly from the Grid Search class, and we predict over test data to see the performance of the model."
      ]
    },
    {
      "cell_type": "code",
      "metadata": {
        "id": "PmRmRKitKqGY"
      },
      "source": [
        "#best_model = grid_search.best_estimator_\r\n",
        "best_model = SVC(C = 1000.0, kernel = 'rbf', gamma = 0.0001)\r\n",
        "best_model.fit(X_test, y_test)\r\n",
        "y_pred = best_model.predict(X_test)"
      ],
      "execution_count": null,
      "outputs": []
    },
    {
      "cell_type": "markdown",
      "metadata": {
        "id": "03iLW4L9MdZk"
      },
      "source": [
        "Finally, we show the performance of our best estimator using the classification report provided by Scikit Learn."
      ]
    },
    {
      "cell_type": "code",
      "metadata": {
        "id": "ZOHmGZGdMcpy",
        "colab": {
          "base_uri": "https://localhost:8080/"
        },
        "outputId": "4fe3cde8-eaca-4fe2-9cdc-43663ca9ed13"
      },
      "source": [
        "print(classification_report(y_test, y_pred))"
      ],
      "execution_count": null,
      "outputs": [
        {
          "output_type": "stream",
          "text": [
            "              precision    recall  f1-score   support\n",
            "\n",
            "           0       0.48      0.08      0.14       427\n",
            "           1       0.92      0.95      0.93      5747\n",
            "           2       0.76      0.89      0.82      1261\n",
            "\n",
            "    accuracy                           0.89      7435\n",
            "   macro avg       0.72      0.64      0.63      7435\n",
            "weighted avg       0.87      0.89      0.87      7435\n",
            "\n"
          ],
          "name": "stdout"
        }
      ]
    },
    {
      "cell_type": "markdown",
      "metadata": {
        "id": "2hqaLpnIP7yh"
      },
      "source": [
        "We also display the confusion matrix which shows us the relation between predicted labels by the model and the true label."
      ]
    },
    {
      "cell_type": "code",
      "metadata": {
        "id": "jcEKPW5IOXy2",
        "colab": {
          "base_uri": "https://localhost:8080/",
          "height": 339
        },
        "outputId": "80cec7d3-13a9-44fc-cfef-da4be62b567d"
      },
      "source": [
        "plt.figure(figsize=(6,6))\r\n",
        "mat = confusion_matrix(y_test, y_pred)\r\n",
        "sns.heatmap(mat.T, square=True, annot=True, fmt='d', cbar=False,\r\n",
        "            xticklabels=[0, 1, 2],\r\n",
        "            yticklabels=[0, 1, 2])\r\n",
        "plt.xlabel('True Label')\r\n",
        "plt.ylabel('Predicted Label');"
      ],
      "execution_count": null,
      "outputs": [
        {
          "output_type": "display_data",
          "data": {
            "image/png": "[encoded data removed]",
            "text/plain": [
              "<Figure size 360x360 with 1 Axes>"
            ]
          },
          "metadata": {
            "tags": []
          }
        }
      ]
    },
    {
      "cell_type": "markdown",
      "metadata": {
        "id": "GA1E9SrXQJ04"
      },
      "source": [
        "As we can see in the matrix, the model tends to predict that the most of the tweets belong to the label 1 (Offensive language). \r\n",
        "\r\n",
        "Class 0, which is a minority in our data set, is where our model fails the most, predicting up to 322 tweets belonging to this class as offensive language. This result is normal, since even for any human being it can be difficult to differentiate between the term offensive language and hate speech."
      ]
    },
    {
      "cell_type": "markdown",
      "metadata": {
        "id": "W_8cedyXmkcr"
      },
      "source": [
        "## Naive Bayes"
      ]
    },
    {
      "cell_type": "markdown",
      "metadata": {
        "id": "2LWOtOPgV-Pt"
      },
      "source": [
        "As we can see in the next cell, our data is imbalanced, and as we know from the SVM results, is very hard to differentiate class 0 and class 1. "
      ]
    },
    {
      "cell_type": "code",
      "metadata": {
        "id": "1dYDVqQK6TgA",
        "colab": {
          "base_uri": "https://localhost:8080/"
        },
        "outputId": "efc6c203-274b-4713-b336-bfed6e927983"
      },
      "source": [
        "labeled_tweets['class'].value_counts()"
      ],
      "execution_count": 32,
      "outputs": [
        {
          "output_type": "execute_result",
          "data": {
            "text/plain": [
              "1    19190\n",
              "2     4163\n",
              "0     1430\n",
              "Name: class, dtype: int64"
            ]
          },
          "metadata": {
            "tags": []
          },
          "execution_count": 32
        }
      ]
    },
    {
      "cell_type": "markdown",
      "metadata": {
        "id": "7DsEjGK6t08Y"
      },
      "source": [
        "We try to solve this using synthetic minority oversampling technique.\r\n"
      ]
    },
    {
      "cell_type": "code",
      "metadata": {
        "id": "Zrhh4ho9SfKk",
        "colab": {
          "base_uri": "https://localhost:8080/"
        },
        "outputId": "ceb4d48b-a4d4-46e9-c1ce-31d5a1484826"
      },
      "source": [
        "smote = SMOTE()\r\n",
        "\r\n",
        "# fit predictor and target variable\r\n",
        "X_smote, y_smote = smote.fit_resample(new_X, y)\r\n",
        "\r\n",
        "print('Original dataset shape', Counter(y))\r\n",
        "print('Resample dataset shape', Counter(y_smote))"
      ],
      "execution_count": 33,
      "outputs": [
        {
          "output_type": "stream",
          "text": [
            "/usr/local/lib/python3.6/dist-packages/sklearn/utils/deprecation.py:87: FutureWarning:\n",
            "\n",
            "Function safe_indexing is deprecated; safe_indexing is deprecated in version 0.22 and will be removed in version 0.24.\n",
            "\n",
            "/usr/local/lib/python3.6/dist-packages/sklearn/utils/deprecation.py:87: FutureWarning:\n",
            "\n",
            "Function safe_indexing is deprecated; safe_indexing is deprecated in version 0.22 and will be removed in version 0.24.\n",
            "\n"
          ],
          "name": "stderr"
        },
        {
          "output_type": "stream",
          "text": [
            "Original dataset shape Counter({1: 19190, 2: 4163, 0: 1430})\n",
            "Resample dataset shape Counter({2: 19190, 1: 19190, 0: 19190})\n"
          ],
          "name": "stdout"
        }
      ]
    },
    {
      "cell_type": "markdown",
      "metadata": {
        "id": "MmXmBPPZTMNs"
      },
      "source": [
        "SVM results aren't bad, but we are going to improve it. For this porpuse, we are going to use Naive Bayes models, which are a group of fast and simple classification algorithms that are often suitable for very high-dimensional datasets like ours.\r\n",
        "\r\n"
      ]
    },
    {
      "cell_type": "code",
      "metadata": {
        "id": "SpWfOTwa6TgA",
        "colab": {
          "base_uri": "https://localhost:8080/",
          "height": 1000
        },
        "outputId": "c970f980-2d70-4e03-eae3-07c8fae46f83"
      },
      "source": [
        "from sklearn.utils.multiclass import unique_labels\r\n",
        "# We define different classification models at NaiveBayes\r\n",
        "names = [\"GaussianNB\", \"MultiNomialNB\", 'BernouilliNB', 'ComplementNB']\r\n",
        "classifiers = [GaussianNB(), MultinomialNB(), BernoulliNB(), ComplementNB()]\r\n",
        "\r\n",
        "kf = KFold(n_splits = 10, shuffle = False)\r\n",
        "\r\n",
        "# Iterate over the classificators\r\n",
        "for name, classifier in zip(names, classifiers):\r\n",
        "  classifier.fit(X_smote, y_smote)\r\n",
        "\r\n",
        "  \r\n",
        "\r\n",
        "  score = classifier.score(X_test, y_test) #Returns the mean accuracy on the given test data and labels.\r\n",
        "\r\n",
        "  y_pred = classifier.predict(X_test) #Returns model predict to X_test.\r\n",
        "  \r\n",
        "  print(classification_report(y_test, y_pred)) #we show the performance of our best estimator using the classification report provided by Scikit Learn.\r\n",
        "\r\n",
        "  #We also display the confusion matrix which shows us the relation between predicted labels by the model and the true label.\r\n",
        "  plt.figure(figsize=(6,6))\r\n",
        "  mat = confusion_matrix(y_test, y_pred)\r\n",
        "  sns.heatmap(mat.T, square=True, annot=True, fmt='d', cbar=False,\r\n",
        "              xticklabels=[0, 1, 2],\r\n",
        "              yticklabels=[0, 1, 2])\r\n",
        "  plt.xlabel('True Label')\r\n",
        "  plt.ylabel('Predicted Label');\r\n",
        "\r\n",
        "  \r\n",
        "\r\n"
      ],
      "execution_count": 34,
      "outputs": [
        {
          "output_type": "stream",
          "text": [
            "              precision    recall  f1-score   support\n",
            "\n",
            "           0       1.00      0.00      0.01       427\n",
            "           1       0.53      0.00      0.00      5747\n",
            "           2       0.17      1.00      0.29      1261\n",
            "\n",
            "    accuracy                           0.17      7435\n",
            "   macro avg       0.57      0.34      0.10      7435\n",
            "weighted avg       0.49      0.17      0.05      7435\n",
            "\n",
            "              precision    recall  f1-score   support\n",
            "\n",
            "           0       0.80      0.01      0.02       427\n",
            "           1       0.93      0.81      0.86      5747\n",
            "           2       0.49      0.95      0.65      1261\n",
            "\n",
            "    accuracy                           0.78      7435\n",
            "   macro avg       0.74      0.59      0.51      7435\n",
            "weighted avg       0.84      0.78      0.78      7435\n",
            "\n",
            "              precision    recall  f1-score   support\n",
            "\n",
            "           0       0.56      0.70      0.62       427\n",
            "           1       0.93      0.93      0.93      5747\n",
            "           2       0.85      0.77      0.81      1261\n",
            "\n",
            "    accuracy                           0.89      7435\n",
            "   macro avg       0.78      0.80      0.79      7435\n",
            "weighted avg       0.90      0.89      0.90      7435\n",
            "\n",
            "              precision    recall  f1-score   support\n",
            "\n",
            "           0       0.80      0.01      0.02       427\n",
            "           1       0.96      0.54      0.69      5747\n",
            "           2       0.29      0.98      0.45      1261\n",
            "\n",
            "    accuracy                           0.58      7435\n",
            "   macro avg       0.69      0.51      0.39      7435\n",
            "weighted avg       0.84      0.58      0.61      7435\n",
            "\n"
          ],
          "name": "stdout"
        },
        {
          "output_type": "display_data",
          "data": {
            "image/png": "[encoded data removed]",
            "text/plain": [
              "<Figure size 432x432 with 1 Axes>"
            ]
          },
          "metadata": {
            "tags": []
          }
        },
        {
          "output_type": "display_data",
          "data": {
            "image/png": "[encoded data removed]",
            "text/plain": [
              "<Figure size 432x432 with 1 Axes>"
            ]
          },
          "metadata": {
            "tags": []
          }
        },
        {
          "output_type": "display_data",
          "data": {
            "image/png": "[encoded data removed]",
            "text/plain": [
              "<Figure size 432x432 with 1 Axes>"
            ]
          },
          "metadata": {
            "tags": []
          }
        },
        {
          "output_type": "display_data",
          "data": {
            "image/png": "[encoded data removed]",
            "text/plain": [
              "<Figure size 432x432 with 1 Axes>"
            ]
          },
          "metadata": {
            "tags": []
          }
        }
      ]
    },
    {
      "cell_type": "code",
      "metadata": {
        "id": "DhdUobv8xHVc"
      },
      "source": [
        "from sklearn import neighbors\r\n",
        "from sklearn.metrics import mean_absolute_error\r\n",
        "for i, weights in enumerate(['uniform', 'distance']):\r\n",
        "   total_scores = []\r\n",
        "\r\n",
        "   for n_neighbors in range(1,50):\r\n",
        "\r\n",
        "       fold_accuracy = []\r\n",
        "\r\n",
        "       knn_model = neighbors.KNeighborsRegressor(n_neighbors, weights=weights)\r\n",
        "\r\n",
        "       # We validate the model with cross-validation\r\n",
        "       for train_fold, validation_fold in kf.split(X_smote):\r\n",
        "\r\n",
        "          # Train the model\r\n",
        "          knn_model.fit(X = X_smote, y = y_smote)\r\n",
        "\r\n",
        "          # Evaluate the model\r\n",
        "          y_pred = knn_model.predict(X = X_test)\r\n",
        "          mae = mean_absolute_error(y_test, y_pred)\r\n",
        "          fold_accuracy.append(mae)\r\n",
        "\r\n",
        "       total_scores.append(sum(fold_accuracy)/len(fold_accuracy))\r\n",
        "   \r\n",
        "   plt.plot(range(1,len(total_scores)+1), total_scores, marker='o', label=weights)\r\n",
        "   print ('Minimum Value ' +  weights + \" : \" +  str(min(total_scores)) +\" (\" + str(np.argmin(total_scores) + 1) + \")\")\r\n",
        "   plt.ylabel('Mean Absolute Error')      \r\n",
        "    \r\n",
        "plt.legend()\r\n",
        "plt.show() "
      ],
      "execution_count": null,
      "outputs": []
    },
    {
      "cell_type": "markdown",
      "metadata": {
        "id": "kgLfkR2XyDwM"
      },
      "source": [
        "# Utility cells for handle intermediate data"
      ]
    },
    {
      "cell_type": "markdown",
      "metadata": {
        "id": "tIBxEBCK1e6o"
      },
      "source": [
        "Pre-processing tweets is a very time consuming process. That's why we had to find a way to store intermediate data, the pre-processed tweets. For this, we use the Pickle library, which allows us to download Python structures in a proprietary format, and reload them later in a very simple way. In the next cell we can find the code we use to export the preprocessed tweets."
      ]
    },
    {
      "cell_type": "code",
      "metadata": {
        "id": "Oald8PQkeFM-"
      },
      "source": [
        "with open('preprocessed_tweets.pickle', 'wb') as handle:\r\n",
        "    pickle.dump(preprocessed_tweets, handle, protocol=pickle.HIGHEST_PROTOCOL)\r\n",
        "\r\n",
        "files.download('preprocessed_tweets.pickle')"
      ],
      "execution_count": null,
      "outputs": []
    },
    {
      "cell_type": "code",
      "metadata": {
        "id": "kiqqVM6xHwpS"
      },
      "source": [
        "with open('other_features.pickle', 'wb') as handle:\r\n",
        "    pickle.dump(other_features, handle, protocol=pickle.HIGHEST_PROTOCOL)\r\n",
        "\r\n",
        "files.download('other_features.pickle')"
      ],
      "execution_count": null,
      "outputs": []
    },
    {
      "cell_type": "code",
      "metadata": {
        "id": "rgLC7H47P2vY",
        "colab": {
          "base_uri": "https://localhost:8080/",
          "height": 17
        },
        "outputId": "e87bec49-baba-4aad-a2c3-11532fd3496e"
      },
      "source": [
        "with open('vectorizer_ngrams.pickle', 'wb') as handle:\r\n",
        "    pickle.dump(vectorizer_ngrams, handle, protocol=pickle.HIGHEST_PROTOCOL)\r\n",
        "\r\n",
        "files.download('vectorizer_ngrams.pickle')"
      ],
      "execution_count": null,
      "outputs": [
        {
          "output_type": "display_data",
          "data": {
            "application/javascript": [
              "\n",
              "    async function download(id, filename, size) {\n",
              "      if (!google.colab.kernel.accessAllowed) {\n",
              "        return;\n",
              "      }\n",
              "      const div = document.createElement('div');\n",
              "      const label = document.createElement('label');\n",
              "      label.textContent = `Downloading \"${filename}\": `;\n",
              "      div.appendChild(label);\n",
              "      const progress = document.createElement('progress');\n",
              "      progress.max = size;\n",
              "      div.appendChild(progress);\n",
              "      document.body.appendChild(div);\n",
              "\n",
              "      const buffers = [];\n",
              "      let downloaded = 0;\n",
              "\n",
              "      const channel = await google.colab.kernel.comms.open(id);\n",
              "      // Send a message to notify the kernel that we're ready.\n",
              "      channel.send({})\n",
              "\n",
              "      for await (const message of channel.messages) {\n",
              "        // Send a message to notify the kernel that we're ready.\n",
              "        channel.send({})\n",
              "        if (message.buffers) {\n",
              "          for (const buffer of message.buffers) {\n",
              "            buffers.push(buffer);\n",
              "            downloaded += buffer.byteLength;\n",
              "            progress.value = downloaded;\n",
              "          }\n",
              "        }\n",
              "      }\n",
              "      const blob = new Blob(buffers, {type: 'application/binary'});\n",
              "      const a = document.createElement('a');\n",
              "      a.href = window.URL.createObjectURL(blob);\n",
              "      a.download = filename;\n",
              "      div.appendChild(a);\n",
              "      a.click();\n",
              "      div.remove();\n",
              "    }\n",
              "  "
            ],
            "text/plain": [
              "<IPython.core.display.Javascript object>"
            ]
          },
          "metadata": {
            "tags": []
          }
        },
        {
          "output_type": "display_data",
          "data": {
            "application/javascript": [
              "download(\"download_76598858-8d08-44ad-8a1d-b3d35edc79b6\", \"vectorizer_ngrams.pickle\", 5747773)"
            ],
            "text/plain": [
              "<IPython.core.display.Javascript object>"
            ]
          },
          "metadata": {
            "tags": []
          }
        }
      ]
    },
    {
      "cell_type": "markdown",
      "metadata": {
        "id": "qtBoYEcB1f-N"
      },
      "source": [
        "In this last cell, we can see the code we used to load this .pickle file back into the notebook."
      ]
    },
    {
      "cell_type": "code",
      "metadata": {
        "id": "j8Edo0cqv3sa",
        "colab": {
          "resources": {
            "http://localhost:8080/nbextensions/google.colab/files.js": {
              "data": "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",
              "ok": true,
              "headers": [
                [
                  "content-type",
                  "application/javascript"
                ]
              ],
              "status": 200,
              "status_text": ""
            }
          },
          "base_uri": "https://localhost:8080/",
          "height": 89
        },
        "outputId": "8d5a9860-3b15-404e-8dbe-5dc207b34d79"
      },
      "source": [
        "print(\"Please, upload 'preprocessed_tweets.pickle' file\")\r\n",
        "uploaded = files.upload()\r\n",
        "\r\n",
        "file_name = \"preprocessed_tweets.pickle\"\r\n",
        "\r\n",
        "with open(file_name, 'rb') as f:\r\n",
        "  preprocessed_tweets = pickle.load(f)"
      ],
      "execution_count": 12,
      "outputs": [
        {
          "output_type": "stream",
          "text": [
            "Please, upload 'preprocessed_tweets.pickle' file\n"
          ],
          "name": "stdout"
        },
        {
          "output_type": "display_data",
          "data": {
            "text/html": [
              "\n",
              "     <input type=\"file\" id=\"files-a7d12d94-6f00-44ee-bfa8-dae11859713b\" name=\"files[]\" multiple disabled\n",
              "        style=\"border:none\" />\n",
              "     <output id=\"result-a7d12d94-6f00-44ee-bfa8-dae11859713b\">\n",
              "      Upload widget is only available when the cell has been executed in the\n",
              "      current browser session. Please rerun this cell to enable.\n",
              "      </output>\n",
              "      <script src=\"/nbextensions/google.colab/files.js\"></script> "
            ],
            "text/plain": [
              "<IPython.core.display.HTML object>"
            ]
          },
          "metadata": {
            "tags": []
          }
        },
        {
          "output_type": "stream",
          "text": [
            "Saving preprocessed_tweets.pickle to preprocessed_tweets.pickle\n"
          ],
          "name": "stdout"
        }
      ]
    },
    {
      "cell_type": "code",
      "metadata": {
        "colab": {
          "resources": {
            "http://localhost:8080/nbextensions/google.colab/files.js": {
              "data": "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",
              "ok": true,
              "headers": [
                [
                  "content-type",
                  "application/javascript"
                ]
              ],
              "status": 200,
              "status_text": ""
            }
          },
          "base_uri": "https://localhost:8080/",
          "height": 89
        },
        "id": "7QNH6Pzbztcv",
        "outputId": "ebf845f7-3477-4649-ed4a-eae8931ae130"
      },
      "source": [
        "print(\"Please, upload 'other_features.pickle' file\")\r\n",
        "uploaded = files.upload()\r\n",
        "\r\n",
        "file_name = \"other_features.pickle\"\r\n",
        "\r\n",
        "with open(file_name, 'rb') as f:\r\n",
        "  other_features = pickle.load(f)"
      ],
      "execution_count": 13,
      "outputs": [
        {
          "output_type": "stream",
          "text": [
            "Please, upload 'other_features.pickle' file\n"
          ],
          "name": "stdout"
        },
        {
          "output_type": "display_data",
          "data": {
            "text/html": [
              "\n",
              "     <input type=\"file\" id=\"files-b03e5112-9c60-453e-9bf2-8ca608ecd174\" name=\"files[]\" multiple disabled\n",
              "        style=\"border:none\" />\n",
              "     <output id=\"result-b03e5112-9c60-453e-9bf2-8ca608ecd174\">\n",
              "      Upload widget is only available when the cell has been executed in the\n",
              "      current browser session. Please rerun this cell to enable.\n",
              "      </output>\n",
              "      <script src=\"/nbextensions/google.colab/files.js\"></script> "
            ],
            "text/plain": [
              "<IPython.core.display.HTML object>"
            ]
          },
          "metadata": {
            "tags": []
          }
        },
        {
          "output_type": "stream",
          "text": [
            "Saving other_features.pickle to other_features.pickle\n"
          ],
          "name": "stdout"
        }
      ]
    },
    {
      "cell_type": "code",
      "metadata": {
        "id": "JQo-1NiVIMm3"
      },
      "source": [
        "print(\"Please, upload 'other_features_sentiments.pickle' file\")\r\n",
        "uploaded = files.upload()\r\n",
        "\r\n",
        "file_name = \"other_features_sentiments.pickle\"\r\n",
        "\r\n",
        "with open(file_name, 'rb') as f:\r\n",
        "  other_features = pickle.load(f)"
      ],
      "execution_count": null,
      "outputs": []
    },
    {
      "cell_type": "code",
      "metadata": {
        "id": "E_gKKjAbP90O",
        "colab": {
          "resources": {
            "http://localhost:8080/nbextensions/google.colab/files.js": {
              "data": "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",
              "ok": true,
              "headers": [
                [
                  "content-type",
                  "application/javascript"
                ]
              ],
              "status": 200,
              "status_text": ""
            }
          },
          "base_uri": "https://localhost:8080/",
          "height": 86
        },
        "outputId": "cc0b5923-d871-432a-dc13-b902d15bf419"
      },
      "source": [
        "print(\"Please, upload 'vectorizer_ngrams.pickle' file\")\r\n",
        "uploaded = files.upload()\r\n",
        "\r\n",
        "file_name = \"vectorizer_ngrams.pickle\"\r\n",
        "\r\n",
        "with open(file_name, 'rb') as f:\r\n",
        "  vectorizer_ngrams = pickle.load(f)"
      ],
      "execution_count": null,
      "outputs": [
        {
          "output_type": "stream",
          "text": [
            "Please, upload 'vectorizer_ngrams.pickle' file\n"
          ],
          "name": "stdout"
        },
        {
          "output_type": "display_data",
          "data": {
            "text/html": [
              "\n",
              "     <input type=\"file\" id=\"files-d6a9c643-13cb-4948-8ff3-3712eca4284b\" name=\"files[]\" multiple disabled\n",
              "        style=\"border:none\" />\n",
              "     <output id=\"result-d6a9c643-13cb-4948-8ff3-3712eca4284b\">\n",
              "      Upload widget is only available when the cell has been executed in the\n",
              "      current browser session. Please rerun this cell to enable.\n",
              "      </output>\n",
              "      <script src=\"/nbextensions/google.colab/files.js\"></script> "
            ],
            "text/plain": [
              "<IPython.core.display.HTML object>"
            ]
          },
          "metadata": {
            "tags": []
          }
        },
        {
          "output_type": "stream",
          "text": [
            "Saving vectorizer_ngrams.pickle to vectorizer_ngrams.pickle\n"
          ],
          "name": "stdout"
        }
      ]
    },
    {
      "cell_type": "markdown",
      "metadata": {
        "id": "W2ph1gGU9PFw"
      },
      "source": [
        "We upload the hatred tweets labeled dataset which we'll use to train our models."
      ]
    },
    {
      "cell_type": "code",
      "metadata": {
        "colab": {
          "resources": {
            "http://localhost:8080/nbextensions/google.colab/files.js": {
              "data": "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",
              "ok": true,
              "headers": [
                [
                  "content-type",
                  "application/javascript"
                ]
              ],
              "status": 200,
              "status_text": ""
            }
          },
          "base_uri": "https://localhost:8080/",
          "height": 293
        },
        "id": "k2_g6yTUJuvd",
        "outputId": "3c9ce54f-8604-4d93-94c6-78ec82e7264f"
      },
      "source": [
        "print(\"Please, upload 'labeled_data.csv' file\")\n",
        "labeled_tweets = upload_files(['Unnamed: 0'])\n",
        "labeled_tweets.head()"
      ],
      "execution_count": null,
      "outputs": [
        {
          "output_type": "stream",
          "text": [
            "Please, upload 'labeled_data.csv' file\n"
          ],
          "name": "stdout"
        },
        {
          "output_type": "display_data",
          "data": {
            "text/html": [
              "\n",
              "     <input type=\"file\" id=\"files-22083212-6111-46de-a866-efbc1916c17d\" name=\"files[]\" multiple disabled\n",
              "        style=\"border:none\" />\n",
              "     <output id=\"result-22083212-6111-46de-a866-efbc1916c17d\">\n",
              "      Upload widget is only available when the cell has been executed in the\n",
              "      current browser session. Please rerun this cell to enable.\n",
              "      </output>\n",
              "      <script src=\"/nbextensions/google.colab/files.js\"></script> "
            ],
            "text/plain": [
              "<IPython.core.display.HTML object>"
            ]
          },
          "metadata": {
            "tags": []
          }
        },
        {
          "output_type": "stream",
          "text": [
            "Saving labeled_data.csv to labeled_data.csv\n",
            "User uploaded file \"labeled_data.csv\" with length 2546446 bytes\n"
          ],
          "name": "stdout"
        },
        {
          "output_type": "execute_result",
          "data": {
            "text/html": [
              "<div>\n",
              "<style scoped>\n",
              "    .dataframe tbody tr th:only-of-type {\n",
              "        vertical-align: middle;\n",
              "    }\n",
              "\n",
              "    .dataframe tbody tr th {\n",
              "        vertical-align: top;\n",
              "    }\n",
              "\n",
              "    .dataframe thead th {\n",
              "        text-align: right;\n",
              "    }\n",
              "</style>\n",
              "<table border=\"1\" class=\"dataframe\">\n",
              "  <thead>\n",
              "    <tr style=\"text-align: right;\">\n",
              "      <th></th>\n",
              "      <th>count</th>\n",
              "      <th>hate_speech</th>\n",
              "      <th>offensive_language</th>\n",
              "      <th>neither</th>\n",
              "      <th>class</th>\n",
              "      <th>tweet</th>\n",
              "    </tr>\n",
              "  </thead>\n",
              "  <tbody>\n",
              "    <tr>\n",
              "      <th>0</th>\n",
              "      <td>3</td>\n",
              "      <td>0</td>\n",
              "      <td>0</td>\n",
              "      <td>3</td>\n",
              "      <td>2</td>\n",
              "      <td>!!! RT @mayasolovely: As a woman you shouldn't...</td>\n",
              "    </tr>\n",
              "    <tr>\n",
              "      <th>1</th>\n",
              "      <td>3</td>\n",
              "      <td>0</td>\n",
              "      <td>3</td>\n",
              "      <td>0</td>\n",
              "      <td>1</td>\n",
              "      <td>!!!!! RT @mleew17: boy dats cold...tyga dwn ba...</td>\n",
              "    </tr>\n",
              "    <tr>\n",
              "      <th>2</th>\n",
              "      <td>3</td>\n",
              "      <td>0</td>\n",
              "      <td>3</td>\n",
              "      <td>0</td>\n",
              "      <td>1</td>\n",
              "      <td>!!!!!!! RT @UrKindOfBrand Dawg!!!! RT @80sbaby...</td>\n",
              "    </tr>\n",
              "    <tr>\n",
              "      <th>3</th>\n",
              "      <td>3</td>\n",
              "      <td>0</td>\n",
              "      <td>2</td>\n",
              "      <td>1</td>\n",
              "      <td>1</td>\n",
              "      <td>!!!!!!!!! RT @C_G_Anderson: @viva_based she lo...</td>\n",
              "    </tr>\n",
              "    <tr>\n",
              "      <th>4</th>\n",
              "      <td>6</td>\n",
              "      <td>0</td>\n",
              "      <td>6</td>\n",
              "      <td>0</td>\n",
              "      <td>1</td>\n",
              "      <td>!!!!!!!!!!!!! RT @ShenikaRoberts: The shit you...</td>\n",
              "    </tr>\n",
              "  </tbody>\n",
              "</table>\n",
              "</div>"
            ],
            "text/plain": [
              "   count  hate_speech  ...  class                                              tweet\n",
              "0      3            0  ...      2  !!! RT @mayasolovely: As a woman you shouldn't...\n",
              "1      3            0  ...      1  !!!!! RT @mleew17: boy dats cold...tyga dwn ba...\n",
              "2      3            0  ...      1  !!!!!!! RT @UrKindOfBrand Dawg!!!! RT @80sbaby...\n",
              "3      3            0  ...      1  !!!!!!!!! RT @C_G_Anderson: @viva_based she lo...\n",
              "4      6            0  ...      1  !!!!!!!!!!!!! RT @ShenikaRoberts: The shit you...\n",
              "\n",
              "[5 rows x 6 columns]"
            ]
          },
          "metadata": {
            "tags": []
          },
          "execution_count": 6
        }
      ]
    },
    {
      "cell_type": "markdown",
      "metadata": {
        "id": "XXZU_t2zKG2F"
      },
      "source": [
        "We upload a big text that will allow us to apply spelling correction."
      ]
    },
    {
      "cell_type": "code",
      "metadata": {
        "colab": {
          "resources": {
            "http://localhost:8080/nbextensions/google.colab/files.js": {
              "data": "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",
              "ok": true,
              "headers": [
                [
                  "content-type",
                  "application/javascript"
                ]
              ],
              "status": 200,
              "status_text": ""
            }
          },
          "base_uri": "https://localhost:8080/",
          "height": 91
        },
        "id": "2xYrTMpuQadw",
        "outputId": "8fb20432-6bca-4a53-d078-ed76cbe397e1"
      },
      "source": [
        "print(\"Please, upload 'big.txt' file\")\n",
        "uploaded = files.upload()\n",
        "\n",
        "file_name = \"big.txt\"\n",
        "raw = uploaded[file_name].decode(\"utf-8\")"
      ],
      "execution_count": null,
      "outputs": [
        {
          "output_type": "stream",
          "text": [
            "Please, upload 'big.txt' file\n"
          ],
          "name": "stdout"
        },
        {
          "output_type": "display_data",
          "data": {
            "text/html": [
              "\n",
              "     <input type=\"file\" id=\"files-dac812c3-7b9c-433a-93ff-99aee520c5be\" name=\"files[]\" multiple disabled\n",
              "        style=\"border:none\" />\n",
              "     <output id=\"result-dac812c3-7b9c-433a-93ff-99aee520c5be\">\n",
              "      Upload widget is only available when the cell has been executed in the\n",
              "      current browser session. Please rerun this cell to enable.\n",
              "      </output>\n",
              "      <script src=\"/nbextensions/google.colab/files.js\"></script> "
            ],
            "text/plain": [
              "<IPython.core.display.HTML object>"
            ]
          },
          "metadata": {
            "tags": []
          }
        },
        {
          "output_type": "stream",
          "text": [
            "Saving big.txt to big.txt\n"
          ],
          "name": "stdout"
        }
      ]
    },
    {
      "cell_type": "markdown",
      "metadata": {
        "id": "jUvGP1SZKY_1"
      },
      "source": [
        "We also uploaded a dictionary that contains equivalents between concrete  N-grams and hatred."
      ]
    },
    {
      "cell_type": "code",
      "metadata": {
        "colab": {
          "resources": {
            "http://localhost:8080/nbextensions/google.colab/files.js": {
              "data": "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",
              "ok": true,
              "headers": [
                [
                  "content-type",
                  "application/javascript"
                ]
              ],
              "status": 200,
              "status_text": ""
            }
          },
          "base_uri": "https://localhost:8080/",
          "height": 276
        },
        "id": "YidY7-WnKXid",
        "outputId": "c738f33a-cb6f-4639-9d25-3595406a4d05"
      },
      "source": [
        "print(\"Please, upload 'refined_ngram_dict.csv' file\")\n",
        "ngram_dict = upload_files()\n",
        "ngram_dict.head()"
      ],
      "execution_count": null,
      "outputs": [
        {
          "output_type": "stream",
          "text": [
            "Please, upload 'refined_ngram_dict.csv' file\n"
          ],
          "name": "stdout"
        },
        {
          "output_type": "display_data",
          "data": {
            "text/html": [
              "\n",
              "     <input type=\"file\" id=\"files-26cb8e96-a9a0-405d-8f41-1a600bcfa2fb\" name=\"files[]\" multiple disabled\n",
              "        style=\"border:none\" />\n",
              "     <output id=\"result-26cb8e96-a9a0-405d-8f41-1a600bcfa2fb\">\n",
              "      Upload widget is only available when the cell has been executed in the\n",
              "      current browser session. Please rerun this cell to enable.\n",
              "      </output>\n",
              "      <script src=\"/nbextensions/google.colab/files.js\"></script> "
            ],
            "text/plain": [
              "<IPython.core.display.HTML object>"
            ]
          },
          "metadata": {
            "tags": []
          }
        },
        {
          "output_type": "stream",
          "text": [
            "Saving refined_ngram_dict.csv to refined_ngram_dict.csv\n",
            "User uploaded file \"refined_ngram_dict.csv\" with length 3178 bytes\n"
          ],
          "name": "stdout"
        },
        {
          "output_type": "execute_result",
          "data": {
            "text/html": [
              "<div>\n",
              "<style scoped>\n",
              "    .dataframe tbody tr th:only-of-type {\n",
              "        vertical-align: middle;\n",
              "    }\n",
              "\n",
              "    .dataframe tbody tr th {\n",
              "        vertical-align: top;\n",
              "    }\n",
              "\n",
              "    .dataframe thead th {\n",
              "        text-align: right;\n",
              "    }\n",
              "</style>\n",
              "<table border=\"1\" class=\"dataframe\">\n",
              "  <thead>\n",
              "    <tr style=\"text-align: right;\">\n",
              "      <th></th>\n",
              "      <th>ngram</th>\n",
              "      <th>prophate</th>\n",
              "    </tr>\n",
              "  </thead>\n",
              "  <tbody>\n",
              "    <tr>\n",
              "      <th>0</th>\n",
              "      <td>allah akbar</td>\n",
              "      <td>0.870</td>\n",
              "    </tr>\n",
              "    <tr>\n",
              "      <th>1</th>\n",
              "      <td>blacks</td>\n",
              "      <td>0.583</td>\n",
              "    </tr>\n",
              "    <tr>\n",
              "      <th>2</th>\n",
              "      <td>chink</td>\n",
              "      <td>0.467</td>\n",
              "    </tr>\n",
              "    <tr>\n",
              "      <th>3</th>\n",
              "      <td>chinks</td>\n",
              "      <td>0.542</td>\n",
              "    </tr>\n",
              "    <tr>\n",
              "      <th>4</th>\n",
              "      <td>dykes</td>\n",
              "      <td>0.602</td>\n",
              "    </tr>\n",
              "  </tbody>\n",
              "</table>\n",
              "</div>"
            ],
            "text/plain": [
              "         ngram  prophate\n",
              "0  allah akbar     0.870\n",
              "1       blacks     0.583\n",
              "2        chink     0.467\n",
              "3       chinks     0.542\n",
              "4        dykes     0.602"
            ]
          },
          "metadata": {
            "tags": []
          },
          "execution_count": 7
        }
      ]
    }
  ]
}